{
 "cells": [
  {
   "cell_type": "markdown",
   "id": "888a82b2",
   "metadata": {
    "pycharm": {
     "name": "#%% md\n"
    }
   },
   "source": [
    "Here I am creating zip files that can be uses for exploring the dataset at trace level"
   ]
  },
  {
   "cell_type": "code",
   "execution_count": 1,
   "id": "309d8d96",
   "metadata": {
    "pycharm": {
     "name": "#%%\n"
    }
   },
   "outputs": [
    {
     "name": "stderr",
     "output_type": "stream",
     "text": [
      "C:\\Users\\gianl\\anaconda3\\envs\\MasterThesis\\lib\\site-packages\\joblib\\externals\\loky\\process_executor.py:700: UserWarning: A worker stopped while some jobs were given to the executor. This can be caused by a too short worker timeout or by a memory leak.\n",
      "  warnings.warn(\n"
     ]
    }
   ],
   "source": [
    "import zipfile\n",
    "from joblib import Parallel, delayed\n",
    "import os\n",
    "import tarfile\n",
    "import pandas as pd\n",
    "import numpy as np\n",
    "import time\n",
    "start = time.time()\n",
    "to_skip = tuple([2,57,60,64,66,75,98,101,125,129,130,144]) # corrupted files\n",
    "\n",
    "def process_file(i):\n",
    "    if to_skip.count(i) > 0:\n",
    "        return\n",
    "    \n",
    "    \n",
    "    # open file\n",
    "    file = tarfile.open(f'MSCallGraph_{i}.tar.gz')\n",
    "\n",
    "    # extracting file\n",
    "    file.extractall('./')\n",
    "\n",
    "    file.close()\n",
    "    df = pd.read_csv(f'MSCallGraph_{i}.csv')\n",
    "    df=df.drop(['Unnamed: 0','timestamp','rpcid','interface','rt','rpctype'],axis=1)\n",
    "    df = df.replace('(?)', np.NaN)\n",
    "    df = df.replace('', np.NaN)\n",
    "    df = df.replace('NAN', np.NaN)\n",
    "    df = df.dropna()\n",
    "    \n",
    "    filename = f'MSCallGraph_{i}_traces_exploration.csv'\n",
    "    df.to_csv(filename,index=False)\n",
    "    \n",
    "    os.remove(f'MSCallGraph_{i}.csv')\n",
    "    # Define the file name and the zip file name\n",
    "    \n",
    "    zipfilename = f'MSCallGraph_{i}_traces_exploration.zip'\n",
    "\n",
    "    # Create a ZipFile object and add the file to it\n",
    "    with zipfile.ZipFile(zipfilename, 'w', compresslevel=9, compression=zipfile.ZIP_LZMA) as zip:\n",
    "        zip.write(filename)\n",
    "    os.remove(filename)\n",
    "# Parallelize the loop using joblib\n",
    "num_cores = int(os.cpu_count()/4)  # number of cores to use\n",
    "results = Parallel(n_jobs=num_cores)(delayed(process_file)(i) for i in range(0, 145))\n"
   ]
  },
  {
   "cell_type": "code",
   "execution_count": 2,
   "id": "803dbfb6",
   "metadata": {
    "pycharm": {
     "name": "#%%\n"
    }
   },
   "outputs": [
    {
     "data": {
      "text/plain": [
       "6275.314833402634"
      ]
     },
     "execution_count": 2,
     "metadata": {},
     "output_type": "execute_result"
    }
   ],
   "source": [
    "duration = time.time() -start\n",
    "duration"
   ]
  }
 ],
 "metadata": {
  "kernelspec": {
   "display_name": "Python 3 (ipykernel)",
   "language": "python",
   "name": "python3"
  },
  "language_info": {
   "codemirror_mode": {
    "name": "ipython",
    "version": 3
   },
   "file_extension": ".py",
   "mimetype": "text/x-python",
   "name": "python",
   "nbconvert_exporter": "python",
   "pygments_lexer": "ipython3",
   "version": "3.9.16"
  }
 },
 "nbformat": 4,
 "nbformat_minor": 5
}