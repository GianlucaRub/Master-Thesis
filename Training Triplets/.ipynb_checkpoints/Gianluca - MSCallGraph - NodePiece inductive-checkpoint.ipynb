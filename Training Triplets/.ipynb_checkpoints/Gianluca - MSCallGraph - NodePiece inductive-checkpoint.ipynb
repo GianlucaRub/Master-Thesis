{
 "cells": [
  {
   "cell_type": "code",
   "execution_count": 1,
   "id": "d30eabec",
   "metadata": {},
   "outputs": [],
   "source": [
    "from pykeen.pipeline import pipeline\n",
    "from pykeen.datasets import Nations, get_dataset\n",
    "import torch\n",
    "from pykeen.evaluation import evaluate, RankBasedEvaluator\n",
    "from pykeen.metrics.ranking import HitsAtK\n",
    "import pandas as pd\n",
    "\n",
    "\n",
    "import logging\n",
    "from pathlib import Path\n",
    "\n",
    "import click\n",
    "import more_click\n",
    "import torch\n",
    "from pykeen.evaluation import RankBasedEvaluator\n",
    "from pykeen.losses import NSSALoss,CrossEntropyLoss\n",
    "from pykeen.models.inductive import InductiveNodePiece, InductiveNodePieceGNN\n",
    "from pykeen.trackers import ConsoleResultTracker, WANDBResultTracker\n",
    "from pykeen.training import SLCWATrainingLoop\n",
    "from pykeen.typing import TESTING, TRAINING, VALIDATION\n",
    "from pykeen.utils import resolve_device, set_random_seed\n",
    "from torch.optim import Adam\n",
    "\n",
    "\n",
    "from pykeen.metrics.ranking import HitsAtK\n",
    "\n",
    "from pathlib import Path\n",
    "\n",
    "from pykeen.datasets.inductive.base import DisjointInductivePathDataset\n",
    "from typing_extensions import Literal\n",
    "import os\n",
    "from pykeen.hpo import hpo_pipeline\n",
    "from pykeen.triples import TriplesFactory\n",
    "from pykeen.models import InductiveNodePiece\n",
    "from pykeen.typing import TESTING, TRAINING, VALIDATION\n",
    "\n",
    "seed = 1234"
   ]
  },
  {
   "cell_type": "code",
   "execution_count": 2,
   "id": "59954771",
   "metadata": {},
   "outputs": [],
   "source": [
    "class InductiveLPDataset(DisjointInductivePathDataset):\n",
    "    \"\"\"An inductive link prediction dataset for the ILPC 2022 Challenge.\"\"\"\n",
    "\n",
    "    \n",
    "    \n",
    "    \n",
    "    def __init__(self , **kwargs):\n",
    "        \"\"\"Initialize the inductive link prediction dataset.\n",
    "\n",
    "        :param size: \"small\" or \"large\"\n",
    "        :param kwargs: keyword arguments to forward to the base dataset class, cf. DisjointInductivePathDataset\n",
    "        \"\"\"\n",
    "        DATA_TYPE = \"_fully_inductive.tsv\"\n",
    "        TRAIN_PATH = \"MSCallGraph_train\" + DATA_TYPE\n",
    "        TEST_PATH = \"MSCallGraph_test\" + DATA_TYPE\n",
    "        VALIDATE_PATH = \"MSCallGraph_validation\" + DATA_TYPE\n",
    "        INFERENCE_PATH = \"MSCallGraph_inference\" + DATA_TYPE\n",
    "\n",
    "\n",
    "        super().__init__(\n",
    "            transductive_training_path=os.getcwd()+\"/\"+TRAIN_PATH,\n",
    "            inductive_inference_path=os.getcwd()+\"/\"+INFERENCE_PATH,\n",
    "            inductive_validation_path=os.getcwd()+\"/\"+VALIDATE_PATH,\n",
    "            inductive_testing_path=os.getcwd()+\"/\"+TEST_PATH,\n",
    "            create_inverse_triples=True,\n",
    "            eager=True,\n",
    "            **kwargs\n",
    "        )\n"
   ]
  },
  {
   "cell_type": "code",
   "execution_count": 3,
   "id": "fba970fc",
   "metadata": {},
   "outputs": [],
   "source": [
    "def show_metrics(dictionary):\n",
    "    for key in dictionary.keys():\n",
    "        print(key)\n",
    "        print(pd.DataFrame(dictionary[key]))"
   ]
  },
  {
   "cell_type": "code",
   "execution_count": 4,
   "id": "766f31a2",
   "metadata": {},
   "outputs": [],
   "source": [
    "dataset = InductiveLPDataset()"
   ]
  },
  {
   "cell_type": "code",
   "execution_count": 5,
   "id": "f4e0c2a3",
   "metadata": {},
   "outputs": [],
   "source": [
    "loss = NSSALoss() #used by RotatE and NodePiece\n",
    "num_tokens = 20\n",
    "embedding_dim = 200"
   ]
  },
  {
   "cell_type": "code",
   "execution_count": 31,
   "id": "eee10f05",
   "metadata": {},
   "outputs": [
    {
     "data": {
      "application/vnd.jupyter.widget-view+json": {
       "model_id": "",
       "version_major": 2,
       "version_minor": 0
      },
      "text/plain": [
       "sampling:   0%|          | 0.00/9.06k [00:00<?, ?it/s]"
      ]
     },
     "metadata": {},
     "output_type": "display_data"
    },
    {
     "name": "stderr",
     "output_type": "stream",
     "text": [
      "No symbolic computation of output shape.\n"
     ]
    },
    {
     "data": {
      "application/vnd.jupyter.widget-view+json": {
       "model_id": "",
       "version_major": 2,
       "version_minor": 0
      },
      "text/plain": [
       "sampling:   0%|          | 0.00/3.79k [00:00<?, ?it/s]"
      ]
     },
     "metadata": {},
     "output_type": "display_data"
    },
    {
     "name": "stderr",
     "output_type": "stream",
     "text": [
      "No symbolic computation of output shape.\n",
      "No cuda devices were available. The model runs on CPU\n"
     ]
    },
    {
     "name": "stdout",
     "output_type": "stream",
     "text": [
      "Number of parameters: 2600\n",
      "Space occupied: 10400 bytes\n"
     ]
    }
   ],
   "source": [
    "model = InductiveNodePiece(\n",
    "        triples_factory=dataset.transductive_training,\n",
    "        inference_factory=dataset.inductive_inference,\n",
    "        random_seed = seed,\n",
    "        loss = loss,\n",
    "        num_tokens = num_tokens,\n",
    "        embedding_dim = embedding_dim\n",
    "    ).to(resolve_device())\n",
    "print(f\"Number of parameters: {sum(p.numel() for p in model.parameters())}\")\n",
    "print(f\"Space occupied: {model.num_parameter_bytes} bytes\")"
   ]
  },
  {
   "cell_type": "code",
   "execution_count": 40,
   "id": "3de07087",
   "metadata": {},
   "outputs": [],
   "source": [
    "learning_rate = 1e-3\n",
    "optimizer = Adam(params=model.parameters(), lr=learning_rate)\n",
    "num_epochs = 200\n",
    "patience = 1"
   ]
  },
  {
   "cell_type": "code",
   "execution_count": 41,
   "id": "8fc2a40b",
   "metadata": {},
   "outputs": [],
   "source": [
    "metrics = ['meanreciprocalrank', HitsAtK(1),\n",
    "                 HitsAtK(3), HitsAtK(5), HitsAtK(10)]\n",
    "\n",
    "train_evaluator = RankBasedEvaluator(\n",
    "        mode=TRAINING,\n",
    "        metrics=metrics,\n",
    "        add_defaults=False,\n",
    "    )\n",
    "valid_evaluator = RankBasedEvaluator(\n",
    "        mode=VALIDATION,\n",
    "        metrics=metrics,\n",
    "        add_defaults=False,\n",
    "    )\n",
    "test_evaluator = RankBasedEvaluator(\n",
    "        mode=TESTING,\n",
    "        metrics = metrics,\n",
    "        add_defaults=False\n",
    "    )"
   ]
  },
  {
   "cell_type": "code",
   "execution_count": 42,
   "id": "a1af51a0",
   "metadata": {},
   "outputs": [],
   "source": [
    "from pykeen.stoppers import EarlyStopper\n",
    "\n",
    "stopper = EarlyStopper(\n",
    "    model = model,\n",
    "    metric='meanreciprocalrank',\n",
    "    patience=patience,\n",
    "    frequency=1,\n",
    "    evaluator = valid_evaluator,\n",
    "    training_triples_factory = dataset.inductive_inference,\n",
    "    evaluation_triples_factory = dataset.inductive_validation,\n",
    "    result_tracker = tracker\n",
    "\n",
    ")\n",
    "\n"
   ]
  },
  {
   "cell_type": "code",
   "execution_count": 43,
   "id": "ae4971a2",
   "metadata": {},
   "outputs": [],
   "source": [
    "tracker = ConsoleResultTracker()\n",
    "# default training regime is negative sampling (SLCWA)\n",
    "# you can also use the 1-N regime with the LCWATrainingLoop\n",
    "# the LCWA loop does not need negative sampling kwargs, but accepts label_smoothing in the .train() method\n",
    "training_loop = SLCWATrainingLoop(\n",
    "        triples_factory=dataset.transductive_training,\n",
    "        model=model,\n",
    "        mode=TRAINING,  # must be specified for the inductive setup\n",
    "        result_tracker=tracker,\n",
    "        optimizer=optimizer\n",
    ")"
   ]
  },
  {
   "cell_type": "code",
   "execution_count": 44,
   "id": "fdf15a48",
   "metadata": {},
   "outputs": [
    {
     "data": {
      "application/vnd.jupyter.widget-view+json": {
       "model_id": "7cf3f09c40ab402394815aeec9008490",
       "version_major": 2,
       "version_minor": 0
      },
      "text/plain": [
       "Training epochs on cpu:   0%|          | 0/2 [00:00<?, ?epoch/s]"
      ]
     },
     "metadata": {},
     "output_type": "display_data"
    },
    {
     "data": {
      "application/vnd.jupyter.widget-view+json": {
       "model_id": "",
       "version_major": 2,
       "version_minor": 0
      },
      "text/plain": [
       "Training batches on cpu:   0%|          | 0/184 [00:00<?, ?batch/s]"
      ]
     },
     "metadata": {},
     "output_type": "display_data"
    },
    {
     "data": {
      "application/vnd.jupyter.widget-view+json": {
       "model_id": "fab6c4639da747a5974f95bae2f54327",
       "version_major": 2,
       "version_minor": 0
      },
      "text/plain": [
       "Evaluating on cpu:   0%|          | 0.00/3.13k [00:00<?, ?triple/s]"
      ]
     },
     "metadata": {},
     "output_type": "display_data"
    },
    {
     "name": "stdout",
     "output_type": "stream",
     "text": [
      "Step: 1\n",
      "Metric: validation.head.optimistic.inverse_harmonic_mean_rank = 0.001686626754944722\n",
      "Metric: validation.tail.optimistic.inverse_harmonic_mean_rank = 0.011669471371134102\n",
      "Metric: validation.both.optimistic.inverse_harmonic_mean_rank = 0.0066780490630394115\n",
      "Metric: validation.head.realistic.inverse_harmonic_mean_rank = 0.0014741879422217607\n",
      "Metric: validation.tail.realistic.inverse_harmonic_mean_rank = 0.008450496010482311\n",
      "Metric: validation.both.realistic.inverse_harmonic_mean_rank = 0.0049623423255980015\n",
      "Metric: validation.head.pessimistic.inverse_harmonic_mean_rank = 0.0013934279991211858\n",
      "Metric: validation.tail.pessimistic.inverse_harmonic_mean_rank = 0.007531227123415191\n",
      "Metric: validation.both.pessimistic.inverse_harmonic_mean_rank = 0.004462327561268188\n",
      "Metric: validation.head.optimistic.hits_at_1 = 0.0006395906619763352\n",
      "Metric: validation.tail.optimistic.hits_at_1 = 0.0031979533098816758\n",
      "Metric: validation.both.optimistic.hits_at_1 = 0.0019187719859290054\n",
      "Metric: validation.head.realistic.hits_at_1 = 0.0006395906619763352\n",
      "Metric: validation.tail.realistic.hits_at_1 = 0.0025583626479053407\n",
      "Metric: validation.both.realistic.hits_at_1 = 0.0015989766549408379\n",
      "Metric: validation.head.pessimistic.hits_at_1 = 0.0006395906619763352\n",
      "Metric: validation.tail.pessimistic.hits_at_1 = 0.0025583626479053407\n",
      "Metric: validation.both.pessimistic.hits_at_1 = 0.0015989766549408379\n",
      "Metric: validation.head.optimistic.hits_at_3 = 0.0009593859929645027\n",
      "Metric: validation.tail.optimistic.hits_at_3 = 0.006715701950751519\n",
      "Metric: validation.both.optimistic.hits_at_3 = 0.003837543971858011\n",
      "Metric: validation.head.realistic.hits_at_3 = 0.0009593859929645027\n",
      "Metric: validation.tail.realistic.hits_at_3 = 0.005116725295810681\n",
      "Metric: validation.both.realistic.hits_at_3 = 0.003038055644387592\n",
      "Metric: validation.head.pessimistic.hits_at_3 = 0.0009593859929645027\n",
      "Metric: validation.tail.pessimistic.hits_at_3 = 0.004157339302846178\n",
      "Metric: validation.both.pessimistic.hits_at_3 = 0.0025583626479053407\n",
      "Metric: validation.head.optimistic.hits_at_5 = 0.0009593859929645027\n",
      "Metric: validation.tail.optimistic.hits_at_5 = 0.010233450591621363\n",
      "Metric: validation.both.optimistic.hits_at_5 = 0.005596418292292933\n",
      "Metric: validation.head.realistic.hits_at_5 = 0.0009593859929645027\n",
      "Metric: validation.tail.realistic.hits_at_5 = 0.0063959066197633516\n",
      "Metric: validation.both.realistic.hits_at_5 = 0.003677646306363927\n",
      "Metric: validation.head.pessimistic.hits_at_5 = 0.0009593859929645027\n",
      "Metric: validation.tail.pessimistic.hits_at_5 = 0.0063959066197633516\n",
      "Metric: validation.both.pessimistic.hits_at_5 = 0.003677646306363927\n",
      "Metric: validation.head.optimistic.hits_at_10 = 0.0009593859929645027\n",
      "Metric: validation.tail.optimistic.hits_at_10 = 0.023345059162136233\n",
      "Metric: validation.both.optimistic.hits_at_10 = 0.012152222577550368\n",
      "Metric: validation.head.realistic.hits_at_10 = 0.0009593859929645027\n",
      "Metric: validation.tail.realistic.hits_at_10 = 0.008954269267668692\n",
      "Metric: validation.both.realistic.hits_at_10 = 0.004956827630316597\n",
      "Metric: validation.head.pessimistic.hits_at_10 = 0.0009593859929645027\n",
      "Metric: validation.tail.pessimistic.hits_at_10 = 0.007355292612727854\n",
      "Metric: validation.both.pessimistic.hits_at_10 = 0.004157339302846178\n",
      "Step: 1\n",
      "Metric: loss = 4.873058784267177\n",
      "Step: 1\n",
      "Metric: validation.head.optimistic.inverse_harmonic_mean_rank = 0.001686626754944722\n",
      "Metric: validation.tail.optimistic.inverse_harmonic_mean_rank = 0.011669471371134102\n",
      "Metric: validation.both.optimistic.inverse_harmonic_mean_rank = 0.0066780490630394115\n",
      "Metric: validation.head.realistic.inverse_harmonic_mean_rank = 0.0014741879422217607\n",
      "Metric: validation.tail.realistic.inverse_harmonic_mean_rank = 0.008450496010482311\n",
      "Metric: validation.both.realistic.inverse_harmonic_mean_rank = 0.0049623423255980015\n",
      "Metric: validation.head.pessimistic.inverse_harmonic_mean_rank = 0.0013934279991211858\n",
      "Metric: validation.tail.pessimistic.inverse_harmonic_mean_rank = 0.007531227123415191\n",
      "Metric: validation.both.pessimistic.inverse_harmonic_mean_rank = 0.004462327561268188\n",
      "Metric: validation.head.optimistic.hits_at_1 = 0.0006395906619763352\n",
      "Metric: validation.tail.optimistic.hits_at_1 = 0.0031979533098816758\n",
      "Metric: validation.both.optimistic.hits_at_1 = 0.0019187719859290054\n",
      "Metric: validation.head.realistic.hits_at_1 = 0.0006395906619763352\n",
      "Metric: validation.tail.realistic.hits_at_1 = 0.0025583626479053407\n",
      "Metric: validation.both.realistic.hits_at_1 = 0.0015989766549408379\n",
      "Metric: validation.head.pessimistic.hits_at_1 = 0.0006395906619763352\n",
      "Metric: validation.tail.pessimistic.hits_at_1 = 0.0025583626479053407\n",
      "Metric: validation.both.pessimistic.hits_at_1 = 0.0015989766549408379\n",
      "Metric: validation.head.optimistic.hits_at_3 = 0.0009593859929645027\n",
      "Metric: validation.tail.optimistic.hits_at_3 = 0.006715701950751519\n",
      "Metric: validation.both.optimistic.hits_at_3 = 0.003837543971858011\n",
      "Metric: validation.head.realistic.hits_at_3 = 0.0009593859929645027\n",
      "Metric: validation.tail.realistic.hits_at_3 = 0.005116725295810681\n",
      "Metric: validation.both.realistic.hits_at_3 = 0.003038055644387592\n",
      "Metric: validation.head.pessimistic.hits_at_3 = 0.0009593859929645027\n",
      "Metric: validation.tail.pessimistic.hits_at_3 = 0.004157339302846178\n",
      "Metric: validation.both.pessimistic.hits_at_3 = 0.0025583626479053407\n",
      "Metric: validation.head.optimistic.hits_at_5 = 0.0009593859929645027\n",
      "Metric: validation.tail.optimistic.hits_at_5 = 0.010233450591621363\n",
      "Metric: validation.both.optimistic.hits_at_5 = 0.005596418292292933\n",
      "Metric: validation.head.realistic.hits_at_5 = 0.0009593859929645027\n",
      "Metric: validation.tail.realistic.hits_at_5 = 0.0063959066197633516\n",
      "Metric: validation.both.realistic.hits_at_5 = 0.003677646306363927\n",
      "Metric: validation.head.pessimistic.hits_at_5 = 0.0009593859929645027\n",
      "Metric: validation.tail.pessimistic.hits_at_5 = 0.0063959066197633516\n",
      "Metric: validation.both.pessimistic.hits_at_5 = 0.003677646306363927\n",
      "Metric: validation.head.optimistic.hits_at_10 = 0.0009593859929645027\n",
      "Metric: validation.tail.optimistic.hits_at_10 = 0.023345059162136233\n",
      "Metric: validation.both.optimistic.hits_at_10 = 0.012152222577550368\n",
      "Metric: validation.head.realistic.hits_at_10 = 0.0009593859929645027\n",
      "Metric: validation.tail.realistic.hits_at_10 = 0.008954269267668692\n",
      "Metric: validation.both.realistic.hits_at_10 = 0.004956827630316597\n",
      "Metric: validation.head.pessimistic.hits_at_10 = 0.0009593859929645027\n",
      "Metric: validation.tail.pessimistic.hits_at_10 = 0.007355292612727854\n",
      "Metric: validation.both.pessimistic.hits_at_10 = 0.004157339302846178\n"
     ]
    },
    {
     "data": {
      "application/vnd.jupyter.widget-view+json": {
       "model_id": "",
       "version_major": 2,
       "version_minor": 0
      },
      "text/plain": [
       "Training batches on cpu:   0%|          | 0/184 [00:00<?, ?batch/s]"
      ]
     },
     "metadata": {},
     "output_type": "display_data"
    },
    {
     "data": {
      "application/vnd.jupyter.widget-view+json": {
       "model_id": "6f09bd8db78f4abebdf06e8354347a3d",
       "version_major": 2,
       "version_minor": 0
      },
      "text/plain": [
       "Evaluating on cpu:   0%|          | 0.00/3.13k [00:00<?, ?triple/s]"
      ]
     },
     "metadata": {},
     "output_type": "display_data"
    },
    {
     "name": "stdout",
     "output_type": "stream",
     "text": [
      "Step: 2\n",
      "Metric: validation.head.optimistic.inverse_harmonic_mean_rank = 0.00698029104496792\n",
      "Metric: validation.tail.optimistic.inverse_harmonic_mean_rank = 0.013391541879957756\n",
      "Metric: validation.both.optimistic.inverse_harmonic_mean_rank = 0.010185916462462837\n",
      "Metric: validation.head.realistic.inverse_harmonic_mean_rank = 0.006646804511547089\n",
      "Metric: validation.tail.realistic.inverse_harmonic_mean_rank = 0.0117571372538805\n",
      "Metric: validation.both.realistic.inverse_harmonic_mean_rank = 0.009201970882713795\n",
      "Metric: validation.head.pessimistic.inverse_harmonic_mean_rank = 0.0065096635706054975\n",
      "Metric: validation.tail.pessimistic.inverse_harmonic_mean_rank = 0.010749965226322053\n",
      "Metric: validation.both.pessimistic.inverse_harmonic_mean_rank = 0.008629814398463774\n",
      "Metric: validation.head.optimistic.hits_at_1 = 0.003517748640869843\n",
      "Metric: validation.tail.optimistic.hits_at_1 = 0.0019187719859290054\n",
      "Metric: validation.both.optimistic.hits_at_1 = 0.002718260313399424\n",
      "Metric: validation.head.realistic.hits_at_1 = 0.003517748640869843\n",
      "Metric: validation.tail.realistic.hits_at_1 = 0.0012791813239526704\n",
      "Metric: validation.both.realistic.hits_at_1 = 0.002398464982411257\n",
      "Metric: validation.head.pessimistic.hits_at_1 = 0.003517748640869843\n",
      "Metric: validation.tail.pessimistic.hits_at_1 = 0.0012791813239526704\n",
      "Metric: validation.both.pessimistic.hits_at_1 = 0.002398464982411257\n",
      "Metric: validation.head.optimistic.hits_at_3 = 0.005756315957787016\n",
      "Metric: validation.tail.optimistic.hits_at_3 = 0.008954269267668692\n",
      "Metric: validation.both.optimistic.hits_at_3 = 0.007355292612727854\n",
      "Metric: validation.head.realistic.hits_at_3 = 0.005116725295810681\n",
      "Metric: validation.tail.realistic.hits_at_3 = 0.004157339302846178\n",
      "Metric: validation.both.realistic.hits_at_3 = 0.00463703229932843\n",
      "Metric: validation.head.pessimistic.hits_at_3 = 0.005116725295810681\n",
      "Metric: validation.tail.pessimistic.hits_at_3 = 0.003837543971858011\n",
      "Metric: validation.both.pessimistic.hits_at_3 = 0.004477134633834346\n",
      "Metric: validation.head.optimistic.hits_at_5 = 0.009593859929645027\n",
      "Metric: validation.tail.optimistic.hits_at_5 = 0.01055324592260953\n",
      "Metric: validation.both.optimistic.hits_at_5 = 0.010073552926127279\n",
      "Metric: validation.head.realistic.hits_at_5 = 0.009593859929645027\n",
      "Metric: validation.tail.realistic.hits_at_5 = 0.010233450591621363\n",
      "Metric: validation.both.realistic.hits_at_5 = 0.009913655260633194\n",
      "Metric: validation.head.pessimistic.hits_at_5 = 0.009593859929645027\n",
      "Metric: validation.tail.pessimistic.hits_at_5 = 0.009913655260633194\n",
      "Metric: validation.both.pessimistic.hits_at_5 = 0.009753757595139112\n",
      "Metric: validation.head.optimistic.hits_at_10 = 0.011512631915574032\n",
      "Metric: validation.tail.optimistic.hits_at_10 = 0.020466901183242726\n",
      "Metric: validation.both.optimistic.hits_at_10 = 0.01598976654940838\n",
      "Metric: validation.head.realistic.hits_at_10 = 0.011512631915574032\n",
      "Metric: validation.tail.realistic.hits_at_10 = 0.01726894787336105\n",
      "Metric: validation.both.realistic.hits_at_10 = 0.014390789894467541\n",
      "Metric: validation.head.pessimistic.hits_at_10 = 0.011512631915574032\n",
      "Metric: validation.tail.pessimistic.hits_at_10 = 0.016309561880396548\n",
      "Metric: validation.both.pessimistic.hits_at_10 = 0.01391109689798529\n",
      "Step: 2\n",
      "Metric: loss = 1.091045070277608\n",
      "Step: 2\n",
      "Metric: validation.head.optimistic.inverse_harmonic_mean_rank = 0.00698029104496792\n",
      "Metric: validation.tail.optimistic.inverse_harmonic_mean_rank = 0.013391541879957756\n",
      "Metric: validation.both.optimistic.inverse_harmonic_mean_rank = 0.010185916462462837\n",
      "Metric: validation.head.realistic.inverse_harmonic_mean_rank = 0.006646804511547089\n",
      "Metric: validation.tail.realistic.inverse_harmonic_mean_rank = 0.0117571372538805\n",
      "Metric: validation.both.realistic.inverse_harmonic_mean_rank = 0.009201970882713795\n",
      "Metric: validation.head.pessimistic.inverse_harmonic_mean_rank = 0.0065096635706054975\n",
      "Metric: validation.tail.pessimistic.inverse_harmonic_mean_rank = 0.010749965226322053\n",
      "Metric: validation.both.pessimistic.inverse_harmonic_mean_rank = 0.008629814398463774\n",
      "Metric: validation.head.optimistic.hits_at_1 = 0.003517748640869843\n",
      "Metric: validation.tail.optimistic.hits_at_1 = 0.0019187719859290054\n",
      "Metric: validation.both.optimistic.hits_at_1 = 0.002718260313399424\n",
      "Metric: validation.head.realistic.hits_at_1 = 0.003517748640869843\n",
      "Metric: validation.tail.realistic.hits_at_1 = 0.0012791813239526704\n",
      "Metric: validation.both.realistic.hits_at_1 = 0.002398464982411257\n",
      "Metric: validation.head.pessimistic.hits_at_1 = 0.003517748640869843\n",
      "Metric: validation.tail.pessimistic.hits_at_1 = 0.0012791813239526704\n",
      "Metric: validation.both.pessimistic.hits_at_1 = 0.002398464982411257\n",
      "Metric: validation.head.optimistic.hits_at_3 = 0.005756315957787016\n",
      "Metric: validation.tail.optimistic.hits_at_3 = 0.008954269267668692\n",
      "Metric: validation.both.optimistic.hits_at_3 = 0.007355292612727854\n",
      "Metric: validation.head.realistic.hits_at_3 = 0.005116725295810681\n",
      "Metric: validation.tail.realistic.hits_at_3 = 0.004157339302846178\n",
      "Metric: validation.both.realistic.hits_at_3 = 0.00463703229932843\n",
      "Metric: validation.head.pessimistic.hits_at_3 = 0.005116725295810681\n",
      "Metric: validation.tail.pessimistic.hits_at_3 = 0.003837543971858011\n",
      "Metric: validation.both.pessimistic.hits_at_3 = 0.004477134633834346\n",
      "Metric: validation.head.optimistic.hits_at_5 = 0.009593859929645027\n",
      "Metric: validation.tail.optimistic.hits_at_5 = 0.01055324592260953\n",
      "Metric: validation.both.optimistic.hits_at_5 = 0.010073552926127279\n",
      "Metric: validation.head.realistic.hits_at_5 = 0.009593859929645027\n",
      "Metric: validation.tail.realistic.hits_at_5 = 0.010233450591621363\n",
      "Metric: validation.both.realistic.hits_at_5 = 0.009913655260633194\n",
      "Metric: validation.head.pessimistic.hits_at_5 = 0.009593859929645027\n",
      "Metric: validation.tail.pessimistic.hits_at_5 = 0.009913655260633194\n",
      "Metric: validation.both.pessimistic.hits_at_5 = 0.009753757595139112\n",
      "Metric: validation.head.optimistic.hits_at_10 = 0.011512631915574032\n",
      "Metric: validation.tail.optimistic.hits_at_10 = 0.020466901183242726\n",
      "Metric: validation.both.optimistic.hits_at_10 = 0.01598976654940838\n",
      "Metric: validation.head.realistic.hits_at_10 = 0.011512631915574032\n",
      "Metric: validation.tail.realistic.hits_at_10 = 0.01726894787336105\n",
      "Metric: validation.both.realistic.hits_at_10 = 0.014390789894467541\n",
      "Metric: validation.head.pessimistic.hits_at_10 = 0.011512631915574032\n",
      "Metric: validation.tail.pessimistic.hits_at_10 = 0.016309561880396548\n",
      "Metric: validation.both.pessimistic.hits_at_10 = 0.01391109689798529\n"
     ]
    },
    {
     "data": {
      "text/plain": [
       "[4.873058784267177, 1.091045070277608]"
      ]
     },
     "execution_count": 44,
     "metadata": {},
     "output_type": "execute_result"
    }
   ],
   "source": [
    "training_loop.train(\n",
    "        triples_factory=dataset.transductive_training,\n",
    "        num_epochs=num_epochs,\n",
    "        callbacks=\"evaluation\",\n",
    "        callback_kwargs=dict(\n",
    "            evaluator=valid_evaluator,\n",
    "            evaluation_triples=dataset.inductive_validation.mapped_triples,\n",
    "            prefix=\"validation\",\n",
    "            frequency=1,\n",
    "            additional_filter_triples=dataset.inductive_inference.mapped_triples,\n",
    "        ),\n",
    "        stopper = stopper\n",
    "        \n",
    "    )\n"
   ]
  },
  {
   "cell_type": "code",
   "execution_count": null,
   "id": "a4aabaae",
   "metadata": {},
   "outputs": [],
   "source": [
    "# train\n",
    "print(\"Train error\")\n",
    "show_metrics(train_evaluator.evaluate(\n",
    "        model=model,\n",
    "        mapped_triples=dataset.transductive_training.mapped_triples,\n",
    "        additional_filter_triples=[\n",
    "        dataset.transductive_training.mapped_triples,\n",
    "    ]\n",
    "    ).to_dict())"
   ]
  },
  {
   "cell_type": "code",
   "execution_count": null,
   "id": "c3c7e30e",
   "metadata": {},
   "outputs": [],
   "source": [
    "# validation\n",
    "print(\"Validation error\")\n",
    "show_metrics(valid_evaluator.evaluate(\n",
    "        model=model,\n",
    "        mapped_triples=dataset.inductive_validation.mapped_triples,\n",
    "        additional_filter_triples=[\n",
    "            # filtering of other positive triples\n",
    "            dataset.inductive_inference.mapped_triples\n",
    "        ],\n",
    "    ).to_dict())"
   ]
  },
  {
   "cell_type": "code",
   "execution_count": null,
   "id": "98aaf677",
   "metadata": {},
   "outputs": [],
   "source": [
    "# result on the test set\n",
    "print(\"Test error\")\n",
    "show_metrics(test_evaluator.evaluate(\n",
    "        model=model,\n",
    "        mapped_triples=dataset.inductive_testing.mapped_triples,\n",
    "        additional_filter_triples=[\n",
    "            # filtering of other positive triples\n",
    "            dataset.inductive_inference.mapped_triples,\n",
    "            dataset.inductive_validation.mapped_triples,\n",
    "        ],\n",
    "    ).to_dict())"
   ]
  },
  {
   "cell_type": "code",
   "execution_count": null,
   "id": "2cc0af62",
   "metadata": {},
   "outputs": [],
   "source": []
  }
 ],
 "metadata": {
  "kernelspec": {
   "display_name": "Python 3 (ipykernel)",
   "language": "python",
   "name": "python3"
  },
  "language_info": {
   "codemirror_mode": {
    "name": "ipython",
    "version": 3
   },
   "file_extension": ".py",
   "mimetype": "text/x-python",
   "name": "python",
   "nbconvert_exporter": "python",
   "pygments_lexer": "ipython3",
   "version": "3.9.16"
  }
 },
 "nbformat": 4,
 "nbformat_minor": 5
}
