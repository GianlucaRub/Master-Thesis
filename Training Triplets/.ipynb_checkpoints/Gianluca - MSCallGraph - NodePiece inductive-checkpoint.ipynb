{
 "cells": [
  {
   "cell_type": "code",
   "execution_count": 1,
   "id": "d30eabec",
   "metadata": {},
   "outputs": [],
   "source": [
    "from pykeen.pipeline import pipeline\n",
    "from pykeen.datasets import Nations, get_dataset\n",
    "import torch\n",
    "from pykeen.evaluation import evaluate, RankBasedEvaluator\n",
    "from pykeen.metrics.ranking import HitsAtK\n",
    "import pandas as pd\n",
    "\n",
    "\n",
    "import logging\n",
    "from pathlib import Path\n",
    "\n",
    "import click\n",
    "import more_click\n",
    "import torch\n",
    "from pykeen.evaluation import RankBasedEvaluator\n",
    "from pykeen.losses import NSSALoss\n",
    "from pykeen.models.inductive import InductiveNodePiece, InductiveNodePieceGNN\n",
    "from pykeen.trackers import ConsoleResultTracker, WANDBResultTracker\n",
    "from pykeen.training import SLCWATrainingLoop\n",
    "from pykeen.typing import TESTING, TRAINING, VALIDATION\n",
    "from pykeen.utils import resolve_device, set_random_seed\n",
    "from torch.optim import Adam\n",
    "\n",
    "\n",
    "from pykeen.metrics.ranking import HitsAtK\n",
    "\n",
    "from pathlib import Path\n",
    "\n",
    "from pykeen.datasets.inductive.base import DisjointInductivePathDataset\n",
    "from typing_extensions import Literal\n",
    "import os\n",
    "from pykeen.hpo import hpo_pipeline\n",
    "from pykeen.triples import TriplesFactory\n",
    "from pykeen.models import InductiveNodePiece\n",
    "from pykeen.typing import TESTING, TRAINING, VALIDATION\n",
    "\n",
    "seed = 1234"
   ]
  },
  {
   "cell_type": "code",
   "execution_count": 2,
   "id": "59954771",
   "metadata": {},
   "outputs": [],
   "source": [
    "class InductiveLPDataset(DisjointInductivePathDataset):\n",
    "    \"\"\"An inductive link prediction dataset for the ILPC 2022 Challenge.\"\"\"\n",
    "\n",
    "    \n",
    "    \n",
    "    \n",
    "    def __init__(self , **kwargs):\n",
    "        \"\"\"Initialize the inductive link prediction dataset.\n",
    "\n",
    "        :param size: \"small\" or \"large\"\n",
    "        :param kwargs: keyword arguments to forward to the base dataset class, cf. DisjointInductivePathDataset\n",
    "        \"\"\"\n",
    "        DATA_TYPE = \"_fully_inductive.tsv\"\n",
    "        TRAIN_PATH = \"MSCallGraph_train\" + DATA_TYPE\n",
    "        TEST_PATH = \"MSCallGraph_test\" + DATA_TYPE\n",
    "        VALIDATE_PATH = \"MSCallGraph_validation\" + DATA_TYPE\n",
    "        INFERENCE_PATH = \"MSCallGraph_inference\" + DATA_TYPE\n",
    "\n",
    "\n",
    "        super().__init__(\n",
    "            transductive_training_path=os.getcwd()+\"/\"+TRAIN_PATH,\n",
    "            inductive_inference_path=os.getcwd()+\"/\"+INFERENCE_PATH,\n",
    "            inductive_validation_path=os.getcwd()+\"/\"+VALIDATE_PATH,\n",
    "            inductive_testing_path=os.getcwd()+\"/\"+TEST_PATH,\n",
    "            create_inverse_triples=True,\n",
    "            eager=True,\n",
    "            **kwargs\n",
    "        )\n"
   ]
  },
  {
   "cell_type": "code",
   "execution_count": 3,
   "id": "fba970fc",
   "metadata": {},
   "outputs": [],
   "source": [
    "def show_metrics(dictionary):\n",
    "    for key in dictionary.keys():\n",
    "        print(key)\n",
    "        print(pd.DataFrame(dictionary[key]))"
   ]
  },
  {
   "cell_type": "code",
   "execution_count": 4,
   "id": "766f31a2",
   "metadata": {},
   "outputs": [],
   "source": [
    "dataset = InductiveLPDataset()\n"
   ]
  },
  {
   "cell_type": "code",
   "execution_count": 5,
   "id": "eee10f05",
   "metadata": {},
   "outputs": [
    {
     "data": {
      "application/vnd.jupyter.widget-view+json": {
       "model_id": "",
       "version_major": 2,
       "version_minor": 0
      },
      "text/plain": [
       "sampling:   0%|          | 0.00/9.06k [00:00<?, ?it/s]"
      ]
     },
     "metadata": {},
     "output_type": "display_data"
    },
    {
     "name": "stderr",
     "output_type": "stream",
     "text": [
      "No symbolic computation of output shape.\n"
     ]
    },
    {
     "data": {
      "application/vnd.jupyter.widget-view+json": {
       "model_id": "",
       "version_major": 2,
       "version_minor": 0
      },
      "text/plain": [
       "sampling:   0%|          | 0.00/3.79k [00:00<?, ?it/s]"
      ]
     },
     "metadata": {},
     "output_type": "display_data"
    },
    {
     "name": "stderr",
     "output_type": "stream",
     "text": [
      "No symbolic computation of output shape.\n",
      "No cuda devices were available. The model runs on CPU\n"
     ]
    },
    {
     "name": "stdout",
     "output_type": "stream",
     "text": [
      "Number of parameters: 34112\n",
      "Space occupied: 136448 bytes\n"
     ]
    }
   ],
   "source": [
    "model = InductiveNodePieceGNN(\n",
    "        triples_factory=dataset.transductive_training,\n",
    "        inference_factory=dataset.inductive_inference,\n",
    "        random_seed = seed\n",
    "    ).to(resolve_device())\n",
    "print(f\"Number of parameters: {sum(p.numel() for p in model.parameters())}\")\n",
    "print(f\"Space occupied: {model.num_parameter_bytes} bytes\")"
   ]
  },
  {
   "cell_type": "code",
   "execution_count": 6,
   "id": "ae4971a2",
   "metadata": {},
   "outputs": [],
   "source": [
    "tracker = ConsoleResultTracker()\n",
    "# default training regime is negative sampling (SLCWA)\n",
    "# you can also use the 1-N regime with the LCWATrainingLoop\n",
    "# the LCWA loop does not need negative sampling kwargs, but accepts label_smoothing in the .train() method\n",
    "training_loop = SLCWATrainingLoop(\n",
    "        triples_factory=dataset.transductive_training,\n",
    "        model=model,\n",
    "        mode=TRAINING,  # must be specified for the inductive setup\n",
    "        result_tracker=tracker,\n",
    "\n",
    "    )"
   ]
  },
  {
   "cell_type": "code",
   "execution_count": 7,
   "id": "8fc2a40b",
   "metadata": {},
   "outputs": [],
   "source": [
    "metrics = ['meanreciprocalrank', HitsAtK(1),\n",
    "                 HitsAtK(3), HitsAtK(5), HitsAtK(10)]\n",
    "\n",
    "train_evaluator = RankBasedEvaluator(\n",
    "        mode=TRAINING,\n",
    "        metrics=metrics,\n",
    "        add_defaults=False,\n",
    "    )\n",
    "valid_evaluator = RankBasedEvaluator(\n",
    "        mode=VALIDATION,\n",
    "        metrics=metrics,\n",
    "        add_defaults=False,\n",
    "    )\n",
    "test_evaluator = RankBasedEvaluator(\n",
    "        mode=TESTING,\n",
    "        metrics = metrics,\n",
    "        add_defaults=False\n",
    "    )"
   ]
  },
  {
   "cell_type": "code",
   "execution_count": 8,
   "id": "fdf15a48",
   "metadata": {},
   "outputs": [
    {
     "data": {
      "application/vnd.jupyter.widget-view+json": {
       "model_id": "db8a9b49c7b1457fa5e942992fb19e58",
       "version_major": 2,
       "version_minor": 0
      },
      "text/plain": [
       "Training epochs on cpu:   0%|          | 0/2 [00:00<?, ?epoch/s]"
      ]
     },
     "metadata": {},
     "output_type": "display_data"
    },
    {
     "data": {
      "application/vnd.jupyter.widget-view+json": {
       "model_id": "",
       "version_major": 2,
       "version_minor": 0
      },
      "text/plain": [
       "Training batches on cpu:   0%|          | 0/183 [00:00<?, ?batch/s]"
      ]
     },
     "metadata": {},
     "output_type": "display_data"
    },
    {
     "data": {
      "application/vnd.jupyter.widget-view+json": {
       "model_id": "423cac883de744479bdb093f887c6e15",
       "version_major": 2,
       "version_minor": 0
      },
      "text/plain": [
       "Evaluating on cpu:   0%|          | 0.00/3.13k [00:00<?, ?triple/s]"
      ]
     },
     "metadata": {},
     "output_type": "display_data"
    },
    {
     "name": "stdout",
     "output_type": "stream",
     "text": [
      "Step: 1\n",
      "Metric: validation.head.optimistic.inverse_harmonic_mean_rank = 0.11137411270153097\n",
      "Metric: validation.tail.optimistic.inverse_harmonic_mean_rank = 0.11243945324039226\n",
      "Metric: validation.both.optimistic.inverse_harmonic_mean_rank = 0.1119067829709616\n",
      "Metric: validation.head.realistic.inverse_harmonic_mean_rank = 0.11132014542818071\n",
      "Metric: validation.tail.realistic.inverse_harmonic_mean_rank = 0.11240174621343611\n",
      "Metric: validation.both.realistic.inverse_harmonic_mean_rank = 0.11186093837022781\n",
      "Metric: validation.head.pessimistic.inverse_harmonic_mean_rank = 0.111285478476332\n",
      "Metric: validation.tail.pessimistic.inverse_harmonic_mean_rank = 0.11237570147014199\n",
      "Metric: validation.both.pessimistic.inverse_harmonic_mean_rank = 0.11183058997323699\n",
      "Metric: validation.head.optimistic.hits_at_1 = 0.062999680204669\n",
      "Metric: validation.tail.optimistic.hits_at_1 = 0.048289094979213305\n",
      "Metric: validation.both.optimistic.hits_at_1 = 0.05564438759194116\n",
      "Metric: validation.head.realistic.hits_at_1 = 0.062999680204669\n",
      "Metric: validation.tail.realistic.hits_at_1 = 0.048289094979213305\n",
      "Metric: validation.both.realistic.hits_at_1 = 0.05564438759194116\n",
      "Metric: validation.head.pessimistic.hits_at_1 = 0.062999680204669\n",
      "Metric: validation.tail.pessimistic.hits_at_1 = 0.048289094979213305\n",
      "Metric: validation.both.pessimistic.hits_at_1 = 0.05564438759194116\n",
      "Metric: validation.head.optimistic.hits_at_3 = 0.12440038375439719\n",
      "Metric: validation.tail.optimistic.hits_at_3 = 0.11000959385992964\n",
      "Metric: validation.both.optimistic.hits_at_3 = 0.11720498880716342\n",
      "Metric: validation.head.realistic.hits_at_3 = 0.12440038375439719\n",
      "Metric: validation.tail.realistic.hits_at_3 = 0.11000959385992964\n",
      "Metric: validation.both.realistic.hits_at_3 = 0.11720498880716342\n",
      "Metric: validation.head.pessimistic.hits_at_3 = 0.12440038375439719\n",
      "Metric: validation.tail.pessimistic.hits_at_3 = 0.11000959385992964\n",
      "Metric: validation.both.pessimistic.hits_at_3 = 0.11720498880716342\n",
      "Metric: validation.head.optimistic.hits_at_5 = 0.15158298688839142\n",
      "Metric: validation.tail.optimistic.hits_at_5 = 0.17013111608570514\n",
      "Metric: validation.both.optimistic.hits_at_5 = 0.1608570514870483\n",
      "Metric: validation.head.realistic.hits_at_5 = 0.15158298688839142\n",
      "Metric: validation.tail.realistic.hits_at_5 = 0.17013111608570514\n",
      "Metric: validation.both.realistic.hits_at_5 = 0.1608570514870483\n",
      "Metric: validation.head.pessimistic.hits_at_5 = 0.15158298688839142\n",
      "Metric: validation.tail.pessimistic.hits_at_5 = 0.17013111608570514\n",
      "Metric: validation.both.pessimistic.hits_at_5 = 0.1608570514870483\n",
      "Metric: validation.head.optimistic.hits_at_10 = 0.2069075791493444\n",
      "Metric: validation.tail.optimistic.hits_at_10 = 0.25327790214262874\n",
      "Metric: validation.both.optimistic.hits_at_10 = 0.23009274064598656\n",
      "Metric: validation.head.realistic.hits_at_10 = 0.2069075791493444\n",
      "Metric: validation.tail.realistic.hits_at_10 = 0.25327790214262874\n",
      "Metric: validation.both.realistic.hits_at_10 = 0.23009274064598656\n",
      "Metric: validation.head.pessimistic.hits_at_10 = 0.2069075791493444\n",
      "Metric: validation.tail.pessimistic.hits_at_10 = 0.25327790214262874\n",
      "Metric: validation.both.pessimistic.hits_at_10 = 0.23009274064598656\n",
      "Step: 1\n",
      "Metric: loss = 0.37747960020609894\n"
     ]
    },
    {
     "data": {
      "application/vnd.jupyter.widget-view+json": {
       "model_id": "",
       "version_major": 2,
       "version_minor": 0
      },
      "text/plain": [
       "Training batches on cpu:   0%|          | 0/183 [00:00<?, ?batch/s]"
      ]
     },
     "metadata": {},
     "output_type": "display_data"
    },
    {
     "data": {
      "application/vnd.jupyter.widget-view+json": {
       "model_id": "0c4d004a3bed44a6a59ee69effa744bf",
       "version_major": 2,
       "version_minor": 0
      },
      "text/plain": [
       "Evaluating on cpu:   0%|          | 0.00/3.13k [00:00<?, ?triple/s]"
      ]
     },
     "metadata": {},
     "output_type": "display_data"
    },
    {
     "name": "stdout",
     "output_type": "stream",
     "text": [
      "Step: 2\n",
      "Metric: validation.head.optimistic.inverse_harmonic_mean_rank = 0.15673528635796607\n",
      "Metric: validation.tail.optimistic.inverse_harmonic_mean_rank = 0.12195607078929654\n",
      "Metric: validation.both.optimistic.inverse_harmonic_mean_rank = 0.13934567857363128\n",
      "Metric: validation.head.realistic.inverse_harmonic_mean_rank = 0.15503162145614624\n",
      "Metric: validation.tail.realistic.inverse_harmonic_mean_rank = 0.12187348306179047\n",
      "Metric: validation.both.realistic.inverse_harmonic_mean_rank = 0.13845255970954895\n",
      "Metric: validation.head.pessimistic.inverse_harmonic_mean_rank = 0.1549155011207414\n",
      "Metric: validation.tail.pessimistic.inverse_harmonic_mean_rank = 0.12182688488281453\n",
      "Metric: validation.both.pessimistic.inverse_harmonic_mean_rank = 0.13837119300177794\n",
      "Metric: validation.head.optimistic.hits_at_1 = 0.12184202110649185\n",
      "Metric: validation.tail.optimistic.hits_at_1 = 0.041893188359449954\n",
      "Metric: validation.both.optimistic.hits_at_1 = 0.0818676047329709\n",
      "Metric: validation.head.realistic.hits_at_1 = 0.12184202110649185\n",
      "Metric: validation.tail.realistic.hits_at_1 = 0.041893188359449954\n",
      "Metric: validation.both.realistic.hits_at_1 = 0.0818676047329709\n",
      "Metric: validation.head.pessimistic.hits_at_1 = 0.12184202110649185\n",
      "Metric: validation.tail.pessimistic.hits_at_1 = 0.041893188359449954\n",
      "Metric: validation.both.pessimistic.hits_at_1 = 0.0818676047329709\n",
      "Metric: validation.head.optimistic.hits_at_3 = 0.15733930284617845\n",
      "Metric: validation.tail.optimistic.hits_at_3 = 0.12695874640230254\n",
      "Metric: validation.both.optimistic.hits_at_3 = 0.14214902462424048\n",
      "Metric: validation.head.realistic.hits_at_3 = 0.15350175887432044\n",
      "Metric: validation.tail.realistic.hits_at_3 = 0.12695874640230254\n",
      "Metric: validation.both.realistic.hits_at_3 = 0.1402302526383115\n",
      "Metric: validation.head.pessimistic.hits_at_3 = 0.15350175887432044\n",
      "Metric: validation.tail.pessimistic.hits_at_3 = 0.12695874640230254\n",
      "Metric: validation.both.pessimistic.hits_at_3 = 0.1402302526383115\n",
      "Metric: validation.head.optimistic.hits_at_5 = 0.18004477134633834\n",
      "Metric: validation.tail.optimistic.hits_at_5 = 0.17972497601535017\n",
      "Metric: validation.both.optimistic.hits_at_5 = 0.17988487368084427\n",
      "Metric: validation.head.realistic.hits_at_5 = 0.17620722737448033\n",
      "Metric: validation.tail.realistic.hits_at_5 = 0.17972497601535017\n",
      "Metric: validation.both.realistic.hits_at_5 = 0.17796610169491525\n",
      "Metric: validation.head.pessimistic.hits_at_5 = 0.17620722737448033\n",
      "Metric: validation.tail.pessimistic.hits_at_5 = 0.17972497601535017\n",
      "Metric: validation.both.pessimistic.hits_at_5 = 0.17796610169491525\n",
      "Metric: validation.head.optimistic.hits_at_10 = 0.21426287176207226\n",
      "Metric: validation.tail.optimistic.hits_at_10 = 0.25967380876239204\n",
      "Metric: validation.both.optimistic.hits_at_10 = 0.23696834026223218\n",
      "Metric: validation.head.realistic.hits_at_10 = 0.21042532779021425\n",
      "Metric: validation.tail.realistic.hits_at_10 = 0.25967380876239204\n",
      "Metric: validation.both.realistic.hits_at_10 = 0.23504956827630316\n",
      "Metric: validation.head.pessimistic.hits_at_10 = 0.21042532779021425\n",
      "Metric: validation.tail.pessimistic.hits_at_10 = 0.25967380876239204\n",
      "Metric: validation.both.pessimistic.hits_at_10 = 0.23504956827630316\n",
      "Step: 2\n",
      "Metric: loss = 0.15492664297910336\n"
     ]
    },
    {
     "data": {
      "text/plain": [
       "[0.37747960020609894, 0.15492664297910336]"
      ]
     },
     "execution_count": 8,
     "metadata": {},
     "output_type": "execute_result"
    }
   ],
   "source": [
    "training_loop.train(\n",
    "        triples_factory=dataset.transductive_training,\n",
    "        num_epochs=2,\n",
    "        callbacks=\"evaluation\",\n",
    "        callback_kwargs=dict(\n",
    "            evaluator=valid_evaluator,\n",
    "            evaluation_triples=dataset.inductive_validation.mapped_triples,\n",
    "            prefix=\"validation\",\n",
    "            frequency=1,\n",
    "            additional_filter_triples=dataset.inductive_inference.mapped_triples,\n",
    "        ),\n",
    "        \n",
    "    )"
   ]
  },
  {
   "cell_type": "code",
   "execution_count": 9,
   "id": "a4aabaae",
   "metadata": {},
   "outputs": [
    {
     "data": {
      "application/vnd.jupyter.widget-view+json": {
       "model_id": "d5b71eaf912c48ba9e76a4b5e230aec0",
       "version_major": 2,
       "version_minor": 0
      },
      "text/plain": [
       "Evaluating on cpu:   0%|          | 0.00/23.5k [00:00<?, ?triple/s]"
      ]
     },
     "metadata": {},
     "output_type": "display_data"
    },
    {
     "name": "stdout",
     "output_type": "stream",
     "text": [
      "head\n",
      "                            optimistic  realistic  pessimistic\n",
      "inverse_harmonic_mean_rank    0.095250   0.095200     0.095183\n",
      "hits_at_1                     0.059031   0.059031     0.059031\n",
      "hits_at_3                     0.099280   0.099280     0.099280\n",
      "hits_at_5                     0.122152   0.122152     0.122152\n",
      "hits_at_10                    0.161932   0.161932     0.161932\n",
      "tail\n",
      "                            optimistic  realistic  pessimistic\n",
      "inverse_harmonic_mean_rank    0.144403   0.144399     0.144396\n",
      "hits_at_1                     0.059287   0.059287     0.059287\n",
      "hits_at_3                     0.164786   0.164786     0.164786\n",
      "hits_at_5                     0.220580   0.220495     0.220495\n",
      "hits_at_10                    0.309894   0.309894     0.309894\n",
      "both\n",
      "                            optimistic  realistic  pessimistic\n",
      "inverse_harmonic_mean_rank    0.119826   0.119800     0.119789\n",
      "hits_at_1                     0.059159   0.059159     0.059159\n",
      "hits_at_3                     0.132033   0.132033     0.132033\n",
      "hits_at_5                     0.171366   0.171323     0.171323\n",
      "hits_at_10                    0.235913   0.235913     0.235913\n"
     ]
    }
   ],
   "source": [
    "# train\n",
    "show_metrics(train_evaluator.evaluate(\n",
    "        model=model,\n",
    "        mapped_triples=dataset.transductive_training.mapped_triples,\n",
    "        additional_filter_triples=[\n",
    "        dataset.transductive_training.mapped_triples,\n",
    "    ]\n",
    "    ).to_dict())"
   ]
  },
  {
   "cell_type": "code",
   "execution_count": 10,
   "id": "c3c7e30e",
   "metadata": {},
   "outputs": [
    {
     "data": {
      "application/vnd.jupyter.widget-view+json": {
       "model_id": "3a2706c68aee491c9501ac9aa8a19a5b",
       "version_major": 2,
       "version_minor": 0
      },
      "text/plain": [
       "Evaluating on cpu:   0%|          | 0.00/3.13k [00:00<?, ?triple/s]"
      ]
     },
     "metadata": {},
     "output_type": "display_data"
    },
    {
     "name": "stdout",
     "output_type": "stream",
     "text": [
      "head\n",
      "                            optimistic  realistic  pessimistic\n",
      "inverse_harmonic_mean_rank    0.156735   0.155032     0.154916\n",
      "hits_at_1                     0.121842   0.121842     0.121842\n",
      "hits_at_3                     0.157339   0.153502     0.153502\n",
      "hits_at_5                     0.180045   0.176207     0.176207\n",
      "hits_at_10                    0.214263   0.210425     0.210425\n",
      "tail\n",
      "                            optimistic  realistic  pessimistic\n",
      "inverse_harmonic_mean_rank    0.121956   0.121873     0.121827\n",
      "hits_at_1                     0.041893   0.041893     0.041893\n",
      "hits_at_3                     0.126959   0.126959     0.126959\n",
      "hits_at_5                     0.179725   0.179725     0.179725\n",
      "hits_at_10                    0.259674   0.259674     0.259674\n",
      "both\n",
      "                            optimistic  realistic  pessimistic\n",
      "inverse_harmonic_mean_rank    0.139346   0.138453     0.138371\n",
      "hits_at_1                     0.081868   0.081868     0.081868\n",
      "hits_at_3                     0.142149   0.140230     0.140230\n",
      "hits_at_5                     0.179885   0.177966     0.177966\n",
      "hits_at_10                    0.236968   0.235050     0.235050\n"
     ]
    }
   ],
   "source": [
    "# validation\n",
    "show_metrics(valid_evaluator.evaluate(\n",
    "        model=model,\n",
    "        mapped_triples=dataset.inductive_validation.mapped_triples,\n",
    "        additional_filter_triples=[\n",
    "            # filtering of other positive triples\n",
    "            dataset.inductive_inference.mapped_triples\n",
    "        ],\n",
    "    ).to_dict())"
   ]
  },
  {
   "cell_type": "code",
   "execution_count": 11,
   "id": "98aaf677",
   "metadata": {},
   "outputs": [
    {
     "data": {
      "application/vnd.jupyter.widget-view+json": {
       "model_id": "a1bd10fb3cbe41c290741e2a4d022661",
       "version_major": 2,
       "version_minor": 0
      },
      "text/plain": [
       "Evaluating on cpu:   0%|          | 0.00/3.98k [00:00<?, ?triple/s]"
      ]
     },
     "metadata": {},
     "output_type": "display_data"
    },
    {
     "name": "stdout",
     "output_type": "stream",
     "text": [
      "head\n",
      "                            optimistic  realistic  pessimistic\n",
      "inverse_harmonic_mean_rank    0.147100   0.144758     0.144600\n",
      "hits_at_1                     0.108291   0.108291     0.108291\n",
      "hits_at_3                     0.151256   0.145980     0.145980\n",
      "hits_at_5                     0.174623   0.169347     0.169347\n",
      "hits_at_10                    0.212060   0.206784     0.206784\n",
      "tail\n",
      "                            optimistic  realistic  pessimistic\n",
      "inverse_harmonic_mean_rank    0.129383   0.129298     0.129247\n",
      "hits_at_1                     0.047236   0.047236     0.047236\n",
      "hits_at_3                     0.135930   0.135930     0.135930\n",
      "hits_at_5                     0.192714   0.192211     0.192211\n",
      "hits_at_10                    0.273869   0.273869     0.273869\n",
      "both\n",
      "                            optimistic  realistic  pessimistic\n",
      "inverse_harmonic_mean_rank    0.138242   0.137028     0.136924\n",
      "hits_at_1                     0.077764   0.077764     0.077764\n",
      "hits_at_3                     0.143593   0.140955     0.140955\n",
      "hits_at_5                     0.183668   0.180779     0.180779\n",
      "hits_at_10                    0.242965   0.240327     0.240327\n"
     ]
    }
   ],
   "source": [
    "# result on the test set\n",
    "show_metrics(test_evaluator.evaluate(\n",
    "        model=model,\n",
    "        mapped_triples=dataset.inductive_testing.mapped_triples,\n",
    "        additional_filter_triples=[\n",
    "            # filtering of other positive triples\n",
    "            dataset.inductive_inference.mapped_triples,\n",
    "            dataset.inductive_validation.mapped_triples,\n",
    "        ],\n",
    "    ).to_dict())"
   ]
  },
  {
   "cell_type": "code",
   "execution_count": null,
   "id": "2cc0af62",
   "metadata": {},
   "outputs": [],
   "source": []
  }
 ],
 "metadata": {
  "kernelspec": {
   "display_name": "Python 3 (ipykernel)",
   "language": "python",
   "name": "python3"
  },
  "language_info": {
   "codemirror_mode": {
    "name": "ipython",
    "version": 3
   },
   "file_extension": ".py",
   "mimetype": "text/x-python",
   "name": "python",
   "nbconvert_exporter": "python",
   "pygments_lexer": "ipython3",
   "version": "3.9.16"
  }
 },
 "nbformat": 4,
 "nbformat_minor": 5
}
