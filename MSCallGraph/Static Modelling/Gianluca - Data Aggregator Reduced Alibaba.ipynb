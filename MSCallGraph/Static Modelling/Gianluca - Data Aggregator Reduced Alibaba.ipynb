{
 "cells": [
  {
   "cell_type": "markdown",
   "id": "888a82b2",
   "metadata": {
    "pycharm": {
     "name": "#%% md\n"
    }
   },
   "source": [
    "In this notebook I am joining the previously processed reduced dataset parts. It will be used for creating the trace test set."
   ]
  },
  {
   "cell_type": "code",
   "execution_count": 1,
   "id": "16613799",
   "metadata": {
    "pycharm": {
     "name": "#%%\n"
    }
   },
   "outputs": [],
   "source": [
    "import pandas as pd\n",
    "import numpy as np\n",
    "import zipfile\n",
    "import joblib\n",
    "from tqdm import tqdm\n",
    "import contextlib"
   ]
  },
  {
   "cell_type": "code",
   "execution_count": 3,
   "id": "ff068c98",
   "metadata": {
    "pycharm": {
     "name": "#%%\n"
    }
   },
   "outputs": [],
   "source": [
    "\n",
    "to_skip = tuple([2,57,60,64,66,75,98,101,125,129,130,144]) # corrupted files\n",
    "df_list = []\n",
    "\n",
    "# define a function to extract and process a single file\n",
    "def extract_and_process_file(i):  \n",
    "    if to_skip.count(i) > 0:\n",
    "        return None\n",
    "        \n",
    "    # specify the name of the zip file and the directory to extract the contents\n",
    "    zip_file_name = f'MSCallGraph_{i}_reduced.zip'\n",
    "    extract_dir = \"\"\n",
    "\n",
    "    # create a ZipFile object and extract the contents to the specified directory\n",
    "    with zipfile.ZipFile(zip_file_name, 'r') as zip_ref:\n",
    "        zip_ref.extractall(extract_dir)\n",
    "    \n",
    "    # read the CSV file and process it\n",
    "    df = pd.read_csv(f'MSCallGraph_{i}_reduced.csv').drop(['Unnamed: 0'],axis = 1).drop_duplicates()\n",
    "    return df\n"
   ]
  },
  {
   "cell_type": "code",
   "execution_count": 4,
   "id": "7ae5be6d",
   "metadata": {
    "pycharm": {
     "name": "#%%\n"
    }
   },
   "outputs": [],
   "source": [
    "\n",
    "\n",
    "@contextlib.contextmanager\n",
    "def tqdm_joblib(tqdm_object):\n",
    "    \"\"\"Context manager to patch joblib to report into tqdm progress bar given as argument\"\"\"\n",
    "    class TqdmBatchCompletionCallback(joblib.parallel.BatchCompletionCallBack):\n",
    "        def __call__(self, *args, **kwargs):\n",
    "            tqdm_object.update(n=self.batch_size)\n",
    "            return super().__call__(*args, **kwargs)\n",
    "\n",
    "    old_batch_callback = joblib.parallel.BatchCompletionCallBack\n",
    "    joblib.parallel.BatchCompletionCallBack = TqdmBatchCompletionCallback\n",
    "    try:\n",
    "        yield tqdm_object\n",
    "    finally:\n",
    "        joblib.parallel.BatchCompletionCallBack = old_batch_callback\n",
    "        tqdm_object.close()"
   ]
  },
  {
   "cell_type": "code",
   "execution_count": 5,
   "id": "3413ecb2",
   "metadata": {
    "pycharm": {
     "name": "#%%\n"
    }
   },
   "outputs": [
    {
     "name": "stderr",
     "output_type": "stream",
     "text": [
      "aggregating reducedd: 100%|██████████| 145/145 [00:25<00:00,  5.72it/s]\n"
     ]
    }
   ],
   "source": [
    "# use joblib.Parallel to extract and process the files in parallel\n",
    "n_jobs = -1 # use all available CPUs\n",
    "print(\"cpu \",n_jobs)\n",
    "with tqdm_joblib(tqdm(desc=\"aggregating reducedd\", total=145)) as progress_bar:\n",
    "    results = joblib.Parallel(n_jobs=n_jobs)(joblib.delayed(extract_and_process_file)(i) for i in range(0, 145))\n",
    "\n",
    "# filter out the None values and append the processed dataframes to df_list\n",
    "for df in results:\n",
    "    if df is not None:\n",
    "        df_list.append(df)"
   ]
  },
  {
   "cell_type": "code",
   "execution_count": 6,
   "id": "d444c0e1",
   "metadata": {
    "scrolled": true,
    "pycharm": {
     "name": "#%%\n"
    }
   },
   "outputs": [
    {
     "data": {
      "text/html": [
       "<div>\n",
       "<style scoped>\n",
       "    .dataframe tbody tr th:only-of-type {\n",
       "        vertical-align: middle;\n",
       "    }\n",
       "\n",
       "    .dataframe tbody tr th {\n",
       "        vertical-align: top;\n",
       "    }\n",
       "\n",
       "    .dataframe thead th {\n",
       "        text-align: right;\n",
       "    }\n",
       "</style>\n",
       "<table border=\"1\" class=\"dataframe\">\n",
       "  <thead>\n",
       "    <tr style=\"text-align: right;\">\n",
       "      <th></th>\n",
       "      <th>traceid</th>\n",
       "      <th>um</th>\n",
       "      <th>rpctype</th>\n",
       "      <th>dm</th>\n",
       "    </tr>\n",
       "  </thead>\n",
       "  <tbody>\n",
       "    <tr>\n",
       "      <th>0</th>\n",
       "      <td>0b133c1915919238193454000e5d37</td>\n",
       "      <td>5cca70246befb1f4c9546d2912b9419dee54439218efa5...</td>\n",
       "      <td>mc</td>\n",
       "      <td>b1dbd3a649a3cc790fa12573c9c1aa00988e07a8818a22...</td>\n",
       "    </tr>\n",
       "    <tr>\n",
       "      <th>1</th>\n",
       "      <td>0b133c1915919238193454000e5d37</td>\n",
       "      <td>4ab265f54516248ee8873be7d6441912456ce17e84f399...</td>\n",
       "      <td>mc</td>\n",
       "      <td>fd6d86bd0fd550e717c1fdb82a33190a9fef216d87d535...</td>\n",
       "    </tr>\n",
       "    <tr>\n",
       "      <th>2</th>\n",
       "      <td>0b133c1915919238193454000e5d37</td>\n",
       "      <td>5cca70246befb1f4c9546d2912b9419dee54439218efa5...</td>\n",
       "      <td>userDefined</td>\n",
       "      <td>5cca70246befb1f4c9546d2912b9419dee54439218efa5...</td>\n",
       "    </tr>\n",
       "    <tr>\n",
       "      <th>3</th>\n",
       "      <td>0b133c1915919238193454000e5d37</td>\n",
       "      <td>75e56c8fbb9336eb4dd40f5f609d5344203d374d73fd0b...</td>\n",
       "      <td>rpc</td>\n",
       "      <td>84f9f68ef003a21288fffe8f9a09a5a29b05f4cc4229b8...</td>\n",
       "    </tr>\n",
       "    <tr>\n",
       "      <th>4</th>\n",
       "      <td>0b133c1915919238193454000e5d37</td>\n",
       "      <td>4ab265f54516248ee8873be7d6441912456ce17e84f399...</td>\n",
       "      <td>mc</td>\n",
       "      <td>01d660afcfadafd587e20ec4c04ddbc7eb0de95643ba0e...</td>\n",
       "    </tr>\n",
       "    <tr>\n",
       "      <th>...</th>\n",
       "      <td>...</td>\n",
       "      <td>...</td>\n",
       "      <td>...</td>\n",
       "      <td>...</td>\n",
       "    </tr>\n",
       "    <tr>\n",
       "      <th>1708154</th>\n",
       "      <td>0b5106e415919252519982000e6709</td>\n",
       "      <td>95a6f7f8345e2eca31ee74ddc19d547e7fc0f5c8e65772...</td>\n",
       "      <td>mc</td>\n",
       "      <td>0b0c981da8042a436f30f7d9f7cce74360abe630bd5478...</td>\n",
       "    </tr>\n",
       "    <tr>\n",
       "      <th>1708155</th>\n",
       "      <td>0b5106e415919252519982000e6709</td>\n",
       "      <td>95a6f7f8345e2eca31ee74ddc19d547e7fc0f5c8e65772...</td>\n",
       "      <td>mc</td>\n",
       "      <td>5c5200228afeec02308f5fdd4bdfa256b2245a163b3c81...</td>\n",
       "    </tr>\n",
       "    <tr>\n",
       "      <th>1708156</th>\n",
       "      <td>0b5106e715919253897478000e53d1</td>\n",
       "      <td>63b8a25a4a9f80c7508c0db0d163af6d9e6c0746c9b7e2...</td>\n",
       "      <td>mc</td>\n",
       "      <td>9653f5baba69c9fb50bfb30a8571eb04dbceaae7c7f379...</td>\n",
       "    </tr>\n",
       "    <tr>\n",
       "      <th>1708157</th>\n",
       "      <td>0b5106e715919253897478000e53d1</td>\n",
       "      <td>63b8a25a4a9f80c7508c0db0d163af6d9e6c0746c9b7e2...</td>\n",
       "      <td>mc</td>\n",
       "      <td>04940a16b54c3d25fe069d5fa3b209e6897040996c3715...</td>\n",
       "    </tr>\n",
       "    <tr>\n",
       "      <th>1708158</th>\n",
       "      <td>0b5106e715919253897478000e53d1</td>\n",
       "      <td>63b8a25a4a9f80c7508c0db0d163af6d9e6c0746c9b7e2...</td>\n",
       "      <td>mc</td>\n",
       "      <td>9cc1113009ea0ec1a4cf99fa6984bd49be8dd026be4292...</td>\n",
       "    </tr>\n",
       "  </tbody>\n",
       "</table>\n",
       "<p>8348257 rows × 4 columns</p>\n",
       "</div>"
      ],
      "text/plain": [
       "                                traceid  \\\n",
       "0        0b133c1915919238193454000e5d37   \n",
       "1        0b133c1915919238193454000e5d37   \n",
       "2        0b133c1915919238193454000e5d37   \n",
       "3        0b133c1915919238193454000e5d37   \n",
       "4        0b133c1915919238193454000e5d37   \n",
       "...                                 ...   \n",
       "1708154  0b5106e415919252519982000e6709   \n",
       "1708155  0b5106e415919252519982000e6709   \n",
       "1708156  0b5106e715919253897478000e53d1   \n",
       "1708157  0b5106e715919253897478000e53d1   \n",
       "1708158  0b5106e715919253897478000e53d1   \n",
       "\n",
       "                                                        um      rpctype  \\\n",
       "0        5cca70246befb1f4c9546d2912b9419dee54439218efa5...           mc   \n",
       "1        4ab265f54516248ee8873be7d6441912456ce17e84f399...           mc   \n",
       "2        5cca70246befb1f4c9546d2912b9419dee54439218efa5...  userDefined   \n",
       "3        75e56c8fbb9336eb4dd40f5f609d5344203d374d73fd0b...          rpc   \n",
       "4        4ab265f54516248ee8873be7d6441912456ce17e84f399...           mc   \n",
       "...                                                    ...          ...   \n",
       "1708154  95a6f7f8345e2eca31ee74ddc19d547e7fc0f5c8e65772...           mc   \n",
       "1708155  95a6f7f8345e2eca31ee74ddc19d547e7fc0f5c8e65772...           mc   \n",
       "1708156  63b8a25a4a9f80c7508c0db0d163af6d9e6c0746c9b7e2...           mc   \n",
       "1708157  63b8a25a4a9f80c7508c0db0d163af6d9e6c0746c9b7e2...           mc   \n",
       "1708158  63b8a25a4a9f80c7508c0db0d163af6d9e6c0746c9b7e2...           mc   \n",
       "\n",
       "                                                        dm  \n",
       "0        b1dbd3a649a3cc790fa12573c9c1aa00988e07a8818a22...  \n",
       "1        fd6d86bd0fd550e717c1fdb82a33190a9fef216d87d535...  \n",
       "2        5cca70246befb1f4c9546d2912b9419dee54439218efa5...  \n",
       "3        84f9f68ef003a21288fffe8f9a09a5a29b05f4cc4229b8...  \n",
       "4        01d660afcfadafd587e20ec4c04ddbc7eb0de95643ba0e...  \n",
       "...                                                    ...  \n",
       "1708154  0b0c981da8042a436f30f7d9f7cce74360abe630bd5478...  \n",
       "1708155  5c5200228afeec02308f5fdd4bdfa256b2245a163b3c81...  \n",
       "1708156  9653f5baba69c9fb50bfb30a8571eb04dbceaae7c7f379...  \n",
       "1708157  04940a16b54c3d25fe069d5fa3b209e6897040996c3715...  \n",
       "1708158  9cc1113009ea0ec1a4cf99fa6984bd49be8dd026be4292...  \n",
       "\n",
       "[8348257 rows x 4 columns]"
      ]
     },
     "execution_count": 6,
     "metadata": {},
     "output_type": "execute_result"
    }
   ],
   "source": [
    "df = pd.concat(df_list).drop_duplicates()\n",
    "df"
   ]
  },
  {
   "cell_type": "code",
   "execution_count": 7,
   "id": "7bc751fb",
   "metadata": {
    "pycharm": {
     "name": "#%%\n"
    }
   },
   "outputs": [],
   "source": [
    "df.to_csv('MSCallGraph_joined_reduced.csv',index=False)"
   ]
  },
  {
   "cell_type": "code",
   "execution_count": 8,
   "id": "44552068",
   "metadata": {
    "pycharm": {
     "name": "#%%\n"
    }
   },
   "outputs": [
    {
     "data": {
      "text/html": [
       "<div>\n",
       "<style scoped>\n",
       "    .dataframe tbody tr th:only-of-type {\n",
       "        vertical-align: middle;\n",
       "    }\n",
       "\n",
       "    .dataframe tbody tr th {\n",
       "        vertical-align: top;\n",
       "    }\n",
       "\n",
       "    .dataframe thead th {\n",
       "        text-align: right;\n",
       "    }\n",
       "</style>\n",
       "<table border=\"1\" class=\"dataframe\">\n",
       "  <thead>\n",
       "    <tr style=\"text-align: right;\">\n",
       "      <th></th>\n",
       "      <th>traceid</th>\n",
       "      <th>um</th>\n",
       "      <th>rpctype</th>\n",
       "      <th>dm</th>\n",
       "    </tr>\n",
       "  </thead>\n",
       "  <tbody>\n",
       "    <tr>\n",
       "      <th>0</th>\n",
       "      <td>0b133c1915919238193454000e5d37</td>\n",
       "      <td>5cca70246befb1f4c9546d2912b9419dee54439218efa5...</td>\n",
       "      <td>mc</td>\n",
       "      <td>b1dbd3a649a3cc790fa12573c9c1aa00988e07a8818a22...</td>\n",
       "    </tr>\n",
       "    <tr>\n",
       "      <th>1</th>\n",
       "      <td>0b133c1915919238193454000e5d37</td>\n",
       "      <td>4ab265f54516248ee8873be7d6441912456ce17e84f399...</td>\n",
       "      <td>mc</td>\n",
       "      <td>fd6d86bd0fd550e717c1fdb82a33190a9fef216d87d535...</td>\n",
       "    </tr>\n",
       "    <tr>\n",
       "      <th>2</th>\n",
       "      <td>0b133c1915919238193454000e5d37</td>\n",
       "      <td>5cca70246befb1f4c9546d2912b9419dee54439218efa5...</td>\n",
       "      <td>userDefined</td>\n",
       "      <td>5cca70246befb1f4c9546d2912b9419dee54439218efa5...</td>\n",
       "    </tr>\n",
       "    <tr>\n",
       "      <th>3</th>\n",
       "      <td>0b133c1915919238193454000e5d37</td>\n",
       "      <td>75e56c8fbb9336eb4dd40f5f609d5344203d374d73fd0b...</td>\n",
       "      <td>rpc</td>\n",
       "      <td>84f9f68ef003a21288fffe8f9a09a5a29b05f4cc4229b8...</td>\n",
       "    </tr>\n",
       "    <tr>\n",
       "      <th>4</th>\n",
       "      <td>0b133c1915919238193454000e5d37</td>\n",
       "      <td>4ab265f54516248ee8873be7d6441912456ce17e84f399...</td>\n",
       "      <td>mc</td>\n",
       "      <td>01d660afcfadafd587e20ec4c04ddbc7eb0de95643ba0e...</td>\n",
       "    </tr>\n",
       "    <tr>\n",
       "      <th>...</th>\n",
       "      <td>...</td>\n",
       "      <td>...</td>\n",
       "      <td>...</td>\n",
       "      <td>...</td>\n",
       "    </tr>\n",
       "    <tr>\n",
       "      <th>8348252</th>\n",
       "      <td>0b5106e415919252519982000e6709</td>\n",
       "      <td>95a6f7f8345e2eca31ee74ddc19d547e7fc0f5c8e65772...</td>\n",
       "      <td>mc</td>\n",
       "      <td>0b0c981da8042a436f30f7d9f7cce74360abe630bd5478...</td>\n",
       "    </tr>\n",
       "    <tr>\n",
       "      <th>8348253</th>\n",
       "      <td>0b5106e415919252519982000e6709</td>\n",
       "      <td>95a6f7f8345e2eca31ee74ddc19d547e7fc0f5c8e65772...</td>\n",
       "      <td>mc</td>\n",
       "      <td>5c5200228afeec02308f5fdd4bdfa256b2245a163b3c81...</td>\n",
       "    </tr>\n",
       "    <tr>\n",
       "      <th>8348254</th>\n",
       "      <td>0b5106e715919253897478000e53d1</td>\n",
       "      <td>63b8a25a4a9f80c7508c0db0d163af6d9e6c0746c9b7e2...</td>\n",
       "      <td>mc</td>\n",
       "      <td>9653f5baba69c9fb50bfb30a8571eb04dbceaae7c7f379...</td>\n",
       "    </tr>\n",
       "    <tr>\n",
       "      <th>8348255</th>\n",
       "      <td>0b5106e715919253897478000e53d1</td>\n",
       "      <td>63b8a25a4a9f80c7508c0db0d163af6d9e6c0746c9b7e2...</td>\n",
       "      <td>mc</td>\n",
       "      <td>04940a16b54c3d25fe069d5fa3b209e6897040996c3715...</td>\n",
       "    </tr>\n",
       "    <tr>\n",
       "      <th>8348256</th>\n",
       "      <td>0b5106e715919253897478000e53d1</td>\n",
       "      <td>63b8a25a4a9f80c7508c0db0d163af6d9e6c0746c9b7e2...</td>\n",
       "      <td>mc</td>\n",
       "      <td>9cc1113009ea0ec1a4cf99fa6984bd49be8dd026be4292...</td>\n",
       "    </tr>\n",
       "  </tbody>\n",
       "</table>\n",
       "<p>8348257 rows × 4 columns</p>\n",
       "</div>"
      ],
      "text/plain": [
       "                                traceid  \\\n",
       "0        0b133c1915919238193454000e5d37   \n",
       "1        0b133c1915919238193454000e5d37   \n",
       "2        0b133c1915919238193454000e5d37   \n",
       "3        0b133c1915919238193454000e5d37   \n",
       "4        0b133c1915919238193454000e5d37   \n",
       "...                                 ...   \n",
       "8348252  0b5106e415919252519982000e6709   \n",
       "8348253  0b5106e415919252519982000e6709   \n",
       "8348254  0b5106e715919253897478000e53d1   \n",
       "8348255  0b5106e715919253897478000e53d1   \n",
       "8348256  0b5106e715919253897478000e53d1   \n",
       "\n",
       "                                                        um      rpctype  \\\n",
       "0        5cca70246befb1f4c9546d2912b9419dee54439218efa5...           mc   \n",
       "1        4ab265f54516248ee8873be7d6441912456ce17e84f399...           mc   \n",
       "2        5cca70246befb1f4c9546d2912b9419dee54439218efa5...  userDefined   \n",
       "3        75e56c8fbb9336eb4dd40f5f609d5344203d374d73fd0b...          rpc   \n",
       "4        4ab265f54516248ee8873be7d6441912456ce17e84f399...           mc   \n",
       "...                                                    ...          ...   \n",
       "8348252  95a6f7f8345e2eca31ee74ddc19d547e7fc0f5c8e65772...           mc   \n",
       "8348253  95a6f7f8345e2eca31ee74ddc19d547e7fc0f5c8e65772...           mc   \n",
       "8348254  63b8a25a4a9f80c7508c0db0d163af6d9e6c0746c9b7e2...           mc   \n",
       "8348255  63b8a25a4a9f80c7508c0db0d163af6d9e6c0746c9b7e2...           mc   \n",
       "8348256  63b8a25a4a9f80c7508c0db0d163af6d9e6c0746c9b7e2...           mc   \n",
       "\n",
       "                                                        dm  \n",
       "0        b1dbd3a649a3cc790fa12573c9c1aa00988e07a8818a22...  \n",
       "1        fd6d86bd0fd550e717c1fdb82a33190a9fef216d87d535...  \n",
       "2        5cca70246befb1f4c9546d2912b9419dee54439218efa5...  \n",
       "3        84f9f68ef003a21288fffe8f9a09a5a29b05f4cc4229b8...  \n",
       "4        01d660afcfadafd587e20ec4c04ddbc7eb0de95643ba0e...  \n",
       "...                                                    ...  \n",
       "8348252  0b0c981da8042a436f30f7d9f7cce74360abe630bd5478...  \n",
       "8348253  5c5200228afeec02308f5fdd4bdfa256b2245a163b3c81...  \n",
       "8348254  9653f5baba69c9fb50bfb30a8571eb04dbceaae7c7f379...  \n",
       "8348255  04940a16b54c3d25fe069d5fa3b209e6897040996c3715...  \n",
       "8348256  9cc1113009ea0ec1a4cf99fa6984bd49be8dd026be4292...  \n",
       "\n",
       "[8348257 rows x 4 columns]"
      ]
     },
     "execution_count": 8,
     "metadata": {},
     "output_type": "execute_result"
    }
   ],
   "source": [
    "df = pd.read_csv('MSCallGraph_joined_reduced.csv')\n",
    "df"
   ]
  },
  {
   "cell_type": "code",
   "execution_count": 10,
   "id": "411449eb",
   "metadata": {
    "pycharm": {
     "name": "#%%\n"
    }
   },
   "outputs": [
    {
     "name": "stdout",
     "output_type": "stream",
     "text": [
      "                                traceid  \\\n",
      "0        0b133c1915919238193454000e5d37   \n",
      "1        0b133c1915919238193454000e5d37   \n",
      "2        0b133c1915919238193454000e5d37   \n",
      "3        0b133c1915919238193454000e5d37   \n",
      "4        0b133c1915919238193454000e5d37   \n",
      "...                                 ...   \n",
      "8348252  0b5106e415919252519982000e6709   \n",
      "8348253  0b5106e415919252519982000e6709   \n",
      "8348254  0b5106e715919253897478000e53d1   \n",
      "8348255  0b5106e715919253897478000e53d1   \n",
      "8348256  0b5106e715919253897478000e53d1   \n",
      "\n",
      "                                                        um      rpctype  \\\n",
      "0        5cca70246befb1f4c9546d2912b9419dee54439218efa5...           mc   \n",
      "1        4ab265f54516248ee8873be7d6441912456ce17e84f399...           mc   \n",
      "2        5cca70246befb1f4c9546d2912b9419dee54439218efa5...  userDefined   \n",
      "3        75e56c8fbb9336eb4dd40f5f609d5344203d374d73fd0b...          rpc   \n",
      "4        4ab265f54516248ee8873be7d6441912456ce17e84f399...           mc   \n",
      "...                                                    ...          ...   \n",
      "8348252  95a6f7f8345e2eca31ee74ddc19d547e7fc0f5c8e65772...           mc   \n",
      "8348253  95a6f7f8345e2eca31ee74ddc19d547e7fc0f5c8e65772...           mc   \n",
      "8348254  63b8a25a4a9f80c7508c0db0d163af6d9e6c0746c9b7e2...           mc   \n",
      "8348255  63b8a25a4a9f80c7508c0db0d163af6d9e6c0746c9b7e2...           mc   \n",
      "8348256  63b8a25a4a9f80c7508c0db0d163af6d9e6c0746c9b7e2...           mc   \n",
      "\n",
      "                                                        dm  \n",
      "0        b1dbd3a649a3cc790fa12573c9c1aa00988e07a8818a22...  \n",
      "1        fd6d86bd0fd550e717c1fdb82a33190a9fef216d87d535...  \n",
      "2        5cca70246befb1f4c9546d2912b9419dee54439218efa5...  \n",
      "3        84f9f68ef003a21288fffe8f9a09a5a29b05f4cc4229b8...  \n",
      "4        01d660afcfadafd587e20ec4c04ddbc7eb0de95643ba0e...  \n",
      "...                                                    ...  \n",
      "8348252  0b0c981da8042a436f30f7d9f7cce74360abe630bd5478...  \n",
      "8348253  5c5200228afeec02308f5fdd4bdfa256b2245a163b3c81...  \n",
      "8348254  9653f5baba69c9fb50bfb30a8571eb04dbceaae7c7f379...  \n",
      "8348255  04940a16b54c3d25fe069d5fa3b209e6897040996c3715...  \n",
      "8348256  9cc1113009ea0ec1a4cf99fa6984bd49be8dd026be4292...  \n",
      "\n",
      "[8348257 rows x 4 columns]\n"
     ]
    }
   ],
   "source": [
    "print(df)"
   ]
  },
  {
   "cell_type": "code",
   "execution_count": 9,
   "id": "9de7b425",
   "metadata": {
    "pycharm": {
     "name": "#%%\n"
    }
   },
   "outputs": [],
   "source": [
    "import zipfile\n",
    "filename = 'MSCallGraph_joined_reduced.csv'\n",
    "zipfilename = 'MSCallGraph_joined_reduced.zip'\n",
    "\n",
    "# Create a ZipFile object and add the file to it\n",
    "with zipfile.ZipFile(zipfilename, 'w', compresslevel=9, compression=zipfile.ZIP_LZMA) as zip:\n",
    "    zip.write(filename)"
   ]
  }
 ],
 "metadata": {
  "kernelspec": {
   "display_name": "Python 3 (ipykernel)",
   "language": "python",
   "name": "python3"
  },
  "language_info": {
   "codemirror_mode": {
    "name": "ipython",
    "version": 3
   },
   "file_extension": ".py",
   "mimetype": "text/x-python",
   "name": "python",
   "nbconvert_exporter": "python",
   "pygments_lexer": "ipython3",
   "version": "3.9.16"
  }
 },
 "nbformat": 4,
 "nbformat_minor": 5
}