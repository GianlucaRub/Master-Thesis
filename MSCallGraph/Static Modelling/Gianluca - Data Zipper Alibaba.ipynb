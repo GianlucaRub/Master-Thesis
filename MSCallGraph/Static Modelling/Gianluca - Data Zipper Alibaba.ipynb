{
 "cells": [
  {
   "cell_type": "markdown",
   "id": "888a82b2",
   "metadata": {},
   "source": [
    "Here I am zipping the files obtained by using Data Extractor VT Alibaba notebook"
   ]
  },
  {
   "cell_type": "code",
   "execution_count": 1,
   "id": "7e56d149",
   "metadata": {},
   "outputs": [],
   "source": [
    "import time\n",
    "start = time.time()"
   ]
  },
  {
   "cell_type": "code",
   "execution_count": 2,
   "id": "309d8d96",
   "metadata": {},
   "outputs": [],
   "source": [
    "import zipfile\n",
    "from joblib import Parallel, delayed\n",
    "import os\n",
    "\n",
    "to_skip = tuple([2,57,60,64,66,75,98,101,125,129,130,144]) # corrupted files\n",
    "\n",
    "def process_file(i):\n",
    "    if to_skip.count(i) > 0:\n",
    "        return\n",
    "    # Define the file name and the zip file name\n",
    "    filename = f'MSCallGraph_{i}_reduced.csv'\n",
    "    zipfilename = f'MSCallGraph_{i}_reduced.zip'\n",
    "\n",
    "    # Create a ZipFile object and add the file to it\n",
    "    with zipfile.ZipFile(zipfilename, 'w', compresslevel=9, compression=zipfile.ZIP_LZMA) as zip:\n",
    "        zip.write(filename)\n",
    "\n",
    "# Parallelize the loop using joblib\n",
    "num_cores = os.cpu_count()  # number of cores to use\n",
    "results = Parallel(n_jobs=num_cores)(delayed(process_file)(i) for i in range(0, 145))\n"
   ]
  },
  {
   "cell_type": "code",
   "execution_count": 3,
   "id": "803dbfb6",
   "metadata": {},
   "outputs": [
    {
     "data": {
      "text/plain": [
       "1883.1930060386658"
      ]
     },
     "execution_count": 3,
     "metadata": {},
     "output_type": "execute_result"
    }
   ],
   "source": [
    "duration = time.time() -start\n",
    "duration"
   ]
  }
 ],
 "metadata": {
  "kernelspec": {
   "display_name": "Python 3 (ipykernel)",
   "language": "python",
   "name": "python3"
  },
  "language_info": {
   "codemirror_mode": {
    "name": "ipython",
    "version": 3
   },
   "file_extension": ".py",
   "mimetype": "text/x-python",
   "name": "python",
   "nbconvert_exporter": "python",
   "pygments_lexer": "ipython3",
   "version": "3.9.16"
  }
 },
 "nbformat": 4,
 "nbformat_minor": 5
}
