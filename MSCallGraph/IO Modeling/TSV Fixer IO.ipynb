{
 "cells": [
  {
   "cell_type": "markdown",
   "id": "edb09737",
   "metadata": {},
   "source": [
    "TSV files previously created in Gianluca - MSCallGraph - tsv creation transductive incomplete traces all trace, were corrupted"
   ]
  },
  {
   "cell_type": "code",
   "execution_count": 1,
   "id": "184c47b1",
   "metadata": {},
   "outputs": [],
   "source": [
    "import zipfile\n",
    "# specify the name of the zip file and the directory to extract the contents\n",
    "zip_file_name = f'Testing Traces/MSCallGraph_traces.zip'\n",
    "extract_dir = \"Testing Traces/\"\n",
    "\n",
    "# create a ZipFile object and extract the contents to the specified directory\n",
    "with zipfile.ZipFile(zip_file_name, 'r') as zip_ref:\n",
    "    zip_ref.extractall(extract_dir)\n"
   ]
  },
  {
   "cell_type": "code",
   "execution_count": 2,
   "id": "01e46053",
   "metadata": {},
   "outputs": [],
   "source": [
    "import fileinput\n",
    "\n",
    "def fixer_tsv(path):\n",
    "    # Apri il file in modalità di lettura/scrittura\n",
    "    with fileinput.FileInput(path, inplace=True) as file:\n",
    "        # Scansione di ogni riga del file\n",
    "        for line in file:\n",
    "            # Sostituzione della stringa cercata con la nuova stringa\n",
    "            new_line = line.replace('    ', '\t')\n",
    "            # Stampa la nuova riga sul file\n",
    "            print(new_line, end='')\n",
    "\n",
    "def fixer_trace(traceid):\n",
    "    fixer_tsv(\"Testing Traces/MSCallGraph_traces/train/\" + traceid + \"_transductive_train.tsv\")\n",
    "    fixer_tsv(\"Testing Traces/MSCallGraph_traces/test/\" +traceid + \"_transductive_test.tsv\")"
   ]
  },
  {
   "cell_type": "code",
   "execution_count": 3,
   "id": "b2d0dc16",
   "metadata": {},
   "outputs": [],
   "source": [
    "import os\n",
    "\n",
    "# Specifica il percorso della cartella da cui si vogliono ottenere i nomi dei file\n",
    "folder_path = \"Testing Traces/MSCallGraph_traces/train/\"\n",
    "\n",
    "# Scansione di ogni file nella cartella\n",
    "for filename in os.listdir(folder_path):\n",
    "    # Ottenere il nome del file\n",
    "    file_name = os.path.basename(filename)\n",
    "    # Stampa il nome del file\n",
    "    fixer_trace(file_name[:-23])\n"
   ]
  },
  {
   "cell_type": "code",
   "execution_count": 4,
   "id": "c18e995b",
   "metadata": {},
   "outputs": [
    {
     "name": "stdout",
     "output_type": "stream",
     "text": [
      "Zipping\n",
      "Testing Traces/MSCallGraph_traces.zip created successfully!\n",
      "Done\n"
     ]
    }
   ],
   "source": [
    "\n",
    "def zip_folder(folder_path, output_path):\n",
    "    \"\"\"\n",
    "    Compresses a folder into a zip file.\n",
    "\n",
    "    :param folder_path: The path to the folder to be compressed.\n",
    "    :param output_path: The path and filename of the resulting zip file.\n",
    "    \"\"\"\n",
    "\n",
    "    with zipfile.ZipFile(output_path, 'w', zipfile.ZIP_DEFLATED) as zip_file:\n",
    "        # Iterate over all the files in the folder and add them to the zip file.\n",
    "        for root, dirs, files in os.walk(folder_path):\n",
    "            for file in files:\n",
    "                zip_file.write(os.path.join(root, file))\n",
    "\n",
    "    print(f\"{output_path} created successfully!\")\n",
    "\n",
    "\n",
    "# Example usage\n",
    "folder_path = \"Testing Traces/MSCallGraph_traces\"\n",
    "output_path = folder_path+\".zip\"\n",
    "\n",
    "print(\"Zipping\")\n",
    "zip_folder(folder_path, output_path)\n",
    "print(\"Done\")"
   ]
  }
 ],
 "metadata": {
  "kernelspec": {
   "display_name": "Python 3 (ipykernel)",
   "language": "python",
   "name": "python3"
  },
  "language_info": {
   "codemirror_mode": {
    "name": "ipython",
    "version": 3
   },
   "file_extension": ".py",
   "mimetype": "text/x-python",
   "name": "python",
   "nbconvert_exporter": "python",
   "pygments_lexer": "ipython3",
   "version": "3.9.16"
  }
 },
 "nbformat": 4,
 "nbformat_minor": 5
}
