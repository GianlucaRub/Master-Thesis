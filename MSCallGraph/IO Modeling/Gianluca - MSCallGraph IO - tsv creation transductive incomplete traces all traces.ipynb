{
 "cells": [
  {
   "cell_type": "markdown",
   "id": "fe064d69",
   "metadata": {
    "pycharm": {
     "name": "#%% md\n"
    }
   },
   "source": [
    "I am creating the test sets at trace level that can be used after the models have been trained on the entire graph. It required more than 12 hours. At the end 4234 traces were obtained."
   ]
  },
  {
   "cell_type": "code",
   "execution_count": 1,
   "id": "f70b913a",
   "metadata": {
    "pycharm": {
     "name": "#%%\n"
    }
   },
   "outputs": [],
   "source": [
    "import pandas as pd\n",
    "import numpy as np\n",
    "import os\n",
    "import joblib\n",
    "import zipfile\n",
    "from tqdm import tqdm\n",
    "import contextlib\n",
    "\n",
    "seed = 1234"
   ]
  },
  {
   "cell_type": "code",
   "execution_count": 2,
   "id": "30046bb7",
   "metadata": {
    "pycharm": {
     "name": "#%%\n"
    }
   },
   "outputs": [],
   "source": [
    "\n",
    "# # specify the name of the zip file and the directory to extract the contents\n",
    "# zip_file_name = f'MSCallGraph_joined_reduced.zip'\n",
    "# extract_dir = \"\"\n",
    "\n",
    "# # create a ZipFile object and extract the contents to the specified directory\n",
    "# with zipfile.ZipFile(zip_file_name, 'r') as zip_ref:\n",
    "#     zip_ref.extractall(extract_dir)\n"
   ]
  },
  {
   "cell_type": "code",
   "execution_count": 3,
   "id": "73998e7b",
   "metadata": {
    "scrolled": true,
    "pycharm": {
     "name": "#%%\n"
    }
   },
   "outputs": [
    {
     "data": {
      "text/html": [
       "<div>\n",
       "<style scoped>\n",
       "    .dataframe tbody tr th:only-of-type {\n",
       "        vertical-align: middle;\n",
       "    }\n",
       "\n",
       "    .dataframe tbody tr th {\n",
       "        vertical-align: top;\n",
       "    }\n",
       "\n",
       "    .dataframe thead th {\n",
       "        text-align: right;\n",
       "    }\n",
       "</style>\n",
       "<table border=\"1\" class=\"dataframe\">\n",
       "  <thead>\n",
       "    <tr style=\"text-align: right;\">\n",
       "      <th></th>\n",
       "      <th>traceid</th>\n",
       "      <th>um</th>\n",
       "      <th>rpctype</th>\n",
       "      <th>dm</th>\n",
       "    </tr>\n",
       "  </thead>\n",
       "  <tbody>\n",
       "    <tr>\n",
       "      <th>0</th>\n",
       "      <td>0b133c1915919238193454000e5d37</td>\n",
       "      <td>5cca70246befb1f4c9546d2912b9419dee54439218efa5...</td>\n",
       "      <td>mc_out</td>\n",
       "      <td>b1dbd3a649a3cc790fa12573c9c1aa00988e07a8818a22...</td>\n",
       "    </tr>\n",
       "    <tr>\n",
       "      <th>1</th>\n",
       "      <td>0b133c1915919238193454000e5d37</td>\n",
       "      <td>4ab265f54516248ee8873be7d6441912456ce17e84f399...</td>\n",
       "      <td>mc_out</td>\n",
       "      <td>fd6d86bd0fd550e717c1fdb82a33190a9fef216d87d535...</td>\n",
       "    </tr>\n",
       "    <tr>\n",
       "      <th>2</th>\n",
       "      <td>0b133c1915919238193454000e5d37</td>\n",
       "      <td>5cca70246befb1f4c9546d2912b9419dee54439218efa5...</td>\n",
       "      <td>userDefined_out</td>\n",
       "      <td>5cca70246befb1f4c9546d2912b9419dee54439218efa5...</td>\n",
       "    </tr>\n",
       "    <tr>\n",
       "      <th>3</th>\n",
       "      <td>0b133c1915919238193454000e5d37</td>\n",
       "      <td>75e56c8fbb9336eb4dd40f5f609d5344203d374d73fd0b...</td>\n",
       "      <td>rpc_in</td>\n",
       "      <td>84f9f68ef003a21288fffe8f9a09a5a29b05f4cc4229b8...</td>\n",
       "    </tr>\n",
       "    <tr>\n",
       "      <th>4</th>\n",
       "      <td>0b133c1915919238193454000e5d37</td>\n",
       "      <td>4ab265f54516248ee8873be7d6441912456ce17e84f399...</td>\n",
       "      <td>mc_out</td>\n",
       "      <td>01d660afcfadafd587e20ec4c04ddbc7eb0de95643ba0e...</td>\n",
       "    </tr>\n",
       "    <tr>\n",
       "      <th>...</th>\n",
       "      <td>...</td>\n",
       "      <td>...</td>\n",
       "      <td>...</td>\n",
       "      <td>...</td>\n",
       "    </tr>\n",
       "    <tr>\n",
       "      <th>222509712</th>\n",
       "      <td>0b14339415919667189434000e499f</td>\n",
       "      <td>24601dd8b36f856eb0a4d759866f475bc62cf843ffe092...</td>\n",
       "      <td>rpc_out</td>\n",
       "      <td>2abd05990aa9eb81a3eaa333829ec355eaee57fbecc9e8...</td>\n",
       "    </tr>\n",
       "    <tr>\n",
       "      <th>222509713</th>\n",
       "      <td>0b14339415919667189434000e499f</td>\n",
       "      <td>24601dd8b36f856eb0a4d759866f475bc62cf843ffe092...</td>\n",
       "      <td>rpc_in</td>\n",
       "      <td>24601dd8b36f856eb0a4d759866f475bc62cf843ffe092...</td>\n",
       "    </tr>\n",
       "    <tr>\n",
       "      <th>222509714</th>\n",
       "      <td>0b14339415919667189434000e499f</td>\n",
       "      <td>24601dd8b36f856eb0a4d759866f475bc62cf843ffe092...</td>\n",
       "      <td>rpc_in</td>\n",
       "      <td>643bce6326e327bb36361c31d1ad0cf9ee8d5767175482...</td>\n",
       "    </tr>\n",
       "    <tr>\n",
       "      <th>222509715</th>\n",
       "      <td>0b14339415919667189434000e499f</td>\n",
       "      <td>643bce6326e327bb36361c31d1ad0cf9ee8d5767175482...</td>\n",
       "      <td>rpc_out</td>\n",
       "      <td>e9916393b398199ef017f67a1904dd9c30323405c6f77c...</td>\n",
       "    </tr>\n",
       "    <tr>\n",
       "      <th>222509716</th>\n",
       "      <td>0b5218dd15919665521188000eff6c</td>\n",
       "      <td>95a6f7f8345e2eca31ee74ddc19d547e7fc0f5c8e65772...</td>\n",
       "      <td>rpc_out</td>\n",
       "      <td>e6c95bef37d936ebb375bf135ded88c96eb9257a1d3d9d...</td>\n",
       "    </tr>\n",
       "  </tbody>\n",
       "</table>\n",
       "<p>222509717 rows × 4 columns</p>\n",
       "</div>"
      ],
      "text/plain": [
       "                                  traceid  \\\n",
       "0          0b133c1915919238193454000e5d37   \n",
       "1          0b133c1915919238193454000e5d37   \n",
       "2          0b133c1915919238193454000e5d37   \n",
       "3          0b133c1915919238193454000e5d37   \n",
       "4          0b133c1915919238193454000e5d37   \n",
       "...                                   ...   \n",
       "222509712  0b14339415919667189434000e499f   \n",
       "222509713  0b14339415919667189434000e499f   \n",
       "222509714  0b14339415919667189434000e499f   \n",
       "222509715  0b14339415919667189434000e499f   \n",
       "222509716  0b5218dd15919665521188000eff6c   \n",
       "\n",
       "                                                          um          rpctype  \\\n",
       "0          5cca70246befb1f4c9546d2912b9419dee54439218efa5...           mc_out   \n",
       "1          4ab265f54516248ee8873be7d6441912456ce17e84f399...           mc_out   \n",
       "2          5cca70246befb1f4c9546d2912b9419dee54439218efa5...  userDefined_out   \n",
       "3          75e56c8fbb9336eb4dd40f5f609d5344203d374d73fd0b...           rpc_in   \n",
       "4          4ab265f54516248ee8873be7d6441912456ce17e84f399...           mc_out   \n",
       "...                                                      ...              ...   \n",
       "222509712  24601dd8b36f856eb0a4d759866f475bc62cf843ffe092...          rpc_out   \n",
       "222509713  24601dd8b36f856eb0a4d759866f475bc62cf843ffe092...           rpc_in   \n",
       "222509714  24601dd8b36f856eb0a4d759866f475bc62cf843ffe092...           rpc_in   \n",
       "222509715  643bce6326e327bb36361c31d1ad0cf9ee8d5767175482...          rpc_out   \n",
       "222509716  95a6f7f8345e2eca31ee74ddc19d547e7fc0f5c8e65772...          rpc_out   \n",
       "\n",
       "                                                          dm  \n",
       "0          b1dbd3a649a3cc790fa12573c9c1aa00988e07a8818a22...  \n",
       "1          fd6d86bd0fd550e717c1fdb82a33190a9fef216d87d535...  \n",
       "2          5cca70246befb1f4c9546d2912b9419dee54439218efa5...  \n",
       "3          84f9f68ef003a21288fffe8f9a09a5a29b05f4cc4229b8...  \n",
       "4          01d660afcfadafd587e20ec4c04ddbc7eb0de95643ba0e...  \n",
       "...                                                      ...  \n",
       "222509712  2abd05990aa9eb81a3eaa333829ec355eaee57fbecc9e8...  \n",
       "222509713  24601dd8b36f856eb0a4d759866f475bc62cf843ffe092...  \n",
       "222509714  643bce6326e327bb36361c31d1ad0cf9ee8d5767175482...  \n",
       "222509715  e9916393b398199ef017f67a1904dd9c30323405c6f77c...  \n",
       "222509716  e6c95bef37d936ebb375bf135ded88c96eb9257a1d3d9d...  \n",
       "\n",
       "[222509717 rows x 4 columns]"
      ]
     },
     "execution_count": 3,
     "metadata": {},
     "output_type": "execute_result"
    }
   ],
   "source": [
    "complete_df = pd.read_csv('MSCallGraph_joined_io.csv')\n",
    "complete_df"
   ]
  },
  {
   "cell_type": "code",
   "execution_count": 4,
   "id": "544b4e5d",
   "metadata": {
    "pycharm": {
     "name": "#%%\n"
    }
   },
   "outputs": [
    {
     "data": {
      "text/html": [
       "<div>\n",
       "<style scoped>\n",
       "    .dataframe tbody tr th:only-of-type {\n",
       "        vertical-align: middle;\n",
       "    }\n",
       "\n",
       "    .dataframe tbody tr th {\n",
       "        vertical-align: top;\n",
       "    }\n",
       "\n",
       "    .dataframe thead th {\n",
       "        text-align: right;\n",
       "    }\n",
       "</style>\n",
       "<table border=\"1\" class=\"dataframe\">\n",
       "  <thead>\n",
       "    <tr style=\"text-align: right;\">\n",
       "      <th></th>\n",
       "      <th>um</th>\n",
       "      <th>rpctype</th>\n",
       "      <th>dm</th>\n",
       "    </tr>\n",
       "  </thead>\n",
       "  <tbody>\n",
       "    <tr>\n",
       "      <th>0</th>\n",
       "      <td>5cca70246befb1f4c9546d2912b9419dee54439218efa5...</td>\n",
       "      <td>mc_out</td>\n",
       "      <td>b1dbd3a649a3cc790fa12573c9c1aa00988e07a8818a22...</td>\n",
       "    </tr>\n",
       "    <tr>\n",
       "      <th>1</th>\n",
       "      <td>4ab265f54516248ee8873be7d6441912456ce17e84f399...</td>\n",
       "      <td>mc_out</td>\n",
       "      <td>fd6d86bd0fd550e717c1fdb82a33190a9fef216d87d535...</td>\n",
       "    </tr>\n",
       "    <tr>\n",
       "      <th>2</th>\n",
       "      <td>5cca70246befb1f4c9546d2912b9419dee54439218efa5...</td>\n",
       "      <td>userDefined_out</td>\n",
       "      <td>5cca70246befb1f4c9546d2912b9419dee54439218efa5...</td>\n",
       "    </tr>\n",
       "    <tr>\n",
       "      <th>3</th>\n",
       "      <td>75e56c8fbb9336eb4dd40f5f609d5344203d374d73fd0b...</td>\n",
       "      <td>rpc_in</td>\n",
       "      <td>84f9f68ef003a21288fffe8f9a09a5a29b05f4cc4229b8...</td>\n",
       "    </tr>\n",
       "    <tr>\n",
       "      <th>4</th>\n",
       "      <td>4ab265f54516248ee8873be7d6441912456ce17e84f399...</td>\n",
       "      <td>mc_out</td>\n",
       "      <td>01d660afcfadafd587e20ec4c04ddbc7eb0de95643ba0e...</td>\n",
       "    </tr>\n",
       "    <tr>\n",
       "      <th>...</th>\n",
       "      <td>...</td>\n",
       "      <td>...</td>\n",
       "      <td>...</td>\n",
       "    </tr>\n",
       "    <tr>\n",
       "      <th>222400013</th>\n",
       "      <td>24601dd8b36f856eb0a4d759866f475bc62cf843ffe092...</td>\n",
       "      <td>rpc_in</td>\n",
       "      <td>1224ab4a5244545b7333a290aaccc95e49f2a793457d21...</td>\n",
       "    </tr>\n",
       "    <tr>\n",
       "      <th>222400014</th>\n",
       "      <td>1224ab4a5244545b7333a290aaccc95e49f2a793457d21...</td>\n",
       "      <td>db_out</td>\n",
       "      <td>1ac258b5230c8d9dfb28dcad1ced301a9b475b58b37025...</td>\n",
       "    </tr>\n",
       "    <tr>\n",
       "      <th>222447693</th>\n",
       "      <td>cc89071de722ad78455c531ebeefab3380ed933ffcd0c8...</td>\n",
       "      <td>rpc_in</td>\n",
       "      <td>159eafe7e8d59656f3f1b913cca6b8fb0127e62a7019f5...</td>\n",
       "    </tr>\n",
       "    <tr>\n",
       "      <th>222467609</th>\n",
       "      <td>5d887bdb9fd24cea365fb7ce018526df1d39b11630081b...</td>\n",
       "      <td>db_out</td>\n",
       "      <td>8ee7c139f721a23915ca012d2518eddbdc7ad1ced8b3da...</td>\n",
       "    </tr>\n",
       "    <tr>\n",
       "      <th>222483686</th>\n",
       "      <td>7a1c153f334a63ae491e7fbf303162576d0894933eab3d...</td>\n",
       "      <td>db_out</td>\n",
       "      <td>608da6f2e6cca140f117b24b8e2e7a69d116bd7b0aa6c4...</td>\n",
       "    </tr>\n",
       "  </tbody>\n",
       "</table>\n",
       "<p>64870 rows × 3 columns</p>\n",
       "</div>"
      ],
      "text/plain": [
       "                                                          um          rpctype  \\\n",
       "0          5cca70246befb1f4c9546d2912b9419dee54439218efa5...           mc_out   \n",
       "1          4ab265f54516248ee8873be7d6441912456ce17e84f399...           mc_out   \n",
       "2          5cca70246befb1f4c9546d2912b9419dee54439218efa5...  userDefined_out   \n",
       "3          75e56c8fbb9336eb4dd40f5f609d5344203d374d73fd0b...           rpc_in   \n",
       "4          4ab265f54516248ee8873be7d6441912456ce17e84f399...           mc_out   \n",
       "...                                                      ...              ...   \n",
       "222400013  24601dd8b36f856eb0a4d759866f475bc62cf843ffe092...           rpc_in   \n",
       "222400014  1224ab4a5244545b7333a290aaccc95e49f2a793457d21...           db_out   \n",
       "222447693  cc89071de722ad78455c531ebeefab3380ed933ffcd0c8...           rpc_in   \n",
       "222467609  5d887bdb9fd24cea365fb7ce018526df1d39b11630081b...           db_out   \n",
       "222483686  7a1c153f334a63ae491e7fbf303162576d0894933eab3d...           db_out   \n",
       "\n",
       "                                                          dm  \n",
       "0          b1dbd3a649a3cc790fa12573c9c1aa00988e07a8818a22...  \n",
       "1          fd6d86bd0fd550e717c1fdb82a33190a9fef216d87d535...  \n",
       "2          5cca70246befb1f4c9546d2912b9419dee54439218efa5...  \n",
       "3          84f9f68ef003a21288fffe8f9a09a5a29b05f4cc4229b8...  \n",
       "4          01d660afcfadafd587e20ec4c04ddbc7eb0de95643ba0e...  \n",
       "...                                                      ...  \n",
       "222400013  1224ab4a5244545b7333a290aaccc95e49f2a793457d21...  \n",
       "222400014  1ac258b5230c8d9dfb28dcad1ced301a9b475b58b37025...  \n",
       "222447693  159eafe7e8d59656f3f1b913cca6b8fb0127e62a7019f5...  \n",
       "222467609  8ee7c139f721a23915ca012d2518eddbdc7ad1ced8b3da...  \n",
       "222483686  608da6f2e6cca140f117b24b8e2e7a69d116bd7b0aa6c4...  \n",
       "\n",
       "[64870 rows x 3 columns]"
      ]
     },
     "execution_count": 4,
     "metadata": {},
     "output_type": "execute_result"
    }
   ],
   "source": [
    "# df = triplets_df\n",
    "df = complete_df.drop(['traceid'],axis=1)\n",
    "df = df.drop_duplicates()\n",
    "df"
   ]
  },
  {
   "cell_type": "code",
   "execution_count": 5,
   "id": "c50a9c87",
   "metadata": {
    "pycharm": {
     "name": "#%%\n"
    }
   },
   "outputs": [
    {
     "data": {
      "text/plain": [
       "16444"
      ]
     },
     "execution_count": 5,
     "metadata": {},
     "output_type": "execute_result"
    }
   ],
   "source": [
    "entities = set(df['dm']) | set(df['um'])\n",
    "len(entities)"
   ]
  },
  {
   "cell_type": "code",
   "execution_count": 6,
   "id": "da603116",
   "metadata": {
    "pycharm": {
     "name": "#%%\n"
    }
   },
   "outputs": [],
   "source": [
    "baseline = []\n",
    "for entity in entities:\n",
    "    baseline.append(df[df['dm'] == entity].head(1))\n",
    "    baseline.append(df[df['um'] == entity].head(1))"
   ]
  },
  {
   "cell_type": "code",
   "execution_count": 7,
   "id": "562582fc",
   "metadata": {
    "pycharm": {
     "name": "#%%\n"
    }
   },
   "outputs": [
    {
     "data": {
      "text/html": [
       "<div>\n",
       "<style scoped>\n",
       "    .dataframe tbody tr th:only-of-type {\n",
       "        vertical-align: middle;\n",
       "    }\n",
       "\n",
       "    .dataframe tbody tr th {\n",
       "        vertical-align: top;\n",
       "    }\n",
       "\n",
       "    .dataframe thead th {\n",
       "        text-align: right;\n",
       "    }\n",
       "</style>\n",
       "<table border=\"1\" class=\"dataframe\">\n",
       "  <thead>\n",
       "    <tr style=\"text-align: right;\">\n",
       "      <th></th>\n",
       "      <th>um</th>\n",
       "      <th>rpctype</th>\n",
       "      <th>dm</th>\n",
       "    </tr>\n",
       "  </thead>\n",
       "  <tbody>\n",
       "    <tr>\n",
       "      <th>41869</th>\n",
       "      <td>5cca70246befb1f4c9546d2912b9419dee54439218efa5...</td>\n",
       "      <td>db_out</td>\n",
       "      <td>9d54b689f3228646e4d341dd7bfa1c88b405ffd7051902...</td>\n",
       "    </tr>\n",
       "    <tr>\n",
       "      <th>16784905</th>\n",
       "      <td>9cd44f1b3a60567136e9582fe05e3cef48af5afe220acc...</td>\n",
       "      <td>db_out</td>\n",
       "      <td>a1f8e77131ec91237271155d16b214f4ae56a59dd84576...</td>\n",
       "    </tr>\n",
       "    <tr>\n",
       "      <th>12487</th>\n",
       "      <td>3d6673105b7850d8b917bad14ffbace2333a6f34f6395f...</td>\n",
       "      <td>db_out</td>\n",
       "      <td>ae715aa895509e0cd15df2b2f6964e8b783b3b6729a1d2...</td>\n",
       "    </tr>\n",
       "    <tr>\n",
       "      <th>2150079</th>\n",
       "      <td>daa312b7d43ebc40418dac11463874b27bd7d320ca79fd...</td>\n",
       "      <td>db_out</td>\n",
       "      <td>d44017fe2971acde82d91e34f762b925a79b301cbdc601...</td>\n",
       "    </tr>\n",
       "    <tr>\n",
       "      <th>15872206</th>\n",
       "      <td>384c1fd74efa0dce3dc948ea67b088115573f9f76792be...</td>\n",
       "      <td>db_out</td>\n",
       "      <td>9063beb6ec1dbe50f082031b8cd692503280682ab2669c...</td>\n",
       "    </tr>\n",
       "    <tr>\n",
       "      <th>...</th>\n",
       "      <td>...</td>\n",
       "      <td>...</td>\n",
       "      <td>...</td>\n",
       "    </tr>\n",
       "    <tr>\n",
       "      <th>42275986</th>\n",
       "      <td>f06b741d0362b424f7ebd307dd710252253d609b1197aa...</td>\n",
       "      <td>db_out</td>\n",
       "      <td>9d6b6445eea0ab93f40c85489550b048ccbd7eab757977...</td>\n",
       "    </tr>\n",
       "    <tr>\n",
       "      <th>212625</th>\n",
       "      <td>edd5edf6fabedb37dc011f2ff1dea0a07350815be8361d...</td>\n",
       "      <td>db_out</td>\n",
       "      <td>dd87cae238217e1c404e9dceb077c5e6b12852432b6096...</td>\n",
       "    </tr>\n",
       "    <tr>\n",
       "      <th>40767380</th>\n",
       "      <td>48848e19eab5d282a78cdfa69d64b15dd6a831130a7a43...</td>\n",
       "      <td>db_out</td>\n",
       "      <td>d27455ddd9964752710a0a30621dc7f5ccf4505f1dda2d...</td>\n",
       "    </tr>\n",
       "    <tr>\n",
       "      <th>812267</th>\n",
       "      <td>47e0ecaf3f7bc79aa518952e989c45ca9f9bfe103dfeb9...</td>\n",
       "      <td>rpc_out</td>\n",
       "      <td>a098c22586f6fe92476fb97361ee036a31d2c5da7db1b6...</td>\n",
       "    </tr>\n",
       "    <tr>\n",
       "      <th>8861787</th>\n",
       "      <td>1ddd9c304c76b32f8f7701391327ca1f2cdcab9492d44d...</td>\n",
       "      <td>db_out</td>\n",
       "      <td>9a8f189df05cb273296eb366f1765907d67018bca1d8d4...</td>\n",
       "    </tr>\n",
       "  </tbody>\n",
       "</table>\n",
       "<p>18553 rows × 3 columns</p>\n",
       "</div>"
      ],
      "text/plain": [
       "                                                         um  rpctype  \\\n",
       "41869     5cca70246befb1f4c9546d2912b9419dee54439218efa5...   db_out   \n",
       "16784905  9cd44f1b3a60567136e9582fe05e3cef48af5afe220acc...   db_out   \n",
       "12487     3d6673105b7850d8b917bad14ffbace2333a6f34f6395f...   db_out   \n",
       "2150079   daa312b7d43ebc40418dac11463874b27bd7d320ca79fd...   db_out   \n",
       "15872206  384c1fd74efa0dce3dc948ea67b088115573f9f76792be...   db_out   \n",
       "...                                                     ...      ...   \n",
       "42275986  f06b741d0362b424f7ebd307dd710252253d609b1197aa...   db_out   \n",
       "212625    edd5edf6fabedb37dc011f2ff1dea0a07350815be8361d...   db_out   \n",
       "40767380  48848e19eab5d282a78cdfa69d64b15dd6a831130a7a43...   db_out   \n",
       "812267    47e0ecaf3f7bc79aa518952e989c45ca9f9bfe103dfeb9...  rpc_out   \n",
       "8861787   1ddd9c304c76b32f8f7701391327ca1f2cdcab9492d44d...   db_out   \n",
       "\n",
       "                                                         dm  \n",
       "41869     9d54b689f3228646e4d341dd7bfa1c88b405ffd7051902...  \n",
       "16784905  a1f8e77131ec91237271155d16b214f4ae56a59dd84576...  \n",
       "12487     ae715aa895509e0cd15df2b2f6964e8b783b3b6729a1d2...  \n",
       "2150079   d44017fe2971acde82d91e34f762b925a79b301cbdc601...  \n",
       "15872206  9063beb6ec1dbe50f082031b8cd692503280682ab2669c...  \n",
       "...                                                     ...  \n",
       "42275986  9d6b6445eea0ab93f40c85489550b048ccbd7eab757977...  \n",
       "212625    dd87cae238217e1c404e9dceb077c5e6b12852432b6096...  \n",
       "40767380  d27455ddd9964752710a0a30621dc7f5ccf4505f1dda2d...  \n",
       "812267    a098c22586f6fe92476fb97361ee036a31d2c5da7db1b6...  \n",
       "8861787   9a8f189df05cb273296eb366f1765907d67018bca1d8d4...  \n",
       "\n",
       "[18553 rows x 3 columns]"
      ]
     },
     "execution_count": 7,
     "metadata": {},
     "output_type": "execute_result"
    }
   ],
   "source": [
    "baseline_df = pd.concat(baseline)\n",
    "baseline_df = baseline_df.drop_duplicates()\n",
    "baseline_df"
   ]
  },
  {
   "cell_type": "code",
   "execution_count": 8,
   "id": "c5aad83b",
   "metadata": {
    "pycharm": {
     "name": "#%%\n"
    }
   },
   "outputs": [
    {
     "name": "stdout",
     "output_type": "stream",
     "text": [
      "the number of items to add to the train set is:  22963\n"
     ]
    }
   ],
   "source": [
    "n_train_items = int(len(df)*0.64)\n",
    "n_items_to_add = n_train_items - len(baseline_df)\n",
    "print(\"the number of items to add to the train set is: \",n_items_to_add)"
   ]
  },
  {
   "cell_type": "code",
   "execution_count": 9,
   "id": "8fa7c9dd",
   "metadata": {
    "pycharm": {
     "name": "#%%\n"
    }
   },
   "outputs": [
    {
     "data": {
      "text/html": [
       "<div>\n",
       "<style scoped>\n",
       "    .dataframe tbody tr th:only-of-type {\n",
       "        vertical-align: middle;\n",
       "    }\n",
       "\n",
       "    .dataframe tbody tr th {\n",
       "        vertical-align: top;\n",
       "    }\n",
       "\n",
       "    .dataframe thead th {\n",
       "        text-align: right;\n",
       "    }\n",
       "</style>\n",
       "<table border=\"1\" class=\"dataframe\">\n",
       "  <thead>\n",
       "    <tr style=\"text-align: right;\">\n",
       "      <th></th>\n",
       "      <th>um</th>\n",
       "      <th>rpctype</th>\n",
       "      <th>dm</th>\n",
       "    </tr>\n",
       "  </thead>\n",
       "  <tbody>\n",
       "    <tr>\n",
       "      <th>9</th>\n",
       "      <td>75e56c8fbb9336eb4dd40f5f609d5344203d374d73fd0b...</td>\n",
       "      <td>userDefined_out</td>\n",
       "      <td>75e56c8fbb9336eb4dd40f5f609d5344203d374d73fd0b...</td>\n",
       "    </tr>\n",
       "    <tr>\n",
       "      <th>11</th>\n",
       "      <td>20119b0b7869f98acb0f0f7557893474a7b84c34e50ec6...</td>\n",
       "      <td>rpc_in</td>\n",
       "      <td>4ab265f54516248ee8873be7d6441912456ce17e84f399...</td>\n",
       "    </tr>\n",
       "    <tr>\n",
       "      <th>12</th>\n",
       "      <td>4ab265f54516248ee8873be7d6441912456ce17e84f399...</td>\n",
       "      <td>rpc_out</td>\n",
       "      <td>091794afdcf1abbaf62404337ff72a38df96c5d8af8bd0...</td>\n",
       "    </tr>\n",
       "    <tr>\n",
       "      <th>13</th>\n",
       "      <td>4ab265f54516248ee8873be7d6441912456ce17e84f399...</td>\n",
       "      <td>http_out</td>\n",
       "      <td>091794afdcf1abbaf62404337ff72a38df96c5d8af8bd0...</td>\n",
       "    </tr>\n",
       "    <tr>\n",
       "      <th>19</th>\n",
       "      <td>75e56c8fbb9336eb4dd40f5f609d5344203d374d73fd0b...</td>\n",
       "      <td>rpc_in</td>\n",
       "      <td>e6c95bef37d936ebb375bf135ded88c96eb9257a1d3d9d...</td>\n",
       "    </tr>\n",
       "    <tr>\n",
       "      <th>...</th>\n",
       "      <td>...</td>\n",
       "      <td>...</td>\n",
       "      <td>...</td>\n",
       "    </tr>\n",
       "    <tr>\n",
       "      <th>64864</th>\n",
       "      <td>eb7ce54148779f812f2c7f07f18ef4ed269043b9f6b959...</td>\n",
       "      <td>db_out</td>\n",
       "      <td>db984ae0fed93d22fbcca65eb1ec1b25b4faa71167c580...</td>\n",
       "    </tr>\n",
       "    <tr>\n",
       "      <th>64865</th>\n",
       "      <td>24601dd8b36f856eb0a4d759866f475bc62cf843ffe092...</td>\n",
       "      <td>rpc_in</td>\n",
       "      <td>1224ab4a5244545b7333a290aaccc95e49f2a793457d21...</td>\n",
       "    </tr>\n",
       "    <tr>\n",
       "      <th>64867</th>\n",
       "      <td>cc89071de722ad78455c531ebeefab3380ed933ffcd0c8...</td>\n",
       "      <td>rpc_in</td>\n",
       "      <td>159eafe7e8d59656f3f1b913cca6b8fb0127e62a7019f5...</td>\n",
       "    </tr>\n",
       "    <tr>\n",
       "      <th>64868</th>\n",
       "      <td>5d887bdb9fd24cea365fb7ce018526df1d39b11630081b...</td>\n",
       "      <td>db_out</td>\n",
       "      <td>8ee7c139f721a23915ca012d2518eddbdc7ad1ced8b3da...</td>\n",
       "    </tr>\n",
       "    <tr>\n",
       "      <th>64869</th>\n",
       "      <td>7a1c153f334a63ae491e7fbf303162576d0894933eab3d...</td>\n",
       "      <td>db_out</td>\n",
       "      <td>608da6f2e6cca140f117b24b8e2e7a69d116bd7b0aa6c4...</td>\n",
       "    </tr>\n",
       "  </tbody>\n",
       "</table>\n",
       "<p>46317 rows × 3 columns</p>\n",
       "</div>"
      ],
      "text/plain": [
       "                                                      um          rpctype  \\\n",
       "9      75e56c8fbb9336eb4dd40f5f609d5344203d374d73fd0b...  userDefined_out   \n",
       "11     20119b0b7869f98acb0f0f7557893474a7b84c34e50ec6...           rpc_in   \n",
       "12     4ab265f54516248ee8873be7d6441912456ce17e84f399...          rpc_out   \n",
       "13     4ab265f54516248ee8873be7d6441912456ce17e84f399...         http_out   \n",
       "19     75e56c8fbb9336eb4dd40f5f609d5344203d374d73fd0b...           rpc_in   \n",
       "...                                                  ...              ...   \n",
       "64864  eb7ce54148779f812f2c7f07f18ef4ed269043b9f6b959...           db_out   \n",
       "64865  24601dd8b36f856eb0a4d759866f475bc62cf843ffe092...           rpc_in   \n",
       "64867  cc89071de722ad78455c531ebeefab3380ed933ffcd0c8...           rpc_in   \n",
       "64868  5d887bdb9fd24cea365fb7ce018526df1d39b11630081b...           db_out   \n",
       "64869  7a1c153f334a63ae491e7fbf303162576d0894933eab3d...           db_out   \n",
       "\n",
       "                                                      dm  \n",
       "9      75e56c8fbb9336eb4dd40f5f609d5344203d374d73fd0b...  \n",
       "11     4ab265f54516248ee8873be7d6441912456ce17e84f399...  \n",
       "12     091794afdcf1abbaf62404337ff72a38df96c5d8af8bd0...  \n",
       "13     091794afdcf1abbaf62404337ff72a38df96c5d8af8bd0...  \n",
       "19     e6c95bef37d936ebb375bf135ded88c96eb9257a1d3d9d...  \n",
       "...                                                  ...  \n",
       "64864  db984ae0fed93d22fbcca65eb1ec1b25b4faa71167c580...  \n",
       "64865  1224ab4a5244545b7333a290aaccc95e49f2a793457d21...  \n",
       "64867  159eafe7e8d59656f3f1b913cca6b8fb0127e62a7019f5...  \n",
       "64868  8ee7c139f721a23915ca012d2518eddbdc7ad1ced8b3da...  \n",
       "64869  608da6f2e6cca140f117b24b8e2e7a69d116bd7b0aa6c4...  \n",
       "\n",
       "[46317 rows x 3 columns]"
      ]
     },
     "execution_count": 9,
     "metadata": {},
     "output_type": "execute_result"
    }
   ],
   "source": [
    "not_baseline_df = df.merge(baseline_df, how='outer', indicator=True).loc[lambda x : x['_merge']=='left_only'].drop('_merge',axis= 1)\n",
    "not_baseline_df"
   ]
  },
  {
   "cell_type": "code",
   "execution_count": 10,
   "id": "58b12871",
   "metadata": {
    "pycharm": {
     "name": "#%%\n"
    }
   },
   "outputs": [
    {
     "data": {
      "text/html": [
       "<div>\n",
       "<style scoped>\n",
       "    .dataframe tbody tr th:only-of-type {\n",
       "        vertical-align: middle;\n",
       "    }\n",
       "\n",
       "    .dataframe tbody tr th {\n",
       "        vertical-align: top;\n",
       "    }\n",
       "\n",
       "    .dataframe thead th {\n",
       "        text-align: right;\n",
       "    }\n",
       "</style>\n",
       "<table border=\"1\" class=\"dataframe\">\n",
       "  <thead>\n",
       "    <tr style=\"text-align: right;\">\n",
       "      <th></th>\n",
       "      <th>um</th>\n",
       "      <th>rpctype</th>\n",
       "      <th>dm</th>\n",
       "    </tr>\n",
       "  </thead>\n",
       "  <tbody>\n",
       "    <tr>\n",
       "      <th>41869</th>\n",
       "      <td>5cca70246befb1f4c9546d2912b9419dee54439218efa5...</td>\n",
       "      <td>db_out</td>\n",
       "      <td>9d54b689f3228646e4d341dd7bfa1c88b405ffd7051902...</td>\n",
       "    </tr>\n",
       "    <tr>\n",
       "      <th>16784905</th>\n",
       "      <td>9cd44f1b3a60567136e9582fe05e3cef48af5afe220acc...</td>\n",
       "      <td>db_out</td>\n",
       "      <td>a1f8e77131ec91237271155d16b214f4ae56a59dd84576...</td>\n",
       "    </tr>\n",
       "    <tr>\n",
       "      <th>12487</th>\n",
       "      <td>3d6673105b7850d8b917bad14ffbace2333a6f34f6395f...</td>\n",
       "      <td>db_out</td>\n",
       "      <td>ae715aa895509e0cd15df2b2f6964e8b783b3b6729a1d2...</td>\n",
       "    </tr>\n",
       "    <tr>\n",
       "      <th>2150079</th>\n",
       "      <td>daa312b7d43ebc40418dac11463874b27bd7d320ca79fd...</td>\n",
       "      <td>db_out</td>\n",
       "      <td>d44017fe2971acde82d91e34f762b925a79b301cbdc601...</td>\n",
       "    </tr>\n",
       "    <tr>\n",
       "      <th>15872206</th>\n",
       "      <td>384c1fd74efa0dce3dc948ea67b088115573f9f76792be...</td>\n",
       "      <td>db_out</td>\n",
       "      <td>9063beb6ec1dbe50f082031b8cd692503280682ab2669c...</td>\n",
       "    </tr>\n",
       "    <tr>\n",
       "      <th>...</th>\n",
       "      <td>...</td>\n",
       "      <td>...</td>\n",
       "      <td>...</td>\n",
       "    </tr>\n",
       "    <tr>\n",
       "      <th>58389</th>\n",
       "      <td>35c56101f54b77bf06b6ba688e09f401e13c906576fd7b...</td>\n",
       "      <td>db_out</td>\n",
       "      <td>54051d5ad7a223e239c7f993b5d414a31ff16ffec22842...</td>\n",
       "    </tr>\n",
       "    <tr>\n",
       "      <th>42795</th>\n",
       "      <td>5f3cd749ad44311b45da979c0b14517019690e8587f6f7...</td>\n",
       "      <td>rpc_in</td>\n",
       "      <td>820d792605059d1c40fe6f34e105b99ae046197bf8f3c8...</td>\n",
       "    </tr>\n",
       "    <tr>\n",
       "      <th>54405</th>\n",
       "      <td>fb1dc665d2cce93dd583d61d9565a6826a8c3ac27075e9...</td>\n",
       "      <td>rpc_in</td>\n",
       "      <td>f10612cc80a4777bcb0f9025041b3e4a9d8de8b20bfd2d...</td>\n",
       "    </tr>\n",
       "    <tr>\n",
       "      <th>52076</th>\n",
       "      <td>379e23daa893e9f183169734b12ee6c2ca81ca05d270a8...</td>\n",
       "      <td>rpc_out</td>\n",
       "      <td>7d53863bd1aa3d9e1fe4a8b4ff37800da75b3144796adc...</td>\n",
       "    </tr>\n",
       "    <tr>\n",
       "      <th>21400</th>\n",
       "      <td>12bc3fe2791d9f2946a74114ff349795461e695a099ae3...</td>\n",
       "      <td>db_out</td>\n",
       "      <td>602a6be26f558ff812d49d6d8d2ea216236a769ed06971...</td>\n",
       "    </tr>\n",
       "  </tbody>\n",
       "</table>\n",
       "<p>41516 rows × 3 columns</p>\n",
       "</div>"
      ],
      "text/plain": [
       "                                                         um  rpctype  \\\n",
       "41869     5cca70246befb1f4c9546d2912b9419dee54439218efa5...   db_out   \n",
       "16784905  9cd44f1b3a60567136e9582fe05e3cef48af5afe220acc...   db_out   \n",
       "12487     3d6673105b7850d8b917bad14ffbace2333a6f34f6395f...   db_out   \n",
       "2150079   daa312b7d43ebc40418dac11463874b27bd7d320ca79fd...   db_out   \n",
       "15872206  384c1fd74efa0dce3dc948ea67b088115573f9f76792be...   db_out   \n",
       "...                                                     ...      ...   \n",
       "58389     35c56101f54b77bf06b6ba688e09f401e13c906576fd7b...   db_out   \n",
       "42795     5f3cd749ad44311b45da979c0b14517019690e8587f6f7...   rpc_in   \n",
       "54405     fb1dc665d2cce93dd583d61d9565a6826a8c3ac27075e9...   rpc_in   \n",
       "52076     379e23daa893e9f183169734b12ee6c2ca81ca05d270a8...  rpc_out   \n",
       "21400     12bc3fe2791d9f2946a74114ff349795461e695a099ae3...   db_out   \n",
       "\n",
       "                                                         dm  \n",
       "41869     9d54b689f3228646e4d341dd7bfa1c88b405ffd7051902...  \n",
       "16784905  a1f8e77131ec91237271155d16b214f4ae56a59dd84576...  \n",
       "12487     ae715aa895509e0cd15df2b2f6964e8b783b3b6729a1d2...  \n",
       "2150079   d44017fe2971acde82d91e34f762b925a79b301cbdc601...  \n",
       "15872206  9063beb6ec1dbe50f082031b8cd692503280682ab2669c...  \n",
       "...                                                     ...  \n",
       "58389     54051d5ad7a223e239c7f993b5d414a31ff16ffec22842...  \n",
       "42795     820d792605059d1c40fe6f34e105b99ae046197bf8f3c8...  \n",
       "54405     f10612cc80a4777bcb0f9025041b3e4a9d8de8b20bfd2d...  \n",
       "52076     7d53863bd1aa3d9e1fe4a8b4ff37800da75b3144796adc...  \n",
       "21400     602a6be26f558ff812d49d6d8d2ea216236a769ed06971...  \n",
       "\n",
       "[41516 rows x 3 columns]"
      ]
     },
     "execution_count": 10,
     "metadata": {},
     "output_type": "execute_result"
    }
   ],
   "source": [
    "not_baseline_train = not_baseline_df.sample(n_items_to_add,random_state = seed)\n",
    "train_df = pd.concat([baseline_df, not_baseline_train])\n",
    "train_df"
   ]
  },
  {
   "cell_type": "code",
   "execution_count": 11,
   "id": "f1c30622",
   "metadata": {
    "pycharm": {
     "name": "#%%\n"
    }
   },
   "outputs": [],
   "source": [
    "remaining_df = not_baseline_df.drop(not_baseline_train.index) "
   ]
  },
  {
   "cell_type": "code",
   "execution_count": 12,
   "id": "5b587856",
   "metadata": {
    "pycharm": {
     "name": "#%%\n"
    }
   },
   "outputs": [
    {
     "data": {
      "text/html": [
       "<div>\n",
       "<style scoped>\n",
       "    .dataframe tbody tr th:only-of-type {\n",
       "        vertical-align: middle;\n",
       "    }\n",
       "\n",
       "    .dataframe tbody tr th {\n",
       "        vertical-align: top;\n",
       "    }\n",
       "\n",
       "    .dataframe thead th {\n",
       "        text-align: right;\n",
       "    }\n",
       "</style>\n",
       "<table border=\"1\" class=\"dataframe\">\n",
       "  <thead>\n",
       "    <tr style=\"text-align: right;\">\n",
       "      <th></th>\n",
       "      <th>um</th>\n",
       "      <th>rpctype</th>\n",
       "      <th>dm</th>\n",
       "    </tr>\n",
       "  </thead>\n",
       "  <tbody>\n",
       "    <tr>\n",
       "      <th>26941</th>\n",
       "      <td>19612380d038043e051cf922650c420311bc292cdc32c5...</td>\n",
       "      <td>rpc_out</td>\n",
       "      <td>561cfc0625d5c797528d6a9027c8198b39915b221ac2b7...</td>\n",
       "    </tr>\n",
       "    <tr>\n",
       "      <th>51232</th>\n",
       "      <td>bf4db78123a0031936185b2f2387d4bec7212905459eed...</td>\n",
       "      <td>db_out</td>\n",
       "      <td>04d03e7464b4ba98cc19756bcda54140553ff84a67a384...</td>\n",
       "    </tr>\n",
       "    <tr>\n",
       "      <th>45693</th>\n",
       "      <td>d849617ba403c352dbc8a444ee366dbca049d4a49cd49b...</td>\n",
       "      <td>rpc_in</td>\n",
       "      <td>a2f4cc0518d7224f846bcf6efcf46be5c37f2c2045bf84...</td>\n",
       "    </tr>\n",
       "    <tr>\n",
       "      <th>5550</th>\n",
       "      <td>8ca2865ffd758cda9104100aa8a7d8cd23357d17d54621...</td>\n",
       "      <td>rpc_in</td>\n",
       "      <td>23bdd392279c3f7f575cdcca6c022c7403272aea434e9e...</td>\n",
       "    </tr>\n",
       "    <tr>\n",
       "      <th>39710</th>\n",
       "      <td>2024dd56b448408239935e936c2207dd15fcdb98e4b7c6...</td>\n",
       "      <td>db_out</td>\n",
       "      <td>d9c63ef9e4abef1240824ab1a2f503c5406a4e5244b964...</td>\n",
       "    </tr>\n",
       "    <tr>\n",
       "      <th>...</th>\n",
       "      <td>...</td>\n",
       "      <td>...</td>\n",
       "      <td>...</td>\n",
       "    </tr>\n",
       "    <tr>\n",
       "      <th>7749</th>\n",
       "      <td>a9cd30c90ea19c56f4cd480ff0c31461a7934c0500c447...</td>\n",
       "      <td>rpc_in</td>\n",
       "      <td>d2c895bd5c7de55f381310fd1b94ce9d518bf4ac22e22f...</td>\n",
       "    </tr>\n",
       "    <tr>\n",
       "      <th>25211</th>\n",
       "      <td>dad93363c30d440df0bae043024a1367f25475c8501ede...</td>\n",
       "      <td>rpc_in</td>\n",
       "      <td>3322acdce65a8353e2f8a32a2bf0474526cfc62c3d1328...</td>\n",
       "    </tr>\n",
       "    <tr>\n",
       "      <th>6851</th>\n",
       "      <td>0e196e772ff517533a7396537ab970729fbbc9ae2f5685...</td>\n",
       "      <td>mc_out</td>\n",
       "      <td>2720b0db4803852457cc9fa53872f47f65f872a476e6f4...</td>\n",
       "    </tr>\n",
       "    <tr>\n",
       "      <th>17625</th>\n",
       "      <td>86562d64f056f9c8c58aecf349f090a30d1e5dd397fa2c...</td>\n",
       "      <td>mc_out</td>\n",
       "      <td>c964e78e1ee643babee3c48807207a39596bdc816e5ceb...</td>\n",
       "    </tr>\n",
       "    <tr>\n",
       "      <th>25121</th>\n",
       "      <td>2a09adc8a37f54458ed37036663a9974ef1ede2329f6cd...</td>\n",
       "      <td>rpc_in</td>\n",
       "      <td>9a3ef4d24dd4e7fb8baaa9e30aea1395caa50f583630f6...</td>\n",
       "    </tr>\n",
       "  </tbody>\n",
       "</table>\n",
       "<p>10276 rows × 3 columns</p>\n",
       "</div>"
      ],
      "text/plain": [
       "                                                      um  rpctype  \\\n",
       "26941  19612380d038043e051cf922650c420311bc292cdc32c5...  rpc_out   \n",
       "51232  bf4db78123a0031936185b2f2387d4bec7212905459eed...   db_out   \n",
       "45693  d849617ba403c352dbc8a444ee366dbca049d4a49cd49b...   rpc_in   \n",
       "5550   8ca2865ffd758cda9104100aa8a7d8cd23357d17d54621...   rpc_in   \n",
       "39710  2024dd56b448408239935e936c2207dd15fcdb98e4b7c6...   db_out   \n",
       "...                                                  ...      ...   \n",
       "7749   a9cd30c90ea19c56f4cd480ff0c31461a7934c0500c447...   rpc_in   \n",
       "25211  dad93363c30d440df0bae043024a1367f25475c8501ede...   rpc_in   \n",
       "6851   0e196e772ff517533a7396537ab970729fbbc9ae2f5685...   mc_out   \n",
       "17625  86562d64f056f9c8c58aecf349f090a30d1e5dd397fa2c...   mc_out   \n",
       "25121  2a09adc8a37f54458ed37036663a9974ef1ede2329f6cd...   rpc_in   \n",
       "\n",
       "                                                      dm  \n",
       "26941  561cfc0625d5c797528d6a9027c8198b39915b221ac2b7...  \n",
       "51232  04d03e7464b4ba98cc19756bcda54140553ff84a67a384...  \n",
       "45693  a2f4cc0518d7224f846bcf6efcf46be5c37f2c2045bf84...  \n",
       "5550   23bdd392279c3f7f575cdcca6c022c7403272aea434e9e...  \n",
       "39710  d9c63ef9e4abef1240824ab1a2f503c5406a4e5244b964...  \n",
       "...                                                  ...  \n",
       "7749   d2c895bd5c7de55f381310fd1b94ce9d518bf4ac22e22f...  \n",
       "25211  3322acdce65a8353e2f8a32a2bf0474526cfc62c3d1328...  \n",
       "6851   2720b0db4803852457cc9fa53872f47f65f872a476e6f4...  \n",
       "17625  c964e78e1ee643babee3c48807207a39596bdc816e5ceb...  \n",
       "25121  9a3ef4d24dd4e7fb8baaa9e30aea1395caa50f583630f6...  \n",
       "\n",
       "[10276 rows x 3 columns]"
      ]
     },
     "execution_count": 12,
     "metadata": {},
     "output_type": "execute_result"
    }
   ],
   "source": [
    "validation_df = remaining_df.sample(frac = 0.44, random_state = seed)\n",
    "validation_df"
   ]
  },
  {
   "cell_type": "code",
   "execution_count": 13,
   "id": "26e5a246",
   "metadata": {
    "pycharm": {
     "name": "#%%\n"
    }
   },
   "outputs": [
    {
     "data": {
      "text/html": [
       "<div>\n",
       "<style scoped>\n",
       "    .dataframe tbody tr th:only-of-type {\n",
       "        vertical-align: middle;\n",
       "    }\n",
       "\n",
       "    .dataframe tbody tr th {\n",
       "        vertical-align: top;\n",
       "    }\n",
       "\n",
       "    .dataframe thead th {\n",
       "        text-align: right;\n",
       "    }\n",
       "</style>\n",
       "<table border=\"1\" class=\"dataframe\">\n",
       "  <thead>\n",
       "    <tr style=\"text-align: right;\">\n",
       "      <th></th>\n",
       "      <th>um</th>\n",
       "      <th>rpctype</th>\n",
       "      <th>dm</th>\n",
       "    </tr>\n",
       "  </thead>\n",
       "  <tbody>\n",
       "    <tr>\n",
       "      <th>11</th>\n",
       "      <td>20119b0b7869f98acb0f0f7557893474a7b84c34e50ec6...</td>\n",
       "      <td>rpc_in</td>\n",
       "      <td>4ab265f54516248ee8873be7d6441912456ce17e84f399...</td>\n",
       "    </tr>\n",
       "    <tr>\n",
       "      <th>12</th>\n",
       "      <td>4ab265f54516248ee8873be7d6441912456ce17e84f399...</td>\n",
       "      <td>rpc_out</td>\n",
       "      <td>091794afdcf1abbaf62404337ff72a38df96c5d8af8bd0...</td>\n",
       "    </tr>\n",
       "    <tr>\n",
       "      <th>13</th>\n",
       "      <td>4ab265f54516248ee8873be7d6441912456ce17e84f399...</td>\n",
       "      <td>http_out</td>\n",
       "      <td>091794afdcf1abbaf62404337ff72a38df96c5d8af8bd0...</td>\n",
       "    </tr>\n",
       "    <tr>\n",
       "      <th>20</th>\n",
       "      <td>4ab265f54516248ee8873be7d6441912456ce17e84f399...</td>\n",
       "      <td>rpc_out</td>\n",
       "      <td>5cca70246befb1f4c9546d2912b9419dee54439218efa5...</td>\n",
       "    </tr>\n",
       "    <tr>\n",
       "      <th>57</th>\n",
       "      <td>75e56c8fbb9336eb4dd40f5f609d5344203d374d73fd0b...</td>\n",
       "      <td>rpc_in</td>\n",
       "      <td>b53f8e2c1722bba4f5819ecf0d6d1dc522825977126aee...</td>\n",
       "    </tr>\n",
       "    <tr>\n",
       "      <th>...</th>\n",
       "      <td>...</td>\n",
       "      <td>...</td>\n",
       "      <td>...</td>\n",
       "    </tr>\n",
       "    <tr>\n",
       "      <th>64846</th>\n",
       "      <td>bc529ee59852e87efa2e41286d68dc59c973bbf8131324...</td>\n",
       "      <td>rpc_out</td>\n",
       "      <td>99f2e7b501f50db9b4089242a5d3e1aba334c32e0c718b...</td>\n",
       "    </tr>\n",
       "    <tr>\n",
       "      <th>64848</th>\n",
       "      <td>c7da4297c678a12e5298bbebed6599928424f56cf4b1e1...</td>\n",
       "      <td>db_out</td>\n",
       "      <td>5ff3630fb1b1eb87e7501f7ca3a73e8cd55121a63a1d5c...</td>\n",
       "    </tr>\n",
       "    <tr>\n",
       "      <th>64859</th>\n",
       "      <td>0e196e772ff517533a7396537ab970729fbbc9ae2f5685...</td>\n",
       "      <td>db_out</td>\n",
       "      <td>dfc72b449a65283e6038992b83a9fd2aef4a62444f1250...</td>\n",
       "    </tr>\n",
       "    <tr>\n",
       "      <th>64860</th>\n",
       "      <td>8c668296f4ee5134867e07e2196acd9e2f76181bc6983a...</td>\n",
       "      <td>db_out</td>\n",
       "      <td>1ef3e9820a0cd97ef806a682fa6484d44758aaa46290ba...</td>\n",
       "    </tr>\n",
       "    <tr>\n",
       "      <th>64868</th>\n",
       "      <td>5d887bdb9fd24cea365fb7ce018526df1d39b11630081b...</td>\n",
       "      <td>db_out</td>\n",
       "      <td>8ee7c139f721a23915ca012d2518eddbdc7ad1ced8b3da...</td>\n",
       "    </tr>\n",
       "  </tbody>\n",
       "</table>\n",
       "<p>13078 rows × 3 columns</p>\n",
       "</div>"
      ],
      "text/plain": [
       "                                                      um   rpctype  \\\n",
       "11     20119b0b7869f98acb0f0f7557893474a7b84c34e50ec6...    rpc_in   \n",
       "12     4ab265f54516248ee8873be7d6441912456ce17e84f399...   rpc_out   \n",
       "13     4ab265f54516248ee8873be7d6441912456ce17e84f399...  http_out   \n",
       "20     4ab265f54516248ee8873be7d6441912456ce17e84f399...   rpc_out   \n",
       "57     75e56c8fbb9336eb4dd40f5f609d5344203d374d73fd0b...    rpc_in   \n",
       "...                                                  ...       ...   \n",
       "64846  bc529ee59852e87efa2e41286d68dc59c973bbf8131324...   rpc_out   \n",
       "64848  c7da4297c678a12e5298bbebed6599928424f56cf4b1e1...    db_out   \n",
       "64859  0e196e772ff517533a7396537ab970729fbbc9ae2f5685...    db_out   \n",
       "64860  8c668296f4ee5134867e07e2196acd9e2f76181bc6983a...    db_out   \n",
       "64868  5d887bdb9fd24cea365fb7ce018526df1d39b11630081b...    db_out   \n",
       "\n",
       "                                                      dm  \n",
       "11     4ab265f54516248ee8873be7d6441912456ce17e84f399...  \n",
       "12     091794afdcf1abbaf62404337ff72a38df96c5d8af8bd0...  \n",
       "13     091794afdcf1abbaf62404337ff72a38df96c5d8af8bd0...  \n",
       "20     5cca70246befb1f4c9546d2912b9419dee54439218efa5...  \n",
       "57     b53f8e2c1722bba4f5819ecf0d6d1dc522825977126aee...  \n",
       "...                                                  ...  \n",
       "64846  99f2e7b501f50db9b4089242a5d3e1aba334c32e0c718b...  \n",
       "64848  5ff3630fb1b1eb87e7501f7ca3a73e8cd55121a63a1d5c...  \n",
       "64859  dfc72b449a65283e6038992b83a9fd2aef4a62444f1250...  \n",
       "64860  1ef3e9820a0cd97ef806a682fa6484d44758aaa46290ba...  \n",
       "64868  8ee7c139f721a23915ca012d2518eddbdc7ad1ced8b3da...  \n",
       "\n",
       "[13078 rows x 3 columns]"
      ]
     },
     "execution_count": 13,
     "metadata": {},
     "output_type": "execute_result"
    }
   ],
   "source": [
    "test_df = remaining_df.drop(validation_df.index)  # drop the sampled rows to get the second DataFram\n",
    "test_df"
   ]
  },
  {
   "cell_type": "code",
   "execution_count": 14,
   "id": "92fc4022",
   "metadata": {
    "scrolled": true,
    "pycharm": {
     "name": "#%%\n"
    }
   },
   "outputs": [
    {
     "data": {
      "text/html": [
       "<div>\n",
       "<style scoped>\n",
       "    .dataframe tbody tr th:only-of-type {\n",
       "        vertical-align: middle;\n",
       "    }\n",
       "\n",
       "    .dataframe tbody tr th {\n",
       "        vertical-align: top;\n",
       "    }\n",
       "\n",
       "    .dataframe thead th {\n",
       "        text-align: right;\n",
       "    }\n",
       "</style>\n",
       "<table border=\"1\" class=\"dataframe\">\n",
       "  <thead>\n",
       "    <tr style=\"text-align: right;\">\n",
       "      <th></th>\n",
       "      <th>traceid</th>\n",
       "    </tr>\n",
       "  </thead>\n",
       "  <tbody>\n",
       "    <tr>\n",
       "      <th>11</th>\n",
       "      <td>0b1339ef15919237750706000eded3</td>\n",
       "    </tr>\n",
       "    <tr>\n",
       "      <th>12</th>\n",
       "      <td>0b133c1915919238193454000e5d37</td>\n",
       "    </tr>\n",
       "    <tr>\n",
       "      <th>13</th>\n",
       "      <td>0b133c1915919238193454000e5d37</td>\n",
       "    </tr>\n",
       "    <tr>\n",
       "      <th>20</th>\n",
       "      <td>0b133c1915919238193454000e5d37</td>\n",
       "    </tr>\n",
       "    <tr>\n",
       "      <th>57</th>\n",
       "      <td>0b11355e15919238739898000e4315</td>\n",
       "    </tr>\n",
       "    <tr>\n",
       "      <th>...</th>\n",
       "      <td>...</td>\n",
       "    </tr>\n",
       "    <tr>\n",
       "      <th>64846</th>\n",
       "      <td>0b14275f15919238843807000e17aa</td>\n",
       "    </tr>\n",
       "    <tr>\n",
       "      <th>64848</th>\n",
       "      <td>0b14275f15919238843807000e17aa</td>\n",
       "    </tr>\n",
       "    <tr>\n",
       "      <th>64859</th>\n",
       "      <td>0b1428f515919237160953000e4403</td>\n",
       "    </tr>\n",
       "    <tr>\n",
       "      <th>64860</th>\n",
       "      <td>0b1428f515919237160953000e4403</td>\n",
       "    </tr>\n",
       "    <tr>\n",
       "      <th>64868</th>\n",
       "      <td>0b1398c815919236971775000efbf1</td>\n",
       "    </tr>\n",
       "  </tbody>\n",
       "</table>\n",
       "<p>13078 rows × 1 columns</p>\n",
       "</div>"
      ],
      "text/plain": [
       "                              traceid\n",
       "11     0b1339ef15919237750706000eded3\n",
       "12     0b133c1915919238193454000e5d37\n",
       "13     0b133c1915919238193454000e5d37\n",
       "20     0b133c1915919238193454000e5d37\n",
       "57     0b11355e15919238739898000e4315\n",
       "...                               ...\n",
       "64846  0b14275f15919238843807000e17aa\n",
       "64848  0b14275f15919238843807000e17aa\n",
       "64859  0b1428f515919237160953000e4403\n",
       "64860  0b1428f515919237160953000e4403\n",
       "64868  0b1398c815919236971775000efbf1\n",
       "\n",
       "[13078 rows x 1 columns]"
      ]
     },
     "execution_count": 14,
     "metadata": {},
     "output_type": "execute_result"
    }
   ],
   "source": [
    "test_traces_df = complete_df.iloc[test_df.index].drop(columns=['um','rpctype','dm'],axis=1)\n",
    "test_traces_df"
   ]
  },
  {
   "cell_type": "code",
   "execution_count": 15,
   "id": "403e07b9",
   "metadata": {
    "pycharm": {
     "name": "#%%\n"
    }
   },
   "outputs": [
    {
     "data": {
      "text/plain": [
       "4234"
      ]
     },
     "execution_count": 15,
     "metadata": {},
     "output_type": "execute_result"
    }
   ],
   "source": [
    "test_traces = list(set(test_traces_df['traceid']))\n",
    "len(test_traces)"
   ]
  },
  {
   "cell_type": "code",
   "execution_count": 16,
   "id": "cb9efe34",
   "metadata": {
    "pycharm": {
     "name": "#%%\n"
    }
   },
   "outputs": [],
   "source": [
    "def create_train_test_trace(complete_df, trace):\n",
    "    trace_df = complete_df[complete_df['traceid']==trace].drop_duplicates()\n",
    "    trace_triplets_df = trace_df.drop(columns=['traceid'],axis=1).drop_duplicates()\n",
    "\n",
    "    trace_entities = set(trace_triplets_df['dm']) | set(trace_triplets_df['um'])\n",
    "    trace_relations = set(trace_triplets_df['rpctype'])\n",
    "    trace_baseline = []\n",
    "    for entity in trace_entities:\n",
    "        trace_baseline.append(trace_triplets_df[trace_triplets_df['dm'] == entity].head(1))\n",
    "        trace_baseline.append(trace_triplets_df[trace_triplets_df['um'] == entity].head(1))\n",
    "\n",
    "    for relation in trace_relations:\n",
    "        trace_baseline.append(trace_triplets_df[trace_triplets_df['rpctype'] == relation].head(1))\n",
    "\n",
    "\n",
    "    trace_train_df = pd.concat(trace_baseline)\n",
    "    trace_train_df = trace_train_df.drop_duplicates()\n",
    "\n",
    "    trace_test_df = trace_triplets_df.drop(trace_train_df.index) \n",
    "\n",
    "    return trace_train_df, trace_test_df"
   ]
  },
  {
   "cell_type": "code",
   "execution_count": 17,
   "id": "783b7986",
   "metadata": {
    "pycharm": {
     "name": "#%%\n"
    }
   },
   "outputs": [
    {
     "name": "stderr",
     "output_type": "stream",
     "text": [
      "processing traces: 100%|█████████████████████████████████████████████████████████| 4234/4234 [12:31:16<00:00, 10.65s/it]\n"
     ]
    }
   ],
   "source": [
    "trace_train_df_list = []\n",
    "trace_test_df_list = [] \n",
    "trace_id_list = []\n",
    "with tqdm(desc=\"processing traces\", total=len(test_traces)) as progress_bar:\n",
    "    for trace in test_traces:\n",
    "        train_df, test_df = create_train_test_trace(complete_df, trace)\n",
    "        progress_bar.update(1)\n",
    "        if len(test_df) > 0:\n",
    "            trace_train_df_list.append(train_df)\n",
    "            trace_test_df_list.append(test_df)\n",
    "            trace_id_list.append(trace)"
   ]
  },
  {
   "cell_type": "code",
   "execution_count": 18,
   "id": "bf022eb8",
   "metadata": {
    "pycharm": {
     "name": "#%%\n"
    }
   },
   "outputs": [],
   "source": [
    "# @contextlib.contextmanager\n",
    "# def tqdm_joblib(tqdm_object):\n",
    "#     \"\"\"Context manager to patch joblib to report into tqdm progress bar given as argument\"\"\"\n",
    "#     class TqdmBatchCompletionCallback(joblib.parallel.BatchCompletionCallBack):\n",
    "#         def __call__(self, *args, **kwargs):\n",
    "#             tqdm_object.update(n=self.batch_size)\n",
    "#             return super().__call__(*args, **kwargs)\n",
    "\n",
    "#     old_batch_callback = joblib.parallel.BatchCompletionCallBack\n",
    "#     joblib.parallel.BatchCompletionCallBack = TqdmBatchCompletionCallback\n",
    "#     try:\n",
    "#         yield tqdm_object\n",
    "#     finally:\n",
    "#         joblib.parallel.BatchCompletionCallBack = old_batch_callback\n",
    "#         tqdm_object.close()"
   ]
  },
  {
   "cell_type": "code",
   "execution_count": 19,
   "id": "91fde631",
   "metadata": {
    "pycharm": {
     "name": "#%%\n"
    }
   },
   "outputs": [],
   "source": [
    "# from joblib import Parallel, delayed\n",
    "\n",
    "# def process_trace(trace):\n",
    "#     train_df, test_df = create_train_test_trace(complete_df, trace)\n",
    "#     if len(test_df) > 0:\n",
    "#         return (train_df, test_df, trace)\n",
    "#     else:\n",
    "#         return None\n",
    "# with tqdm_joblib(tqdm(desc=\"processing traces\", total=len(test_traces))) as progress_bar:\n",
    "#     results = Parallel(n_jobs=-1)(delayed(process_trace)(trace) for trace in test_traces)\n",
    "\n",
    "# trace_train_df_list = [result[0] for result in results if result is not None]\n",
    "# trace_test_df_list = [result[1] for result in results if result is not None]\n",
    "# trace_id_list = [result[2] for result in results if result is not None]"
   ]
  },
  {
   "cell_type": "code",
   "execution_count": 20,
   "id": "880195d4",
   "metadata": {
    "pycharm": {
     "name": "#%%\n"
    }
   },
   "outputs": [],
   "source": [
    "def create_triplets(df):\n",
    "    triplets = []\n",
    "    for i in range(len(df)):\n",
    "        head = df.iloc[i]['dm']\n",
    "        tail = df.iloc[i]['um']\n",
    "        rel = df.iloc[i]['rpctype']\n",
    "        triplets.append([head,rel,tail])\n",
    "    return triplets"
   ]
  },
  {
   "cell_type": "code",
   "execution_count": 21,
   "id": "77d32f01",
   "metadata": {
    "pycharm": {
     "name": "#%%\n"
    }
   },
   "outputs": [],
   "source": [
    "def create_tsv(triplets, file_name):\n",
    "    with open(file_name, 'w') as file:\n",
    "        for elem in triplets: \n",
    "            file.write(f'{elem[0]}\t{elem[1]}\t{elem[2]}\\n')\n",
    "        file.close()"
   ]
  },
  {
   "cell_type": "code",
   "execution_count": 22,
   "id": "33fa12ef",
   "metadata": {
    "pycharm": {
     "name": "#%%\n"
    }
   },
   "outputs": [
    {
     "name": "stdout",
     "output_type": "stream",
     "text": [
      "MSCallGraph_traces created successfully\n",
      "MSCallGraph_traces/train created successfully\n",
      "MSCallGraph_traces/test created successfully\n"
     ]
    }
   ],
   "source": [
    "\n",
    "# Create a directory\n",
    "directory = \"MSCallGraph_traces\"\n",
    "if not os.path.exists(directory):\n",
    "    os.makedirs(directory)\n",
    "    print(f\"{directory} created successfully\")\n",
    "else:\n",
    "    print(f\"{directory} already exists\")\n",
    "\n",
    "    # Create a directory\n",
    "directory = \"MSCallGraph_traces/train\"\n",
    "if not os.path.exists(directory):\n",
    "    os.makedirs(directory)\n",
    "    print(f\"{directory} created successfully\")\n",
    "else:\n",
    "    print(f\"{directory} already exists\")\n",
    "    # Create a directory\n",
    "directory = \"MSCallGraph_traces/test\"\n",
    "if not os.path.exists(directory):\n",
    "    os.makedirs(directory)\n",
    "    print(f\"{directory} created successfully\")\n",
    "else:\n",
    "    print(f\"{directory} already exists\")"
   ]
  },
  {
   "cell_type": "code",
   "execution_count": 23,
   "id": "5198b178",
   "metadata": {
    "pycharm": {
     "name": "#%%\n"
    }
   },
   "outputs": [
    {
     "name": "stderr",
     "output_type": "stream",
     "text": [
      "writing train tsv: 100%|███████████████████████████████████████████████████████████| 2200/2200 [00:20<00:00, 105.12it/s]\n"
     ]
    }
   ],
   "source": [
    "with tqdm(desc=\"writing train tsv\", total=len(trace_id_list)) as progress_bar:\n",
    "    for elem in zip(trace_train_df_list,trace_id_list):\n",
    "        create_tsv(create_triplets(elem[0]),f\"MSCallGraph_traces/train/{elem[1]}_transductive_train_io.tsv\")\n",
    "        progress_bar.update(1)"
   ]
  },
  {
   "cell_type": "code",
   "execution_count": 24,
   "id": "db9050be",
   "metadata": {
    "pycharm": {
     "name": "#%%\n"
    }
   },
   "outputs": [
    {
     "name": "stderr",
     "output_type": "stream",
     "text": [
      "writing test tsv: 100%|████████████████████████████████████████████████████████████| 2200/2200 [00:12<00:00, 171.20it/s]\n"
     ]
    }
   ],
   "source": [
    "with tqdm(desc=\"writing test tsv\", total=len(trace_id_list)) as progress_bar:  \n",
    "    for elem in zip(trace_test_df_list,trace_id_list):\n",
    "        create_tsv(create_triplets(elem[0]),f\"MSCallGraph_traces/test/{elem[1]}_transductive_test_io.tsv\")\n",
    "        progress_bar.update(1)"
   ]
  },
  {
   "cell_type": "code",
   "execution_count": 2,
   "id": "41d05840",
   "metadata": {
    "pycharm": {
     "name": "#%%\n"
    }
   },
   "outputs": [],
   "source": [
    "!mv MSCallGraph_traces MSCallGraph_traces_io"
   ]
  },
  {
   "cell_type": "code",
   "execution_count": 3,
   "id": "89818c49",
   "metadata": {
    "pycharm": {
     "name": "#%%\n"
    }
   },
   "outputs": [
    {
     "name": "stdout",
     "output_type": "stream",
     "text": [
      "Zipping\n",
      "MSCallGraph_traces_io.zip created successfully!\n",
      "Done\n"
     ]
    }
   ],
   "source": [
    "\n",
    "def zip_folder(folder_path, output_path):\n",
    "    \"\"\"\n",
    "    Compresses a folder into a zip file.\n",
    "\n",
    "    :param folder_path: The path to the folder to be compressed.\n",
    "    :param output_path: The path and filename of the resulting zip file.\n",
    "    \"\"\"\n",
    "\n",
    "    with zipfile.ZipFile(output_path, 'w', zipfile.ZIP_DEFLATED) as zip_file:\n",
    "        # Iterate over all the files in the folder and add them to the zip file.\n",
    "        for root, dirs, files in os.walk(folder_path):\n",
    "            for file in files:\n",
    "                zip_file.write(os.path.join(root, file))\n",
    "\n",
    "    print(f\"{output_path} created successfully!\")\n",
    "\n",
    "\n",
    "# Example usage\n",
    "folder_path = \"MSCallGraph_traces_io\"\n",
    "output_path = folder_path+\".zip\"\n",
    "\n",
    "print(\"Zipping\")\n",
    "zip_folder(folder_path, output_path)\n",
    "print(\"Done\")"
   ]
  },
  {
   "cell_type": "code",
   "execution_count": null,
   "id": "8adbaddf",
   "metadata": {
    "pycharm": {
     "name": "#%%\n"
    }
   },
   "outputs": [],
   "source": []
  },
  {
   "cell_type": "code",
   "execution_count": null,
   "id": "e1d4f99c",
   "metadata": {
    "pycharm": {
     "name": "#%%\n"
    }
   },
   "outputs": [],
   "source": []
  }
 ],
 "metadata": {
  "kernelspec": {
   "display_name": "Python 3 (ipykernel)",
   "language": "python",
   "name": "python3"
  },
  "language_info": {
   "codemirror_mode": {
    "name": "ipython",
    "version": 3
   },
   "file_extension": ".py",
   "mimetype": "text/x-python",
   "name": "python",
   "nbconvert_exporter": "python",
   "pygments_lexer": "ipython3",
   "version": "3.9.16"
  }
 },
 "nbformat": 4,
 "nbformat_minor": 5
}