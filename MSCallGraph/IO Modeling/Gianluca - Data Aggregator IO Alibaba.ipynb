{
 "cells": [
  {
   "cell_type": "markdown",
   "id": "888a82b2",
   "metadata": {
    "pycharm": {
     "name": "#%% md\n"
    }
   },
   "source": [
    "In this notebook I am joining the previously processed reduced dataset parts. It will be used for creating the trace test set."
   ]
  },
  {
   "cell_type": "code",
   "execution_count": 1,
   "id": "16613799",
   "metadata": {
    "pycharm": {
     "name": "#%%\n"
    }
   },
   "outputs": [],
   "source": [
    "import pandas as pd\n",
    "import numpy as np\n",
    "import zipfile\n",
    "import joblib\n",
    "from tqdm import tqdm\n",
    "import contextlib"
   ]
  },
  {
   "cell_type": "code",
   "execution_count": 2,
   "id": "ff068c98",
   "metadata": {
    "pycharm": {
     "name": "#%%\n"
    }
   },
   "outputs": [],
   "source": [
    "\n",
    "to_skip = tuple([2,57,60,64,66,75,98,101,125,129,130,144]) # corrupted files\n",
    "df_list = []\n",
    "\n",
    "# define a function to extract and process a single file\n",
    "def extract_and_process_file(i):  \n",
    "    if to_skip.count(i) > 0:\n",
    "        return None\n",
    "        \n",
    "    # specify the name of the zip file and the directory to extract the contents\n",
    "    zip_file_name = f'MSCallGraph_{i}_io.zip'\n",
    "    extract_dir = \"\"\n",
    "\n",
    "    # create a ZipFile object and extract the contents to the specified directory\n",
    "    with zipfile.ZipFile(zip_file_name, 'r') as zip_ref:\n",
    "        zip_ref.extractall(extract_dir)\n",
    "    \n",
    "    # read the CSV file and process it\n",
    "    df = pd.read_csv(f'MSCallGraph_{i}_io.csv').drop(['Unnamed: 0'],axis = 1).drop_duplicates()\n",
    "    return df\n"
   ]
  },
  {
   "cell_type": "code",
   "execution_count": 3,
   "id": "7ae5be6d",
   "metadata": {
    "pycharm": {
     "name": "#%%\n"
    }
   },
   "outputs": [],
   "source": [
    "\n",
    "\n",
    "@contextlib.contextmanager\n",
    "def tqdm_joblib(tqdm_object):\n",
    "    \"\"\"Context manager to patch joblib to report into tqdm progress bar given as argument\"\"\"\n",
    "    class TqdmBatchCompletionCallback(joblib.parallel.BatchCompletionCallBack):\n",
    "        def __call__(self, *args, **kwargs):\n",
    "            tqdm_object.update(n=self.batch_size)\n",
    "            return super().__call__(*args, **kwargs)\n",
    "\n",
    "    old_batch_callback = joblib.parallel.BatchCompletionCallBack\n",
    "    joblib.parallel.BatchCompletionCallBack = TqdmBatchCompletionCallback\n",
    "    try:\n",
    "        yield tqdm_object\n",
    "    finally:\n",
    "        joblib.parallel.BatchCompletionCallBack = old_batch_callback\n",
    "        tqdm_object.close()"
   ]
  },
  {
   "cell_type": "code",
   "execution_count": 4,
   "id": "3413ecb2",
   "metadata": {
    "pycharm": {
     "name": "#%%\n"
    }
   },
   "outputs": [
    {
     "name": "stdout",
     "output_type": "stream",
     "text": [
      "cpu  -1\n"
     ]
    },
    {
     "name": "stderr",
     "output_type": "stream",
     "text": [
      "aggregating io: 100%|█████████████████████| 145/145 [00:55<00:00,  2.60it/s]\n"
     ]
    }
   ],
   "source": [
    "# use joblib.Parallel to extract and process the files in parallel\n",
    "n_jobs = -1 # use all available CPUs\n",
    "print(\"cpu \",n_jobs)\n",
    "with tqdm_joblib(tqdm(desc=\"aggregating io\", total=145)) as progress_bar:\n",
    "    results = joblib.Parallel(n_jobs=n_jobs)(joblib.delayed(extract_and_process_file)(i) for i in range(0, 145))\n",
    "\n",
    "# filter out the None values and append the processed dataframes to df_list\n",
    "for df in results:\n",
    "    if df is not None:\n",
    "        df_list.append(df)"
   ]
  },
  {
   "cell_type": "code",
   "execution_count": 5,
   "id": "d444c0e1",
   "metadata": {
    "scrolled": true,
    "pycharm": {
     "name": "#%%\n"
    }
   },
   "outputs": [
    {
     "data": {
      "text/html": [
       "<div>\n",
       "<style scoped>\n",
       "    .dataframe tbody tr th:only-of-type {\n",
       "        vertical-align: middle;\n",
       "    }\n",
       "\n",
       "    .dataframe tbody tr th {\n",
       "        vertical-align: top;\n",
       "    }\n",
       "\n",
       "    .dataframe thead th {\n",
       "        text-align: right;\n",
       "    }\n",
       "</style>\n",
       "<table border=\"1\" class=\"dataframe\">\n",
       "  <thead>\n",
       "    <tr style=\"text-align: right;\">\n",
       "      <th></th>\n",
       "      <th>traceid</th>\n",
       "      <th>um</th>\n",
       "      <th>rpctype</th>\n",
       "      <th>dm</th>\n",
       "    </tr>\n",
       "  </thead>\n",
       "  <tbody>\n",
       "    <tr>\n",
       "      <th>0</th>\n",
       "      <td>0b133c1915919238193454000e5d37</td>\n",
       "      <td>5cca70246befb1f4c9546d2912b9419dee54439218efa5...</td>\n",
       "      <td>mc_out</td>\n",
       "      <td>b1dbd3a649a3cc790fa12573c9c1aa00988e07a8818a22...</td>\n",
       "    </tr>\n",
       "    <tr>\n",
       "      <th>1</th>\n",
       "      <td>0b133c1915919238193454000e5d37</td>\n",
       "      <td>4ab265f54516248ee8873be7d6441912456ce17e84f399...</td>\n",
       "      <td>mc_out</td>\n",
       "      <td>fd6d86bd0fd550e717c1fdb82a33190a9fef216d87d535...</td>\n",
       "    </tr>\n",
       "    <tr>\n",
       "      <th>2</th>\n",
       "      <td>0b133c1915919238193454000e5d37</td>\n",
       "      <td>5cca70246befb1f4c9546d2912b9419dee54439218efa5...</td>\n",
       "      <td>userDefined_out</td>\n",
       "      <td>5cca70246befb1f4c9546d2912b9419dee54439218efa5...</td>\n",
       "    </tr>\n",
       "    <tr>\n",
       "      <th>3</th>\n",
       "      <td>0b133c1915919238193454000e5d37</td>\n",
       "      <td>75e56c8fbb9336eb4dd40f5f609d5344203d374d73fd0b...</td>\n",
       "      <td>rpc_in</td>\n",
       "      <td>84f9f68ef003a21288fffe8f9a09a5a29b05f4cc4229b8...</td>\n",
       "    </tr>\n",
       "    <tr>\n",
       "      <th>4</th>\n",
       "      <td>0b133c1915919238193454000e5d37</td>\n",
       "      <td>4ab265f54516248ee8873be7d6441912456ce17e84f399...</td>\n",
       "      <td>mc_out</td>\n",
       "      <td>01d660afcfadafd587e20ec4c04ddbc7eb0de95643ba0e...</td>\n",
       "    </tr>\n",
       "    <tr>\n",
       "      <th>...</th>\n",
       "      <td>...</td>\n",
       "      <td>...</td>\n",
       "      <td>...</td>\n",
       "      <td>...</td>\n",
       "    </tr>\n",
       "    <tr>\n",
       "      <th>1878117</th>\n",
       "      <td>0b14339415919667189434000e499f</td>\n",
       "      <td>24601dd8b36f856eb0a4d759866f475bc62cf843ffe092...</td>\n",
       "      <td>rpc_out</td>\n",
       "      <td>2abd05990aa9eb81a3eaa333829ec355eaee57fbecc9e8...</td>\n",
       "    </tr>\n",
       "    <tr>\n",
       "      <th>1878118</th>\n",
       "      <td>0b14339415919667189434000e499f</td>\n",
       "      <td>24601dd8b36f856eb0a4d759866f475bc62cf843ffe092...</td>\n",
       "      <td>rpc_in</td>\n",
       "      <td>24601dd8b36f856eb0a4d759866f475bc62cf843ffe092...</td>\n",
       "    </tr>\n",
       "    <tr>\n",
       "      <th>1878119</th>\n",
       "      <td>0b14339415919667189434000e499f</td>\n",
       "      <td>24601dd8b36f856eb0a4d759866f475bc62cf843ffe092...</td>\n",
       "      <td>rpc_in</td>\n",
       "      <td>643bce6326e327bb36361c31d1ad0cf9ee8d5767175482...</td>\n",
       "    </tr>\n",
       "    <tr>\n",
       "      <th>1878120</th>\n",
       "      <td>0b14339415919667189434000e499f</td>\n",
       "      <td>643bce6326e327bb36361c31d1ad0cf9ee8d5767175482...</td>\n",
       "      <td>rpc_out</td>\n",
       "      <td>e9916393b398199ef017f67a1904dd9c30323405c6f77c...</td>\n",
       "    </tr>\n",
       "    <tr>\n",
       "      <th>1878121</th>\n",
       "      <td>0b5218dd15919665521188000eff6c</td>\n",
       "      <td>95a6f7f8345e2eca31ee74ddc19d547e7fc0f5c8e65772...</td>\n",
       "      <td>rpc_out</td>\n",
       "      <td>e6c95bef37d936ebb375bf135ded88c96eb9257a1d3d9d...</td>\n",
       "    </tr>\n",
       "  </tbody>\n",
       "</table>\n",
       "<p>222509717 rows × 4 columns</p>\n",
       "</div>"
      ],
      "text/plain": [
       "                                traceid  \\\n",
       "0        0b133c1915919238193454000e5d37   \n",
       "1        0b133c1915919238193454000e5d37   \n",
       "2        0b133c1915919238193454000e5d37   \n",
       "3        0b133c1915919238193454000e5d37   \n",
       "4        0b133c1915919238193454000e5d37   \n",
       "...                                 ...   \n",
       "1878117  0b14339415919667189434000e499f   \n",
       "1878118  0b14339415919667189434000e499f   \n",
       "1878119  0b14339415919667189434000e499f   \n",
       "1878120  0b14339415919667189434000e499f   \n",
       "1878121  0b5218dd15919665521188000eff6c   \n",
       "\n",
       "                                                        um          rpctype  \\\n",
       "0        5cca70246befb1f4c9546d2912b9419dee54439218efa5...           mc_out   \n",
       "1        4ab265f54516248ee8873be7d6441912456ce17e84f399...           mc_out   \n",
       "2        5cca70246befb1f4c9546d2912b9419dee54439218efa5...  userDefined_out   \n",
       "3        75e56c8fbb9336eb4dd40f5f609d5344203d374d73fd0b...           rpc_in   \n",
       "4        4ab265f54516248ee8873be7d6441912456ce17e84f399...           mc_out   \n",
       "...                                                    ...              ...   \n",
       "1878117  24601dd8b36f856eb0a4d759866f475bc62cf843ffe092...          rpc_out   \n",
       "1878118  24601dd8b36f856eb0a4d759866f475bc62cf843ffe092...           rpc_in   \n",
       "1878119  24601dd8b36f856eb0a4d759866f475bc62cf843ffe092...           rpc_in   \n",
       "1878120  643bce6326e327bb36361c31d1ad0cf9ee8d5767175482...          rpc_out   \n",
       "1878121  95a6f7f8345e2eca31ee74ddc19d547e7fc0f5c8e65772...          rpc_out   \n",
       "\n",
       "                                                        dm  \n",
       "0        b1dbd3a649a3cc790fa12573c9c1aa00988e07a8818a22...  \n",
       "1        fd6d86bd0fd550e717c1fdb82a33190a9fef216d87d535...  \n",
       "2        5cca70246befb1f4c9546d2912b9419dee54439218efa5...  \n",
       "3        84f9f68ef003a21288fffe8f9a09a5a29b05f4cc4229b8...  \n",
       "4        01d660afcfadafd587e20ec4c04ddbc7eb0de95643ba0e...  \n",
       "...                                                    ...  \n",
       "1878117  2abd05990aa9eb81a3eaa333829ec355eaee57fbecc9e8...  \n",
       "1878118  24601dd8b36f856eb0a4d759866f475bc62cf843ffe092...  \n",
       "1878119  643bce6326e327bb36361c31d1ad0cf9ee8d5767175482...  \n",
       "1878120  e9916393b398199ef017f67a1904dd9c30323405c6f77c...  \n",
       "1878121  e6c95bef37d936ebb375bf135ded88c96eb9257a1d3d9d...  \n",
       "\n",
       "[222509717 rows x 4 columns]"
      ]
     },
     "execution_count": 5,
     "metadata": {},
     "output_type": "execute_result"
    }
   ],
   "source": [
    "df = pd.concat(df_list).drop_duplicates()\n",
    "df"
   ]
  },
  {
   "cell_type": "code",
   "execution_count": 6,
   "id": "7bc751fb",
   "metadata": {
    "pycharm": {
     "name": "#%%\n"
    }
   },
   "outputs": [],
   "source": [
    "df.to_csv('MSCallGraph_joined_io.csv',index=False)"
   ]
  },
  {
   "cell_type": "code",
   "execution_count": 7,
   "id": "44552068",
   "metadata": {
    "pycharm": {
     "name": "#%%\n"
    }
   },
   "outputs": [
    {
     "data": {
      "text/html": [
       "<div>\n",
       "<style scoped>\n",
       "    .dataframe tbody tr th:only-of-type {\n",
       "        vertical-align: middle;\n",
       "    }\n",
       "\n",
       "    .dataframe tbody tr th {\n",
       "        vertical-align: top;\n",
       "    }\n",
       "\n",
       "    .dataframe thead th {\n",
       "        text-align: right;\n",
       "    }\n",
       "</style>\n",
       "<table border=\"1\" class=\"dataframe\">\n",
       "  <thead>\n",
       "    <tr style=\"text-align: right;\">\n",
       "      <th></th>\n",
       "      <th>traceid</th>\n",
       "      <th>um</th>\n",
       "      <th>rpctype</th>\n",
       "      <th>dm</th>\n",
       "    </tr>\n",
       "  </thead>\n",
       "  <tbody>\n",
       "    <tr>\n",
       "      <th>0</th>\n",
       "      <td>0b133c1915919238193454000e5d37</td>\n",
       "      <td>5cca70246befb1f4c9546d2912b9419dee54439218efa5...</td>\n",
       "      <td>mc_out</td>\n",
       "      <td>b1dbd3a649a3cc790fa12573c9c1aa00988e07a8818a22...</td>\n",
       "    </tr>\n",
       "    <tr>\n",
       "      <th>1</th>\n",
       "      <td>0b133c1915919238193454000e5d37</td>\n",
       "      <td>4ab265f54516248ee8873be7d6441912456ce17e84f399...</td>\n",
       "      <td>mc_out</td>\n",
       "      <td>fd6d86bd0fd550e717c1fdb82a33190a9fef216d87d535...</td>\n",
       "    </tr>\n",
       "    <tr>\n",
       "      <th>2</th>\n",
       "      <td>0b133c1915919238193454000e5d37</td>\n",
       "      <td>5cca70246befb1f4c9546d2912b9419dee54439218efa5...</td>\n",
       "      <td>userDefined_out</td>\n",
       "      <td>5cca70246befb1f4c9546d2912b9419dee54439218efa5...</td>\n",
       "    </tr>\n",
       "    <tr>\n",
       "      <th>3</th>\n",
       "      <td>0b133c1915919238193454000e5d37</td>\n",
       "      <td>75e56c8fbb9336eb4dd40f5f609d5344203d374d73fd0b...</td>\n",
       "      <td>rpc_in</td>\n",
       "      <td>84f9f68ef003a21288fffe8f9a09a5a29b05f4cc4229b8...</td>\n",
       "    </tr>\n",
       "    <tr>\n",
       "      <th>4</th>\n",
       "      <td>0b133c1915919238193454000e5d37</td>\n",
       "      <td>4ab265f54516248ee8873be7d6441912456ce17e84f399...</td>\n",
       "      <td>mc_out</td>\n",
       "      <td>01d660afcfadafd587e20ec4c04ddbc7eb0de95643ba0e...</td>\n",
       "    </tr>\n",
       "    <tr>\n",
       "      <th>...</th>\n",
       "      <td>...</td>\n",
       "      <td>...</td>\n",
       "      <td>...</td>\n",
       "      <td>...</td>\n",
       "    </tr>\n",
       "    <tr>\n",
       "      <th>222509712</th>\n",
       "      <td>0b14339415919667189434000e499f</td>\n",
       "      <td>24601dd8b36f856eb0a4d759866f475bc62cf843ffe092...</td>\n",
       "      <td>rpc_out</td>\n",
       "      <td>2abd05990aa9eb81a3eaa333829ec355eaee57fbecc9e8...</td>\n",
       "    </tr>\n",
       "    <tr>\n",
       "      <th>222509713</th>\n",
       "      <td>0b14339415919667189434000e499f</td>\n",
       "      <td>24601dd8b36f856eb0a4d759866f475bc62cf843ffe092...</td>\n",
       "      <td>rpc_in</td>\n",
       "      <td>24601dd8b36f856eb0a4d759866f475bc62cf843ffe092...</td>\n",
       "    </tr>\n",
       "    <tr>\n",
       "      <th>222509714</th>\n",
       "      <td>0b14339415919667189434000e499f</td>\n",
       "      <td>24601dd8b36f856eb0a4d759866f475bc62cf843ffe092...</td>\n",
       "      <td>rpc_in</td>\n",
       "      <td>643bce6326e327bb36361c31d1ad0cf9ee8d5767175482...</td>\n",
       "    </tr>\n",
       "    <tr>\n",
       "      <th>222509715</th>\n",
       "      <td>0b14339415919667189434000e499f</td>\n",
       "      <td>643bce6326e327bb36361c31d1ad0cf9ee8d5767175482...</td>\n",
       "      <td>rpc_out</td>\n",
       "      <td>e9916393b398199ef017f67a1904dd9c30323405c6f77c...</td>\n",
       "    </tr>\n",
       "    <tr>\n",
       "      <th>222509716</th>\n",
       "      <td>0b5218dd15919665521188000eff6c</td>\n",
       "      <td>95a6f7f8345e2eca31ee74ddc19d547e7fc0f5c8e65772...</td>\n",
       "      <td>rpc_out</td>\n",
       "      <td>e6c95bef37d936ebb375bf135ded88c96eb9257a1d3d9d...</td>\n",
       "    </tr>\n",
       "  </tbody>\n",
       "</table>\n",
       "<p>222509717 rows × 4 columns</p>\n",
       "</div>"
      ],
      "text/plain": [
       "                                  traceid  \\\n",
       "0          0b133c1915919238193454000e5d37   \n",
       "1          0b133c1915919238193454000e5d37   \n",
       "2          0b133c1915919238193454000e5d37   \n",
       "3          0b133c1915919238193454000e5d37   \n",
       "4          0b133c1915919238193454000e5d37   \n",
       "...                                   ...   \n",
       "222509712  0b14339415919667189434000e499f   \n",
       "222509713  0b14339415919667189434000e499f   \n",
       "222509714  0b14339415919667189434000e499f   \n",
       "222509715  0b14339415919667189434000e499f   \n",
       "222509716  0b5218dd15919665521188000eff6c   \n",
       "\n",
       "                                                          um          rpctype  \\\n",
       "0          5cca70246befb1f4c9546d2912b9419dee54439218efa5...           mc_out   \n",
       "1          4ab265f54516248ee8873be7d6441912456ce17e84f399...           mc_out   \n",
       "2          5cca70246befb1f4c9546d2912b9419dee54439218efa5...  userDefined_out   \n",
       "3          75e56c8fbb9336eb4dd40f5f609d5344203d374d73fd0b...           rpc_in   \n",
       "4          4ab265f54516248ee8873be7d6441912456ce17e84f399...           mc_out   \n",
       "...                                                      ...              ...   \n",
       "222509712  24601dd8b36f856eb0a4d759866f475bc62cf843ffe092...          rpc_out   \n",
       "222509713  24601dd8b36f856eb0a4d759866f475bc62cf843ffe092...           rpc_in   \n",
       "222509714  24601dd8b36f856eb0a4d759866f475bc62cf843ffe092...           rpc_in   \n",
       "222509715  643bce6326e327bb36361c31d1ad0cf9ee8d5767175482...          rpc_out   \n",
       "222509716  95a6f7f8345e2eca31ee74ddc19d547e7fc0f5c8e65772...          rpc_out   \n",
       "\n",
       "                                                          dm  \n",
       "0          b1dbd3a649a3cc790fa12573c9c1aa00988e07a8818a22...  \n",
       "1          fd6d86bd0fd550e717c1fdb82a33190a9fef216d87d535...  \n",
       "2          5cca70246befb1f4c9546d2912b9419dee54439218efa5...  \n",
       "3          84f9f68ef003a21288fffe8f9a09a5a29b05f4cc4229b8...  \n",
       "4          01d660afcfadafd587e20ec4c04ddbc7eb0de95643ba0e...  \n",
       "...                                                      ...  \n",
       "222509712  2abd05990aa9eb81a3eaa333829ec355eaee57fbecc9e8...  \n",
       "222509713  24601dd8b36f856eb0a4d759866f475bc62cf843ffe092...  \n",
       "222509714  643bce6326e327bb36361c31d1ad0cf9ee8d5767175482...  \n",
       "222509715  e9916393b398199ef017f67a1904dd9c30323405c6f77c...  \n",
       "222509716  e6c95bef37d936ebb375bf135ded88c96eb9257a1d3d9d...  \n",
       "\n",
       "[222509717 rows x 4 columns]"
      ]
     },
     "execution_count": 7,
     "metadata": {},
     "output_type": "execute_result"
    }
   ],
   "source": [
    "df = pd.read_csv('MSCallGraph_joined_io.csv')\n",
    "df"
   ]
  },
  {
   "cell_type": "code",
   "execution_count": 8,
   "id": "411449eb",
   "metadata": {
    "pycharm": {
     "name": "#%%\n"
    }
   },
   "outputs": [
    {
     "name": "stdout",
     "output_type": "stream",
     "text": [
      "                                  traceid  \\\n",
      "0          0b133c1915919238193454000e5d37   \n",
      "1          0b133c1915919238193454000e5d37   \n",
      "2          0b133c1915919238193454000e5d37   \n",
      "3          0b133c1915919238193454000e5d37   \n",
      "4          0b133c1915919238193454000e5d37   \n",
      "...                                   ...   \n",
      "222509712  0b14339415919667189434000e499f   \n",
      "222509713  0b14339415919667189434000e499f   \n",
      "222509714  0b14339415919667189434000e499f   \n",
      "222509715  0b14339415919667189434000e499f   \n",
      "222509716  0b5218dd15919665521188000eff6c   \n",
      "\n",
      "                                                          um          rpctype  \\\n",
      "0          5cca70246befb1f4c9546d2912b9419dee54439218efa5...           mc_out   \n",
      "1          4ab265f54516248ee8873be7d6441912456ce17e84f399...           mc_out   \n",
      "2          5cca70246befb1f4c9546d2912b9419dee54439218efa5...  userDefined_out   \n",
      "3          75e56c8fbb9336eb4dd40f5f609d5344203d374d73fd0b...           rpc_in   \n",
      "4          4ab265f54516248ee8873be7d6441912456ce17e84f399...           mc_out   \n",
      "...                                                      ...              ...   \n",
      "222509712  24601dd8b36f856eb0a4d759866f475bc62cf843ffe092...          rpc_out   \n",
      "222509713  24601dd8b36f856eb0a4d759866f475bc62cf843ffe092...           rpc_in   \n",
      "222509714  24601dd8b36f856eb0a4d759866f475bc62cf843ffe092...           rpc_in   \n",
      "222509715  643bce6326e327bb36361c31d1ad0cf9ee8d5767175482...          rpc_out   \n",
      "222509716  95a6f7f8345e2eca31ee74ddc19d547e7fc0f5c8e65772...          rpc_out   \n",
      "\n",
      "                                                          dm  \n",
      "0          b1dbd3a649a3cc790fa12573c9c1aa00988e07a8818a22...  \n",
      "1          fd6d86bd0fd550e717c1fdb82a33190a9fef216d87d535...  \n",
      "2          5cca70246befb1f4c9546d2912b9419dee54439218efa5...  \n",
      "3          84f9f68ef003a21288fffe8f9a09a5a29b05f4cc4229b8...  \n",
      "4          01d660afcfadafd587e20ec4c04ddbc7eb0de95643ba0e...  \n",
      "...                                                      ...  \n",
      "222509712  2abd05990aa9eb81a3eaa333829ec355eaee57fbecc9e8...  \n",
      "222509713  24601dd8b36f856eb0a4d759866f475bc62cf843ffe092...  \n",
      "222509714  643bce6326e327bb36361c31d1ad0cf9ee8d5767175482...  \n",
      "222509715  e9916393b398199ef017f67a1904dd9c30323405c6f77c...  \n",
      "222509716  e6c95bef37d936ebb375bf135ded88c96eb9257a1d3d9d...  \n",
      "\n",
      "[222509717 rows x 4 columns]\n"
     ]
    }
   ],
   "source": [
    "print(df)"
   ]
  },
  {
   "cell_type": "code",
   "execution_count": 9,
   "id": "9de7b425",
   "metadata": {
    "pycharm": {
     "name": "#%%\n"
    }
   },
   "outputs": [],
   "source": [
    "import zipfile\n",
    "filename = 'MSCallGraph_joined_io.csv'\n",
    "zipfilename = 'MSCallGraph_joined_io.zip'\n",
    "\n",
    "# Create a ZipFile object and add the file to it\n",
    "with zipfile.ZipFile(zipfilename, 'w', compresslevel=9, compression=zipfile.ZIP_LZMA) as zip:\n",
    "    zip.write(filename)"
   ]
  }
 ],
 "metadata": {
  "kernelspec": {
   "display_name": "Python 3 (ipykernel)",
   "language": "python",
   "name": "python3"
  },
  "language_info": {
   "codemirror_mode": {
    "name": "ipython",
    "version": 3
   },
   "file_extension": ".py",
   "mimetype": "text/x-python",
   "name": "python",
   "nbconvert_exporter": "python",
   "pygments_lexer": "ipython3",
   "version": "3.9.16"
  }
 },
 "nbformat": 4,
 "nbformat_minor": 5
}