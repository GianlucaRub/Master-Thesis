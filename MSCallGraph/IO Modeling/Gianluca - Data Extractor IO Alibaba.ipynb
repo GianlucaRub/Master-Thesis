{
 "cells": [
  {
   "cell_type": "markdown",
   "id": "46463e8c",
   "metadata": {
    "pycharm": {
     "name": "#%% md\n"
    }
   },
   "source": [
    "In this notebook I am processing each part of the dataset. For each sample I am extracting the unique triplets and the related trace ids. If the rt is > 0 the relation is considered to be out otherwise it is in . Then I save the result. "
   ]
  },
  {
   "cell_type": "code",
   "execution_count": 1,
   "id": "43fe8115",
   "metadata": {
    "pycharm": {
     "name": "#%%\n"
    }
   },
   "outputs": [],
   "source": [
    "import tarfile\n",
    "import pandas as pd\n",
    "import numpy as np\n",
    "import os\n",
    "from tqdm import tqdm\n",
    "import zipfile\n"
   ]
  },
  {
   "cell_type": "code",
   "execution_count": 2,
   "id": "f4a103c0",
   "metadata": {
    "pycharm": {
     "name": "#%%\n"
    }
   },
   "outputs": [
    {
     "name": "stderr",
     "output_type": "stream",
     "text": [
      "Progress:  92%|█████████▏| 133/145 [5:21:04<28:58, 144.85s/it]   \n"
     ]
    }
   ],
   "source": [
    "\n",
    "\n",
    "to_skip = tuple([2,57,60,64,66,75,98,101,125,129,130,144]) # corrupted files\n",
    "with tqdm(total=145, desc = \"Progress\") as progress_bar:\n",
    "    for i in range(0, 145):\n",
    "\n",
    "        if to_skip.count(i) > 0:\n",
    "            continue\n",
    "        # open file\n",
    "        file = tarfile.open(f'MSCallGraph_{i}.tar.gz')\n",
    "\n",
    "        # extracting file\n",
    "        file.extractall('./')\n",
    "\n",
    "        file.close()\n",
    "        df = pd.read_csv(f'MSCallGraph_{i}.csv')\n",
    "        df=df.drop(['Unnamed: 0','timestamp','rpcid','interface',],axis=1)\n",
    "        df = df.replace('(?)', np.NaN)\n",
    "        df = df.replace('', np.NaN)\n",
    "        df = df.replace('NAN', np.NaN)\n",
    "        df = df.dropna()\n",
    "        df['io'] = np.NaN\n",
    "#         display(df)\n",
    "        df.loc[df['rt']>0, 'io']='out'\n",
    "        df.loc[df['rt']<0, 'io']='in'\n",
    "        df = df.dropna()\n",
    "        df['rpctype'] = df['rpctype'] + '_' + df['io']\n",
    "        df=df.drop(['io','rt'],axis=1)\n",
    "        df = df.drop_duplicates()\n",
    "#         print(df.nunique())\n",
    "#         display(df)\n",
    "\n",
    "\n",
    "        df.to_csv(f'MSCallGraph_{i}_io.csv',index=True)\n",
    "\n",
    "        os.remove(f'MSCallGraph_{i}.csv')\n",
    "        \n",
    "        filename = f'MSCallGraph_{i}_io.csv'\n",
    "        zipfilename = f'MSCallGraph_{i}_io.zip'\n",
    "\n",
    "        # Create a ZipFile object and add the file to it\n",
    "        with zipfile.ZipFile(zipfilename, 'w', compresslevel=9, compression=zipfile.ZIP_LZMA) as zip:\n",
    "            zip.write(filename)\n",
    "        \n",
    "        os.remove(f'MSCallGraph_{i}_io.csv')\n",
    "        progress_bar.update(1)"
   ]
  },
  {
   "cell_type": "code",
   "execution_count": null,
   "id": "8963d5d7",
   "metadata": {
    "pycharm": {
     "name": "#%%\n"
    }
   },
   "outputs": [],
   "source": []
  },
  {
   "cell_type": "code",
   "execution_count": null,
   "id": "a4a35baa",
   "metadata": {
    "pycharm": {
     "name": "#%%\n"
    }
   },
   "outputs": [],
   "source": []
  }
 ],
 "metadata": {
  "kernelspec": {
   "display_name": "Python 3 (ipykernel)",
   "language": "python",
   "name": "python3"
  },
  "language_info": {
   "codemirror_mode": {
    "name": "ipython",
    "version": 3
   },
   "file_extension": ".py",
   "mimetype": "text/x-python",
   "name": "python",
   "nbconvert_exporter": "python",
   "pygments_lexer": "ipython3",
   "version": "3.9.16"
  }
 },
 "nbformat": 4,
 "nbformat_minor": 5
}