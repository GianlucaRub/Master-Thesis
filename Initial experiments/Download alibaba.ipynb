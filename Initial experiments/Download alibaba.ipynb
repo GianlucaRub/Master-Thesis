{
 "nbformat": 4,
 "nbformat_minor": 0,
 "metadata": {
  "colab": {
   "provenance": [],
   "authorship_tag": "ABX9TyNERwCd9WpjQNIePIgxuLam"
  },
  "kernelspec": {
   "name": "python3",
   "display_name": "Python 3"
  },
  "language_info": {
   "name": "python"
  }
 },
 "cells": [
  {
   "cell_type": "code",
   "execution_count": null,
   "metadata": {
    "colab": {
     "base_uri": "https://localhost:8080/"
    },
    "id": "XDVJdEfO0PVK",
    "executionInfo": {
     "status": "ok",
     "timestamp": 1677315926743,
     "user_tz": -60,
     "elapsed": 4133,
     "user": {
      "displayName": "Gianluca",
      "userId": "17762067498104148913"
     }
    },
    "outputId": "44f58fc9-585d-478d-db7f-43b9fd00e7bd",
    "pycharm": {
     "name": "#%%\n"
    }
   },
   "outputs": [
    {
     "output_type": "stream",
     "name": "stdout",
     "text": [
      "Cloning into 'clusterdata'...\n",
      "remote: Enumerating objects: 426, done.\u001B[K\n",
      "remote: Counting objects: 100% (100/100), done.\u001B[K\n",
      "remote: Compressing objects: 100% (54/54), done.\u001B[K\n",
      "remote: Total 426 (delta 73), reused 48 (delta 46), pack-reused 326\u001B[K\n",
      "Receiving objects: 100% (426/426), 22.79 MiB | 12.02 MiB/s, done.\n",
      "Resolving deltas: 100% (188/188), done.\n",
      "Downloading cluster-trace-gpu-v2020/data/pai_group_tag_table.tar.gz (55 MB)\n",
      "Error downloading object: cluster-trace-gpu-v2020/data/pai_group_tag_table.tar.gz (722fef3): Smudge error: Error downloading cluster-trace-gpu-v2020/data/pai_group_tag_table.tar.gz (722fef30b7fb7aa50dabd79155614b5423a9d65cf45a9b26c590d57725423a14): batch response: This repository is over its data quota. Account responsible for LFS bandwidth should purchase more data packs to restore access.\n",
      "\n",
      "Errors logged to /content/clusterdata/.git/lfs/logs/20230225T090526.927038388.log\n",
      "Use `git lfs logs last` to view the log.\n",
      "error: external filter 'git-lfs filter-process' failed\n",
      "fatal: cluster-trace-gpu-v2020/data/pai_group_tag_table.tar.gz: smudge filter lfs failed\n",
      "warning: Clone succeeded, but checkout failed.\n",
      "You can inspect what was checked out with 'git status'\n",
      "and retry with 'git restore --source=HEAD :/'\n",
      "\n"
     ]
    }
   ],
   "source": [
    "!git clone https://github.com/alibaba/clusterdata"
   ]
  },
  {
   "cell_type": "code",
   "source": [
    "!ls"
   ],
   "metadata": {
    "colab": {
     "base_uri": "https://localhost:8080/"
    },
    "id": "LTiz-Kru0XdB",
    "executionInfo": {
     "status": "ok",
     "timestamp": 1677315941644,
     "user_tz": -60,
     "elapsed": 9,
     "user": {
      "displayName": "Gianluca",
      "userId": "17762067498104148913"
     }
    },
    "outputId": "e84ffe96-2077-4d0a-d3ef-946df4f4e490",
    "pycharm": {
     "name": "#%%\n"
    }
   },
   "execution_count": null,
   "outputs": [
    {
     "output_type": "stream",
     "name": "stdout",
     "text": [
      "clusterdata  sample_data\n"
     ]
    }
   ]
  },
  {
   "cell_type": "code",
   "source": [
    "!ls clusterdata"
   ],
   "metadata": {
    "colab": {
     "base_uri": "https://localhost:8080/"
    },
    "id": "RmgyscgU0sel",
    "executionInfo": {
     "status": "ok",
     "timestamp": 1677316067394,
     "user_tz": -60,
     "elapsed": 8,
     "user": {
      "displayName": "Gianluca",
      "userId": "17762067498104148913"
     }
    },
    "outputId": "8da77b14-782a-4299-e581-c2cb98d7d17d",
    "pycharm": {
     "name": "#%%\n"
    }
   },
   "execution_count": null,
   "outputs": [
    {
     "output_type": "stream",
     "name": "stdout",
     "text": [
      "cluster-trace-gpu-v2020\t\t       cluster-trace-v2017\n",
      "cluster-trace-microarchitecture-v2022  cluster-trace-v2018\n",
      "cluster-trace-microservices-v2021      README.md\n",
      "cluster-trace-microservices-v2022\n"
     ]
    }
   ]
  },
  {
   "cell_type": "code",
   "source": [
    "!ls clusterdata/cluster-trace-microservices-v2021"
   ],
   "metadata": {
    "colab": {
     "base_uri": "https://localhost:8080/"
    },
    "id": "r695ZyUH0tTg",
    "executionInfo": {
     "status": "ok",
     "timestamp": 1677316083474,
     "user_tz": -60,
     "elapsed": 527,
     "user": {
      "displayName": "Gianluca",
      "userId": "17762067498104148913"
     }
    },
    "outputId": "ea2b8dbf-087b-4bcd-ef63-10bc4bfd27e5",
    "pycharm": {
     "name": "#%%\n"
    }
   },
   "execution_count": null,
   "outputs": [
    {
     "output_type": "stream",
     "name": "stdout",
     "text": [
      "fetchData.sh  figures  README.md\n"
     ]
    }
   ]
  },
  {
   "cell_type": "code",
   "source": [
    "!bash clusterdata/cluster-trace-microservices-v2021/fetchData.sh"
   ],
   "metadata": {
    "colab": {
     "base_uri": "https://localhost:8080/"
    },
    "id": "rpXXhSC71EgF",
    "executionInfo": {
     "status": "ok",
     "timestamp": 1677324465868,
     "user_tz": -60,
     "elapsed": 8348408,
     "user": {
      "displayName": "Gianluca",
      "userId": "17762067498104148913"
     }
    },
    "outputId": "261492bf-8ab1-4f3b-baa6-26dd6e2d3cd9",
    "pycharm": {
     "name": "#%%\n"
    }
   },
   "execution_count": null,
   "outputs": [
    {
     "output_type": "stream",
     "name": "stdout",
     "text": [
      "  % Total    % Received % Xferd  Average Speed   Time    Time     Time  Current\n",
      "                                 Dload  Upload   Total   Spent    Left  Speed\n",
      "100 1098M  100 1098M    0     0  8503k      0  0:02:12  0:02:12 --:--:-- 8723k\n",
      "  % Total    % Received % Xferd  Average Speed   Time    Time     Time  Current\n",
      "                                 Dload  Upload   Total   Spent    Left  Speed\n",
      "100  807M  100  807M    0     0  13.7M      0  0:00:58  0:00:58 --:--:-- 13.8M\n",
      "  % Total    % Received % Xferd  Average Speed   Time    Time     Time  Current\n",
      "                                 Dload  Upload   Total   Spent    Left  Speed\n",
      "100  806M  100  806M    0     0  13.3M      0  0:01:00  0:01:00 --:--:-- 14.6M\n",
      "  % Total    % Received % Xferd  Average Speed   Time    Time     Time  Current\n",
      "                                 Dload  Upload   Total   Spent    Left  Speed\n",
      "100  801M  100  801M    0     0  8073k      0  0:01:41  0:01:41 --:--:-- 8053k\n",
      "  % Total    % Received % Xferd  Average Speed   Time    Time     Time  Current\n",
      "                                 Dload  Upload   Total   Spent    Left  Speed\n",
      "100  807M  100  807M    0     0  14.3M      0  0:00:56  0:00:56 --:--:-- 15.2M\n",
      "  % Total    % Received % Xferd  Average Speed   Time    Time     Time  Current\n",
      "                                 Dload  Upload   Total   Spent    Left  Speed\n",
      "100  818M  100  818M    0     0  13.3M      0  0:01:01  0:01:01 --:--:-- 14.1M\n",
      "  % Total    % Received % Xferd  Average Speed   Time    Time     Time  Current\n",
      "                                 Dload  Upload   Total   Spent    Left  Speed\n",
      "100  801M  100  801M    0     0  14.0M      0  0:00:57  0:00:57 --:--:-- 13.8M\n",
      "  % Total    % Received % Xferd  Average Speed   Time    Time     Time  Current\n",
      "                                 Dload  Upload   Total   Spent    Left  Speed\n",
      "100  810M  100  810M    0     0  13.3M      0  0:01:00  0:01:00 --:--:-- 14.2M\n",
      "  % Total    % Received % Xferd  Average Speed   Time    Time     Time  Current\n",
      "                                 Dload  Upload   Total   Spent    Left  Speed\n",
      "100  800M  100  800M    0     0  8665k      0  0:01:34  0:01:34 --:--:-- 8909k\n",
      "  % Total    % Received % Xferd  Average Speed   Time    Time     Time  Current\n",
      "                                 Dload  Upload   Total   Spent    Left  Speed\n",
      "100  824M  100  824M    0     0  13.0M      0  0:01:02  0:01:02 --:--:-- 13.6M\n",
      "  % Total    % Received % Xferd  Average Speed   Time    Time     Time  Current\n",
      "                                 Dload  Upload   Total   Spent    Left  Speed\n",
      "100  795M  100  795M    0     0  13.3M      0  0:00:59  0:00:59 --:--:-- 14.0M\n",
      "  % Total    % Received % Xferd  Average Speed   Time    Time     Time  Current\n",
      "                                 Dload  Upload   Total   Spent    Left  Speed\n",
      "100  807M  100  807M    0     0  13.3M      0  0:01:00  0:01:00 --:--:-- 14.4M\n",
      "  % Total    % Received % Xferd  Average Speed   Time    Time     Time  Current\n",
      "                                 Dload  Upload   Total   Spent    Left  Speed\n",
      "100  813M  100  813M    0     0  14.1M      0  0:00:57  0:00:57 --:--:-- 14.2M\n",
      "  % Total    % Received % Xferd  Average Speed   Time    Time     Time  Current\n",
      "                                 Dload  Upload   Total   Spent    Left  Speed\n",
      "100  825M  100  825M    0     0  14.1M      0  0:00:58  0:00:58 --:--:-- 13.8M\n",
      "  % Total    % Received % Xferd  Average Speed   Time    Time     Time  Current\n",
      "                                 Dload  Upload   Total   Spent    Left  Speed\n",
      "100  813M  100  813M    0     0  13.9M      0  0:00:58  0:00:58 --:--:-- 14.7M\n",
      "  % Total    % Received % Xferd  Average Speed   Time    Time     Time  Current\n",
      "                                 Dload  Upload   Total   Spent    Left  Speed\n",
      "100  796M  100  796M    0     0  8691k      0  0:01:33  0:01:33 --:--:-- 8993k\n",
      "  % Total    % Received % Xferd  Average Speed   Time    Time     Time  Current\n",
      "                                 Dload  Upload   Total   Spent    Left  Speed\n",
      "100  796M  100  796M    0     0  14.0M      0  0:00:56  0:00:56 --:--:-- 14.5M\n",
      "  % Total    % Received % Xferd  Average Speed   Time    Time     Time  Current\n",
      "                                 Dload  Upload   Total   Spent    Left  Speed\n",
      "100  794M  100  794M    0     0  14.2M      0  0:00:55  0:00:55 --:--:-- 14.8M\n",
      "  % Total    % Received % Xferd  Average Speed   Time    Time     Time  Current\n",
      "                                 Dload  Upload   Total   Spent    Left  Speed\n",
      " 15  795M   15  122M    0     0   495k      0  0:27:25  0:04:14  0:23:11 21786\n",
      "curl: (18) transfer closed with 705348602 bytes remaining to read\n",
      "  % Total    % Received % Xferd  Average Speed   Time    Time     Time  Current\n",
      "                                 Dload  Upload   Total   Spent    Left  Speed\n",
      "100  819M  100  819M    0     0  8277k      0  0:01:41  0:01:41 --:--:-- 6911k\n",
      "  % Total    % Received % Xferd  Average Speed   Time    Time     Time  Current\n",
      "                                 Dload  Upload   Total   Spent    Left  Speed\n",
      "100  800M  100  800M    0     0  13.8M      0  0:00:57  0:00:57 --:--:-- 13.0M\n",
      "  % Total    % Received % Xferd  Average Speed   Time    Time     Time  Current\n",
      "                                 Dload  Upload   Total   Spent    Left  Speed\n",
      "100  792M  100  792M    0     0  12.8M      0  0:01:01  0:01:01 --:--:-- 13.4M\n",
      "  % Total    % Received % Xferd  Average Speed   Time    Time     Time  Current\n",
      "                                 Dload  Upload   Total   Spent    Left  Speed\n",
      "100  801M  100  801M    0     0  13.1M      0  0:01:00  0:01:00 --:--:-- 13.4M\n",
      "  % Total    % Received % Xferd  Average Speed   Time    Time     Time  Current\n",
      "                                 Dload  Upload   Total   Spent    Left  Speed\n",
      "100  790M  100  790M    0     0  14.0M      0  0:00:56  0:00:56 --:--:-- 13.9M\n",
      "  % Total    % Received % Xferd  Average Speed   Time    Time     Time  Current\n",
      "                                 Dload  Upload   Total   Spent    Left  Speed\n",
      "100  792M  100  792M    0     0  12.8M      0  0:01:01  0:01:01 --:--:-- 12.7M\n",
      "  % Total    % Received % Xferd  Average Speed   Time    Time     Time  Current\n",
      "                                 Dload  Upload   Total   Spent    Left  Speed\n",
      "100 31.8M  100 31.8M    0     0  11.9M      0  0:00:02  0:00:02 --:--:-- 11.9M\n",
      "  % Total    % Received % Xferd  Average Speed   Time    Time     Time  Current\n",
      "                                 Dload  Upload   Total   Spent    Left  Speed\n",
      "100  154M  100  154M    0     0  13.6M      0  0:00:11  0:00:11 --:--:-- 14.4M\n",
      "  % Total    % Received % Xferd  Average Speed   Time    Time     Time  Current\n",
      "                                 Dload  Upload   Total   Spent    Left  Speed\n",
      "100  162M  100  162M    0     0  8081k      0  0:00:20  0:00:20 --:--:-- 13.0M\n",
      "  % Total    % Received % Xferd  Average Speed   Time    Time     Time  Current\n",
      "                                 Dload  Upload   Total   Spent    Left  Speed\n",
      "100  166M  100  166M    0     0  9205k      0  0:00:18  0:00:18 --:--:-- 9407k\n",
      "  % Total    % Received % Xferd  Average Speed   Time    Time     Time  Current\n",
      "                                 Dload  Upload   Total   Spent    Left  Speed\n",
      "100  159M  100  159M    0     0  13.0M      0  0:00:12  0:00:12 --:--:-- 13.1M\n",
      "  % Total    % Received % Xferd  Average Speed   Time    Time     Time  Current\n",
      "                                 Dload  Upload   Total   Spent    Left  Speed\n",
      "100  161M  100  161M    0     0  11.8M      0  0:00:13  0:00:13 --:--:-- 13.4M\n",
      "  % Total    % Received % Xferd  Average Speed   Time    Time     Time  Current\n",
      "                                 Dload  Upload   Total   Spent    Left  Speed\n",
      "100  166M  100  166M    0     0  13.1M      0  0:00:12  0:00:12 --:--:-- 13.3M\n",
      "  % Total    % Received % Xferd  Average Speed   Time    Time     Time  Current\n",
      "                                 Dload  Upload   Total   Spent    Left  Speed\n",
      "100  165M  100  165M    0     0  13.4M      0  0:00:12  0:00:12 --:--:-- 14.0M\n",
      "  % Total    % Received % Xferd  Average Speed   Time    Time     Time  Current\n",
      "                                 Dload  Upload   Total   Spent    Left  Speed\n",
      "  3  164M    3 5425k    0     0  29131      0  1:38:53  0:03:10  1:35:43  138k\n",
      "curl: (18) transfer closed with 167288754 bytes remaining to read\n",
      "  % Total    % Received % Xferd  Average Speed   Time    Time     Time  Current\n",
      "                                 Dload  Upload   Total   Spent    Left  Speed\n",
      "100  169M  100  169M    0     0  12.6M      0  0:00:13  0:00:13 --:--:-- 13.7M\n",
      "  % Total    % Received % Xferd  Average Speed   Time    Time     Time  Current\n",
      "                                 Dload  Upload   Total   Spent    Left  Speed\n",
      "100  168M  100  168M    0     0  13.5M      0  0:00:12  0:00:12 --:--:-- 14.1M\n",
      "  % Total    % Received % Xferd  Average Speed   Time    Time     Time  Current\n",
      "                                 Dload  Upload   Total   Spent    Left  Speed\n",
      "100  170M  100  170M    0     0  13.4M      0  0:00:12  0:00:12 --:--:-- 14.0M\n",
      "  % Total    % Received % Xferd  Average Speed   Time    Time     Time  Current\n",
      "                                 Dload  Upload   Total   Spent    Left  Speed\n",
      "100  176M  100  176M    0     0  10.8M      0  0:00:16  0:00:16 --:--:-- 15.0M\n",
      "  % Total    % Received % Xferd  Average Speed   Time    Time     Time  Current\n",
      "                                 Dload  Upload   Total   Spent    Left  Speed\n",
      "100  160M  100  160M    0     0  8557k      0  0:00:19  0:00:19 --:--:-- 8833k\n",
      "  % Total    % Received % Xferd  Average Speed   Time    Time     Time  Current\n",
      "                                 Dload  Upload   Total   Spent    Left  Speed\n",
      "100  159M  100  159M    0     0  8194k      0  0:00:19  0:00:19 --:--:-- 8713k\n",
      "  % Total    % Received % Xferd  Average Speed   Time    Time     Time  Current\n",
      "                                 Dload  Upload   Total   Spent    Left  Speed\n",
      "100  163M  100  163M    0     0  14.6M      0  0:00:11  0:00:11 --:--:-- 14.0M\n",
      "  % Total    % Received % Xferd  Average Speed   Time    Time     Time  Current\n",
      "                                 Dload  Upload   Total   Spent    Left  Speed\n",
      "100  158M  100  158M    0     0  13.4M      0  0:00:11  0:00:11 --:--:-- 14.1M\n",
      "  % Total    % Received % Xferd  Average Speed   Time    Time     Time  Current\n",
      "                                 Dload  Upload   Total   Spent    Left  Speed\n",
      "100  163M  100  163M    0     0  12.3M      0  0:00:13  0:00:13 --:--:-- 14.3M\n",
      "  % Total    % Received % Xferd  Average Speed   Time    Time     Time  Current\n",
      "                                 Dload  Upload   Total   Spent    Left  Speed\n",
      "100  168M  100  168M    0     0  13.4M      0  0:00:12  0:00:12 --:--:-- 14.6M\n",
      "  % Total    % Received % Xferd  Average Speed   Time    Time     Time  Current\n",
      "                                 Dload  Upload   Total   Spent    Left  Speed\n",
      "100  161M  100  161M    0     0  12.6M      0  0:00:12  0:00:12 --:--:-- 14.2M\n",
      "  % Total    % Received % Xferd  Average Speed   Time    Time     Time  Current\n",
      "                                 Dload  Upload   Total   Spent    Left  Speed\n",
      "100  159M  100  159M    0     0  9067k      0  0:00:17  0:00:17 --:--:-- 9414k\n",
      "  % Total    % Received % Xferd  Average Speed   Time    Time     Time  Current\n",
      "                                 Dload  Upload   Total   Spent    Left  Speed\n",
      "100  167M  100  167M    0     0  12.6M      0  0:00:13  0:00:13 --:--:-- 12.8M\n",
      "  % Total    % Received % Xferd  Average Speed   Time    Time     Time  Current\n",
      "                                 Dload  Upload   Total   Spent    Left  Speed\n",
      "100  153M  100  153M    0     0  8086k      0  0:00:19  0:00:19 --:--:-- 12.3M\n",
      "  % Total    % Received % Xferd  Average Speed   Time    Time     Time  Current\n",
      "                                 Dload  Upload   Total   Spent    Left  Speed\n",
      "100  155M  100  155M    0     0  12.0M      0  0:00:12  0:00:12 --:--:-- 13.3M\n",
      "  % Total    % Received % Xferd  Average Speed   Time    Time     Time  Current\n",
      "                                 Dload  Upload   Total   Spent    Left  Speed\n",
      " 31  169M   31 52.8M    0     0   171k      0  0:16:50  0:05:15  0:11:35 32731\n",
      "curl: (18) transfer closed with 121896315 bytes remaining to read\n",
      "  % Total    % Received % Xferd  Average Speed   Time    Time     Time  Current\n",
      "                                 Dload  Upload   Total   Spent    Left  Speed\n",
      "100  155M  100  155M    0     0  12.6M      0  0:00:12  0:00:12 --:--:-- 13.5M\n",
      "  % Total    % Received % Xferd  Average Speed   Time    Time     Time  Current\n",
      "                                 Dload  Upload   Total   Spent    Left  Speed\n",
      "100  155M  100  155M    0     0  12.6M      0  0:00:12  0:00:12 --:--:-- 12.0M\n",
      "  % Total    % Received % Xferd  Average Speed   Time    Time     Time  Current\n",
      "                                 Dload  Upload   Total   Spent    Left  Speed\n",
      "100  167M  100  167M    0     0  7717k      0  0:00:22  0:00:22 --:--:-- 8036k\n",
      "  % Total    % Received % Xferd  Average Speed   Time    Time     Time  Current\n",
      "                                 Dload  Upload   Total   Spent    Left  Speed\n",
      "100  170M  100  170M    0     0  8237k      0  0:00:21  0:00:21 --:--:-- 8645k\n",
      "  % Total    % Received % Xferd  Average Speed   Time    Time     Time  Current\n",
      "                                 Dload  Upload   Total   Spent    Left  Speed\n",
      "100  173M  100  173M    0     0  13.6M      0  0:00:12  0:00:12 --:--:-- 14.3M\n",
      "  % Total    % Received % Xferd  Average Speed   Time    Time     Time  Current\n",
      "                                 Dload  Upload   Total   Spent    Left  Speed\n",
      "100  177M  100  177M    0     0  13.4M      0  0:00:13  0:00:13 --:--:-- 12.9M\n",
      "  % Total    % Received % Xferd  Average Speed   Time    Time     Time  Current\n",
      "                                 Dload  Upload   Total   Spent    Left  Speed\n",
      "100  169M  100  169M    0     0  12.6M      0  0:00:13  0:00:13 --:--:-- 13.4M\n",
      "  % Total    % Received % Xferd  Average Speed   Time    Time     Time  Current\n",
      "                                 Dload  Upload   Total   Spent    Left  Speed\n",
      "100  168M  100  168M    0     0  13.2M      0  0:00:12  0:00:12 --:--:-- 14.1M\n",
      "  % Total    % Received % Xferd  Average Speed   Time    Time     Time  Current\n",
      "                                 Dload  Upload   Total   Spent    Left  Speed\n",
      "100  174M  100  174M    0     0  13.4M      0  0:00:12  0:00:12 --:--:-- 13.4M\n",
      "  % Total    % Received % Xferd  Average Speed   Time    Time     Time  Current\n",
      "                                 Dload  Upload   Total   Spent    Left  Speed\n",
      "100  161M  100  161M    0     0  8177k      0  0:00:20  0:00:20 --:--:-- 8489k\n",
      "  % Total    % Received % Xferd  Average Speed   Time    Time     Time  Current\n",
      "                                 Dload  Upload   Total   Spent    Left  Speed\n",
      "100  161M  100  161M    0     0  7760k      0  0:00:21  0:00:21 --:--:-- 8046k\n",
      "  % Total    % Received % Xferd  Average Speed   Time    Time     Time  Current\n",
      "                                 Dload  Upload   Total   Spent    Left  Speed\n",
      "100  169M  100  169M    0     0  13.9M      0  0:00:12  0:00:12 --:--:-- 14.6M\n",
      "  % Total    % Received % Xferd  Average Speed   Time    Time     Time  Current\n",
      "                                 Dload  Upload   Total   Spent    Left  Speed\n",
      "100  164M  100  164M    0     0  8125k      0  0:00:20  0:00:20 --:--:-- 8752k\n",
      "  % Total    % Received % Xferd  Average Speed   Time    Time     Time  Current\n",
      "                                 Dload  Upload   Total   Spent    Left  Speed\n",
      "100  165M  100  165M    0     0  11.4M      0  0:00:14  0:00:14 --:--:-- 12.5M\n",
      "  % Total    % Received % Xferd  Average Speed   Time    Time     Time  Current\n",
      "                                 Dload  Upload   Total   Spent    Left  Speed\n",
      "100  170M  100  170M    0     0  10.8M      0  0:00:15  0:00:15 --:--:-- 13.4M\n",
      "  % Total    % Received % Xferd  Average Speed   Time    Time     Time  Current\n",
      "                                 Dload  Upload   Total   Spent    Left  Speed\n",
      " 86  171M   86  147M    0     0  1375k      0  0:02:07  0:01:50  0:00:17  105k\n",
      "curl: (18) transfer closed with 24975269 bytes remaining to read\n",
      "  % Total    % Received % Xferd  Average Speed   Time    Time     Time  Current\n",
      "                                 Dload  Upload   Total   Spent    Left  Speed\n",
      "100  175M  100  175M    0     0  13.3M      0  0:00:13  0:00:13 --:--:-- 14.1M\n",
      "  % Total    % Received % Xferd  Average Speed   Time    Time     Time  Current\n",
      "                                 Dload  Upload   Total   Spent    Left  Speed\n",
      "100  181M  100  181M    0     0  8797k      0  0:00:21  0:00:21 --:--:-- 9094k\n",
      "  % Total    % Received % Xferd  Average Speed   Time    Time     Time  Current\n",
      "                                 Dload  Upload   Total   Spent    Left  Speed\n",
      "100  169M  100  169M    0     0  5957k      0  0:00:29  0:00:29 --:--:-- 7762k\n",
      "  % Total    % Received % Xferd  Average Speed   Time    Time     Time  Current\n",
      "                                 Dload  Upload   Total   Spent    Left  Speed\n",
      "100  181M  100  181M    0     0  13.1M      0  0:00:13  0:00:13 --:--:-- 14.1M\n",
      "  % Total    % Received % Xferd  Average Speed   Time    Time     Time  Current\n",
      "                                 Dload  Upload   Total   Spent    Left  Speed\n",
      "100  188M  100  188M    0     0  12.5M      0  0:00:15  0:00:15 --:--:-- 13.6M\n",
      "  % Total    % Received % Xferd  Average Speed   Time    Time     Time  Current\n",
      "                                 Dload  Upload   Total   Spent    Left  Speed\n",
      "100  172M  100  172M    0     0  12.8M      0  0:00:13  0:00:13 --:--:-- 13.4M\n",
      "  % Total    % Received % Xferd  Average Speed   Time    Time     Time  Current\n",
      "                                 Dload  Upload   Total   Spent    Left  Speed\n",
      "100  174M  100  174M    0     0  8601k      0  0:00:20  0:00:20 --:--:-- 9176k\n",
      "  % Total    % Received % Xferd  Average Speed   Time    Time     Time  Current\n",
      "                                 Dload  Upload   Total   Spent    Left  Speed\n",
      "100  180M  100  180M    0     0  13.7M      0  0:00:13  0:00:13 --:--:-- 15.0M\n",
      "  % Total    % Received % Xferd  Average Speed   Time    Time     Time  Current\n",
      "                                 Dload  Upload   Total   Spent    Left  Speed\n",
      "100  181M  100  181M    0     0  13.4M      0  0:00:13  0:00:13 --:--:-- 12.7M\n",
      "  % Total    % Received % Xferd  Average Speed   Time    Time     Time  Current\n",
      "                                 Dload  Upload   Total   Spent    Left  Speed\n",
      "100  174M  100  174M    0     0  8144k      0  0:00:21  0:00:21 --:--:-- 7345k\n",
      "  % Total    % Received % Xferd  Average Speed   Time    Time     Time  Current\n",
      "                                 Dload  Upload   Total   Spent    Left  Speed\n",
      " 26  178M   26 47.3M    0     0    97k      0  0:31:08  0:08:16  0:22:52 21104\n",
      "curl: (18) transfer closed with 137435690 bytes remaining to read\n",
      "  % Total    % Received % Xferd  Average Speed   Time    Time     Time  Current\n",
      "                                 Dload  Upload   Total   Spent    Left  Speed\n",
      "100  172M  100  172M    0     0  12.8M      0  0:00:13  0:00:13 --:--:-- 13.5M\n",
      "  % Total    % Received % Xferd  Average Speed   Time    Time     Time  Current\n",
      "                                 Dload  Upload   Total   Spent    Left  Speed\n",
      "100  175M  100  175M    0     0  8040k      0  0:00:22  0:00:22 --:--:-- 8413k\n",
      "  % Total    % Received % Xferd  Average Speed   Time    Time     Time  Current\n",
      "                                 Dload  Upload   Total   Spent    Left  Speed\n",
      "100  181M  100  181M    0     0  12.4M      0  0:00:14  0:00:14 --:--:-- 13.0M\n",
      "  % Total    % Received % Xferd  Average Speed   Time    Time     Time  Current\n",
      "                                 Dload  Upload   Total   Spent    Left  Speed\n",
      "100  166M  100  166M    0     0  11.8M      0  0:00:14  0:00:14 --:--:-- 12.2M\n",
      "  % Total    % Received % Xferd  Average Speed   Time    Time     Time  Current\n",
      "                                 Dload  Upload   Total   Spent    Left  Speed\n",
      "100  161M  100  161M    0     0  12.4M      0  0:00:12  0:00:12 --:--:-- 13.5M\n",
      "  % Total    % Received % Xferd  Average Speed   Time    Time     Time  Current\n",
      "                                 Dload  Upload   Total   Spent    Left  Speed\n",
      "100  170M  100  170M    0     0  11.6M      0  0:00:14  0:00:14 --:--:-- 13.4M\n",
      "  % Total    % Received % Xferd  Average Speed   Time    Time     Time  Current\n",
      "                                 Dload  Upload   Total   Spent    Left  Speed\n",
      "100  170M  100  170M    0     0  8750k      0  0:00:19  0:00:19 --:--:-- 9039k\n",
      "  % Total    % Received % Xferd  Average Speed   Time    Time     Time  Current\n",
      "                                 Dload  Upload   Total   Spent    Left  Speed\n",
      "100  167M  100  167M    0     0  7676k      0  0:00:22  0:00:22 --:--:-- 7183k\n",
      "  % Total    % Received % Xferd  Average Speed   Time    Time     Time  Current\n",
      "                                 Dload  Upload   Total   Spent    Left  Speed\n",
      "100  164M  100  164M    0     0  14.0M      0  0:00:11  0:00:11 --:--:-- 14.7M\n",
      "  % Total    % Received % Xferd  Average Speed   Time    Time     Time  Current\n",
      "                                 Dload  Upload   Total   Spent    Left  Speed\n",
      "100  162M  100  162M    0     0  12.4M      0  0:00:13  0:00:13 --:--:-- 13.1M\n",
      "  % Total    % Received % Xferd  Average Speed   Time    Time     Time  Current\n",
      "                                 Dload  Upload   Total   Spent    Left  Speed\n",
      "100  158M  100  158M    0     0  8462k      0  0:00:19  0:00:19 --:--:-- 14.5M\n",
      "  % Total    % Received % Xferd  Average Speed   Time    Time     Time  Current\n",
      "                                 Dload  Upload   Total   Spent    Left  Speed\n",
      "100  166M  100  166M    0     0  8156k      0  0:00:20  0:00:20 --:--:-- 8340k\n",
      "  % Total    % Received % Xferd  Average Speed   Time    Time     Time  Current\n",
      "                                 Dload  Upload   Total   Spent    Left  Speed\n",
      " 10  171M   10 18.0M    0     0   177k      0  0:16:27  0:01:43  0:14:44 26795\n",
      "curl: (18) transfer closed with 161024054 bytes remaining to read\n",
      "  % Total    % Received % Xferd  Average Speed   Time    Time     Time  Current\n",
      "                                 Dload  Upload   Total   Spent    Left  Speed\n",
      "100  175M  100  175M    0     0  13.0M      0  0:00:13  0:00:13 --:--:-- 12.7M\n",
      "  % Total    % Received % Xferd  Average Speed   Time    Time     Time  Current\n",
      "                                 Dload  Upload   Total   Spent    Left  Speed\n",
      "100  177M  100  177M    0     0  9981k      0  0:00:18  0:00:18 --:--:-- 12.8M\n",
      "  % Total    % Received % Xferd  Average Speed   Time    Time     Time  Current\n",
      "                                 Dload  Upload   Total   Spent    Left  Speed\n",
      "100  194M  100  194M    0     0  12.1M      0  0:00:15  0:00:15 --:--:-- 12.5M\n",
      "  % Total    % Received % Xferd  Average Speed   Time    Time     Time  Current\n",
      "                                 Dload  Upload   Total   Spent    Left  Speed\n",
      "100  192M  100  192M    0     0  7435k      0  0:00:26  0:00:26 --:--:-- 7674k\n",
      "  % Total    % Received % Xferd  Average Speed   Time    Time     Time  Current\n",
      "                                 Dload  Upload   Total   Spent    Left  Speed\n",
      "100  203M  100  203M    0     0  12.2M      0  0:00:16  0:00:16 --:--:-- 13.3M\n",
      "  % Total    % Received % Xferd  Average Speed   Time    Time     Time  Current\n",
      "                                 Dload  Upload   Total   Spent    Left  Speed\n",
      "100  176M  100  176M    0     0  12.3M      0  0:00:14  0:00:14 --:--:-- 13.5M\n",
      "  % Total    % Received % Xferd  Average Speed   Time    Time     Time  Current\n",
      "                                 Dload  Upload   Total   Spent    Left  Speed\n",
      "100  185M  100  185M    0     0  12.5M      0  0:00:14  0:00:14 --:--:-- 13.6M\n",
      "  % Total    % Received % Xferd  Average Speed   Time    Time     Time  Current\n",
      "                                 Dload  Upload   Total   Spent    Left  Speed\n",
      " 13  187M   13 25.8M    0     0   298k      0  0:10:42  0:01:28  0:09:14  109k\n",
      "curl: (18) transfer closed with 169071612 bytes remaining to read\n",
      "  % Total    % Received % Xferd  Average Speed   Time    Time     Time  Current\n",
      "                                 Dload  Upload   Total   Spent    Left  Speed\n",
      "100  154M  100  154M    0     0  12.5M      0  0:00:12  0:00:12 --:--:-- 13.4M\n",
      "  % Total    % Received % Xferd  Average Speed   Time    Time     Time  Current\n",
      "                                 Dload  Upload   Total   Spent    Left  Speed\n",
      "  3  154M    3 5328k    0     0  37595      0  1:11:44  0:02:25  1:09:19  7272\n",
      "curl: (18) transfer closed with 156377617 bytes remaining to read\n",
      "  % Total    % Received % Xferd  Average Speed   Time    Time     Time  Current\n",
      "                                 Dload  Upload   Total   Spent    Left  Speed\n",
      "100  163M  100  163M    0     0  12.9M      0  0:00:12  0:00:12 --:--:-- 11.6M\n",
      "  % Total    % Received % Xferd  Average Speed   Time    Time     Time  Current\n",
      "                                 Dload  Upload   Total   Spent    Left  Speed\n",
      "100  167M  100  167M    0     0  12.7M      0  0:00:13  0:00:13 --:--:-- 13.0M\n",
      "  % Total    % Received % Xferd  Average Speed   Time    Time     Time  Current\n",
      "                                 Dload  Upload   Total   Spent    Left  Speed\n",
      "100  169M  100  169M    0     0  12.3M      0  0:00:13  0:00:13 --:--:-- 14.3M\n",
      "  % Total    % Received % Xferd  Average Speed   Time    Time     Time  Current\n",
      "                                 Dload  Upload   Total   Spent    Left  Speed\n",
      "100  178M  100  178M    0     0  14.0M      0  0:00:12  0:00:12 --:--:-- 15.8M\n",
      "  % Total    % Received % Xferd  Average Speed   Time    Time     Time  Current\n",
      "                                 Dload  Upload   Total   Spent    Left  Speed\n",
      "100  157M  100  157M    0     0  12.6M      0  0:00:12  0:00:12 --:--:-- 12.9M\n",
      "  % Total    % Received % Xferd  Average Speed   Time    Time     Time  Current\n",
      "                                 Dload  Upload   Total   Spent    Left  Speed\n",
      "100  180M  100  180M    0     0  13.3M      0  0:00:13  0:00:13 --:--:-- 14.3M\n",
      "  % Total    % Received % Xferd  Average Speed   Time    Time     Time  Current\n",
      "                                 Dload  Upload   Total   Spent    Left  Speed\n",
      "100  263M  100  263M    0     0  12.9M      0  0:00:20  0:00:20 --:--:-- 14.1M\n",
      "  % Total    % Received % Xferd  Average Speed   Time    Time     Time  Current\n",
      "                                 Dload  Upload   Total   Spent    Left  Speed\n",
      "100  258M  100  258M    0     0  12.3M      0  0:00:20  0:00:20 --:--:-- 13.5M\n",
      "  % Total    % Received % Xferd  Average Speed   Time    Time     Time  Current\n",
      "                                 Dload  Upload   Total   Spent    Left  Speed\n",
      "100  273M  100  273M    0     0  13.2M      0  0:00:20  0:00:20 --:--:-- 14.2M\n",
      "  % Total    % Received % Xferd  Average Speed   Time    Time     Time  Current\n",
      "                                 Dload  Upload   Total   Spent    Left  Speed\n",
      "100  283M  100  283M    0     0  12.5M      0  0:00:22  0:00:22 --:--:-- 11.1M\n",
      "  % Total    % Received % Xferd  Average Speed   Time    Time     Time  Current\n",
      "                                 Dload  Upload   Total   Spent    Left  Speed\n",
      "100  229M  100  229M    0     0  12.9M      0  0:00:17  0:00:17 --:--:-- 13.4M\n",
      "  % Total    % Received % Xferd  Average Speed   Time    Time     Time  Current\n",
      "                                 Dload  Upload   Total   Spent    Left  Speed\n",
      "100  163M  100  163M    0     0  8236k      0  0:00:20  0:00:20 --:--:-- 8209k\n",
      "  % Total    % Received % Xferd  Average Speed   Time    Time     Time  Current\n",
      "                                 Dload  Upload   Total   Spent    Left  Speed\n",
      "100  168M  100  168M    0     0  12.5M      0  0:00:13  0:00:13 --:--:-- 12.9M\n",
      "  % Total    % Received % Xferd  Average Speed   Time    Time     Time  Current\n",
      "                                 Dload  Upload   Total   Spent    Left  Speed\n",
      "100  158M  100  158M    0     0  12.7M      0  0:00:12  0:00:12 --:--:-- 13.1M\n",
      "  % Total    % Received % Xferd  Average Speed   Time    Time     Time  Current\n",
      "                                 Dload  Upload   Total   Spent    Left  Speed\n",
      "100  160M  100  160M    0     0  12.0M      0  0:00:13  0:00:13 --:--:-- 13.2M\n",
      "  % Total    % Received % Xferd  Average Speed   Time    Time     Time  Current\n",
      "                                 Dload  Upload   Total   Spent    Left  Speed\n",
      "100  166M  100  166M    0     0  11.7M      0  0:00:14  0:00:14 --:--:-- 13.2M\n",
      "  % Total    % Received % Xferd  Average Speed   Time    Time     Time  Current\n",
      "                                 Dload  Upload   Total   Spent    Left  Speed\n",
      "100  166M  100  166M    0     0  7671k      0  0:00:22  0:00:22 --:--:-- 7647k\n",
      "  % Total    % Received % Xferd  Average Speed   Time    Time     Time  Current\n",
      "                                 Dload  Upload   Total   Spent    Left  Speed\n",
      "100  164M  100  164M    0     0  12.0M      0  0:00:13  0:00:13 --:--:-- 14.5M\n",
      "  % Total    % Received % Xferd  Average Speed   Time    Time     Time  Current\n",
      "                                 Dload  Upload   Total   Spent    Left  Speed\n",
      "100  172M  100  172M    0     0  8326k      0  0:00:21  0:00:21 --:--:-- 8406k\n",
      "  % Total    % Received % Xferd  Average Speed   Time    Time     Time  Current\n",
      "                                 Dload  Upload   Total   Spent    Left  Speed\n",
      "100  154M  100  154M    0     0   223k      0  0:11:49  0:11:49 --:--:-- 7995k\n",
      "  % Total    % Received % Xferd  Average Speed   Time    Time     Time  Current\n",
      "                                 Dload  Upload   Total   Spent    Left  Speed\n",
      "100  155M  100  155M    0     0  7265k      0  0:00:21  0:00:21 --:--:-- 7514k\n",
      "  % Total    % Received % Xferd  Average Speed   Time    Time     Time  Current\n",
      "                                 Dload  Upload   Total   Spent    Left  Speed\n",
      "100  160M  100  160M    0     0  12.6M      0  0:00:12  0:00:12 --:--:-- 13.4M\n",
      "  % Total    % Received % Xferd  Average Speed   Time    Time     Time  Current\n",
      "                                 Dload  Upload   Total   Spent    Left  Speed\n",
      "100  160M  100  160M    0     0  12.4M      0  0:00:12  0:00:12 --:--:-- 12.6M\n",
      "  % Total    % Received % Xferd  Average Speed   Time    Time     Time  Current\n",
      "                                 Dload  Upload   Total   Spent    Left  Speed\n",
      "100  209M  100  209M    0     0  8244k      0  0:00:25  0:00:25 --:--:-- 8420k\n",
      "  % Total    % Received % Xferd  Average Speed   Time    Time     Time  Current\n",
      "                                 Dload  Upload   Total   Spent    Left  Speed\n",
      "100  284M  100  284M    0     0  12.8M      0  0:00:22  0:00:22 --:--:-- 13.5M\n",
      "  % Total    % Received % Xferd  Average Speed   Time    Time     Time  Current\n",
      "                                 Dload  Upload   Total   Spent    Left  Speed\n",
      "100  292M  100  292M    0     0  12.9M      0  0:00:22  0:00:22 --:--:-- 13.7M\n",
      "  % Total    % Received % Xferd  Average Speed   Time    Time     Time  Current\n",
      "                                 Dload  Upload   Total   Spent    Left  Speed\n",
      "100  286M  100  286M    0     0  10.9M      0  0:00:26  0:00:26 --:--:-- 10.0M\n",
      "  % Total    % Received % Xferd  Average Speed   Time    Time     Time  Current\n",
      "                                 Dload  Upload   Total   Spent    Left  Speed\n",
      "100  159M  100  159M    0     0  7025k      0  0:00:23  0:00:23 --:--:-- 7477k\n",
      "  % Total    % Received % Xferd  Average Speed   Time    Time     Time  Current\n",
      "                                 Dload  Upload   Total   Spent    Left  Speed\n",
      "100  153M  100  153M    0     0  12.7M      0  0:00:12  0:00:12 --:--:-- 14.3M\n",
      "  % Total    % Received % Xferd  Average Speed   Time    Time     Time  Current\n",
      "                                 Dload  Upload   Total   Spent    Left  Speed\n",
      "100  152M  100  152M    0     0  12.1M      0  0:00:12  0:00:12 --:--:-- 13.5M\n",
      "  % Total    % Received % Xferd  Average Speed   Time    Time     Time  Current\n",
      "                                 Dload  Upload   Total   Spent    Left  Speed\n",
      "100  161M  100  161M    0     0  12.1M      0  0:00:13  0:00:13 --:--:-- 14.2M\n",
      "  % Total    % Received % Xferd  Average Speed   Time    Time     Time  Current\n",
      "                                 Dload  Upload   Total   Spent    Left  Speed\n",
      "100  156M  100  156M    0     0  14.0M      0  0:00:11  0:00:11 --:--:-- 15.3M\n",
      "  % Total    % Received % Xferd  Average Speed   Time    Time     Time  Current\n",
      "                                 Dload  Upload   Total   Spent    Left  Speed\n",
      "100  160M  100  160M    0     0  8187k      0  0:00:20  0:00:20 --:--:-- 8487k\n",
      "  % Total    % Received % Xferd  Average Speed   Time    Time     Time  Current\n",
      "                                 Dload  Upload   Total   Spent    Left  Speed\n",
      " 28  165M   28 46.4M    0     0   243k      0  0:11:34  0:03:15  0:08:19     0\n",
      "curl: (56) Recv failure: Connection reset by peer\n",
      "  % Total    % Received % Xferd  Average Speed   Time    Time     Time  Current\n",
      "                                 Dload  Upload   Total   Spent    Left  Speed\n",
      "100  139M  100  139M    0     0  13.8M      0  0:00:10  0:00:10 --:--:-- 14.9M\n",
      "  % Total    % Received % Xferd  Average Speed   Time    Time     Time  Current\n",
      "                                 Dload  Upload   Total   Spent    Left  Speed\n",
      "100  184M  100  184M    0     0  8354k      0  0:00:22  0:00:22 --:--:-- 8556k\n",
      "  % Total    % Received % Xferd  Average Speed   Time    Time     Time  Current\n",
      "                                 Dload  Upload   Total   Spent    Left  Speed\n",
      "100  203M  100  203M    0     0  11.3M      0  0:00:17  0:00:17 --:--:-- 10.8M\n",
      "  % Total    % Received % Xferd  Average Speed   Time    Time     Time  Current\n",
      "                                 Dload  Upload   Total   Spent    Left  Speed\n",
      "100  170M  100  170M    0     0  11.3M      0  0:00:15  0:00:15 --:--:-- 11.8M\n",
      "  % Total    % Received % Xferd  Average Speed   Time    Time     Time  Current\n",
      "                                 Dload  Upload   Total   Spent    Left  Speed\n",
      "100  150M  100  150M    0     0  12.0M      0  0:00:12  0:00:12 --:--:-- 12.4M\n",
      "  % Total    % Received % Xferd  Average Speed   Time    Time     Time  Current\n",
      "                                 Dload  Upload   Total   Spent    Left  Speed\n",
      "100  154M  100  154M    0     0  13.2M      0  0:00:11  0:00:11 --:--:-- 14.4M\n",
      "  % Total    % Received % Xferd  Average Speed   Time    Time     Time  Current\n",
      "                                 Dload  Upload   Total   Spent    Left  Speed\n",
      "100  140M  100  140M    0     0  12.2M      0  0:00:11  0:00:11 --:--:-- 13.7M\n",
      "  % Total    % Received % Xferd  Average Speed   Time    Time     Time  Current\n",
      "                                 Dload  Upload   Total   Spent    Left  Speed\n",
      "100  138M  100  138M    0     0  12.7M      0  0:00:10  0:00:10 --:--:-- 14.6M\n",
      "  % Total    % Received % Xferd  Average Speed   Time    Time     Time  Current\n",
      "                                 Dload  Upload   Total   Spent    Left  Speed\n",
      "100  146M  100  146M    0     0  12.6M      0  0:00:11  0:00:11 --:--:-- 13.1M\n",
      "  % Total    % Received % Xferd  Average Speed   Time    Time     Time  Current\n",
      "                                 Dload  Upload   Total   Spent    Left  Speed\n",
      "100  153M  100  153M    0     0  13.8M      0  0:00:11  0:00:11 --:--:-- 14.6M\n",
      "  % Total    % Received % Xferd  Average Speed   Time    Time     Time  Current\n",
      "                                 Dload  Upload   Total   Spent    Left  Speed\n",
      "100  154M  100  154M    0     0  12.3M      0  0:00:12  0:00:12 --:--:-- 13.2M\n",
      "  % Total    % Received % Xferd  Average Speed   Time    Time     Time  Current\n",
      "                                 Dload  Upload   Total   Spent    Left  Speed\n",
      "100  159M  100  159M    0     0  8792k      0  0:00:18  0:00:18 --:--:-- 8897k\n",
      "  % Total    % Received % Xferd  Average Speed   Time    Time     Time  Current\n",
      "                                 Dload  Upload   Total   Spent    Left  Speed\n",
      " 49  143M   49 71.2M    0     0   355k      0  0:06:53  0:03:25  0:03:28  162k\n",
      "curl: (18) transfer closed with 75911554 bytes remaining to read\n",
      "  % Total    % Received % Xferd  Average Speed   Time    Time     Time  Current\n",
      "                                 Dload  Upload   Total   Spent    Left  Speed\n",
      "100  147M  100  147M    0     0  13.2M      0  0:00:11  0:00:11 --:--:-- 13.5M\n",
      "  % Total    % Received % Xferd  Average Speed   Time    Time     Time  Current\n",
      "                                 Dload  Upload   Total   Spent    Left  Speed\n",
      "100  176M  100  176M    0     0  13.2M      0  0:00:13  0:00:13 --:--:-- 13.4M\n",
      "  % Total    % Received % Xferd  Average Speed   Time    Time     Time  Current\n",
      "                                 Dload  Upload   Total   Spent    Left  Speed\n",
      "100  162M  100  162M    0     0  12.9M      0  0:00:12  0:00:12 --:--:-- 14.5M\n",
      "  % Total    % Received % Xferd  Average Speed   Time    Time     Time  Current\n",
      "                                 Dload  Upload   Total   Spent    Left  Speed\n",
      "100  159M  100  159M    0     0  7962k      0  0:00:20  0:00:20 --:--:-- 8471k\n",
      "  % Total    % Received % Xferd  Average Speed   Time    Time     Time  Current\n",
      "                                 Dload  Upload   Total   Spent    Left  Speed\n",
      "100  208M  100  208M    0     0  8310k      0  0:00:25  0:00:25 --:--:-- 8424k\n",
      "  % Total    % Received % Xferd  Average Speed   Time    Time     Time  Current\n",
      "                                 Dload  Upload   Total   Spent    Left  Speed\n",
      "100  199M  100  199M    0     0  13.5M      0  0:00:14  0:00:14 --:--:-- 14.2M\n",
      "  % Total    % Received % Xferd  Average Speed   Time    Time     Time  Current\n",
      "                                 Dload  Upload   Total   Spent    Left  Speed\n",
      "100  201M  100  201M    0     0  12.9M      0  0:00:15  0:00:15 --:--:-- 13.3M\n",
      "  % Total    % Received % Xferd  Average Speed   Time    Time     Time  Current\n",
      "                                 Dload  Upload   Total   Spent    Left  Speed\n",
      "100  212M  100  212M    0     0  13.1M      0  0:00:16  0:00:16 --:--:-- 13.7M\n",
      "  % Total    % Received % Xferd  Average Speed   Time    Time     Time  Current\n",
      "                                 Dload  Upload   Total   Spent    Left  Speed\n",
      "100  190M  100  190M    0     0  12.8M      0  0:00:14  0:00:14 --:--:-- 12.9M\n",
      "  % Total    % Received % Xferd  Average Speed   Time    Time     Time  Current\n",
      "                                 Dload  Upload   Total   Spent    Left  Speed\n",
      "100  201M  100  201M    0     0  8536k      0  0:00:24  0:00:24 --:--:-- 8783k\n",
      "  % Total    % Received % Xferd  Average Speed   Time    Time     Time  Current\n",
      "                                 Dload  Upload   Total   Spent    Left  Speed\n",
      "100  200M  100  200M    0     0  7610k      0  0:00:26  0:00:26 --:--:-- 7748k\n",
      "  % Total    % Received % Xferd  Average Speed   Time    Time     Time  Current\n",
      "                                 Dload  Upload   Total   Spent    Left  Speed\n",
      "100  183M  100  183M    0     0  12.5M      0  0:00:14  0:00:14 --:--:-- 13.8M\n",
      "  % Total    % Received % Xferd  Average Speed   Time    Time     Time  Current\n",
      "                                 Dload  Upload   Total   Spent    Left  Speed\n",
      "100  171M  100  171M    0     0  12.3M      0  0:00:13  0:00:13 --:--:-- 12.4M\n",
      "  % Total    % Received % Xferd  Average Speed   Time    Time     Time  Current\n",
      "                                 Dload  Upload   Total   Spent    Left  Speed\n",
      "100  177M  100  177M    0     0  12.5M      0  0:00:14  0:00:14 --:--:-- 12.7M\n",
      "  % Total    % Received % Xferd  Average Speed   Time    Time     Time  Current\n",
      "                                 Dload  Upload   Total   Spent    Left  Speed\n",
      "100  165M  100  165M    0     0  11.5M      0  0:00:14  0:00:14 --:--:-- 13.0M\n",
      "  % Total    % Received % Xferd  Average Speed   Time    Time     Time  Current\n",
      "                                 Dload  Upload   Total   Spent    Left  Speed\n",
      "100  165M  100  165M    0     0  12.8M      0  0:00:12  0:00:12 --:--:-- 13.3M\n",
      "  % Total    % Received % Xferd  Average Speed   Time    Time     Time  Current\n",
      "                                 Dload  Upload   Total   Spent    Left  Speed\n",
      "100  174M  100  174M    0     0  7962k      0  0:00:22  0:00:22 --:--:-- 7943k\n",
      "  % Total    % Received % Xferd  Average Speed   Time    Time     Time  Current\n",
      "                                 Dload  Upload   Total   Spent    Left  Speed\n",
      "100  176M  100  176M    0     0  8129k      0  0:00:22  0:00:22 --:--:-- 8422k\n",
      "  % Total    % Received % Xferd  Average Speed   Time    Time     Time  Current\n",
      "                                 Dload  Upload   Total   Spent    Left  Speed\n",
      "100  176M  100  176M    0     0  14.9M      0  0:00:11  0:00:11 --:--:-- 15.8M\n",
      "  % Total    % Received % Xferd  Average Speed   Time    Time     Time  Current\n",
      "                                 Dload  Upload   Total   Spent    Left  Speed\n",
      " 57  183M   57  104M    0     0   522k      0  0:05:58  0:03:25  0:02:33 13900\n",
      "curl: (18) transfer closed with 82001380 bytes remaining to read\n",
      "  % Total    % Received % Xferd  Average Speed   Time    Time     Time  Current\n",
      "                                 Dload  Upload   Total   Spent    Left  Speed\n",
      "100  177M  100  177M    0     0  11.9M      0  0:00:14  0:00:14 --:--:-- 13.5M\n",
      "  % Total    % Received % Xferd  Average Speed   Time    Time     Time  Current\n",
      "                                 Dload  Upload   Total   Spent    Left  Speed\n",
      "100  179M  100  179M    0     0  12.1M      0  0:00:14  0:00:14 --:--:-- 13.0M\n",
      "  % Total    % Received % Xferd  Average Speed   Time    Time     Time  Current\n",
      "                                 Dload  Upload   Total   Spent    Left  Speed\n",
      "100  186M  100  186M    0     0  11.3M      0  0:00:16  0:00:16 --:--:-- 11.4M\n",
      "  % Total    % Received % Xferd  Average Speed   Time    Time     Time  Current\n",
      "                                 Dload  Upload   Total   Spent    Left  Speed\n",
      "100  1927  100  1927    0     0  10142      0 --:--:-- --:--:-- --:--:-- 10142\n",
      "  % Total    % Received % Xferd  Average Speed   Time    Time     Time  Current\n",
      "                                 Dload  Upload   Total   Spent    Left  Speed\n",
      "100 1359M  100 1359M    0     0  12.8M      0  0:01:45  0:01:45 --:--:-- 13.6M\n",
      "  % Total    % Received % Xferd  Average Speed   Time    Time     Time  Current\n",
      "                                 Dload  Upload   Total   Spent    Left  Speed\n",
      "100 1359M  100 1359M    0     0  12.1M      0  0:01:51  0:01:51 --:--:-- 12.4M\n",
      "  % Total    % Received % Xferd  Average Speed   Time    Time     Time  Current\n",
      "                                 Dload  Upload   Total   Spent    Left  Speed\n",
      "100 1360M  100 1360M    0     0  8489k      0  0:02:44  0:02:44 --:--:-- 12.4M\n",
      "  % Total    % Received % Xferd  Average Speed   Time    Time     Time  Current\n",
      "                                 Dload  Upload   Total   Spent    Left  Speed\n",
      "100 1361M  100 1361M    0     0  7265k      0  0:03:11  0:03:11 --:--:-- 7313k\n",
      "  % Total    % Received % Xferd  Average Speed   Time    Time     Time  Current\n",
      "                                 Dload  Upload   Total   Spent    Left  Speed\n",
      "100 1360M  100 1360M    0     0  12.7M      0  0:01:46  0:01:46 --:--:-- 12.5M\n",
      "  % Total    % Received % Xferd  Average Speed   Time    Time     Time  Current\n",
      "                                 Dload  Upload   Total   Spent    Left  Speed\n",
      "100 1360M  100 1360M    0     0  12.9M      0  0:01:45  0:01:45 --:--:-- 14.1M\n",
      "  % Total    % Received % Xferd  Average Speed   Time    Time     Time  Current\n",
      "                                 Dload  Upload   Total   Spent    Left  Speed\n",
      "100 1360M  100 1360M    0     0  14.1M      0  0:01:36  0:01:36 --:--:-- 13.4M\n",
      "  % Total    % Received % Xferd  Average Speed   Time    Time     Time  Current\n",
      "                                 Dload  Upload   Total   Spent    Left  Speed\n",
      "100 1359M  100 1359M    0     0  13.5M      0  0:01:40  0:01:40 --:--:-- 14.1M\n",
      "  % Total    % Received % Xferd  Average Speed   Time    Time     Time  Current\n",
      "                                 Dload  Upload   Total   Spent    Left  Speed\n",
      "100 1359M  100 1359M    0     0  13.8M      0  0:01:38  0:01:38 --:--:-- 12.0M\n",
      "  % Total    % Received % Xferd  Average Speed   Time    Time     Time  Current\n",
      "                                 Dload  Upload   Total   Spent    Left  Speed\n",
      "100 1357M  100 1357M    0     0  8756k      0  0:02:38  0:02:38 --:--:-- 9318k\n",
      "  % Total    % Received % Xferd  Average Speed   Time    Time     Time  Current\n",
      "                                 Dload  Upload   Total   Spent    Left  Speed\n",
      "100 1357M  100 1357M    0     0  7506k      0  0:03:05  0:03:05 --:--:-- 7373k\n",
      "  % Total    % Received % Xferd  Average Speed   Time    Time     Time  Current\n",
      "                                 Dload  Upload   Total   Spent    Left  Speed\n",
      "100 1356M  100 1356M    0     0  12.6M      0  0:01:47  0:01:47 --:--:-- 11.2M\n"
     ]
    }
   ]
  },
  {
   "cell_type": "code",
   "source": [
    "!ls"
   ],
   "metadata": {
    "colab": {
     "base_uri": "https://localhost:8080/"
    },
    "id": "5KmhXhDj1M-e",
    "executionInfo": {
     "status": "ok",
     "timestamp": 1677324467615,
     "user_tz": -60,
     "elapsed": 20,
     "user": {
      "displayName": "Gianluca",
      "userId": "17762067498104148913"
     }
    },
    "outputId": "c313fc92-7ade-43f0-a118-de8559df0f84",
    "pycharm": {
     "name": "#%%\n"
    }
   },
   "execution_count": null,
   "outputs": [
    {
     "output_type": "stream",
     "name": "stdout",
     "text": [
      "clusterdata  data  sample_data\n"
     ]
    }
   ]
  },
  {
   "cell_type": "code",
   "source": [
    "!ls data"
   ],
   "metadata": {
    "colab": {
     "base_uri": "https://localhost:8080/"
    },
    "id": "VG4a2Zg_1cGE",
    "executionInfo": {
     "status": "ok",
     "timestamp": 1677324467616,
     "user_tz": -60,
     "elapsed": 13,
     "user": {
      "displayName": "Gianluca",
      "userId": "17762067498104148913"
     }
    },
    "outputId": "e21e5e25-7a28-4113-ab9a-cce8c3fa44a9",
    "pycharm": {
     "name": "#%%\n"
    }
   },
   "execution_count": null,
   "outputs": [
    {
     "output_type": "stream",
     "name": "stdout",
     "text": [
      "MSCallGraph  MSResource  MSRTQps  Node\n"
     ]
    }
   ]
  },
  {
   "cell_type": "code",
   "source": [
    "!ls data/Node"
   ],
   "metadata": {
    "colab": {
     "base_uri": "https://localhost:8080/"
    },
    "id": "NFj8CR_M1cve",
    "executionInfo": {
     "status": "ok",
     "timestamp": 1677324485188,
     "user_tz": -60,
     "elapsed": 9,
     "user": {
      "displayName": "Gianluca",
      "userId": "17762067498104148913"
     }
    },
    "outputId": "e83791aa-21a5-47ef-b5e4-f169d24937de",
    "pycharm": {
     "name": "#%%\n"
    }
   },
   "execution_count": null,
   "outputs": [
    {
     "output_type": "stream",
     "name": "stdout",
     "text": [
      "Node.tar.gz\n"
     ]
    }
   ]
  },
  {
   "cell_type": "code",
   "source": [
    "!tar -xzf data/Node/Node.tar.gz"
   ],
   "metadata": {
    "id": "_S-Y2rB-1msJ",
    "pycharm": {
     "name": "#%%\n"
    }
   },
   "execution_count": null,
   "outputs": []
  },
  {
   "cell_type": "code",
   "source": [
    "!rm -d -r data/Node"
   ],
   "metadata": {
    "id": "Ygc3Et7AVpOa",
    "pycharm": {
     "name": "#%%\n"
    }
   },
   "execution_count": null,
   "outputs": []
  },
  {
   "cell_type": "code",
   "source": [
    "!mkdir Node"
   ],
   "metadata": {
    "id": "kT_rGb3kWbKX",
    "pycharm": {
     "name": "#%%\n"
    }
   },
   "execution_count": null,
   "outputs": []
  },
  {
   "cell_type": "code",
   "source": [
    "!mv Node_0.csv Node/Node_0.csv"
   ],
   "metadata": {
    "id": "8x9pc5vYWRf4",
    "pycharm": {
     "name": "#%%\n"
    }
   },
   "execution_count": null,
   "outputs": []
  },
  {
   "cell_type": "code",
   "source": [
    "!ls data/MSCallGraph"
   ],
   "metadata": {
    "colab": {
     "base_uri": "https://localhost:8080/"
    },
    "id": "NvJHw2xjVec6",
    "executionInfo": {
     "status": "ok",
     "timestamp": 1677324616068,
     "user_tz": -60,
     "elapsed": 11,
     "user": {
      "displayName": "Gianluca",
      "userId": "17762067498104148913"
     }
    },
    "outputId": "eae9a065-6217-444b-dac9-18eaa8dc9d08",
    "pycharm": {
     "name": "#%%\n"
    }
   },
   "execution_count": null,
   "outputs": [
    {
     "output_type": "stream",
     "name": "stdout",
     "text": [
      "MSCallGraph_0.tar.gz\tMSCallGraph_144.tar.gz\tMSCallGraph_58.tar.gz\n",
      "MSCallGraph_100.tar.gz\tMSCallGraph_14.tar.gz\tMSCallGraph_59.tar.gz\n",
      "MSCallGraph_101.tar.gz\tMSCallGraph_15.tar.gz\tMSCallGraph_5.tar.gz\n",
      "MSCallGraph_102.tar.gz\tMSCallGraph_16.tar.gz\tMSCallGraph_60.tar.gz\n",
      "MSCallGraph_103.tar.gz\tMSCallGraph_17.tar.gz\tMSCallGraph_61.tar.gz\n",
      "MSCallGraph_104.tar.gz\tMSCallGraph_18.tar.gz\tMSCallGraph_62.tar.gz\n",
      "MSCallGraph_105.tar.gz\tMSCallGraph_19.tar.gz\tMSCallGraph_63.tar.gz\n",
      "MSCallGraph_106.tar.gz\tMSCallGraph_1.tar.gz\tMSCallGraph_64.tar.gz\n",
      "MSCallGraph_107.tar.gz\tMSCallGraph_20.tar.gz\tMSCallGraph_65.tar.gz\n",
      "MSCallGraph_108.tar.gz\tMSCallGraph_21.tar.gz\tMSCallGraph_66.tar.gz\n",
      "MSCallGraph_109.tar.gz\tMSCallGraph_22.tar.gz\tMSCallGraph_67.tar.gz\n",
      "MSCallGraph_10.tar.gz\tMSCallGraph_23.tar.gz\tMSCallGraph_68.tar.gz\n",
      "MSCallGraph_110.tar.gz\tMSCallGraph_24.tar.gz\tMSCallGraph_69.tar.gz\n",
      "MSCallGraph_111.tar.gz\tMSCallGraph_25.tar.gz\tMSCallGraph_6.tar.gz\n",
      "MSCallGraph_112.tar.gz\tMSCallGraph_26.tar.gz\tMSCallGraph_70.tar.gz\n",
      "MSCallGraph_113.tar.gz\tMSCallGraph_27.tar.gz\tMSCallGraph_71.tar.gz\n",
      "MSCallGraph_114.tar.gz\tMSCallGraph_28.tar.gz\tMSCallGraph_72.tar.gz\n",
      "MSCallGraph_115.tar.gz\tMSCallGraph_29.tar.gz\tMSCallGraph_73.tar.gz\n",
      "MSCallGraph_116.tar.gz\tMSCallGraph_2.tar.gz\tMSCallGraph_74.tar.gz\n",
      "MSCallGraph_117.tar.gz\tMSCallGraph_30.tar.gz\tMSCallGraph_75.tar.gz\n",
      "MSCallGraph_118.tar.gz\tMSCallGraph_31.tar.gz\tMSCallGraph_76.tar.gz\n",
      "MSCallGraph_119.tar.gz\tMSCallGraph_32.tar.gz\tMSCallGraph_77.tar.gz\n",
      "MSCallGraph_11.tar.gz\tMSCallGraph_33.tar.gz\tMSCallGraph_78.tar.gz\n",
      "MSCallGraph_120.tar.gz\tMSCallGraph_34.tar.gz\tMSCallGraph_79.tar.gz\n",
      "MSCallGraph_121.tar.gz\tMSCallGraph_35.tar.gz\tMSCallGraph_7.tar.gz\n",
      "MSCallGraph_122.tar.gz\tMSCallGraph_36.tar.gz\tMSCallGraph_80.tar.gz\n",
      "MSCallGraph_123.tar.gz\tMSCallGraph_37.tar.gz\tMSCallGraph_81.tar.gz\n",
      "MSCallGraph_124.tar.gz\tMSCallGraph_38.tar.gz\tMSCallGraph_82.tar.gz\n",
      "MSCallGraph_125.tar.gz\tMSCallGraph_39.tar.gz\tMSCallGraph_83.tar.gz\n",
      "MSCallGraph_126.tar.gz\tMSCallGraph_3.tar.gz\tMSCallGraph_84.tar.gz\n",
      "MSCallGraph_127.tar.gz\tMSCallGraph_40.tar.gz\tMSCallGraph_85.tar.gz\n",
      "MSCallGraph_128.tar.gz\tMSCallGraph_41.tar.gz\tMSCallGraph_86.tar.gz\n",
      "MSCallGraph_129.tar.gz\tMSCallGraph_42.tar.gz\tMSCallGraph_87.tar.gz\n",
      "MSCallGraph_12.tar.gz\tMSCallGraph_43.tar.gz\tMSCallGraph_88.tar.gz\n",
      "MSCallGraph_130.tar.gz\tMSCallGraph_44.tar.gz\tMSCallGraph_89.tar.gz\n",
      "MSCallGraph_131.tar.gz\tMSCallGraph_45.tar.gz\tMSCallGraph_8.tar.gz\n",
      "MSCallGraph_132.tar.gz\tMSCallGraph_46.tar.gz\tMSCallGraph_90.tar.gz\n",
      "MSCallGraph_133.tar.gz\tMSCallGraph_47.tar.gz\tMSCallGraph_91.tar.gz\n",
      "MSCallGraph_134.tar.gz\tMSCallGraph_48.tar.gz\tMSCallGraph_92.tar.gz\n",
      "MSCallGraph_135.tar.gz\tMSCallGraph_49.tar.gz\tMSCallGraph_93.tar.gz\n",
      "MSCallGraph_136.tar.gz\tMSCallGraph_4.tar.gz\tMSCallGraph_94.tar.gz\n",
      "MSCallGraph_137.tar.gz\tMSCallGraph_50.tar.gz\tMSCallGraph_95.tar.gz\n",
      "MSCallGraph_138.tar.gz\tMSCallGraph_51.tar.gz\tMSCallGraph_96.tar.gz\n",
      "MSCallGraph_139.tar.gz\tMSCallGraph_52.tar.gz\tMSCallGraph_97.tar.gz\n",
      "MSCallGraph_13.tar.gz\tMSCallGraph_53.tar.gz\tMSCallGraph_98.tar.gz\n",
      "MSCallGraph_140.tar.gz\tMSCallGraph_54.tar.gz\tMSCallGraph_99.tar.gz\n",
      "MSCallGraph_141.tar.gz\tMSCallGraph_55.tar.gz\tMSCallGraph_9.tar.gz\n",
      "MSCallGraph_142.tar.gz\tMSCallGraph_56.tar.gz\n",
      "MSCallGraph_143.tar.gz\tMSCallGraph_57.tar.gz\n"
     ]
    }
   ]
  },
  {
   "cell_type": "code",
   "source": [
    "!tar -xzf data/MSCallGraph/MSCallGraph_0.tar.gz\n",
    "!rm data/MSCallGraph/MSCallGraph_0.tar.gz"
   ],
   "metadata": {
    "id": "FfTqaB8UVn3W",
    "pycharm": {
     "name": "#%%\n"
    }
   },
   "execution_count": null,
   "outputs": []
  },
  {
   "cell_type": "code",
   "source": [
    "for i in range(1, 145):\n",
    "    !tar -xzf data/MSCallGraph/MSCallGraph_{i}.tar.gz\n",
    "    !rm data/MSCallGraph/MSCallGraph_{i}.tar.gz\n"
   ],
   "metadata": {
    "colab": {
     "base_uri": "https://localhost:8080/"
    },
    "id": "BFdDauwoWi4y",
    "outputId": "5388cc3d-866b-4405-b6d7-09db1bd2fd1c",
    "pycharm": {
     "name": "#%%\n"
    }
   },
   "execution_count": null,
   "outputs": [
    {
     "output_type": "stream",
     "name": "stdout",
     "text": [
      "\n",
      "gzip: stdin: unexpected end of file\n",
      "tar: Unexpected EOF in archive\n",
      "tar: Unexpected EOF in archive\n",
      "tar: Error is not recoverable: exiting now\n",
      "^C\n",
      "^C\n",
      "^C\n",
      "^C\n"
     ]
    }
   ]
  },
  {
   "cell_type": "code",
   "source": [],
   "metadata": {
    "id": "_0y0Yk3bYJYo",
    "pycharm": {
     "name": "#%%\n"
    }
   },
   "execution_count": null,
   "outputs": []
  }
 ]
}