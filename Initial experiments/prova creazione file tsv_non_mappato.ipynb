{
 "cells": [
  {
   "cell_type": "code",
   "execution_count": 1,
   "id": "320bdf39",
   "metadata": {},
   "outputs": [
    {
     "name": "stdout",
     "output_type": "stream",
     "text": [
      "[['a33138a40cc983cb', 'UploadUserMentions', '21bac5cf57ddd3f2'], ['4585255a7bac42e7', 'MongoInsertPost', 'ee0b8f444213174a'], ['ee0b8f444213174a', 'StorePost', 'a99231eb4b290948'], ['21bac5cf57ddd3f2', 'UploadText', '2aa1acddff2951d1'], ['87367080997d65a0', 'RedisHashSet', 'fa2d615a45fe7489'], ['fa2d615a45fe7489', 'UploadUserMentions', 'a33138a40cc983cb'], ['6acca69479d88d05', 'RedisHashSet', 'd0c18a3cf3d83492'], ['d0c18a3cf3d83492', 'UploadUrls', '72fff8c781775f3f'], ['6ec02750da191b8e', 'RedisHashSet', 'ba508a1465cccff'], ['ba508a1465cccff', 'UploadCreator', '8c4514c02e93315c'], ['dca260a837d825fc', 'RedisHashSet', 'a74430fc84d6f53a'], ['a74430fc84d6f53a', 'UploadUniqueId', 'a0eb3aaf608d0f7b'], ['db37fcbdbf9acf29', 'RedisHashSet', '5fc7803dcc6e42ab'], ['5fc7803dcc6e42ab', 'UploadMedia', '253e6e80f06f2ca0'], ['5807fd4c4fdd535', 'RedisHashSet', 'a99231eb4b290948'], ['a99231eb4b290948', 'UploadText', '21bac5cf57ddd3f2'], ['253e6e80f06f2ca0', 'UploadMedia', '2aa1acddff2951d1'], ['cc1652e6cc8101a2', 'MongoFindUser', '5875cbf7b3284df5'], ['5875cbf7b3284df5', 'GetFollowers', 'becf7072a4b42a67'], ['d396154e9061ba9e', 'RedisGet', '5875cbf7b3284df5'], ['6251f0594f3fbd79', 'RedisUpdate', 'becf7072a4b42a67'], ['becf7072a4b42a67', 'FanoutHomeTimelines', 'a99231eb4b290948'], ['72fff8c781775f3f', 'UploadUrls', '21bac5cf57ddd3f2'], ['a0eb3aaf608d0f7b', 'UploadUniqueId', '2aa1acddff2951d1'], ['8c4514c02e93315c', 'UploadUserWithUserId', '2aa1acddff2951d1'], ['2aa1acddff2951d1', 'ComposePost', 'b4e2fa45ae97b4f5'], ['b4e2fa45ae97b4f5', '/wrk2-api/post/compose', '944c8368543f21fb'], ['944c8368543f21fb', '/wrk2-api/post/compose', '944c8368543f21fb'], ['aedd1035a10f70f', 'MongoInsert', '8ff0fb18ca0b906d'], ['69afc9579e2d1179', 'RedisUpdate', '8ff0fb18ca0b906d'], ['8ff0fb18ca0b906d', 'WriteUserTimeline', 'a99231eb4b290948'], ['b8723a30710353f4', 'MongoFindUser', '8ff0fb18ca0b906d']]\n"
     ]
    }
   ],
   "source": [
    "import json\n",
    "\n",
    "trace_name = \"944c8368543f21fb\"\n",
    "path = \"socialNetwork/traces/\" + trace_name + \".json\"\n",
    "# Opening JSON file\n",
    "f = open(path)\n",
    "\n",
    "# returns JSON object as \n",
    "# a dictionary\n",
    "data = json.load(f)\n",
    "\n",
    "# Closing file\n",
    "f.close()\n",
    "content = data['data']\n",
    "first = content[0]\n",
    "second = first['spans']\n",
    "\n",
    "triplets = [] #head, link, tail ---> spanID, operationName, references_spanID\n",
    "root = first['traceID']\n",
    "\n",
    "for elem in second:\n",
    "    head = elem['spanID']\n",
    "    link = elem['operationName']\n",
    "    tail = None\n",
    "    if head == root:\n",
    "        tail = root\n",
    "    else:\n",
    "        tail = elem['references'][0]['spanID']\n",
    "    triplets.append([head,link,tail])\n",
    "    \n",
    "print(triplets)"
   ]
  },
  {
   "cell_type": "code",
   "execution_count": 2,
   "id": "4b42a836",
   "metadata": {},
   "outputs": [],
   "source": [
    "# encoding = {}\n",
    "# counter = 0\n",
    "# for triplet in triplets:\n",
    "#     for elem in triplet:\n",
    "#         value = encoding.get(elem)\n",
    "#         if value == None:\n",
    "#             encoding[elem] = counter\n",
    "#             counter +=1\n",
    "# encoding"
   ]
  },
  {
   "cell_type": "code",
   "execution_count": 3,
   "id": "93faf02d",
   "metadata": {},
   "outputs": [],
   "source": [
    "import asposecells\n",
    "import jpype\n",
    "jpype.startJVM()\n",
    "\n",
    "from asposecells.api import Workbook, FileFormatType\n",
    "\n",
    "# Create Workbook object.\n",
    "workbook = Workbook(FileFormatType.TSV)\n",
    "\n",
    "# Access the first worksheet of the workbook.\n",
    "worksheet = workbook.getWorksheets().get(0)\n",
    "\n",
    "# Get the desired cell(s) of the worksheet and input the value into the cell(s).\n",
    "worksheet.getCells().get(\"A1\").putValue(\"head\")\n",
    "worksheet.getCells().get(\"B1\").putValue(\"relation\")\n",
    "worksheet.getCells().get(\"C1\").putValue(\"tail\")\n",
    "\n",
    "i = 2\n",
    "for elem in triplets: \n",
    "    worksheet.getCells().get(\"A\"+str(i)).putValue(elem[0])\n",
    "    worksheet.getCells().get(\"B\"+str(i)).putValue(elem[1])\n",
    "    worksheet.getCells().get(\"C\"+str(i)).putValue(elem[2])\n",
    "    i+=1\n",
    "\n",
    "\n",
    "# Save the workbook as TSV file.\n",
    "workbook.save(trace_name +\"_not_mapped\" +\".tsv\")\n",
    "\n",
    "jpype.shutdownJVM()\n"
   ]
  },
  {
   "cell_type": "code",
   "execution_count": 4,
   "id": "5f0e58ba",
   "metadata": {},
   "outputs": [],
   "source": [
    "jpype.shutdownJVM()\n"
   ]
  },
  {
   "cell_type": "code",
   "execution_count": null,
   "id": "3958596c",
   "metadata": {},
   "outputs": [],
   "source": []
  }
 ],
 "metadata": {
  "kernelspec": {
   "display_name": "Python 3 (ipykernel)",
   "language": "python",
   "name": "python3"
  },
  "language_info": {
   "codemirror_mode": {
    "name": "ipython",
    "version": 3
   },
   "file_extension": ".py",
   "mimetype": "text/x-python",
   "name": "python",
   "nbconvert_exporter": "python",
   "pygments_lexer": "ipython3",
   "version": "3.9.16"
  }
 },
 "nbformat": 4,
 "nbformat_minor": 5
}
