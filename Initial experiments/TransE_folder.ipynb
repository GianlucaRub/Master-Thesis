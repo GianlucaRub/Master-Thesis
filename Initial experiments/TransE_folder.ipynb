{
 "cells": [
  {
   "cell_type": "code",
   "execution_count": 1,
   "id": "b6336fac",
   "metadata": {},
   "outputs": [],
   "source": [
    "import networkx as nx\n",
    "from pykeen.pipeline import pipeline\n",
    "from pykeen.datasets import Nations, get_dataset\n",
    "import matplotlib.pyplot as plt\n",
    "import matplotlib as mpl\n",
    "import torch\n",
    "from pykeen.models import predict\n",
    "import json\n"
   ]
  },
  {
   "cell_type": "code",
   "execution_count": 4,
   "id": "6d7943b9",
   "metadata": {},
   "outputs": [
    {
     "ename": "AttributeError",
     "evalue": "type object 'TriplesFactory' has no attribute 'from_directory_binary'",
     "output_type": "error",
     "traceback": [
      "\u001b[1;31m---------------------------------------------------------------------------\u001b[0m",
      "\u001b[1;31mAttributeError\u001b[0m                            Traceback (most recent call last)",
      "Cell \u001b[1;32mIn[4], line 11\u001b[0m\n\u001b[0;32m      7\u001b[0m NATIONS_TEST_PATH \u001b[38;5;241m=\u001b[39m \u001b[38;5;124m\"\u001b[39m\u001b[38;5;124mtest\u001b[39m\u001b[38;5;124m\"\u001b[39m\n\u001b[0;32m      8\u001b[0m NATIONS_VALIDATE_PATH \u001b[38;5;241m=\u001b[39m \u001b[38;5;124m\"\u001b[39m\u001b[38;5;124mvalidation\u001b[39m\u001b[38;5;124m\"\u001b[39m\n\u001b[1;32m---> 11\u001b[0m training \u001b[38;5;241m=\u001b[39m \u001b[43mTriplesFactory\u001b[49m\u001b[38;5;241;43m.\u001b[39;49m\u001b[43mfrom_directory_binary\u001b[49m(NATIONS_TRAIN_PATH)\n\u001b[0;32m     12\u001b[0m testing \u001b[38;5;241m=\u001b[39m TriplesFactory\u001b[38;5;241m.\u001b[39mfrom_path(\n\u001b[0;32m     13\u001b[0m     NATIONS_TEST_PATH,\n\u001b[0;32m     14\u001b[0m     entity_to_id\u001b[38;5;241m=\u001b[39mtraining\u001b[38;5;241m.\u001b[39mentity_to_id,\n\u001b[0;32m     15\u001b[0m     relation_to_id\u001b[38;5;241m=\u001b[39mtraining\u001b[38;5;241m.\u001b[39mrelation_to_id,\n\u001b[0;32m     16\u001b[0m )\n\u001b[0;32m     17\u001b[0m validation \u001b[38;5;241m=\u001b[39m TriplesFactory\u001b[38;5;241m.\u001b[39mfrom_path(\n\u001b[0;32m     18\u001b[0m     NATIONS_VALIDATE_PATH,\n\u001b[0;32m     19\u001b[0m     entity_to_id\u001b[38;5;241m=\u001b[39mtraining\u001b[38;5;241m.\u001b[39mentity_to_id,\n\u001b[0;32m     20\u001b[0m     relation_to_id\u001b[38;5;241m=\u001b[39mtraining\u001b[38;5;241m.\u001b[39mrelation_to_id,\n\u001b[0;32m     21\u001b[0m )\n",
      "\u001b[1;31mAttributeError\u001b[0m: type object 'TriplesFactory' has no attribute 'from_directory_binary'"
     ]
    }
   ],
   "source": [
    "from pykeen.hpo import hpo_pipeline\n",
    "import os\n",
    "from pykeen.triples import TriplesFactory\n",
    "\n",
    "\n",
    "NATIONS_TRAIN_PATH = \"train\"\n",
    "NATIONS_TEST_PATH = \"test\"\n",
    "NATIONS_VALIDATE_PATH = \"validation\"\n",
    "\n",
    "\n",
    "training = TriplesFactory.from_path(NATIONS_TRAIN_PATH)\n",
    "testing = TriplesFactory.from_path(\n",
    "    NATIONS_TEST_PATH,\n",
    "    entity_to_id=training.entity_to_id,\n",
    "    relation_to_id=training.relation_to_id,\n",
    ")\n",
    "validation = TriplesFactory.from_path(\n",
    "    NATIONS_VALIDATE_PATH,\n",
    "    entity_to_id=training.entity_to_id,\n",
    "    relation_to_id=training.relation_to_id,\n",
    ")\n",
    "pipeline_result = pipeline(\n",
    "#    n_trials=3,  # you probably want more than this\n",
    "    training=training,\n",
    "    testing=testing,\n",
    "    validation=validation,\n",
    "    model='TransE',\n",
    "    epochs=5,  # short epochs for testing - you should go higher\n",
    "    random_seed = 1234\n",
    ")\n",
    "pipeline_result.save_to_directory(os.getcwd()+'/prova_transE')"
   ]
  },
  {
   "cell_type": "code",
   "execution_count": null,
   "id": "d18b33bf",
   "metadata": {},
   "outputs": [],
   "source": [
    "help(pipeline_result)"
   ]
  },
  {
   "cell_type": "code",
   "execution_count": null,
   "id": "dd330bab",
   "metadata": {},
   "outputs": [],
   "source": [
    "pipeline_result.metric_results.to_dict()"
   ]
  },
  {
   "cell_type": "code",
   "execution_count": null,
   "id": "c19ee4f3",
   "metadata": {},
   "outputs": [],
   "source": [
    "pipeline_result.plot_losses()"
   ]
  },
  {
   "cell_type": "code",
   "execution_count": null,
   "id": "74745509",
   "metadata": {},
   "outputs": [],
   "source": [
    "model = pipeline_result.model\n",
    "# Predict tails\n",
    "predicted_tails_df = predict.get_prediction_df(\n",
    "    model=model, head_label = \"user-service\", relation_label=\"get_user_id_server\", triples_factory=pipeline_result.training,\n",
    ")\n",
    "\n",
    "\n",
    "predicted_tails_df"
   ]
  },
  {
   "cell_type": "code",
   "execution_count": null,
   "id": "415b0a88",
   "metadata": {},
   "outputs": [],
   "source": [
    "# Predict relations\n",
    "predicted_relations_df = predict.get_prediction_df(\n",
    "    model=model, head_label=\"user-service\", tail_label=\"user-service\", triples_factory=pipeline_result.training,\n",
    ")\n",
    "predicted_relations_df"
   ]
  },
  {
   "cell_type": "code",
   "execution_count": null,
   "id": "39de0089",
   "metadata": {},
   "outputs": [],
   "source": [
    "# Predict heads\n",
    "predicted_heads_df = predict.get_prediction_df(\n",
    "    model=model, relation_label=\"get_user_id_server\", tail_label=\"user-service\", triples_factory=pipeline_result.training\n",
    ")\n",
    "predicted_heads_df"
   ]
  },
  {
   "cell_type": "code",
   "execution_count": null,
   "id": "743eab24",
   "metadata": {},
   "outputs": [],
   "source": [
    "# Score all triples (memory intensive)\n",
    "predictions_df = predict.get_all_prediction_df(model, triples_factory=pipeline_result.training)\n",
    "predictions_df"
   ]
  },
  {
   "cell_type": "code",
   "execution_count": null,
   "id": "37a8c97e",
   "metadata": {},
   "outputs": [],
   "source": [
    "# Score top K triples (computationally expensive)\n",
    "top_k_predictions_df = predict.get_all_prediction_df(model, k=10, triples_factory=pipeline_result.training)\n",
    "top_k_predictions_df"
   ]
  },
  {
   "cell_type": "code",
   "execution_count": null,
   "id": "e23379e1",
   "metadata": {},
   "outputs": [],
   "source": [
    "# Score a given list of triples\n",
    "score_df = predict.predict_triples_df(\n",
    "    model=model,\n",
    "    triples=[('user-service', 'user_mmc_get_user_id_client', 'user-service'), ('user-service', 'get_user_id_server', 'social-graph-service')],\n",
    "    triples_factory=pipeline_result.training,\n",
    ")\n",
    "score_df"
   ]
  },
  {
   "cell_type": "markdown",
   "id": "8dee1250",
   "metadata": {},
   "source": [
    "## Evaluation\n",
    "If the results are the same, it means that the traces are the same"
   ]
  },
  {
   "cell_type": "code",
   "execution_count": null,
   "id": "901123ed",
   "metadata": {},
   "outputs": [],
   "source": [
    "from pykeen.evaluation import evaluate, ClassificationEvaluator\n",
    "results_training = evaluate(model=model,mapped_triples=pipeline_result.training.mapped_triples,evaluator = ClassificationEvaluator(),mode=None,additional_filter_triples=[pipeline_result.training.mapped_triples])\n",
    "results_training.to_dict()"
   ]
  },
  {
   "cell_type": "code",
   "execution_count": null,
   "id": "af5c3df4",
   "metadata": {},
   "outputs": [],
   "source": [
    "results_validation = evaluate(model=model,mapped_triples=validation.mapped_triples,evaluator = ClassificationEvaluator(),mode=None,additional_filter_triples=[pipeline_result.training.mapped_triples])\n",
    "results_validation.to_dict()"
   ]
  },
  {
   "cell_type": "code",
   "execution_count": null,
   "id": "1ea5537f",
   "metadata": {},
   "outputs": [],
   "source": [
    "results_testing = evaluate(model=model,mapped_triples=testing.mapped_triples,evaluator = ClassificationEvaluator(),mode=None,additional_filter_triples=[pipeline_result.training.mapped_triples])\n",
    "results_testing.to_dict()"
   ]
  },
  {
   "cell_type": "code",
   "execution_count": null,
   "id": "f78971e9",
   "metadata": {},
   "outputs": [],
   "source": []
  }
 ],
 "metadata": {
  "kernelspec": {
   "display_name": "Python 3 (ipykernel)",
   "language": "python",
   "name": "python3"
  },
  "language_info": {
   "codemirror_mode": {
    "name": "ipython",
    "version": 3
   },
   "file_extension": ".py",
   "mimetype": "text/x-python",
   "name": "python",
   "nbconvert_exporter": "python",
   "pygments_lexer": "ipython3",
   "version": "3.9.16"
  }
 },
 "nbformat": 4,
 "nbformat_minor": 5
}
