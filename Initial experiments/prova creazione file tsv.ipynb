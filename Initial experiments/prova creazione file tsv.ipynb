{
 "cells": [
  {
   "cell_type": "code",
   "execution_count": 1,
   "id": "320bdf39",
   "metadata": {},
   "outputs": [
    {
     "name": "stdout",
     "output_type": "stream",
     "text": [
      "[['89298ae80be81b35', 'UploadUserMentions', '383fd3de15f9e68e'], ['c2bd5e503c351640', 'MongoInsertPost', '6f188c92b481b51d'], ['6f188c92b481b51d', 'StorePost', 'ee52f264df937869'], ['383fd3de15f9e68e', 'UploadText', '1dd8f2b7abf733c2'], ['49aa81c5ea661954', 'RedisHashSet', 'f2c6bce603aaa602'], ['f2c6bce603aaa602', 'UploadMedia', '24cdc6901c145755'], ['c65e7cae4d33031d', 'RedisHashSet', 'b51bbbc6949e628a'], ['b51bbbc6949e628a', 'UploadUniqueId', 'ac5b07e8594e359c'], ['a36ddd75775faca0', 'RedisHashSet', '38951efcaf264191'], ['38951efcaf264191', 'UploadCreator', 'bcbddb180d6534a'], ['7393a180ae1a18ff', 'RedisHashSet', '835027e63eeb4356'], ['835027e63eeb4356', 'UploadUrls', 'a0c4db11ea596009'], ['7ef6bb5736825ead', 'RedisHashSet', 'c75fc3b18c5d2409'], ['c75fc3b18c5d2409', 'UploadUserMentions', '89298ae80be81b35'], ['8af3543192d1fc9a', 'RedisHashSet', 'ee52f264df937869'], ['ee52f264df937869', 'UploadText', '383fd3de15f9e68e'], ['24cdc6901c145755', 'UploadMedia', '1dd8f2b7abf733c2'], ['27b8d294a8afb85d', 'MongoFindUser', '44fe6f8d62048f70'], ['44fe6f8d62048f70', 'GetFollowers', '28d2d3c559130903'], ['823fc1a63e9fbd6a', 'RedisGet', '44fe6f8d62048f70'], ['28d2d3c559130903', 'FanoutHomeTimelines', 'ee52f264df937869'], ['1f49758940c40ee', 'RedisUpdate', '28d2d3c559130903'], ['a0c4db11ea596009', 'UploadUrls', '383fd3de15f9e68e'], ['ac5b07e8594e359c', 'UploadUniqueId', '1dd8f2b7abf733c2'], ['bcbddb180d6534a', 'UploadUserWithUserId', '1dd8f2b7abf733c2'], ['1dd8f2b7abf733c2', 'ComposePost', 'ff5ab6ac37d72982'], ['ff5ab6ac37d72982', '/wrk2-api/post/compose', 'f78363e3cc31c563'], ['f78363e3cc31c563', '/wrk2-api/post/compose', 'f78363e3cc31c563'], ['889060ba5c187584', 'MongoInsert', 'ae5ac5962aac5814'], ['c2ea54fe1f3d647c', 'RedisUpdate', 'ae5ac5962aac5814'], ['ae5ac5962aac5814', 'WriteUserTimeline', 'ee52f264df937869'], ['d7e80e7a8cc27d91', 'MongoFindUser', 'ae5ac5962aac5814']]\n"
     ]
    }
   ],
   "source": [
    "import json\n",
    "\n",
    "trace_name = \"f78363e3cc31c563\"\n",
    "path = \"socialNetwork/traces/\" + trace_name + \".json\"\n",
    "# Opening JSON file\n",
    "f = open(path)\n",
    "\n",
    "# returns JSON object as \n",
    "# a dictionary\n",
    "data = json.load(f)\n",
    "\n",
    "# Closing file\n",
    "f.close()\n",
    "content = data['data']\n",
    "first = content[0]\n",
    "second = first['spans']\n",
    "\n",
    "triplets = [] #head, link, tail ---> spanID, operationName, references_spanID\n",
    "root = first['traceID']\n",
    "\n",
    "for elem in second:\n",
    "    head = elem['spanID']\n",
    "    link = elem['operationName']\n",
    "    tail = None\n",
    "    if head == root:\n",
    "        tail = root\n",
    "    else:\n",
    "        tail = elem['references'][0]['spanID']\n",
    "    triplets.append([head,link,tail])\n",
    "    \n",
    "print(triplets)"
   ]
  },
  {
   "cell_type": "code",
   "execution_count": 2,
   "id": "4b42a836",
   "metadata": {},
   "outputs": [
    {
     "data": {
      "text/plain": [
       "{'89298ae80be81b35': 0,\n",
       " 'UploadUserMentions': 1,\n",
       " '383fd3de15f9e68e': 2,\n",
       " 'c2bd5e503c351640': 3,\n",
       " 'MongoInsertPost': 4,\n",
       " '6f188c92b481b51d': 5,\n",
       " 'StorePost': 6,\n",
       " 'ee52f264df937869': 7,\n",
       " 'UploadText': 8,\n",
       " '1dd8f2b7abf733c2': 9,\n",
       " '49aa81c5ea661954': 10,\n",
       " 'RedisHashSet': 11,\n",
       " 'f2c6bce603aaa602': 12,\n",
       " 'UploadMedia': 13,\n",
       " '24cdc6901c145755': 14,\n",
       " 'c65e7cae4d33031d': 15,\n",
       " 'b51bbbc6949e628a': 16,\n",
       " 'UploadUniqueId': 17,\n",
       " 'ac5b07e8594e359c': 18,\n",
       " 'a36ddd75775faca0': 19,\n",
       " '38951efcaf264191': 20,\n",
       " 'UploadCreator': 21,\n",
       " 'bcbddb180d6534a': 22,\n",
       " '7393a180ae1a18ff': 23,\n",
       " '835027e63eeb4356': 24,\n",
       " 'UploadUrls': 25,\n",
       " 'a0c4db11ea596009': 26,\n",
       " '7ef6bb5736825ead': 27,\n",
       " 'c75fc3b18c5d2409': 28,\n",
       " '8af3543192d1fc9a': 29,\n",
       " '27b8d294a8afb85d': 30,\n",
       " 'MongoFindUser': 31,\n",
       " '44fe6f8d62048f70': 32,\n",
       " 'GetFollowers': 33,\n",
       " '28d2d3c559130903': 34,\n",
       " '823fc1a63e9fbd6a': 35,\n",
       " 'RedisGet': 36,\n",
       " 'FanoutHomeTimelines': 37,\n",
       " '1f49758940c40ee': 38,\n",
       " 'RedisUpdate': 39,\n",
       " 'UploadUserWithUserId': 40,\n",
       " 'ComposePost': 41,\n",
       " 'ff5ab6ac37d72982': 42,\n",
       " '/wrk2-api/post/compose': 43,\n",
       " 'f78363e3cc31c563': 44,\n",
       " '889060ba5c187584': 45,\n",
       " 'MongoInsert': 46,\n",
       " 'ae5ac5962aac5814': 47,\n",
       " 'c2ea54fe1f3d647c': 48,\n",
       " 'WriteUserTimeline': 49,\n",
       " 'd7e80e7a8cc27d91': 50}"
      ]
     },
     "execution_count": 2,
     "metadata": {},
     "output_type": "execute_result"
    }
   ],
   "source": [
    "encoding = {}\n",
    "counter = 0\n",
    "for triplet in triplets:\n",
    "    for elem in triplet:\n",
    "        value = encoding.get(elem)\n",
    "        if value == None:\n",
    "            encoding[elem] = counter\n",
    "            counter +=1\n",
    "encoding"
   ]
  },
  {
   "cell_type": "code",
   "execution_count": 3,
   "id": "93faf02d",
   "metadata": {},
   "outputs": [],
   "source": [
    "import asposecells\n",
    "import jpype\n",
    "jpype.startJVM()\n",
    "\n",
    "from asposecells.api import Workbook, FileFormatType\n",
    "\n",
    "# Create Workbook object.\n",
    "workbook = Workbook(FileFormatType.TSV)\n",
    "\n",
    "# Access the first worksheet of the workbook.\n",
    "worksheet = workbook.getWorksheets().get(0)\n",
    "\n",
    "# Get the desired cell(s) of the worksheet and input the value into the cell(s).\n",
    "worksheet.getCells().get(\"A1\").putValue(\"head\")\n",
    "worksheet.getCells().get(\"B1\").putValue(\"relation\")\n",
    "worksheet.getCells().get(\"C1\").putValue(\"tail\")\n",
    "\n",
    "i = 2\n",
    "for elem in triplets: \n",
    "    worksheet.getCells().get(\"A\"+str(i)).putValue(encoding[elem[0]])\n",
    "    worksheet.getCells().get(\"B\"+str(i)).putValue(encoding[elem[1]])\n",
    "    worksheet.getCells().get(\"C\"+str(i)).putValue(encoding[elem[2]])\n",
    "    i+=1\n",
    "\n",
    "\n",
    "# Save the workbook as TSV file.\n",
    "workbook.save(trace_name + \".tsv\")\n",
    "\n",
    "jpype.shutdownJVM()\n"
   ]
  },
  {
   "cell_type": "code",
   "execution_count": 4,
   "id": "5f0e58ba",
   "metadata": {},
   "outputs": [],
   "source": [
    "jpype.shutdownJVM()\n"
   ]
  },
  {
   "cell_type": "code",
   "execution_count": null,
   "id": "3958596c",
   "metadata": {},
   "outputs": [],
   "source": []
  }
 ],
 "metadata": {
  "kernelspec": {
   "display_name": "Python 3 (ipykernel)",
   "language": "python",
   "name": "python3"
  },
  "language_info": {
   "codemirror_mode": {
    "name": "ipython",
    "version": 3
   },
   "file_extension": ".py",
   "mimetype": "text/x-python",
   "name": "python",
   "nbconvert_exporter": "python",
   "pygments_lexer": "ipython3",
   "version": "3.9.16"
  }
 },
 "nbformat": 4,
 "nbformat_minor": 5
}
