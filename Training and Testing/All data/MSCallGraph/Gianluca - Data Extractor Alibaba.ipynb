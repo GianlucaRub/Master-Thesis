{
 "cells": [
  {
   "cell_type": "markdown",
   "id": "46463e8c",
   "metadata": {
    "pycharm": {
     "name": "#%% md\n"
    }
   },
   "source": [
    "In this notebook I am processing each part of the dataset. For each sample I am extracting the unique triplets and the related trace ids. Then I save the result. 99% of the space is saved."
   ]
  },
  {
   "cell_type": "code",
   "execution_count": 1,
   "id": "43fe8115",
   "metadata": {
    "pycharm": {
     "name": "#%%\n"
    }
   },
   "outputs": [],
   "source": [
    "import tarfile\n",
    "import pandas as pd\n",
    "import numpy as np\n",
    "import os"
   ]
  },
  {
   "cell_type": "code",
   "execution_count": 2,
   "id": "f4a103c0",
   "metadata": {
    "pycharm": {
     "name": "#%%\n"
    }
   },
   "outputs": [
    {
     "name": "stdout",
     "output_type": "stream",
     "text": [
      "Remaining parts:  2\n",
      "% parts completed:  98.62068965517241\n",
      "Remaining time (s):  59.68647798929487\n",
      "Remaining time (m):  0.9947746331549145\n",
      "Remaining time (h):  0.016579577219248576\n",
      "Remaining time (d):  0.0006908157174686907\n"
     ]
    }
   ],
   "source": [
    "import time\n",
    "import IPython\n",
    "\n",
    "to_skip = tuple([2,57,60,64,66,75,98,101,125,129,130,144]) # corrupted files\n",
    "start = time.time()\n",
    "for i in range(0, 145):\n",
    "    if to_skip.count(i) > 0:\n",
    "        continue\n",
    "    # open file\n",
    "    file = tarfile.open(f'MSCallGraph_{i}.tar.gz')\n",
    "\n",
    "    # extracting file\n",
    "    file.extractall('./')\n",
    "\n",
    "    file.close()\n",
    "    df = pd.read_csv(f'MSCallGraph_{i}.csv')\n",
    "    df=df.drop(['Unnamed: 0','timestamp','rpcid','interface','rt',],axis=1)\n",
    "    df = df.replace('(?)', np.NaN)\n",
    "    df = df.replace('', np.NaN)\n",
    "    df = df.replace('NAN', np.NaN)\n",
    "    df = df.dropna()\n",
    "    df = df.drop_duplicates()\n",
    "    df.nunique()\n",
    "    \n",
    "    traces = list(set(df['traceid']))\n",
    "    unique_trace_ids = []\n",
    "    triplets_df = df.drop(['traceid'], axis = 1)\n",
    "    triplets_df = triplets_df.drop_duplicates()\n",
    "\n",
    "    filtered_df = df.loc[triplets_df.index]\n",
    "\n",
    "    filtered_df.to_csv(f'MSCallGraph_{i}_filtered.csv',index=True)\n",
    "    \n",
    "    os.remove(f'MSCallGraph_{i}.csv')\n",
    "    \n",
    "    duration = time.time() - start\n",
    "    remaining_time = duration/(1-((145-i)/145)+1e-10) - duration\n",
    "    print(\"Remaining parts: \", 145-i)\n",
    "    print(\"% parts completed: \", (1-((145-i)/145)) *100)\n",
    "    print(\"Remaining time (s): \", remaining_time)\n",
    "    print(\"Remaining time (m): \", remaining_time/60)\n",
    "    print(\"Remaining time (h): \", remaining_time/60/60)\n",
    "    print(\"Remaining time (d): \", remaining_time/60/60/24)\n",
    "    IPython.display.clear_output(wait = True)"
   ]
  },
  {
   "cell_type": "code",
   "execution_count": 3,
   "id": "8963d5d7",
   "metadata": {
    "pycharm": {
     "name": "#%%\n"
    }
   },
   "outputs": [
    {
     "data": {
      "text/plain": [
       "4267.583207607269"
      ]
     },
     "execution_count": 3,
     "metadata": {},
     "output_type": "execute_result"
    }
   ],
   "source": [
    "duration"
   ]
  },
  {
   "cell_type": "code",
   "execution_count": null,
   "id": "a4a35baa",
   "metadata": {
    "pycharm": {
     "name": "#%%\n"
    }
   },
   "outputs": [],
   "source": []
  }
 ],
 "metadata": {
  "kernelspec": {
   "display_name": "Python 3 (ipykernel)",
   "language": "python",
   "name": "python3"
  },
  "language_info": {
   "codemirror_mode": {
    "name": "ipython",
    "version": 3
   },
   "file_extension": ".py",
   "mimetype": "text/x-python",
   "name": "python",
   "nbconvert_exporter": "python",
   "pygments_lexer": "ipython3",
   "version": "3.9.16"
  }
 },
 "nbformat": 4,
 "nbformat_minor": 5
}