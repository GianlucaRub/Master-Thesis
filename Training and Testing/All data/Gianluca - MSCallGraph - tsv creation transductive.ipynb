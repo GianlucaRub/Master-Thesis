{
 "cells": [
  {
   "cell_type": "code",
   "execution_count": 1,
   "id": "c5249a76",
   "metadata": {
    "pycharm": {
     "name": "#%%\n"
    }
   },
   "outputs": [],
   "source": [
    "import pandas as pd\n",
    "import numpy as np\n",
    "\n",
    "seed = 1234"
   ]
  },
  {
   "cell_type": "code",
   "execution_count": 2,
   "id": "aebefd5c",
   "metadata": {
    "pycharm": {
     "name": "#%%\n"
    }
   },
   "outputs": [],
   "source": [
    "df = pd.read_csv('MSCallGraph_joined.csv')"
   ]
  },
  {
   "cell_type": "code",
   "execution_count": 3,
   "id": "3be562b7",
   "metadata": {
    "pycharm": {
     "name": "#%%\n"
    }
   },
   "outputs": [
    {
     "data": {
      "text/html": [
       "<div>\n",
       "<style scoped>\n",
       "    .dataframe tbody tr th:only-of-type {\n",
       "        vertical-align: middle;\n",
       "    }\n",
       "\n",
       "    .dataframe tbody tr th {\n",
       "        vertical-align: top;\n",
       "    }\n",
       "\n",
       "    .dataframe thead th {\n",
       "        text-align: right;\n",
       "    }\n",
       "</style>\n",
       "<table border=\"1\" class=\"dataframe\">\n",
       "  <thead>\n",
       "    <tr style=\"text-align: right;\">\n",
       "      <th></th>\n",
       "      <th>um</th>\n",
       "      <th>rpctype</th>\n",
       "      <th>dm</th>\n",
       "    </tr>\n",
       "  </thead>\n",
       "  <tbody>\n",
       "    <tr>\n",
       "      <th>0</th>\n",
       "      <td>5cca70246befb1f4c9546d2912b9419dee54439218efa5...</td>\n",
       "      <td>mc</td>\n",
       "      <td>b1dbd3a649a3cc790fa12573c9c1aa00988e07a8818a22...</td>\n",
       "    </tr>\n",
       "    <tr>\n",
       "      <th>1</th>\n",
       "      <td>4ab265f54516248ee8873be7d6441912456ce17e84f399...</td>\n",
       "      <td>mc</td>\n",
       "      <td>fd6d86bd0fd550e717c1fdb82a33190a9fef216d87d535...</td>\n",
       "    </tr>\n",
       "    <tr>\n",
       "      <th>2</th>\n",
       "      <td>5cca70246befb1f4c9546d2912b9419dee54439218efa5...</td>\n",
       "      <td>userDefined</td>\n",
       "      <td>5cca70246befb1f4c9546d2912b9419dee54439218efa5...</td>\n",
       "    </tr>\n",
       "    <tr>\n",
       "      <th>3</th>\n",
       "      <td>75e56c8fbb9336eb4dd40f5f609d5344203d374d73fd0b...</td>\n",
       "      <td>rpc</td>\n",
       "      <td>84f9f68ef003a21288fffe8f9a09a5a29b05f4cc4229b8...</td>\n",
       "    </tr>\n",
       "    <tr>\n",
       "      <th>4</th>\n",
       "      <td>4ab265f54516248ee8873be7d6441912456ce17e84f399...</td>\n",
       "      <td>mc</td>\n",
       "      <td>01d660afcfadafd587e20ec4c04ddbc7eb0de95643ba0e...</td>\n",
       "    </tr>\n",
       "    <tr>\n",
       "      <th>...</th>\n",
       "      <td>...</td>\n",
       "      <td>...</td>\n",
       "      <td>...</td>\n",
       "    </tr>\n",
       "    <tr>\n",
       "      <th>55557</th>\n",
       "      <td>eb7ce54148779f812f2c7f07f18ef4ed269043b9f6b959...</td>\n",
       "      <td>db</td>\n",
       "      <td>db984ae0fed93d22fbcca65eb1ec1b25b4faa71167c580...</td>\n",
       "    </tr>\n",
       "    <tr>\n",
       "      <th>55558</th>\n",
       "      <td>24601dd8b36f856eb0a4d759866f475bc62cf843ffe092...</td>\n",
       "      <td>rpc</td>\n",
       "      <td>1224ab4a5244545b7333a290aaccc95e49f2a793457d21...</td>\n",
       "    </tr>\n",
       "    <tr>\n",
       "      <th>55559</th>\n",
       "      <td>1224ab4a5244545b7333a290aaccc95e49f2a793457d21...</td>\n",
       "      <td>db</td>\n",
       "      <td>1ac258b5230c8d9dfb28dcad1ced301a9b475b58b37025...</td>\n",
       "    </tr>\n",
       "    <tr>\n",
       "      <th>55560</th>\n",
       "      <td>5d887bdb9fd24cea365fb7ce018526df1d39b11630081b...</td>\n",
       "      <td>db</td>\n",
       "      <td>8ee7c139f721a23915ca012d2518eddbdc7ad1ced8b3da...</td>\n",
       "    </tr>\n",
       "    <tr>\n",
       "      <th>55561</th>\n",
       "      <td>7a1c153f334a63ae491e7fbf303162576d0894933eab3d...</td>\n",
       "      <td>db</td>\n",
       "      <td>608da6f2e6cca140f117b24b8e2e7a69d116bd7b0aa6c4...</td>\n",
       "    </tr>\n",
       "  </tbody>\n",
       "</table>\n",
       "<p>55562 rows × 3 columns</p>\n",
       "</div>"
      ],
      "text/plain": [
       "                                                      um      rpctype  \\\n",
       "0      5cca70246befb1f4c9546d2912b9419dee54439218efa5...           mc   \n",
       "1      4ab265f54516248ee8873be7d6441912456ce17e84f399...           mc   \n",
       "2      5cca70246befb1f4c9546d2912b9419dee54439218efa5...  userDefined   \n",
       "3      75e56c8fbb9336eb4dd40f5f609d5344203d374d73fd0b...          rpc   \n",
       "4      4ab265f54516248ee8873be7d6441912456ce17e84f399...           mc   \n",
       "...                                                  ...          ...   \n",
       "55557  eb7ce54148779f812f2c7f07f18ef4ed269043b9f6b959...           db   \n",
       "55558  24601dd8b36f856eb0a4d759866f475bc62cf843ffe092...          rpc   \n",
       "55559  1224ab4a5244545b7333a290aaccc95e49f2a793457d21...           db   \n",
       "55560  5d887bdb9fd24cea365fb7ce018526df1d39b11630081b...           db   \n",
       "55561  7a1c153f334a63ae491e7fbf303162576d0894933eab3d...           db   \n",
       "\n",
       "                                                      dm  \n",
       "0      b1dbd3a649a3cc790fa12573c9c1aa00988e07a8818a22...  \n",
       "1      fd6d86bd0fd550e717c1fdb82a33190a9fef216d87d535...  \n",
       "2      5cca70246befb1f4c9546d2912b9419dee54439218efa5...  \n",
       "3      84f9f68ef003a21288fffe8f9a09a5a29b05f4cc4229b8...  \n",
       "4      01d660afcfadafd587e20ec4c04ddbc7eb0de95643ba0e...  \n",
       "...                                                  ...  \n",
       "55557  db984ae0fed93d22fbcca65eb1ec1b25b4faa71167c580...  \n",
       "55558  1224ab4a5244545b7333a290aaccc95e49f2a793457d21...  \n",
       "55559  1ac258b5230c8d9dfb28dcad1ced301a9b475b58b37025...  \n",
       "55560  8ee7c139f721a23915ca012d2518eddbdc7ad1ced8b3da...  \n",
       "55561  608da6f2e6cca140f117b24b8e2e7a69d116bd7b0aa6c4...  \n",
       "\n",
       "[55562 rows x 3 columns]"
      ]
     },
     "execution_count": 3,
     "metadata": {},
     "output_type": "execute_result"
    }
   ],
   "source": [
    "df"
   ]
  },
  {
   "cell_type": "code",
   "execution_count": 4,
   "id": "bb154478",
   "metadata": {
    "pycharm": {
     "name": "#%%\n"
    }
   },
   "outputs": [
    {
     "data": {
      "text/plain": [
       "16657"
      ]
     },
     "execution_count": 4,
     "metadata": {},
     "output_type": "execute_result"
    }
   ],
   "source": [
    "entities = set(df['dm']) | set(df['um'])\n",
    "len(entities)"
   ]
  },
  {
   "cell_type": "code",
   "execution_count": 5,
   "id": "4061c707",
   "metadata": {
    "pycharm": {
     "name": "#%%\n"
    }
   },
   "outputs": [],
   "source": [
    "baseline = []\n",
    "for entity in entities:\n",
    "    baseline.append(df[df['dm'] == entity].head(1))\n",
    "    baseline.append(df[df['um'] == entity].head(1))"
   ]
  },
  {
   "cell_type": "code",
   "execution_count": 6,
   "id": "119931a6",
   "metadata": {
    "pycharm": {
     "name": "#%%\n"
    }
   },
   "outputs": [
    {
     "data": {
      "text/html": [
       "<div>\n",
       "<style scoped>\n",
       "    .dataframe tbody tr th:only-of-type {\n",
       "        vertical-align: middle;\n",
       "    }\n",
       "\n",
       "    .dataframe tbody tr th {\n",
       "        vertical-align: top;\n",
       "    }\n",
       "\n",
       "    .dataframe thead th {\n",
       "        text-align: right;\n",
       "    }\n",
       "</style>\n",
       "<table border=\"1\" class=\"dataframe\">\n",
       "  <thead>\n",
       "    <tr style=\"text-align: right;\">\n",
       "      <th></th>\n",
       "      <th>um</th>\n",
       "      <th>rpctype</th>\n",
       "      <th>dm</th>\n",
       "    </tr>\n",
       "  </thead>\n",
       "  <tbody>\n",
       "    <tr>\n",
       "      <th>9569</th>\n",
       "      <td>a9bca512bdab23f61082871fb52879f5bec93ae016d171...</td>\n",
       "      <td>db</td>\n",
       "      <td>81016af481ed9a71ca7d73a7b97a173285f090c283c9ab...</td>\n",
       "    </tr>\n",
       "    <tr>\n",
       "      <th>54077</th>\n",
       "      <td>dbff4a8d66628b09dde3af64cae526956a8a9c50764c22...</td>\n",
       "      <td>db</td>\n",
       "      <td>f84178b679edeaa35b7fdd9e74efdb61299d1808332ec5...</td>\n",
       "    </tr>\n",
       "    <tr>\n",
       "      <th>46087</th>\n",
       "      <td>384c1fd74efa0dce3dc948ea67b088115573f9f76792be...</td>\n",
       "      <td>db</td>\n",
       "      <td>4eb0e7dbd4ae7e882f7ac5b3f9d08fb550fbd00e86befb...</td>\n",
       "    </tr>\n",
       "    <tr>\n",
       "      <th>45632</th>\n",
       "      <td>9855396e8b703a93c92bbac04ff76d075a3ad65d93aafa...</td>\n",
       "      <td>db</td>\n",
       "      <td>174ef811f1aacb84f59c7da714548f3f2fe93a49631219...</td>\n",
       "    </tr>\n",
       "    <tr>\n",
       "      <th>41473</th>\n",
       "      <td>cb42fd30d288b40b216f3af663233048108b5f9ab5142f...</td>\n",
       "      <td>db</td>\n",
       "      <td>030589c81600c217f5ca9708f0b5cad5bc7caf2d2b924a...</td>\n",
       "    </tr>\n",
       "    <tr>\n",
       "      <th>...</th>\n",
       "      <td>...</td>\n",
       "      <td>...</td>\n",
       "      <td>...</td>\n",
       "    </tr>\n",
       "    <tr>\n",
       "      <th>51782</th>\n",
       "      <td>22cd44b783c347455cae159ba560d1d3eeaedc12c06de8...</td>\n",
       "      <td>db</td>\n",
       "      <td>e9e4e8cc2317bb4d927a1bbaaf49315cba90caacb8d6d0...</td>\n",
       "    </tr>\n",
       "    <tr>\n",
       "      <th>8687</th>\n",
       "      <td>a25db459a097f3b6aa173c3ed5dcd8377f2d342c591d6b...</td>\n",
       "      <td>mc</td>\n",
       "      <td>9af5ef30875eb2b36e4c8bb5f9e3e5d64e1cbaca6e8cdc...</td>\n",
       "    </tr>\n",
       "    <tr>\n",
       "      <th>14493</th>\n",
       "      <td>2c52c868f36f3920d201fddda80c8062998ebc07ee2b85...</td>\n",
       "      <td>db</td>\n",
       "      <td>732dc32fa2ed1185f31fb838b6cd1b27678c9036e14494...</td>\n",
       "    </tr>\n",
       "    <tr>\n",
       "      <th>5676</th>\n",
       "      <td>af42b5e3e0eb334d38619733586d78d1414f6549f24d31...</td>\n",
       "      <td>db</td>\n",
       "      <td>8aadfa2e8de858f3a0a65f5dd63a068bfe8b370fcb29e0...</td>\n",
       "    </tr>\n",
       "    <tr>\n",
       "      <th>8256</th>\n",
       "      <td>72b69d6cf010e618d6079185f9ad7dbfb01f2037526ac3...</td>\n",
       "      <td>db</td>\n",
       "      <td>a9065771b03b0a74ff0d1efc20e2f0e6aff473d2586535...</td>\n",
       "    </tr>\n",
       "  </tbody>\n",
       "</table>\n",
       "<p>18836 rows × 3 columns</p>\n",
       "</div>"
      ],
      "text/plain": [
       "                                                      um rpctype  \\\n",
       "9569   a9bca512bdab23f61082871fb52879f5bec93ae016d171...      db   \n",
       "54077  dbff4a8d66628b09dde3af64cae526956a8a9c50764c22...      db   \n",
       "46087  384c1fd74efa0dce3dc948ea67b088115573f9f76792be...      db   \n",
       "45632  9855396e8b703a93c92bbac04ff76d075a3ad65d93aafa...      db   \n",
       "41473  cb42fd30d288b40b216f3af663233048108b5f9ab5142f...      db   \n",
       "...                                                  ...     ...   \n",
       "51782  22cd44b783c347455cae159ba560d1d3eeaedc12c06de8...      db   \n",
       "8687   a25db459a097f3b6aa173c3ed5dcd8377f2d342c591d6b...      mc   \n",
       "14493  2c52c868f36f3920d201fddda80c8062998ebc07ee2b85...      db   \n",
       "5676   af42b5e3e0eb334d38619733586d78d1414f6549f24d31...      db   \n",
       "8256   72b69d6cf010e618d6079185f9ad7dbfb01f2037526ac3...      db   \n",
       "\n",
       "                                                      dm  \n",
       "9569   81016af481ed9a71ca7d73a7b97a173285f090c283c9ab...  \n",
       "54077  f84178b679edeaa35b7fdd9e74efdb61299d1808332ec5...  \n",
       "46087  4eb0e7dbd4ae7e882f7ac5b3f9d08fb550fbd00e86befb...  \n",
       "45632  174ef811f1aacb84f59c7da714548f3f2fe93a49631219...  \n",
       "41473  030589c81600c217f5ca9708f0b5cad5bc7caf2d2b924a...  \n",
       "...                                                  ...  \n",
       "51782  e9e4e8cc2317bb4d927a1bbaaf49315cba90caacb8d6d0...  \n",
       "8687   9af5ef30875eb2b36e4c8bb5f9e3e5d64e1cbaca6e8cdc...  \n",
       "14493  732dc32fa2ed1185f31fb838b6cd1b27678c9036e14494...  \n",
       "5676   8aadfa2e8de858f3a0a65f5dd63a068bfe8b370fcb29e0...  \n",
       "8256   a9065771b03b0a74ff0d1efc20e2f0e6aff473d2586535...  \n",
       "\n",
       "[18836 rows x 3 columns]"
      ]
     },
     "execution_count": 6,
     "metadata": {},
     "output_type": "execute_result"
    }
   ],
   "source": [
    "baseline_df = pd.concat(baseline)\n",
    "baseline_df = baseline_df.drop_duplicates()\n",
    "baseline_df"
   ]
  },
  {
   "cell_type": "code",
   "execution_count": 7,
   "id": "fd4a5c7a",
   "metadata": {
    "scrolled": true,
    "pycharm": {
     "name": "#%%\n"
    }
   },
   "outputs": [
    {
     "name": "stdout",
     "output_type": "stream",
     "text": [
      "the number of items to add to the train set is:  16723\n"
     ]
    }
   ],
   "source": [
    "n_train_items = int(len(df)*0.64)\n",
    "n_items_to_add = n_train_items - len(baseline_df)\n",
    "print(\"the number of items to add to the train set is: \",n_items_to_add)"
   ]
  },
  {
   "cell_type": "code",
   "execution_count": 8,
   "id": "3209b3af",
   "metadata": {
    "pycharm": {
     "name": "#%%\n"
    }
   },
   "outputs": [
    {
     "data": {
      "text/html": [
       "<div>\n",
       "<style scoped>\n",
       "    .dataframe tbody tr th:only-of-type {\n",
       "        vertical-align: middle;\n",
       "    }\n",
       "\n",
       "    .dataframe tbody tr th {\n",
       "        vertical-align: top;\n",
       "    }\n",
       "\n",
       "    .dataframe thead th {\n",
       "        text-align: right;\n",
       "    }\n",
       "</style>\n",
       "<table border=\"1\" class=\"dataframe\">\n",
       "  <thead>\n",
       "    <tr style=\"text-align: right;\">\n",
       "      <th></th>\n",
       "      <th>um</th>\n",
       "      <th>rpctype</th>\n",
       "      <th>dm</th>\n",
       "    </tr>\n",
       "  </thead>\n",
       "  <tbody>\n",
       "    <tr>\n",
       "      <th>9</th>\n",
       "      <td>75e56c8fbb9336eb4dd40f5f609d5344203d374d73fd0b...</td>\n",
       "      <td>userDefined</td>\n",
       "      <td>75e56c8fbb9336eb4dd40f5f609d5344203d374d73fd0b...</td>\n",
       "    </tr>\n",
       "    <tr>\n",
       "      <th>11</th>\n",
       "      <td>4ab265f54516248ee8873be7d6441912456ce17e84f399...</td>\n",
       "      <td>rpc</td>\n",
       "      <td>091794afdcf1abbaf62404337ff72a38df96c5d8af8bd0...</td>\n",
       "    </tr>\n",
       "    <tr>\n",
       "      <th>12</th>\n",
       "      <td>4ab265f54516248ee8873be7d6441912456ce17e84f399...</td>\n",
       "      <td>http</td>\n",
       "      <td>091794afdcf1abbaf62404337ff72a38df96c5d8af8bd0...</td>\n",
       "    </tr>\n",
       "    <tr>\n",
       "      <th>19</th>\n",
       "      <td>75e56c8fbb9336eb4dd40f5f609d5344203d374d73fd0b...</td>\n",
       "      <td>rpc</td>\n",
       "      <td>e6c95bef37d936ebb375bf135ded88c96eb9257a1d3d9d...</td>\n",
       "    </tr>\n",
       "    <tr>\n",
       "      <th>20</th>\n",
       "      <td>4ab265f54516248ee8873be7d6441912456ce17e84f399...</td>\n",
       "      <td>rpc</td>\n",
       "      <td>5cca70246befb1f4c9546d2912b9419dee54439218efa5...</td>\n",
       "    </tr>\n",
       "    <tr>\n",
       "      <th>...</th>\n",
       "      <td>...</td>\n",
       "      <td>...</td>\n",
       "      <td>...</td>\n",
       "    </tr>\n",
       "    <tr>\n",
       "      <th>55556</th>\n",
       "      <td>eb7ce54148779f812f2c7f07f18ef4ed269043b9f6b959...</td>\n",
       "      <td>db</td>\n",
       "      <td>8c808c45be9c3bebbfe880573b4b62c01da88f4d29edab...</td>\n",
       "    </tr>\n",
       "    <tr>\n",
       "      <th>55557</th>\n",
       "      <td>eb7ce54148779f812f2c7f07f18ef4ed269043b9f6b959...</td>\n",
       "      <td>db</td>\n",
       "      <td>db984ae0fed93d22fbcca65eb1ec1b25b4faa71167c580...</td>\n",
       "    </tr>\n",
       "    <tr>\n",
       "      <th>55558</th>\n",
       "      <td>24601dd8b36f856eb0a4d759866f475bc62cf843ffe092...</td>\n",
       "      <td>rpc</td>\n",
       "      <td>1224ab4a5244545b7333a290aaccc95e49f2a793457d21...</td>\n",
       "    </tr>\n",
       "    <tr>\n",
       "      <th>55560</th>\n",
       "      <td>5d887bdb9fd24cea365fb7ce018526df1d39b11630081b...</td>\n",
       "      <td>db</td>\n",
       "      <td>8ee7c139f721a23915ca012d2518eddbdc7ad1ced8b3da...</td>\n",
       "    </tr>\n",
       "    <tr>\n",
       "      <th>55561</th>\n",
       "      <td>7a1c153f334a63ae491e7fbf303162576d0894933eab3d...</td>\n",
       "      <td>db</td>\n",
       "      <td>608da6f2e6cca140f117b24b8e2e7a69d116bd7b0aa6c4...</td>\n",
       "    </tr>\n",
       "  </tbody>\n",
       "</table>\n",
       "<p>36726 rows × 3 columns</p>\n",
       "</div>"
      ],
      "text/plain": [
       "                                                      um      rpctype  \\\n",
       "9      75e56c8fbb9336eb4dd40f5f609d5344203d374d73fd0b...  userDefined   \n",
       "11     4ab265f54516248ee8873be7d6441912456ce17e84f399...          rpc   \n",
       "12     4ab265f54516248ee8873be7d6441912456ce17e84f399...         http   \n",
       "19     75e56c8fbb9336eb4dd40f5f609d5344203d374d73fd0b...          rpc   \n",
       "20     4ab265f54516248ee8873be7d6441912456ce17e84f399...          rpc   \n",
       "...                                                  ...          ...   \n",
       "55556  eb7ce54148779f812f2c7f07f18ef4ed269043b9f6b959...           db   \n",
       "55557  eb7ce54148779f812f2c7f07f18ef4ed269043b9f6b959...           db   \n",
       "55558  24601dd8b36f856eb0a4d759866f475bc62cf843ffe092...          rpc   \n",
       "55560  5d887bdb9fd24cea365fb7ce018526df1d39b11630081b...           db   \n",
       "55561  7a1c153f334a63ae491e7fbf303162576d0894933eab3d...           db   \n",
       "\n",
       "                                                      dm  \n",
       "9      75e56c8fbb9336eb4dd40f5f609d5344203d374d73fd0b...  \n",
       "11     091794afdcf1abbaf62404337ff72a38df96c5d8af8bd0...  \n",
       "12     091794afdcf1abbaf62404337ff72a38df96c5d8af8bd0...  \n",
       "19     e6c95bef37d936ebb375bf135ded88c96eb9257a1d3d9d...  \n",
       "20     5cca70246befb1f4c9546d2912b9419dee54439218efa5...  \n",
       "...                                                  ...  \n",
       "55556  8c808c45be9c3bebbfe880573b4b62c01da88f4d29edab...  \n",
       "55557  db984ae0fed93d22fbcca65eb1ec1b25b4faa71167c580...  \n",
       "55558  1224ab4a5244545b7333a290aaccc95e49f2a793457d21...  \n",
       "55560  8ee7c139f721a23915ca012d2518eddbdc7ad1ced8b3da...  \n",
       "55561  608da6f2e6cca140f117b24b8e2e7a69d116bd7b0aa6c4...  \n",
       "\n",
       "[36726 rows x 3 columns]"
      ]
     },
     "execution_count": 8,
     "metadata": {},
     "output_type": "execute_result"
    }
   ],
   "source": [
    "not_baseline_df = df.merge(baseline_df, how='outer', indicator=True).loc[lambda x : x['_merge']=='left_only'].drop('_merge',axis= 1)\n",
    "not_baseline_df"
   ]
  },
  {
   "cell_type": "code",
   "execution_count": 9,
   "id": "66631598",
   "metadata": {
    "pycharm": {
     "name": "#%%\n"
    }
   },
   "outputs": [
    {
     "data": {
      "text/html": [
       "<div>\n",
       "<style scoped>\n",
       "    .dataframe tbody tr th:only-of-type {\n",
       "        vertical-align: middle;\n",
       "    }\n",
       "\n",
       "    .dataframe tbody tr th {\n",
       "        vertical-align: top;\n",
       "    }\n",
       "\n",
       "    .dataframe thead th {\n",
       "        text-align: right;\n",
       "    }\n",
       "</style>\n",
       "<table border=\"1\" class=\"dataframe\">\n",
       "  <thead>\n",
       "    <tr style=\"text-align: right;\">\n",
       "      <th></th>\n",
       "      <th>um</th>\n",
       "      <th>rpctype</th>\n",
       "      <th>dm</th>\n",
       "    </tr>\n",
       "  </thead>\n",
       "  <tbody>\n",
       "    <tr>\n",
       "      <th>9569</th>\n",
       "      <td>a9bca512bdab23f61082871fb52879f5bec93ae016d171...</td>\n",
       "      <td>db</td>\n",
       "      <td>81016af481ed9a71ca7d73a7b97a173285f090c283c9ab...</td>\n",
       "    </tr>\n",
       "    <tr>\n",
       "      <th>54077</th>\n",
       "      <td>dbff4a8d66628b09dde3af64cae526956a8a9c50764c22...</td>\n",
       "      <td>db</td>\n",
       "      <td>f84178b679edeaa35b7fdd9e74efdb61299d1808332ec5...</td>\n",
       "    </tr>\n",
       "    <tr>\n",
       "      <th>46087</th>\n",
       "      <td>384c1fd74efa0dce3dc948ea67b088115573f9f76792be...</td>\n",
       "      <td>db</td>\n",
       "      <td>4eb0e7dbd4ae7e882f7ac5b3f9d08fb550fbd00e86befb...</td>\n",
       "    </tr>\n",
       "    <tr>\n",
       "      <th>45632</th>\n",
       "      <td>9855396e8b703a93c92bbac04ff76d075a3ad65d93aafa...</td>\n",
       "      <td>db</td>\n",
       "      <td>174ef811f1aacb84f59c7da714548f3f2fe93a49631219...</td>\n",
       "    </tr>\n",
       "    <tr>\n",
       "      <th>41473</th>\n",
       "      <td>cb42fd30d288b40b216f3af663233048108b5f9ab5142f...</td>\n",
       "      <td>db</td>\n",
       "      <td>030589c81600c217f5ca9708f0b5cad5bc7caf2d2b924a...</td>\n",
       "    </tr>\n",
       "    <tr>\n",
       "      <th>...</th>\n",
       "      <td>...</td>\n",
       "      <td>...</td>\n",
       "      <td>...</td>\n",
       "    </tr>\n",
       "    <tr>\n",
       "      <th>38733</th>\n",
       "      <td>9a3ef4d24dd4e7fb8baaa9e30aea1395caa50f583630f6...</td>\n",
       "      <td>db</td>\n",
       "      <td>75d045548ca857bfe4d44ded6694eaccf537b7dd9a16ed...</td>\n",
       "    </tr>\n",
       "    <tr>\n",
       "      <th>8493</th>\n",
       "      <td>fa65024b92ecbd16fe77dcca3c043766f68e231ac6725b...</td>\n",
       "      <td>mc</td>\n",
       "      <td>d09611da4823f4bfdb340db4e8d94161aa789093bf667e...</td>\n",
       "    </tr>\n",
       "    <tr>\n",
       "      <th>23506</th>\n",
       "      <td>4f1bff38f31da15de0b1dd0854f27c4a1555494a704b4c...</td>\n",
       "      <td>db</td>\n",
       "      <td>54cba08fa6715ad3afbf34ef143e706664a3400765da69...</td>\n",
       "    </tr>\n",
       "    <tr>\n",
       "      <th>18754</th>\n",
       "      <td>4ba235f4b254662c470d96d1d2dffcc14633858798fb2c...</td>\n",
       "      <td>db</td>\n",
       "      <td>a59c5037948c6f74969cd58fa99f40b03b593b486da32e...</td>\n",
       "    </tr>\n",
       "    <tr>\n",
       "      <th>31370</th>\n",
       "      <td>bf4db78123a0031936185b2f2387d4bec7212905459eed...</td>\n",
       "      <td>db</td>\n",
       "      <td>5bcffa6d5cf1b030b52205b3ea5624cb3913674f409f71...</td>\n",
       "    </tr>\n",
       "  </tbody>\n",
       "</table>\n",
       "<p>35559 rows × 3 columns</p>\n",
       "</div>"
      ],
      "text/plain": [
       "                                                      um rpctype  \\\n",
       "9569   a9bca512bdab23f61082871fb52879f5bec93ae016d171...      db   \n",
       "54077  dbff4a8d66628b09dde3af64cae526956a8a9c50764c22...      db   \n",
       "46087  384c1fd74efa0dce3dc948ea67b088115573f9f76792be...      db   \n",
       "45632  9855396e8b703a93c92bbac04ff76d075a3ad65d93aafa...      db   \n",
       "41473  cb42fd30d288b40b216f3af663233048108b5f9ab5142f...      db   \n",
       "...                                                  ...     ...   \n",
       "38733  9a3ef4d24dd4e7fb8baaa9e30aea1395caa50f583630f6...      db   \n",
       "8493   fa65024b92ecbd16fe77dcca3c043766f68e231ac6725b...      mc   \n",
       "23506  4f1bff38f31da15de0b1dd0854f27c4a1555494a704b4c...      db   \n",
       "18754  4ba235f4b254662c470d96d1d2dffcc14633858798fb2c...      db   \n",
       "31370  bf4db78123a0031936185b2f2387d4bec7212905459eed...      db   \n",
       "\n",
       "                                                      dm  \n",
       "9569   81016af481ed9a71ca7d73a7b97a173285f090c283c9ab...  \n",
       "54077  f84178b679edeaa35b7fdd9e74efdb61299d1808332ec5...  \n",
       "46087  4eb0e7dbd4ae7e882f7ac5b3f9d08fb550fbd00e86befb...  \n",
       "45632  174ef811f1aacb84f59c7da714548f3f2fe93a49631219...  \n",
       "41473  030589c81600c217f5ca9708f0b5cad5bc7caf2d2b924a...  \n",
       "...                                                  ...  \n",
       "38733  75d045548ca857bfe4d44ded6694eaccf537b7dd9a16ed...  \n",
       "8493   d09611da4823f4bfdb340db4e8d94161aa789093bf667e...  \n",
       "23506  54cba08fa6715ad3afbf34ef143e706664a3400765da69...  \n",
       "18754  a59c5037948c6f74969cd58fa99f40b03b593b486da32e...  \n",
       "31370  5bcffa6d5cf1b030b52205b3ea5624cb3913674f409f71...  \n",
       "\n",
       "[35559 rows x 3 columns]"
      ]
     },
     "execution_count": 9,
     "metadata": {},
     "output_type": "execute_result"
    }
   ],
   "source": [
    "not_baseline_train = not_baseline_df.sample(n_items_to_add,random_state = seed)\n",
    "train_df = pd.concat([baseline_df, not_baseline_train])\n",
    "train_df"
   ]
  },
  {
   "cell_type": "code",
   "execution_count": 10,
   "id": "964782e3",
   "metadata": {
    "pycharm": {
     "name": "#%%\n"
    }
   },
   "outputs": [],
   "source": [
    "remaining_df = not_baseline_df.drop(not_baseline_train.index) "
   ]
  },
  {
   "cell_type": "code",
   "execution_count": 11,
   "id": "4e7d300f",
   "metadata": {
    "pycharm": {
     "name": "#%%\n"
    }
   },
   "outputs": [
    {
     "data": {
      "text/html": [
       "<div>\n",
       "<style scoped>\n",
       "    .dataframe tbody tr th:only-of-type {\n",
       "        vertical-align: middle;\n",
       "    }\n",
       "\n",
       "    .dataframe tbody tr th {\n",
       "        vertical-align: top;\n",
       "    }\n",
       "\n",
       "    .dataframe thead th {\n",
       "        text-align: right;\n",
       "    }\n",
       "</style>\n",
       "<table border=\"1\" class=\"dataframe\">\n",
       "  <thead>\n",
       "    <tr style=\"text-align: right;\">\n",
       "      <th></th>\n",
       "      <th>um</th>\n",
       "      <th>rpctype</th>\n",
       "      <th>dm</th>\n",
       "    </tr>\n",
       "  </thead>\n",
       "  <tbody>\n",
       "    <tr>\n",
       "      <th>29971</th>\n",
       "      <td>756e3ec1c56c8ed1603a812100d4c8be9c976bd4fe10c3...</td>\n",
       "      <td>db</td>\n",
       "      <td>acf1258b6cea9e48531319d0ab067f92ce7e866be0c4cf...</td>\n",
       "    </tr>\n",
       "    <tr>\n",
       "      <th>46619</th>\n",
       "      <td>ca0739d740b8c9a93faf2608c6c4316c70667d54aab234...</td>\n",
       "      <td>db</td>\n",
       "      <td>c5f7c1abbb93bbb4e2432d7aae6995cd36c17d81acbaa1...</td>\n",
       "    </tr>\n",
       "    <tr>\n",
       "      <th>48957</th>\n",
       "      <td>c5d26caa5424ce9de273434ab8e6b8aa5fc1a9db0e288b...</td>\n",
       "      <td>mq</td>\n",
       "      <td>0de03689ba0ad895ba88a1084f5f3cf8b2d47d10f5cbcf...</td>\n",
       "    </tr>\n",
       "    <tr>\n",
       "      <th>41462</th>\n",
       "      <td>4e628fe17f7280bec3f9bdb79648816fe1e0c8c7e98f42...</td>\n",
       "      <td>db</td>\n",
       "      <td>a85fdeb0c1b0f3f433bcba17e20b42e8b5f88b6c988d4d...</td>\n",
       "    </tr>\n",
       "    <tr>\n",
       "      <th>28137</th>\n",
       "      <td>13c0bfe2c9b8ffb34d5dcae15443cfebba3b86dcb588a1...</td>\n",
       "      <td>db</td>\n",
       "      <td>a2b3ac32a3dd52576c3ad27c0190e5f82875547d000b42...</td>\n",
       "    </tr>\n",
       "    <tr>\n",
       "      <th>...</th>\n",
       "      <td>...</td>\n",
       "      <td>...</td>\n",
       "      <td>...</td>\n",
       "    </tr>\n",
       "    <tr>\n",
       "      <th>27763</th>\n",
       "      <td>3a0f96dcfd3152e21538cb4a877dc81680f8a0b7c73355...</td>\n",
       "      <td>rpc</td>\n",
       "      <td>77184676bf19eb20bcdb7ace1778ae3f4d6d81498feb39...</td>\n",
       "    </tr>\n",
       "    <tr>\n",
       "      <th>53746</th>\n",
       "      <td>e310606888ea1e1a32da785c17ca8c8c37c95df5197b9b...</td>\n",
       "      <td>db</td>\n",
       "      <td>60049aba8b1ed2a3784574e1c1325e7a78d233205f908e...</td>\n",
       "    </tr>\n",
       "    <tr>\n",
       "      <th>52502</th>\n",
       "      <td>4ab265f54516248ee8873be7d6441912456ce17e84f399...</td>\n",
       "      <td>mq</td>\n",
       "      <td>515691d0421dedd130a5d03dae7fe44b2167841d679502...</td>\n",
       "    </tr>\n",
       "    <tr>\n",
       "      <th>14046</th>\n",
       "      <td>4ba235f4b254662c470d96d1d2dffcc14633858798fb2c...</td>\n",
       "      <td>db</td>\n",
       "      <td>47aaa290cf211479a7b4afa11f671cba891e234a232037...</td>\n",
       "    </tr>\n",
       "    <tr>\n",
       "      <th>52191</th>\n",
       "      <td>1efeaa8c6ee7899fecd33c8b0ed024154adcc03c7899c1...</td>\n",
       "      <td>rpc</td>\n",
       "      <td>aec101bd896fe3986f0b0c24d494cf70093d3de404fbe1...</td>\n",
       "    </tr>\n",
       "  </tbody>\n",
       "</table>\n",
       "<p>8801 rows × 3 columns</p>\n",
       "</div>"
      ],
      "text/plain": [
       "                                                      um rpctype  \\\n",
       "29971  756e3ec1c56c8ed1603a812100d4c8be9c976bd4fe10c3...      db   \n",
       "46619  ca0739d740b8c9a93faf2608c6c4316c70667d54aab234...      db   \n",
       "48957  c5d26caa5424ce9de273434ab8e6b8aa5fc1a9db0e288b...      mq   \n",
       "41462  4e628fe17f7280bec3f9bdb79648816fe1e0c8c7e98f42...      db   \n",
       "28137  13c0bfe2c9b8ffb34d5dcae15443cfebba3b86dcb588a1...      db   \n",
       "...                                                  ...     ...   \n",
       "27763  3a0f96dcfd3152e21538cb4a877dc81680f8a0b7c73355...     rpc   \n",
       "53746  e310606888ea1e1a32da785c17ca8c8c37c95df5197b9b...      db   \n",
       "52502  4ab265f54516248ee8873be7d6441912456ce17e84f399...      mq   \n",
       "14046  4ba235f4b254662c470d96d1d2dffcc14633858798fb2c...      db   \n",
       "52191  1efeaa8c6ee7899fecd33c8b0ed024154adcc03c7899c1...     rpc   \n",
       "\n",
       "                                                      dm  \n",
       "29971  acf1258b6cea9e48531319d0ab067f92ce7e866be0c4cf...  \n",
       "46619  c5f7c1abbb93bbb4e2432d7aae6995cd36c17d81acbaa1...  \n",
       "48957  0de03689ba0ad895ba88a1084f5f3cf8b2d47d10f5cbcf...  \n",
       "41462  a85fdeb0c1b0f3f433bcba17e20b42e8b5f88b6c988d4d...  \n",
       "28137  a2b3ac32a3dd52576c3ad27c0190e5f82875547d000b42...  \n",
       "...                                                  ...  \n",
       "27763  77184676bf19eb20bcdb7ace1778ae3f4d6d81498feb39...  \n",
       "53746  60049aba8b1ed2a3784574e1c1325e7a78d233205f908e...  \n",
       "52502  515691d0421dedd130a5d03dae7fe44b2167841d679502...  \n",
       "14046  47aaa290cf211479a7b4afa11f671cba891e234a232037...  \n",
       "52191  aec101bd896fe3986f0b0c24d494cf70093d3de404fbe1...  \n",
       "\n",
       "[8801 rows x 3 columns]"
      ]
     },
     "execution_count": 11,
     "metadata": {},
     "output_type": "execute_result"
    }
   ],
   "source": [
    "validation_df = remaining_df.sample(frac = 0.44, random_state = seed)\n",
    "validation_df"
   ]
  },
  {
   "cell_type": "code",
   "execution_count": 12,
   "id": "497006bd",
   "metadata": {
    "pycharm": {
     "name": "#%%\n"
    }
   },
   "outputs": [
    {
     "data": {
      "text/html": [
       "<div>\n",
       "<style scoped>\n",
       "    .dataframe tbody tr th:only-of-type {\n",
       "        vertical-align: middle;\n",
       "    }\n",
       "\n",
       "    .dataframe tbody tr th {\n",
       "        vertical-align: top;\n",
       "    }\n",
       "\n",
       "    .dataframe thead th {\n",
       "        text-align: right;\n",
       "    }\n",
       "</style>\n",
       "<table border=\"1\" class=\"dataframe\">\n",
       "  <thead>\n",
       "    <tr style=\"text-align: right;\">\n",
       "      <th></th>\n",
       "      <th>um</th>\n",
       "      <th>rpctype</th>\n",
       "      <th>dm</th>\n",
       "    </tr>\n",
       "  </thead>\n",
       "  <tbody>\n",
       "    <tr>\n",
       "      <th>24</th>\n",
       "      <td>4ab265f54516248ee8873be7d6441912456ce17e84f399...</td>\n",
       "      <td>userDefined</td>\n",
       "      <td>4ab265f54516248ee8873be7d6441912456ce17e84f399...</td>\n",
       "    </tr>\n",
       "    <tr>\n",
       "      <th>91</th>\n",
       "      <td>377f1c6e2b6c3315132d0d8dbd721dc01630e5919f39b0...</td>\n",
       "      <td>mc</td>\n",
       "      <td>9cc1113009ea0ec1a4cf99fa6984bd49be8dd026be4292...</td>\n",
       "    </tr>\n",
       "    <tr>\n",
       "      <th>92</th>\n",
       "      <td>377f1c6e2b6c3315132d0d8dbd721dc01630e5919f39b0...</td>\n",
       "      <td>mc</td>\n",
       "      <td>e7987964f53ed556a18716264f61e556f24eae462560e9...</td>\n",
       "    </tr>\n",
       "    <tr>\n",
       "      <th>140</th>\n",
       "      <td>63b8a25a4a9f80c7508c0db0d163af6d9e6c0746c9b7e2...</td>\n",
       "      <td>mc</td>\n",
       "      <td>9cc1113009ea0ec1a4cf99fa6984bd49be8dd026be4292...</td>\n",
       "    </tr>\n",
       "    <tr>\n",
       "      <th>142</th>\n",
       "      <td>63b8a25a4a9f80c7508c0db0d163af6d9e6c0746c9b7e2...</td>\n",
       "      <td>mc</td>\n",
       "      <td>e7987964f53ed556a18716264f61e556f24eae462560e9...</td>\n",
       "    </tr>\n",
       "    <tr>\n",
       "      <th>...</th>\n",
       "      <td>...</td>\n",
       "      <td>...</td>\n",
       "      <td>...</td>\n",
       "    </tr>\n",
       "    <tr>\n",
       "      <th>55541</th>\n",
       "      <td>bc529ee59852e87efa2e41286d68dc59c973bbf8131324...</td>\n",
       "      <td>rpc</td>\n",
       "      <td>99f2e7b501f50db9b4089242a5d3e1aba334c32e0c718b...</td>\n",
       "    </tr>\n",
       "    <tr>\n",
       "      <th>55552</th>\n",
       "      <td>0e196e772ff517533a7396537ab970729fbbc9ae2f5685...</td>\n",
       "      <td>db</td>\n",
       "      <td>dfc72b449a65283e6038992b83a9fd2aef4a62444f1250...</td>\n",
       "    </tr>\n",
       "    <tr>\n",
       "      <th>55554</th>\n",
       "      <td>8c668296f4ee5134867e07e2196acd9e2f76181bc6983a...</td>\n",
       "      <td>db</td>\n",
       "      <td>1ef3e9820a0cd97ef806a682fa6484d44758aaa46290ba...</td>\n",
       "    </tr>\n",
       "    <tr>\n",
       "      <th>55555</th>\n",
       "      <td>19612380d038043e051cf922650c420311bc292cdc32c5...</td>\n",
       "      <td>db</td>\n",
       "      <td>f954144ee13a1bf251ef73019f1d8dfe4e1a2350ca02a1...</td>\n",
       "    </tr>\n",
       "    <tr>\n",
       "      <th>55558</th>\n",
       "      <td>24601dd8b36f856eb0a4d759866f475bc62cf843ffe092...</td>\n",
       "      <td>rpc</td>\n",
       "      <td>1224ab4a5244545b7333a290aaccc95e49f2a793457d21...</td>\n",
       "    </tr>\n",
       "  </tbody>\n",
       "</table>\n",
       "<p>11202 rows × 3 columns</p>\n",
       "</div>"
      ],
      "text/plain": [
       "                                                      um      rpctype  \\\n",
       "24     4ab265f54516248ee8873be7d6441912456ce17e84f399...  userDefined   \n",
       "91     377f1c6e2b6c3315132d0d8dbd721dc01630e5919f39b0...           mc   \n",
       "92     377f1c6e2b6c3315132d0d8dbd721dc01630e5919f39b0...           mc   \n",
       "140    63b8a25a4a9f80c7508c0db0d163af6d9e6c0746c9b7e2...           mc   \n",
       "142    63b8a25a4a9f80c7508c0db0d163af6d9e6c0746c9b7e2...           mc   \n",
       "...                                                  ...          ...   \n",
       "55541  bc529ee59852e87efa2e41286d68dc59c973bbf8131324...          rpc   \n",
       "55552  0e196e772ff517533a7396537ab970729fbbc9ae2f5685...           db   \n",
       "55554  8c668296f4ee5134867e07e2196acd9e2f76181bc6983a...           db   \n",
       "55555  19612380d038043e051cf922650c420311bc292cdc32c5...           db   \n",
       "55558  24601dd8b36f856eb0a4d759866f475bc62cf843ffe092...          rpc   \n",
       "\n",
       "                                                      dm  \n",
       "24     4ab265f54516248ee8873be7d6441912456ce17e84f399...  \n",
       "91     9cc1113009ea0ec1a4cf99fa6984bd49be8dd026be4292...  \n",
       "92     e7987964f53ed556a18716264f61e556f24eae462560e9...  \n",
       "140    9cc1113009ea0ec1a4cf99fa6984bd49be8dd026be4292...  \n",
       "142    e7987964f53ed556a18716264f61e556f24eae462560e9...  \n",
       "...                                                  ...  \n",
       "55541  99f2e7b501f50db9b4089242a5d3e1aba334c32e0c718b...  \n",
       "55552  dfc72b449a65283e6038992b83a9fd2aef4a62444f1250...  \n",
       "55554  1ef3e9820a0cd97ef806a682fa6484d44758aaa46290ba...  \n",
       "55555  f954144ee13a1bf251ef73019f1d8dfe4e1a2350ca02a1...  \n",
       "55558  1224ab4a5244545b7333a290aaccc95e49f2a793457d21...  \n",
       "\n",
       "[11202 rows x 3 columns]"
      ]
     },
     "execution_count": 12,
     "metadata": {},
     "output_type": "execute_result"
    }
   ],
   "source": [
    "test_df = remaining_df.drop(validation_df.index)  # drop the sampled rows to get the second DataFram\n",
    "test_df"
   ]
  },
  {
   "cell_type": "markdown",
   "id": "0dc93af5",
   "metadata": {
    "pycharm": {
     "name": "#%% md\n"
    }
   },
   "source": [
    "Transductive checks"
   ]
  },
  {
   "cell_type": "code",
   "execution_count": 13,
   "id": "cb94b1ad",
   "metadata": {
    "pycharm": {
     "name": "#%%\n"
    }
   },
   "outputs": [],
   "source": [
    "train_entities = set(train_df['dm']) or set(train_df['um'])\n",
    "valid_entities = set(validation_df['dm']) or set(validation_df['um'])\n",
    "test_entities = set(test_df['dm']) or set(test_df['um'])"
   ]
  },
  {
   "cell_type": "code",
   "execution_count": 14,
   "id": "1f03c47c",
   "metadata": {
    "pycharm": {
     "name": "#%%\n"
    }
   },
   "outputs": [],
   "source": [
    "assert(valid_entities.issubset(train_entities))"
   ]
  },
  {
   "cell_type": "code",
   "execution_count": 15,
   "id": "c714755d",
   "metadata": {
    "pycharm": {
     "name": "#%%\n"
    }
   },
   "outputs": [],
   "source": [
    "assert(test_entities.issubset(train_entities))"
   ]
  },
  {
   "cell_type": "code",
   "execution_count": 16,
   "id": "76112c75",
   "metadata": {
    "pycharm": {
     "name": "#%%\n"
    }
   },
   "outputs": [],
   "source": [
    "train_relations = set(train_df['rpctype'])\n",
    "valid_relations = set(validation_df['rpctype'])\n",
    "test_relations = set(test_df['rpctype'])"
   ]
  },
  {
   "cell_type": "code",
   "execution_count": 17,
   "id": "8298a4ca",
   "metadata": {
    "pycharm": {
     "name": "#%%\n"
    }
   },
   "outputs": [],
   "source": [
    "assert(valid_relations.issubset(train_relations))"
   ]
  },
  {
   "cell_type": "code",
   "execution_count": 18,
   "id": "047b42bb",
   "metadata": {
    "pycharm": {
     "name": "#%%\n"
    }
   },
   "outputs": [],
   "source": [
    "assert(test_relations.issubset(train_relations))"
   ]
  },
  {
   "cell_type": "markdown",
   "id": "d266a131",
   "metadata": {
    "pycharm": {
     "name": "#%% md\n"
    }
   },
   "source": [
    "Check to see if there is test leakage"
   ]
  },
  {
   "cell_type": "code",
   "execution_count": 19,
   "id": "aa8f0d51",
   "metadata": {
    "pycharm": {
     "name": "#%%\n"
    }
   },
   "outputs": [],
   "source": [
    "assert(0==len(pd.merge(train_df, validation_df)))"
   ]
  },
  {
   "cell_type": "code",
   "execution_count": 20,
   "id": "1c3f8b28",
   "metadata": {
    "pycharm": {
     "name": "#%%\n"
    }
   },
   "outputs": [],
   "source": [
    "assert(0==len(pd.merge(train_df, test_df)))"
   ]
  },
  {
   "cell_type": "code",
   "execution_count": 21,
   "id": "223e1658",
   "metadata": {
    "pycharm": {
     "name": "#%%\n"
    }
   },
   "outputs": [],
   "source": [
    "assert(0==len(pd.merge(test_df, validation_df)))"
   ]
  },
  {
   "cell_type": "code",
   "execution_count": 22,
   "id": "932ca51a",
   "metadata": {
    "pycharm": {
     "name": "#%%\n"
    }
   },
   "outputs": [],
   "source": [
    "def create_triplets(df):\n",
    "    triplets = []\n",
    "    for i in range(len(df)):\n",
    "        head = df.iloc[i]['dm']\n",
    "        tail = df.iloc[i]['um']\n",
    "        rel = df.iloc[i]['rpctype']\n",
    "        triplets.append([head,rel,tail])\n",
    "    return triplets"
   ]
  },
  {
   "cell_type": "code",
   "execution_count": 23,
   "id": "c3e84242",
   "metadata": {
    "pycharm": {
     "name": "#%%\n"
    }
   },
   "outputs": [],
   "source": [
    "import asposecells\n",
    "import jpype\n",
    "jpype.startJVM()\n",
    "\n",
    "from asposecells.api import Workbook, FileFormatType\n",
    "\n",
    "def create_tsv(triplets, file_name):\n",
    "\n",
    "\n",
    "    # Create Workbook object.\n",
    "    workbook = Workbook(FileFormatType.TSV)\n",
    "\n",
    "    # Access the first worksheet of the workbook.\n",
    "    worksheet = workbook.getWorksheets().get(0)\n",
    "\n",
    "    # Get the desired cell(s) of the worksheet and input the value into the cell(s).\n",
    "\n",
    "\n",
    "    i = 1\n",
    "    for elem in triplets: \n",
    "        worksheet.getCells().get(\"A\"+str(i)).putValue(elem[0])\n",
    "        worksheet.getCells().get(\"B\"+str(i)).putValue(elem[1])\n",
    "        worksheet.getCells().get(\"C\"+str(i)).putValue(elem[2])\n",
    "        i+=1\n",
    "\n",
    "\n",
    "    # Save the workbook as TSV file.\n",
    "    workbook.save(file_name)\n",
    "\n",
    "\n",
    "    file = open(file_name,'r')  \n",
    "    lines = file.readlines()  \n",
    "    file.close()\n",
    "    file = open(file_name,'w')  \n",
    "    lines = lines[:-1]\n",
    "    file.writelines(lines)\n",
    "    file.close()"
   ]
  },
  {
   "cell_type": "code",
   "execution_count": 24,
   "id": "316ddee6",
   "metadata": {
    "pycharm": {
     "name": "#%%\n"
    }
   },
   "outputs": [],
   "source": [
    "datasets = [train_df, validation_df, test_df]\n",
    "names = [\"train\", \"validation\",\"test\"]"
   ]
  },
  {
   "cell_type": "code",
   "execution_count": 25,
   "id": "595c5ed8",
   "metadata": {
    "pycharm": {
     "name": "#%%\n"
    }
   },
   "outputs": [],
   "source": [
    "for elem in zip(datasets,names):\n",
    "    create_tsv(create_triplets(elem[0]),f\"MSCallGraph_{elem[1]}_transductive.tsv\")\n",
    "jpype.shutdownJVM()"
   ]
  },
  {
   "cell_type": "code",
   "execution_count": null,
   "id": "c13ba60c",
   "metadata": {
    "pycharm": {
     "name": "#%%\n"
    }
   },
   "outputs": [],
   "source": []
  }
 ],
 "metadata": {
  "kernelspec": {
   "display_name": "Python 3 (ipykernel)",
   "language": "python",
   "name": "python3"
  },
  "language_info": {
   "codemirror_mode": {
    "name": "ipython",
    "version": 3
   },
   "file_extension": ".py",
   "mimetype": "text/x-python",
   "name": "python",
   "nbconvert_exporter": "python",
   "pygments_lexer": "ipython3",
   "version": "3.9.16"
  }
 },
 "nbformat": 4,
 "nbformat_minor": 5
}