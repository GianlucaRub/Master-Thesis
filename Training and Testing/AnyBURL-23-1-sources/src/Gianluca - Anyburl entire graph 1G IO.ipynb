{
 "cells": [
  {
   "cell_type": "code",
   "execution_count": 1,
   "id": "962cbaaf",
   "metadata": {},
   "outputs": [],
   "source": [
    "!javac de/unima/ki/anyburl/*.java -d build"
   ]
  },
  {
   "cell_type": "code",
   "execution_count": 2,
   "id": "81d6fdab",
   "metadata": {},
   "outputs": [
    {
     "name": "stdout",
     "output_type": "stream",
     "text": [
      "added manifest\n",
      "adding: de/(in = 0) (out= 0)(stored 0%)\n",
      "adding: de/unima/(in = 0) (out= 0)(stored 0%)\n",
      "adding: de/unima/ki/(in = 0) (out= 0)(stored 0%)\n",
      "adding: de/unima/ki/anyburl/(in = 0) (out= 0)(stored 0%)\n",
      "adding: de/unima/ki/anyburl/Apply.class(in = 9153) (out= 5041)(deflated 44%)\n",
      "adding: de/unima/ki/anyburl/Eval.class(in = 4680) (out= 2438)(deflated 47%)\n",
      "adding: de/unima/ki/anyburl/exceptions/(in = 0) (out= 0)(stored 0%)\n",
      "adding: de/unima/ki/anyburl/exceptions/RuleFunctionalityBasicSupportOnly.class(in = 567) (out= 384)(deflated 32%)\n",
      "adding: de/unima/ki/anyburl/threads/(in = 0) (out= 0)(stored 0%)\n",
      "adding: de/unima/ki/anyburl/threads/RuleWriterAsThread.class(in = 4034) (out= 2036)(deflated 49%)\n",
      "adding: de/unima/ki/anyburl/threads/Predictor.class(in = 1523) (out= 657)(deflated 56%)\n",
      "adding: de/unima/ki/anyburl/threads/Scorer.class(in = 4873) (out= 2552)(deflated 47%)\n",
      "adding: de/unima/ki/anyburl/eval/(in = 0) (out= 0)(stored 0%)\n",
      "adding: de/unima/ki/anyburl/eval/Candidate.class(in = 935) (out= 533)(deflated 42%)\n",
      "adding: de/unima/ki/anyburl/eval/CompletionResult.class(in = 6355) (out= 2699)(deflated 57%)\n",
      "adding: de/unima/ki/anyburl/eval/ResultSet$1.class(in = 1137) (out= 583)(deflated 48%)\n",
      "adding: de/unima/ki/anyburl/eval/HitsAtK.class(in = 7106) (out= 3243)(deflated 54%)\n",
      "adding: de/unima/ki/anyburl/eval/ResultSet.class(in = 13380) (out= 6140)(deflated 54%)\n",
      "adding: de/unima/ki/anyburl/eval/AlternativeMentions.class(in = 3039) (out= 1547)(deflated 49%)\n",
      "adding: de/unima/ki/anyburl/Learn.class(in = 9856) (out= 5632)(deflated 42%)\n",
      "adding: de/unima/ki/anyburl/Settings.class(in = 3595) (out= 2013)(deflated 44%)\n",
      "adding: de/unima/ki/anyburl/structure/(in = 0) (out= 0)(stored 0%)\n",
      "adding: de/unima/ki/anyburl/structure/ScoreTree.class(in = 9146) (out= 4359)(deflated 52%)\n",
      "adding: de/unima/ki/anyburl/structure/Body.class(in = 4843) (out= 2229)(deflated 53%)\n",
      "adding: de/unima/ki/anyburl/structure/Rule.class(in = 6751) (out= 2883)(deflated 57%)\n",
      "adding: de/unima/ki/anyburl/structure/Dice.class(in = 6356) (out= 3590)(deflated 43%)\n",
      "adding: de/unima/ki/anyburl/structure/RuleFactory.class(in = 2317) (out= 1137)(deflated 50%)\n",
      "adding: de/unima/ki/anyburl/structure/compare/(in = 0) (out= 0)(stored 0%)\n",
      "adding: de/unima/ki/anyburl/structure/compare/RuleConfidenceComparator.class(in = 778) (out= 430)(deflated 44%)\n",
      "adding: de/unima/ki/anyburl/structure/RuleUntyped.class(in = 5222) (out= 2160)(deflated 58%)\n",
      "adding: de/unima/ki/anyburl/structure/RuleAcyclic2.class(in = 3497) (out= 1703)(deflated 51%)\n",
      "adding: de/unima/ki/anyburl/structure/RuleCyclic.class(in = 13450) (out= 5749)(deflated 57%)\n",
      "adding: de/unima/ki/anyburl/structure/RuleZero.class(in = 3503) (out= 1365)(deflated 61%)\n",
      "adding: de/unima/ki/anyburl/structure/RuleAcyclic.class(in = 11783) (out= 4821)(deflated 59%)\n",
      "adding: de/unima/ki/anyburl/structure/Path.class(in = 2160) (out= 1179)(deflated 45%)\n",
      "adding: de/unima/ki/anyburl/structure/RuleAcyclic1.class(in = 4882) (out= 2181)(deflated 55%)\n",
      "adding: de/unima/ki/anyburl/structure/Atom.class(in = 6255) (out= 2898)(deflated 53%)\n",
      "adding: de/unima/ki/anyburl/io/(in = 0) (out= 0)(stored 0%)\n",
      "adding: de/unima/ki/anyburl/io/RuleReader.class(in = 5111) (out= 2734)(deflated 46%)\n",
      "adding: de/unima/ki/anyburl/io/IOHelper.class(in = 3268) (out= 1440)(deflated 55%)\n",
      "adding: de/unima/ki/anyburl/algorithm/(in = 0) (out= 0)(stored 0%)\n",
      "adding: de/unima/ki/anyburl/algorithm/RuleEngine.class(in = 14751) (out= 5967)(deflated 59%)\n",
      "adding: de/unima/ki/anyburl/algorithm/PathSampler.class(in = 3692) (out= 1899)(deflated 48%)\n",
      "adding: de/unima/ki/anyburl/algorithm/RuleEngine$1.class(in = 1135) (out= 575)(deflated 49%)\n",
      "adding: de/unima/ki/anyburl/data/(in = 0) (out= 0)(stored 0%)\n",
      "adding: de/unima/ki/anyburl/data/SampledPairedResultSet.class(in = 1961) (out= 1007)(deflated 48%)\n",
      "adding: de/unima/ki/anyburl/data/Triple.class(in = 3215) (out= 1597)(deflated 50%)\n",
      "adding: de/unima/ki/anyburl/data/TripleSet.class(in = 15165) (out= 6451)(deflated 57%)\n"
     ]
    }
   ],
   "source": [
    "!jar cfv AnyBURL-23-1.jar -C build ."
   ]
  },
  {
   "cell_type": "code",
   "execution_count": 3,
   "id": "381eee18",
   "metadata": {},
   "outputs": [],
   "source": [
    "import pandas as pd\n",
    "import zipfile\n",
    "import os\n",
    "from tqdm import tqdm\n",
    "import time\n",
    "\n",
    "import platform\n",
    "\n",
    "import sys\n",
    "\n",
    "import cpuinfo\n",
    "\n",
    "import psutil\n"
   ]
  },
  {
   "cell_type": "code",
   "execution_count": 4,
   "id": "68c9f556",
   "metadata": {},
   "outputs": [
    {
     "data": {
      "text/plain": [
       "32"
      ]
     },
     "execution_count": 4,
     "metadata": {},
     "output_type": "execute_result"
    }
   ],
   "source": [
    "os.cpu_count()"
   ]
  },
  {
   "cell_type": "code",
   "execution_count": 5,
   "id": "ae0b1618",
   "metadata": {},
   "outputs": [
    {
     "data": {
      "text/plain": [
       "svmem(total=99980713984, available=95995777024, percent=4.0, used=3511087104, free=96205324288, active=780619776, inactive=115486720, buffers=11022336, cached=253280256, shared=2793472, slab=283111424)"
      ]
     },
     "execution_count": 5,
     "metadata": {},
     "output_type": "execute_result"
    }
   ],
   "source": [
    "psutil.virtual_memory()"
   ]
  },
  {
   "cell_type": "code",
   "execution_count": 6,
   "id": "eb418a45",
   "metadata": {},
   "outputs": [],
   "source": [
    "model_name = 'anyburl_io'"
   ]
  },
  {
   "cell_type": "code",
   "execution_count": 7,
   "id": "7ea7b6d8",
   "metadata": {},
   "outputs": [
    {
     "name": "stdout",
     "output_type": "stream",
     "text": [
      "Directory anyburl_io_entire_graph created successfully!\n"
     ]
    }
   ],
   "source": [
    "directory = model_name+\"_entire_graph\"\n",
    "\n",
    "if not os.path.exists(directory):\n",
    "    os.makedirs(directory)\n",
    "    print(f'Directory {directory} created successfully!')\n",
    "else:\n",
    "    print(f'Directory {directory} already exists.')"
   ]
  },
  {
   "cell_type": "code",
   "execution_count": 8,
   "id": "66dc0005",
   "metadata": {},
   "outputs": [
    {
     "name": "stdout",
     "output_type": "stream",
     "text": [
      "reading params from file train_prop.txt\n",
      "* read 41970 triples\n",
      "* indexed 10000 triples\n",
      "* indexed 20000 triples\n",
      "* indexed 40000 triples\n",
      "* set up index for 8 relations, 16276 head entities, and 3562 tail entities\n",
      "* set up list structure for randomized access searches uring rule learning ...  done\n",
      "* precomputing random starting points for each relation/direction for the beam search ... done.\n",
      "* creating worker thread #0\n",
      "* creating worker thread #1\n",
      "* creating worker thread #2\n",
      "* creating worker thread #3\n",
      "* creating worker thread #4\n",
      "* creating worker thread #5\n",
      "* creating worker thread #6\n",
      "* creating worker thread #7\n",
      "* creating worker thread #8\n",
      "* creating worker thread #9\n",
      "* creating worker thread #10\n",
      "* creating worker thread #11\n",
      "* creating worker thread #12\n",
      "* creating worker thread #13\n",
      "* creating worker thread #14\n",
      "* creating worker thread #15\n",
      "* creating worker thread #16\n",
      "* creating worker thread #17\n",
      "* creating worker thread #18\n",
      "* creating worker thread #19\n",
      "* creating worker thread #20\n",
      "* creating worker thread #21\n",
      "* creating worker thread #22\n",
      "* creating worker thread #23\n",
      "* creating worker thread #24\n",
      "* creating worker thread #25\n",
      "* creating worker thread #26\n",
      "* creating worker thread #27\n",
      "* creating worker thread #28\n",
      "* creating worker thread #29\n",
      "THREAD-9 starts to work with L=1 C=Acyclic \n",
      "THREAD-7 starts to work with L=1 C=Cyclic \n",
      "THREAD-20 starts to work with L=1 C=Acyclic \n",
      "THREAD-3 starts to work with L=1 C=Cyclic \n",
      "THREAD-26 starts to work with L=0 C=Zero \n",
      "THREAD-12 starts to work with L=2 C=Cyclic \n",
      "THREAD-10 starts to work with L=1 C=Acyclic \n",
      "THREAD-1 starts to work with L=1 C=Acyclic \n",
      "THREAD-15 starts to work with L=0 C=Zero \n",
      "THREAD-21 starts to work with L=1 C=Cyclic \n",
      "THREAD-22 starts to work with L=3 C=Cyclic \n",
      "THREAD-14 starts to work with L=1 C=Acyclic \n",
      "THREAD-19 starts to work with L=1 C=Acyclic \n",
      "THREAD-16 starts to work with L=1 C=Acyclic \n",
      "THREAD-6 starts to work with L=3 C=Cyclic \n",
      "THREAD-28 starts to work with L=2 C=Cyclic \n",
      "THREAD-11 starts to work with L=1 C=Cyclic \n",
      "THREAD-18 starts to work with L=2 C=Cyclic \n",
      "THREAD-5 starts to work with L=1 C=Cyclic \n",
      "THREAD-25 starts to work with L=1 C=Cyclic \n",
      "THREAD-23 starts to work with L=3 C=Cyclic \n",
      "THREAD-0 starts to work with L=1 C=Acyclic \n",
      "THREAD-8 starts to work with L=1 C=Cyclic \n",
      "THREAD-4 starts to work with L=1 C=Acyclic \n",
      "THREAD-27 starts to work with L=1 C=Cyclic \n",
      "THREAD-13 starts to work with L=0 C=Zero \n",
      "THREAD-17 starts to work with L=0 C=Zero \n",
      "THREAD-2 starts to work with L=3 C=Cyclic \n",
      "THREAD-29 starts to work with L=2 C=Cyclic \n",
      "THREAD-24 starts to work with L=0 C=Zero \n",
      " 000001 | 001337 000032 000110 | 002590\n",
      " 000000 | 000065 000003 000015 | 001499\n",
      "\n",
      ">>> CREATING SNAPSHOT 0 after 11 seconds\n",
      "\n",
      ">>> storing rules in file rules-10\n",
      ">>> stored 92104 rules in 599ms\n",
      " 000000 | 000240 000001 000013 | 001515\n",
      " 000000 | 000000 000000 000007 | 001231\n",
      " 000000 | 000000 000000 000007 | 000949\n",
      " 000000 | 000006 000000 000007 | 000847\n",
      " 000000 | 000006 000000 000007 | 000759\n",
      " 000000 | 000006 000000 000007 | 000685\n",
      " 000000 | 000006 000000 000007 | 000595\n",
      "\n",
      ">>> CREATING SNAPSHOT 1 after 51 seconds\n",
      "\n",
      ">>> storing rules in file rules-50\n",
      ">>> stored 358615 rules in 1757ms\n",
      " 000000 | 000000 000000 000015 | 000948\n",
      " 000000 | 000000 000000 000004 | 000466\n",
      " 000000 | 000000 000000 000004 | 000437\n",
      " 000000 | 000000 000000 000004 | 000402\n",
      " 000000 | 000000 000000 000002 | 000387\n",
      " 000000 | 000000 000000 000004 | 000352\n",
      " 000000 | 000015 000000 000002 | 000309\n",
      " 000000 | 000454 000001 000002 | 000302\n",
      " 000001 | 000019 000001 000002 | 000294\n",
      "\n",
      ">>> CREATING SNAPSHOT 2 after 101 seconds\n",
      "\n",
      ">>> Bye, bye.\n",
      ">>> storing rules in file rules-100\n",
      ">>> stored 501865 rules in 760ms\n",
      ">>> waiting for rule writer thread to finish\n"
     ]
    }
   ],
   "source": [
    "train_prop = f'PATH_TRAINING = MSCallGraph_train_transductive_io.tsv\\nPATH_OUTPUT   = rules\\nSNAPSHOTS_AT = 10,50,100\\nWORKER_THREADS = 30\\nSAFE_PREFIX_MODE = true'\n",
    "f = open(\"train_prop.txt\", \"w\")\n",
    "f.write(train_prop)\n",
    "f.close()\n",
    "!java -Xmx1G -cp AnyBURL-23-1.jar de.unima.ki.anyburl.Learn train_prop.txt"
   ]
  },
  {
   "cell_type": "code",
   "execution_count": 9,
   "id": "57c86828",
   "metadata": {},
   "outputs": [],
   "source": [
    "start = time.time()"
   ]
  },
  {
   "cell_type": "code",
   "execution_count": 10,
   "id": "d90251a8",
   "metadata": {},
   "outputs": [
    {
     "name": "stdout",
     "output_type": "stream",
     "text": [
      "* reading params from file predict_prop.txt\n",
      "* writing prediction to preds-100\n",
      "* read 41516 triples\n",
      "* indexed 10000 triples\n",
      "* indexed 20000 triples\n",
      "* indexed 40000 triples\n",
      "* set up index for 8 relations, 16275 head entities, and 3561 tail entities\n",
      "* read 13078 triples\n",
      "* indexed 10000 triples\n",
      "* set up index for 8 relations, 4901 head entities, and 2151 tail entities\n",
      "* read 10276 triples\n",
      "* indexed 10000 triples\n",
      "* set up index for 8 relations, 4302 head entities, and 2030 tail entities\n",
      "* reading rules from rules-100, read 501865 rules\n",
      "* applied confidence threshold of 1.0E-4 and reduced from 501865 to 501865 rules\n",
      "* applying rules\n",
      "* indexed 100000 rules for prediction\n",
      "* indexed 200000 rules for prediction\n",
      "* indexed 300000 rules for prediction\n",
      "* indexed 400000 rules for prediction\n",
      "* indexed 500000 rules for prediction\n",
      "* indexed and sorted 501865 rules for using them to make predictions\n",
      "* set up index structure covering rules for prediction for 8 relations\n",
      "* creating worker threads #0 #1 #2 #3 #4 #5 #6 #7 #8 #9 #10 #11 #12 #13 #14 #15 #16 #17 #18 #19 #20 #21 #22 #23 #24 #25 #26 #27 #28 #29 \n",
      "* (#100) trying to guess the tail and head of e84f9f68ef003a21288fffe8f9a09a5a29b05f4cc4229b8337d1e3c28b6d07923 rrpc_in e4d980b8ae1f1da1a302d77ef91b9f9dd4e841856f6cdd4de10df7514456b6831\n",
      "* (#200) trying to guess the tail and head of e2248785881e93aa89e49797753e3efd37229224bbe60222f8b8e62b7313751a9 rrpc_out e80d51cc4922480291a327a7b26803d55518965c8d0692cd378c8f98c0435e05e\n",
      "* (#300) trying to guess the tail and head of e8382f8ca896075af917acb020ce8c7dc322a09d8e8a73490c3450f69967b7a28 rrpc_in e7c83f85c372fff643072b17c5c25ee6a0f2f58b88640f3554e5c2c29a9c44808\n",
      "* (#400) trying to guess the tail and head of eb7c586427019cad1c520762eac1ad8bacc8c1599fe2202e045f83cf0b3a9a680 rrpc_in eaa42d395e6b2ab2146c4f60800b1463b0b4eec59147ff583052172e947b3dc53\n",
      "* (#500) trying to guess the tail and head of e91cbe9f1545d03ddb2a12ee2f829f3fec3a9e1d063be9e22cce8d566c780794c rmc_out ebb881904c960844ae7a52eb43b74dee4991917864e2cace78dbac86de8d09ef2\n",
      "* (#600) trying to guess the tail and head of ea20d01ae3c30317200c208cf7a194224851e5ed33c117efb7b298a0acb3bac45 rrpc_out e73f6d8a8dceebd7475a100eab899082be5f8ad2234356908f32e8aa84b71eb55\n",
      "* (#700) trying to guess the tail and head of ede93367b32ae1873de4c22a944ed1c95cc7d8e082d1ae0350852659c3f3671da rrpc_out ea2b5de7109d90a337522f6a0876d33b52eca1cc72f49225bcb90459279af9f4b\n",
      "* (#800) trying to guess the tail and head of eaad206b88466844ad1d958b5f1fadddfee89d1e304b55b3d92ce51bde159ebe4 rmc_out ea828cf949747f47b182e8269b324b8948f97330f6104f9d893e40a52dd62b26d\n",
      "* (#900) trying to guess the tail and head of e424988aec6b9f774fef30fcf5ec9a78fa8b13c7cfae2ef27217809ce1a9d4b97 rdb_out e222fb26bce12a45b062ee2476eea504a3a88ab800f17042f4ad2768a48fd79f6\n",
      "* (#1000) trying to guess the tail and head of eab491ae8dd87871d114b64c6af16657b097326f2c036568a11054617a1245e34 rrpc_out e6545e5559493a18497075bb949b955abf8642a62d20287e280732e9c5956095e\n",
      "* (#1100) trying to guess the tail and head of ebe371ac2315b3db6aaf86fdf0440089b5b24c997f7d474d5699e1a59bc56a944 rrpc_in ef42fd111813ce0c103272f3c07a1b0a7a16bb5e834dae9653c14d58bf24bc6be\n",
      "* (#1200) trying to guess the tail and head of e576d8f3c81bead2d8f2f5673a9c8f411ee6826831f643ff7262911ec3a5e5a90 rdb_out e48e8faba4a168f803d7f16abb37ff877edd589b8081166d08e1efbb94ae898d1\n",
      "* (#1300) trying to guess the tail and head of ef2904777c89ceafb5b17c28a6475779bb418b2407983e932113738bb2c77d997 rdb_out e73257ee66fbea0ea8b789e1027396c9292d7140b6d5937ad3f79ced163e337e8\n",
      "* (#1400) trying to guess the tail and head of e8c2719487e6aec9c4dc09c510651c925e1369f9a540c8f80b56b6fb7ef4479b5 rmq_in e6b3de38ce727d7a097829c79b86ae6446afe984f9f45d55949b9e6eb03a51f9d\n",
      "* (#1500) trying to guess the tail and head of eb5cebafb32f9d9f92a3458b781d721e18fdf2de674a3ac6ce7493fd76511afa8 rrpc_out e784ec45039465c5bb9a13e2f0b3b8039ac68b490522cb904b66e662ae9523068\n",
      "* (#1600) trying to guess the tail and head of edd34bf2a2f0719df8b1a786b5d747dc389febe2100ca17429ea2b6feaa13d8e2 rdb_out e87c5c44a5d42b77804c2b2b04df435cf3296df00e0d77a6a91fcd068dfc02466\n",
      "* (#1700) trying to guess the tail and head of ee2270497137ddf7550ba6f3973c62da80ed3c285820892fc0ff0f6347d3697d8 rdb_out e315c2525b526e54c03fa05aaa19dabcb542f95446797d96fb7041cc638cb3f71\n",
      "* (#1800) trying to guess the tail and head of e12247e31749c40782797b27181e50a03a2afe0c7f9e8a354e21ccc619d1eefeb rdb_out e648b2a0c2f0a2c60f552c18abbc9ac747657751fc8db49d0f18cc6c5f9f81fe0\n",
      "* (#1900) trying to guess the tail and head of e8120b45c2724805758c6cc2b0685e0d20424dbc2e6c58f06476930e5d95b6e66 rrpc_out e2bbca6dc6ba99115e631eba25efc62743aff6d9fe3fe3a9ad209f83d25df926a\n",
      "* (#2000) trying to guess the tail and head of e1b4bc6dbf3d822b1bb7f996d2913a9b195582a91aeb84a0b57d2d47f7e28fed4 rrpc_out ed03bb97862607468fe3153b28d41a20de1e3144a5662642b8d4c1062c550f622\n",
      "* (#2100) trying to guess the tail and head of ed52fe27e1fc8f1256ad1fe76e5cb31054c483d2a129986aab53d07088a1f37dc rrpc_out e9a3ef4d24dd4e7fb8baaa9e30aea1395caa50f583630f69047c8e20f2e8d9554\n",
      "* (#2200) trying to guess the tail and head of eb4b1249ccb39a305cbd6f4b8beefff85af8cb9487be37621fcb5fac9987a7641 rrpc_in e75e4a89559db6beb8fcef2e1ebc8a2a1b4bc42b99c27263cee36123b709e1d40\n",
      "* (#2300) trying to guess the tail and head of e2b300d0725100f955f1120d2f01de49b494ae1563f2d20734f424e30ca42ff6b rdb_out e88b05119c419e80149a2d0db0c47697e7d0e042f7202c25ac51e2f053c8f7545\n",
      "* (#2400) trying to guess the tail and head of ee9cb3c60df3af15ddbb2fc90c94d3865bea46eb4784857cba5bfdb2b217306f9 rmc_out e672b13877ae01745ec085064409ad377150789569f5c84b80f00d69af39c42a3\n",
      "* (#2500) trying to guess the tail and head of ee310606888ea1e1a32da785c17ca8c8c37c95df5197b9b1a2600e3339163a2fc rrpc_out eb1ba9b8b63230f3db6ec063062f08da2a9888f604cefaf01c634a0b6c5d29ad5\n",
      "* (#2600) trying to guess the tail and head of e820d792605059d1c40fe6f34e105b99ae046197bf8f3c89241b6448b62fef99e rrpc_out e820d792605059d1c40fe6f34e105b99ae046197bf8f3c89241b6448b62fef99e\n",
      "* (#2700) trying to guess the tail and head of e22fa7dbf2ea1177877261a74131f12850e34ebb1b146dfd822cb48bf69aabff9 rmc_out e0e74103df88e616d6673812b6186ee304b100bd8cdf74354577f71d788c3e118\n",
      "* (#2800) trying to guess the tail and head of e6bfab89daec114a849017335017d46e5d3e01922d88e5c2bd692bb026bb7eddb rdb_out e3beb8f0ef32c3bf5b983bbe77bf2b373677e069d39077e945f704a5d3b2782cd\n",
      "* (#2900) trying to guess the tail and head of ebf3564a20dd84d248c1927c740a64461f4cf919b114bd6a617720e683ce5ca4a rdb_out e5b563df180af0e674902ffbeddf022580eee216f0a172f384628e569c0fe8ef6\n",
      "* (#3000) trying to guess the tail and head of e1852a98be7399ffaca85c8480900e630a2efa20b93c09419004810a6233dec0f rdb_out e486f4670466d703566bca877bde44b1c3a709002e309bf695820cc1c59ad2d18\n",
      "* (#3100) trying to guess the tail and head of e784ec45039465c5bb9a13e2f0b3b8039ac68b490522cb904b66e662ae9523068 rrpc_in e2be3b98bfce0e36bfa57f93d594bb1e183b434540c5bce38233a5dc2e9b80a1b\n",
      "* (#3200) trying to guess the tail and head of e6fbbd3813bc4bf49a718fb7d831edff902892753f3957df19fecf9fb9133039a rdb_out ef10612cc80a4777bcb0f9025041b3e4a9d8de8b20bfd2dcb0ab1406cbeeaeaf5\n",
      "* (#3300) trying to guess the tail and head of e3322acdce65a8353e2f8a32a2bf0474526cfc62c3d13289ab64fb6a5e089e2db rrpc_in ed3a82996dbfa1d6c4eeaafb9430a21b8c01deceb036a7ad346750d4e7062dc8e\n",
      "* (#3400) trying to guess the tail and head of e86e7ed5ed091e2ab9036f0942b247d8bd9baa810b62cd96d4e455cdb5ee900d4 rdb_out e5cca70246befb1f4c9546d2912b9419dee54439218efa55a7a2e0e26e86ad749\n",
      "* (#3500) trying to guess the tail and head of e21c0af3e12b92c22c1c7c2d1ff5a2a5fbf282b4b69510531653b52aa35adc604 rdb_out e109298b0af3961105937ff48abf505151a894eb8ea15befc52cd68d96c94e013\n",
      "* (#3600) trying to guess the tail and head of eb834cfd8d186f4f4807e02509fc67d51200fced502bf7ce0975a2eca680fc6ad rdb_out efb750d9e38225fe305f254bb00cfba22138845328abf1564dbda306910bd66a5\n",
      "* (#3700) trying to guess the tail and head of e648b2a0c2f0a2c60f552c18abbc9ac747657751fc8db49d0f18cc6c5f9f81fe0 rrpc_out e23bdd392279c3f7f575cdcca6c022c7403272aea434e9e116e15901ec787a9f3\n",
      "* (#3800) trying to guess the tail and head of eaad206b88466844ad1d958b5f1fadddfee89d1e304b55b3d92ce51bde159ebe4 rmc_out e655e0269bb90b5ffe6a9d7a22bfc21df4cfc0aae9dc186e11d8f5388789653f7\n",
      "* (#3900) trying to guess the tail and head of e48e8faba4a168f803d7f16abb37ff877edd589b8081166d08e1efbb94ae898d1 rrpc_out e2be3b98bfce0e36bfa57f93d594bb1e183b434540c5bce38233a5dc2e9b80a1b\n",
      "* (#4000) trying to guess the tail and head of e352b107616b73d9632d0baad09eae65b860df9eadc95fef9876b0bfad0b11c84 rdb_out e442ac3910db2ba8f480b234207022042182a8951289f24cbb0470ba5261ff967\n",
      "* (#4100) trying to guess the tail and head of e0251a836abdc0f17f6f91a8caa094411f25853daf0a1eec201e68795f8b66a34 rdb_out e12bc3fe2791d9f2946a74114ff349795461e695a099ae3f4fe0f76ea5ce4476d\n",
      "* (#4200) trying to guess the tail and head of efc47aaba14f1c4663911bd2eba899088ec0aa6f02322cc3f928ac631af504d15 rmq_in edcd12288c7943871c82626398763fc1b08dce250000117c097c6bb739d39e962\n",
      "* (#4300) trying to guess the tail and head of e685eb3b28989502894c1a653e512ec27447330df534ba958cd8266cbb7a9fee0 rdb_out e87f3522e7b259f45398e495f02e0afd54d9bd8f77959c6d5e178647ce4e1d9ce\n",
      "* (#4400) trying to guess the tail and head of ea2ddbe920fcc59c90e46234a827958b96d77f4cb2b5a55746531040bae60b3b0 rdb_out eb94ff1e3dd987c35165a917596e3d082064613920d444b42d65ac85215e957ce\n",
      "* (#4500) trying to guess the tail and head of e764691fa9253a010157d717d02fb74e2d2257f8ac63f6ce0ddd46073095ddbd4 rdb_out ec7cabb47eb0f49e2910c8b5502c5f92273d176fbfeef7c0a0dc0c5bbf88a906d\n",
      "* (#4600) trying to guess the tail and head of e292707c3c7d30619c065b6a57d6aba37ecf9e36ee3f32b1e29e95361234d24eb rrpc_in e2b4e79f0f3f72358c5a23cacc71f58a59a20215772ceb365f10b8fbc20929311\n",
      "* (#4700) trying to guess the tail and head of eea54172e90c2bd105eb2df1b552b8925a0f7463561fc5135c0038d92266c85c5 rdb_out e5cca70246befb1f4c9546d2912b9419dee54439218efa55a7a2e0e26e86ad749\n",
      "* (#4800) trying to guess the tail and head of e515691d0421dedd130a5d03dae7fe44b2167841d679502120c731a57cf75c255 rmq_out ed001c3ebd11c318053a9f51e93b9d64f11083d02a631ad7fcde320867bb707f9\n",
      "* (#4900) trying to guess the tail and head of eb6c68a44de38c8caa2f83703b018415eb1424f7f3121073bd317e904efb44eac rdb_out ec464f8be39915bd016e00df8727cbe71931819a0390920ee2a1945e57a1f242f\n",
      "* (#5000) trying to guess the tail and head of e07f5dc4746bd0685e4123d0dfde689804bb8e487b310106e8aaf1a9f2bc9c4b1 rdb_out e4f50ea08adf056958a230021f65bfd3cd170f53143c3036574863b2b05f0eaf9\n",
      "* (#5100) trying to guess the tail and head of eea88d9dabad3c403154d6a1740f2c6f79333c2c965ee1c6694ddc3226c4f553b rrpc_in e48e8faba4a168f803d7f16abb37ff877edd589b8081166d08e1efbb94ae898d1\n",
      "* (#5200) trying to guess the tail and head of e664b8e8494b6153cc7ce4335d051b96bdaff8f0985b868beebd8cc7b984c480b rrpc_in eb0d219f993f83c8e863490bd02435bd1a06cc47a6839b56b05602efdcd44205e\n",
      "* (#5300) trying to guess the tail and head of e2acfd7708f39b85b3a441f9e804b269630cb72c115c8ac86d786a08d30f8e86f rmq_out ed288ddaf74ec0809d3f335cfd29050b057f17e4536241cb7d36e1f9cbeea7897\n",
      "* (#5400) trying to guess the tail and head of ec3fc508f46aef921bbd58d687b98ea9f0e06539879dfb01d876700012d5ab74e rdb_out eca43d1f2ea299b9b42bc6e93012b318adbefeeac621c82ef732fcd0241465d62\n",
      "* (#5500) trying to guess the tail and head of e7cc8cb7ff461bcedaca4d2d243860d0ab5e036383441bb7ab68ac559de98837d rrpc_in e2bbca6dc6ba99115e631eba25efc62743aff6d9fe3fe3a9ad209f83d25df926a\n",
      "* (#5600) trying to guess the tail and head of e405b0725e0033d42e581ea5e24059ddb694329204bff93965d539ecfef96a198 rdb_out eb1601b7399bdfe0c5624ae79665315fa50a6ff01fb9e08779a3d5689039e229c\n",
      "* (#5700) trying to guess the tail and head of e493392c0a233c1b9125f1601d4ebec14667e0c2a186b7757ff21be83b8c1ecc0 rdb_out e1173ba98a2c84b42c4b6a85223f27e096286607c73cbc03134d9b2f4047d70d9\n",
      "* (#5800) trying to guess the tail and head of e91be1c111fe6f34620ce469fe4f6c7bd710a144644586cda9c9f7527aba5c955 rdb_out e12bc3fe2791d9f2946a74114ff349795461e695a099ae3f4fe0f76ea5ce4476d\n",
      "* (#5900) trying to guess the tail and head of e68dfd7399e33cae0724d39d02eac9d490efe5fcae5b07a2bdc39067711c31d29 rdb_out e2778cbf888500779361a677eacef7afffb05d7d3f9b9838a8672a9488b9d62c4\n",
      "* (#6000) trying to guess the tail and head of eadafd3f89a4f731eaa3e0e05ca0dd582a70983cefd35549bb59e382c5e7f58fa rmc_out e1efeaa8c6ee7899fecd33c8b0ed024154adcc03c7899c1d75469e92ca35b5fb6\n",
      "* (#6100) trying to guess the tail and head of ede6d543c40695b95f303d7134b72e73fffec5e582f919e30afd3bedd277b2416 rmc_out ed2c2fa968b87c4890d40a9b711dca168f1e7b54397b71504fefdef35ef87aa11\n",
      "* (#6200) trying to guess the tail and head of e6f1e16b4abf498345362f822e477d1d3f4a5a4e34fb132b6b7ff58401bcad5cd rdb_out ebe47e9119e2763a77d63444e00cbe0945e4c638063c289bb404bb7505c9fe698\n",
      "* (#6300) trying to guess the tail and head of ef6bbd730b82e56b9f2b64aec7d404024dd7547841fa4fd4b06d5b2f4136fc5af rdb_out e58d745e6fac32dd9ddb2db4a491e3d5deed19311aa01098b095e95338dc794f2\n",
      "* (#6400) trying to guess the tail and head of ec5d26caa5424ce9de273434ab8e6b8aa5fc1a9db0e288b7bec8497512b833a9c rmq_out e07c40f6f4a29d1b17feed986aed2e42760eb434a8177c1435d665a7fc33d78ac\n",
      "* (#6500) trying to guess the tail and head of e083be744cf3073e3813e4b269bc190e35a98c667a7c614cc92285693fbc39b48 rrpc_in eb58ba81e712e15281eb93074ed026a844f5100024d91b25f2742b5d5e8bedd9f\n",
      "* (#6600) trying to guess the tail and head of e5c81baf86a7b40c7bc49ca0c9ac4f6cfc17133f8a1355d9f6bb122bd588be3a0 rdb_out e7dfeab39fda8164a68843fdaf4eac1bd14cdf52c148e4f913276964053e448ea\n",
      "* (#6700) trying to guess the tail and head of ec5425b8777d2cfe68ed835226b80c6d33bcc2d6d910b5b0ee8039ef44eb25e93 rdb_out e150f30cbcef004e2e3964d5327c7cb25e3f1dea47199dc2caf89b594616cbb61\n",
      "* (#6800) trying to guess the tail and head of e8f57f7027e76d6dc4dcaf460f8d99f9b0b518f8b2b98f9d42b8a77f77e813bbb rrpc_out e9b5745060243587eafd3a75bbffd473afecbaf96af33038aa4a7bd9281995f72\n",
      "* (#6900) trying to guess the tail and head of e33c753980df0b2a7d808d6f2b6a12e8b145c267a1e9131ec1843657b1ad70faf rdb_out ea76f3b1c13bd2971e90995d6e41fe987dac87306f5145b5441e39ad7cba6ed29\n",
      "* (#7000) trying to guess the tail and head of e987faa5c6135f34d4dfc2160b69f76f6700776398740f8fcb3b5c118ffa6283e rmc_out e20c18e7e86ce4aa492f8f4d06c67e85406331d209b01ea03458839100945d0f7\n",
      "* (#7100) trying to guess the tail and head of eeac2aab8479822899500bf8994e4d26cd5e6a1a610a2a2427bceacf8193efcb0 rrpc_in ec08ffbd23a2b6019f635afbb9ec79aef16490c69988921db0aca1158c6577155\n",
      "* (#7200) trying to guess the tail and head of ee2350413f1606f6332ee2a2d98f09029cd454b0b216b244314f0f32f96b2308c rrpc_out ea02426f289a5396ce87d0ab1ff795b40d57b266e1571513ea1fe9ef6eab8c772\n",
      "* (#7300) trying to guess the tail and head of e2a8dcc1d92fecd5d42d5be4a5d6c443a97b377526ad778b5607e2faae5dcac2d rmq_out ef62fcc333342124f61d109ceafb5db427f389a0c32f047ef041f93c12591a02b\n",
      "* (#7400) trying to guess the tail and head of e4f5d68220ca854c3309b5aedef8f568d705a287a466cdc6667881ff4bbf9abe6 rrpc_in ebbbe7fde1ca38777a6d5e6030132dadf04c3313e1531742d9e63cbab8c57f05d\n",
      "* (#7500) trying to guess the tail and head of e0dcf6d1d7a78294b57ad9e60e22ed4d8d46d1b6c01f8c4435c60b86af3d6d654 rdb_out ea47b1e9cc6e290ee05e15da756a7806104e1e96577b13d4b38884f88eb43e7cc\n",
      "* (#7600) trying to guess the tail and head of e41032d253422b70d7858bac8d2f582409852fa3b77e9e7ca8e08bdcf02b5cbe0 rdb_out ea2b5de7109d90a337522f6a0876d33b52eca1cc72f49225bcb90459279af9f4b\n",
      "* (#7700) trying to guess the tail and head of e904be45638f7c92824aa6f29a76909b8432d87a75df5f5f5b8fd4e0f0ad7f048 rdb_out e4f1bff38f31da15de0b1dd0854f27c4a1555494a704b4cbd1f96d6e49ed54a2e\n",
      "* (#7800) trying to guess the tail and head of e3322acdce65a8353e2f8a32a2bf0474526cfc62c3d13289ab64fb6a5e089e2db rrpc_in e67de1bf3e96b46dedc689cb2a9e26dbbd0c40f7220e75a0b4b07f43a664ec57c\n",
      "* (#7900) trying to guess the tail and head of e252c0d15db7ad4a547bd630b51244d65cdb5a33e057847bf660cf369189ea566 rdb_out e7fee40960f41adc22620c747f2a5805c4c6e11d8f53349652feb777461d3a28c\n",
      "* (#8000) trying to guess the tail and head of e5fd8b430f234ee0c4ffd4c5939fafdd240acaa9655e0dc8409a4faae5e6d6d06 rdb_out eca43d1f2ea299b9b42bc6e93012b318adbefeeac621c82ef732fcd0241465d62\n",
      "* (#8100) trying to guess the tail and head of ef2831e310555eecf683031907ac1ce487c9d808d4f0934fe1f95019e04b6ced3 rrpc_out ef2831e310555eecf683031907ac1ce487c9d808d4f0934fe1f95019e04b6ced3\n",
      "* (#8200) trying to guess the tail and head of e329f68468901d9cf979669f4e21eabe270cc1103ef67005333fffbc32d94afa0 rdb_out e7dae518199f0923fa58b928256230f0b51ab0060119fcb2c9cc1bc2961704bf7\n",
      "* (#8300) trying to guess the tail and head of e20ad75179dfe6d53daca35d65324d29b3be22e086cb26c075efa94a4170d9cbc rmc_out e358b1bcd6642ef76e7df4bd81eab523cca9d09315149ab002d9c2f606d9786de\n",
      "* (#8400) trying to guess the tail and head of e36f592a9b48cdf4ae88dcd5ea4679ca500a9db74e237aa72c196af59e96f30d0 rdb_out e2dd6ddd7f19a3ec671ae0f5983e3dc4d35869adfe107d0851771821d66b9847a\n",
      "* (#8500) trying to guess the tail and head of eec1b77785b06d7caf9c4a571ac5a122e2199ed2c3168058c127b4b9e82da3248 rrpc_in e192e0178ef26f0869ffc921df93e933c9e65c13c6533077caae745a6933510a2\n",
      "* (#8600) trying to guess the tail and head of eae2d012b3febf996d875c1e63a0869a4525d8f45ba0f39c2015dcee404182e0b rdb_out e9b0040aa68aeedf32c5e0dee4d3e3dff4951f16f77ccc5cc34be7e3c8b480a64\n",
      "* (#8700) trying to guess the tail and head of e921a3a0b142247a35dfca0ea789a9c222901f949db2ce2ab018e043c6356786e rdb_out ead6512829782012b7e27eb6333b2674ab00798d807995fc38089c327084afb7c\n",
      "* (#8800) trying to guess the tail and head of e64f7f398ee4a9f6776e545a9736b49e7fafcb2daf54c0dbbbc8b9c4637270fec rrpc_in e83dd591e9a39102aab1c22dd0d9ed73756bb0c89e4ad2cbb4340ca3beb0bcbbc\n",
      "* (#8900) trying to guess the tail and head of ea2f4cc0518d7224f846bcf6efcf46be5c37f2c2045bf846df70965dd4eff7e37 rrpc_in ee2b56532bc99095bb8e387ee0595e430168257d3927aac1a8664bc40b6105f3e\n",
      "* (#9000) trying to guess the tail and head of ed843da01607ac6d94ec49df5a1d8408e134abd67c572c4cf1dfb23877c39e468 rdb_out e1a7840097b9d2f2a83604353f9c41d5044f0fc6b7c66c1c8ace5a907c015d263\n",
      "* (#9100) trying to guess the tail and head of e7d53863bd1aa3d9e1fe4a8b4ff37800da75b3144796adcf4582720d23ac7d298 rrpc_out e3a6e367bb73e903db76ef152baaaeb8bfafe724b7632962e10b0a1c640afd878\n",
      "* (#9200) trying to guess the tail and head of ef6bbd730b82e56b9f2b64aec7d404024dd7547841fa4fd4b06d5b2f4136fc5af rdb_out ec7da4297c678a12e5298bbebed6599928424f56cf4b1e19c8abf6c258e3be558\n",
      "* (#9300) trying to guess the tail and head of e5f49eac3721458c3c8bd0f2c58f0b02f44ef4ec5af297c9831db1fc26ee7a0bb rdb_out e1a7840097b9d2f2a83604353f9c41d5044f0fc6b7c66c1c8ace5a907c015d263\n",
      "* (#9400) trying to guess the tail and head of e28b8a7e3417da806768941f9140ab35da635154622136010343a794990cb0f67 rdb_out e491464bed931cda80a9ee6a426e1e3260eea77730633f575620617a8d4ef5676\n",
      "* (#9500) trying to guess the tail and head of e0e1f021c1406813fadb553c759a5732d1a40c031ff54ddcb68528b053c728a13 ruserDefined_out e0e1f021c1406813fadb553c759a5732d1a40c031ff54ddcb68528b053c728a13\n",
      "* (#9600) trying to guess the tail and head of e8af9a14846675accb181bf828fcd2a506b04ded3bcc9774d8656a6f90cd50710 rdb_out e303aa9ad61cc8a93db74d5cacb90e47e876ebef87ff0330533e66bc79c44b2a5\n",
      "* (#9700) trying to guess the tail and head of e30e514c4936e452252da2e30d6905bc86f2bf39132fb527f614d2c58d28a4646 rdb_out e1173ba98a2c84b42c4b6a85223f27e096286607c73cbc03134d9b2f4047d70d9\n",
      "* (#9800) trying to guess the tail and head of ef3683801ec495e26424bcf32071b4059716c4d3ec7e63053da94a272d3ee9154 rdb_out e27b124d9646382aafc353839d486338edceeb1bb03cbe143fa87c86c147cc84a\n",
      "* (#9900) trying to guess the tail and head of e9b7b30616525532484baf3da15a6384178cbe0173bab2172570d9e018fbf675b rrpc_in e8120b45c2724805758c6cc2b0685e0d20424dbc2e6c58f06476930e5d95b6e66\n",
      "* (#10000) trying to guess the tail and head of e2cb82bf4ff22a075b263d7c9555dd1b8427cec4666233d6c8b2b9c5a80cd7971 rrpc_out e11543607f742c2f3aed9328cbb77e8e3d5ca8aabadccf5d47f11a8103f0ff028\n",
      "* (#10100) trying to guess the tail and head of ebdde61722c184e1f47e2189e9c58887d1f0890b6ad5f670ccfad9a54337cbe5b rrpc_out e4f723f86f6261bfa072a0305cf8a021a8d82b61345caee5cfec4204bcc2260c5\n",
      "* (#10200) trying to guess the tail and head of e52656432baedeb255d511736e3b515668b34b8a59dc031093b584bec88583d26 rmq_in e3d767b68c20f40801983f212c48b5d8d45d01ac574343c69a77af7202a93f8c4\n",
      "* (#10300) trying to guess the tail and head of e7f51f38a1af6b0ffcca87c5b5183b92773cdb572fb10cc8d05a6a45b1d5bb918 rrpc_out ebd4037fce68981db954ec92d4781be819e7cc7bcb25dad1377794be7ce066518\n",
      "* (#10400) trying to guess the tail and head of e356e87390888c54d888fba6976494c1724c216d008b7c7e32cb2ac5bed7df508 rdb_out e2778cbf888500779361a677eacef7afffb05d7d3f9b9838a8672a9488b9d62c4\n",
      "* (#10500) trying to guess the tail and head of e94c3ccfb00f5b4333e81b08e3bd94b5b4154676dbffb9a6f54e51813804ecf3c rmq_in e545098d6388ad8a4627b1b075a04341d89d3bd2dff84adb6d6c7285b832d456a\n",
      "* (#10600) trying to guess the tail and head of eb8235e9013d45734b2bb67d8715f2b509cc1f8fb9421a308aa1bd8c398a7219a rrpc_in eb8235e9013d45734b2bb67d8715f2b509cc1f8fb9421a308aa1bd8c398a7219a\n",
      "* (#10700) trying to guess the tail and head of e4b87f9ec7b8765854c2ceba1d58ea5e8fb4d1569f25074d41f31b7efd249b250 rdb_out ebe2a848de25df56ba322a6994093a086f5b1ef0cf67bce6d998dd58184120a92\n",
      "* (#10800) trying to guess the tail and head of e1ee1b06d496fbfba93139d435d913f17ff0fbce4e80095f2ce848bb2ede29890 rdb_out ee2350413f1606f6332ee2a2d98f09029cd454b0b216b244314f0f32f96b2308c\n",
      "* (#10900) trying to guess the tail and head of e171ca3f1d1897556e29921a0719c36f2ebea9cf85f3b845b8834cb00e24c126d rrpc_out e4ba235f4b254662c470d96d1d2dffcc14633858798fb2cffa0246d10d99f92b0\n",
      "* (#11000) trying to guess the tail and head of e9829d9b7e2e31e7baa8426969840d786e71b962261c69b56234c40ea948a1d50 rdb_out e93b9375b8df77fa36a77852735278e8e73aa25dbf1c6cd9ec3ff4f623bd475b3\n",
      "* (#11100) trying to guess the tail and head of ef8fc2371994cc53da33134519dd5e8ba6e565c3eaa705397717193a3066b47d9 rdb_out eb87872a92bea67e793536d43f75a88e407e726daf7f07e0118fbac6eb272c1f0\n",
      "* (#11200) trying to guess the tail and head of e72ac94a73f7362ff2655f59db52569e407506d9a1e1fde973f48b8265582afbb rdb_out e5347a4b3f763353dc6f7fc54ca91d345c1fcc7709067a6fabd43715bfdeaf4cc\n",
      "* (#11300) trying to guess the tail and head of e18c7000c696307a7330d2065de542854d0d44f1e2e9f7705923ae93dd3e3bb84 rdb_out e389ad8ab3bfc96886e6b190ec247e6a11f0a83febf571511590eaa3edf92d529\n",
      "* (#11400) trying to guess the tail and head of e51b608166287f6309b76beafee894c0c24cbc6387d3b63b18dffa2063388cfe2 rdb_out e93b9375b8df77fa36a77852735278e8e73aa25dbf1c6cd9ec3ff4f623bd475b3\n",
      "* (#11500) trying to guess the tail and head of e2bbca6dc6ba99115e631eba25efc62743aff6d9fe3fe3a9ad209f83d25df926a rrpc_out e2d2f0686048e64e36bc1c94a5a5b4b3aced43ae59266b075c470c878c0af973d\n",
      "* (#11600) trying to guess the tail and head of e603dbb89aeb9318baa5d7126061af138e5b582187c41ed9b0feed591b94e13a3 rdb_out e150f30cbcef004e2e3964d5327c7cb25e3f1dea47199dc2caf89b594616cbb61\n",
      "* (#11700) trying to guess the tail and head of e7dc91c09d47a0cd83dac46980d49ec46fb891a47d4ea7ec233bfac4809bd0abe rmq_in e515691d0421dedd130a5d03dae7fe44b2167841d679502120c731a57cf75c255\n",
      "* (#11800) trying to guess the tail and head of eb9984f9bcd22c37cfbfbcecd7d457a1c5e4498fe5f596fcb4349085a1507ccdb rrpc_in e05ad163aa35b27070e330f97306a4bd1eaa00be7fc7b6bee98fb5023afab5009\n",
      "* (#11900) trying to guess the tail and head of e8b2dda536f0d939422f470bd863b20edacf47b13d5ab4fe6668062a6af24466e rdb_out e87f3522e7b259f45398e495f02e0afd54d9bd8f77959c6d5e178647ce4e1d9ce\n",
      "* (#12000) trying to guess the tail and head of e4044a5c14fb439a9de91ea9e75f80d83fcc6c31590f8b490326ebd556a09950c rrpc_in e6ec348b2672d73f9c723c91f48752579c2bc15079cdac6784d5b6a95625242ea\n",
      "* (#12100) trying to guess the tail and head of e331941f289cae5c8348f8a76b02aecafe195a3c3e5407f0ea16cde5782ad6bdb rrpc_out e7c907266371ada67372e18ba2bbcd8c012fe6d8bed32f502c339b3500236bf49\n",
      "* (#12200) trying to guess the tail and head of edad93363c30d440df0bae043024a1367f25475c8501ede74dac4eb498a465625 rrpc_out eca41260ebc1e237811a3c1917805d7febafab38b58ea8c5645c0ef13dd6e5a48\n",
      "* (#12300) trying to guess the tail and head of e5d887bdb9fd24cea365fb7ce018526df1d39b11630081b90cf1cf715b9ccbf7c rrpc_out e2733610666f7e648f7b2525f3678855b56c6e6fa246b22d97cb0cf898b331ca2\n",
      "* (#12400) trying to guess the tail and head of ebaf9f97c6fe8499df7c952efd9881f3670b3a298302eb7391aecc09f33f4122c rrpc_in e3e83db9fe10fd2995970d8b7e55247a108906907fad2b2436b125a3a1d102793\n",
      "* (#12500) trying to guess the tail and head of ed2c895bd5c7de55f381310fd1b94ce9d518bf4ac22e22f6c2e79cf6976842f56 rrpc_out eea37f467a4ed28ec023bc302e3d726a6dc5b233a4421837922c0b4c7ea462795\n",
      "* (#12600) trying to guess the tail and head of e52656432baedeb255d511736e3b515668b34b8a59dc031093b584bec88583d26 rrpc_out ef975e7c4a39d1a1ffe74ef2619326e84a23f6b5701966a5ce1151385bfbdf352\n",
      "* (#12700) trying to guess the tail and head of e8277908aea1190b7a98e67c78f936c496d47b3c1c1a5f99999c2961cf94aa71e ruserDefined_out e8277908aea1190b7a98e67c78f936c496d47b3c1c1a5f99999c2961cf94aa71e\n",
      "* (#12800) trying to guess the tail and head of ea098c22586f6fe92476fb97361ee036a31d2c5da7db1b6f278ae453de1ca0223 rrpc_in e8229cf0afddf060bda27eb32d12db2635d74725140a5e920137a05e695008735\n",
      "* (#12900) trying to guess the tail and head of e1a7840097b9d2f2a83604353f9c41d5044f0fc6b7c66c1c8ace5a907c015d263 rrpc_out ebbb533b9a9412f0d6e441291bd90565e2500dddd2eb8a96f0da22899566a06ce\n",
      "* (#13000) trying to guess the tail and head of ed308f3ba0be81eee83c28867f9a46db6a3ec9b80122ca661ea2581d6dcef993a rdb_out e9a96bfa32f577be007d0ca5b90e222d49cef5d3a9816e4a1ed2dd031af34e484\n",
      "* done with rule application\n",
      "* evaluated 501865 rules to propose candiates for 13078*2 completion tasks\n",
      "* finished in 56271ms.\n",
      "\n"
     ]
    }
   ],
   "source": [
    "predict_prop = f'PATH_TRAINING = MSCallGraph_train_transductive_io.tsv\\nPATH_VALID    = MSCallGraph_validation_transductive_io.tsv\\nPATH_TEST     = MSCallGraph_test_transductive_io.tsv\\nPATH_RULES    = rules-100\\nPATH_OUTPUT   = preds-100\\nWORKER_THREADS = 30\\nTOP_K_OUTPUT = 100\\nSAFE_PREFIX_MODE = true'\n",
    "f = open(\"predict_prop.txt\", \"w\")\n",
    "f.write(predict_prop)\n",
    "f.close()\n",
    "!java -Xmx1G -cp AnyBURL-23-1.jar de.unima.ki.anyburl.Apply predict_prop.txt"
   ]
  },
  {
   "cell_type": "code",
   "execution_count": 11,
   "id": "48390a3d",
   "metadata": {},
   "outputs": [
    {
     "data": {
      "text/plain": [
       "['reading params from file eval_prop.txt',\n",
       " '* read 41516 triples',\n",
       " '* indexed 10000 triples',\n",
       " '* indexed 20000 triples',\n",
       " '* indexed 40000 triples',\n",
       " '* set up index for 8 relations, 16275 head entities, and 3561 tail entities',\n",
       " '* read 10276 triples',\n",
       " '* indexed 10000 triples',\n",
       " '* set up index for 8 relations, 4302 head entities, and 2030 tail entities',\n",
       " '* read 13078 triples',\n",
       " '* indexed 10000 triples',\n",
       " '* set up index for 8 relations, 4901 head entities, and 2151 tail entities',\n",
       " '* loading result set at preds-100',\n",
       " '0.4546   0.5808   0.6968   0.5384']"
      ]
     },
     "execution_count": 11,
     "metadata": {},
     "output_type": "execute_result"
    }
   ],
   "source": [
    "eval_prop = f'PATH_TRAINING = MSCallGraph_train_transductive_io.tsv\\nPATH_VALID    = MSCallGraph_validation_transductive_io.tsv\\nPATH_TEST     = MSCallGraph_test_transductive_io.tsv\\nPATH_PREDICTIONS = preds-100\\nTOP_K = 100\\nSAFE_PREFIX_MODE = true'\n",
    "f = open(\"eval_prop.txt\", \"w\")\n",
    "f.write(eval_prop)\n",
    "f.close()\n",
    "evaluation_result = !java -Xmx1G -cp AnyBURL-23-1.jar de.unima.ki.anyburl.Eval eval_prop.txt\n",
    "evaluation_result"
   ]
  },
  {
   "cell_type": "code",
   "execution_count": 12,
   "id": "1b9e2b39",
   "metadata": {},
   "outputs": [],
   "source": [
    "testing_evaluation_duration = time.time() - start"
   ]
  },
  {
   "cell_type": "code",
   "execution_count": 13,
   "id": "57c4627c",
   "metadata": {},
   "outputs": [
    {
     "data": {
      "text/plain": [
       "['0.4546', '0.5808', '0.6968', '0.5384']"
      ]
     },
     "execution_count": 13,
     "metadata": {},
     "output_type": "execute_result"
    }
   ],
   "source": [
    "evaluation_result[-1].split()"
   ]
  },
  {
   "cell_type": "code",
   "execution_count": 14,
   "id": "f2a6983d",
   "metadata": {},
   "outputs": [
    {
     "data": {
      "text/html": [
       "<div>\n",
       "<style scoped>\n",
       "    .dataframe tbody tr th:only-of-type {\n",
       "        vertical-align: middle;\n",
       "    }\n",
       "\n",
       "    .dataframe tbody tr th {\n",
       "        vertical-align: top;\n",
       "    }\n",
       "\n",
       "    .dataframe thead th {\n",
       "        text-align: right;\n",
       "    }\n",
       "</style>\n",
       "<table border=\"1\" class=\"dataframe\">\n",
       "  <thead>\n",
       "    <tr style=\"text-align: right;\">\n",
       "      <th></th>\n",
       "      <th>hits_at_1</th>\n",
       "      <th>hits_at_3</th>\n",
       "      <th>hits_at_10</th>\n",
       "      <th>mrr</th>\n",
       "    </tr>\n",
       "  </thead>\n",
       "  <tbody>\n",
       "    <tr>\n",
       "      <th>0</th>\n",
       "      <td>0.4546</td>\n",
       "      <td>0.5808</td>\n",
       "      <td>0.6968</td>\n",
       "      <td>0.5384</td>\n",
       "    </tr>\n",
       "  </tbody>\n",
       "</table>\n",
       "</div>"
      ],
      "text/plain": [
       "  hits_at_1 hits_at_3 hits_at_10     mrr\n",
       "0    0.4546    0.5808     0.6968  0.5384"
      ]
     },
     "metadata": {},
     "output_type": "display_data"
    }
   ],
   "source": [
    "\n",
    "        \n",
    "\n",
    "\n",
    "metric_names = ['hits_at_1','hits_at_3','hits_at_10','mrr']\n",
    "\n",
    "df = pd.DataFrame([evaluation_result[-1].split()],columns=metric_names)\n",
    "df.to_csv(f\"{model_name}_entire_graph/{model_name}.csv\")\n",
    "\n",
    "    \n",
    "display(df)\n"
   ]
  },
  {
   "cell_type": "code",
   "execution_count": 15,
   "id": "55cf7480",
   "metadata": {},
   "outputs": [],
   "source": [
    "infodict = {}\n",
    "infodict['parameters bytes'] = 1e+9\n",
    "infodict['number parameters'] = 377728 #number of rules\n",
    "infodict['training duration'] = 100\n",
    "# infodict['training evaluation duration'] = training_evaluation_duration\n",
    "# infodict['validation evaluation duration'] = validation_evaluation_duration\n",
    "infodict['testing evaluation duration'] = testing_evaluation_duration\n",
    "infodict[\"Operating system name\"] = platform.system()\n",
    "infodict[\"Operating system version\"] = platform.release()\n",
    "infodict[\"Processor architecture\"] = platform.machine()\n",
    "infodict[\"Python version\"] = sys.version\n",
    "infodict[\"Processor model name\"] = cpuinfo.get_cpu_info()['brand_raw']\n",
    "infodict['Number cpu cores'] = os.cpu_count()\n",
    "infodict[\"Total physical memory\"] = psutil.virtual_memory().total"
   ]
  },
  {
   "cell_type": "code",
   "execution_count": 16,
   "id": "3c00f639",
   "metadata": {},
   "outputs": [
    {
     "name": "stdout",
     "output_type": "stream",
     "text": [
      "                           name  \\\n",
      "0              parameters bytes   \n",
      "1             number parameters   \n",
      "2             training duration   \n",
      "3   testing evaluation duration   \n",
      "4         Operating system name   \n",
      "5      Operating system version   \n",
      "6        Processor architecture   \n",
      "7                Python version   \n",
      "8          Processor model name   \n",
      "9              Number cpu cores   \n",
      "10        Total physical memory   \n",
      "\n",
      "                                                value  \n",
      "0                                        1000000000.0  \n",
      "1                                              377728  \n",
      "2                                                 100  \n",
      "3                                           59.603945  \n",
      "4                                               Linux  \n",
      "5                         3.10.0-1160.88.1.el7.x86_64  \n",
      "6                                              x86_64  \n",
      "7   3.10.9 (main, Mar  8 2023, 10:47:38) [GCC 11.2.0]  \n",
      "8            Intel(R) Xeon(R) Gold 6130 CPU @ 2.10GHz  \n",
      "9                                                  32  \n",
      "10                                        99980713984  \n"
     ]
    }
   ],
   "source": [
    "info_df = pd.DataFrame(columns=['name','value'], data = infodict.items())\n",
    "info_df.to_csv(f\"{model_name}_entire_graph/{model_name}_information.csv\")\n",
    "print(info_df)"
   ]
  },
  {
   "cell_type": "code",
   "execution_count": 17,
   "id": "ef2bc11f",
   "metadata": {},
   "outputs": [],
   "source": [
    "def zip_folder(folder_path, output_path):\n",
    "     with zipfile.ZipFile(output_path, 'w', zipfile.ZIP_DEFLATED) as zipf:\n",
    "        for root, dirs, files in os.walk(folder_path):\n",
    "            for file in files:\n",
    "                zipf.write(os.path.join(root, file))\n",
    "\n",
    "folder_path = model_name+\"_entire_graph\"\n",
    "output_path = f'{folder_path}.zip'\n",
    "\n",
    "zip_folder(folder_path, output_path)"
   ]
  },
  {
   "cell_type": "code",
   "execution_count": null,
   "id": "2ded1672",
   "metadata": {},
   "outputs": [],
   "source": []
  }
 ],
 "metadata": {
  "kernelspec": {
   "display_name": "Python 3 (ipykernel)",
   "language": "python",
   "name": "python3"
  },
  "language_info": {
   "codemirror_mode": {
    "name": "ipython",
    "version": 3
   },
   "file_extension": ".py",
   "mimetype": "text/x-python",
   "name": "python",
   "nbconvert_exporter": "python",
   "pygments_lexer": "ipython3",
   "version": "3.10.9"
  }
 },
 "nbformat": 4,
 "nbformat_minor": 5
}
