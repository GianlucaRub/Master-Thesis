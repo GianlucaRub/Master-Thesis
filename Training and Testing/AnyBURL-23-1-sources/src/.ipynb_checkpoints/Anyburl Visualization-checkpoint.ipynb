{
 "cells": [
  {
   "cell_type": "code",
   "execution_count": 1,
   "id": "17cb707e",
   "metadata": {},
   "outputs": [],
   "source": [
    "import pandas as pd\n",
    "import time\n",
    "import platform\n",
    "import sys\n",
    "import zipfile\n",
    "from tqdm import tqdm\n",
    "from IPython.display import clear_output\n",
    "import matplotlib.pyplot as plt\n",
    "import numpy as np\n",
    "\n",
    "seed = 1234"
   ]
  },
  {
   "cell_type": "code",
   "execution_count": null,
   "id": "f73c89e6",
   "metadata": {},
   "outputs": [],
   "source": [
    "    # specify the path to the zip file and the destination directory for the unzipped files\n",
    "zip_file_path = f'All data/{model_name}.zip'\n",
    "extract_dir =f'All data/{model_name}'\n",
    "\n",
    "    # create a ZipFile object and extract all files to the destination directory\n",
    "with zipfile.ZipFile(zip_file_path, 'r') as zip_ref:\n",
    "    zip_ref.extractall(extract_dir)"
   ]
  }
 ],
 "metadata": {
  "kernelspec": {
   "display_name": "Python 3 (ipykernel)",
   "language": "python",
   "name": "python3"
  },
  "language_info": {
   "codemirror_mode": {
    "name": "ipython",
    "version": 3
   },
   "file_extension": ".py",
   "mimetype": "text/x-python",
   "name": "python",
   "nbconvert_exporter": "python",
   "pygments_lexer": "ipython3",
   "version": "3.9.16"
  }
 },
 "nbformat": 4,
 "nbformat_minor": 5
}
