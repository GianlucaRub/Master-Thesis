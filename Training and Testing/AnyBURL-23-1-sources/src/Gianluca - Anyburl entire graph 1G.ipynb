{
 "cells": [
  {
   "cell_type": "code",
   "execution_count": 1,
   "id": "962cbaaf",
   "metadata": {},
   "outputs": [],
   "source": [
    "!javac de/unima/ki/anyburl/*.java -d build"
   ]
  },
  {
   "cell_type": "code",
   "execution_count": 2,
   "id": "81d6fdab",
   "metadata": {},
   "outputs": [
    {
     "name": "stdout",
     "output_type": "stream",
     "text": [
      "added manifest\n",
      "adding: de/(in = 0) (out= 0)(stored 0%)\n",
      "adding: de/unima/(in = 0) (out= 0)(stored 0%)\n",
      "adding: de/unima/ki/(in = 0) (out= 0)(stored 0%)\n",
      "adding: de/unima/ki/anyburl/(in = 0) (out= 0)(stored 0%)\n",
      "adding: de/unima/ki/anyburl/Apply.class(in = 9153) (out= 5041)(deflated 44%)\n",
      "adding: de/unima/ki/anyburl/Eval.class(in = 4680) (out= 2438)(deflated 47%)\n",
      "adding: de/unima/ki/anyburl/exceptions/(in = 0) (out= 0)(stored 0%)\n",
      "adding: de/unima/ki/anyburl/exceptions/RuleFunctionalityBasicSupportOnly.class(in = 567) (out= 384)(deflated 32%)\n",
      "adding: de/unima/ki/anyburl/threads/(in = 0) (out= 0)(stored 0%)\n",
      "adding: de/unima/ki/anyburl/threads/RuleWriterAsThread.class(in = 4034) (out= 2036)(deflated 49%)\n",
      "adding: de/unima/ki/anyburl/threads/Predictor.class(in = 1523) (out= 657)(deflated 56%)\n",
      "adding: de/unima/ki/anyburl/threads/Scorer.class(in = 4873) (out= 2552)(deflated 47%)\n",
      "adding: de/unima/ki/anyburl/eval/(in = 0) (out= 0)(stored 0%)\n",
      "adding: de/unima/ki/anyburl/eval/Candidate.class(in = 935) (out= 533)(deflated 42%)\n",
      "adding: de/unima/ki/anyburl/eval/CompletionResult.class(in = 6355) (out= 2699)(deflated 57%)\n",
      "adding: de/unima/ki/anyburl/eval/ResultSet$1.class(in = 1137) (out= 583)(deflated 48%)\n",
      "adding: de/unima/ki/anyburl/eval/HitsAtK.class(in = 7106) (out= 3243)(deflated 54%)\n",
      "adding: de/unima/ki/anyburl/eval/ResultSet.class(in = 13380) (out= 6140)(deflated 54%)\n",
      "adding: de/unima/ki/anyburl/eval/AlternativeMentions.class(in = 3039) (out= 1547)(deflated 49%)\n",
      "adding: de/unima/ki/anyburl/Learn.class(in = 9856) (out= 5632)(deflated 42%)\n",
      "adding: de/unima/ki/anyburl/Settings.class(in = 3595) (out= 2013)(deflated 44%)\n",
      "adding: de/unima/ki/anyburl/structure/(in = 0) (out= 0)(stored 0%)\n",
      "adding: de/unima/ki/anyburl/structure/ScoreTree.class(in = 9146) (out= 4359)(deflated 52%)\n",
      "adding: de/unima/ki/anyburl/structure/Body.class(in = 4843) (out= 2229)(deflated 53%)\n",
      "adding: de/unima/ki/anyburl/structure/Rule.class(in = 6751) (out= 2883)(deflated 57%)\n",
      "adding: de/unima/ki/anyburl/structure/Dice.class(in = 6356) (out= 3590)(deflated 43%)\n",
      "adding: de/unima/ki/anyburl/structure/RuleFactory.class(in = 2317) (out= 1137)(deflated 50%)\n",
      "adding: de/unima/ki/anyburl/structure/compare/(in = 0) (out= 0)(stored 0%)\n",
      "adding: de/unima/ki/anyburl/structure/compare/RuleConfidenceComparator.class(in = 778) (out= 430)(deflated 44%)\n",
      "adding: de/unima/ki/anyburl/structure/RuleUntyped.class(in = 5222) (out= 2160)(deflated 58%)\n",
      "adding: de/unima/ki/anyburl/structure/RuleAcyclic2.class(in = 3497) (out= 1703)(deflated 51%)\n",
      "adding: de/unima/ki/anyburl/structure/RuleCyclic.class(in = 13450) (out= 5749)(deflated 57%)\n",
      "adding: de/unima/ki/anyburl/structure/RuleZero.class(in = 3503) (out= 1365)(deflated 61%)\n",
      "adding: de/unima/ki/anyburl/structure/RuleAcyclic.class(in = 11783) (out= 4821)(deflated 59%)\n",
      "adding: de/unima/ki/anyburl/structure/Path.class(in = 2160) (out= 1179)(deflated 45%)\n",
      "adding: de/unima/ki/anyburl/structure/RuleAcyclic1.class(in = 4882) (out= 2181)(deflated 55%)\n",
      "adding: de/unima/ki/anyburl/structure/Atom.class(in = 6255) (out= 2898)(deflated 53%)\n",
      "adding: de/unima/ki/anyburl/io/(in = 0) (out= 0)(stored 0%)\n",
      "adding: de/unima/ki/anyburl/io/RuleReader.class(in = 5111) (out= 2734)(deflated 46%)\n",
      "adding: de/unima/ki/anyburl/io/IOHelper.class(in = 3268) (out= 1440)(deflated 55%)\n",
      "adding: de/unima/ki/anyburl/algorithm/(in = 0) (out= 0)(stored 0%)\n",
      "adding: de/unima/ki/anyburl/algorithm/RuleEngine.class(in = 14751) (out= 5967)(deflated 59%)\n",
      "adding: de/unima/ki/anyburl/algorithm/PathSampler.class(in = 3692) (out= 1899)(deflated 48%)\n",
      "adding: de/unima/ki/anyburl/algorithm/RuleEngine$1.class(in = 1135) (out= 575)(deflated 49%)\n",
      "adding: de/unima/ki/anyburl/data/(in = 0) (out= 0)(stored 0%)\n",
      "adding: de/unima/ki/anyburl/data/SampledPairedResultSet.class(in = 1961) (out= 1007)(deflated 48%)\n",
      "adding: de/unima/ki/anyburl/data/Triple.class(in = 3215) (out= 1597)(deflated 50%)\n",
      "adding: de/unima/ki/anyburl/data/TripleSet.class(in = 15165) (out= 6451)(deflated 57%)\n"
     ]
    }
   ],
   "source": [
    "!jar cfv AnyBURL-23-1.jar -C build ."
   ]
  },
  {
   "cell_type": "code",
   "execution_count": 3,
   "id": "381eee18",
   "metadata": {},
   "outputs": [],
   "source": [
    "import pandas as pd\n",
    "import zipfile\n",
    "import os\n",
    "from tqdm import tqdm\n",
    "import time\n",
    "\n",
    "import platform\n",
    "\n",
    "import sys\n",
    "\n",
    "import cpuinfo\n",
    "\n",
    "import psutil\n"
   ]
  },
  {
   "cell_type": "code",
   "execution_count": 4,
   "id": "68c9f556",
   "metadata": {},
   "outputs": [
    {
     "data": {
      "text/plain": [
       "32"
      ]
     },
     "execution_count": 4,
     "metadata": {},
     "output_type": "execute_result"
    }
   ],
   "source": [
    "os.cpu_count()"
   ]
  },
  {
   "cell_type": "code",
   "execution_count": 5,
   "id": "ae0b1618",
   "metadata": {},
   "outputs": [
    {
     "data": {
      "text/plain": [
       "svmem(total=99980713984, available=96165376000, percent=3.8, used=3355803648, free=96389038080, active=687251456, inactive=77008896, buffers=11501568, cached=224370688, shared=2695168, slab=250482688)"
      ]
     },
     "execution_count": 5,
     "metadata": {},
     "output_type": "execute_result"
    }
   ],
   "source": [
    "psutil.virtual_memory()"
   ]
  },
  {
   "cell_type": "code",
   "execution_count": 6,
   "id": "eb418a45",
   "metadata": {},
   "outputs": [],
   "source": [
    "model_name = 'anyburl'"
   ]
  },
  {
   "cell_type": "code",
   "execution_count": 7,
   "id": "7ea7b6d8",
   "metadata": {},
   "outputs": [
    {
     "name": "stdout",
     "output_type": "stream",
     "text": [
      "Directory anyburl_entire_graph already exists.\n"
     ]
    }
   ],
   "source": [
    "directory = model_name+\"_entire_graph\"\n",
    "\n",
    "if not os.path.exists(directory):\n",
    "    os.makedirs(directory)\n",
    "    print(f'Directory {directory} created successfully!')\n",
    "else:\n",
    "    print(f'Directory {directory} already exists.')"
   ]
  },
  {
   "cell_type": "code",
   "execution_count": 8,
   "id": "66dc0005",
   "metadata": {},
   "outputs": [
    {
     "name": "stdout",
     "output_type": "stream",
     "text": [
      "reading params from file train_prop.txt\n",
      "* read 35946 triples\n",
      "* indexed 10000 triples\n",
      "* indexed 20000 triples\n",
      "* set up index for 6 relations, 16491 head entities, and 3592 tail entities\n",
      "* set up list structure for randomized access searches uring rule learning ...  done\n",
      "* precomputing random starting points for each relation/direction for the beam search ... done.\n",
      "* creating worker thread #0\n",
      "* creating worker thread #1\n",
      "* creating worker thread #2\n",
      "* creating worker thread #3\n",
      "* creating worker thread #4\n",
      "* creating worker thread #5\n",
      "* creating worker thread #6\n",
      "* creating worker thread #7\n",
      "* creating worker thread #8\n",
      "* creating worker thread #9\n",
      "* creating worker thread #10\n",
      "* creating worker thread #11\n",
      "* creating worker thread #12\n",
      "* creating worker thread #13\n",
      "* creating worker thread #14\n",
      "* creating worker thread #15\n",
      "* creating worker thread #16\n",
      "* creating worker thread #17\n",
      "* creating worker thread #18\n",
      "* creating worker thread #19\n",
      "* creating worker thread #20\n",
      "* creating worker thread #21\n",
      "* creating worker thread #22\n",
      "* creating worker thread #23\n",
      "* creating worker thread #24\n",
      "* creating worker thread #25\n",
      "* creating worker thread #26\n",
      "* creating worker thread #27\n",
      "* creating worker thread #28\n",
      "* creating worker thread #29\n",
      "THREAD-3 starts to work with L=1 C=Cyclic \n",
      "THREAD-15 starts to work with L=1 C=Acyclic \n",
      "THREAD-28 starts to work with L=1 C=Acyclic \n",
      "THREAD-18 starts to work with L=3 C=Cyclic \n",
      "THREAD-29 starts to work with L=1 C=Acyclic \n",
      "THREAD-16 starts to work with L=1 C=Cyclic \n",
      "THREAD-24 starts to work with L=2 C=Cyclic \n",
      "THREAD-27 starts to work with L=1 C=Acyclic \n",
      "THREAD-1 starts to work with L=1 C=Acyclic \n",
      "THREAD-19 starts to work with L=3 C=Cyclic \n",
      "THREAD-25 starts to work with L=1 C=Acyclic \n",
      "THREAD-6 starts to work with L=1 C=Acyclic \n",
      "THREAD-0 starts to work with L=3 C=Cyclic \n",
      "THREAD-17 starts to work with L=0 C=Zero \n",
      "THREAD-10 starts to work with L=0 C=Zero \n",
      "THREAD-14 starts to work with L=3 C=Cyclic \n",
      "THREAD-2 starts to work with L=0 C=Zero \n",
      "THREAD-4 starts to work with L=0 C=Zero \n",
      "THREAD-13 starts to work with L=3 C=Cyclic \n",
      "THREAD-12 starts to work with L=3 C=Cyclic \n",
      "THREAD-11 starts to work with L=1 C=Acyclic \n",
      "THREAD-21 starts to work with L=1 C=Acyclic \n",
      "THREAD-7 starts to work with L=0 C=Zero \n",
      "THREAD-22 starts to work with L=3 C=Cyclic \n",
      "THREAD-20 starts to work with L=2 C=Cyclic \n",
      "THREAD-8 starts to work with L=1 C=Acyclic \n",
      "THREAD-9 starts to work with L=1 C=Acyclic \n",
      "THREAD-23 starts to work with L=0 C=Zero \n",
      "THREAD-5 starts to work with L=3 C=Cyclic \n",
      "THREAD-26 starts to work with L=1 C=Cyclic \n",
      " 000001 | 000413 000025 000057 | 002397\n",
      " 000000 | 000006 000001 000005 | 001553\n",
      "\n",
      ">>> CREATING SNAPSHOT 0 after 11 seconds\n",
      "\n",
      ">>> storing rules in file rules-10\n",
      ">>> stored 65301 rules in 405ms\n",
      " 000000 | 000000 000000 000002 | 001590\n",
      " 000000 | 000005 000000 000000 | 001162\n",
      " 000000 | 000008 000000 000000 | 000948\n",
      " 000000 | 000008 000000 000000 | 000790\n",
      " 000000 | 000000 000000 000000 | 000682\n",
      " 000001 | 000000 000000 000000 | 000594\n",
      " 000001 | 000048 000000 000000 | 000537\n",
      "\n",
      ">>> CREATING SNAPSHOT 1 after 51 seconds\n",
      "\n",
      ">>> storing rules in file rules-50\n",
      ">>> stored 271714 rules in 1240ms\n",
      " 000001 | 000000 000000 000001 | 000800\n",
      " 000001 | 000000 000000 000001 | 000369\n",
      " 000001 | 000000 000000 000001 | 000330\n",
      " 000001 | 000000 000000 000001 | 000307\n",
      " 000001 | 000000 000000 000000 | 000278\n",
      " 000001 | 000000 000000 000000 | 000250\n",
      " 000001 | 000000 000000 000000 | 000222\n",
      " 000001 | 000000 000000 000000 | 000208\n",
      " 000000 | 000000 000000 000000 | 000191\n",
      "\n",
      ">>> CREATING SNAPSHOT 2 after 101 seconds\n",
      "\n",
      ">>> Bye, bye.\n",
      ">>> storing rules in file rules-100\n",
      ">>> stored 388656 rules in 520ms\n",
      ">>> waiting for rule writer thread to finish\n"
     ]
    }
   ],
   "source": [
    "train_prop = f'PATH_TRAINING = MSCallGraph_train_transductive.tsv\\nPATH_OUTPUT   = rules\\nSNAPSHOTS_AT = 10,50,100\\nWORKER_THREADS = 30\\nSAFE_PREFIX_MODE = true'\n",
    "f = open(\"train_prop.txt\", \"w\")\n",
    "f.write(train_prop)\n",
    "f.close()\n",
    "!java -Xmx1G -cp AnyBURL-23-1.jar de.unima.ki.anyburl.Learn train_prop.txt"
   ]
  },
  {
   "cell_type": "code",
   "execution_count": 9,
   "id": "57c86828",
   "metadata": {},
   "outputs": [],
   "source": [
    "start = time.time()"
   ]
  },
  {
   "cell_type": "code",
   "execution_count": 10,
   "id": "d90251a8",
   "metadata": {},
   "outputs": [
    {
     "name": "stdout",
     "output_type": "stream",
     "text": [
      "* reading params from file predict_prop.txt\n",
      "* writing prediction to preds-100\n",
      "* read 35559 triples\n",
      "* indexed 10000 triples\n",
      "* indexed 20000 triples\n",
      "* set up index for 6 relations, 16490 head entities, and 3591 tail entities\n",
      "* read 11202 triples\n",
      "* indexed 10000 triples\n",
      "* set up index for 6 relations, 4708 head entities, and 1945 tail entities\n",
      "* read 8801 triples\n",
      "* set up index for 6 relations, 4087 head entities, and 1815 tail entities\n",
      "* reading rules from rules-100, read 388656 rules\n",
      "* applied confidence threshold of 1.0E-4 and reduced from 388656 to 388656 rules\n",
      "* applying rules\n",
      "* indexed 100000 rules for prediction\n",
      "* indexed 200000 rules for prediction\n",
      "* indexed 300000 rules for prediction\n",
      "* indexed and sorted 388656 rules for using them to make predictions\n",
      "* set up index structure covering rules for prediction for 6 relations\n",
      "* creating worker threads #0 #1 #2 #3 #4 #5 #6 #7 #8 #9 #10 #11 #12 #13 #14 #15 #16 #17 #18 #19 #20 #21 #22 #23 #24 #25 #26 #27 #28 #29 \n",
      "* (#100) trying to guess the tail and head of e5a2e74a204f55063afe3c167a485385b660c901a58f136153ee50cfbac2c61b3 rmc e2be3b98bfce0e36bfa57f93d594bb1e183b434540c5bce38233a5dc2e9b80a1b\n",
      "* (#200) trying to guess the tail and head of e3cab0a98767379fbcd059750c07ec42dbd0374cb114e0f8dc3a75bbaf4eed7d3 ruserDefined e3cab0a98767379fbcd059750c07ec42dbd0374cb114e0f8dc3a75bbaf4eed7d3\n",
      "* (#300) trying to guess the tail and head of e6746853e39c5008988baf677bf27c846ee99173cafdec2aa8c949843d3a94b95 rmc e5f876a7340841ba7d9021abcfe009ff7179ab83f9ccf32c2ab7513397d345744\n",
      "* (#400) trying to guess the tail and head of e61c5783ad62386f08a1a27482bb472b8aba3e3ea3042e975f8819c197d99ebe8 rrpc e4ba235f4b254662c470d96d1d2dffcc14633858798fb2cffa0246d10d99f92b0\n",
      "* (#500) trying to guess the tail and head of e091794afdcf1abbaf62404337ff72a38df96c5d8af8bd0d1348b331e84ac89e5 rrpc edce74abfc6fec33e6731bb9f504f507e5baf787e1efcfafbec992a8eed49774a\n",
      "* (#600) trying to guess the tail and head of ee4d625000d2de26e3fede6cf3a7abf5861ed747c9337d85bbbbba96e2d84971e rmq eb08b5cc288bca62eeaa415de1c4c5bf5ee48a16c8682afef5a76c6940d514303\n",
      "* (#700) trying to guess the tail and head of e252c0d15db7ad4a547bd630b51244d65cdb5a33e057847bf660cf369189ea566 rdb e109298b0af3961105937ff48abf505151a894eb8ea15befc52cd68d96c94e013\n",
      "* (#800) trying to guess the tail and head of ef06b741d0362b424f7ebd307dd710252253d609b1197aae2229f159e595deb13 rmq e0fea36f8ed830148cd67e5dd0037864e44d63574ffc05858b384097f3b4baa4d\n",
      "* (#900) trying to guess the tail and head of e01d660afcfadafd587e20ec4c04ddbc7eb0de95643ba0eec5fc1aeb15e341a85 rmc ea499765ef7294335d7a0280bb5dd98c671e58409d953f612dccbfab55fe980c5\n",
      "* (#1000) trying to guess the tail and head of e0696938ae3212896c34626b3816d92ca5b0bed0cfda981adc7710d5dae189b6e rrpc e129d17bfd8efe77bd8b1fc2b361d3fed0ee222ba05914350ad5212d3ad9ad26a\n",
      "* (#1100) trying to guess the tail and head of e3cab0a98767379fbcd059750c07ec42dbd0374cb114e0f8dc3a75bbaf4eed7d3 rrpc eefcee98ea21c08e758a5da71cc7184939bf9a199624c841816895e9ba90b4f44\n",
      "* (#1200) trying to guess the tail and head of e5613166c07ded46f9074ca6cddaba62cadd73fc876593c2fb5d2acee2f493943 rmq e6b3de38ce727d7a097829c79b86ae6446afe984f9f45d55949b9e6eb03a51f9d\n",
      "* (#1300) trying to guess the tail and head of e2a8dcc1d92fecd5d42d5be4a5d6c443a97b377526ad778b5607e2faae5dcac2d rmq e17c70303e1031e4b7861cac231ed612cbdad18d9f3607abd1b539a5aaf570246\n",
      "* (#1400) trying to guess the tail and head of e1b4bc6dbf3d822b1bb7f996d2913a9b195582a91aeb84a0b57d2d47f7e28fed4 rrpc e379e23daa893e9f183169734b12ee6c2ca81ca05d270a8ded42d4fa1b41fa0b6\n",
      "* (#1500) trying to guess the tail and head of e734e152d29e81b1930a7f50e0895f2a5afd158c01b625d29032a5cfddf70909b rdb e3beb8f0ef32c3bf5b983bbe77bf2b373677e069d39077e945f704a5d3b2782cd\n",
      "* (#1600) trying to guess the tail and head of e9322887398d50ec9bddddaf0f9bbbb0c20d964dcda2118b0f7f8a9c19c6f0045 rdb e12bc3fe2791d9f2946a74114ff349795461e695a099ae3f4fe0f76ea5ce4476d\n",
      "* (#1700) trying to guess the tail and head of e7eb1b4f98696dc651c7a2ddcf3d33fc24307a9ceffea6f4d6202b2457130938c rmc e6f83eed1237572824fa0807fb2414de831c989c6392cca51f3364b655804153b\n",
      "* (#1800) trying to guess the tail and head of edb26cc26fdae0d5456cff568d5721bc86eb0531ed3c850bf42d51a8783bb5614 rmc e65da4ff51280b56e8ce1c60bf1ccbb855727d731f421f49af5a97d1f59013be5\n",
      "* (#1900) trying to guess the tail and head of e5cca70246befb1f4c9546d2912b9419dee54439218efa55a7a2e0e26e86ad749 rrpc e2888a351e30955adb09e56e906c415036ab8b10f9ebc16f834acd468b6880c6e\n",
      "* (#2000) trying to guess the tail and head of e8c4faa1c91e9ece58f84bd6a7c90e8243a14617b011ab4a7e15e8a64e500e4e8 rdb e49206fbecb8500a8cd67676acaa4caad77b6f41e409edf534014a385a5f6f165\n",
      "* (#2100) trying to guess the tail and head of e65da4ff51280b56e8ce1c60bf1ccbb855727d731f421f49af5a97d1f59013be5 rmq e40ffc05267de09b1b99d51f5630097d4006548d60a5de048cea09c000b8e043a\n",
      "* (#2200) trying to guess the tail and head of e2abd05990aa9eb81a3eaa333829ec355eaee57fbecc9e8d2e000dde5f4972378 rrpc ed680950b029230261f4e2bd4f2134bcd9e519b152d595e9566728c57910a097f\n",
      "* (#2300) trying to guess the tail and head of e09f0f423d4773a5aca064e6f91479cb9ba13ea4a82cfb6dd2123e685152fad59 rdb e05b41ed6330cc889fce974086f1da6311fdc23396a1531a9dda4b69e41a23333\n",
      "* (#2400) trying to guess the tail and head of e4346785c51657ac12c3b03236666aec286c40f6eafafd1ddeee528966e8f4074 rdb ef10612cc80a4777bcb0f9025041b3e4a9d8de8b20bfd2dcb0ab1406cbeeaeaf5\n",
      "* (#2500) trying to guess the tail and head of e491464bed931cda80a9ee6a426e1e3260eea77730633f575620617a8d4ef5676 rmq eb08b5cc288bca62eeaa415de1c4c5bf5ee48a16c8682afef5a76c6940d514303\n",
      "* (#2600) trying to guess the tail and head of e6d430ad304b8dcafd1de32f381686201e2cda1b6deec56f16cf9f3d1101fa3d1 rmq edcd12288c7943871c82626398763fc1b08dce250000117c097c6bb739d39e962\n",
      "* (#2700) trying to guess the tail and head of ec4e724aa432298ca987779a0ec428c164677a1837888d163f1fd383f76c7466c rdb e3e136ffd19b634b7c05b382094dd7b73b39b52bce1e155a1373e1df1cd156e21\n",
      "* (#2800) trying to guess the tail and head of e9a9e8613b6d7d1b573ba38dba19eec9c3cc460ab00cb49a7e7bfb0d93bac9262 rrpc ebb881904c960844ae7a52eb43b74dee4991917864e2cace78dbac86de8d09ef2\n",
      "* (#2900) trying to guess the tail and head of ed81f6986bfd5a1f2c5b608f22fcad4925fcf3adb818975535d570965dc9ace12 rdb e5b563df180af0e674902ffbeddf022580eee216f0a172f384628e569c0fe8ef6\n",
      "* (#3000) trying to guess the tail and head of e648b2a0c2f0a2c60f552c18abbc9ac747657751fc8db49d0f18cc6c5f9f81fe0 rrpc edf8fe398881ae479dd906a3cea9256035091f8c67ab447e5e20c6ccce1f5c0c7\n",
      "* (#3100) trying to guess the tail and head of ea26d8a061bed53abe470c2a0bb1fbaed4cdcae40452d57f58c68fe2e4a6a5c2d rmq e053815790b2638b2020249f04bc88e28f5752d90b9632bb355c3a4d83c64dcae\n",
      "* (#3200) trying to guess the tail and head of edf8947cffa107dd0e0f0aff1f2efe3f2b49b14d423383f305a807091a6c9a2b3 rrpc e621a90542ca4faafe32a172d06626d2aeb5e2edf12d6633f1a72120c885017c4\n",
      "* (#3300) trying to guess the tail and head of eb0fa9dc69e29c29895bd735ff25660166396f71c71c4e1d8b567bd88bc2c9f7a rdb e87f3522e7b259f45398e495f02e0afd54d9bd8f77959c6d5e178647ce4e1d9ce\n",
      "* (#3400) trying to guess the tail and head of e8b77758cc78d6030e4c5ce0e39217444c09185c22bcfa2a01220502afaba7820 rdb e384c1fd74efa0dce3dc948ea67b088115573f9f76792beb17b8fe9431d95a524\n",
      "* (#3500) trying to guess the tail and head of e0c14105be55f6df09b6243905cccc09000f5bd2bcfb131d6b888f618275de0b2 rdb ed9d038fd615d4381e5c55b813f328e9e7dd4f9e6137328146e851f1c778ce358\n",
      "* (#3600) trying to guess the tail and head of ec964e78e1ee643babee3c48807207a39596bdc816e5ceb5c766c408648887747 rmc e4d718731b958305d013cf5402a71545b3ffb273f03de75c5cd46c8c3fb30c958\n",
      "* (#3700) trying to guess the tail and head of ec964e78e1ee643babee3c48807207a39596bdc816e5ceb5c766c408648887747 rmc eca41260ebc1e237811a3c1917805d7febafab38b58ea8c5645c0ef13dd6e5a48\n",
      "* (#3800) trying to guess the tail and head of e5e79453d4a01b1bd2ccf59e3ef49ad1722a13a5622876611fe7539393a70d491 rmq ec133d5f7eb91a127d94757ce7915ee3bceba0a25e951465a4e2284cae2a67db2\n",
      "* (#3900) trying to guess the tail and head of e0fa2fcfb8fbfd11222c0243e9bf61e706b1cb82dca1aed8f4cc08358b1cbcdf8 rmc eb7c586427019cad1c520762eac1ad8bacc8c1599fe2202e045f83cf0b3a9a680\n",
      "* (#4000) trying to guess the tail and head of eb68302f5eb1757252f99d271d201e36a6761dc25c4c21df5c996b31a628a1e1b rdb eafd45c934f07a26cb051f0dcaba4934fed1612f9c8a02dcee53bdc5e40363745\n",
      "* (#4100) trying to guess the tail and head of edcd12288c7943871c82626398763fc1b08dce250000117c097c6bb739d39e962 rmq e3be7a67acafe0896813d41ccdbeeeb8ef4d978c5ebe6806e1426c96062c2f22d\n",
      "* (#4200) trying to guess the tail and head of e1ac3871de7fc233a06193a50267725ea7f6448f10722ab36300969b3f25afba7 rrpc e1ac3871de7fc233a06193a50267725ea7f6448f10722ab36300969b3f25afba7\n",
      "* (#4300) trying to guess the tail and head of efe1c1b555b650c8a5c38d93fd204ef573e2d7f851096ef2d9b3cd630a9a77469 rrpc e503dea66740548bcc1d3d52c47a99bf44b8976370ce3651e09e0e363e6a4d5f5\n",
      "* (#4400) trying to guess the tail and head of e30afae71a88e6766dbda59fbfd5a627427064018d1f24bf3ce70710cb735ac4b rdb eb9627cebdbefab957a1297a067bfd4a3f0237cb37c6af0639d44df2227e653c6\n",
      "* (#4500) trying to guess the tail and head of edf223980f882232141d2a3fd8b1780c172c8eb8ab149468d897ca75e4843d9ce rdb e389ad8ab3bfc96886e6b190ec247e6a11f0a83febf571511590eaa3edf92d529\n",
      "* (#4600) trying to guess the tail and head of e740aabf2b117031b0d91235bb5e78a0999835e1cf94ecade29a23426eba54315 rdb e1996cc4f1676e057f7f46803924d8378fc619880fb67652da1282b5524bfb411\n",
      "* (#4700) trying to guess the tail and head of e0b61a4ab34de5bfe597a9cb51e9837c25861d701c494ae8c410d7316effcda00 rdb e808fba1f65d933c2cd6097446ae0cec5a3415c5e94b4f84d816404204b4c79e6\n",
      "* (#4800) trying to guess the tail and head of ed88b987978cf3a728e1a9d480f30f72538c62d5d3c7e44b326250a48c4906c99 rdb edf852dd1a8bed8b9cbd268b62e0383afaeb5829e9d3ee72532ec0e878c4b542b\n",
      "* (#4900) trying to guess the tail and head of e931756058560ddf3d08e2ca2ec64e953f0bb288e2a0a71771baff62b9c93f876 rrpc e4a68b27bbf2ffec996c52b47c89267138ff342b1f10761085bb3fa2e2c521591\n",
      "* (#5000) trying to guess the tail and head of e6d430ad304b8dcafd1de32f381686201e2cda1b6deec56f16cf9f3d1101fa3d1 rmq e2acfd7708f39b85b3a441f9e804b269630cb72c115c8ac86d786a08d30f8e86f\n",
      "* (#5100) trying to guess the tail and head of eaf00b6c9a391f51fb192972f11f778e60d0fbfc2b2e305c7023d1cb80d956687 rmq e81da45152cce70f229b6fe9abdf8e303a5ec88da52bf60e80b23edb2bf8d468e\n",
      "* (#5200) trying to guess the tail and head of e4d718731b958305d013cf5402a71545b3ffb273f03de75c5cd46c8c3fb30c958 rrpc ee003a0916ca9142533d444f52511b29ef18e37eb0ce7d155c8c7604e84b1cedc\n",
      "* (#5300) trying to guess the tail and head of eafa4e280567fd5ad022a76dd08fd09a455015a08667567149ccbdcc40e9ed1d6 rdb ef1404a0906a112d635cb1f378151a247d12e0f084e668feebf578cbd45364b09\n",
      "* (#5400) trying to guess the tail and head of e01d660afcfadafd587e20ec4c04ddbc7eb0de95643ba0eec5fc1aeb15e341a85 rmc e9538902d915d52c4f733991ed4b0b4981f74ae9ae8ceafc103d4556f2f65184a\n",
      "* (#5500) trying to guess the tail and head of e12f51261bf42f6b85635ecca44ac254aaab6667c7e15ad2471218d4525b7c3d0 rdb e27b124d9646382aafc353839d486338edceeb1bb03cbe143fa87c86c147cc84a\n",
      "* (#5600) trying to guess the tail and head of ef86c83e7a535ddb1aa1d5de7b9f049bed3bad1986019e8b5cbd7fa2714f8d4ad rrpc eb58ba81e712e15281eb93074ed026a844f5100024d91b25f2742b5d5e8bedd9f\n",
      "* (#5700) trying to guess the tail and head of ede588a634ebce1e66a3d248c807ffc4acd89cb373868322c20398195bfc06179 rdb e7dfeab39fda8164a68843fdaf4eac1bd14cdf52c148e4f913276964053e448ea\n",
      "* (#5800) trying to guess the tail and head of e06b2cb3f2c27cb6b08c76b57e4474e47957d5dd84bc105bf97b1cfbe422c5418 rdb e36fd84f1aae82d8aabe12f4c85da743e99dc0cd42b2527e103ce76528458b46c\n",
      "* (#5900) trying to guess the tail and head of e22d224f75f4f999afece1cf6bfed04807dfd93d36610bc78840ec0c666c6cfcf rrpc e58d745e6fac32dd9ddb2db4a491e3d5deed19311aa01098b095e95338dc794f2\n",
      "* (#6000) trying to guess the tail and head of ee310606888ea1e1a32da785c17ca8c8c37c95df5197b9b1a2600e3339163a2fc rrpc e8e670673d7d77f177d6e00b4cfe2dc6bc1ae77eea1e079f3ef83586b705b94a4\n",
      "* (#6100) trying to guess the tail and head of e01d660afcfadafd587e20ec4c04ddbc7eb0de95643ba0eec5fc1aeb15e341a85 rmc e1cd365af6bd85b1ab2967ad1fd71b349c4269b6028bb3d8397b99ba24cb38d16\n",
      "* (#6200) trying to guess the tail and head of ead4b5a66b618df744029caee1886be769332afdfb1d86cff8adb59999fa5e290 rdb e9834584690d0d9733f92e731af337cd42dec67c0d987fce05903ced52a8f09e1\n",
      "* (#6300) trying to guess the tail and head of e299987531181b3f3178c92b540c3fac3564df8c34a6e5ecf6d27a0426671d102 rdb e5cca70246befb1f4c9546d2912b9419dee54439218efa55a7a2e0e26e86ad749\n",
      "* (#6400) trying to guess the tail and head of e8127ad43748d21418691f220ce20a81c9f73e6816f7fe91a5949b35957743b39 rmq ec133d5f7eb91a127d94757ce7915ee3bceba0a25e951465a4e2284cae2a67db2\n",
      "* (#6500) trying to guess the tail and head of ef65aa2861ecf9d9507a6ea38c4fd8d60811926246fd1608bf0fba1b2d49328f9 rmc e904df07378800893ad8ea3ed6411b954132d87d030cceab0775406746c8d7bee\n",
      "* (#6600) trying to guess the tail and head of e8d73add44a0f842945ab32d843e9b6701a817c6d062b8649888848f8eb6a066a rdb e389ad8ab3bfc96886e6b190ec247e6a11f0a83febf571511590eaa3edf92d529\n",
      "* (#6700) trying to guess the tail and head of e36c6713f1361dd6958fefdfd9d9944e4204d8415e2cbf1a306a2487fb5b53061 rdb e090feb81eea5d567b4d2f08e87c807078547f8a77d27d4087ce30e07591fb661\n",
      "* (#6800) trying to guess the tail and head of ecd05ebad886ebb1df7412ce1f594eeba1839c5f62823eb3f1903bf42ac07daf3 rrpc e0112c2bb3225e7ee61ff50ef0725282464270b8858ba7da11a2b2ef046f49a4e\n",
      "* (#6900) trying to guess the tail and head of e19bf629d5c9ca676ae5571e1ff501172ef1dbcedc1b77e304200534a2eccdf02 rrpc ed2eded861edc4950ded586227c605416c113bc947bc4158abf706f5b757945b8\n",
      "* (#7000) trying to guess the tail and head of e31925448ea453d68038ab3d178a2cf3e9475033eb32e0fc72cb848028fc495f6 rdb e0758b289ee4779a26ea2fd70edcfa67cb5c13ebc2ccef286566eae994a461490\n",
      "* (#7100) trying to guess the tail and head of ed7d752973996164e10aa1931f509405dd06e82c962a6c288c2318b1f10f8a9b7 rdb e5bad11212c07c5ad329c063cfe366524c9cf864b3bb843ffb90c3e42c05fa733\n",
      "* (#7200) trying to guess the tail and head of e47a0e4ec57fe4e77aa52689a2447f036257a9edbc41ba981e93a3e28883b4970 rmq e81da45152cce70f229b6fe9abdf8e303a5ec88da52bf60e80b23edb2bf8d468e\n",
      "* (#7300) trying to guess the tail and head of e23bdd392279c3f7f575cdcca6c022c7403272aea434e9e116e15901ec787a9f3 rrpc ee370ad9ea5d2077ee84c0ee29ed37361fd3867c03ffa29b1b9b886231470e651\n",
      "* (#7400) trying to guess the tail and head of e1a144a2877aeac30613c14ada95db893c99ae3bafbd892eac4f11e5015e437a8 rdb e5097d65c0efe89f59dcda0b6da0dce47a64180b02fc1ed4c28bc92fcb4c811e6\n",
      "* (#7500) trying to guess the tail and head of e1d6b7d4a77b27461c424bc90cd7b3df5073e97846a9cf2255f1bb6320ca24698 rdb eb72f2acb9510fcb39c424da5b570f4089ff2d7071f023f3359b2b7ec1752417a\n",
      "* (#7600) trying to guess the tail and head of e39941cd5d9ee45144faf14af503db83864642575fb8b449cdeb06869ab330bbf rrpc e6f83eed1237572824fa0807fb2414de831c989c6392cca51f3364b655804153b\n",
      "* (#7700) trying to guess the tail and head of e54b89e29a8b498d3102806bd89140262d20a676df942ad91904c089d1558e834 rdb eb1601b7399bdfe0c5624ae79665315fa50a6ff01fb9e08779a3d5689039e229c\n",
      "* (#7800) trying to guess the tail and head of eeb921ac016d05c727a47628600b5ddfe83c2fb1f81c562234de5eb6426ffedfc rmc ea25db459a097f3b6aa173c3ed5dcd8377f2d342c591d6b5a1cf76cc51f99a489\n",
      "* (#7900) trying to guess the tail and head of ea51a6706733409e5dfb7f53330a2fb13d675d26d81bce5b94f3f0a54a60d2fe6 rdb e2778cbf888500779361a677eacef7afffb05d7d3f9b9838a8672a9488b9d62c4\n",
      "* (#8000) trying to guess the tail and head of ed17dd620a1f43185c1b3736192b3c7e951800b7640a8926f8269d04cac71bf99 rdb eca43d1f2ea299b9b42bc6e93012b318adbefeeac621c82ef732fcd0241465d62\n",
      "* (#8100) trying to guess the tail and head of efffef77bab8bf83690a02ce39dcc1dc9ecf398b4e4b2ca807182dc21a976a940 rmc efbf52b5a81924e56dc664a6e1433c8b35bfbc951f429c2e7ba2546f6544b008e\n",
      "* (#8200) trying to guess the tail and head of e70ab407e4ce86945c74215b08dd55136d68464de028e26d4650265f75762c28a rdb e2024dd56b448408239935e936c2207dd15fcdb98e4b7c65cead837a68216adbc\n",
      "* (#8300) trying to guess the tail and head of ea6393a5d3d36725de4d60b3075253bf1b1e9f52596f9a94776691e868be03090 rmc ef47406d81e4faa00cf3d4a2576cd94720ed7bf5f50c32bfe83c606e5587129e1\n",
      "* (#8400) trying to guess the tail and head of ee9cb3c60df3af15ddbb2fc90c94d3865bea46eb4784857cba5bfdb2b217306f9 rmc ef2d285fe856e974249429358f063c713d71d35a0673ad193bb975216f56659ae\n",
      "* (#8500) trying to guess the tail and head of ed843da01607ac6d94ec49df5a1d8408e134abd67c572c4cf1dfb23877c39e468 rdb e58d745e6fac32dd9ddb2db4a491e3d5deed19311aa01098b095e95338dc794f2\n",
      "* (#8600) trying to guess the tail and head of e47a03e4b021da88f0d1960c36fbc682f01272713baee4aa6db2c8a3d76d519b3 rdb ee845cc423a676d6789697de9ca283b123e4c846b0a3246067487be792a57f74b\n",
      "* (#8700) trying to guess the tail and head of e6709b66913ab86847de001c6c3875cb00b62b6b95bfbdc59f1725bf97dd1aece rdb e494adce3f0f260dc3cccf1bd5a138f8eb34988d6fb46cc8af3b9c8df4954781e\n",
      "* (#8800) trying to guess the tail and head of e515691d0421dedd130a5d03dae7fe44b2167841d679502120c731a57cf75c255 rmq efb750d9e38225fe305f254bb00cfba22138845328abf1564dbda306910bd66a5\n",
      "* (#8900) trying to guess the tail and head of e38a03d7cd6275fa2afb09a5d200db33d4029fad9cfd3e7e118f9bb7c2c809ad0 rdb e87f3522e7b259f45398e495f02e0afd54d9bd8f77959c6d5e178647ce4e1d9ce\n",
      "* (#9000) trying to guess the tail and head of ea43602716c2a2554271fe13b83bd1272bdd50c6aa6fdc41761c8b938822258f0 rdb e856af0816af9ddb8bb358a6448f19d434e20d973a34ea4e7a9aa2ed51a9c80cb\n",
      "* (#9100) trying to guess the tail and head of eab349b930756ee2ec25c9a4ac09c30e075fb5978c83fe0607f2cec41b1d5042c rmc e142ebf30f6db420ec04533c0ad7ed2c41e59b3a2fc5411b087cf1fa5183268fb\n",
      "* (#9200) trying to guess the tail and head of e9efdf438fd3e4505d5109b5aaf548c0eba049a5412ec51319201ef07851525e1 rdb edca002c6e70a8600ef097c9dd02378c6c07e1eae5c6f4c704f5c89039f128154\n",
      "* (#9300) trying to guess the tail and head of eb5bc4491a28e56245811b1096dfcbdd1958facc07830d11726639be0c7b9d1f9 rdb e1173ba98a2c84b42c4b6a85223f27e096286607c73cbc03134d9b2f4047d70d9\n",
      "* (#9400) trying to guess the tail and head of ef084f38ee70095265645cf0e6844023178d3605513a06b5feccf1b972c170f5a rmc e2837039cc2a885ab18e4c0f4150403dc1b81283e57c8339a540be7923dd612ae\n",
      "* (#9500) trying to guess the tail and head of ef841e584f80b5f4acc16bb0adcb026e749209eb5ac1a5c507cb9e1e68646225b rdb ee15776693a99c0fd9881f31803e77c51921f084f6c54b8e7b947d34a2ee98ee0\n",
      "* (#9600) trying to guess the tail and head of e4efdf348bc5edf26db61fe8aa92fa549c7370fb2ebc7bccd31be2a16e6e6a90c rdb ed5bc1e253973fc65d78605e70135ca880fee4d90b3a97999765a00ffec4dcf3f\n",
      "* (#9700) trying to guess the tail and head of e352bf7bb8b159f8d550bf40539a3bd2e2609202aaf53a7b2d253954a74388711 rrpc e0de03689ba0ad895ba88a1084f5f3cf8b2d47d10f5cbcf1265dfaf6ba888d54d\n",
      "* (#9800) trying to guess the tail and head of e20bd88da767168ca9f63acb66cc64952ad2714e81b826ea1edb07edb18fcaab6 rdb eefe05d921024a20dbae74cf1a98bdab5ba56e149904fd1bce5ef71aaf9b87f60\n",
      "* (#9900) trying to guess the tail and head of ec0836e9a6796911d8878a53104f13049f489bfe6c9300cba28e9ad684084a12f rmc e326237ae9be278679b338bd5215fa638a50bf401df244f87880f795de01c1d84\n",
      "* (#10000) trying to guess the tail and head of e4e1b6853f1f58091f522c5c1d3c807a4a98f2b8bd0dcbd4b41db58b16067954a rrpc e2b91b00c672bb57bcd7ea4f5ce3d380a1b80d1ce98b2f709eaf14d2edb60b60b\n",
      "* (#10100) trying to guess the tail and head of e5e5dac309827db024dac61af6d049e07d53538929a3526a56a1d3705f234c8f4 rrpc e3933852eeabee5144914b5e85d3dd888b0278d85915e72ed28b4002ca0ee7054\n",
      "* (#10200) trying to guess the tail and head of ed8957397d8ee5f3a730dcb3256f8a3a3eb44f4579f219664b7e6770139dc531b rrpc e33fd52d484238c36ed68f4d5510321ca8add4bea591adf7a7108fef78c5ba4ba\n",
      "* (#10300) trying to guess the tail and head of ede2c6120aacb37b363fe13319c9086fec78e300e081660eda4fc110320abafa9 rdb edca002c6e70a8600ef097c9dd02378c6c07e1eae5c6f4c704f5c89039f128154\n",
      "* (#10400) trying to guess the tail and head of e5e7c5984d434e610e18a74e6b521be561d928616a4da8a24575edc9cff191bd1 rdb ecc5cd515c2e9296d67ccd1801e78a83400ade27579fb7dff6e13404368208f22\n",
      "* (#10500) trying to guess the tail and head of eeed99f39ac2fa5f003cf497e43dcf348d6eaf7a70fd2a39450cdc24131fd08a6 rrpc ecdd1ee8a03fe59abc3167de7fbded02da967a366110546ecd92dfd6c5dfeae2a\n",
      "* (#10600) trying to guess the tail and head of e5c3cf4a5af5590ca8ac77fce172f64edfe728862825a5f2b37a4bd0bf3fe1807 rdb e1fb6f2057ab3ddd76b06870346df5c89be3d125b58ae53d0dddeb9486fa7b9eb\n",
      "* (#10700) trying to guess the tail and head of e7825142e27fab24b82c73f9225866cf15b2c7d4eaef81b71c84449897a8904c1 rdb eefe05d921024a20dbae74cf1a98bdab5ba56e149904fd1bce5ef71aaf9b87f60\n",
      "* (#10800) trying to guess the tail and head of e389ad8ab3bfc96886e6b190ec247e6a11f0a83febf571511590eaa3edf92d529 rrpc e22c8ba984fe2f64ad6b7d8a8607dee4573f0161abfd3cbf9018c4bbabc682193\n",
      "* (#10900) trying to guess the tail and head of e2f8518be15ca0ab0a966af025c70579e2dd4940a78905ce82215c4c2dc829982 rdb ec7163cb734e8cfcdc6596c823a2c00a1556e5f354ed40533a5d69a9b18861539\n",
      "* (#11000) trying to guess the tail and head of e5e4c59beb0175812d56562f40cedc8a9b2ac3371b98746570b2489f118477495 rdb e9a606a4bbdacfd1aa9a04192e7466a3eb1f7afc9e24a5381de336951881b3eb7\n",
      "* (#11100) trying to guess the tail and head of e906851a3b0bbfecb348804f8de2e93dc393c4764a3d22e9fa1cfa7de6025dd98 rrpc e906851a3b0bbfecb348804f8de2e93dc393c4764a3d22e9fa1cfa7de6025dd98\n",
      "* (#11200) trying to guess the tail and head of e1ef3e9820a0cd97ef806a682fa6484d44758aaa46290ba5696f47fe760dd8ba4 rdb e8c668296f4ee5134867e07e2196acd9e2f76181bc6983a777a030ed50ddcd933\n",
      "* done with rule application\n",
      "* evaluated 388656 rules to propose candiates for 11202*2 completion tasks\n",
      "* finished in 50610ms.\n",
      "\n"
     ]
    }
   ],
   "source": [
    "predict_prop = f'PATH_TRAINING = MSCallGraph_train_transductive.tsv\\nPATH_VALID    = MSCallGraph_validation_transductive.tsv\\nPATH_TEST     = MSCallGraph_test_transductive.tsv\\nPATH_RULES    = rules-100\\nPATH_OUTPUT   = preds-100\\nWORKER_THREADS = 30\\nTOP_K_OUTPUT = 100\\nSAFE_PREFIX_MODE = true'\n",
    "f = open(\"predict_prop.txt\", \"w\")\n",
    "f.write(predict_prop)\n",
    "f.close()\n",
    "!java -Xmx1G -cp AnyBURL-23-1.jar de.unima.ki.anyburl.Apply predict_prop.txt"
   ]
  },
  {
   "cell_type": "code",
   "execution_count": 11,
   "id": "48390a3d",
   "metadata": {},
   "outputs": [
    {
     "data": {
      "text/plain": [
       "['reading params from file eval_prop.txt',\n",
       " '* read 35559 triples',\n",
       " '* indexed 10000 triples',\n",
       " '* indexed 20000 triples',\n",
       " '* set up index for 6 relations, 16490 head entities, and 3591 tail entities',\n",
       " '* read 8801 triples',\n",
       " '* set up index for 6 relations, 4087 head entities, and 1815 tail entities',\n",
       " '* read 11202 triples',\n",
       " '* indexed 10000 triples',\n",
       " '* set up index for 6 relations, 4708 head entities, and 1945 tail entities',\n",
       " '* loading result set at preds-100',\n",
       " '0.3523   0.4705   0.6037   0.4355']"
      ]
     },
     "execution_count": 11,
     "metadata": {},
     "output_type": "execute_result"
    }
   ],
   "source": [
    "eval_prop = f'PATH_TRAINING = MSCallGraph_train_transductive.tsv\\nPATH_VALID    = MSCallGraph_validation_transductive.tsv\\nPATH_TEST     = MSCallGraph_test_transductive.tsv\\nPATH_PREDICTIONS = preds-100\\nTOP_K = 100\\nSAFE_PREFIX_MODE = true'\n",
    "f = open(\"eval_prop.txt\", \"w\")\n",
    "f.write(eval_prop)\n",
    "f.close()\n",
    "evaluation_result = !java -Xmx1G -cp AnyBURL-23-1.jar de.unima.ki.anyburl.Eval eval_prop.txt\n",
    "evaluation_result"
   ]
  },
  {
   "cell_type": "code",
   "execution_count": 12,
   "id": "1b9e2b39",
   "metadata": {},
   "outputs": [],
   "source": [
    "testing_evaluation_duration = time.time() - start"
   ]
  },
  {
   "cell_type": "code",
   "execution_count": 13,
   "id": "57c4627c",
   "metadata": {},
   "outputs": [
    {
     "data": {
      "text/plain": [
       "['0.3523', '0.4705', '0.6037', '0.4355']"
      ]
     },
     "execution_count": 13,
     "metadata": {},
     "output_type": "execute_result"
    }
   ],
   "source": [
    "evaluation_result[-1].split()"
   ]
  },
  {
   "cell_type": "code",
   "execution_count": 14,
   "id": "f2a6983d",
   "metadata": {},
   "outputs": [
    {
     "data": {
      "text/html": [
       "<div>\n",
       "<style scoped>\n",
       "    .dataframe tbody tr th:only-of-type {\n",
       "        vertical-align: middle;\n",
       "    }\n",
       "\n",
       "    .dataframe tbody tr th {\n",
       "        vertical-align: top;\n",
       "    }\n",
       "\n",
       "    .dataframe thead th {\n",
       "        text-align: right;\n",
       "    }\n",
       "</style>\n",
       "<table border=\"1\" class=\"dataframe\">\n",
       "  <thead>\n",
       "    <tr style=\"text-align: right;\">\n",
       "      <th></th>\n",
       "      <th>hits_at_1</th>\n",
       "      <th>hits_at_3</th>\n",
       "      <th>hits_at_10</th>\n",
       "      <th>mrr</th>\n",
       "    </tr>\n",
       "  </thead>\n",
       "  <tbody>\n",
       "    <tr>\n",
       "      <th>0</th>\n",
       "      <td>0.3523</td>\n",
       "      <td>0.4705</td>\n",
       "      <td>0.6037</td>\n",
       "      <td>0.4355</td>\n",
       "    </tr>\n",
       "  </tbody>\n",
       "</table>\n",
       "</div>"
      ],
      "text/plain": [
       "  hits_at_1 hits_at_3 hits_at_10     mrr\n",
       "0    0.3523    0.4705     0.6037  0.4355"
      ]
     },
     "metadata": {},
     "output_type": "display_data"
    }
   ],
   "source": [
    "\n",
    "        \n",
    "\n",
    "\n",
    "metric_names = ['hits_at_1','hits_at_3','hits_at_10','mrr']\n",
    "\n",
    "df = pd.DataFrame([evaluation_result[-1].split()],columns=metric_names)\n",
    "df.to_csv(f\"{model_name}_entire_graph/{model_name}.csv\")\n",
    "\n",
    "    \n",
    "display(df)\n"
   ]
  },
  {
   "cell_type": "code",
   "execution_count": 18,
   "id": "55cf7480",
   "metadata": {},
   "outputs": [],
   "source": [
    "infodict = {}\n",
    "infodict['parameters bytes'] = 1e+9\n",
    "infodict['number parameters'] = 377728 #number of rules\n",
    "infodict['training duration'] = 100\n",
    "# infodict['training evaluation duration'] = training_evaluation_duration\n",
    "# infodict['validation evaluation duration'] = validation_evaluation_duration\n",
    "infodict['testing evaluation duration'] = testing_evaluation_duration\n",
    "infodict[\"Operating system name\"] = platform.system()\n",
    "infodict[\"Operating system version\"] = platform.release()\n",
    "infodict[\"Processor architecture\"] = platform.machine()\n",
    "infodict[\"Python version\"] = sys.version\n",
    "infodict[\"Processor model name\"] = cpuinfo.get_cpu_info()['brand_raw']\n",
    "infodict['Number cpu cores'] = os.cpu_count()\n",
    "infodict[\"Total physical memory\"] = psutil.virtual_memory().total"
   ]
  },
  {
   "cell_type": "code",
   "execution_count": 19,
   "id": "3c00f639",
   "metadata": {},
   "outputs": [
    {
     "name": "stdout",
     "output_type": "stream",
     "text": [
      "                           name  \\\n",
      "0              parameters bytes   \n",
      "1             number parameters   \n",
      "2             training duration   \n",
      "3   testing evaluation duration   \n",
      "4         Operating system name   \n",
      "5      Operating system version   \n",
      "6        Processor architecture   \n",
      "7                Python version   \n",
      "8          Processor model name   \n",
      "9              Number cpu cores   \n",
      "10        Total physical memory   \n",
      "\n",
      "                                                value  \n",
      "0                                        1000000000.0  \n",
      "1                                              377728  \n",
      "2                                                 100  \n",
      "3                                             53.5951  \n",
      "4                                               Linux  \n",
      "5                         3.10.0-1160.88.1.el7.x86_64  \n",
      "6                                              x86_64  \n",
      "7   3.10.9 (main, Mar  8 2023, 10:47:38) [GCC 11.2.0]  \n",
      "8            Intel(R) Xeon(R) Gold 6130 CPU @ 2.10GHz  \n",
      "9                                                  32  \n",
      "10                                        99980713984  \n"
     ]
    }
   ],
   "source": [
    "info_df = pd.DataFrame(columns=['name','value'], data = infodict.items())\n",
    "info_df.to_csv(f\"{model_name}_entire_graph/{model_name}_information.csv\")\n",
    "print(info_df)"
   ]
  },
  {
   "cell_type": "code",
   "execution_count": 20,
   "id": "ef2bc11f",
   "metadata": {},
   "outputs": [],
   "source": [
    "def zip_folder(folder_path, output_path):\n",
    "     with zipfile.ZipFile(output_path, 'w', zipfile.ZIP_DEFLATED) as zipf:\n",
    "        for root, dirs, files in os.walk(folder_path):\n",
    "            for file in files:\n",
    "                zipf.write(os.path.join(root, file))\n",
    "\n",
    "folder_path = model_name+\"_entire_graph\"\n",
    "output_path = f'{folder_path}.zip'\n",
    "\n",
    "zip_folder(folder_path, output_path)"
   ]
  },
  {
   "cell_type": "code",
   "execution_count": null,
   "id": "2ded1672",
   "metadata": {},
   "outputs": [],
   "source": []
  }
 ],
 "metadata": {
  "kernelspec": {
   "display_name": "Python 3 (ipykernel)",
   "language": "python",
   "name": "python3"
  },
  "language_info": {
   "codemirror_mode": {
    "name": "ipython",
    "version": 3
   },
   "file_extension": ".py",
   "mimetype": "text/x-python",
   "name": "python",
   "nbconvert_exporter": "python",
   "pygments_lexer": "ipython3",
   "version": "3.10.9"
  }
 },
 "nbformat": 4,
 "nbformat_minor": 5
}
