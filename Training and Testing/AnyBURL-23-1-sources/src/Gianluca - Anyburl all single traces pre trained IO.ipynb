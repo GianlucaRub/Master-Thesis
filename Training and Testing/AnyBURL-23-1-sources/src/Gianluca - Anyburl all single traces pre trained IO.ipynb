{
 "cells": [
  {
   "cell_type": "code",
   "execution_count": 1,
   "id": "2b4ec69e",
   "metadata": {},
   "outputs": [],
   "source": [
    "# !javac de/unima/ki/anyburl/*.java -d build"
   ]
  },
  {
   "cell_type": "code",
   "execution_count": 2,
   "id": "71b531a3",
   "metadata": {},
   "outputs": [],
   "source": [
    "# !jar cfv AnyBURL-23-1.jar -C build ."
   ]
  },
  {
   "cell_type": "code",
   "execution_count": 3,
   "id": "10be073d",
   "metadata": {},
   "outputs": [],
   "source": [
    "import pandas as pd\n",
    "import zipfile\n",
    "import os\n",
    "from tqdm import tqdm"
   ]
  },
  {
   "cell_type": "code",
   "execution_count": 4,
   "id": "9a39eec3",
   "metadata": {},
   "outputs": [
    {
     "data": {
      "text/plain": [
       "32"
      ]
     },
     "execution_count": 4,
     "metadata": {},
     "output_type": "execute_result"
    }
   ],
   "source": [
    "os.cpu_count()"
   ]
  },
  {
   "cell_type": "code",
   "execution_count": 5,
   "id": "cecb346f",
   "metadata": {},
   "outputs": [
    {
     "data": {
      "text/plain": [
       "svmem(total=99980713984, available=96060510208, percent=3.9, used=3464654848, free=96288153600, active=742432768, inactive=91287552, buffers=10395648, cached=217509888, shared=2842624, slab=278110208)"
      ]
     },
     "execution_count": 5,
     "metadata": {},
     "output_type": "execute_result"
    }
   ],
   "source": [
    "import psutil\n",
    "psutil.virtual_memory()"
   ]
  },
  {
   "cell_type": "code",
   "execution_count": 6,
   "id": "46015913",
   "metadata": {},
   "outputs": [],
   "source": [
    "# def train(trace_id):\n",
    "#     train_prop = f'PATH_TRAINING = MSCallGraph_traces/train/{trace_id}_transductive_train.tsv\\nPATH_OUTPUT   = rules\\nSNAPSHOTS_AT = 10\\nWORKER_THREADS = 30\\nSAFE_PREFIX_MODE = true'\n",
    "#     f = open(\"train_prop.txt\", \"w\")\n",
    "#     f.write(train_prop)\n",
    "#     f.close()\n",
    "#     _=!java -Xmx72G -cp AnyBURL-23-1.jar de.unima.ki.anyburl.Learn train_prop.txt"
   ]
  },
  {
   "cell_type": "code",
   "execution_count": 7,
   "id": "9931cc12",
   "metadata": {},
   "outputs": [],
   "source": [
    "def predict(trace_id):\n",
    "    predict_prop = f'PATH_TRAINING = MSCallGraph_train_transductive_io.tsv\\nPATH_VALID    = MSCallGraph_validation_transductive_io.tsv\\nPATH_TEST     = MSCallGraph_traces_io/test/{trace_id}_transductive_test_io.tsv\\nPATH_RULES    = rules-100\\nPATH_OUTPUT   = preds-100\\nWORKER_THREADS = 30\\nTOP_K_OUTPUT = 100\\nSAFE_PREFIX_MODE = true'\n",
    "    f = open(\"predict_prop.txt\", \"w\")\n",
    "    f.write(predict_prop)\n",
    "    f.close()\n",
    "    _=!java -Xmx72G -cp AnyBURL-23-1.jar de.unima.ki.anyburl.Apply predict_prop.txt"
   ]
  },
  {
   "cell_type": "code",
   "execution_count": 8,
   "id": "a88106a3",
   "metadata": {},
   "outputs": [],
   "source": [
    "def test(trace_id):\n",
    "    eval_prop = f'PATH_TRAINING = MSCallGraph_train_transductive_io.tsv\\nPATH_VALID    = MSCallGraph_validation_transductive_io.tsv\\nPATH_TEST     = MSCallGraph_traces_io/test/{trace_id}_transductive_test_io.tsv\\nPATH_PREDICTIONS = preds-100\\nTOP_K = 100\\nSAFE_PREFIX_MODE = true'\n",
    "    f = open(\"eval_prop.txt\", \"w\")\n",
    "    f.write(eval_prop)\n",
    "    f.close()\n",
    "    to_return = !java -Xmx72G -cp AnyBURL-23-1.jar de.unima.ki.anyburl.Eval eval_prop.txt\n",
    "    return to_return[-1]"
   ]
  },
  {
   "cell_type": "code",
   "execution_count": 9,
   "id": "9160bdda",
   "metadata": {},
   "outputs": [],
   "source": [
    "def test_metrics(traceid):\n",
    "#     train(traceid)\n",
    "    predict(traceid)\n",
    "    return(test(traceid))"
   ]
  },
  {
   "cell_type": "code",
   "execution_count": 10,
   "id": "1befd192",
   "metadata": {},
   "outputs": [],
   "source": [
    "def test_on_traces(model_name):\n",
    "    directory = model_name+\"_testing_traces\"\n",
    "\n",
    "    if not os.path.exists(directory):\n",
    "        os.makedirs(directory)\n",
    "        print(f'Directory {directory} created successfully!')\n",
    "    else:\n",
    "        print(f'Directory {directory} already exists.')\n",
    "        \n",
    "\n",
    "\n",
    "    # Specifica il percorso della cartella da cui si vogliono ottenere i nomi dei file\n",
    "    folder_path =  \"MSCallGraph_traces_io/train/\"\n",
    "\n",
    "    files_list = []\n",
    "    for filename in os.listdir(folder_path):\n",
    "        # Ottenere il nome del file\n",
    "        file_name = os.path.basename(filename)\n",
    "        files_list.append(file_name)\n",
    "    \n",
    "    metric_names = ['hits_at_1','hits_at_3','hits_at_10','mrr']\n",
    "    all_traces_list = []\n",
    "    # Scansione di ogni file nella cartella\n",
    "    with tqdm(desc=f'{model_name} testing traces', total=len(files_list)) as progress_bar:\n",
    "        for file_name in files_list:\n",
    "            # Stampa il nome del file\n",
    "            all_traces_list.append(test_metrics(file_name[:-26]).split())\n",
    "            progress_bar.update(1)\n",
    "\n",
    "\n",
    "    trace_df = pd.DataFrame(all_traces_list,columns=metric_names)\n",
    "    trace_df.to_csv(f\"{model_name}_testing_traces/trace_test.csv\")\n",
    "\n",
    "    \n",
    "    display(trace_df)\n",
    "    def zip_folder(folder_path, output_path):\n",
    "        with zipfile.ZipFile(output_path, 'w', zipfile.ZIP_DEFLATED) as zipf:\n",
    "            for root, dirs, files in os.walk(folder_path):\n",
    "                for file in files:\n",
    "                    zipf.write(os.path.join(root, file))\n",
    "\n",
    "    folder_path = model_name+\"_testing_traces\"\n",
    "    output_path = f'{folder_path}.zip'\n",
    "\n",
    "    zip_folder(folder_path, output_path)"
   ]
  },
  {
   "cell_type": "code",
   "execution_count": 11,
   "id": "5e6a5f2f",
   "metadata": {},
   "outputs": [
    {
     "name": "stdout",
     "output_type": "stream",
     "text": [
      "Directory anyburl_pretrained_io_testing_traces already exists.\n"
     ]
    },
    {
     "name": "stderr",
     "output_type": "stream",
     "text": [
      "anyburl_pretrained_io testing traces: 100%|███████████████████████████████████████| 2200/2200 [3:00:31<00:00,  4.92s/it]\n"
     ]
    },
    {
     "data": {
      "text/html": [
       "<div>\n",
       "<style scoped>\n",
       "    .dataframe tbody tr th:only-of-type {\n",
       "        vertical-align: middle;\n",
       "    }\n",
       "\n",
       "    .dataframe tbody tr th {\n",
       "        vertical-align: top;\n",
       "    }\n",
       "\n",
       "    .dataframe thead th {\n",
       "        text-align: right;\n",
       "    }\n",
       "</style>\n",
       "<table border=\"1\" class=\"dataframe\">\n",
       "  <thead>\n",
       "    <tr style=\"text-align: right;\">\n",
       "      <th></th>\n",
       "      <th>hits_at_1</th>\n",
       "      <th>hits_at_3</th>\n",
       "      <th>hits_at_10</th>\n",
       "      <th>mrr</th>\n",
       "    </tr>\n",
       "  </thead>\n",
       "  <tbody>\n",
       "    <tr>\n",
       "      <th>0</th>\n",
       "      <td>0.0000</td>\n",
       "      <td>0.0000</td>\n",
       "      <td>0.7500</td>\n",
       "      <td>0.1049</td>\n",
       "    </tr>\n",
       "    <tr>\n",
       "      <th>1</th>\n",
       "      <td>0.3636</td>\n",
       "      <td>0.5455</td>\n",
       "      <td>0.8636</td>\n",
       "      <td>0.5072</td>\n",
       "    </tr>\n",
       "    <tr>\n",
       "      <th>2</th>\n",
       "      <td>0.2500</td>\n",
       "      <td>0.2500</td>\n",
       "      <td>0.7500</td>\n",
       "      <td>0.3444</td>\n",
       "    </tr>\n",
       "    <tr>\n",
       "      <th>3</th>\n",
       "      <td>0.7500</td>\n",
       "      <td>1.0000</td>\n",
       "      <td>1.0000</td>\n",
       "      <td>0.8333</td>\n",
       "    </tr>\n",
       "    <tr>\n",
       "      <th>4</th>\n",
       "      <td>0.0000</td>\n",
       "      <td>0.0000</td>\n",
       "      <td>0.5000</td>\n",
       "      <td>0.0714</td>\n",
       "    </tr>\n",
       "    <tr>\n",
       "      <th>...</th>\n",
       "      <td>...</td>\n",
       "      <td>...</td>\n",
       "      <td>...</td>\n",
       "      <td>...</td>\n",
       "    </tr>\n",
       "    <tr>\n",
       "      <th>2195</th>\n",
       "      <td>0.6667</td>\n",
       "      <td>0.6667</td>\n",
       "      <td>0.8333</td>\n",
       "      <td>0.7009</td>\n",
       "    </tr>\n",
       "    <tr>\n",
       "      <th>2196</th>\n",
       "      <td>0.3000</td>\n",
       "      <td>0.7000</td>\n",
       "      <td>0.9000</td>\n",
       "      <td>0.4912</td>\n",
       "    </tr>\n",
       "    <tr>\n",
       "      <th>2197</th>\n",
       "      <td>1.0000</td>\n",
       "      <td>1.0000</td>\n",
       "      <td>1.0000</td>\n",
       "      <td>1.0000</td>\n",
       "    </tr>\n",
       "    <tr>\n",
       "      <th>2198</th>\n",
       "      <td>0.4286</td>\n",
       "      <td>0.7857</td>\n",
       "      <td>0.8571</td>\n",
       "      <td>0.5723</td>\n",
       "    </tr>\n",
       "    <tr>\n",
       "      <th>2199</th>\n",
       "      <td>0.1667</td>\n",
       "      <td>0.5000</td>\n",
       "      <td>1.0000</td>\n",
       "      <td>0.4167</td>\n",
       "    </tr>\n",
       "  </tbody>\n",
       "</table>\n",
       "<p>2200 rows × 4 columns</p>\n",
       "</div>"
      ],
      "text/plain": [
       "     hits_at_1 hits_at_3 hits_at_10     mrr\n",
       "0       0.0000    0.0000     0.7500  0.1049\n",
       "1       0.3636    0.5455     0.8636  0.5072\n",
       "2       0.2500    0.2500     0.7500  0.3444\n",
       "3       0.7500    1.0000     1.0000  0.8333\n",
       "4       0.0000    0.0000     0.5000  0.0714\n",
       "...        ...       ...        ...     ...\n",
       "2195    0.6667    0.6667     0.8333  0.7009\n",
       "2196    0.3000    0.7000     0.9000  0.4912\n",
       "2197    1.0000    1.0000     1.0000  1.0000\n",
       "2198    0.4286    0.7857     0.8571  0.5723\n",
       "2199    0.1667    0.5000     1.0000  0.4167\n",
       "\n",
       "[2200 rows x 4 columns]"
      ]
     },
     "metadata": {},
     "output_type": "display_data"
    }
   ],
   "source": [
    "test_on_traces(\"anyburl_pretrained_io\")"
   ]
  },
  {
   "cell_type": "code",
   "execution_count": null,
   "id": "0e38d411",
   "metadata": {},
   "outputs": [],
   "source": []
  },
  {
   "cell_type": "code",
   "execution_count": null,
   "id": "137ee9f5",
   "metadata": {},
   "outputs": [],
   "source": []
  }
 ],
 "metadata": {
  "kernelspec": {
   "display_name": "Python 3 (ipykernel)",
   "language": "python",
   "name": "python3"
  },
  "language_info": {
   "codemirror_mode": {
    "name": "ipython",
    "version": 3
   },
   "file_extension": ".py",
   "mimetype": "text/x-python",
   "name": "python",
   "nbconvert_exporter": "python",
   "pygments_lexer": "ipython3",
   "version": "3.10.9"
  }
 },
 "nbformat": 4,
 "nbformat_minor": 5
}
