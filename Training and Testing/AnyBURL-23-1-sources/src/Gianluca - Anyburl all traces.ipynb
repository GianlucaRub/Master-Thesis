{
 "cells": [
  {
   "cell_type": "code",
   "execution_count": 1,
   "id": "4cee0489",
   "metadata": {},
   "outputs": [],
   "source": [
    "!javac de/unima/ki/anyburl/*.java -d build"
   ]
  },
  {
   "cell_type": "code",
   "execution_count": 2,
   "id": "40b433d4",
   "metadata": {},
   "outputs": [
    {
     "name": "stdout",
     "output_type": "stream",
     "text": [
      "added manifest\n",
      "adding: de/(in = 0) (out= 0)(stored 0%)\n",
      "adding: de/unima/(in = 0) (out= 0)(stored 0%)\n",
      "adding: de/unima/ki/(in = 0) (out= 0)(stored 0%)\n",
      "adding: de/unima/ki/anyburl/(in = 0) (out= 0)(stored 0%)\n",
      "adding: de/unima/ki/anyburl/Apply.class(in = 9153) (out= 5041)(deflated 44%)\n",
      "adding: de/unima/ki/anyburl/Eval.class(in = 4680) (out= 2438)(deflated 47%)\n",
      "adding: de/unima/ki/anyburl/exceptions/(in = 0) (out= 0)(stored 0%)\n",
      "adding: de/unima/ki/anyburl/exceptions/RuleFunctionalityBasicSupportOnly.class(in = 567) (out= 384)(deflated 32%)\n",
      "adding: de/unima/ki/anyburl/threads/(in = 0) (out= 0)(stored 0%)\n",
      "adding: de/unima/ki/anyburl/threads/RuleWriterAsThread.class(in = 4034) (out= 2036)(deflated 49%)\n",
      "adding: de/unima/ki/anyburl/threads/Predictor.class(in = 1523) (out= 657)(deflated 56%)\n",
      "adding: de/unima/ki/anyburl/threads/Scorer.class(in = 4873) (out= 2552)(deflated 47%)\n",
      "adding: de/unima/ki/anyburl/eval/(in = 0) (out= 0)(stored 0%)\n",
      "adding: de/unima/ki/anyburl/eval/Candidate.class(in = 935) (out= 533)(deflated 42%)\n",
      "adding: de/unima/ki/anyburl/eval/CompletionResult.class(in = 6355) (out= 2699)(deflated 57%)\n",
      "adding: de/unima/ki/anyburl/eval/ResultSet$1.class(in = 1137) (out= 583)(deflated 48%)\n",
      "adding: de/unima/ki/anyburl/eval/HitsAtK.class(in = 7106) (out= 3243)(deflated 54%)\n",
      "adding: de/unima/ki/anyburl/eval/ResultSet.class(in = 13380) (out= 6140)(deflated 54%)\n",
      "adding: de/unima/ki/anyburl/eval/AlternativeMentions.class(in = 3039) (out= 1547)(deflated 49%)\n",
      "adding: de/unima/ki/anyburl/Learn.class(in = 9856) (out= 5632)(deflated 42%)\n",
      "adding: de/unima/ki/anyburl/Settings.class(in = 3595) (out= 2013)(deflated 44%)\n",
      "adding: de/unima/ki/anyburl/structure/(in = 0) (out= 0)(stored 0%)\n",
      "adding: de/unima/ki/anyburl/structure/ScoreTree.class(in = 9146) (out= 4359)(deflated 52%)\n",
      "adding: de/unima/ki/anyburl/structure/Body.class(in = 4843) (out= 2229)(deflated 53%)\n",
      "adding: de/unima/ki/anyburl/structure/Rule.class(in = 6751) (out= 2883)(deflated 57%)\n",
      "adding: de/unima/ki/anyburl/structure/Dice.class(in = 6356) (out= 3590)(deflated 43%)\n",
      "adding: de/unima/ki/anyburl/structure/RuleFactory.class(in = 2317) (out= 1137)(deflated 50%)\n",
      "adding: de/unima/ki/anyburl/structure/compare/(in = 0) (out= 0)(stored 0%)\n",
      "adding: de/unima/ki/anyburl/structure/compare/RuleConfidenceComparator.class(in = 778) (out= 430)(deflated 44%)\n",
      "adding: de/unima/ki/anyburl/structure/RuleUntyped.class(in = 5222) (out= 2160)(deflated 58%)\n",
      "adding: de/unima/ki/anyburl/structure/RuleAcyclic2.class(in = 3497) (out= 1703)(deflated 51%)\n",
      "adding: de/unima/ki/anyburl/structure/RuleCyclic.class(in = 13450) (out= 5749)(deflated 57%)\n",
      "adding: de/unima/ki/anyburl/structure/RuleZero.class(in = 3503) (out= 1365)(deflated 61%)\n",
      "adding: de/unima/ki/anyburl/structure/RuleAcyclic.class(in = 11783) (out= 4821)(deflated 59%)\n",
      "adding: de/unima/ki/anyburl/structure/Path.class(in = 2160) (out= 1179)(deflated 45%)\n",
      "adding: de/unima/ki/anyburl/structure/RuleAcyclic1.class(in = 4882) (out= 2181)(deflated 55%)\n",
      "adding: de/unima/ki/anyburl/structure/Atom.class(in = 6255) (out= 2898)(deflated 53%)\n",
      "adding: de/unima/ki/anyburl/io/(in = 0) (out= 0)(stored 0%)\n",
      "adding: de/unima/ki/anyburl/io/RuleReader.class(in = 5111) (out= 2734)(deflated 46%)\n",
      "adding: de/unima/ki/anyburl/io/IOHelper.class(in = 3268) (out= 1440)(deflated 55%)\n",
      "adding: de/unima/ki/anyburl/algorithm/(in = 0) (out= 0)(stored 0%)\n",
      "adding: de/unima/ki/anyburl/algorithm/RuleEngine.class(in = 14751) (out= 5967)(deflated 59%)\n",
      "adding: de/unima/ki/anyburl/algorithm/PathSampler.class(in = 3692) (out= 1899)(deflated 48%)\n",
      "adding: de/unima/ki/anyburl/algorithm/RuleEngine$1.class(in = 1135) (out= 575)(deflated 49%)\n",
      "adding: de/unima/ki/anyburl/data/(in = 0) (out= 0)(stored 0%)\n",
      "adding: de/unima/ki/anyburl/data/SampledPairedResultSet.class(in = 1961) (out= 1007)(deflated 48%)\n",
      "adding: de/unima/ki/anyburl/data/Triple.class(in = 3215) (out= 1597)(deflated 50%)\n",
      "adding: de/unima/ki/anyburl/data/TripleSet.class(in = 15165) (out= 6451)(deflated 57%)\n"
     ]
    }
   ],
   "source": [
    "!jar cfv AnyBURL-23-1.jar -C build ."
   ]
  },
  {
   "cell_type": "code",
   "execution_count": 3,
   "id": "59355379",
   "metadata": {},
   "outputs": [],
   "source": [
    "import pandas as pd\n",
    "import zipfile\n",
    "import os\n",
    "from tqdm import tqdm"
   ]
  },
  {
   "cell_type": "code",
   "execution_count": 4,
   "id": "db0d5339",
   "metadata": {},
   "outputs": [
    {
     "data": {
      "text/plain": [
       "32"
      ]
     },
     "execution_count": 4,
     "metadata": {},
     "output_type": "execute_result"
    }
   ],
   "source": [
    "os.cpu_count()"
   ]
  },
  {
   "cell_type": "code",
   "execution_count": 5,
   "id": "9140808f",
   "metadata": {},
   "outputs": [
    {
     "data": {
      "text/plain": [
       "svmem(total=99980713984, available=96070742016, percent=3.9, used=3447033856, free=96290889728, active=604057600, inactive=220254208, buffers=11599872, cached=231190528, shared=2727936, slab=274337792)"
      ]
     },
     "execution_count": 5,
     "metadata": {},
     "output_type": "execute_result"
    }
   ],
   "source": [
    "import psutil\n",
    "psutil.virtual_memory()"
   ]
  },
  {
   "cell_type": "code",
   "execution_count": 6,
   "id": "22a2d409",
   "metadata": {},
   "outputs": [],
   "source": [
    "def train(trace_id):\n",
    "    train_prop = f'PATH_TRAINING = MSCallGraph_traces/train/{trace_id}_transductive_train.tsv\\nPATH_OUTPUT   = rules\\nSNAPSHOTS_AT = 10\\nWORKER_THREADS = 30\\nSAFE_PREFIX_MODE = true'\n",
    "    f = open(\"train_prop.txt\", \"w\")\n",
    "    f.write(train_prop)\n",
    "    f.close()\n",
    "    _=!java -Xmx72G -cp AnyBURL-23-1.jar de.unima.ki.anyburl.Learn train_prop.txt"
   ]
  },
  {
   "cell_type": "code",
   "execution_count": 7,
   "id": "4318b667",
   "metadata": {},
   "outputs": [],
   "source": [
    "def predict(trace_id):\n",
    "    predict_prop = f'PATH_TRAINING = MSCallGraph_traces/train/{trace_id}_transductive_train.tsv\\nPATH_VALID    = MSCallGraph_traces/train/{trace_id}_transductive_train.tsv\\nPATH_TEST     = MSCallGraph_traces/test/{trace_id}_transductive_test.tsv\\nPATH_RULES    = rules-10\\nPATH_OUTPUT   = preds-10\\nWORKER_THREADS = 30\\nTOP_K_OUTPUT = 100\\nSAFE_PREFIX_MODE = true'\n",
    "    f = open(\"predict_prop.txt\", \"w\")\n",
    "    f.write(predict_prop)\n",
    "    f.close()\n",
    "    _=!java -Xmx72G -cp AnyBURL-23-1.jar de.unima.ki.anyburl.Apply predict_prop.txt"
   ]
  },
  {
   "cell_type": "code",
   "execution_count": 8,
   "id": "e12ca726",
   "metadata": {},
   "outputs": [],
   "source": [
    "def test(trace_id):\n",
    "    eval_prop = f'PATH_TRAINING = MSCallGraph_traces/train/{trace_id}_transductive_train.tsv\\nPATH_VALID    = MSCallGraph_traces/train/{trace_id}_transductive_train.tsv\\nPATH_TEST     = MSCallGraph_traces/test/{trace_id}_transductive_test.tsv\\nPATH_PREDICTIONS = preds-10\\nTOP_K = 100\\nSAFE_PREFIX_MODE = true'\n",
    "    f = open(\"eval_prop.txt\", \"w\")\n",
    "    f.write(eval_prop)\n",
    "    f.close()\n",
    "    to_return = !java -Xmx72G -cp AnyBURL-23-1.jar de.unima.ki.anyburl.Eval eval_prop.txt\n",
    "    return to_return[-1]"
   ]
  },
  {
   "cell_type": "code",
   "execution_count": 9,
   "id": "1e828e93",
   "metadata": {},
   "outputs": [],
   "source": [
    "def test_metrics(traceid):\n",
    "    train(traceid)\n",
    "    predict(traceid)\n",
    "    return(test(traceid))"
   ]
  },
  {
   "cell_type": "code",
   "execution_count": 10,
   "id": "64af536f",
   "metadata": {},
   "outputs": [],
   "source": [
    "def test_on_traces(model_name):\n",
    "    directory = model_name+\"_testing_traces\"\n",
    "\n",
    "    if not os.path.exists(directory):\n",
    "        os.makedirs(directory)\n",
    "        print(f'Directory {directory} created successfully!')\n",
    "    else:\n",
    "        print(f'Directory {directory} already exists.')\n",
    "        \n",
    "\n",
    "\n",
    "    # Specifica il percorso della cartella da cui si vogliono ottenere i nomi dei file\n",
    "    folder_path =  \"MSCallGraph_traces/train/\"\n",
    "\n",
    "    files_list = []\n",
    "    for filename in os.listdir(folder_path):\n",
    "        # Ottenere il nome del file\n",
    "        file_name = os.path.basename(filename)\n",
    "        files_list.append(file_name)\n",
    "    \n",
    "    metric_names = ['hits_at_1','hits_at_3','hits_at_10','mrr']\n",
    "    all_traces_list = []\n",
    "    # Scansione di ogni file nella cartella\n",
    "    with tqdm(desc=f'{model_name} testing traces', total=len(files_list)) as progress_bar:\n",
    "        for file_name in files_list:\n",
    "            # Stampa il nome del file\n",
    "            all_traces_list.append(test_metrics(file_name[:-23]).split())\n",
    "            progress_bar.update(1)\n",
    "\n",
    "\n",
    "    trace_df = pd.DataFrame(all_traces_list,columns=metric_names)\n",
    "    trace_df.to_csv(f\"{model_name}_testing_traces/trace_test.csv\")\n",
    "\n",
    "    \n",
    "    display(trace_df)\n",
    "    def zip_folder(folder_path, output_path):\n",
    "        with zipfile.ZipFile(output_path, 'w', zipfile.ZIP_DEFLATED) as zipf:\n",
    "            for root, dirs, files in os.walk(folder_path):\n",
    "                for file in files:\n",
    "                    zipf.write(os.path.join(root, file))\n",
    "\n",
    "    folder_path = model_name+\"_testing_traces\"\n",
    "    output_path = f'{folder_path}.zip'\n",
    "\n",
    "    zip_folder(folder_path, output_path)"
   ]
  },
  {
   "cell_type": "code",
   "execution_count": 11,
   "id": "f90cac29",
   "metadata": {},
   "outputs": [
    {
     "name": "stdout",
     "output_type": "stream",
     "text": [
      "Directory anyburl_testing_traces already exists.\n"
     ]
    },
    {
     "name": "stderr",
     "output_type": "stream",
     "text": [
      "anyburl testing traces: 100%|█████████████████████████████████████████████████████| 1027/1027 [4:16:12<00:00, 14.97s/it]\n"
     ]
    },
    {
     "data": {
      "text/html": [
       "<div>\n",
       "<style scoped>\n",
       "    .dataframe tbody tr th:only-of-type {\n",
       "        vertical-align: middle;\n",
       "    }\n",
       "\n",
       "    .dataframe tbody tr th {\n",
       "        vertical-align: top;\n",
       "    }\n",
       "\n",
       "    .dataframe thead th {\n",
       "        text-align: right;\n",
       "    }\n",
       "</style>\n",
       "<table border=\"1\" class=\"dataframe\">\n",
       "  <thead>\n",
       "    <tr style=\"text-align: right;\">\n",
       "      <th></th>\n",
       "      <th>hits_at_1</th>\n",
       "      <th>hits_at_3</th>\n",
       "      <th>hits_at_10</th>\n",
       "      <th>mrr</th>\n",
       "    </tr>\n",
       "  </thead>\n",
       "  <tbody>\n",
       "    <tr>\n",
       "      <th>0</th>\n",
       "      <td>0.0000</td>\n",
       "      <td>0.1667</td>\n",
       "      <td>0.3333</td>\n",
       "      <td>0.1111</td>\n",
       "    </tr>\n",
       "    <tr>\n",
       "      <th>1</th>\n",
       "      <td>0.5000</td>\n",
       "      <td>1.0000</td>\n",
       "      <td>1.0000</td>\n",
       "      <td>0.7500</td>\n",
       "    </tr>\n",
       "    <tr>\n",
       "      <th>2</th>\n",
       "      <td>0.0000</td>\n",
       "      <td>0.0000</td>\n",
       "      <td>0.0000</td>\n",
       "      <td>0.0000</td>\n",
       "    </tr>\n",
       "    <tr>\n",
       "      <th>3</th>\n",
       "      <td>0.0000</td>\n",
       "      <td>0.0000</td>\n",
       "      <td>0.0000</td>\n",
       "      <td>0.0000</td>\n",
       "    </tr>\n",
       "    <tr>\n",
       "      <th>4</th>\n",
       "      <td>0.2000</td>\n",
       "      <td>0.2000</td>\n",
       "      <td>0.2000</td>\n",
       "      <td>0.2000</td>\n",
       "    </tr>\n",
       "    <tr>\n",
       "      <th>...</th>\n",
       "      <td>...</td>\n",
       "      <td>...</td>\n",
       "      <td>...</td>\n",
       "      <td>...</td>\n",
       "    </tr>\n",
       "    <tr>\n",
       "      <th>1022</th>\n",
       "      <td>0.0000</td>\n",
       "      <td>0.0000</td>\n",
       "      <td>1.0000</td>\n",
       "      <td>0.1833</td>\n",
       "    </tr>\n",
       "    <tr>\n",
       "      <th>1023</th>\n",
       "      <td>0.0000</td>\n",
       "      <td>1.0000</td>\n",
       "      <td>1.0000</td>\n",
       "      <td>0.5000</td>\n",
       "    </tr>\n",
       "    <tr>\n",
       "      <th>1024</th>\n",
       "      <td>0.2143</td>\n",
       "      <td>0.2857</td>\n",
       "      <td>0.5714</td>\n",
       "      <td>0.2851</td>\n",
       "    </tr>\n",
       "    <tr>\n",
       "      <th>1025</th>\n",
       "      <td>0.0000</td>\n",
       "      <td>0.0000</td>\n",
       "      <td>0.0000</td>\n",
       "      <td>0.0000</td>\n",
       "    </tr>\n",
       "    <tr>\n",
       "      <th>1026</th>\n",
       "      <td>0.0000</td>\n",
       "      <td>0.0000</td>\n",
       "      <td>0.0000</td>\n",
       "      <td>0.0000</td>\n",
       "    </tr>\n",
       "  </tbody>\n",
       "</table>\n",
       "<p>1027 rows × 4 columns</p>\n",
       "</div>"
      ],
      "text/plain": [
       "     hits_at_1 hits_at_3 hits_at_10     mrr\n",
       "0       0.0000    0.1667     0.3333  0.1111\n",
       "1       0.5000    1.0000     1.0000  0.7500\n",
       "2       0.0000    0.0000     0.0000  0.0000\n",
       "3       0.0000    0.0000     0.0000  0.0000\n",
       "4       0.2000    0.2000     0.2000  0.2000\n",
       "...        ...       ...        ...     ...\n",
       "1022    0.0000    0.0000     1.0000  0.1833\n",
       "1023    0.0000    1.0000     1.0000  0.5000\n",
       "1024    0.2143    0.2857     0.5714  0.2851\n",
       "1025    0.0000    0.0000     0.0000  0.0000\n",
       "1026    0.0000    0.0000     0.0000  0.0000\n",
       "\n",
       "[1027 rows x 4 columns]"
      ]
     },
     "metadata": {},
     "output_type": "display_data"
    }
   ],
   "source": [
    "test_on_traces(\"anyburl\")"
   ]
  },
  {
   "cell_type": "code",
   "execution_count": null,
   "id": "7a5293ce",
   "metadata": {},
   "outputs": [],
   "source": []
  },
  {
   "cell_type": "code",
   "execution_count": null,
   "id": "1f8da2d1",
   "metadata": {},
   "outputs": [],
   "source": []
  }
 ],
 "metadata": {
  "kernelspec": {
   "display_name": "thesis",
   "language": "python",
   "name": "thesis"
  },
  "language_info": {
   "codemirror_mode": {
    "name": "ipython",
    "version": 3
   },
   "file_extension": ".py",
   "mimetype": "text/x-python",
   "name": "python",
   "nbconvert_exporter": "python",
   "pygments_lexer": "ipython3",
   "version": "3.10.9"
  }
 },
 "nbformat": 4,
 "nbformat_minor": 5
}
