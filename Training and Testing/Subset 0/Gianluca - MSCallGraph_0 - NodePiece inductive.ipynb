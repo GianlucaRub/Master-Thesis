{
 "cells": [
  {
   "cell_type": "code",
   "execution_count": 1,
   "metadata": {},
   "outputs": [],
   "source": [
    "from pykeen.pipeline import pipeline\n",
    "from pykeen.datasets import Nations, get_dataset\n",
    "import torch\n",
    "from pykeen.evaluation import evaluate, RankBasedEvaluator\n",
    "from pykeen.metrics.ranking import HitsAtK\n",
    "import pandas as pd\n",
    "\n",
    "\n",
    "import logging\n",
    "from pathlib import Path\n",
    "\n",
    "import click\n",
    "import more_click\n",
    "import torch\n",
    "from pykeen.evaluation import RankBasedEvaluator\n",
    "from pykeen.losses import NSSALoss,CrossEntropyLoss\n",
    "from pykeen.models.inductive import InductiveNodePiece, InductiveNodePieceGNN\n",
    "from pykeen.trackers import ConsoleResultTracker, WANDBResultTracker, FileResultTracker\n",
    "from pykeen.training import SLCWATrainingLoop\n",
    "from pykeen.typing import TESTING, TRAINING, VALIDATION\n",
    "from pykeen.utils import resolve_device, set_random_seed\n",
    "from torch.optim import Adam\n",
    "\n",
    "\n",
    "from pykeen.metrics.ranking import HitsAtK\n",
    "\n",
    "from pathlib import Path\n",
    "\n",
    "from pykeen.datasets.inductive.base import DisjointInductivePathDataset\n",
    "from typing_extensions import Literal\n",
    "import os\n",
    "from pykeen.hpo import hpo_pipeline\n",
    "from pykeen.triples import TriplesFactory\n",
    "from pykeen.models import InductiveNodePiece\n",
    "from pykeen.typing import TESTING, TRAINING, VALIDATION\n",
    "\n",
    "import time\n",
    "\n",
    "import platform\n",
    "\n",
    "import sys\n",
    "\n",
    "import cpuinfo\n",
    "\n",
    "import psutil\n",
    "\n",
    "import subprocess\n",
    "\n",
    "import zipfile\n",
    "\n",
    "seed = 1234"
   ]
  },
  {
   "cell_type": "code",
   "execution_count": 2,
   "metadata": {},
   "outputs": [],
   "source": [
    "class InductiveLPDataset(DisjointInductivePathDataset):\n",
    "    \"\"\"An inductive link prediction dataset for the ILPC 2022 Challenge.\"\"\"\n",
    "\n",
    "    \n",
    "    \n",
    "    \n",
    "    def __init__(self , **kwargs):\n",
    "        \"\"\"Initialize the inductive link prediction dataset.\n",
    "\n",
    "        :param size: \"small\" or \"large\"\n",
    "        :param kwargs: keyword arguments to forward to the base dataset class, cf. DisjointInductivePathDataset\n",
    "        \"\"\"\n",
    "        DATA_TYPE = \"_fully_inductive.tsv\"\n",
    "        TRAIN_PATH = \"MSCallGraph_train\" + DATA_TYPE\n",
    "        TEST_PATH = \"MSCallGraph_test\" + DATA_TYPE\n",
    "        VALIDATE_PATH = \"MSCallGraph_validation\" + DATA_TYPE\n",
    "        INFERENCE_PATH = \"MSCallGraph_inference\" + DATA_TYPE\n",
    "\n",
    "\n",
    "        super().__init__(\n",
    "            transductive_training_path=os.getcwd()+\"/\"+TRAIN_PATH,\n",
    "            inductive_inference_path=os.getcwd()+\"/\"+INFERENCE_PATH,\n",
    "            inductive_validation_path=os.getcwd()+\"/\"+VALIDATE_PATH,\n",
    "            inductive_testing_path=os.getcwd()+\"/\"+TEST_PATH,\n",
    "            create_inverse_triples=True,\n",
    "            eager=True,\n",
    "            **kwargs\n",
    "        )\n"
   ]
  },
  {
   "cell_type": "code",
   "execution_count": 3,
   "metadata": {},
   "outputs": [],
   "source": [
    "def show_metrics(dictionary,model_name,csv_name):\n",
    "    for key in dictionary.keys():\n",
    "        print(key)\n",
    "        df = pd.DataFrame(dictionary[key])\n",
    "        df.to_csv(f\"{model_name}/{model_name}_{csv_name}_{key}.csv\")\n",
    "        print(df)"
   ]
  },
  {
   "cell_type": "code",
   "execution_count": 4,
   "metadata": {},
   "outputs": [],
   "source": [
    "dataset = InductiveLPDataset()"
   ]
  },
  {
   "cell_type": "code",
   "execution_count": 5,
   "metadata": {},
   "outputs": [],
   "source": [
    "model_name = 'nodepiece_inductive'"
   ]
  },
  {
   "cell_type": "code",
   "execution_count": 6,
   "metadata": {},
   "outputs": [],
   "source": [
    "tracker = ConsoleResultTracker()"
   ]
  },
  {
   "cell_type": "code",
   "execution_count": 7,
   "metadata": {},
   "outputs": [],
   "source": [
    "loss = NSSALoss() #used by RotatE and NodePiece\n",
    "num_tokens = 20\n",
    "embedding_dim = 200"
   ]
  },
  {
   "cell_type": "code",
   "execution_count": 8,
   "metadata": {},
   "outputs": [
    {
     "data": {
      "application/vnd.jupyter.widget-view+json": {
       "model_id": "",
       "version_major": 2,
       "version_minor": 0
      },
      "text/plain": [
       "sampling:   0%|          | 0.00/9.06k [00:00<?, ?it/s]"
      ]
     },
     "metadata": {},
     "output_type": "display_data"
    },
    {
     "name": "stderr",
     "output_type": "stream",
     "text": [
      "No symbolic computation of output shape.\n"
     ]
    },
    {
     "data": {
      "application/vnd.jupyter.widget-view+json": {
       "model_id": "",
       "version_major": 2,
       "version_minor": 0
      },
      "text/plain": [
       "sampling:   0%|          | 0.00/3.79k [00:00<?, ?it/s]"
      ]
     },
     "metadata": {},
     "output_type": "display_data"
    },
    {
     "name": "stderr",
     "output_type": "stream",
     "text": [
      "No symbolic computation of output shape.\n"
     ]
    },
    {
     "name": "stdout",
     "output_type": "stream",
     "text": [
      "Number of parameters: 2600\n",
      "Space occupied: 10400 bytes\n"
     ]
    }
   ],
   "source": [
    "model = InductiveNodePiece(\n",
    "        triples_factory=dataset.transductive_training,\n",
    "        inference_factory=dataset.inductive_inference,\n",
    "        random_seed = seed,\n",
    "        loss = loss,\n",
    "        num_tokens = num_tokens,\n",
    "        embedding_dim = embedding_dim\n",
    "    ).to(resolve_device())\n",
    "print(f\"Number of parameters: {sum(p.numel() for p in model.parameters())}\")\n",
    "print(f\"Space occupied: {model.num_parameter_bytes} bytes\")"
   ]
  },
  {
   "cell_type": "code",
   "execution_count": 9,
   "metadata": {},
   "outputs": [
    {
     "name": "stdout",
     "output_type": "stream",
     "text": [
      "Directory nodepiece_inductive already exists.\n"
     ]
    }
   ],
   "source": [
    "directory = model_name\n",
    "\n",
    "if not os.path.exists(directory):\n",
    "    os.makedirs(directory)\n",
    "    print(f'Directory {directory} created successfully!')\n",
    "else:\n",
    "    print(f'Directory {directory} already exists.')"
   ]
  },
  {
   "cell_type": "code",
   "execution_count": 10,
   "metadata": {},
   "outputs": [],
   "source": [
    "learning_rate = 1e-3\n",
    "optimizer = Adam(params=model.parameters(), lr=learning_rate)\n",
    "num_epochs = 2000\n",
    "patience = 20"
   ]
  },
  {
   "cell_type": "code",
   "execution_count": 11,
   "metadata": {},
   "outputs": [],
   "source": [
    "metrics = ['meanreciprocalrank', HitsAtK(1),\n",
    "                 HitsAtK(3), HitsAtK(5), HitsAtK(10)]\n",
    "\n",
    "train_evaluator = RankBasedEvaluator(\n",
    "        mode=TRAINING,\n",
    "        metrics=metrics,\n",
    "        add_defaults=False,\n",
    "    )\n",
    "valid_evaluator = RankBasedEvaluator(\n",
    "        mode=VALIDATION,\n",
    "        metrics=metrics,\n",
    "        add_defaults=False,\n",
    "    )\n",
    "test_evaluator = RankBasedEvaluator(\n",
    "        mode=TESTING,\n",
    "        metrics = metrics,\n",
    "        add_defaults=False\n",
    "    )"
   ]
  },
  {
   "cell_type": "code",
   "execution_count": 12,
   "metadata": {},
   "outputs": [],
   "source": [
    "from pykeen.stoppers import EarlyStopper\n",
    "\n",
    "stopper = EarlyStopper(\n",
    "    model = model,\n",
    "    metric='meanreciprocalrank',\n",
    "    patience=patience,\n",
    "    frequency=1,\n",
    "    evaluator = valid_evaluator,\n",
    "    training_triples_factory = dataset.inductive_inference,\n",
    "    evaluation_triples_factory = dataset.inductive_validation,\n",
    "    result_tracker = tracker\n",
    "\n",
    ")\n",
    "\n"
   ]
  },
  {
   "cell_type": "code",
   "execution_count": 13,
   "metadata": {},
   "outputs": [],
   "source": [
    "# default training regime is negative sampling (SLCWA)\n",
    "# you can also use the 1-N regime with the LCWATrainingLoop\n",
    "# the LCWA loop does not need negative sampling kwargs, but accepts label_smoothing in the .train() method\n",
    "training_loop = SLCWATrainingLoop(\n",
    "        triples_factory=dataset.transductive_training,\n",
    "        model=model,\n",
    "        mode=TRAINING,  # must be specified for the inductive setup\n",
    "        result_tracker=tracker,\n",
    "        optimizer=optimizer\n",
    ")"
   ]
  },
  {
   "cell_type": "code",
   "execution_count": 14,
   "metadata": {},
   "outputs": [
    {
     "data": {
      "application/vnd.jupyter.widget-view+json": {
       "model_id": "a9dce15b5a784906a704f4e13a2ca554",
       "version_major": 2,
       "version_minor": 0
      },
      "text/plain": [
       "Training epochs on cuda:0:   0%|          | 0/2000 [00:00<?, ?epoch/s]"
      ]
     },
     "metadata": {},
     "output_type": "display_data"
    },
    {
     "data": {
      "application/vnd.jupyter.widget-view+json": {
       "model_id": "",
       "version_major": 2,
       "version_minor": 0
      },
      "text/plain": [
       "Training batches on cuda:0:   0%|          | 0/2 [00:00<?, ?batch/s]"
      ]
     },
     "metadata": {},
     "output_type": "display_data"
    },
    {
     "name": "stdout",
     "output_type": "stream",
     "text": [
      "Step: 1\n",
      "Metric: loss = 6.905938625335693\n",
      "Step: 1\n",
      "Metric: validation.head.optimistic.inverse_harmonic_mean_rank = 0.003296744595355643\n",
      "Metric: validation.tail.optimistic.inverse_harmonic_mean_rank = 0.02444209663995957\n",
      "Metric: validation.both.optimistic.inverse_harmonic_mean_rank = 0.013869420617657608\n",
      "Metric: validation.head.realistic.inverse_harmonic_mean_rank = 0.0025060756597667933\n",
      "Metric: validation.tail.realistic.inverse_harmonic_mean_rank = 0.022589141502976418\n",
      "Metric: validation.both.realistic.inverse_harmonic_mean_rank = 0.012547609396278858\n",
      "Metric: validation.head.pessimistic.inverse_harmonic_mean_rank = 0.0023134358885016494\n",
      "Metric: validation.tail.pessimistic.inverse_harmonic_mean_rank = 0.021377431877952463\n",
      "Metric: validation.both.pessimistic.inverse_harmonic_mean_rank = 0.011845433883227055\n",
      "Metric: validation.head.optimistic.hits_at_1 = 0.0006395906619763352\n",
      "Metric: validation.tail.optimistic.hits_at_1 = 0.003837543971858011\n",
      "Metric: validation.both.optimistic.hits_at_1 = 0.002238567316917173\n",
      "Metric: validation.head.realistic.hits_at_1 = 0.0006395906619763352\n",
      "Metric: validation.tail.realistic.hits_at_1 = 0.0031979533098816758\n",
      "Metric: validation.both.realistic.hits_at_1 = 0.0019187719859290054\n",
      "Metric: validation.head.pessimistic.hits_at_1 = 0.0006395906619763352\n",
      "Metric: validation.tail.pessimistic.hits_at_1 = 0.0031979533098816758\n",
      "Metric: validation.both.pessimistic.hits_at_1 = 0.0019187719859290054\n",
      "Metric: validation.head.optimistic.hits_at_3 = 0.0012791813239526704\n",
      "Metric: validation.tail.optimistic.hits_at_3 = 0.019507515190278223\n",
      "Metric: validation.both.optimistic.hits_at_3 = 0.010393348257115445\n",
      "Metric: validation.head.realistic.hits_at_3 = 0.0012791813239526704\n",
      "Metric: validation.tail.realistic.hits_at_3 = 0.017588743204349215\n",
      "Metric: validation.both.realistic.hits_at_3 = 0.009433962264150943\n",
      "Metric: validation.head.pessimistic.hits_at_3 = 0.0012791813239526704\n",
      "Metric: validation.tail.pessimistic.hits_at_3 = 0.01598976654940838\n",
      "Metric: validation.both.pessimistic.hits_at_3 = 0.008634473936680525\n",
      "Metric: validation.head.optimistic.hits_at_5 = 0.002238567316917173\n",
      "Metric: validation.tail.optimistic.hits_at_5 = 0.020466901183242726\n",
      "Metric: validation.both.optimistic.hits_at_5 = 0.01135273425007995\n",
      "Metric: validation.head.realistic.hits_at_5 = 0.0015989766549408379\n",
      "Metric: validation.tail.realistic.hits_at_5 = 0.020147105852254557\n",
      "Metric: validation.both.realistic.hits_at_5 = 0.010873041253597697\n",
      "Metric: validation.head.pessimistic.hits_at_5 = 0.0015989766549408379\n",
      "Metric: validation.tail.pessimistic.hits_at_5 = 0.01982731052126639\n",
      "Metric: validation.both.pessimistic.hits_at_5 = 0.010713143588103614\n",
      "Metric: validation.head.optimistic.hits_at_10 = 0.002238567316917173\n",
      "Metric: validation.tail.optimistic.hits_at_10 = 0.07579149344419571\n",
      "Metric: validation.both.optimistic.hits_at_10 = 0.03901503038055645\n",
      "Metric: validation.head.realistic.hits_at_10 = 0.002238567316917173\n",
      "Metric: validation.tail.realistic.hits_at_10 = 0.029421170450911416\n",
      "Metric: validation.both.realistic.hits_at_10 = 0.015829868883914296\n",
      "Metric: validation.head.pessimistic.hits_at_10 = 0.002238567316917173\n",
      "Metric: validation.tail.pessimistic.hits_at_10 = 0.02910137511992325\n",
      "Metric: validation.both.pessimistic.hits_at_10 = 0.01566997121842021\n"
     ]
    },
    {
     "data": {
      "application/vnd.jupyter.widget-view+json": {
       "model_id": "",
       "version_major": 2,
       "version_minor": 0
      },
      "text/plain": [
       "Training batches on cuda:0:   0%|          | 0/2 [00:00<?, ?batch/s]"
      ]
     },
     "metadata": {},
     "output_type": "display_data"
    },
    {
     "name": "stdout",
     "output_type": "stream",
     "text": [
      "Step: 2\n",
      "Metric: loss = 6.683731555938721\n",
      "Step: 2\n",
      "Metric: validation.head.optimistic.inverse_harmonic_mean_rank = 0.003583263534783715\n",
      "Metric: validation.tail.optimistic.inverse_harmonic_mean_rank = 0.027200169681249654\n",
      "Metric: validation.both.optimistic.inverse_harmonic_mean_rank = 0.015391716608016685\n",
      "Metric: validation.head.realistic.inverse_harmonic_mean_rank = 0.002855785423889756\n",
      "Metric: validation.tail.realistic.inverse_harmonic_mean_rank = 0.023055074736475945\n",
      "Metric: validation.both.realistic.inverse_harmonic_mean_rank = 0.012955429032444954\n",
      "Metric: validation.head.pessimistic.inverse_harmonic_mean_rank = 0.002662982024671611\n",
      "Metric: validation.tail.pessimistic.inverse_harmonic_mean_rank = 0.02168035285610902\n",
      "Metric: validation.both.pessimistic.inverse_harmonic_mean_rank = 0.012171667440390315\n",
      "Metric: validation.head.optimistic.hits_at_1 = 0.0009593859929645027\n",
      "Metric: validation.tail.optimistic.hits_at_1 = 0.004157339302846178\n",
      "Metric: validation.both.optimistic.hits_at_1 = 0.0025583626479053407\n",
      "Metric: validation.head.realistic.hits_at_1 = 0.0009593859929645027\n",
      "Metric: validation.tail.realistic.hits_at_1 = 0.002878157978893508\n",
      "Metric: validation.both.realistic.hits_at_1 = 0.0019187719859290054\n",
      "Metric: validation.head.pessimistic.hits_at_1 = 0.0009593859929645027\n",
      "Metric: validation.tail.pessimistic.hits_at_1 = 0.002878157978893508\n",
      "Metric: validation.both.pessimistic.hits_at_1 = 0.0019187719859290054\n",
      "Metric: validation.head.optimistic.hits_at_3 = 0.0019187719859290054\n",
      "Metric: validation.tail.optimistic.hits_at_3 = 0.0227054685001599\n",
      "Metric: validation.both.optimistic.hits_at_3 = 0.012312120243044452\n",
      "Metric: validation.head.realistic.hits_at_3 = 0.0015989766549408379\n",
      "Metric: validation.tail.realistic.hits_at_3 = 0.01694915254237288\n",
      "Metric: validation.both.realistic.hits_at_3 = 0.00927406459865686\n",
      "Metric: validation.head.pessimistic.hits_at_3 = 0.0015989766549408379\n",
      "Metric: validation.tail.pessimistic.hits_at_3 = 0.01694915254237288\n",
      "Metric: validation.both.pessimistic.hits_at_3 = 0.00927406459865686\n",
      "Metric: validation.head.optimistic.hits_at_5 = 0.002238567316917173\n",
      "Metric: validation.tail.optimistic.hits_at_5 = 0.03581707707067477\n",
      "Metric: validation.both.optimistic.hits_at_5 = 0.019027822193795972\n",
      "Metric: validation.head.realistic.hits_at_5 = 0.0019187719859290054\n",
      "Metric: validation.tail.realistic.hits_at_5 = 0.019187719859290055\n",
      "Metric: validation.both.realistic.hits_at_5 = 0.01055324592260953\n",
      "Metric: validation.head.pessimistic.hits_at_5 = 0.0019187719859290054\n",
      "Metric: validation.tail.pessimistic.hits_at_5 = 0.018867924528301886\n",
      "Metric: validation.both.pessimistic.hits_at_5 = 0.010393348257115445\n",
      "Metric: validation.head.optimistic.hits_at_10 = 0.0025583626479053407\n",
      "Metric: validation.tail.optimistic.hits_at_10 = 0.07451231212024305\n",
      "Metric: validation.both.optimistic.hits_at_10 = 0.03853533738407419\n",
      "Metric: validation.head.realistic.hits_at_10 = 0.0025583626479053407\n",
      "Metric: validation.tail.realistic.hits_at_10 = 0.046690118324272466\n",
      "Metric: validation.both.realistic.hits_at_10 = 0.024624240486088904\n",
      "Metric: validation.head.pessimistic.hits_at_10 = 0.0025583626479053407\n",
      "Metric: validation.tail.pessimistic.hits_at_10 = 0.02910137511992325\n",
      "Metric: validation.both.pessimistic.hits_at_10 = 0.015829868883914296\n"
     ]
    },
    {
     "data": {
      "application/vnd.jupyter.widget-view+json": {
       "model_id": "",
       "version_major": 2,
       "version_minor": 0
      },
      "text/plain": [
       "Training batches on cuda:0:   0%|          | 0/2 [00:00<?, ?batch/s]"
      ]
     },
     "metadata": {},
     "output_type": "display_data"
    },
    {
     "name": "stdout",
     "output_type": "stream",
     "text": [
      "Step: 3\n",
      "Metric: loss = 6.496099948883057\n",
      "Step: 3\n",
      "Metric: validation.head.optimistic.inverse_harmonic_mean_rank = 0.0036301278914085315\n",
      "Metric: validation.tail.optimistic.inverse_harmonic_mean_rank = 0.02722483199262004\n",
      "Metric: validation.both.optimistic.inverse_harmonic_mean_rank = 0.015427479942014289\n",
      "Metric: validation.head.realistic.inverse_harmonic_mean_rank = 0.002963339677080512\n",
      "Metric: validation.tail.realistic.inverse_harmonic_mean_rank = 0.023138079792261124\n",
      "Metric: validation.both.realistic.inverse_harmonic_mean_rank = 0.01305070985108614\n",
      "Metric: validation.head.pessimistic.inverse_harmonic_mean_rank = 0.002769130722057493\n",
      "Metric: validation.tail.pessimistic.inverse_harmonic_mean_rank = 0.021734461386393882\n",
      "Metric: validation.both.pessimistic.inverse_harmonic_mean_rank = 0.012251796054225685\n",
      "Metric: validation.head.optimistic.hits_at_1 = 0.0009593859929645027\n",
      "Metric: validation.tail.optimistic.hits_at_1 = 0.0031979533098816758\n",
      "Metric: validation.both.optimistic.hits_at_1 = 0.002078669651423089\n",
      "Metric: validation.head.realistic.hits_at_1 = 0.0009593859929645027\n",
      "Metric: validation.tail.realistic.hits_at_1 = 0.002878157978893508\n",
      "Metric: validation.both.realistic.hits_at_1 = 0.0019187719859290054\n",
      "Metric: validation.head.pessimistic.hits_at_1 = 0.0009593859929645027\n",
      "Metric: validation.tail.pessimistic.hits_at_1 = 0.002878157978893508\n",
      "Metric: validation.both.pessimistic.hits_at_1 = 0.0019187719859290054\n",
      "Metric: validation.head.optimistic.hits_at_3 = 0.0019187719859290054\n",
      "Metric: validation.tail.optimistic.hits_at_3 = 0.02078669651423089\n",
      "Metric: validation.both.optimistic.hits_at_3 = 0.01135273425007995\n",
      "Metric: validation.head.realistic.hits_at_3 = 0.0012791813239526704\n",
      "Metric: validation.tail.realistic.hits_at_3 = 0.016629357211384713\n",
      "Metric: validation.both.realistic.hits_at_3 = 0.008954269267668692\n",
      "Metric: validation.head.pessimistic.hits_at_3 = 0.0012791813239526704\n",
      "Metric: validation.tail.pessimistic.hits_at_3 = 0.016629357211384713\n",
      "Metric: validation.both.pessimistic.hits_at_3 = 0.008954269267668692\n",
      "Metric: validation.head.optimistic.hits_at_5 = 0.0025583626479053407\n",
      "Metric: validation.tail.optimistic.hits_at_5 = 0.03389830508474576\n",
      "Metric: validation.both.optimistic.hits_at_5 = 0.018228333866325552\n",
      "Metric: validation.head.realistic.hits_at_5 = 0.002238567316917173\n",
      "Metric: validation.tail.realistic.hits_at_5 = 0.018867924528301886\n",
      "Metric: validation.both.realistic.hits_at_5 = 0.01055324592260953\n",
      "Metric: validation.head.pessimistic.hits_at_5 = 0.002238567316917173\n",
      "Metric: validation.tail.pessimistic.hits_at_5 = 0.018867924528301886\n",
      "Metric: validation.both.pessimistic.hits_at_5 = 0.01055324592260953\n",
      "Metric: validation.head.optimistic.hits_at_10 = 0.0025583626479053407\n",
      "Metric: validation.tail.optimistic.hits_at_10 = 0.1045730732331308\n",
      "Metric: validation.both.optimistic.hits_at_10 = 0.053565717940518065\n",
      "Metric: validation.head.realistic.hits_at_10 = 0.0025583626479053407\n",
      "Metric: validation.tail.realistic.hits_at_10 = 0.02910137511992325\n",
      "Metric: validation.both.realistic.hits_at_10 = 0.015829868883914296\n",
      "Metric: validation.head.pessimistic.hits_at_10 = 0.0025583626479053407\n",
      "Metric: validation.tail.pessimistic.hits_at_10 = 0.02910137511992325\n",
      "Metric: validation.both.pessimistic.hits_at_10 = 0.015829868883914296\n"
     ]
    },
    {
     "data": {
      "application/vnd.jupyter.widget-view+json": {
       "model_id": "",
       "version_major": 2,
       "version_minor": 0
      },
      "text/plain": [
       "Training batches on cuda:0:   0%|          | 0/2 [00:00<?, ?batch/s]"
      ]
     },
     "metadata": {},
     "output_type": "display_data"
    },
    {
     "name": "stdout",
     "output_type": "stream",
     "text": [
      "Step: 4\n",
      "Metric: loss = 6.2820940017700195\n",
      "Step: 4\n",
      "Metric: validation.head.optimistic.inverse_harmonic_mean_rank = 0.003976915138033369\n",
      "Metric: validation.tail.optimistic.inverse_harmonic_mean_rank = 0.02711189289512968\n",
      "Metric: validation.both.optimistic.inverse_harmonic_mean_rank = 0.015544404016581524\n",
      "Metric: validation.head.realistic.inverse_harmonic_mean_rank = 0.0033389988820999865\n",
      "Metric: validation.tail.realistic.inverse_harmonic_mean_rank = 0.022654403001070023\n",
      "Metric: validation.both.realistic.inverse_harmonic_mean_rank = 0.012996700592339039\n",
      "Metric: validation.head.pessimistic.inverse_harmonic_mean_rank = 0.0031338122889729043\n",
      "Metric: validation.tail.pessimistic.inverse_harmonic_mean_rank = 0.021145839666530074\n",
      "Metric: validation.both.pessimistic.inverse_harmonic_mean_rank = 0.01213982597775149\n",
      "Metric: validation.head.optimistic.hits_at_1 = 0.0012791813239526704\n",
      "Metric: validation.tail.optimistic.hits_at_1 = 0.003837543971858011\n",
      "Metric: validation.both.optimistic.hits_at_1 = 0.0025583626479053407\n",
      "Metric: validation.head.realistic.hits_at_1 = 0.0012791813239526704\n",
      "Metric: validation.tail.realistic.hits_at_1 = 0.003517748640869843\n",
      "Metric: validation.both.realistic.hits_at_1 = 0.002398464982411257\n",
      "Metric: validation.head.pessimistic.hits_at_1 = 0.0012791813239526704\n",
      "Metric: validation.tail.pessimistic.hits_at_1 = 0.003517748640869843\n",
      "Metric: validation.both.pessimistic.hits_at_1 = 0.002398464982411257\n",
      "Metric: validation.head.optimistic.hits_at_3 = 0.002238567316917173\n",
      "Metric: validation.tail.optimistic.hits_at_3 = 0.0227054685001599\n",
      "Metric: validation.both.optimistic.hits_at_3 = 0.012472017908538535\n",
      "Metric: validation.head.realistic.hits_at_3 = 0.0015989766549408379\n",
      "Metric: validation.tail.realistic.hits_at_3 = 0.017908538535337384\n",
      "Metric: validation.both.realistic.hits_at_3 = 0.009753757595139112\n",
      "Metric: validation.head.pessimistic.hits_at_3 = 0.0015989766549408379\n",
      "Metric: validation.tail.pessimistic.hits_at_3 = 0.01726894787336105\n",
      "Metric: validation.both.pessimistic.hits_at_3 = 0.009433962264150943\n",
      "Metric: validation.head.optimistic.hits_at_5 = 0.002878157978893508\n",
      "Metric: validation.tail.optimistic.hits_at_5 = 0.03133994243684042\n",
      "Metric: validation.both.optimistic.hits_at_5 = 0.017109050207866964\n",
      "Metric: validation.head.realistic.hits_at_5 = 0.002238567316917173\n",
      "Metric: validation.tail.realistic.hits_at_5 = 0.019187719859290055\n",
      "Metric: validation.both.realistic.hits_at_5 = 0.010713143588103614\n",
      "Metric: validation.head.pessimistic.hits_at_5 = 0.002238567316917173\n",
      "Metric: validation.tail.pessimistic.hits_at_5 = 0.018867924528301886\n",
      "Metric: validation.both.pessimistic.hits_at_5 = 0.01055324592260953\n",
      "Metric: validation.head.optimistic.hits_at_10 = 0.0031979533098816758\n",
      "Metric: validation.tail.optimistic.hits_at_10 = 0.04860889031020147\n",
      "Metric: validation.both.optimistic.hits_at_10 = 0.025903421810041575\n",
      "Metric: validation.head.realistic.hits_at_10 = 0.0031979533098816758\n",
      "Metric: validation.tail.realistic.hits_at_10 = 0.029421170450911416\n",
      "Metric: validation.both.realistic.hits_at_10 = 0.016309561880396548\n",
      "Metric: validation.head.pessimistic.hits_at_10 = 0.0031979533098816758\n",
      "Metric: validation.tail.pessimistic.hits_at_10 = 0.029421170450911416\n",
      "Metric: validation.both.pessimistic.hits_at_10 = 0.016309561880396548\n"
     ]
    },
    {
     "data": {
      "application/vnd.jupyter.widget-view+json": {
       "model_id": "",
       "version_major": 2,
       "version_minor": 0
      },
      "text/plain": [
       "Training batches on cuda:0:   0%|          | 0/2 [00:00<?, ?batch/s]"
      ]
     },
     "metadata": {},
     "output_type": "display_data"
    },
    {
     "name": "stdout",
     "output_type": "stream",
     "text": [
      "Step: 5\n",
      "Metric: loss = 6.070717096328735\n",
      "Step: 5\n",
      "Metric: validation.head.optimistic.inverse_harmonic_mean_rank = 0.004432003568549193\n",
      "Metric: validation.tail.optimistic.inverse_harmonic_mean_rank = 0.025902842386929012\n",
      "Metric: validation.both.optimistic.inverse_harmonic_mean_rank = 0.015167422977739105\n",
      "Metric: validation.head.realistic.inverse_harmonic_mean_rank = 0.0038103170227259398\n",
      "Metric: validation.tail.realistic.inverse_harmonic_mean_rank = 0.02232474274933338\n",
      "Metric: validation.both.realistic.inverse_harmonic_mean_rank = 0.01306753046810627\n",
      "Metric: validation.head.pessimistic.inverse_harmonic_mean_rank = 0.003609947491566893\n",
      "Metric: validation.tail.pessimistic.inverse_harmonic_mean_rank = 0.020904110680943486\n",
      "Metric: validation.both.pessimistic.inverse_harmonic_mean_rank = 0.01225702908625519\n",
      "Metric: validation.head.optimistic.hits_at_1 = 0.0015989766549408379\n",
      "Metric: validation.tail.optimistic.hits_at_1 = 0.002878157978893508\n",
      "Metric: validation.both.optimistic.hits_at_1 = 0.002238567316917173\n",
      "Metric: validation.head.realistic.hits_at_1 = 0.0015989766549408379\n",
      "Metric: validation.tail.realistic.hits_at_1 = 0.0015989766549408379\n",
      "Metric: validation.both.realistic.hits_at_1 = 0.0015989766549408379\n",
      "Metric: validation.head.pessimistic.hits_at_1 = 0.0015989766549408379\n",
      "Metric: validation.tail.pessimistic.hits_at_1 = 0.0015989766549408379\n",
      "Metric: validation.both.pessimistic.hits_at_1 = 0.0015989766549408379\n",
      "Metric: validation.head.optimistic.hits_at_3 = 0.0025583626479053407\n",
      "Metric: validation.tail.optimistic.hits_at_3 = 0.019187719859290055\n",
      "Metric: validation.both.optimistic.hits_at_3 = 0.010873041253597697\n",
      "Metric: validation.head.realistic.hits_at_3 = 0.002238567316917173\n",
      "Metric: validation.tail.realistic.hits_at_3 = 0.016309561880396548\n",
      "Metric: validation.both.realistic.hits_at_3 = 0.00927406459865686\n",
      "Metric: validation.head.pessimistic.hits_at_3 = 0.002238567316917173\n",
      "Metric: validation.tail.pessimistic.hits_at_3 = 0.01598976654940838\n",
      "Metric: validation.both.pessimistic.hits_at_3 = 0.009114166933162776\n",
      "Metric: validation.head.optimistic.hits_at_5 = 0.0031979533098816758\n",
      "Metric: validation.tail.optimistic.hits_at_5 = 0.030060761112887753\n",
      "Metric: validation.both.optimistic.hits_at_5 = 0.016629357211384713\n",
      "Metric: validation.head.realistic.hits_at_5 = 0.002878157978893508\n",
      "Metric: validation.tail.realistic.hits_at_5 = 0.0236648544931244\n",
      "Metric: validation.both.realistic.hits_at_5 = 0.013271506236008954\n",
      "Metric: validation.head.pessimistic.hits_at_5 = 0.002878157978893508\n",
      "Metric: validation.tail.pessimistic.hits_at_5 = 0.0236648544931244\n",
      "Metric: validation.both.pessimistic.hits_at_5 = 0.013271506236008954\n",
      "Metric: validation.head.optimistic.hits_at_10 = 0.003517748640869843\n",
      "Metric: validation.tail.optimistic.hits_at_10 = 0.08506555804285257\n",
      "Metric: validation.both.optimistic.hits_at_10 = 0.044291653341861206\n",
      "Metric: validation.head.realistic.hits_at_10 = 0.003517748640869843\n",
      "Metric: validation.tail.realistic.hits_at_10 = 0.03229932842980492\n",
      "Metric: validation.both.realistic.hits_at_10 = 0.017908538535337384\n",
      "Metric: validation.head.pessimistic.hits_at_10 = 0.003517748640869843\n",
      "Metric: validation.tail.pessimistic.hits_at_10 = 0.03229932842980492\n",
      "Metric: validation.both.pessimistic.hits_at_10 = 0.017908538535337384\n"
     ]
    },
    {
     "data": {
      "application/vnd.jupyter.widget-view+json": {
       "model_id": "",
       "version_major": 2,
       "version_minor": 0
      },
      "text/plain": [
       "Training batches on cuda:0:   0%|          | 0/2 [00:00<?, ?batch/s]"
      ]
     },
     "metadata": {},
     "output_type": "display_data"
    },
    {
     "name": "stdout",
     "output_type": "stream",
     "text": [
      "Step: 6\n",
      "Metric: loss = 5.847055673599243\n",
      "Step: 6\n",
      "Metric: validation.head.optimistic.inverse_harmonic_mean_rank = 0.005100277968952259\n",
      "Metric: validation.tail.optimistic.inverse_harmonic_mean_rank = 0.02619336783935701\n",
      "Metric: validation.both.optimistic.inverse_harmonic_mean_rank = 0.015646822904154638\n",
      "Metric: validation.head.realistic.inverse_harmonic_mean_rank = 0.004527298267930746\n",
      "Metric: validation.tail.realistic.inverse_harmonic_mean_rank = 0.022704262286424637\n",
      "Metric: validation.both.realistic.inverse_harmonic_mean_rank = 0.013615780510008333\n",
      "Metric: validation.head.pessimistic.inverse_harmonic_mean_rank = 0.004348668556690431\n",
      "Metric: validation.tail.pessimistic.inverse_harmonic_mean_rank = 0.0213962287989697\n",
      "Metric: validation.both.pessimistic.inverse_harmonic_mean_rank = 0.012872448677830065\n",
      "Metric: validation.head.optimistic.hits_at_1 = 0.0019187719859290054\n",
      "Metric: validation.tail.optimistic.hits_at_1 = 0.003517748640869843\n",
      "Metric: validation.both.optimistic.hits_at_1 = 0.002718260313399424\n",
      "Metric: validation.head.realistic.hits_at_1 = 0.0019187719859290054\n",
      "Metric: validation.tail.realistic.hits_at_1 = 0.0019187719859290054\n",
      "Metric: validation.both.realistic.hits_at_1 = 0.0019187719859290054\n",
      "Metric: validation.head.pessimistic.hits_at_1 = 0.0019187719859290054\n",
      "Metric: validation.tail.pessimistic.hits_at_1 = 0.0019187719859290054\n",
      "Metric: validation.both.pessimistic.hits_at_1 = 0.0019187719859290054\n",
      "Metric: validation.head.optimistic.hits_at_3 = 0.003517748640869843\n",
      "Metric: validation.tail.optimistic.hits_at_3 = 0.017908538535337384\n",
      "Metric: validation.both.optimistic.hits_at_3 = 0.010713143588103614\n",
      "Metric: validation.head.realistic.hits_at_3 = 0.003517748640869843\n",
      "Metric: validation.tail.realistic.hits_at_3 = 0.017908538535337384\n",
      "Metric: validation.both.realistic.hits_at_3 = 0.010713143588103614\n",
      "Metric: validation.head.pessimistic.hits_at_3 = 0.003517748640869843\n",
      "Metric: validation.tail.pessimistic.hits_at_3 = 0.017588743204349215\n",
      "Metric: validation.both.pessimistic.hits_at_3 = 0.01055324592260953\n",
      "Metric: validation.head.optimistic.hits_at_5 = 0.004477134633834346\n",
      "Metric: validation.tail.optimistic.hits_at_5 = 0.029421170450911416\n",
      "Metric: validation.both.optimistic.hits_at_5 = 0.01694915254237288\n",
      "Metric: validation.head.realistic.hits_at_5 = 0.004157339302846178\n",
      "Metric: validation.tail.realistic.hits_at_5 = 0.022065877838183562\n",
      "Metric: validation.both.realistic.hits_at_5 = 0.01311160857051487\n",
      "Metric: validation.head.pessimistic.hits_at_5 = 0.004157339302846178\n",
      "Metric: validation.tail.pessimistic.hits_at_5 = 0.021746082507195393\n",
      "Metric: validation.both.pessimistic.hits_at_5 = 0.012951710905020787\n",
      "Metric: validation.head.optimistic.hits_at_10 = 0.004796929964822514\n",
      "Metric: validation.tail.optimistic.hits_at_10 = 0.07675087943716022\n",
      "Metric: validation.both.optimistic.hits_at_10 = 0.04077390470099137\n",
      "Metric: validation.head.realistic.hits_at_10 = 0.004477134633834346\n",
      "Metric: validation.tail.realistic.hits_at_10 = 0.05116725295810681\n",
      "Metric: validation.both.realistic.hits_at_10 = 0.02782219379597058\n",
      "Metric: validation.head.pessimistic.hits_at_10 = 0.004477134633834346\n",
      "Metric: validation.tail.pessimistic.hits_at_10 = 0.05116725295810681\n",
      "Metric: validation.both.pessimistic.hits_at_10 = 0.02782219379597058\n"
     ]
    },
    {
     "data": {
      "application/vnd.jupyter.widget-view+json": {
       "model_id": "",
       "version_major": 2,
       "version_minor": 0
      },
      "text/plain": [
       "Training batches on cuda:0:   0%|          | 0/2 [00:00<?, ?batch/s]"
      ]
     },
     "metadata": {},
     "output_type": "display_data"
    },
    {
     "name": "stdout",
     "output_type": "stream",
     "text": [
      "Step: 7\n",
      "Metric: loss = 5.642332077026367\n",
      "Step: 7\n",
      "Metric: validation.head.optimistic.inverse_harmonic_mean_rank = 0.00519929439464036\n",
      "Metric: validation.tail.optimistic.inverse_harmonic_mean_rank = 0.02577061752126066\n",
      "Metric: validation.both.optimistic.inverse_harmonic_mean_rank = 0.015484955957950509\n",
      "Metric: validation.head.realistic.inverse_harmonic_mean_rank = 0.004603859968483448\n",
      "Metric: validation.tail.realistic.inverse_harmonic_mean_rank = 0.02261787280440331\n",
      "Metric: validation.both.realistic.inverse_harmonic_mean_rank = 0.013610866852104664\n",
      "Metric: validation.head.pessimistic.inverse_harmonic_mean_rank = 0.004400053672937629\n",
      "Metric: validation.tail.pessimistic.inverse_harmonic_mean_rank = 0.02116078318344583\n",
      "Metric: validation.both.pessimistic.inverse_harmonic_mean_rank = 0.012780418428191727\n",
      "Metric: validation.head.optimistic.hits_at_1 = 0.0019187719859290054\n",
      "Metric: validation.tail.optimistic.hits_at_1 = 0.003517748640869843\n",
      "Metric: validation.both.optimistic.hits_at_1 = 0.002718260313399424\n",
      "Metric: validation.head.realistic.hits_at_1 = 0.0019187719859290054\n",
      "Metric: validation.tail.realistic.hits_at_1 = 0.003517748640869843\n",
      "Metric: validation.both.realistic.hits_at_1 = 0.002718260313399424\n",
      "Metric: validation.head.pessimistic.hits_at_1 = 0.0019187719859290054\n",
      "Metric: validation.tail.pessimistic.hits_at_1 = 0.003517748640869843\n",
      "Metric: validation.both.pessimistic.hits_at_1 = 0.002718260313399424\n",
      "Metric: validation.head.optimistic.hits_at_3 = 0.0031979533098816758\n",
      "Metric: validation.tail.optimistic.hits_at_3 = 0.018867924528301886\n",
      "Metric: validation.both.optimistic.hits_at_3 = 0.011032938919091781\n",
      "Metric: validation.head.realistic.hits_at_3 = 0.0031979533098816758\n",
      "Metric: validation.tail.realistic.hits_at_3 = 0.01598976654940838\n",
      "Metric: validation.both.realistic.hits_at_3 = 0.009593859929645027\n",
      "Metric: validation.head.pessimistic.hits_at_3 = 0.0031979533098816758\n",
      "Metric: validation.tail.pessimistic.hits_at_3 = 0.01598976654940838\n",
      "Metric: validation.both.pessimistic.hits_at_3 = 0.009593859929645027\n",
      "Metric: validation.head.optimistic.hits_at_5 = 0.004157339302846178\n",
      "Metric: validation.tail.optimistic.hits_at_5 = 0.03197953309881676\n",
      "Metric: validation.both.optimistic.hits_at_5 = 0.018068436200831466\n",
      "Metric: validation.head.realistic.hits_at_5 = 0.003517748640869843\n",
      "Metric: validation.tail.realistic.hits_at_5 = 0.01982731052126639\n",
      "Metric: validation.both.realistic.hits_at_5 = 0.011672529581068116\n",
      "Metric: validation.head.pessimistic.hits_at_5 = 0.003517748640869843\n",
      "Metric: validation.tail.pessimistic.hits_at_5 = 0.019187719859290055\n",
      "Metric: validation.both.pessimistic.hits_at_5 = 0.01135273425007995\n",
      "Metric: validation.head.optimistic.hits_at_10 = 0.005116725295810681\n",
      "Metric: validation.tail.optimistic.hits_at_10 = 0.04605052766229613\n",
      "Metric: validation.both.optimistic.hits_at_10 = 0.025583626479053406\n",
      "Metric: validation.head.realistic.hits_at_10 = 0.005116725295810681\n",
      "Metric: validation.tail.realistic.hits_at_10 = 0.03293891909178126\n",
      "Metric: validation.both.realistic.hits_at_10 = 0.019027822193795972\n",
      "Metric: validation.head.pessimistic.hits_at_10 = 0.005116725295810681\n",
      "Metric: validation.tail.pessimistic.hits_at_10 = 0.03293891909178126\n",
      "Metric: validation.both.pessimistic.hits_at_10 = 0.019027822193795972\n"
     ]
    },
    {
     "data": {
      "application/vnd.jupyter.widget-view+json": {
       "model_id": "",
       "version_major": 2,
       "version_minor": 0
      },
      "text/plain": [
       "Training batches on cuda:0:   0%|          | 0/2 [00:00<?, ?batch/s]"
      ]
     },
     "metadata": {},
     "output_type": "display_data"
    },
    {
     "name": "stdout",
     "output_type": "stream",
     "text": [
      "Step: 8\n",
      "Metric: loss = 5.408726215362549\n",
      "Step: 8\n",
      "Metric: validation.head.optimistic.inverse_harmonic_mean_rank = 0.006068008052235473\n",
      "Metric: validation.tail.optimistic.inverse_harmonic_mean_rank = 0.026656374145813976\n",
      "Metric: validation.both.optimistic.inverse_harmonic_mean_rank = 0.016362191099024724\n",
      "Metric: validation.head.realistic.inverse_harmonic_mean_rank = 0.0054784780368208885\n",
      "Metric: validation.tail.realistic.inverse_harmonic_mean_rank = 0.022864893078804016\n",
      "Metric: validation.both.realistic.inverse_harmonic_mean_rank = 0.01417168416082859\n",
      "Metric: validation.head.pessimistic.inverse_harmonic_mean_rank = 0.005270655689256587\n",
      "Metric: validation.tail.pessimistic.inverse_harmonic_mean_rank = 0.021214915167545364\n",
      "Metric: validation.both.pessimistic.inverse_harmonic_mean_rank = 0.013242785428400976\n",
      "Metric: validation.head.optimistic.hits_at_1 = 0.002878157978893508\n",
      "Metric: validation.tail.optimistic.hits_at_1 = 0.0031979533098816758\n",
      "Metric: validation.both.optimistic.hits_at_1 = 0.003038055644387592\n",
      "Metric: validation.head.realistic.hits_at_1 = 0.002878157978893508\n",
      "Metric: validation.tail.realistic.hits_at_1 = 0.0025583626479053407\n",
      "Metric: validation.both.realistic.hits_at_1 = 0.002718260313399424\n",
      "Metric: validation.head.pessimistic.hits_at_1 = 0.002878157978893508\n",
      "Metric: validation.tail.pessimistic.hits_at_1 = 0.0025583626479053407\n",
      "Metric: validation.both.pessimistic.hits_at_1 = 0.002718260313399424\n",
      "Metric: validation.head.optimistic.hits_at_3 = 0.003837543971858011\n",
      "Metric: validation.tail.optimistic.hits_at_3 = 0.018867924528301886\n",
      "Metric: validation.both.optimistic.hits_at_3 = 0.01135273425007995\n",
      "Metric: validation.head.realistic.hits_at_3 = 0.003837543971858011\n",
      "Metric: validation.tail.realistic.hits_at_3 = 0.017908538535337384\n",
      "Metric: validation.both.realistic.hits_at_3 = 0.010873041253597697\n",
      "Metric: validation.head.pessimistic.hits_at_3 = 0.003837543971858011\n",
      "Metric: validation.tail.pessimistic.hits_at_3 = 0.016309561880396548\n",
      "Metric: validation.both.pessimistic.hits_at_3 = 0.010073552926127279\n",
      "Metric: validation.head.optimistic.hits_at_5 = 0.005116725295810681\n",
      "Metric: validation.tail.optimistic.hits_at_5 = 0.024304445155100735\n",
      "Metric: validation.both.optimistic.hits_at_5 = 0.014710585225455708\n",
      "Metric: validation.head.realistic.hits_at_5 = 0.004157339302846178\n",
      "Metric: validation.tail.realistic.hits_at_5 = 0.020466901183242726\n",
      "Metric: validation.both.realistic.hits_at_5 = 0.012312120243044452\n",
      "Metric: validation.head.pessimistic.hits_at_5 = 0.004157339302846178\n",
      "Metric: validation.tail.pessimistic.hits_at_5 = 0.020466901183242726\n",
      "Metric: validation.both.pessimistic.hits_at_5 = 0.012312120243044452\n",
      "Metric: validation.head.optimistic.hits_at_10 = 0.006076111288775184\n",
      "Metric: validation.tail.optimistic.hits_at_10 = 0.07675087943716022\n",
      "Metric: validation.both.optimistic.hits_at_10 = 0.0414134953629677\n",
      "Metric: validation.head.realistic.hits_at_10 = 0.005756315957787016\n",
      "Metric: validation.tail.realistic.hits_at_10 = 0.04796929964822513\n",
      "Metric: validation.both.realistic.hits_at_10 = 0.026862807803006077\n",
      "Metric: validation.head.pessimistic.hits_at_10 = 0.005756315957787016\n",
      "Metric: validation.tail.pessimistic.hits_at_10 = 0.04796929964822513\n",
      "Metric: validation.both.pessimistic.hits_at_10 = 0.026862807803006077\n"
     ]
    },
    {
     "data": {
      "application/vnd.jupyter.widget-view+json": {
       "model_id": "",
       "version_major": 2,
       "version_minor": 0
      },
      "text/plain": [
       "Training batches on cuda:0:   0%|          | 0/2 [00:00<?, ?batch/s]"
      ]
     },
     "metadata": {},
     "output_type": "display_data"
    },
    {
     "name": "stdout",
     "output_type": "stream",
     "text": [
      "Step: 9\n",
      "Metric: loss = 5.214817762374878\n",
      "Step: 9\n",
      "Metric: validation.head.optimistic.inverse_harmonic_mean_rank = 0.006779159118406836\n",
      "Metric: validation.tail.optimistic.inverse_harmonic_mean_rank = 0.027514490398099275\n",
      "Metric: validation.both.optimistic.inverse_harmonic_mean_rank = 0.017146824758253052\n",
      "Metric: validation.head.realistic.inverse_harmonic_mean_rank = 0.005979262758046389\n",
      "Metric: validation.tail.realistic.inverse_harmonic_mean_rank = 0.025163007900118828\n",
      "Metric: validation.both.realistic.inverse_harmonic_mean_rank = 0.015571133233606817\n",
      "Metric: validation.head.pessimistic.inverse_harmonic_mean_rank = 0.00567635278373201\n",
      "Metric: validation.tail.pessimistic.inverse_harmonic_mean_rank = 0.024090397888273763\n",
      "Metric: validation.both.pessimistic.inverse_harmonic_mean_rank = 0.014883375336002886\n",
      "Metric: validation.head.optimistic.hits_at_1 = 0.002878157978893508\n",
      "Metric: validation.tail.optimistic.hits_at_1 = 0.005436520626798848\n",
      "Metric: validation.both.optimistic.hits_at_1 = 0.004157339302846178\n",
      "Metric: validation.head.realistic.hits_at_1 = 0.002878157978893508\n",
      "Metric: validation.tail.realistic.hits_at_1 = 0.005436520626798848\n",
      "Metric: validation.both.realistic.hits_at_1 = 0.004157339302846178\n",
      "Metric: validation.head.pessimistic.hits_at_1 = 0.002878157978893508\n",
      "Metric: validation.tail.pessimistic.hits_at_1 = 0.005436520626798848\n",
      "Metric: validation.both.pessimistic.hits_at_1 = 0.004157339302846178\n",
      "Metric: validation.head.optimistic.hits_at_3 = 0.004157339302846178\n",
      "Metric: validation.tail.optimistic.hits_at_3 = 0.021426287176207228\n",
      "Metric: validation.both.optimistic.hits_at_3 = 0.012791813239526703\n",
      "Metric: validation.head.realistic.hits_at_3 = 0.004157339302846178\n",
      "Metric: validation.tail.realistic.hits_at_3 = 0.01854812919731372\n",
      "Metric: validation.both.realistic.hits_at_3 = 0.01135273425007995\n",
      "Metric: validation.head.pessimistic.hits_at_3 = 0.004157339302846178\n",
      "Metric: validation.tail.pessimistic.hits_at_3 = 0.018228333866325552\n",
      "Metric: validation.both.pessimistic.hits_at_3 = 0.011192836584585865\n",
      "Metric: validation.head.optimistic.hits_at_5 = 0.007035497281739686\n",
      "Metric: validation.tail.optimistic.hits_at_5 = 0.030380556443875918\n",
      "Metric: validation.both.optimistic.hits_at_5 = 0.018708026862807803\n",
      "Metric: validation.head.realistic.hits_at_5 = 0.005116725295810681\n",
      "Metric: validation.tail.realistic.hits_at_5 = 0.02622321714102974\n",
      "Metric: validation.both.realistic.hits_at_5 = 0.01566997121842021\n",
      "Metric: validation.head.pessimistic.hits_at_5 = 0.005116725295810681\n",
      "Metric: validation.tail.pessimistic.hits_at_5 = 0.02622321714102974\n",
      "Metric: validation.both.pessimistic.hits_at_5 = 0.01566997121842021\n",
      "Metric: validation.head.optimistic.hits_at_10 = 0.008954269267668692\n",
      "Metric: validation.tail.optimistic.hits_at_10 = 0.0738727214582667\n",
      "Metric: validation.both.optimistic.hits_at_10 = 0.0414134953629677\n",
      "Metric: validation.head.realistic.hits_at_10 = 0.007675087943716022\n",
      "Metric: validation.tail.realistic.hits_at_10 = 0.03293891909178126\n",
      "Metric: validation.both.realistic.hits_at_10 = 0.02030700351774864\n",
      "Metric: validation.head.pessimistic.hits_at_10 = 0.0063959066197633516\n",
      "Metric: validation.tail.pessimistic.hits_at_10 = 0.03293891909178126\n",
      "Metric: validation.both.pessimistic.hits_at_10 = 0.019667412855772306\n"
     ]
    },
    {
     "data": {
      "application/vnd.jupyter.widget-view+json": {
       "model_id": "",
       "version_major": 2,
       "version_minor": 0
      },
      "text/plain": [
       "Training batches on cuda:0:   0%|          | 0/2 [00:00<?, ?batch/s]"
      ]
     },
     "metadata": {},
     "output_type": "display_data"
    },
    {
     "name": "stdout",
     "output_type": "stream",
     "text": [
      "Step: 10\n",
      "Metric: loss = 5.007322311401367\n",
      "Step: 10\n",
      "Metric: validation.head.optimistic.inverse_harmonic_mean_rank = 0.007164224910068876\n",
      "Metric: validation.tail.optimistic.inverse_harmonic_mean_rank = 0.026765554678118506\n",
      "Metric: validation.both.optimistic.inverse_harmonic_mean_rank = 0.01696488979409369\n",
      "Metric: validation.head.realistic.inverse_harmonic_mean_rank = 0.0061344089917838565\n",
      "Metric: validation.tail.realistic.inverse_harmonic_mean_rank = 0.02378884330391884\n",
      "Metric: validation.both.realistic.inverse_harmonic_mean_rank = 0.014961625449359419\n",
      "Metric: validation.head.pessimistic.inverse_harmonic_mean_rank = 0.005821616399835427\n",
      "Metric: validation.tail.pessimistic.inverse_harmonic_mean_rank = 0.022447168528704212\n",
      "Metric: validation.both.pessimistic.inverse_harmonic_mean_rank = 0.014134392464269821\n",
      "Metric: validation.head.optimistic.hits_at_1 = 0.003517748640869843\n",
      "Metric: validation.tail.optimistic.hits_at_1 = 0.004157339302846178\n",
      "Metric: validation.both.optimistic.hits_at_1 = 0.003837543971858011\n",
      "Metric: validation.head.realistic.hits_at_1 = 0.0031979533098816758\n",
      "Metric: validation.tail.realistic.hits_at_1 = 0.004157339302846178\n",
      "Metric: validation.both.realistic.hits_at_1 = 0.003677646306363927\n",
      "Metric: validation.head.pessimistic.hits_at_1 = 0.0031979533098816758\n",
      "Metric: validation.tail.pessimistic.hits_at_1 = 0.004157339302846178\n",
      "Metric: validation.both.pessimistic.hits_at_1 = 0.003677646306363927\n",
      "Metric: validation.head.optimistic.hits_at_3 = 0.004157339302846178\n",
      "Metric: validation.tail.optimistic.hits_at_3 = 0.020466901183242726\n",
      "Metric: validation.both.optimistic.hits_at_3 = 0.012312120243044452\n",
      "Metric: validation.head.realistic.hits_at_3 = 0.003517748640869843\n",
      "Metric: validation.tail.realistic.hits_at_3 = 0.019187719859290055\n",
      "Metric: validation.both.realistic.hits_at_3 = 0.01135273425007995\n",
      "Metric: validation.head.pessimistic.hits_at_3 = 0.003517748640869843\n",
      "Metric: validation.tail.pessimistic.hits_at_3 = 0.018867924528301886\n",
      "Metric: validation.both.pessimistic.hits_at_3 = 0.011192836584585865\n",
      "Metric: validation.head.optimistic.hits_at_5 = 0.005756315957787016\n",
      "Metric: validation.tail.optimistic.hits_at_5 = 0.025263831148065238\n",
      "Metric: validation.both.optimistic.hits_at_5 = 0.015510073552926128\n",
      "Metric: validation.head.realistic.hits_at_5 = 0.004157339302846178\n",
      "Metric: validation.tail.realistic.hits_at_5 = 0.021426287176207228\n",
      "Metric: validation.both.realistic.hits_at_5 = 0.012791813239526703\n",
      "Metric: validation.head.pessimistic.hits_at_5 = 0.004157339302846178\n",
      "Metric: validation.tail.pessimistic.hits_at_5 = 0.021426287176207228\n",
      "Metric: validation.both.pessimistic.hits_at_5 = 0.012791813239526703\n",
      "Metric: validation.head.optimistic.hits_at_10 = 0.008954269267668692\n",
      "Metric: validation.tail.optimistic.hits_at_10 = 0.08986248800767509\n",
      "Metric: validation.both.optimistic.hits_at_10 = 0.04940837863767189\n",
      "Metric: validation.head.realistic.hits_at_10 = 0.008314678605692356\n",
      "Metric: validation.tail.realistic.hits_at_10 = 0.03293891909178126\n",
      "Metric: validation.both.realistic.hits_at_10 = 0.02062679884873681\n",
      "Metric: validation.head.pessimistic.hits_at_10 = 0.007035497281739686\n",
      "Metric: validation.tail.pessimistic.hits_at_10 = 0.03293891909178126\n",
      "Metric: validation.both.pessimistic.hits_at_10 = 0.019987208186760475\n"
     ]
    },
    {
     "data": {
      "application/vnd.jupyter.widget-view+json": {
       "model_id": "",
       "version_major": 2,
       "version_minor": 0
      },
      "text/plain": [
       "Training batches on cuda:0:   0%|          | 0/2 [00:00<?, ?batch/s]"
      ]
     },
     "metadata": {},
     "output_type": "display_data"
    },
    {
     "name": "stdout",
     "output_type": "stream",
     "text": [
      "Step: 11\n",
      "Metric: loss = 4.780345916748047\n",
      "Step: 11\n",
      "Metric: validation.head.optimistic.inverse_harmonic_mean_rank = 0.007332811246554026\n",
      "Metric: validation.tail.optimistic.inverse_harmonic_mean_rank = 0.028091463789931933\n",
      "Metric: validation.both.optimistic.inverse_harmonic_mean_rank = 0.017712137518242976\n",
      "Metric: validation.head.realistic.inverse_harmonic_mean_rank = 0.006374069955199956\n",
      "Metric: validation.tail.realistic.inverse_harmonic_mean_rank = 0.02434167079627514\n",
      "Metric: validation.both.realistic.inverse_harmonic_mean_rank = 0.015357869677245615\n",
      "Metric: validation.head.pessimistic.inverse_harmonic_mean_rank = 0.006067549575699178\n",
      "Metric: validation.tail.pessimistic.inverse_harmonic_mean_rank = 0.022521855649917308\n",
      "Metric: validation.both.pessimistic.inverse_harmonic_mean_rank = 0.01429470261280824\n",
      "Metric: validation.head.optimistic.hits_at_1 = 0.003517748640869843\n",
      "Metric: validation.tail.optimistic.hits_at_1 = 0.006076111288775184\n",
      "Metric: validation.both.optimistic.hits_at_1 = 0.004796929964822514\n",
      "Metric: validation.head.realistic.hits_at_1 = 0.0031979533098816758\n",
      "Metric: validation.tail.realistic.hits_at_1 = 0.003517748640869843\n",
      "Metric: validation.both.realistic.hits_at_1 = 0.0033578509753757597\n",
      "Metric: validation.head.pessimistic.hits_at_1 = 0.0031979533098816758\n",
      "Metric: validation.tail.pessimistic.hits_at_1 = 0.003517748640869843\n",
      "Metric: validation.both.pessimistic.hits_at_1 = 0.0033578509753757597\n",
      "Metric: validation.head.optimistic.hits_at_3 = 0.004157339302846178\n",
      "Metric: validation.tail.optimistic.hits_at_3 = 0.02078669651423089\n",
      "Metric: validation.both.optimistic.hits_at_3 = 0.012472017908538535\n",
      "Metric: validation.head.realistic.hits_at_3 = 0.003517748640869843\n",
      "Metric: validation.tail.realistic.hits_at_3 = 0.01982731052126639\n",
      "Metric: validation.both.realistic.hits_at_3 = 0.011672529581068116\n",
      "Metric: validation.head.pessimistic.hits_at_3 = 0.003517748640869843\n",
      "Metric: validation.tail.pessimistic.hits_at_3 = 0.01982731052126639\n",
      "Metric: validation.both.pessimistic.hits_at_3 = 0.011672529581068116\n",
      "Metric: validation.head.optimistic.hits_at_5 = 0.006076111288775184\n",
      "Metric: validation.tail.optimistic.hits_at_5 = 0.025583626479053406\n",
      "Metric: validation.both.optimistic.hits_at_5 = 0.015829868883914296\n",
      "Metric: validation.head.realistic.hits_at_5 = 0.004477134633834346\n",
      "Metric: validation.tail.realistic.hits_at_5 = 0.022065877838183562\n",
      "Metric: validation.both.realistic.hits_at_5 = 0.013271506236008954\n",
      "Metric: validation.head.pessimistic.hits_at_5 = 0.004477134633834346\n",
      "Metric: validation.tail.pessimistic.hits_at_5 = 0.021426287176207228\n",
      "Metric: validation.both.pessimistic.hits_at_5 = 0.012951710905020787\n",
      "Metric: validation.head.optimistic.hits_at_10 = 0.009913655260633194\n",
      "Metric: validation.tail.optimistic.hits_at_10 = 0.05244643428205948\n",
      "Metric: validation.both.optimistic.hits_at_10 = 0.031180044771346338\n",
      "Metric: validation.head.realistic.hits_at_10 = 0.00927406459865686\n",
      "Metric: validation.tail.realistic.hits_at_10 = 0.03293891909178126\n",
      "Metric: validation.both.realistic.hits_at_10 = 0.02110649184521906\n",
      "Metric: validation.head.pessimistic.hits_at_10 = 0.008634473936680525\n",
      "Metric: validation.tail.pessimistic.hits_at_10 = 0.03293891909178126\n",
      "Metric: validation.both.pessimistic.hits_at_10 = 0.02078669651423089\n"
     ]
    },
    {
     "data": {
      "application/vnd.jupyter.widget-view+json": {
       "model_id": "",
       "version_major": 2,
       "version_minor": 0
      },
      "text/plain": [
       "Training batches on cuda:0:   0%|          | 0/2 [00:00<?, ?batch/s]"
      ]
     },
     "metadata": {},
     "output_type": "display_data"
    },
    {
     "name": "stdout",
     "output_type": "stream",
     "text": [
      "Step: 12\n",
      "Metric: loss = 4.5852062702178955\n",
      "Step: 12\n",
      "Metric: validation.head.optimistic.inverse_harmonic_mean_rank = 0.007391322936983225\n",
      "Metric: validation.tail.optimistic.inverse_harmonic_mean_rank = 0.024835296693953214\n",
      "Metric: validation.both.optimistic.inverse_harmonic_mean_rank = 0.01611330981546822\n",
      "Metric: validation.head.realistic.inverse_harmonic_mean_rank = 0.006549036130309105\n",
      "Metric: validation.tail.realistic.inverse_harmonic_mean_rank = 0.02198575623333454\n",
      "Metric: validation.both.realistic.inverse_harmonic_mean_rank = 0.014267396181821823\n",
      "Metric: validation.head.pessimistic.inverse_harmonic_mean_rank = 0.006200630225918367\n",
      "Metric: validation.tail.pessimistic.inverse_harmonic_mean_rank = 0.02075180834756952\n",
      "Metric: validation.both.pessimistic.inverse_harmonic_mean_rank = 0.01347621928674394\n",
      "Metric: validation.head.optimistic.hits_at_1 = 0.0031979533098816758\n",
      "Metric: validation.tail.optimistic.hits_at_1 = 0.006076111288775184\n",
      "Metric: validation.both.optimistic.hits_at_1 = 0.00463703229932843\n",
      "Metric: validation.head.realistic.hits_at_1 = 0.002878157978893508\n",
      "Metric: validation.tail.realistic.hits_at_1 = 0.003517748640869843\n",
      "Metric: validation.both.realistic.hits_at_1 = 0.0031979533098816758\n",
      "Metric: validation.head.pessimistic.hits_at_1 = 0.002878157978893508\n",
      "Metric: validation.tail.pessimistic.hits_at_1 = 0.003517748640869843\n",
      "Metric: validation.both.pessimistic.hits_at_1 = 0.0031979533098816758\n",
      "Metric: validation.head.optimistic.hits_at_3 = 0.004157339302846178\n",
      "Metric: validation.tail.optimistic.hits_at_3 = 0.020466901183242726\n",
      "Metric: validation.both.optimistic.hits_at_3 = 0.012312120243044452\n",
      "Metric: validation.head.realistic.hits_at_3 = 0.004157339302846178\n",
      "Metric: validation.tail.realistic.hits_at_3 = 0.019507515190278223\n",
      "Metric: validation.both.realistic.hits_at_3 = 0.0118324272465622\n",
      "Metric: validation.head.pessimistic.hits_at_3 = 0.004157339302846178\n",
      "Metric: validation.tail.pessimistic.hits_at_3 = 0.019507515190278223\n",
      "Metric: validation.both.pessimistic.hits_at_3 = 0.0118324272465622\n",
      "Metric: validation.head.optimistic.hits_at_5 = 0.007355292612727854\n",
      "Metric: validation.tail.optimistic.hits_at_5 = 0.02654301247201791\n",
      "Metric: validation.both.optimistic.hits_at_5 = 0.01694915254237288\n",
      "Metric: validation.head.realistic.hits_at_5 = 0.006076111288775184\n",
      "Metric: validation.tail.realistic.hits_at_5 = 0.021746082507195393\n",
      "Metric: validation.both.realistic.hits_at_5 = 0.01391109689798529\n",
      "Metric: validation.head.pessimistic.hits_at_5 = 0.005436520626798848\n",
      "Metric: validation.tail.pessimistic.hits_at_5 = 0.021426287176207228\n",
      "Metric: validation.both.pessimistic.hits_at_5 = 0.013431403901503039\n",
      "Metric: validation.head.optimistic.hits_at_10 = 0.01055324592260953\n",
      "Metric: validation.tail.optimistic.hits_at_10 = 0.04381196034537896\n",
      "Metric: validation.both.optimistic.hits_at_10 = 0.027182603133994242\n",
      "Metric: validation.head.realistic.hits_at_10 = 0.008634473936680525\n",
      "Metric: validation.tail.realistic.hits_at_10 = 0.033258714422769425\n",
      "Metric: validation.both.realistic.hits_at_10 = 0.020946594179724977\n",
      "Metric: validation.head.pessimistic.hits_at_10 = 0.007675087943716022\n",
      "Metric: validation.tail.pessimistic.hits_at_10 = 0.033258714422769425\n",
      "Metric: validation.both.pessimistic.hits_at_10 = 0.020466901183242726\n"
     ]
    },
    {
     "data": {
      "application/vnd.jupyter.widget-view+json": {
       "model_id": "",
       "version_major": 2,
       "version_minor": 0
      },
      "text/plain": [
       "Training batches on cuda:0:   0%|          | 0/2 [00:00<?, ?batch/s]"
      ]
     },
     "metadata": {},
     "output_type": "display_data"
    },
    {
     "name": "stdout",
     "output_type": "stream",
     "text": [
      "Step: 13\n",
      "Metric: loss = 4.39101505279541\n",
      "Step: 13\n",
      "Metric: validation.head.optimistic.inverse_harmonic_mean_rank = 0.007379100641131754\n",
      "Metric: validation.tail.optimistic.inverse_harmonic_mean_rank = 0.024171833141222857\n",
      "Metric: validation.both.optimistic.inverse_harmonic_mean_rank = 0.01577546689117731\n",
      "Metric: validation.head.realistic.inverse_harmonic_mean_rank = 0.006677303463220596\n",
      "Metric: validation.tail.realistic.inverse_harmonic_mean_rank = 0.022325731813907623\n",
      "Metric: validation.both.realistic.inverse_harmonic_mean_rank = 0.014501519501209259\n",
      "Metric: validation.head.pessimistic.inverse_harmonic_mean_rank = 0.006387405035431191\n",
      "Metric: validation.tail.pessimistic.inverse_harmonic_mean_rank = 0.021610377799961604\n",
      "Metric: validation.both.pessimistic.inverse_harmonic_mean_rank = 0.0139988914176964\n",
      "Metric: validation.head.optimistic.hits_at_1 = 0.0031979533098816758\n",
      "Metric: validation.tail.optimistic.hits_at_1 = 0.004157339302846178\n",
      "Metric: validation.both.optimistic.hits_at_1 = 0.003677646306363927\n",
      "Metric: validation.head.realistic.hits_at_1 = 0.0031979533098816758\n",
      "Metric: validation.tail.realistic.hits_at_1 = 0.004157339302846178\n",
      "Metric: validation.both.realistic.hits_at_1 = 0.003677646306363927\n",
      "Metric: validation.head.pessimistic.hits_at_1 = 0.0031979533098816758\n",
      "Metric: validation.tail.pessimistic.hits_at_1 = 0.004157339302846178\n",
      "Metric: validation.both.pessimistic.hits_at_1 = 0.003677646306363927\n",
      "Metric: validation.head.optimistic.hits_at_3 = 0.003837543971858011\n",
      "Metric: validation.tail.optimistic.hits_at_3 = 0.02110649184521906\n",
      "Metric: validation.both.optimistic.hits_at_3 = 0.012472017908538535\n",
      "Metric: validation.head.realistic.hits_at_3 = 0.003837543971858011\n",
      "Metric: validation.tail.realistic.hits_at_3 = 0.018867924528301886\n",
      "Metric: validation.both.realistic.hits_at_3 = 0.01135273425007995\n",
      "Metric: validation.head.pessimistic.hits_at_3 = 0.003837543971858011\n",
      "Metric: validation.tail.pessimistic.hits_at_3 = 0.018867924528301886\n",
      "Metric: validation.both.pessimistic.hits_at_3 = 0.01135273425007995\n",
      "Metric: validation.head.optimistic.hits_at_5 = 0.005436520626798848\n",
      "Metric: validation.tail.optimistic.hits_at_5 = 0.026862807803006077\n",
      "Metric: validation.both.optimistic.hits_at_5 = 0.01614966421490246\n",
      "Metric: validation.head.realistic.hits_at_5 = 0.004157339302846178\n",
      "Metric: validation.tail.realistic.hits_at_5 = 0.0227054685001599\n",
      "Metric: validation.both.realistic.hits_at_5 = 0.013431403901503039\n",
      "Metric: validation.head.pessimistic.hits_at_5 = 0.004157339302846178\n",
      "Metric: validation.tail.pessimistic.hits_at_5 = 0.0227054685001599\n",
      "Metric: validation.both.pessimistic.hits_at_5 = 0.013431403901503039\n",
      "Metric: validation.head.optimistic.hits_at_10 = 0.01055324592260953\n",
      "Metric: validation.tail.optimistic.hits_at_10 = 0.044451551007355296\n",
      "Metric: validation.both.optimistic.hits_at_10 = 0.02750239846498241\n",
      "Metric: validation.head.realistic.hits_at_10 = 0.008954269267668692\n",
      "Metric: validation.tail.realistic.hits_at_10 = 0.0335785097537576\n",
      "Metric: validation.both.realistic.hits_at_10 = 0.021266389510713142\n",
      "Metric: validation.head.pessimistic.hits_at_10 = 0.008314678605692356\n",
      "Metric: validation.tail.pessimistic.hits_at_10 = 0.0335785097537576\n",
      "Metric: validation.both.pessimistic.hits_at_10 = 0.020946594179724977\n"
     ]
    },
    {
     "data": {
      "application/vnd.jupyter.widget-view+json": {
       "model_id": "",
       "version_major": 2,
       "version_minor": 0
      },
      "text/plain": [
       "Training batches on cuda:0:   0%|          | 0/2 [00:00<?, ?batch/s]"
      ]
     },
     "metadata": {},
     "output_type": "display_data"
    },
    {
     "name": "stdout",
     "output_type": "stream",
     "text": [
      "Step: 14\n",
      "Metric: loss = 4.179098129272461\n",
      "Step: 14\n",
      "Metric: validation.head.optimistic.inverse_harmonic_mean_rank = 0.007639071887969463\n",
      "Metric: validation.tail.optimistic.inverse_harmonic_mean_rank = 0.024192734710920014\n",
      "Metric: validation.both.optimistic.inverse_harmonic_mean_rank = 0.01591590329944474\n",
      "Metric: validation.head.realistic.inverse_harmonic_mean_rank = 0.0068311053328216085\n",
      "Metric: validation.tail.realistic.inverse_harmonic_mean_rank = 0.021444424986839294\n",
      "Metric: validation.both.realistic.inverse_harmonic_mean_rank = 0.014137765392661093\n",
      "Metric: validation.head.pessimistic.inverse_harmonic_mean_rank = 0.006533936938158417\n",
      "Metric: validation.tail.pessimistic.inverse_harmonic_mean_rank = 0.02030340230694071\n",
      "Metric: validation.both.pessimistic.inverse_harmonic_mean_rank = 0.013418669622549563\n",
      "Metric: validation.head.optimistic.hits_at_1 = 0.003517748640869843\n",
      "Metric: validation.tail.optimistic.hits_at_1 = 0.006076111288775184\n",
      "Metric: validation.both.optimistic.hits_at_1 = 0.004796929964822514\n",
      "Metric: validation.head.realistic.hits_at_1 = 0.0031979533098816758\n",
      "Metric: validation.tail.realistic.hits_at_1 = 0.003517748640869843\n",
      "Metric: validation.both.realistic.hits_at_1 = 0.0033578509753757597\n",
      "Metric: validation.head.pessimistic.hits_at_1 = 0.0031979533098816758\n",
      "Metric: validation.tail.pessimistic.hits_at_1 = 0.003517748640869843\n",
      "Metric: validation.both.pessimistic.hits_at_1 = 0.0033578509753757597\n",
      "Metric: validation.head.optimistic.hits_at_3 = 0.004157339302846178\n",
      "Metric: validation.tail.optimistic.hits_at_3 = 0.020147105852254557\n",
      "Metric: validation.both.optimistic.hits_at_3 = 0.012152222577550368\n",
      "Metric: validation.head.realistic.hits_at_3 = 0.003837543971858011\n",
      "Metric: validation.tail.realistic.hits_at_3 = 0.019187719859290055\n",
      "Metric: validation.both.realistic.hits_at_3 = 0.011512631915574032\n",
      "Metric: validation.head.pessimistic.hits_at_3 = 0.003517748640869843\n",
      "Metric: validation.tail.pessimistic.hits_at_3 = 0.018867924528301886\n",
      "Metric: validation.both.pessimistic.hits_at_3 = 0.011192836584585865\n",
      "Metric: validation.head.optimistic.hits_at_5 = 0.005436520626798848\n",
      "Metric: validation.tail.optimistic.hits_at_5 = 0.025263831148065238\n",
      "Metric: validation.both.optimistic.hits_at_5 = 0.015350175887432043\n",
      "Metric: validation.head.realistic.hits_at_5 = 0.005116725295810681\n",
      "Metric: validation.tail.realistic.hits_at_5 = 0.021426287176207228\n",
      "Metric: validation.both.realistic.hits_at_5 = 0.013271506236008954\n",
      "Metric: validation.head.pessimistic.hits_at_5 = 0.005116725295810681\n",
      "Metric: validation.tail.pessimistic.hits_at_5 = 0.02078669651423089\n",
      "Metric: validation.both.pessimistic.hits_at_5 = 0.012951710905020787\n",
      "Metric: validation.head.optimistic.hits_at_10 = 0.009913655260633194\n",
      "Metric: validation.tail.optimistic.hits_at_10 = 0.03933482571154461\n",
      "Metric: validation.both.optimistic.hits_at_10 = 0.024624240486088904\n",
      "Metric: validation.head.realistic.hits_at_10 = 0.008634473936680525\n",
      "Metric: validation.tail.realistic.hits_at_10 = 0.028141989126958745\n",
      "Metric: validation.both.realistic.hits_at_10 = 0.018388231531819635\n",
      "Metric: validation.head.pessimistic.hits_at_10 = 0.008314678605692356\n",
      "Metric: validation.tail.pessimistic.hits_at_10 = 0.02782219379597058\n",
      "Metric: validation.both.pessimistic.hits_at_10 = 0.018068436200831466\n"
     ]
    },
    {
     "data": {
      "application/vnd.jupyter.widget-view+json": {
       "model_id": "",
       "version_major": 2,
       "version_minor": 0
      },
      "text/plain": [
       "Training batches on cuda:0:   0%|          | 0/2 [00:00<?, ?batch/s]"
      ]
     },
     "metadata": {},
     "output_type": "display_data"
    },
    {
     "name": "stdout",
     "output_type": "stream",
     "text": [
      "Step: 15\n",
      "Metric: loss = 4.003134250640869\n",
      "Step: 15\n",
      "Metric: validation.head.optimistic.inverse_harmonic_mean_rank = 0.0073139889720681\n",
      "Metric: validation.tail.optimistic.inverse_harmonic_mean_rank = 0.024594201402258764\n",
      "Metric: validation.both.optimistic.inverse_harmonic_mean_rank = 0.015954095187163432\n",
      "Metric: validation.head.realistic.inverse_harmonic_mean_rank = 0.006563937291502953\n",
      "Metric: validation.tail.realistic.inverse_harmonic_mean_rank = 0.02137608267366886\n",
      "Metric: validation.both.realistic.inverse_harmonic_mean_rank = 0.013970010913908482\n",
      "Metric: validation.head.pessimistic.inverse_harmonic_mean_rank = 0.00622518505757059\n",
      "Metric: validation.tail.pessimistic.inverse_harmonic_mean_rank = 0.01993941133265722\n",
      "Metric: validation.both.pessimistic.inverse_harmonic_mean_rank = 0.013082298195113902\n",
      "Metric: validation.head.optimistic.hits_at_1 = 0.0031979533098816758\n",
      "Metric: validation.tail.optimistic.hits_at_1 = 0.005756315957787016\n",
      "Metric: validation.both.optimistic.hits_at_1 = 0.004477134633834346\n",
      "Metric: validation.head.realistic.hits_at_1 = 0.002878157978893508\n",
      "Metric: validation.tail.realistic.hits_at_1 = 0.0031979533098816758\n",
      "Metric: validation.both.realistic.hits_at_1 = 0.003038055644387592\n",
      "Metric: validation.head.pessimistic.hits_at_1 = 0.002878157978893508\n",
      "Metric: validation.tail.pessimistic.hits_at_1 = 0.0031979533098816758\n",
      "Metric: validation.both.pessimistic.hits_at_1 = 0.003038055644387592\n",
      "Metric: validation.head.optimistic.hits_at_3 = 0.004157339302846178\n",
      "Metric: validation.tail.optimistic.hits_at_3 = 0.021426287176207228\n",
      "Metric: validation.both.optimistic.hits_at_3 = 0.012791813239526703\n",
      "Metric: validation.head.realistic.hits_at_3 = 0.003517748640869843\n",
      "Metric: validation.tail.realistic.hits_at_3 = 0.01982731052126639\n",
      "Metric: validation.both.realistic.hits_at_3 = 0.011672529581068116\n",
      "Metric: validation.head.pessimistic.hits_at_3 = 0.003517748640869843\n",
      "Metric: validation.tail.pessimistic.hits_at_3 = 0.01982731052126639\n",
      "Metric: validation.both.pessimistic.hits_at_3 = 0.011672529581068116\n",
      "Metric: validation.head.optimistic.hits_at_5 = 0.004796929964822514\n",
      "Metric: validation.tail.optimistic.hits_at_5 = 0.025583626479053406\n",
      "Metric: validation.both.optimistic.hits_at_5 = 0.015190278221937959\n",
      "Metric: validation.head.realistic.hits_at_5 = 0.004477134633834346\n",
      "Metric: validation.tail.realistic.hits_at_5 = 0.022065877838183562\n",
      "Metric: validation.both.realistic.hits_at_5 = 0.013271506236008954\n",
      "Metric: validation.head.pessimistic.hits_at_5 = 0.004477134633834346\n",
      "Metric: validation.tail.pessimistic.hits_at_5 = 0.02110649184521906\n",
      "Metric: validation.both.pessimistic.hits_at_5 = 0.012791813239526703\n",
      "Metric: validation.head.optimistic.hits_at_10 = 0.008954269267668692\n",
      "Metric: validation.tail.optimistic.hits_at_10 = 0.038695235049568275\n",
      "Metric: validation.both.optimistic.hits_at_10 = 0.023824752158618484\n",
      "Metric: validation.head.realistic.hits_at_10 = 0.00799488327470419\n",
      "Metric: validation.tail.realistic.hits_at_10 = 0.02782219379597058\n",
      "Metric: validation.both.realistic.hits_at_10 = 0.017908538535337384\n",
      "Metric: validation.head.pessimistic.hits_at_10 = 0.00799488327470419\n",
      "Metric: validation.tail.pessimistic.hits_at_10 = 0.02782219379597058\n",
      "Metric: validation.both.pessimistic.hits_at_10 = 0.017908538535337384\n"
     ]
    },
    {
     "data": {
      "application/vnd.jupyter.widget-view+json": {
       "model_id": "",
       "version_major": 2,
       "version_minor": 0
      },
      "text/plain": [
       "Training batches on cuda:0:   0%|          | 0/2 [00:00<?, ?batch/s]"
      ]
     },
     "metadata": {},
     "output_type": "display_data"
    },
    {
     "name": "stdout",
     "output_type": "stream",
     "text": [
      "Step: 16\n",
      "Metric: loss = 3.7962734699249268\n",
      "Step: 16\n",
      "Metric: validation.head.optimistic.inverse_harmonic_mean_rank = 0.00742613672656753\n",
      "Metric: validation.tail.optimistic.inverse_harmonic_mean_rank = 0.02509927942154261\n",
      "Metric: validation.both.optimistic.inverse_harmonic_mean_rank = 0.016262708074055072\n",
      "Metric: validation.head.realistic.inverse_harmonic_mean_rank = 0.006826410070061684\n",
      "Metric: validation.tail.realistic.inverse_harmonic_mean_rank = 0.022975439205765724\n",
      "Metric: validation.both.realistic.inverse_harmonic_mean_rank = 0.014900926500558853\n",
      "Metric: validation.head.pessimistic.inverse_harmonic_mean_rank = 0.006565716357643876\n",
      "Metric: validation.tail.pessimistic.inverse_harmonic_mean_rank = 0.022060685314391083\n",
      "Metric: validation.both.pessimistic.inverse_harmonic_mean_rank = 0.01431320083601748\n",
      "Metric: validation.head.optimistic.hits_at_1 = 0.0031979533098816758\n",
      "Metric: validation.tail.optimistic.hits_at_1 = 0.005116725295810681\n",
      "Metric: validation.both.optimistic.hits_at_1 = 0.004157339302846178\n",
      "Metric: validation.head.realistic.hits_at_1 = 0.0031979533098816758\n",
      "Metric: validation.tail.realistic.hits_at_1 = 0.005116725295810681\n",
      "Metric: validation.both.realistic.hits_at_1 = 0.004157339302846178\n",
      "Metric: validation.head.pessimistic.hits_at_1 = 0.0031979533098816758\n",
      "Metric: validation.tail.pessimistic.hits_at_1 = 0.005116725295810681\n",
      "Metric: validation.both.pessimistic.hits_at_1 = 0.004157339302846178\n",
      "Metric: validation.head.optimistic.hits_at_3 = 0.003837543971858011\n",
      "Metric: validation.tail.optimistic.hits_at_3 = 0.020466901183242726\n",
      "Metric: validation.both.optimistic.hits_at_3 = 0.012152222577550368\n",
      "Metric: validation.head.realistic.hits_at_3 = 0.003517748640869843\n",
      "Metric: validation.tail.realistic.hits_at_3 = 0.018867924528301886\n",
      "Metric: validation.both.realistic.hits_at_3 = 0.011192836584585865\n",
      "Metric: validation.head.pessimistic.hits_at_3 = 0.003517748640869843\n",
      "Metric: validation.tail.pessimistic.hits_at_3 = 0.018867924528301886\n",
      "Metric: validation.both.pessimistic.hits_at_3 = 0.011192836584585865\n",
      "Metric: validation.head.optimistic.hits_at_5 = 0.005756315957787016\n",
      "Metric: validation.tail.optimistic.hits_at_5 = 0.02750239846498241\n",
      "Metric: validation.both.optimistic.hits_at_5 = 0.016629357211384713\n",
      "Metric: validation.head.realistic.hits_at_5 = 0.005116725295810681\n",
      "Metric: validation.tail.realistic.hits_at_5 = 0.02238567316917173\n",
      "Metric: validation.both.realistic.hits_at_5 = 0.013751199232491206\n",
      "Metric: validation.head.pessimistic.hits_at_5 = 0.005116725295810681\n",
      "Metric: validation.tail.pessimistic.hits_at_5 = 0.021426287176207228\n",
      "Metric: validation.both.pessimistic.hits_at_5 = 0.013271506236008954\n",
      "Metric: validation.head.optimistic.hits_at_10 = 0.008634473936680525\n",
      "Metric: validation.tail.optimistic.hits_at_10 = 0.04125359769747362\n",
      "Metric: validation.both.optimistic.hits_at_10 = 0.02494403581707707\n",
      "Metric: validation.head.realistic.hits_at_10 = 0.00799488327470419\n",
      "Metric: validation.tail.realistic.hits_at_10 = 0.030700351774864087\n",
      "Metric: validation.both.realistic.hits_at_10 = 0.019347617524784137\n",
      "Metric: validation.head.pessimistic.hits_at_10 = 0.00799488327470419\n",
      "Metric: validation.tail.pessimistic.hits_at_10 = 0.030700351774864087\n",
      "Metric: validation.both.pessimistic.hits_at_10 = 0.019347617524784137\n"
     ]
    },
    {
     "data": {
      "application/vnd.jupyter.widget-view+json": {
       "model_id": "",
       "version_major": 2,
       "version_minor": 0
      },
      "text/plain": [
       "Training batches on cuda:0:   0%|          | 0/2 [00:00<?, ?batch/s]"
      ]
     },
     "metadata": {},
     "output_type": "display_data"
    },
    {
     "name": "stdout",
     "output_type": "stream",
     "text": [
      "Step: 17\n",
      "Metric: loss = 3.629629611968994\n",
      "Step: 17\n",
      "Metric: validation.head.optimistic.inverse_harmonic_mean_rank = 0.00775239192043762\n",
      "Metric: validation.tail.optimistic.inverse_harmonic_mean_rank = 0.023148492763299285\n",
      "Metric: validation.both.optimistic.inverse_harmonic_mean_rank = 0.015450442341868455\n",
      "Metric: validation.head.realistic.inverse_harmonic_mean_rank = 0.007012354210019111\n",
      "Metric: validation.tail.realistic.inverse_harmonic_mean_rank = 0.021587850525975227\n",
      "Metric: validation.both.realistic.inverse_harmonic_mean_rank = 0.014300103299319746\n",
      "Metric: validation.head.pessimistic.inverse_harmonic_mean_rank = 0.006670590910345031\n",
      "Metric: validation.tail.pessimistic.inverse_harmonic_mean_rank = 0.021061964898809873\n",
      "Metric: validation.both.pessimistic.inverse_harmonic_mean_rank = 0.01386627790457745\n",
      "Metric: validation.head.optimistic.hits_at_1 = 0.0031979533098816758\n",
      "Metric: validation.tail.optimistic.hits_at_1 = 0.005116725295810681\n",
      "Metric: validation.both.optimistic.hits_at_1 = 0.004157339302846178\n",
      "Metric: validation.head.realistic.hits_at_1 = 0.002878157978893508\n",
      "Metric: validation.tail.realistic.hits_at_1 = 0.005116725295810681\n",
      "Metric: validation.both.realistic.hits_at_1 = 0.003997441637352095\n",
      "Metric: validation.head.pessimistic.hits_at_1 = 0.002878157978893508\n",
      "Metric: validation.tail.pessimistic.hits_at_1 = 0.005116725295810681\n",
      "Metric: validation.both.pessimistic.hits_at_1 = 0.003997441637352095\n",
      "Metric: validation.head.optimistic.hits_at_3 = 0.004477134633834346\n",
      "Metric: validation.tail.optimistic.hits_at_3 = 0.020147105852254557\n",
      "Metric: validation.both.optimistic.hits_at_3 = 0.012312120243044452\n",
      "Metric: validation.head.realistic.hits_at_3 = 0.004157339302846178\n",
      "Metric: validation.tail.realistic.hits_at_3 = 0.019187719859290055\n",
      "Metric: validation.both.realistic.hits_at_3 = 0.011672529581068116\n",
      "Metric: validation.head.pessimistic.hits_at_3 = 0.004157339302846178\n",
      "Metric: validation.tail.pessimistic.hits_at_3 = 0.019187719859290055\n",
      "Metric: validation.both.pessimistic.hits_at_3 = 0.011672529581068116\n",
      "Metric: validation.head.optimistic.hits_at_5 = 0.0063959066197633516\n",
      "Metric: validation.tail.optimistic.hits_at_5 = 0.02622321714102974\n",
      "Metric: validation.both.optimistic.hits_at_5 = 0.016309561880396548\n",
      "Metric: validation.head.realistic.hits_at_5 = 0.006076111288775184\n",
      "Metric: validation.tail.realistic.hits_at_5 = 0.021746082507195393\n",
      "Metric: validation.both.realistic.hits_at_5 = 0.01391109689798529\n",
      "Metric: validation.head.pessimistic.hits_at_5 = 0.005436520626798848\n",
      "Metric: validation.tail.pessimistic.hits_at_5 = 0.021746082507195393\n",
      "Metric: validation.both.pessimistic.hits_at_5 = 0.013591301566997121\n",
      "Metric: validation.head.optimistic.hits_at_10 = 0.009593859929645027\n",
      "Metric: validation.tail.optimistic.hits_at_10 = 0.041893188359449954\n",
      "Metric: validation.both.optimistic.hits_at_10 = 0.02574352414454749\n",
      "Metric: validation.head.realistic.hits_at_10 = 0.008634473936680525\n",
      "Metric: validation.tail.realistic.hits_at_10 = 0.031020147105852255\n",
      "Metric: validation.both.realistic.hits_at_10 = 0.01982731052126639\n",
      "Metric: validation.head.pessimistic.hits_at_10 = 0.008634473936680525\n",
      "Metric: validation.tail.pessimistic.hits_at_10 = 0.031020147105852255\n",
      "Metric: validation.both.pessimistic.hits_at_10 = 0.01982731052126639\n"
     ]
    },
    {
     "data": {
      "application/vnd.jupyter.widget-view+json": {
       "model_id": "",
       "version_major": 2,
       "version_minor": 0
      },
      "text/plain": [
       "Training batches on cuda:0:   0%|          | 0/2 [00:00<?, ?batch/s]"
      ]
     },
     "metadata": {},
     "output_type": "display_data"
    },
    {
     "name": "stdout",
     "output_type": "stream",
     "text": [
      "Step: 18\n",
      "Metric: loss = 3.465006113052368\n",
      "Step: 18\n",
      "Metric: validation.head.optimistic.inverse_harmonic_mean_rank = 0.007700472162595779\n",
      "Metric: validation.tail.optimistic.inverse_harmonic_mean_rank = 0.02393562130039965\n",
      "Metric: validation.both.optimistic.inverse_harmonic_mean_rank = 0.015818046731497715\n",
      "Metric: validation.head.realistic.inverse_harmonic_mean_rank = 0.007095927372574806\n",
      "Metric: validation.tail.realistic.inverse_harmonic_mean_rank = 0.02149927243590355\n",
      "Metric: validation.both.realistic.inverse_harmonic_mean_rank = 0.014297599904239176\n",
      "Metric: validation.head.pessimistic.inverse_harmonic_mean_rank = 0.006831281890679462\n",
      "Metric: validation.tail.pessimistic.inverse_harmonic_mean_rank = 0.020532918872958418\n",
      "Metric: validation.both.pessimistic.inverse_harmonic_mean_rank = 0.013682100381818938\n",
      "Metric: validation.head.optimistic.hits_at_1 = 0.0031979533098816758\n",
      "Metric: validation.tail.optimistic.hits_at_1 = 0.005756315957787016\n",
      "Metric: validation.both.optimistic.hits_at_1 = 0.004477134633834346\n",
      "Metric: validation.head.realistic.hits_at_1 = 0.0031979533098816758\n",
      "Metric: validation.tail.realistic.hits_at_1 = 0.0031979533098816758\n",
      "Metric: validation.both.realistic.hits_at_1 = 0.0031979533098816758\n",
      "Metric: validation.head.pessimistic.hits_at_1 = 0.0031979533098816758\n",
      "Metric: validation.tail.pessimistic.hits_at_1 = 0.0031979533098816758\n",
      "Metric: validation.both.pessimistic.hits_at_1 = 0.0031979533098816758\n",
      "Metric: validation.head.optimistic.hits_at_3 = 0.004157339302846178\n",
      "Metric: validation.tail.optimistic.hits_at_3 = 0.018867924528301886\n",
      "Metric: validation.both.optimistic.hits_at_3 = 0.011512631915574032\n",
      "Metric: validation.head.realistic.hits_at_3 = 0.004157339302846178\n",
      "Metric: validation.tail.realistic.hits_at_3 = 0.018867924528301886\n",
      "Metric: validation.both.realistic.hits_at_3 = 0.011512631915574032\n",
      "Metric: validation.head.pessimistic.hits_at_3 = 0.004157339302846178\n",
      "Metric: validation.tail.pessimistic.hits_at_3 = 0.018867924528301886\n",
      "Metric: validation.both.pessimistic.hits_at_3 = 0.011512631915574032\n",
      "Metric: validation.head.optimistic.hits_at_5 = 0.006715701950751519\n",
      "Metric: validation.tail.optimistic.hits_at_5 = 0.025583626479053406\n",
      "Metric: validation.both.optimistic.hits_at_5 = 0.01614966421490246\n",
      "Metric: validation.head.realistic.hits_at_5 = 0.005756315957787016\n",
      "Metric: validation.tail.realistic.hits_at_5 = 0.022065877838183562\n",
      "Metric: validation.both.realistic.hits_at_5 = 0.01391109689798529\n",
      "Metric: validation.head.pessimistic.hits_at_5 = 0.005756315957787016\n",
      "Metric: validation.tail.pessimistic.hits_at_5 = 0.022065877838183562\n",
      "Metric: validation.both.pessimistic.hits_at_5 = 0.01391109689798529\n",
      "Metric: validation.head.optimistic.hits_at_10 = 0.009913655260633194\n",
      "Metric: validation.tail.optimistic.hits_at_10 = 0.04157339302846178\n",
      "Metric: validation.both.optimistic.hits_at_10 = 0.02574352414454749\n",
      "Metric: validation.head.realistic.hits_at_10 = 0.008954269267668692\n",
      "Metric: validation.tail.realistic.hits_at_10 = 0.031020147105852255\n",
      "Metric: validation.both.realistic.hits_at_10 = 0.019987208186760475\n",
      "Metric: validation.head.pessimistic.hits_at_10 = 0.008954269267668692\n",
      "Metric: validation.tail.pessimistic.hits_at_10 = 0.031020147105852255\n",
      "Metric: validation.both.pessimistic.hits_at_10 = 0.019987208186760475\n"
     ]
    },
    {
     "data": {
      "application/vnd.jupyter.widget-view+json": {
       "model_id": "",
       "version_major": 2,
       "version_minor": 0
      },
      "text/plain": [
       "Training batches on cuda:0:   0%|          | 0/2 [00:00<?, ?batch/s]"
      ]
     },
     "metadata": {},
     "output_type": "display_data"
    },
    {
     "name": "stdout",
     "output_type": "stream",
     "text": [
      "Step: 19\n",
      "Metric: loss = 3.2936681509017944\n",
      "Step: 19\n",
      "Metric: validation.head.optimistic.inverse_harmonic_mean_rank = 0.007844680918515728\n",
      "Metric: validation.tail.optimistic.inverse_harmonic_mean_rank = 0.02369881112064641\n",
      "Metric: validation.both.optimistic.inverse_harmonic_mean_rank = 0.01577174601958107\n",
      "Metric: validation.head.realistic.inverse_harmonic_mean_rank = 0.007069885730743408\n",
      "Metric: validation.tail.realistic.inverse_harmonic_mean_rank = 0.02200310118496418\n",
      "Metric: validation.both.realistic.inverse_harmonic_mean_rank = 0.014536495320498943\n",
      "Metric: validation.head.pessimistic.inverse_harmonic_mean_rank = 0.006706991036694118\n",
      "Metric: validation.tail.pessimistic.inverse_harmonic_mean_rank = 0.021366753356151645\n",
      "Metric: validation.both.pessimistic.inverse_harmonic_mean_rank = 0.014036872196422882\n",
      "Metric: validation.head.optimistic.hits_at_1 = 0.0031979533098816758\n",
      "Metric: validation.tail.optimistic.hits_at_1 = 0.005116725295810681\n",
      "Metric: validation.both.optimistic.hits_at_1 = 0.004157339302846178\n",
      "Metric: validation.head.realistic.hits_at_1 = 0.002878157978893508\n",
      "Metric: validation.tail.realistic.hits_at_1 = 0.005116725295810681\n",
      "Metric: validation.both.realistic.hits_at_1 = 0.003997441637352095\n",
      "Metric: validation.head.pessimistic.hits_at_1 = 0.002878157978893508\n",
      "Metric: validation.tail.pessimistic.hits_at_1 = 0.005116725295810681\n",
      "Metric: validation.both.pessimistic.hits_at_1 = 0.003997441637352095\n",
      "Metric: validation.head.optimistic.hits_at_3 = 0.004477134633834346\n",
      "Metric: validation.tail.optimistic.hits_at_3 = 0.018867924528301886\n",
      "Metric: validation.both.optimistic.hits_at_3 = 0.011672529581068116\n",
      "Metric: validation.head.realistic.hits_at_3 = 0.003837543971858011\n",
      "Metric: validation.tail.realistic.hits_at_3 = 0.018867924528301886\n",
      "Metric: validation.both.realistic.hits_at_3 = 0.01135273425007995\n",
      "Metric: validation.head.pessimistic.hits_at_3 = 0.003837543971858011\n",
      "Metric: validation.tail.pessimistic.hits_at_3 = 0.018867924528301886\n",
      "Metric: validation.both.pessimistic.hits_at_3 = 0.01135273425007995\n",
      "Metric: validation.head.optimistic.hits_at_5 = 0.0063959066197633516\n",
      "Metric: validation.tail.optimistic.hits_at_5 = 0.027182603133994242\n",
      "Metric: validation.both.optimistic.hits_at_5 = 0.0167892548768788\n",
      "Metric: validation.head.realistic.hits_at_5 = 0.005756315957787016\n",
      "Metric: validation.tail.realistic.hits_at_5 = 0.02110649184521906\n",
      "Metric: validation.both.realistic.hits_at_5 = 0.013431403901503039\n",
      "Metric: validation.head.pessimistic.hits_at_5 = 0.005756315957787016\n",
      "Metric: validation.tail.pessimistic.hits_at_5 = 0.02110649184521906\n",
      "Metric: validation.both.pessimistic.hits_at_5 = 0.013431403901503039\n",
      "Metric: validation.head.optimistic.hits_at_10 = 0.010233450591621363\n",
      "Metric: validation.tail.optimistic.hits_at_10 = 0.04157339302846178\n",
      "Metric: validation.both.optimistic.hits_at_10 = 0.025903421810041575\n",
      "Metric: validation.head.realistic.hits_at_10 = 0.009593859929645027\n",
      "Metric: validation.tail.realistic.hits_at_10 = 0.030700351774864087\n",
      "Metric: validation.both.realistic.hits_at_10 = 0.020147105852254557\n",
      "Metric: validation.head.pessimistic.hits_at_10 = 0.009593859929645027\n",
      "Metric: validation.tail.pessimistic.hits_at_10 = 0.030700351774864087\n",
      "Metric: validation.both.pessimistic.hits_at_10 = 0.020147105852254557\n"
     ]
    },
    {
     "data": {
      "application/vnd.jupyter.widget-view+json": {
       "model_id": "",
       "version_major": 2,
       "version_minor": 0
      },
      "text/plain": [
       "Training batches on cuda:0:   0%|          | 0/2 [00:00<?, ?batch/s]"
      ]
     },
     "metadata": {},
     "output_type": "display_data"
    },
    {
     "name": "stdout",
     "output_type": "stream",
     "text": [
      "Step: 20\n",
      "Metric: loss = 3.1612563133239746\n",
      "Step: 20\n",
      "Metric: validation.head.optimistic.inverse_harmonic_mean_rank = 0.007759594532507589\n",
      "Metric: validation.tail.optimistic.inverse_harmonic_mean_rank = 0.023358813789186524\n",
      "Metric: validation.both.optimistic.inverse_harmonic_mean_rank = 0.015559204160847058\n",
      "Metric: validation.head.realistic.inverse_harmonic_mean_rank = 0.007040543481707573\n",
      "Metric: validation.tail.realistic.inverse_harmonic_mean_rank = 0.02158745564520359\n",
      "Metric: validation.both.realistic.inverse_harmonic_mean_rank = 0.014313999563455582\n",
      "Metric: validation.head.pessimistic.inverse_harmonic_mean_rank = 0.006699079614057392\n",
      "Metric: validation.tail.pessimistic.inverse_harmonic_mean_rank = 0.020898967451167386\n",
      "Metric: validation.both.pessimistic.inverse_harmonic_mean_rank = 0.013799023532612389\n",
      "Metric: validation.head.optimistic.hits_at_1 = 0.002878157978893508\n",
      "Metric: validation.tail.optimistic.hits_at_1 = 0.003837543971858011\n",
      "Metric: validation.both.optimistic.hits_at_1 = 0.0033578509753757597\n",
      "Metric: validation.head.realistic.hits_at_1 = 0.002878157978893508\n",
      "Metric: validation.tail.realistic.hits_at_1 = 0.003837543971858011\n",
      "Metric: validation.both.realistic.hits_at_1 = 0.0033578509753757597\n",
      "Metric: validation.head.pessimistic.hits_at_1 = 0.002878157978893508\n",
      "Metric: validation.tail.pessimistic.hits_at_1 = 0.003837543971858011\n",
      "Metric: validation.both.pessimistic.hits_at_1 = 0.0033578509753757597\n",
      "Metric: validation.head.optimistic.hits_at_3 = 0.004157339302846178\n",
      "Metric: validation.tail.optimistic.hits_at_3 = 0.020466901183242726\n",
      "Metric: validation.both.optimistic.hits_at_3 = 0.012312120243044452\n",
      "Metric: validation.head.realistic.hits_at_3 = 0.003517748640869843\n",
      "Metric: validation.tail.realistic.hits_at_3 = 0.020147105852254557\n",
      "Metric: validation.both.realistic.hits_at_3 = 0.0118324272465622\n",
      "Metric: validation.head.pessimistic.hits_at_3 = 0.003517748640869843\n",
      "Metric: validation.tail.pessimistic.hits_at_3 = 0.020147105852254557\n",
      "Metric: validation.both.pessimistic.hits_at_3 = 0.0118324272465622\n",
      "Metric: validation.head.optimistic.hits_at_5 = 0.004796929964822514\n",
      "Metric: validation.tail.optimistic.hits_at_5 = 0.02750239846498241\n",
      "Metric: validation.both.optimistic.hits_at_5 = 0.01614966421490246\n",
      "Metric: validation.head.realistic.hits_at_5 = 0.004477134633834346\n",
      "Metric: validation.tail.realistic.hits_at_5 = 0.0227054685001599\n",
      "Metric: validation.both.realistic.hits_at_5 = 0.013591301566997121\n",
      "Metric: validation.head.pessimistic.hits_at_5 = 0.004477134633834346\n",
      "Metric: validation.tail.pessimistic.hits_at_5 = 0.0227054685001599\n",
      "Metric: validation.both.pessimistic.hits_at_5 = 0.013591301566997121\n",
      "Metric: validation.head.optimistic.hits_at_10 = 0.009593859929645027\n",
      "Metric: validation.tail.optimistic.hits_at_10 = 0.041893188359449954\n",
      "Metric: validation.both.optimistic.hits_at_10 = 0.02574352414454749\n",
      "Metric: validation.head.realistic.hits_at_10 = 0.009593859929645027\n",
      "Metric: validation.tail.realistic.hits_at_10 = 0.031020147105852255\n",
      "Metric: validation.both.realistic.hits_at_10 = 0.02030700351774864\n",
      "Metric: validation.head.pessimistic.hits_at_10 = 0.009593859929645027\n",
      "Metric: validation.tail.pessimistic.hits_at_10 = 0.031020147105852255\n",
      "Metric: validation.both.pessimistic.hits_at_10 = 0.02030700351774864\n"
     ]
    },
    {
     "data": {
      "application/vnd.jupyter.widget-view+json": {
       "model_id": "",
       "version_major": 2,
       "version_minor": 0
      },
      "text/plain": [
       "Training batches on cuda:0:   0%|          | 0/2 [00:00<?, ?batch/s]"
      ]
     },
     "metadata": {},
     "output_type": "display_data"
    },
    {
     "name": "stdout",
     "output_type": "stream",
     "text": [
      "Step: 21\n",
      "Metric: loss = 3.0266093015670776\n",
      "Step: 21\n",
      "Metric: validation.head.optimistic.inverse_harmonic_mean_rank = 0.007951219164967327\n",
      "Metric: validation.tail.optimistic.inverse_harmonic_mean_rank = 0.023536108866398255\n",
      "Metric: validation.both.optimistic.inverse_harmonic_mean_rank = 0.015743664015682793\n",
      "Metric: validation.head.realistic.inverse_harmonic_mean_rank = 0.007273140829056501\n",
      "Metric: validation.tail.realistic.inverse_harmonic_mean_rank = 0.02211344800889492\n",
      "Metric: validation.both.realistic.inverse_harmonic_mean_rank = 0.01469329372048378\n",
      "Metric: validation.head.pessimistic.inverse_harmonic_mean_rank = 0.006958306932841658\n",
      "Metric: validation.tail.pessimistic.inverse_harmonic_mean_rank = 0.021532099827380545\n",
      "Metric: validation.both.pessimistic.inverse_harmonic_mean_rank = 0.014245203380111102\n",
      "Metric: validation.head.optimistic.hits_at_1 = 0.0031979533098816758\n",
      "Metric: validation.tail.optimistic.hits_at_1 = 0.005116725295810681\n",
      "Metric: validation.both.optimistic.hits_at_1 = 0.004157339302846178\n",
      "Metric: validation.head.realistic.hits_at_1 = 0.002878157978893508\n",
      "Metric: validation.tail.realistic.hits_at_1 = 0.005116725295810681\n",
      "Metric: validation.both.realistic.hits_at_1 = 0.003997441637352095\n",
      "Metric: validation.head.pessimistic.hits_at_1 = 0.002878157978893508\n",
      "Metric: validation.tail.pessimistic.hits_at_1 = 0.005116725295810681\n",
      "Metric: validation.both.pessimistic.hits_at_1 = 0.003997441637352095\n",
      "Metric: validation.head.optimistic.hits_at_3 = 0.003837543971858011\n",
      "Metric: validation.tail.optimistic.hits_at_3 = 0.02110649184521906\n",
      "Metric: validation.both.optimistic.hits_at_3 = 0.012472017908538535\n",
      "Metric: validation.head.realistic.hits_at_3 = 0.003837543971858011\n",
      "Metric: validation.tail.realistic.hits_at_3 = 0.01982731052126639\n",
      "Metric: validation.both.realistic.hits_at_3 = 0.0118324272465622\n",
      "Metric: validation.head.pessimistic.hits_at_3 = 0.003837543971858011\n",
      "Metric: validation.tail.pessimistic.hits_at_3 = 0.01982731052126639\n",
      "Metric: validation.both.pessimistic.hits_at_3 = 0.0118324272465622\n",
      "Metric: validation.head.optimistic.hits_at_5 = 0.006076111288775184\n",
      "Metric: validation.tail.optimistic.hits_at_5 = 0.02494403581707707\n",
      "Metric: validation.both.optimistic.hits_at_5 = 0.015510073552926128\n",
      "Metric: validation.head.realistic.hits_at_5 = 0.005436520626798848\n",
      "Metric: validation.tail.realistic.hits_at_5 = 0.023984649824112567\n",
      "Metric: validation.both.realistic.hits_at_5 = 0.014710585225455708\n",
      "Metric: validation.head.pessimistic.hits_at_5 = 0.005436520626798848\n",
      "Metric: validation.tail.pessimistic.hits_at_5 = 0.0236648544931244\n",
      "Metric: validation.both.pessimistic.hits_at_5 = 0.014550687559961625\n",
      "Metric: validation.head.optimistic.hits_at_10 = 0.010233450591621363\n",
      "Metric: validation.tail.optimistic.hits_at_10 = 0.03901503038055645\n",
      "Metric: validation.both.optimistic.hits_at_10 = 0.024624240486088904\n",
      "Metric: validation.head.realistic.hits_at_10 = 0.010233450591621363\n",
      "Metric: validation.tail.realistic.hits_at_10 = 0.0335785097537576\n",
      "Metric: validation.both.realistic.hits_at_10 = 0.02190598017268948\n",
      "Metric: validation.head.pessimistic.hits_at_10 = 0.010233450591621363\n",
      "Metric: validation.tail.pessimistic.hits_at_10 = 0.0335785097537576\n",
      "Metric: validation.both.pessimistic.hits_at_10 = 0.02190598017268948\n"
     ]
    },
    {
     "data": {
      "application/vnd.jupyter.widget-view+json": {
       "model_id": "",
       "version_major": 2,
       "version_minor": 0
      },
      "text/plain": [
       "Training batches on cuda:0:   0%|          | 0/2 [00:00<?, ?batch/s]"
      ]
     },
     "metadata": {},
     "output_type": "display_data"
    },
    {
     "name": "stdout",
     "output_type": "stream",
     "text": [
      "Step: 22\n",
      "Metric: loss = 2.9053932428359985\n",
      "Step: 22\n",
      "Metric: validation.head.optimistic.inverse_harmonic_mean_rank = 0.0077853910863508735\n",
      "Metric: validation.tail.optimistic.inverse_harmonic_mean_rank = 0.02262029539232858\n",
      "Metric: validation.both.optimistic.inverse_harmonic_mean_rank = 0.015202843239339727\n",
      "Metric: validation.head.realistic.inverse_harmonic_mean_rank = 0.00715318089351058\n",
      "Metric: validation.tail.realistic.inverse_harmonic_mean_rank = 0.02135644480586052\n",
      "Metric: validation.both.realistic.inverse_harmonic_mean_rank = 0.014254811219871046\n",
      "Metric: validation.head.pessimistic.inverse_harmonic_mean_rank = 0.006861739072157744\n",
      "Metric: validation.tail.pessimistic.inverse_harmonic_mean_rank = 0.020876666588386595\n",
      "Metric: validation.both.pessimistic.inverse_harmonic_mean_rank = 0.013869202830272171\n",
      "Metric: validation.head.optimistic.hits_at_1 = 0.002878157978893508\n",
      "Metric: validation.tail.optimistic.hits_at_1 = 0.003837543971858011\n",
      "Metric: validation.both.optimistic.hits_at_1 = 0.0033578509753757597\n",
      "Metric: validation.head.realistic.hits_at_1 = 0.002878157978893508\n",
      "Metric: validation.tail.realistic.hits_at_1 = 0.003837543971858011\n",
      "Metric: validation.both.realistic.hits_at_1 = 0.0033578509753757597\n",
      "Metric: validation.head.pessimistic.hits_at_1 = 0.002878157978893508\n",
      "Metric: validation.tail.pessimistic.hits_at_1 = 0.003837543971858011\n",
      "Metric: validation.both.pessimistic.hits_at_1 = 0.0033578509753757597\n",
      "Metric: validation.head.optimistic.hits_at_3 = 0.004157339302846178\n",
      "Metric: validation.tail.optimistic.hits_at_3 = 0.020466901183242726\n",
      "Metric: validation.both.optimistic.hits_at_3 = 0.012312120243044452\n",
      "Metric: validation.head.realistic.hits_at_3 = 0.003837543971858011\n",
      "Metric: validation.tail.realistic.hits_at_3 = 0.020466901183242726\n",
      "Metric: validation.both.realistic.hits_at_3 = 0.012152222577550368\n",
      "Metric: validation.head.pessimistic.hits_at_3 = 0.003837543971858011\n",
      "Metric: validation.tail.pessimistic.hits_at_3 = 0.020466901183242726\n",
      "Metric: validation.both.pessimistic.hits_at_3 = 0.012152222577550368\n",
      "Metric: validation.head.optimistic.hits_at_5 = 0.005756315957787016\n",
      "Metric: validation.tail.optimistic.hits_at_5 = 0.024624240486088904\n",
      "Metric: validation.both.optimistic.hits_at_5 = 0.015190278221937959\n",
      "Metric: validation.head.realistic.hits_at_5 = 0.004796929964822514\n",
      "Metric: validation.tail.realistic.hits_at_5 = 0.024304445155100735\n",
      "Metric: validation.both.realistic.hits_at_5 = 0.014550687559961625\n",
      "Metric: validation.head.pessimistic.hits_at_5 = 0.004796929964822514\n",
      "Metric: validation.tail.pessimistic.hits_at_5 = 0.024304445155100735\n",
      "Metric: validation.both.pessimistic.hits_at_5 = 0.014550687559961625\n",
      "Metric: validation.head.optimistic.hits_at_10 = 0.009913655260633194\n",
      "Metric: validation.tail.optimistic.hits_at_10 = 0.03933482571154461\n",
      "Metric: validation.both.optimistic.hits_at_10 = 0.024624240486088904\n",
      "Metric: validation.head.realistic.hits_at_10 = 0.009913655260633194\n",
      "Metric: validation.tail.realistic.hits_at_10 = 0.03421810041573393\n",
      "Metric: validation.both.realistic.hits_at_10 = 0.022065877838183562\n",
      "Metric: validation.head.pessimistic.hits_at_10 = 0.009913655260633194\n",
      "Metric: validation.tail.pessimistic.hits_at_10 = 0.03421810041573393\n",
      "Metric: validation.both.pessimistic.hits_at_10 = 0.022065877838183562\n"
     ]
    },
    {
     "data": {
      "application/vnd.jupyter.widget-view+json": {
       "model_id": "",
       "version_major": 2,
       "version_minor": 0
      },
      "text/plain": [
       "Training batches on cuda:0:   0%|          | 0/2 [00:00<?, ?batch/s]"
      ]
     },
     "metadata": {},
     "output_type": "display_data"
    },
    {
     "name": "stdout",
     "output_type": "stream",
     "text": [
      "Step: 23\n",
      "Metric: loss = 2.776942014694214\n",
      "Step: 23\n",
      "Metric: validation.head.optimistic.inverse_harmonic_mean_rank = 0.007958171736528553\n",
      "Metric: validation.tail.optimistic.inverse_harmonic_mean_rank = 0.02335203822978234\n",
      "Metric: validation.both.optimistic.inverse_harmonic_mean_rank = 0.015655104983155445\n",
      "Metric: validation.head.realistic.inverse_harmonic_mean_rank = 0.007240564562380314\n",
      "Metric: validation.tail.realistic.inverse_harmonic_mean_rank = 0.02136988192796707\n",
      "Metric: validation.both.realistic.inverse_harmonic_mean_rank = 0.014305223710834982\n",
      "Metric: validation.head.pessimistic.inverse_harmonic_mean_rank = 0.006914561529350597\n",
      "Metric: validation.tail.pessimistic.inverse_harmonic_mean_rank = 0.0205606142268419\n",
      "Metric: validation.both.pessimistic.inverse_harmonic_mean_rank = 0.01373758787809625\n",
      "Metric: validation.head.optimistic.hits_at_1 = 0.0031979533098816758\n",
      "Metric: validation.tail.optimistic.hits_at_1 = 0.005756315957787016\n",
      "Metric: validation.both.optimistic.hits_at_1 = 0.004477134633834346\n",
      "Metric: validation.head.realistic.hits_at_1 = 0.002878157978893508\n",
      "Metric: validation.tail.realistic.hits_at_1 = 0.0031979533098816758\n",
      "Metric: validation.both.realistic.hits_at_1 = 0.003038055644387592\n",
      "Metric: validation.head.pessimistic.hits_at_1 = 0.002878157978893508\n",
      "Metric: validation.tail.pessimistic.hits_at_1 = 0.0031979533098816758\n",
      "Metric: validation.both.pessimistic.hits_at_1 = 0.003038055644387592\n",
      "Metric: validation.head.optimistic.hits_at_3 = 0.004157339302846178\n",
      "Metric: validation.tail.optimistic.hits_at_3 = 0.01982731052126639\n",
      "Metric: validation.both.optimistic.hits_at_3 = 0.011992324912056283\n",
      "Metric: validation.head.realistic.hits_at_3 = 0.004157339302846178\n",
      "Metric: validation.tail.realistic.hits_at_3 = 0.01982731052126639\n",
      "Metric: validation.both.realistic.hits_at_3 = 0.011992324912056283\n",
      "Metric: validation.head.pessimistic.hits_at_3 = 0.004157339302846178\n",
      "Metric: validation.tail.pessimistic.hits_at_3 = 0.01982731052126639\n",
      "Metric: validation.both.pessimistic.hits_at_3 = 0.011992324912056283\n",
      "Metric: validation.head.optimistic.hits_at_5 = 0.005436520626798848\n",
      "Metric: validation.tail.optimistic.hits_at_5 = 0.025583626479053406\n",
      "Metric: validation.both.optimistic.hits_at_5 = 0.015510073552926128\n",
      "Metric: validation.head.realistic.hits_at_5 = 0.005116725295810681\n",
      "Metric: validation.tail.realistic.hits_at_5 = 0.025263831148065238\n",
      "Metric: validation.both.realistic.hits_at_5 = 0.015190278221937959\n",
      "Metric: validation.head.pessimistic.hits_at_5 = 0.005116725295810681\n",
      "Metric: validation.tail.pessimistic.hits_at_5 = 0.025263831148065238\n",
      "Metric: validation.both.pessimistic.hits_at_5 = 0.015190278221937959\n",
      "Metric: validation.head.optimistic.hits_at_10 = 0.010233450591621363\n",
      "Metric: validation.tail.optimistic.hits_at_10 = 0.038055644387591944\n",
      "Metric: validation.both.optimistic.hits_at_10 = 0.024144547489606653\n",
      "Metric: validation.head.realistic.hits_at_10 = 0.009593859929645027\n",
      "Metric: validation.tail.realistic.hits_at_10 = 0.03293891909178126\n",
      "Metric: validation.both.realistic.hits_at_10 = 0.021266389510713142\n",
      "Metric: validation.head.pessimistic.hits_at_10 = 0.009593859929645027\n",
      "Metric: validation.tail.pessimistic.hits_at_10 = 0.03293891909178126\n",
      "Metric: validation.both.pessimistic.hits_at_10 = 0.021266389510713142\n"
     ]
    },
    {
     "data": {
      "application/vnd.jupyter.widget-view+json": {
       "model_id": "",
       "version_major": 2,
       "version_minor": 0
      },
      "text/plain": [
       "Training batches on cuda:0:   0%|          | 0/2 [00:00<?, ?batch/s]"
      ]
     },
     "metadata": {},
     "output_type": "display_data"
    },
    {
     "name": "stdout",
     "output_type": "stream",
     "text": [
      "Step: 24\n",
      "Metric: loss = 2.664813280105591\n",
      "Step: 24\n",
      "Metric: validation.head.optimistic.inverse_harmonic_mean_rank = 0.00803623914317027\n",
      "Metric: validation.tail.optimistic.inverse_harmonic_mean_rank = 0.02162866753949525\n",
      "Metric: validation.both.optimistic.inverse_harmonic_mean_rank = 0.014832453341332761\n",
      "Metric: validation.head.realistic.inverse_harmonic_mean_rank = 0.007520028389990331\n",
      "Metric: validation.tail.realistic.inverse_harmonic_mean_rank = 0.020858759060502052\n",
      "Metric: validation.both.realistic.inverse_harmonic_mean_rank = 0.014189395122230055\n",
      "Metric: validation.head.pessimistic.inverse_harmonic_mean_rank = 0.007297355368354999\n",
      "Metric: validation.tail.pessimistic.inverse_harmonic_mean_rank = 0.02053178169160059\n",
      "Metric: validation.both.pessimistic.inverse_harmonic_mean_rank = 0.013914568529977795\n",
      "Metric: validation.head.optimistic.hits_at_1 = 0.0031979533098816758\n",
      "Metric: validation.tail.optimistic.hits_at_1 = 0.005116725295810681\n",
      "Metric: validation.both.optimistic.hits_at_1 = 0.004157339302846178\n",
      "Metric: validation.head.realistic.hits_at_1 = 0.0031979533098816758\n",
      "Metric: validation.tail.realistic.hits_at_1 = 0.005116725295810681\n",
      "Metric: validation.both.realistic.hits_at_1 = 0.004157339302846178\n",
      "Metric: validation.head.pessimistic.hits_at_1 = 0.0031979533098816758\n",
      "Metric: validation.tail.pessimistic.hits_at_1 = 0.005116725295810681\n",
      "Metric: validation.both.pessimistic.hits_at_1 = 0.004157339302846178\n",
      "Metric: validation.head.optimistic.hits_at_3 = 0.004477134633834346\n",
      "Metric: validation.tail.optimistic.hits_at_3 = 0.0227054685001599\n",
      "Metric: validation.both.optimistic.hits_at_3 = 0.013591301566997121\n",
      "Metric: validation.head.realistic.hits_at_3 = 0.004477134633834346\n",
      "Metric: validation.tail.realistic.hits_at_3 = 0.02238567316917173\n",
      "Metric: validation.both.realistic.hits_at_3 = 0.013431403901503039\n",
      "Metric: validation.head.pessimistic.hits_at_3 = 0.004477134633834346\n",
      "Metric: validation.tail.pessimistic.hits_at_3 = 0.02238567316917173\n",
      "Metric: validation.both.pessimistic.hits_at_3 = 0.013431403901503039\n",
      "Metric: validation.head.optimistic.hits_at_5 = 0.0063959066197633516\n",
      "Metric: validation.tail.optimistic.hits_at_5 = 0.025583626479053406\n",
      "Metric: validation.both.optimistic.hits_at_5 = 0.01598976654940838\n",
      "Metric: validation.head.realistic.hits_at_5 = 0.0063959066197633516\n",
      "Metric: validation.tail.realistic.hits_at_5 = 0.025583626479053406\n",
      "Metric: validation.both.realistic.hits_at_5 = 0.01598976654940838\n",
      "Metric: validation.head.pessimistic.hits_at_5 = 0.0063959066197633516\n",
      "Metric: validation.tail.pessimistic.hits_at_5 = 0.025583626479053406\n",
      "Metric: validation.both.pessimistic.hits_at_5 = 0.01598976654940838\n",
      "Metric: validation.head.optimistic.hits_at_10 = 0.009913655260633194\n",
      "Metric: validation.tail.optimistic.hits_at_10 = 0.03677646306363927\n",
      "Metric: validation.both.optimistic.hits_at_10 = 0.023345059162136233\n",
      "Metric: validation.head.realistic.hits_at_10 = 0.009593859929645027\n",
      "Metric: validation.tail.realistic.hits_at_10 = 0.033258714422769425\n",
      "Metric: validation.both.realistic.hits_at_10 = 0.021426287176207228\n",
      "Metric: validation.head.pessimistic.hits_at_10 = 0.009593859929645027\n",
      "Metric: validation.tail.pessimistic.hits_at_10 = 0.033258714422769425\n",
      "Metric: validation.both.pessimistic.hits_at_10 = 0.021426287176207228\n"
     ]
    },
    {
     "data": {
      "application/vnd.jupyter.widget-view+json": {
       "model_id": "",
       "version_major": 2,
       "version_minor": 0
      },
      "text/plain": [
       "Training batches on cuda:0:   0%|          | 0/2 [00:00<?, ?batch/s]"
      ]
     },
     "metadata": {},
     "output_type": "display_data"
    },
    {
     "name": "stdout",
     "output_type": "stream",
     "text": [
      "Step: 25\n",
      "Metric: loss = 2.552900552749634\n",
      "Step: 25\n",
      "Metric: validation.head.optimistic.inverse_harmonic_mean_rank = 0.008168731445964894\n",
      "Metric: validation.tail.optimistic.inverse_harmonic_mean_rank = 0.02099620213003829\n",
      "Metric: validation.both.optimistic.inverse_harmonic_mean_rank = 0.014582466788001592\n",
      "Metric: validation.head.realistic.inverse_harmonic_mean_rank = 0.007398891262710094\n",
      "Metric: validation.tail.realistic.inverse_harmonic_mean_rank = 0.020240969955921173\n",
      "Metric: validation.both.realistic.inverse_harmonic_mean_rank = 0.01381992921233177\n",
      "Metric: validation.head.pessimistic.inverse_harmonic_mean_rank = 0.007049521548286927\n",
      "Metric: validation.tail.pessimistic.inverse_harmonic_mean_rank = 0.019927704237247844\n",
      "Metric: validation.both.pessimistic.inverse_harmonic_mean_rank = 0.013488612892767385\n",
      "Metric: validation.head.optimistic.hits_at_1 = 0.0031979533098816758\n",
      "Metric: validation.tail.optimistic.hits_at_1 = 0.003837543971858011\n",
      "Metric: validation.both.optimistic.hits_at_1 = 0.003517748640869843\n",
      "Metric: validation.head.realistic.hits_at_1 = 0.002878157978893508\n",
      "Metric: validation.tail.realistic.hits_at_1 = 0.003837543971858011\n",
      "Metric: validation.both.realistic.hits_at_1 = 0.0033578509753757597\n",
      "Metric: validation.head.pessimistic.hits_at_1 = 0.002878157978893508\n",
      "Metric: validation.tail.pessimistic.hits_at_1 = 0.003837543971858011\n",
      "Metric: validation.both.pessimistic.hits_at_1 = 0.0033578509753757597\n",
      "Metric: validation.head.optimistic.hits_at_3 = 0.004157339302846178\n",
      "Metric: validation.tail.optimistic.hits_at_3 = 0.0227054685001599\n",
      "Metric: validation.both.optimistic.hits_at_3 = 0.013431403901503039\n",
      "Metric: validation.head.realistic.hits_at_3 = 0.003837543971858011\n",
      "Metric: validation.tail.realistic.hits_at_3 = 0.02238567316917173\n",
      "Metric: validation.both.realistic.hits_at_3 = 0.01311160857051487\n",
      "Metric: validation.head.pessimistic.hits_at_3 = 0.003837543971858011\n",
      "Metric: validation.tail.pessimistic.hits_at_3 = 0.02238567316917173\n",
      "Metric: validation.both.pessimistic.hits_at_3 = 0.01311160857051487\n",
      "Metric: validation.head.optimistic.hits_at_5 = 0.0063959066197633516\n",
      "Metric: validation.tail.optimistic.hits_at_5 = 0.02622321714102974\n",
      "Metric: validation.both.optimistic.hits_at_5 = 0.016309561880396548\n",
      "Metric: validation.head.realistic.hits_at_5 = 0.006076111288775184\n",
      "Metric: validation.tail.realistic.hits_at_5 = 0.02622321714102974\n",
      "Metric: validation.both.realistic.hits_at_5 = 0.01614966421490246\n",
      "Metric: validation.head.pessimistic.hits_at_5 = 0.006076111288775184\n",
      "Metric: validation.tail.pessimistic.hits_at_5 = 0.02622321714102974\n",
      "Metric: validation.both.pessimistic.hits_at_5 = 0.01614966421490246\n",
      "Metric: validation.head.optimistic.hits_at_10 = 0.009593859929645027\n",
      "Metric: validation.tail.optimistic.hits_at_10 = 0.036456667732651105\n",
      "Metric: validation.both.optimistic.hits_at_10 = 0.023025263831148064\n",
      "Metric: validation.head.realistic.hits_at_10 = 0.009593859929645027\n",
      "Metric: validation.tail.realistic.hits_at_10 = 0.03293891909178126\n",
      "Metric: validation.both.realistic.hits_at_10 = 0.021266389510713142\n",
      "Metric: validation.head.pessimistic.hits_at_10 = 0.009593859929645027\n",
      "Metric: validation.tail.pessimistic.hits_at_10 = 0.03293891909178126\n",
      "Metric: validation.both.pessimistic.hits_at_10 = 0.021266389510713142\n"
     ]
    },
    {
     "data": {
      "application/vnd.jupyter.widget-view+json": {
       "model_id": "",
       "version_major": 2,
       "version_minor": 0
      },
      "text/plain": [
       "Training batches on cuda:0:   0%|          | 0/2 [00:00<?, ?batch/s]"
      ]
     },
     "metadata": {},
     "output_type": "display_data"
    },
    {
     "name": "stdout",
     "output_type": "stream",
     "text": [
      "Step: 26\n",
      "Metric: loss = 2.4468064308166504\n",
      "Step: 26\n",
      "Metric: validation.head.optimistic.inverse_harmonic_mean_rank = 0.007887605664605515\n",
      "Metric: validation.tail.optimistic.inverse_harmonic_mean_rank = 0.018433068498324073\n",
      "Metric: validation.both.optimistic.inverse_harmonic_mean_rank = 0.013160337081464794\n",
      "Metric: validation.head.realistic.inverse_harmonic_mean_rank = 0.0072173685766756535\n",
      "Metric: validation.tail.realistic.inverse_harmonic_mean_rank = 0.017867354676127434\n",
      "Metric: validation.both.realistic.inverse_harmonic_mean_rank = 0.012542361393570902\n",
      "Metric: validation.head.pessimistic.inverse_harmonic_mean_rank = 0.006892747453773568\n",
      "Metric: validation.tail.pessimistic.inverse_harmonic_mean_rank = 0.017552254385888148\n",
      "Metric: validation.both.pessimistic.inverse_harmonic_mean_rank = 0.012222500919830856\n",
      "Metric: validation.head.optimistic.hits_at_1 = 0.002878157978893508\n",
      "Metric: validation.tail.optimistic.hits_at_1 = 0.005116725295810681\n",
      "Metric: validation.both.optimistic.hits_at_1 = 0.003997441637352095\n",
      "Metric: validation.head.realistic.hits_at_1 = 0.002878157978893508\n",
      "Metric: validation.tail.realistic.hits_at_1 = 0.005116725295810681\n",
      "Metric: validation.both.realistic.hits_at_1 = 0.003997441637352095\n",
      "Metric: validation.head.pessimistic.hits_at_1 = 0.002878157978893508\n",
      "Metric: validation.tail.pessimistic.hits_at_1 = 0.005116725295810681\n",
      "Metric: validation.both.pessimistic.hits_at_1 = 0.003997441637352095\n",
      "Metric: validation.head.optimistic.hits_at_3 = 0.004157339302846178\n",
      "Metric: validation.tail.optimistic.hits_at_3 = 0.012791813239526703\n",
      "Metric: validation.both.optimistic.hits_at_3 = 0.00847457627118644\n",
      "Metric: validation.head.realistic.hits_at_3 = 0.003837543971858011\n",
      "Metric: validation.tail.realistic.hits_at_3 = 0.012152222577550368\n",
      "Metric: validation.both.realistic.hits_at_3 = 0.00799488327470419\n",
      "Metric: validation.head.pessimistic.hits_at_3 = 0.003837543971858011\n",
      "Metric: validation.tail.pessimistic.hits_at_3 = 0.012152222577550368\n",
      "Metric: validation.both.pessimistic.hits_at_3 = 0.00799488327470419\n",
      "Metric: validation.head.optimistic.hits_at_5 = 0.006076111288775184\n",
      "Metric: validation.tail.optimistic.hits_at_5 = 0.025903421810041575\n",
      "Metric: validation.both.optimistic.hits_at_5 = 0.01598976654940838\n",
      "Metric: validation.head.realistic.hits_at_5 = 0.005116725295810681\n",
      "Metric: validation.tail.realistic.hits_at_5 = 0.024624240486088904\n",
      "Metric: validation.both.realistic.hits_at_5 = 0.014870482890949792\n",
      "Metric: validation.head.pessimistic.hits_at_5 = 0.005116725295810681\n",
      "Metric: validation.tail.pessimistic.hits_at_5 = 0.024624240486088904\n",
      "Metric: validation.both.pessimistic.hits_at_5 = 0.014870482890949792\n",
      "Metric: validation.head.optimistic.hits_at_10 = 0.009913655260633194\n",
      "Metric: validation.tail.optimistic.hits_at_10 = 0.0335785097537576\n",
      "Metric: validation.both.optimistic.hits_at_10 = 0.021746082507195393\n",
      "Metric: validation.head.realistic.hits_at_10 = 0.009593859929645027\n",
      "Metric: validation.tail.realistic.hits_at_10 = 0.0335785097537576\n",
      "Metric: validation.both.realistic.hits_at_10 = 0.02158618484170131\n",
      "Metric: validation.head.pessimistic.hits_at_10 = 0.009593859929645027\n",
      "Metric: validation.tail.pessimistic.hits_at_10 = 0.0335785097537576\n",
      "Metric: validation.both.pessimistic.hits_at_10 = 0.02158618484170131\n"
     ]
    },
    {
     "data": {
      "application/vnd.jupyter.widget-view+json": {
       "model_id": "",
       "version_major": 2,
       "version_minor": 0
      },
      "text/plain": [
       "Training batches on cuda:0:   0%|          | 0/2 [00:00<?, ?batch/s]"
      ]
     },
     "metadata": {},
     "output_type": "display_data"
    },
    {
     "name": "stdout",
     "output_type": "stream",
     "text": [
      "Step: 27\n",
      "Metric: loss = 2.341808557510376\n",
      "Step: 27\n",
      "Metric: validation.head.optimistic.inverse_harmonic_mean_rank = 0.008007251890542133\n",
      "Metric: validation.tail.optimistic.inverse_harmonic_mean_rank = 0.01615620165659284\n",
      "Metric: validation.both.optimistic.inverse_harmonic_mean_rank = 0.012081726773567487\n",
      "Metric: validation.head.realistic.inverse_harmonic_mean_rank = 0.007371579762548208\n",
      "Metric: validation.tail.realistic.inverse_harmonic_mean_rank = 0.015611389651894571\n",
      "Metric: validation.both.realistic.inverse_harmonic_mean_rank = 0.011491484940052032\n",
      "Metric: validation.head.pessimistic.inverse_harmonic_mean_rank = 0.0070755445437746586\n",
      "Metric: validation.tail.pessimistic.inverse_harmonic_mean_rank = 0.015327733278388518\n",
      "Metric: validation.both.pessimistic.inverse_harmonic_mean_rank = 0.01120163891108159\n",
      "Metric: validation.head.optimistic.hits_at_1 = 0.002878157978893508\n",
      "Metric: validation.tail.optimistic.hits_at_1 = 0.003837543971858011\n",
      "Metric: validation.both.optimistic.hits_at_1 = 0.0033578509753757597\n",
      "Metric: validation.head.realistic.hits_at_1 = 0.002878157978893508\n",
      "Metric: validation.tail.realistic.hits_at_1 = 0.003837543971858011\n",
      "Metric: validation.both.realistic.hits_at_1 = 0.0033578509753757597\n",
      "Metric: validation.head.pessimistic.hits_at_1 = 0.002878157978893508\n",
      "Metric: validation.tail.pessimistic.hits_at_1 = 0.003837543971858011\n",
      "Metric: validation.both.pessimistic.hits_at_1 = 0.0033578509753757597\n",
      "Metric: validation.head.optimistic.hits_at_3 = 0.004477134633834346\n",
      "Metric: validation.tail.optimistic.hits_at_3 = 0.01311160857051487\n",
      "Metric: validation.both.optimistic.hits_at_3 = 0.008794371602174608\n",
      "Metric: validation.head.realistic.hits_at_3 = 0.004157339302846178\n",
      "Metric: validation.tail.realistic.hits_at_3 = 0.012472017908538535\n",
      "Metric: validation.both.realistic.hits_at_3 = 0.008314678605692356\n",
      "Metric: validation.head.pessimistic.hits_at_3 = 0.004157339302846178\n",
      "Metric: validation.tail.pessimistic.hits_at_3 = 0.012472017908538535\n",
      "Metric: validation.both.pessimistic.hits_at_3 = 0.008314678605692356\n",
      "Metric: validation.head.optimistic.hits_at_5 = 0.006715701950751519\n",
      "Metric: validation.tail.optimistic.hits_at_5 = 0.016309561880396548\n",
      "Metric: validation.both.optimistic.hits_at_5 = 0.011512631915574032\n",
      "Metric: validation.head.realistic.hits_at_5 = 0.006715701950751519\n",
      "Metric: validation.tail.realistic.hits_at_5 = 0.01598976654940838\n",
      "Metric: validation.both.realistic.hits_at_5 = 0.01135273425007995\n",
      "Metric: validation.head.pessimistic.hits_at_5 = 0.0063959066197633516\n",
      "Metric: validation.tail.pessimistic.hits_at_5 = 0.01598976654940838\n",
      "Metric: validation.both.pessimistic.hits_at_5 = 0.011192836584585865\n",
      "Metric: validation.head.optimistic.hits_at_10 = 0.009913655260633194\n",
      "Metric: validation.tail.optimistic.hits_at_10 = 0.023984649824112567\n",
      "Metric: validation.both.optimistic.hits_at_10 = 0.01694915254237288\n",
      "Metric: validation.head.realistic.hits_at_10 = 0.009913655260633194\n",
      "Metric: validation.tail.realistic.hits_at_10 = 0.023984649824112567\n",
      "Metric: validation.both.realistic.hits_at_10 = 0.01694915254237288\n",
      "Metric: validation.head.pessimistic.hits_at_10 = 0.009913655260633194\n",
      "Metric: validation.tail.pessimistic.hits_at_10 = 0.0236648544931244\n",
      "Metric: validation.both.pessimistic.hits_at_10 = 0.0167892548768788\n"
     ]
    },
    {
     "data": {
      "application/vnd.jupyter.widget-view+json": {
       "model_id": "",
       "version_major": 2,
       "version_minor": 0
      },
      "text/plain": [
       "Training batches on cuda:0:   0%|          | 0/2 [00:00<?, ?batch/s]"
      ]
     },
     "metadata": {},
     "output_type": "display_data"
    },
    {
     "name": "stdout",
     "output_type": "stream",
     "text": [
      "Step: 28\n",
      "Metric: loss = 2.268432378768921\n",
      "Step: 28\n",
      "Metric: validation.head.optimistic.inverse_harmonic_mean_rank = 0.007938212023203767\n",
      "Metric: validation.tail.optimistic.inverse_harmonic_mean_rank = 0.016110671115757827\n",
      "Metric: validation.both.optimistic.inverse_harmonic_mean_rank = 0.012024441569480794\n",
      "Metric: validation.head.realistic.inverse_harmonic_mean_rank = 0.00724763935431838\n",
      "Metric: validation.tail.realistic.inverse_harmonic_mean_rank = 0.014742343686521055\n",
      "Metric: validation.both.realistic.inverse_harmonic_mean_rank = 0.010994992218911648\n",
      "Metric: validation.head.pessimistic.inverse_harmonic_mean_rank = 0.0069327569105473935\n",
      "Metric: validation.tail.pessimistic.inverse_harmonic_mean_rank = 0.01404620186659381\n",
      "Metric: validation.both.pessimistic.inverse_harmonic_mean_rank = 0.0104894793885706\n",
      "Metric: validation.head.optimistic.hits_at_1 = 0.002878157978893508\n",
      "Metric: validation.tail.optimistic.hits_at_1 = 0.005756315957787016\n",
      "Metric: validation.both.optimistic.hits_at_1 = 0.0043172369683402625\n",
      "Metric: validation.head.realistic.hits_at_1 = 0.002878157978893508\n",
      "Metric: validation.tail.realistic.hits_at_1 = 0.0031979533098816758\n",
      "Metric: validation.both.realistic.hits_at_1 = 0.003038055644387592\n",
      "Metric: validation.head.pessimistic.hits_at_1 = 0.002878157978893508\n",
      "Metric: validation.tail.pessimistic.hits_at_1 = 0.0031979533098816758\n",
      "Metric: validation.both.pessimistic.hits_at_1 = 0.003038055644387592\n",
      "Metric: validation.head.optimistic.hits_at_3 = 0.004477134633834346\n",
      "Metric: validation.tail.optimistic.hits_at_3 = 0.013751199232491206\n",
      "Metric: validation.both.optimistic.hits_at_3 = 0.009114166933162776\n",
      "Metric: validation.head.realistic.hits_at_3 = 0.003837543971858011\n",
      "Metric: validation.tail.realistic.hits_at_3 = 0.012791813239526703\n",
      "Metric: validation.both.realistic.hits_at_3 = 0.008314678605692356\n",
      "Metric: validation.head.pessimistic.hits_at_3 = 0.003837543971858011\n",
      "Metric: validation.tail.pessimistic.hits_at_3 = 0.012791813239526703\n",
      "Metric: validation.both.pessimistic.hits_at_3 = 0.008314678605692356\n",
      "Metric: validation.head.optimistic.hits_at_5 = 0.0063959066197633516\n",
      "Metric: validation.tail.optimistic.hits_at_5 = 0.01694915254237288\n",
      "Metric: validation.both.optimistic.hits_at_5 = 0.011672529581068116\n",
      "Metric: validation.head.realistic.hits_at_5 = 0.005756315957787016\n",
      "Metric: validation.tail.realistic.hits_at_5 = 0.016629357211384713\n",
      "Metric: validation.both.realistic.hits_at_5 = 0.011192836584585865\n",
      "Metric: validation.head.pessimistic.hits_at_5 = 0.005116725295810681\n",
      "Metric: validation.tail.pessimistic.hits_at_5 = 0.016629357211384713\n",
      "Metric: validation.both.pessimistic.hits_at_5 = 0.010873041253597697\n",
      "Metric: validation.head.optimistic.hits_at_10 = 0.009913655260633194\n",
      "Metric: validation.tail.optimistic.hits_at_10 = 0.0236648544931244\n",
      "Metric: validation.both.optimistic.hits_at_10 = 0.0167892548768788\n",
      "Metric: validation.head.realistic.hits_at_10 = 0.009913655260633194\n",
      "Metric: validation.tail.realistic.hits_at_10 = 0.0236648544931244\n",
      "Metric: validation.both.realistic.hits_at_10 = 0.0167892548768788\n",
      "Metric: validation.head.pessimistic.hits_at_10 = 0.009913655260633194\n",
      "Metric: validation.tail.pessimistic.hits_at_10 = 0.0236648544931244\n",
      "Metric: validation.both.pessimistic.hits_at_10 = 0.0167892548768788\n"
     ]
    },
    {
     "data": {
      "application/vnd.jupyter.widget-view+json": {
       "model_id": "",
       "version_major": 2,
       "version_minor": 0
      },
      "text/plain": [
       "Training batches on cuda:0:   0%|          | 0/2 [00:00<?, ?batch/s]"
      ]
     },
     "metadata": {},
     "output_type": "display_data"
    },
    {
     "name": "stdout",
     "output_type": "stream",
     "text": [
      "Step: 29\n",
      "Metric: loss = 2.18854558467865\n",
      "Step: 29\n",
      "Metric: validation.head.optimistic.inverse_harmonic_mean_rank = 0.007952018229286768\n",
      "Metric: validation.tail.optimistic.inverse_harmonic_mean_rank = 0.015590580236486174\n",
      "Metric: validation.both.optimistic.inverse_harmonic_mean_rank = 0.011771299232886475\n",
      "Metric: validation.head.realistic.inverse_harmonic_mean_rank = 0.007207181770354509\n",
      "Metric: validation.tail.realistic.inverse_harmonic_mean_rank = 0.015097525902092457\n",
      "Metric: validation.both.realistic.inverse_harmonic_mean_rank = 0.011152353137731552\n",
      "Metric: validation.head.pessimistic.inverse_harmonic_mean_rank = 0.006854535762471723\n",
      "Metric: validation.tail.pessimistic.inverse_harmonic_mean_rank = 0.014848099814061079\n",
      "Metric: validation.both.pessimistic.inverse_harmonic_mean_rank = 0.010851317788266401\n",
      "Metric: validation.head.optimistic.hits_at_1 = 0.0031979533098816758\n",
      "Metric: validation.tail.optimistic.hits_at_1 = 0.005116725295810681\n",
      "Metric: validation.both.optimistic.hits_at_1 = 0.004157339302846178\n",
      "Metric: validation.head.realistic.hits_at_1 = 0.002878157978893508\n",
      "Metric: validation.tail.realistic.hits_at_1 = 0.005116725295810681\n",
      "Metric: validation.both.realistic.hits_at_1 = 0.003997441637352095\n",
      "Metric: validation.head.pessimistic.hits_at_1 = 0.002878157978893508\n",
      "Metric: validation.tail.pessimistic.hits_at_1 = 0.005116725295810681\n",
      "Metric: validation.both.pessimistic.hits_at_1 = 0.003997441637352095\n",
      "Metric: validation.head.optimistic.hits_at_3 = 0.004157339302846178\n",
      "Metric: validation.tail.optimistic.hits_at_3 = 0.012472017908538535\n",
      "Metric: validation.both.optimistic.hits_at_3 = 0.008314678605692356\n",
      "Metric: validation.head.realistic.hits_at_3 = 0.003517748640869843\n",
      "Metric: validation.tail.realistic.hits_at_3 = 0.012472017908538535\n",
      "Metric: validation.both.realistic.hits_at_3 = 0.00799488327470419\n",
      "Metric: validation.head.pessimistic.hits_at_3 = 0.003517748640869843\n",
      "Metric: validation.tail.pessimistic.hits_at_3 = 0.012472017908538535\n",
      "Metric: validation.both.pessimistic.hits_at_3 = 0.00799488327470419\n",
      "Metric: validation.head.optimistic.hits_at_5 = 0.005436520626798848\n",
      "Metric: validation.tail.optimistic.hits_at_5 = 0.01694915254237288\n",
      "Metric: validation.both.optimistic.hits_at_5 = 0.011192836584585865\n",
      "Metric: validation.head.realistic.hits_at_5 = 0.005116725295810681\n",
      "Metric: validation.tail.realistic.hits_at_5 = 0.016629357211384713\n",
      "Metric: validation.both.realistic.hits_at_5 = 0.010873041253597697\n",
      "Metric: validation.head.pessimistic.hits_at_5 = 0.005116725295810681\n",
      "Metric: validation.tail.pessimistic.hits_at_5 = 0.016629357211384713\n",
      "Metric: validation.both.pessimistic.hits_at_5 = 0.010873041253597697\n",
      "Metric: validation.head.optimistic.hits_at_10 = 0.009913655260633194\n",
      "Metric: validation.tail.optimistic.hits_at_10 = 0.024304445155100735\n",
      "Metric: validation.both.optimistic.hits_at_10 = 0.017109050207866964\n",
      "Metric: validation.head.realistic.hits_at_10 = 0.009593859929645027\n",
      "Metric: validation.tail.realistic.hits_at_10 = 0.0236648544931244\n",
      "Metric: validation.both.realistic.hits_at_10 = 0.016629357211384713\n",
      "Metric: validation.head.pessimistic.hits_at_10 = 0.009593859929645027\n",
      "Metric: validation.tail.pessimistic.hits_at_10 = 0.023345059162136233\n",
      "Metric: validation.both.pessimistic.hits_at_10 = 0.01646945954589063\n"
     ]
    }
   ],
   "source": [
    "training_start = time.time()\n",
    "train_epoch =  training_loop.train(\n",
    "        triples_factory=dataset.transductive_training,\n",
    "        num_epochs=num_epochs,\n",
    "        stopper = stopper\n",
    "        \n",
    "    )\n",
    "training_duration = time.time() - training_start"
   ]
  },
  {
   "cell_type": "code",
   "execution_count": 15,
   "metadata": {},
   "outputs": [],
   "source": [
    "torch.save(model,f\"{model_name}/model.pth\")\n",
    "model = torch.load(f\"{model_name}/model.pth\")"
   ]
  },
  {
   "cell_type": "code",
   "execution_count": 16,
   "metadata": {},
   "outputs": [
    {
     "name": "stdout",
     "output_type": "stream",
     "text": [
      "Train error per epoch:\n",
      "           0\n",
      "0   6.905939\n",
      "1   6.683732\n",
      "2   6.496100\n",
      "3   6.282094\n",
      "4   6.070717\n",
      "5   5.847056\n",
      "6   5.642332\n",
      "7   5.408726\n",
      "8   5.214818\n",
      "9   5.007322\n",
      "10  4.780346\n",
      "11  4.585206\n",
      "12  4.391015\n",
      "13  4.179098\n",
      "14  4.003134\n",
      "15  3.796273\n",
      "16  3.629630\n",
      "17  3.465006\n",
      "18  3.293668\n",
      "19  3.161256\n",
      "20  3.026609\n",
      "21  2.905393\n",
      "22  2.776942\n",
      "23  2.664813\n",
      "24  2.552901\n",
      "25  2.446806\n",
      "26  2.341809\n",
      "27  2.268432\n",
      "28  2.188546\n"
     ]
    }
   ],
   "source": [
    "print(\"Train error per epoch:\")\n",
    "df = pd.DataFrame(train_epoch)\n",
    "print(df)\n",
    "df.to_csv(f\"{model_name}/{model_name}_train_error_per_epoch.csv\")"
   ]
  },
  {
   "cell_type": "code",
   "execution_count": 17,
   "metadata": {},
   "outputs": [
    {
     "name": "stdout",
     "output_type": "stream",
     "text": [
      "Train error\n"
     ]
    },
    {
     "data": {
      "application/vnd.jupyter.widget-view+json": {
       "model_id": "e9960909791d42c4993493dad1c8d03e",
       "version_major": 2,
       "version_minor": 0
      },
      "text/plain": [
       "Evaluating on cuda:0:   0%|          | 0.00/23.5k [00:00<?, ?triple/s]"
      ]
     },
     "metadata": {},
     "output_type": "display_data"
    },
    {
     "name": "stdout",
     "output_type": "stream",
     "text": [
      "head\n",
      "                            optimistic  realistic  pessimistic\n",
      "inverse_harmonic_mean_rank    0.006286   0.004175     0.003709\n",
      "hits_at_1                     0.003578   0.001831     0.001831\n",
      "hits_at_3                     0.006346   0.003833     0.003152\n",
      "hits_at_5                     0.007028   0.004600     0.004217\n",
      "hits_at_10                    0.008007   0.006857     0.005239\n",
      "tail\n",
      "                            optimistic  realistic  pessimistic\n",
      "inverse_harmonic_mean_rank    0.008027   0.005668     0.004750\n",
      "hits_at_1                     0.000128   0.000085     0.000085\n",
      "hits_at_3                     0.000809   0.000596     0.000554\n",
      "hits_at_5                     0.005878   0.002300     0.002300\n",
      "hits_at_10                    0.010989   0.008007     0.007453\n",
      "both\n",
      "                            optimistic  realistic  pessimistic\n",
      "inverse_harmonic_mean_rank    0.007156   0.004921     0.004230\n",
      "hits_at_1                     0.001853   0.000958     0.000958\n",
      "hits_at_3                     0.003578   0.002215     0.001853\n",
      "hits_at_5                     0.006453   0.003450     0.003258\n",
      "hits_at_10                    0.009498   0.007432     0.006346\n"
     ]
    }
   ],
   "source": [
    "training_evaluation_start = time.time()\n",
    "# train\n",
    "print(\"Train error\")\n",
    "show_metrics(train_evaluator.evaluate(\n",
    "        model=model,\n",
    "        mapped_triples=dataset.transductive_training.mapped_triples,\n",
    "        additional_filter_triples=[\n",
    "        dataset.transductive_training.mapped_triples,\n",
    "    ]\n",
    "    ).to_dict(),model_name,'train_metrics')\n",
    "training_evaluation_duration = time.time() - training_evaluation_start"
   ]
  },
  {
   "cell_type": "code",
   "execution_count": 18,
   "metadata": {},
   "outputs": [
    {
     "name": "stdout",
     "output_type": "stream",
     "text": [
      "Validation error\n"
     ]
    },
    {
     "data": {
      "application/vnd.jupyter.widget-view+json": {
       "model_id": "053cbb59ab384eb7b9dbfe7187fd55e3",
       "version_major": 2,
       "version_minor": 0
      },
      "text/plain": [
       "Evaluating on cuda:0:   0%|          | 0.00/3.13k [00:00<?, ?triple/s]"
      ]
     },
     "metadata": {},
     "output_type": "display_data"
    },
    {
     "name": "stdout",
     "output_type": "stream",
     "text": [
      "head\n",
      "                            optimistic  realistic  pessimistic\n",
      "inverse_harmonic_mean_rank    0.006119   0.005316     0.005013\n",
      "hits_at_1                     0.001919   0.001919     0.001919\n",
      "hits_at_3                     0.004157   0.004157     0.004157\n",
      "hits_at_5                     0.007035   0.005117     0.005117\n",
      "hits_at_10                    0.008954   0.007675     0.006396\n",
      "tail\n",
      "                            optimistic  realistic  pessimistic\n",
      "inverse_harmonic_mean_rank    0.026939   0.024863     0.023822\n",
      "hits_at_1                     0.005437   0.005437     0.005437\n",
      "hits_at_3                     0.020787   0.018228     0.017909\n",
      "hits_at_5                     0.025903   0.025264     0.024944\n",
      "hits_at_10                    0.073873   0.032939     0.032939\n",
      "both\n",
      "                            optimistic  realistic  pessimistic\n",
      "inverse_harmonic_mean_rank    0.016529   0.015089     0.014417\n",
      "hits_at_1                     0.003678   0.003678     0.003678\n",
      "hits_at_3                     0.012472   0.011193     0.011033\n",
      "hits_at_5                     0.016469   0.015190     0.015030\n",
      "hits_at_10                    0.041413   0.020307     0.019667\n"
     ]
    }
   ],
   "source": [
    "validation_evaluation_start = time.time()\n",
    "# validation\n",
    "print(\"Validation error\")\n",
    "show_metrics(valid_evaluator.evaluate(\n",
    "        model=model,\n",
    "        mapped_triples=dataset.inductive_validation.mapped_triples,\n",
    "        additional_filter_triples=[\n",
    "            # filtering of other positive triples\n",
    "            dataset.inductive_validation.mapped_triples\n",
    "        ],\n",
    "    ).to_dict(),model_name,'validation_metrics')\n",
    "validation_evaluation_duration = time.time() - validation_evaluation_start"
   ]
  },
  {
   "cell_type": "code",
   "execution_count": 19,
   "metadata": {},
   "outputs": [
    {
     "name": "stdout",
     "output_type": "stream",
     "text": [
      "Test error\n"
     ]
    },
    {
     "data": {
      "application/vnd.jupyter.widget-view+json": {
       "model_id": "265d75f54d9e4ef6af72930911bd3f8a",
       "version_major": 2,
       "version_minor": 0
      },
      "text/plain": [
       "Evaluating on cuda:0:   0%|          | 0.00/3.98k [00:00<?, ?triple/s]"
      ]
     },
     "metadata": {},
     "output_type": "display_data"
    },
    {
     "name": "stdout",
     "output_type": "stream",
     "text": [
      "head\n",
      "                            optimistic  realistic  pessimistic\n",
      "inverse_harmonic_mean_rank    0.007763   0.007098     0.006837\n",
      "hits_at_1                     0.003769   0.003769     0.003769\n",
      "hits_at_3                     0.006030   0.005779     0.005779\n",
      "hits_at_5                     0.007789   0.006533     0.006281\n",
      "hits_at_10                    0.008794   0.008291     0.008291\n",
      "tail\n",
      "                            optimistic  realistic  pessimistic\n",
      "inverse_harmonic_mean_rank    0.023096   0.021037     0.020078\n",
      "hits_at_1                     0.004271   0.004271     0.004271\n",
      "hits_at_3                     0.015578   0.014070     0.013819\n",
      "hits_at_5                     0.022613   0.019849     0.019598\n",
      "hits_at_10                    0.066332   0.027136     0.027136\n",
      "both\n",
      "                            optimistic  realistic  pessimistic\n",
      "inverse_harmonic_mean_rank    0.015429   0.014067     0.013457\n",
      "hits_at_1                     0.004020   0.004020     0.004020\n",
      "hits_at_3                     0.010804   0.009925     0.009799\n",
      "hits_at_5                     0.015201   0.013191     0.012940\n",
      "hits_at_10                    0.037563   0.017714     0.017714\n"
     ]
    }
   ],
   "source": [
    "testing_evaluation_start = time.time()\n",
    "# result on the test set\n",
    "print(\"Test error\")\n",
    "show_metrics(test_evaluator.evaluate(\n",
    "        model=model,\n",
    "        mapped_triples=dataset.inductive_testing.mapped_triples,\n",
    "        additional_filter_triples=[\n",
    "            # filtering of other positive triples\n",
    "            dataset.inductive_validation.mapped_triples,\n",
    "        ],\n",
    "    ).to_dict(),model_name,'test_metrics')\n",
    "testing_evaluation_duration = time.time() - testing_evaluation_start"
   ]
  },
  {
   "cell_type": "code",
   "execution_count": 20,
   "metadata": {},
   "outputs": [],
   "source": [
    "infodict = {}\n",
    "infodict['device'] = model.device\n",
    "infodict['parameters bytes'] = model.num_parameter_bytes\n",
    "infodict['number parameters'] = model.num_parameters\n",
    "infodict['training duration'] = training_duration\n",
    "infodict['training evaluation duration'] = training_evaluation_duration\n",
    "infodict['validation evaluation duration'] = validation_evaluation_duration\n",
    "infodict['testing evaluation duration'] = testing_evaluation_duration\n",
    "infodict[\"Operating system name\"] = platform.system()\n",
    "infodict[\"Operating system version\"] = platform.release()\n",
    "infodict[\"Processor architecture\"] = platform.machine()\n",
    "infodict[\"Python version\"] = sys.version\n",
    "infodict[\"Processor model name\"] = cpuinfo.get_cpu_info()['brand_raw']\n",
    "infodict['Number cpu cores'] = os.cpu_count()\n",
    "infodict[\"Total physical memory\"] = psutil.virtual_memory().total"
   ]
  },
  {
   "cell_type": "code",
   "execution_count": 21,
   "metadata": {},
   "outputs": [],
   "source": [
    "\n",
    "output = subprocess.check_output(['nvidia-smi', '--query-gpu=name', '--format=csv'])\n",
    "output = output.decode('utf-8')  # convert byte string to regular string\n",
    "\n",
    "# split output into rows and remove header row\n",
    "rows = output.strip().split('\\n')[1:]\n",
    "\n",
    "# extract GPU names from each row\n",
    "gpu_names = []\n",
    "for row in rows:\n",
    "    name = row.strip()\n",
    "    gpu_names.append(name)\n",
    "\n",
    "infodict['GPU'] = gpu_names[0]\n"
   ]
  },
  {
   "cell_type": "code",
   "execution_count": 22,
   "metadata": {},
   "outputs": [],
   "source": [
    "infodict['loss'] = NSSALoss\n",
    "infodict['num_tokens'] = num_tokens\n",
    "infodict['embedding_dim'] = embedding_dim\n",
    "infodict['learning_rate'] = learning_rate\n",
    "infodict['optimizer'] = Adam\n",
    "infodict['num_epochs'] = num_epochs\n",
    "infodict['patience'] = patience"
   ]
  },
  {
   "cell_type": "code",
   "execution_count": 23,
   "metadata": {},
   "outputs": [
    {
     "name": "stdout",
     "output_type": "stream",
     "text": [
      "                              name  \\\n",
      "0                           device   \n",
      "1                 parameters bytes   \n",
      "2                number parameters   \n",
      "3                training duration   \n",
      "4     training evaluation duration   \n",
      "5   validation evaluation duration   \n",
      "6      testing evaluation duration   \n",
      "7            Operating system name   \n",
      "8         Operating system version   \n",
      "9           Processor architecture   \n",
      "10                  Python version   \n",
      "11            Processor model name   \n",
      "12                Number cpu cores   \n",
      "13           Total physical memory   \n",
      "14                             GPU   \n",
      "15                            loss   \n",
      "16                      num_tokens   \n",
      "17                   embedding_dim   \n",
      "18                   learning_rate   \n",
      "19                       optimizer   \n",
      "20                      num_epochs   \n",
      "21                        patience   \n",
      "\n",
      "                                                value  \n",
      "0                                              cuda:0  \n",
      "1                                               10400  \n",
      "2                                                2600  \n",
      "3                                           27.223185  \n",
      "4                                            9.132776  \n",
      "5                                            2.887875  \n",
      "6                                            2.862115  \n",
      "7                                               Linux  \n",
      "8                         3.10.0-1160.88.1.el7.x86_64  \n",
      "9                                              x86_64  \n",
      "10  3.10.9 (main, Mar  8 2023, 10:47:38) [GCC 11.2.0]  \n",
      "11           Intel(R) Xeon(R) Gold 6130 CPU @ 2.10GHz  \n",
      "12                                                 32  \n",
      "13                                        99980713984  \n",
      "14                                           Tesla T4  \n",
      "15                   <class 'pykeen.losses.NSSALoss'>  \n",
      "16                                                 20  \n",
      "17                                                200  \n",
      "18                                              0.001  \n",
      "19                    <class 'torch.optim.adam.Adam'>  \n",
      "20                                               2000  \n",
      "21                                                 20  \n"
     ]
    }
   ],
   "source": [
    "info_df = pd.DataFrame(columns=['name','value'], data = infodict.items())\n",
    "info_df.to_csv(f\"{model_name}/{model_name}_information.csv\")\n",
    "print(info_df)"
   ]
  },
  {
   "cell_type": "code",
   "execution_count": 24,
   "metadata": {},
   "outputs": [],
   "source": [
    "def zip_folder(folder_path, output_path):\n",
    "    with zipfile.ZipFile(output_path, 'w', zipfile.ZIP_DEFLATED) as zipf:\n",
    "        for root, dirs, files in os.walk(folder_path):\n",
    "            for file in files:\n",
    "                zipf.write(os.path.join(root, file))\n",
    "\n",
    "folder_path = model_name\n",
    "output_path = f'{model_name}.zip'\n",
    "\n",
    "zip_folder(folder_path, output_path)"
   ]
  },
  {
   "cell_type": "code",
   "execution_count": null,
   "metadata": {},
   "outputs": [],
   "source": []
  }
 ],
 "metadata": {
  "kernelspec": {
   "display_name": "thesis",
   "language": "python",
   "name": "thesis"
  },
  "language_info": {
   "codemirror_mode": {
    "name": "ipython",
    "version": 3
   },
   "file_extension": ".py",
   "mimetype": "text/x-python",
   "name": "python",
   "nbconvert_exporter": "python",
   "pygments_lexer": "ipython3",
   "version": "3.10.9"
  }
 },
 "nbformat": 4,
 "nbformat_minor": 5
}
