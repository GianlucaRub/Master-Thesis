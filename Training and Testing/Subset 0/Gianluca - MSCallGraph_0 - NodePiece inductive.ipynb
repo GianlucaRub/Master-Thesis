{
 "cells": [
  {
   "cell_type": "code",
   "execution_count": 1,
   "metadata": {},
   "outputs": [],
   "source": [
    "from pykeen.pipeline import pipeline\n",
    "from pykeen.datasets import Nations, get_dataset\n",
    "import torch\n",
    "from pykeen.evaluation import evaluate, RankBasedEvaluator\n",
    "from pykeen.metrics.ranking import HitsAtK\n",
    "import pandas as pd\n",
    "\n",
    "\n",
    "import logging\n",
    "from pathlib import Path\n",
    "\n",
    "import click\n",
    "import more_click\n",
    "import torch\n",
    "from pykeen.evaluation import RankBasedEvaluator\n",
    "from pykeen.losses import NSSALoss,CrossEntropyLoss\n",
    "from pykeen.models.inductive import InductiveNodePiece, InductiveNodePieceGNN\n",
    "from pykeen.trackers import ConsoleResultTracker, WANDBResultTracker, FileResultTracker\n",
    "from pykeen.training import SLCWATrainingLoop\n",
    "from pykeen.typing import TESTING, TRAINING, VALIDATION\n",
    "from pykeen.utils import resolve_device, set_random_seed\n",
    "from torch.optim import Adam\n",
    "\n",
    "\n",
    "from pykeen.metrics.ranking import HitsAtK\n",
    "\n",
    "from pathlib import Path\n",
    "\n",
    "from pykeen.datasets.inductive.base import DisjointInductivePathDataset\n",
    "from typing_extensions import Literal\n",
    "import os\n",
    "from pykeen.hpo import hpo_pipeline\n",
    "from pykeen.triples import TriplesFactory\n",
    "from pykeen.models import InductiveNodePiece\n",
    "from pykeen.typing import TESTING, TRAINING, VALIDATION\n",
    "\n",
    "import time\n",
    "\n",
    "import platform\n",
    "\n",
    "import sys\n",
    "\n",
    "import cpuinfo\n",
    "\n",
    "import psutil\n",
    "\n",
    "import subprocess\n",
    "\n",
    "import zipfile\n",
    "\n",
    "seed = 1234"
   ]
  },
  {
   "cell_type": "code",
   "execution_count": 2,
   "metadata": {},
   "outputs": [],
   "source": [
    "class InductiveLPDataset(DisjointInductivePathDataset):\n",
    "    \"\"\"An inductive link prediction dataset for the ILPC 2022 Challenge.\"\"\"\n",
    "\n",
    "    \n",
    "    \n",
    "    \n",
    "    def __init__(self , **kwargs):\n",
    "        \"\"\"Initialize the inductive link prediction dataset.\n",
    "\n",
    "        :param size: \"small\" or \"large\"\n",
    "        :param kwargs: keyword arguments to forward to the base dataset class, cf. DisjointInductivePathDataset\n",
    "        \"\"\"\n",
    "        DATA_TYPE = \"_fully_inductive.tsv\"\n",
    "        TRAIN_PATH = \"MSCallGraph_0_train\" + DATA_TYPE\n",
    "        TEST_PATH = \"MSCallGraph_0_test\" + DATA_TYPE\n",
    "        VALIDATE_PATH = \"MSCallGraph_0_validation\" + DATA_TYPE\n",
    "        INFERENCE_PATH = \"MSCallGraph_0_inference\" + DATA_TYPE\n",
    "\n",
    "\n",
    "        super().__init__(\n",
    "            transductive_training_path=os.getcwd()+\"/\"+TRAIN_PATH,\n",
    "            inductive_inference_path=os.getcwd()+\"/\"+INFERENCE_PATH,\n",
    "            inductive_validation_path=os.getcwd()+\"/\"+VALIDATE_PATH,\n",
    "            inductive_testing_path=os.getcwd()+\"/\"+TEST_PATH,\n",
    "            create_inverse_triples=True,\n",
    "            eager=True,\n",
    "            **kwargs\n",
    "        )\n"
   ]
  },
  {
   "cell_type": "code",
   "execution_count": 3,
   "metadata": {},
   "outputs": [],
   "source": [
    "def show_metrics(dictionary,model_name,csv_name):\n",
    "    for key in dictionary.keys():\n",
    "        print(key)\n",
    "        df = pd.DataFrame(dictionary[key])\n",
    "        df.to_csv(f\"{model_name}/{model_name}_{csv_name}_{key}.csv\")\n",
    "        print(df)"
   ]
  },
  {
   "cell_type": "code",
   "execution_count": 4,
   "metadata": {},
   "outputs": [],
   "source": [
    "dataset = InductiveLPDataset()"
   ]
  },
  {
   "cell_type": "code",
   "execution_count": 5,
   "metadata": {},
   "outputs": [],
   "source": [
    "model_name = 'nodepiece_0_inductive'"
   ]
  },
  {
   "cell_type": "code",
   "execution_count": 6,
   "metadata": {},
   "outputs": [],
   "source": [
    "tracker = ConsoleResultTracker()"
   ]
  },
  {
   "cell_type": "code",
   "execution_count": 7,
   "metadata": {},
   "outputs": [],
   "source": [
    "loss = NSSALoss() #used by RotatE and NodePiece\n",
    "num_tokens = 20\n",
    "embedding_dim = 200"
   ]
  },
  {
   "cell_type": "code",
   "execution_count": 8,
   "metadata": {},
   "outputs": [
    {
     "data": {
      "application/vnd.jupyter.widget-view+json": {
       "model_id": "",
       "version_major": 2,
       "version_minor": 0
      },
      "text/plain": [
       "sampling:   0%|          | 0.00/3.83k [00:00<?, ?it/s]"
      ]
     },
     "metadata": {},
     "output_type": "display_data"
    },
    {
     "name": "stderr",
     "output_type": "stream",
     "text": [
      "No symbolic computation of output shape.\n"
     ]
    },
    {
     "data": {
      "application/vnd.jupyter.widget-view+json": {
       "model_id": "",
       "version_major": 2,
       "version_minor": 0
      },
      "text/plain": [
       "sampling:   0%|          | 0.00/1.30k [00:00<?, ?it/s]"
      ]
     },
     "metadata": {},
     "output_type": "display_data"
    },
    {
     "name": "stderr",
     "output_type": "stream",
     "text": [
      "No symbolic computation of output shape.\n"
     ]
    },
    {
     "name": "stdout",
     "output_type": "stream",
     "text": [
      "Number of parameters: 2600\n",
      "Space occupied: 10400 bytes\n"
     ]
    }
   ],
   "source": [
    "model = InductiveNodePiece(\n",
    "        triples_factory=dataset.transductive_training,\n",
    "        inference_factory=dataset.inductive_inference,\n",
    "        random_seed = seed,\n",
    "        loss = loss,\n",
    "        num_tokens = num_tokens,\n",
    "        embedding_dim = embedding_dim\n",
    "    ).to(resolve_device())\n",
    "print(f\"Number of parameters: {sum(p.numel() for p in model.parameters())}\")\n",
    "print(f\"Space occupied: {model.num_parameter_bytes} bytes\")"
   ]
  },
  {
   "cell_type": "code",
   "execution_count": 9,
   "metadata": {},
   "outputs": [
    {
     "name": "stdout",
     "output_type": "stream",
     "text": [
      "Directory nodepiece_0_inductive created successfully!\n"
     ]
    }
   ],
   "source": [
    "directory = model_name\n",
    "\n",
    "if not os.path.exists(directory):\n",
    "    os.makedirs(directory)\n",
    "    print(f'Directory {directory} created successfully!')\n",
    "else:\n",
    "    print(f'Directory {directory} already exists.')"
   ]
  },
  {
   "cell_type": "code",
   "execution_count": 10,
   "metadata": {},
   "outputs": [],
   "source": [
    "learning_rate = 1e-3\n",
    "optimizer = Adam(params=model.parameters(), lr=learning_rate)\n",
    "num_epochs = 2000\n",
    "patience = 20"
   ]
  },
  {
   "cell_type": "code",
   "execution_count": 11,
   "metadata": {},
   "outputs": [],
   "source": [
    "metrics = ['meanreciprocalrank', HitsAtK(1),\n",
    "                 HitsAtK(3), HitsAtK(5), HitsAtK(10)]\n",
    "\n",
    "train_evaluator = RankBasedEvaluator(\n",
    "        mode=TRAINING,\n",
    "        metrics=metrics,\n",
    "        add_defaults=False,\n",
    "    )\n",
    "valid_evaluator = RankBasedEvaluator(\n",
    "        mode=VALIDATION,\n",
    "        metrics=metrics,\n",
    "        add_defaults=False,\n",
    "    )\n",
    "test_evaluator = RankBasedEvaluator(\n",
    "        mode=TESTING,\n",
    "        metrics = metrics,\n",
    "        add_defaults=False\n",
    "    )"
   ]
  },
  {
   "cell_type": "code",
   "execution_count": 12,
   "metadata": {},
   "outputs": [],
   "source": [
    "from pykeen.stoppers import EarlyStopper\n",
    "\n",
    "stopper = EarlyStopper(\n",
    "    model = model,\n",
    "    metric='meanreciprocalrank',\n",
    "    patience=patience,\n",
    "    frequency=1,\n",
    "    evaluator = valid_evaluator,\n",
    "    training_triples_factory = dataset.inductive_inference,\n",
    "    evaluation_triples_factory = dataset.inductive_validation,\n",
    "    result_tracker = tracker\n",
    "\n",
    ")\n",
    "\n"
   ]
  },
  {
   "cell_type": "code",
   "execution_count": 13,
   "metadata": {},
   "outputs": [],
   "source": [
    "# default training regime is negative sampling (SLCWA)\n",
    "# you can also use the 1-N regime with the LCWATrainingLoop\n",
    "# the LCWA loop does not need negative sampling kwargs, but accepts label_smoothing in the .train() method\n",
    "training_loop = SLCWATrainingLoop(\n",
    "        triples_factory=dataset.transductive_training,\n",
    "        model=model,\n",
    "        mode=TRAINING,  # must be specified for the inductive setup\n",
    "        result_tracker=tracker,\n",
    "        optimizer=optimizer\n",
    ")"
   ]
  },
  {
   "cell_type": "code",
   "execution_count": 14,
   "metadata": {},
   "outputs": [
    {
     "data": {
      "application/vnd.jupyter.widget-view+json": {
       "model_id": "5104814d0ad64dbf94e22139dc9a8d17",
       "version_major": 2,
       "version_minor": 0
      },
      "text/plain": [
       "Training epochs on cuda:0:   0%|          | 0/2000 [00:00<?, ?epoch/s]"
      ]
     },
     "metadata": {},
     "output_type": "display_data"
    },
    {
     "data": {
      "application/vnd.jupyter.widget-view+json": {
       "model_id": "",
       "version_major": 2,
       "version_minor": 0
      },
      "text/plain": [
       "Training batches on cuda:0:   0%|          | 0/1 [00:00<?, ?batch/s]"
      ]
     },
     "metadata": {},
     "output_type": "display_data"
    },
    {
     "name": "stdout",
     "output_type": "stream",
     "text": [
      "Step: 1\n",
      "Metric: loss = 12.901205062866211\n",
      "Step: 1\n",
      "Metric: validation.head.optimistic.inverse_harmonic_mean_rank = 0.5896898456255687\n",
      "Metric: validation.tail.optimistic.inverse_harmonic_mean_rank = 0.015428139623942901\n",
      "Metric: validation.both.optimistic.inverse_harmonic_mean_rank = 0.3025589926247558\n",
      "Metric: validation.head.realistic.inverse_harmonic_mean_rank = 0.006515270099043846\n",
      "Metric: validation.tail.realistic.inverse_harmonic_mean_rank = 0.01326643954962492\n",
      "Metric: validation.both.realistic.inverse_harmonic_mean_rank = 0.009890854358673096\n",
      "Metric: validation.head.pessimistic.inverse_harmonic_mean_rank = 0.00374044890460881\n",
      "Metric: validation.tail.pessimistic.inverse_harmonic_mean_rank = 0.012272027742143152\n",
      "Metric: validation.both.pessimistic.inverse_harmonic_mean_rank = 0.008006238323375981\n",
      "Metric: validation.head.optimistic.hits_at_1 = 0.5865921787709497\n",
      "Metric: validation.tail.optimistic.hits_at_1 = 0.0\n",
      "Metric: validation.both.optimistic.hits_at_1 = 0.29329608938547486\n",
      "Metric: validation.head.realistic.hits_at_1 = 0.0\n",
      "Metric: validation.tail.realistic.hits_at_1 = 0.0\n",
      "Metric: validation.both.realistic.hits_at_1 = 0.0\n",
      "Metric: validation.head.pessimistic.hits_at_1 = 0.0\n",
      "Metric: validation.tail.pessimistic.hits_at_1 = 0.0\n",
      "Metric: validation.both.pessimistic.hits_at_1 = 0.0\n",
      "Metric: validation.head.optimistic.hits_at_3 = 0.5865921787709497\n",
      "Metric: validation.tail.optimistic.hits_at_3 = 0.0223463687150838\n",
      "Metric: validation.both.optimistic.hits_at_3 = 0.30446927374301674\n",
      "Metric: validation.head.realistic.hits_at_3 = 0.0\n",
      "Metric: validation.tail.realistic.hits_at_3 = 0.01452513966480447\n",
      "Metric: validation.both.realistic.hits_at_3 = 0.007262569832402235\n",
      "Metric: validation.head.pessimistic.hits_at_3 = 0.0\n",
      "Metric: validation.tail.pessimistic.hits_at_3 = 0.008938547486033519\n",
      "Metric: validation.both.pessimistic.hits_at_3 = 0.004469273743016759\n",
      "Metric: validation.head.optimistic.hits_at_5 = 0.5865921787709497\n",
      "Metric: validation.tail.optimistic.hits_at_5 = 0.024581005586592177\n",
      "Metric: validation.both.optimistic.hits_at_5 = 0.30558659217877093\n",
      "Metric: validation.head.realistic.hits_at_5 = 0.0\n",
      "Metric: validation.tail.realistic.hits_at_5 = 0.024581005586592177\n",
      "Metric: validation.both.realistic.hits_at_5 = 0.012290502793296089\n",
      "Metric: validation.head.pessimistic.hits_at_5 = 0.0\n",
      "Metric: validation.tail.pessimistic.hits_at_5 = 0.01675977653631285\n",
      "Metric: validation.both.pessimistic.hits_at_5 = 0.008379888268156424\n",
      "Metric: validation.head.optimistic.hits_at_10 = 0.5865921787709497\n",
      "Metric: validation.tail.optimistic.hits_at_10 = 0.02905027932960894\n",
      "Metric: validation.both.optimistic.hits_at_10 = 0.3078212290502793\n",
      "Metric: validation.head.realistic.hits_at_10 = 0.00782122905027933\n",
      "Metric: validation.tail.realistic.hits_at_10 = 0.02905027932960894\n",
      "Metric: validation.both.realistic.hits_at_10 = 0.018435754189944135\n",
      "Metric: validation.head.pessimistic.hits_at_10 = 0.0\n",
      "Metric: validation.tail.pessimistic.hits_at_10 = 0.02905027932960894\n",
      "Metric: validation.both.pessimistic.hits_at_10 = 0.01452513966480447\n"
     ]
    },
    {
     "data": {
      "application/vnd.jupyter.widget-view+json": {
       "model_id": "",
       "version_major": 2,
       "version_minor": 0
      },
      "text/plain": [
       "Training batches on cuda:0:   0%|          | 0/1 [00:00<?, ?batch/s]"
      ]
     },
     "metadata": {},
     "output_type": "display_data"
    },
    {
     "name": "stdout",
     "output_type": "stream",
     "text": [
      "Step: 2\n",
      "Metric: loss = 12.735873222351074\n",
      "Step: 2\n",
      "Metric: validation.head.optimistic.inverse_harmonic_mean_rank = 0.5886404832690219\n",
      "Metric: validation.tail.optimistic.inverse_harmonic_mean_rank = 0.013009073003718704\n",
      "Metric: validation.both.optimistic.inverse_harmonic_mean_rank = 0.3008247781363702\n",
      "Metric: validation.head.realistic.inverse_harmonic_mean_rank = 0.006515019107609987\n",
      "Metric: validation.tail.realistic.inverse_harmonic_mean_rank = 0.012610717676579952\n",
      "Metric: validation.both.realistic.inverse_harmonic_mean_rank = 0.009562868624925613\n",
      "Metric: validation.head.pessimistic.inverse_harmonic_mean_rank = 0.0037419778410842136\n",
      "Metric: validation.tail.pessimistic.inverse_harmonic_mean_rank = 0.012297007923482577\n",
      "Metric: validation.both.pessimistic.inverse_harmonic_mean_rank = 0.008019492882283397\n",
      "Metric: validation.head.optimistic.hits_at_1 = 0.5854748603351956\n",
      "Metric: validation.tail.optimistic.hits_at_1 = 0.0\n",
      "Metric: validation.both.optimistic.hits_at_1 = 0.2927374301675978\n",
      "Metric: validation.head.realistic.hits_at_1 = 0.0\n",
      "Metric: validation.tail.realistic.hits_at_1 = 0.0\n",
      "Metric: validation.both.realistic.hits_at_1 = 0.0\n",
      "Metric: validation.head.pessimistic.hits_at_1 = 0.0\n",
      "Metric: validation.tail.pessimistic.hits_at_1 = 0.0\n",
      "Metric: validation.both.pessimistic.hits_at_1 = 0.0\n",
      "Metric: validation.head.optimistic.hits_at_3 = 0.5854748603351956\n",
      "Metric: validation.tail.optimistic.hits_at_3 = 0.01452513966480447\n",
      "Metric: validation.both.optimistic.hits_at_3 = 0.3\n",
      "Metric: validation.head.realistic.hits_at_3 = 0.0\n",
      "Metric: validation.tail.realistic.hits_at_3 = 0.0111731843575419\n",
      "Metric: validation.both.realistic.hits_at_3 = 0.00558659217877095\n",
      "Metric: validation.head.pessimistic.hits_at_3 = 0.0\n",
      "Metric: validation.tail.pessimistic.hits_at_3 = 0.0111731843575419\n",
      "Metric: validation.both.pessimistic.hits_at_3 = 0.00558659217877095\n",
      "Metric: validation.head.optimistic.hits_at_5 = 0.5854748603351956\n",
      "Metric: validation.tail.optimistic.hits_at_5 = 0.021229050279329607\n",
      "Metric: validation.both.optimistic.hits_at_5 = 0.30335195530726256\n",
      "Metric: validation.head.realistic.hits_at_5 = 0.0\n",
      "Metric: validation.tail.realistic.hits_at_5 = 0.017877094972067038\n",
      "Metric: validation.both.realistic.hits_at_5 = 0.008938547486033519\n",
      "Metric: validation.head.pessimistic.hits_at_5 = 0.0\n",
      "Metric: validation.tail.pessimistic.hits_at_5 = 0.017877094972067038\n",
      "Metric: validation.both.pessimistic.hits_at_5 = 0.008938547486033519\n",
      "Metric: validation.head.optimistic.hits_at_10 = 0.5854748603351956\n",
      "Metric: validation.tail.optimistic.hits_at_10 = 0.02905027932960894\n",
      "Metric: validation.both.optimistic.hits_at_10 = 0.30726256983240224\n",
      "Metric: validation.head.realistic.hits_at_10 = 0.00782122905027933\n",
      "Metric: validation.tail.realistic.hits_at_10 = 0.02905027932960894\n",
      "Metric: validation.both.realistic.hits_at_10 = 0.018435754189944135\n",
      "Metric: validation.head.pessimistic.hits_at_10 = 0.0\n",
      "Metric: validation.tail.pessimistic.hits_at_10 = 0.02905027932960894\n",
      "Metric: validation.both.pessimistic.hits_at_10 = 0.01452513966480447\n"
     ]
    },
    {
     "data": {
      "application/vnd.jupyter.widget-view+json": {
       "model_id": "",
       "version_major": 2,
       "version_minor": 0
      },
      "text/plain": [
       "Training batches on cuda:0:   0%|          | 0/1 [00:00<?, ?batch/s]"
      ]
     },
     "metadata": {},
     "output_type": "display_data"
    },
    {
     "name": "stdout",
     "output_type": "stream",
     "text": [
      "Step: 3\n",
      "Metric: loss = 12.634761810302734\n",
      "Step: 3\n",
      "Metric: validation.head.optimistic.inverse_harmonic_mean_rank = 0.5880390091104453\n",
      "Metric: validation.tail.optimistic.inverse_harmonic_mean_rank = 0.014482309522839493\n",
      "Metric: validation.both.optimistic.inverse_harmonic_mean_rank = 0.3012606593166423\n",
      "Metric: validation.head.realistic.inverse_harmonic_mean_rank = 0.006538759917020798\n",
      "Metric: validation.tail.realistic.inverse_harmonic_mean_rank = 0.01356790214776993\n",
      "Metric: validation.both.realistic.inverse_harmonic_mean_rank = 0.010053331032395363\n",
      "Metric: validation.head.pessimistic.inverse_harmonic_mean_rank = 0.003779598497646011\n",
      "Metric: validation.tail.pessimistic.inverse_harmonic_mean_rank = 0.013085251187140287\n",
      "Metric: validation.both.pessimistic.inverse_harmonic_mean_rank = 0.00843242484239315\n",
      "Metric: validation.head.optimistic.hits_at_1 = 0.5843575418994413\n",
      "Metric: validation.tail.optimistic.hits_at_1 = 0.0\n",
      "Metric: validation.both.optimistic.hits_at_1 = 0.29217877094972067\n",
      "Metric: validation.head.realistic.hits_at_1 = 0.0\n",
      "Metric: validation.tail.realistic.hits_at_1 = 0.0\n",
      "Metric: validation.both.realistic.hits_at_1 = 0.0\n",
      "Metric: validation.head.pessimistic.hits_at_1 = 0.0\n",
      "Metric: validation.tail.pessimistic.hits_at_1 = 0.0\n",
      "Metric: validation.both.pessimistic.hits_at_1 = 0.0\n",
      "Metric: validation.head.optimistic.hits_at_3 = 0.5854748603351956\n",
      "Metric: validation.tail.optimistic.hits_at_3 = 0.01899441340782123\n",
      "Metric: validation.both.optimistic.hits_at_3 = 0.30223463687150837\n",
      "Metric: validation.head.realistic.hits_at_3 = 0.0\n",
      "Metric: validation.tail.realistic.hits_at_3 = 0.013407821229050279\n",
      "Metric: validation.both.realistic.hits_at_3 = 0.0067039106145251395\n",
      "Metric: validation.head.pessimistic.hits_at_3 = 0.0\n",
      "Metric: validation.tail.pessimistic.hits_at_3 = 0.013407821229050279\n",
      "Metric: validation.both.pessimistic.hits_at_3 = 0.0067039106145251395\n",
      "Metric: validation.head.optimistic.hits_at_5 = 0.5854748603351956\n",
      "Metric: validation.tail.optimistic.hits_at_5 = 0.027932960893854747\n",
      "Metric: validation.both.optimistic.hits_at_5 = 0.3067039106145251\n",
      "Metric: validation.head.realistic.hits_at_5 = 0.0\n",
      "Metric: validation.tail.realistic.hits_at_5 = 0.0223463687150838\n",
      "Metric: validation.both.realistic.hits_at_5 = 0.0111731843575419\n",
      "Metric: validation.head.pessimistic.hits_at_5 = 0.0\n",
      "Metric: validation.tail.pessimistic.hits_at_5 = 0.021229050279329607\n",
      "Metric: validation.both.pessimistic.hits_at_5 = 0.010614525139664804\n",
      "Metric: validation.head.optimistic.hits_at_10 = 0.5854748603351956\n",
      "Metric: validation.tail.optimistic.hits_at_10 = 0.02905027932960894\n",
      "Metric: validation.both.optimistic.hits_at_10 = 0.30726256983240224\n",
      "Metric: validation.head.realistic.hits_at_10 = 0.00782122905027933\n",
      "Metric: validation.tail.realistic.hits_at_10 = 0.02905027932960894\n",
      "Metric: validation.both.realistic.hits_at_10 = 0.018435754189944135\n",
      "Metric: validation.head.pessimistic.hits_at_10 = 0.0\n",
      "Metric: validation.tail.pessimistic.hits_at_10 = 0.02905027932960894\n",
      "Metric: validation.both.pessimistic.hits_at_10 = 0.01452513966480447\n"
     ]
    },
    {
     "data": {
      "application/vnd.jupyter.widget-view+json": {
       "model_id": "",
       "version_major": 2,
       "version_minor": 0
      },
      "text/plain": [
       "Training batches on cuda:0:   0%|          | 0/1 [00:00<?, ?batch/s]"
      ]
     },
     "metadata": {},
     "output_type": "display_data"
    },
    {
     "name": "stdout",
     "output_type": "stream",
     "text": [
      "Step: 4\n",
      "Metric: loss = 12.510793685913086\n",
      "Step: 4\n",
      "Metric: validation.head.optimistic.inverse_harmonic_mean_rank = 0.5880110226098448\n",
      "Metric: validation.tail.optimistic.inverse_harmonic_mean_rank = 0.013986773110654034\n",
      "Metric: validation.both.optimistic.inverse_harmonic_mean_rank = 0.30099889786024947\n",
      "Metric: validation.head.realistic.inverse_harmonic_mean_rank = 0.006535984110087156\n",
      "Metric: validation.tail.realistic.inverse_harmonic_mean_rank = 0.01294588390737772\n",
      "Metric: validation.both.realistic.inverse_harmonic_mean_rank = 0.009740933775901794\n",
      "Metric: validation.head.pessimistic.inverse_harmonic_mean_rank = 0.0037783970437248364\n",
      "Metric: validation.tail.pessimistic.inverse_harmonic_mean_rank = 0.012320637742491152\n",
      "Metric: validation.both.pessimistic.inverse_harmonic_mean_rank = 0.008049517393107993\n",
      "Metric: validation.head.optimistic.hits_at_1 = 0.5843575418994413\n",
      "Metric: validation.tail.optimistic.hits_at_1 = 0.0\n",
      "Metric: validation.both.optimistic.hits_at_1 = 0.29217877094972067\n",
      "Metric: validation.head.realistic.hits_at_1 = 0.0\n",
      "Metric: validation.tail.realistic.hits_at_1 = 0.0\n",
      "Metric: validation.both.realistic.hits_at_1 = 0.0\n",
      "Metric: validation.head.pessimistic.hits_at_1 = 0.0\n",
      "Metric: validation.tail.pessimistic.hits_at_1 = 0.0\n",
      "Metric: validation.both.pessimistic.hits_at_1 = 0.0\n",
      "Metric: validation.head.optimistic.hits_at_3 = 0.5854748603351956\n",
      "Metric: validation.tail.optimistic.hits_at_3 = 0.01564245810055866\n",
      "Metric: validation.both.optimistic.hits_at_3 = 0.3005586592178771\n",
      "Metric: validation.head.realistic.hits_at_3 = 0.0\n",
      "Metric: validation.tail.realistic.hits_at_3 = 0.013407821229050279\n",
      "Metric: validation.both.realistic.hits_at_3 = 0.0067039106145251395\n",
      "Metric: validation.head.pessimistic.hits_at_3 = 0.0\n",
      "Metric: validation.tail.pessimistic.hits_at_3 = 0.0111731843575419\n",
      "Metric: validation.both.pessimistic.hits_at_3 = 0.00558659217877095\n",
      "Metric: validation.head.optimistic.hits_at_5 = 0.5854748603351956\n",
      "Metric: validation.tail.optimistic.hits_at_5 = 0.02011173184357542\n",
      "Metric: validation.both.optimistic.hits_at_5 = 0.3027932960893855\n",
      "Metric: validation.head.realistic.hits_at_5 = 0.0\n",
      "Metric: validation.tail.realistic.hits_at_5 = 0.01899441340782123\n",
      "Metric: validation.both.realistic.hits_at_5 = 0.009497206703910615\n",
      "Metric: validation.head.pessimistic.hits_at_5 = 0.0\n",
      "Metric: validation.tail.pessimistic.hits_at_5 = 0.017877094972067038\n",
      "Metric: validation.both.pessimistic.hits_at_5 = 0.008938547486033519\n",
      "Metric: validation.head.optimistic.hits_at_10 = 0.5854748603351956\n",
      "Metric: validation.tail.optimistic.hits_at_10 = 0.02905027932960894\n",
      "Metric: validation.both.optimistic.hits_at_10 = 0.30726256983240224\n",
      "Metric: validation.head.realistic.hits_at_10 = 0.00782122905027933\n",
      "Metric: validation.tail.realistic.hits_at_10 = 0.026815642458100558\n",
      "Metric: validation.both.realistic.hits_at_10 = 0.017318435754189943\n",
      "Metric: validation.head.pessimistic.hits_at_10 = 0.0\n",
      "Metric: validation.tail.pessimistic.hits_at_10 = 0.026815642458100558\n",
      "Metric: validation.both.pessimistic.hits_at_10 = 0.013407821229050279\n"
     ]
    },
    {
     "data": {
      "application/vnd.jupyter.widget-view+json": {
       "model_id": "",
       "version_major": 2,
       "version_minor": 0
      },
      "text/plain": [
       "Training batches on cuda:0:   0%|          | 0/1 [00:00<?, ?batch/s]"
      ]
     },
     "metadata": {},
     "output_type": "display_data"
    },
    {
     "name": "stdout",
     "output_type": "stream",
     "text": [
      "Step: 5\n",
      "Metric: loss = 12.349310874938965\n",
      "Step: 5\n",
      "Metric: validation.head.optimistic.inverse_harmonic_mean_rank = 0.5879948942547908\n",
      "Metric: validation.tail.optimistic.inverse_harmonic_mean_rank = 0.013743480299038784\n",
      "Metric: validation.both.optimistic.inverse_harmonic_mean_rank = 0.30086918727691475\n",
      "Metric: validation.head.realistic.inverse_harmonic_mean_rank = 0.006546834018081426\n",
      "Metric: validation.tail.realistic.inverse_harmonic_mean_rank = 0.013002001680433748\n",
      "Metric: validation.both.realistic.inverse_harmonic_mean_rank = 0.009774417616426945\n",
      "Metric: validation.head.pessimistic.inverse_harmonic_mean_rank = 0.003790195109245238\n",
      "Metric: validation.tail.pessimistic.inverse_harmonic_mean_rank = 0.012485352612800238\n",
      "Metric: validation.both.pessimistic.inverse_harmonic_mean_rank = 0.00813777386102274\n",
      "Metric: validation.head.optimistic.hits_at_1 = 0.5843575418994413\n",
      "Metric: validation.tail.optimistic.hits_at_1 = 0.0\n",
      "Metric: validation.both.optimistic.hits_at_1 = 0.29217877094972067\n",
      "Metric: validation.head.realistic.hits_at_1 = 0.0\n",
      "Metric: validation.tail.realistic.hits_at_1 = 0.0\n",
      "Metric: validation.both.realistic.hits_at_1 = 0.0\n",
      "Metric: validation.head.pessimistic.hits_at_1 = 0.0\n",
      "Metric: validation.tail.pessimistic.hits_at_1 = 0.0\n",
      "Metric: validation.both.pessimistic.hits_at_1 = 0.0\n",
      "Metric: validation.head.optimistic.hits_at_3 = 0.5854748603351956\n",
      "Metric: validation.tail.optimistic.hits_at_3 = 0.01675977653631285\n",
      "Metric: validation.both.optimistic.hits_at_3 = 0.3011173184357542\n",
      "Metric: validation.head.realistic.hits_at_3 = 0.0\n",
      "Metric: validation.tail.realistic.hits_at_3 = 0.012290502793296089\n",
      "Metric: validation.both.realistic.hits_at_3 = 0.006145251396648044\n",
      "Metric: validation.head.pessimistic.hits_at_3 = 0.0\n",
      "Metric: validation.tail.pessimistic.hits_at_3 = 0.012290502793296089\n",
      "Metric: validation.both.pessimistic.hits_at_3 = 0.006145251396648044\n",
      "Metric: validation.head.optimistic.hits_at_5 = 0.5854748603351956\n",
      "Metric: validation.tail.optimistic.hits_at_5 = 0.02011173184357542\n",
      "Metric: validation.both.optimistic.hits_at_5 = 0.3027932960893855\n",
      "Metric: validation.head.realistic.hits_at_5 = 0.0\n",
      "Metric: validation.tail.realistic.hits_at_5 = 0.01899441340782123\n",
      "Metric: validation.both.realistic.hits_at_5 = 0.009497206703910615\n",
      "Metric: validation.head.pessimistic.hits_at_5 = 0.0\n",
      "Metric: validation.tail.pessimistic.hits_at_5 = 0.01899441340782123\n",
      "Metric: validation.both.pessimistic.hits_at_5 = 0.009497206703910615\n",
      "Metric: validation.head.optimistic.hits_at_10 = 0.5854748603351956\n",
      "Metric: validation.tail.optimistic.hits_at_10 = 0.02905027932960894\n",
      "Metric: validation.both.optimistic.hits_at_10 = 0.30726256983240224\n",
      "Metric: validation.head.realistic.hits_at_10 = 0.00782122905027933\n",
      "Metric: validation.tail.realistic.hits_at_10 = 0.027932960893854747\n",
      "Metric: validation.both.realistic.hits_at_10 = 0.017877094972067038\n",
      "Metric: validation.head.pessimistic.hits_at_10 = 0.0\n",
      "Metric: validation.tail.pessimistic.hits_at_10 = 0.027932960893854747\n",
      "Metric: validation.both.pessimistic.hits_at_10 = 0.013966480446927373\n"
     ]
    },
    {
     "data": {
      "application/vnd.jupyter.widget-view+json": {
       "model_id": "",
       "version_major": 2,
       "version_minor": 0
      },
      "text/plain": [
       "Training batches on cuda:0:   0%|          | 0/1 [00:00<?, ?batch/s]"
      ]
     },
     "metadata": {},
     "output_type": "display_data"
    },
    {
     "name": "stdout",
     "output_type": "stream",
     "text": [
      "Step: 6\n",
      "Metric: loss = 12.218953132629395\n",
      "Step: 6\n",
      "Metric: validation.head.optimistic.inverse_harmonic_mean_rank = 0.5701451046294114\n",
      "Metric: validation.tail.optimistic.inverse_harmonic_mean_rank = 0.015143121073145896\n",
      "Metric: validation.both.optimistic.inverse_harmonic_mean_rank = 0.29264411285127867\n",
      "Metric: validation.head.realistic.inverse_harmonic_mean_rank = 0.00653638131916523\n",
      "Metric: validation.tail.realistic.inverse_harmonic_mean_rank = 0.013749366626143456\n",
      "Metric: validation.both.realistic.inverse_harmonic_mean_rank = 0.010142873972654343\n",
      "Metric: validation.head.pessimistic.inverse_harmonic_mean_rank = 0.0037973545774873264\n",
      "Metric: validation.tail.pessimistic.inverse_harmonic_mean_rank = 0.013090530168126458\n",
      "Metric: validation.both.pessimistic.inverse_harmonic_mean_rank = 0.008443942372806892\n",
      "Metric: validation.head.optimistic.hits_at_1 = 0.5541899441340782\n",
      "Metric: validation.tail.optimistic.hits_at_1 = 0.0\n",
      "Metric: validation.both.optimistic.hits_at_1 = 0.2770949720670391\n",
      "Metric: validation.head.realistic.hits_at_1 = 0.0\n",
      "Metric: validation.tail.realistic.hits_at_1 = 0.0\n",
      "Metric: validation.both.realistic.hits_at_1 = 0.0\n",
      "Metric: validation.head.pessimistic.hits_at_1 = 0.0\n",
      "Metric: validation.tail.pessimistic.hits_at_1 = 0.0\n",
      "Metric: validation.both.pessimistic.hits_at_1 = 0.0\n",
      "Metric: validation.head.optimistic.hits_at_3 = 0.5754189944134078\n",
      "Metric: validation.tail.optimistic.hits_at_3 = 0.02011173184357542\n",
      "Metric: validation.both.optimistic.hits_at_3 = 0.2977653631284916\n",
      "Metric: validation.head.realistic.hits_at_3 = 0.0\n",
      "Metric: validation.tail.realistic.hits_at_3 = 0.013407821229050279\n",
      "Metric: validation.both.realistic.hits_at_3 = 0.0067039106145251395\n",
      "Metric: validation.head.pessimistic.hits_at_3 = 0.0\n",
      "Metric: validation.tail.pessimistic.hits_at_3 = 0.013407821229050279\n",
      "Metric: validation.both.pessimistic.hits_at_3 = 0.0067039106145251395\n",
      "Metric: validation.head.optimistic.hits_at_5 = 0.5843575418994413\n",
      "Metric: validation.tail.optimistic.hits_at_5 = 0.026815642458100558\n",
      "Metric: validation.both.optimistic.hits_at_5 = 0.30558659217877093\n",
      "Metric: validation.head.realistic.hits_at_5 = 0.0\n",
      "Metric: validation.tail.realistic.hits_at_5 = 0.02346368715083799\n",
      "Metric: validation.both.realistic.hits_at_5 = 0.011731843575418994\n",
      "Metric: validation.head.pessimistic.hits_at_5 = 0.0\n",
      "Metric: validation.tail.pessimistic.hits_at_5 = 0.0223463687150838\n",
      "Metric: validation.both.pessimistic.hits_at_5 = 0.0111731843575419\n",
      "Metric: validation.head.optimistic.hits_at_10 = 0.5843575418994413\n",
      "Metric: validation.tail.optimistic.hits_at_10 = 0.027932960893854747\n",
      "Metric: validation.both.optimistic.hits_at_10 = 0.30614525139664805\n",
      "Metric: validation.head.realistic.hits_at_10 = 0.00782122905027933\n",
      "Metric: validation.tail.realistic.hits_at_10 = 0.027932960893854747\n",
      "Metric: validation.both.realistic.hits_at_10 = 0.017877094972067038\n",
      "Metric: validation.head.pessimistic.hits_at_10 = 0.0\n",
      "Metric: validation.tail.pessimistic.hits_at_10 = 0.027932960893854747\n",
      "Metric: validation.both.pessimistic.hits_at_10 = 0.013966480446927373\n"
     ]
    },
    {
     "data": {
      "application/vnd.jupyter.widget-view+json": {
       "model_id": "",
       "version_major": 2,
       "version_minor": 0
      },
      "text/plain": [
       "Training batches on cuda:0:   0%|          | 0/1 [00:00<?, ?batch/s]"
      ]
     },
     "metadata": {},
     "output_type": "display_data"
    },
    {
     "name": "stdout",
     "output_type": "stream",
     "text": [
      "Step: 7\n",
      "Metric: loss = 12.101510047912598\n",
      "Step: 7\n",
      "Metric: validation.head.optimistic.inverse_harmonic_mean_rank = 0.5701519499284672\n",
      "Metric: validation.tail.optimistic.inverse_harmonic_mean_rank = 0.01357374500459655\n",
      "Metric: validation.both.optimistic.inverse_harmonic_mean_rank = 0.2918628474665319\n",
      "Metric: validation.head.realistic.inverse_harmonic_mean_rank = 0.006547576282173394\n",
      "Metric: validation.tail.realistic.inverse_harmonic_mean_rank = 0.012785827741026878\n",
      "Metric: validation.both.realistic.inverse_harmonic_mean_rank = 0.009666701778769493\n",
      "Metric: validation.head.pessimistic.inverse_harmonic_mean_rank = 0.003808632430911086\n",
      "Metric: validation.tail.pessimistic.inverse_harmonic_mean_rank = 0.012267463888399046\n",
      "Metric: validation.both.pessimistic.inverse_harmonic_mean_rank = 0.008038048159655066\n",
      "Metric: validation.head.optimistic.hits_at_1 = 0.5541899441340782\n",
      "Metric: validation.tail.optimistic.hits_at_1 = 0.0\n",
      "Metric: validation.both.optimistic.hits_at_1 = 0.2770949720670391\n",
      "Metric: validation.head.realistic.hits_at_1 = 0.0\n",
      "Metric: validation.tail.realistic.hits_at_1 = 0.0\n",
      "Metric: validation.both.realistic.hits_at_1 = 0.0\n",
      "Metric: validation.head.pessimistic.hits_at_1 = 0.0\n",
      "Metric: validation.tail.pessimistic.hits_at_1 = 0.0\n",
      "Metric: validation.both.pessimistic.hits_at_1 = 0.0\n",
      "Metric: validation.head.optimistic.hits_at_3 = 0.5754189944134078\n",
      "Metric: validation.tail.optimistic.hits_at_3 = 0.01564245810055866\n",
      "Metric: validation.both.optimistic.hits_at_3 = 0.29553072625698323\n",
      "Metric: validation.head.realistic.hits_at_3 = 0.0\n",
      "Metric: validation.tail.realistic.hits_at_3 = 0.008938547486033519\n",
      "Metric: validation.both.realistic.hits_at_3 = 0.004469273743016759\n",
      "Metric: validation.head.pessimistic.hits_at_3 = 0.0\n",
      "Metric: validation.tail.pessimistic.hits_at_3 = 0.008938547486033519\n",
      "Metric: validation.both.pessimistic.hits_at_3 = 0.004469273743016759\n",
      "Metric: validation.head.optimistic.hits_at_5 = 0.5843575418994413\n",
      "Metric: validation.tail.optimistic.hits_at_5 = 0.024581005586592177\n",
      "Metric: validation.both.optimistic.hits_at_5 = 0.30446927374301674\n",
      "Metric: validation.head.realistic.hits_at_5 = 0.0\n",
      "Metric: validation.tail.realistic.hits_at_5 = 0.01899441340782123\n",
      "Metric: validation.both.realistic.hits_at_5 = 0.009497206703910615\n",
      "Metric: validation.head.pessimistic.hits_at_5 = 0.0\n",
      "Metric: validation.tail.pessimistic.hits_at_5 = 0.01899441340782123\n",
      "Metric: validation.both.pessimistic.hits_at_5 = 0.009497206703910615\n",
      "Metric: validation.head.optimistic.hits_at_10 = 0.5843575418994413\n",
      "Metric: validation.tail.optimistic.hits_at_10 = 0.02905027932960894\n",
      "Metric: validation.both.optimistic.hits_at_10 = 0.3067039106145251\n",
      "Metric: validation.head.realistic.hits_at_10 = 0.00782122905027933\n",
      "Metric: validation.tail.realistic.hits_at_10 = 0.02905027932960894\n",
      "Metric: validation.both.realistic.hits_at_10 = 0.018435754189944135\n",
      "Metric: validation.head.pessimistic.hits_at_10 = 0.0\n",
      "Metric: validation.tail.pessimistic.hits_at_10 = 0.02905027932960894\n",
      "Metric: validation.both.pessimistic.hits_at_10 = 0.01452513966480447\n"
     ]
    },
    {
     "data": {
      "application/vnd.jupyter.widget-view+json": {
       "model_id": "",
       "version_major": 2,
       "version_minor": 0
      },
      "text/plain": [
       "Training batches on cuda:0:   0%|          | 0/1 [00:00<?, ?batch/s]"
      ]
     },
     "metadata": {},
     "output_type": "display_data"
    },
    {
     "name": "stdout",
     "output_type": "stream",
     "text": [
      "Step: 8\n",
      "Metric: loss = 11.964476585388184\n",
      "Step: 8\n",
      "Metric: validation.head.optimistic.inverse_harmonic_mean_rank = 0.5637749100692067\n",
      "Metric: validation.tail.optimistic.inverse_harmonic_mean_rank = 0.01657380847445076\n",
      "Metric: validation.both.optimistic.inverse_harmonic_mean_rank = 0.29017435927182866\n",
      "Metric: validation.head.realistic.inverse_harmonic_mean_rank = 0.0065390742383897305\n",
      "Metric: validation.tail.realistic.inverse_harmonic_mean_rank = 0.013242524117231369\n",
      "Metric: validation.both.realistic.inverse_harmonic_mean_rank = 0.009890799410641193\n",
      "Metric: validation.head.pessimistic.inverse_harmonic_mean_rank = 0.003809246724576496\n",
      "Metric: validation.tail.pessimistic.inverse_harmonic_mean_rank = 0.012012690531830045\n",
      "Metric: validation.both.pessimistic.inverse_harmonic_mean_rank = 0.00791096862820327\n",
      "Metric: validation.head.optimistic.hits_at_1 = 0.5541899441340782\n",
      "Metric: validation.tail.optimistic.hits_at_1 = 0.0\n",
      "Metric: validation.both.optimistic.hits_at_1 = 0.2770949720670391\n",
      "Metric: validation.head.realistic.hits_at_1 = 0.0\n",
      "Metric: validation.tail.realistic.hits_at_1 = 0.0\n",
      "Metric: validation.both.realistic.hits_at_1 = 0.0\n",
      "Metric: validation.head.pessimistic.hits_at_1 = 0.0\n",
      "Metric: validation.tail.pessimistic.hits_at_1 = 0.0\n",
      "Metric: validation.both.pessimistic.hits_at_1 = 0.0\n",
      "Metric: validation.head.optimistic.hits_at_3 = 0.5541899441340782\n",
      "Metric: validation.tail.optimistic.hits_at_3 = 0.02569832402234637\n",
      "Metric: validation.both.optimistic.hits_at_3 = 0.2899441340782123\n",
      "Metric: validation.head.realistic.hits_at_3 = 0.0\n",
      "Metric: validation.tail.realistic.hits_at_3 = 0.013407821229050279\n",
      "Metric: validation.both.realistic.hits_at_3 = 0.0067039106145251395\n",
      "Metric: validation.head.pessimistic.hits_at_3 = 0.0\n",
      "Metric: validation.tail.pessimistic.hits_at_3 = 0.008938547486033519\n",
      "Metric: validation.both.pessimistic.hits_at_3 = 0.004469273743016759\n",
      "Metric: validation.head.optimistic.hits_at_5 = 0.5843575418994413\n",
      "Metric: validation.tail.optimistic.hits_at_5 = 0.027932960893854747\n",
      "Metric: validation.both.optimistic.hits_at_5 = 0.30614525139664805\n",
      "Metric: validation.head.realistic.hits_at_5 = 0.0\n",
      "Metric: validation.tail.realistic.hits_at_5 = 0.021229050279329607\n",
      "Metric: validation.both.realistic.hits_at_5 = 0.010614525139664804\n",
      "Metric: validation.head.pessimistic.hits_at_5 = 0.0\n",
      "Metric: validation.tail.pessimistic.hits_at_5 = 0.017877094972067038\n",
      "Metric: validation.both.pessimistic.hits_at_5 = 0.008938547486033519\n",
      "Metric: validation.head.optimistic.hits_at_10 = 0.5843575418994413\n",
      "Metric: validation.tail.optimistic.hits_at_10 = 0.02905027932960894\n",
      "Metric: validation.both.optimistic.hits_at_10 = 0.3067039106145251\n",
      "Metric: validation.head.realistic.hits_at_10 = 0.00782122905027933\n",
      "Metric: validation.tail.realistic.hits_at_10 = 0.02905027932960894\n",
      "Metric: validation.both.realistic.hits_at_10 = 0.018435754189944135\n",
      "Metric: validation.head.pessimistic.hits_at_10 = 0.0\n",
      "Metric: validation.tail.pessimistic.hits_at_10 = 0.02905027932960894\n",
      "Metric: validation.both.pessimistic.hits_at_10 = 0.01452513966480447\n"
     ]
    },
    {
     "data": {
      "application/vnd.jupyter.widget-view+json": {
       "model_id": "",
       "version_major": 2,
       "version_minor": 0
      },
      "text/plain": [
       "Training batches on cuda:0:   0%|          | 0/1 [00:00<?, ?batch/s]"
      ]
     },
     "metadata": {},
     "output_type": "display_data"
    },
    {
     "name": "stdout",
     "output_type": "stream",
     "text": [
      "Step: 9\n",
      "Metric: loss = 11.83508586883545\n",
      "Step: 9\n",
      "Metric: validation.head.optimistic.inverse_harmonic_mean_rank = 0.5535456427277161\n",
      "Metric: validation.tail.optimistic.inverse_harmonic_mean_rank = 0.01637206597920394\n",
      "Metric: validation.both.optimistic.inverse_harmonic_mean_rank = 0.28495885435346\n",
      "Metric: validation.head.realistic.inverse_harmonic_mean_rank = 0.006530072074383496\n",
      "Metric: validation.tail.realistic.inverse_harmonic_mean_rank = 0.013054620474576952\n",
      "Metric: validation.both.realistic.inverse_harmonic_mean_rank = 0.009792345575988293\n",
      "Metric: validation.head.pessimistic.inverse_harmonic_mean_rank = 0.003805735168897068\n",
      "Metric: validation.tail.pessimistic.inverse_harmonic_mean_rank = 0.011848805506721162\n",
      "Metric: validation.both.pessimistic.inverse_harmonic_mean_rank = 0.007827270337809115\n",
      "Metric: validation.head.optimistic.hits_at_1 = 0.5407821229050279\n",
      "Metric: validation.tail.optimistic.hits_at_1 = 0.0\n",
      "Metric: validation.both.optimistic.hits_at_1 = 0.27039106145251396\n",
      "Metric: validation.head.realistic.hits_at_1 = 0.0\n",
      "Metric: validation.tail.realistic.hits_at_1 = 0.0\n",
      "Metric: validation.both.realistic.hits_at_1 = 0.0\n",
      "Metric: validation.head.pessimistic.hits_at_1 = 0.0\n",
      "Metric: validation.tail.pessimistic.hits_at_1 = 0.0\n",
      "Metric: validation.both.pessimistic.hits_at_1 = 0.0\n",
      "Metric: validation.head.optimistic.hits_at_3 = 0.5407821229050279\n",
      "Metric: validation.tail.optimistic.hits_at_3 = 0.024581005586592177\n",
      "Metric: validation.both.optimistic.hits_at_3 = 0.28268156424581004\n",
      "Metric: validation.head.realistic.hits_at_3 = 0.0\n",
      "Metric: validation.tail.realistic.hits_at_3 = 0.008938547486033519\n",
      "Metric: validation.both.realistic.hits_at_3 = 0.004469273743016759\n",
      "Metric: validation.head.pessimistic.hits_at_3 = 0.0\n",
      "Metric: validation.tail.pessimistic.hits_at_3 = 0.008938547486033519\n",
      "Metric: validation.both.pessimistic.hits_at_3 = 0.004469273743016759\n",
      "Metric: validation.head.optimistic.hits_at_5 = 0.5832402234636872\n",
      "Metric: validation.tail.optimistic.hits_at_5 = 0.026815642458100558\n",
      "Metric: validation.both.optimistic.hits_at_5 = 0.30502793296089387\n",
      "Metric: validation.head.realistic.hits_at_5 = 0.0\n",
      "Metric: validation.tail.realistic.hits_at_5 = 0.021229050279329607\n",
      "Metric: validation.both.realistic.hits_at_5 = 0.010614525139664804\n",
      "Metric: validation.head.pessimistic.hits_at_5 = 0.0\n",
      "Metric: validation.tail.pessimistic.hits_at_5 = 0.017877094972067038\n",
      "Metric: validation.both.pessimistic.hits_at_5 = 0.008938547486033519\n",
      "Metric: validation.head.optimistic.hits_at_10 = 0.5832402234636872\n",
      "Metric: validation.tail.optimistic.hits_at_10 = 0.02905027932960894\n",
      "Metric: validation.both.optimistic.hits_at_10 = 0.30614525139664805\n",
      "Metric: validation.head.realistic.hits_at_10 = 0.00782122905027933\n",
      "Metric: validation.tail.realistic.hits_at_10 = 0.027932960893854747\n",
      "Metric: validation.both.realistic.hits_at_10 = 0.017877094972067038\n",
      "Metric: validation.head.pessimistic.hits_at_10 = 0.0\n",
      "Metric: validation.tail.pessimistic.hits_at_10 = 0.027932960893854747\n",
      "Metric: validation.both.pessimistic.hits_at_10 = 0.013966480446927373\n"
     ]
    },
    {
     "data": {
      "application/vnd.jupyter.widget-view+json": {
       "model_id": "",
       "version_major": 2,
       "version_minor": 0
      },
      "text/plain": [
       "Training batches on cuda:0:   0%|          | 0/1 [00:00<?, ?batch/s]"
      ]
     },
     "metadata": {},
     "output_type": "display_data"
    },
    {
     "name": "stdout",
     "output_type": "stream",
     "text": [
      "Step: 10\n",
      "Metric: loss = 11.736677169799805\n",
      "Step: 10\n",
      "Metric: validation.head.optimistic.inverse_harmonic_mean_rank = 0.5334129494328296\n",
      "Metric: validation.tail.optimistic.inverse_harmonic_mean_rank = 0.014441306845703064\n",
      "Metric: validation.both.optimistic.inverse_harmonic_mean_rank = 0.2739271281392663\n",
      "Metric: validation.head.realistic.inverse_harmonic_mean_rank = 0.006517251953482628\n",
      "Metric: validation.tail.realistic.inverse_harmonic_mean_rank = 0.012491573579609394\n",
      "Metric: validation.both.realistic.inverse_harmonic_mean_rank = 0.009504413232207298\n",
      "Metric: validation.head.pessimistic.inverse_harmonic_mean_rank = 0.003802460476306876\n",
      "Metric: validation.tail.pessimistic.inverse_harmonic_mean_rank = 0.011617839818530996\n",
      "Metric: validation.both.pessimistic.inverse_harmonic_mean_rank = 0.007710150147418935\n",
      "Metric: validation.head.optimistic.hits_at_1 = 0.5139664804469274\n",
      "Metric: validation.tail.optimistic.hits_at_1 = 0.0\n",
      "Metric: validation.both.optimistic.hits_at_1 = 0.2569832402234637\n",
      "Metric: validation.head.realistic.hits_at_1 = 0.0\n",
      "Metric: validation.tail.realistic.hits_at_1 = 0.0\n",
      "Metric: validation.both.realistic.hits_at_1 = 0.0\n",
      "Metric: validation.head.pessimistic.hits_at_1 = 0.0\n",
      "Metric: validation.tail.pessimistic.hits_at_1 = 0.0\n",
      "Metric: validation.both.pessimistic.hits_at_1 = 0.0\n",
      "Metric: validation.head.optimistic.hits_at_3 = 0.5139664804469274\n",
      "Metric: validation.tail.optimistic.hits_at_3 = 0.017877094972067038\n",
      "Metric: validation.both.optimistic.hits_at_3 = 0.2659217877094972\n",
      "Metric: validation.head.realistic.hits_at_3 = 0.0\n",
      "Metric: validation.tail.realistic.hits_at_3 = 0.008938547486033519\n",
      "Metric: validation.both.realistic.hits_at_3 = 0.004469273743016759\n",
      "Metric: validation.head.pessimistic.hits_at_3 = 0.0\n",
      "Metric: validation.tail.pessimistic.hits_at_3 = 0.008938547486033519\n",
      "Metric: validation.both.pessimistic.hits_at_3 = 0.004469273743016759\n",
      "Metric: validation.head.optimistic.hits_at_5 = 0.5832402234636872\n",
      "Metric: validation.tail.optimistic.hits_at_5 = 0.026815642458100558\n",
      "Metric: validation.both.optimistic.hits_at_5 = 0.30502793296089387\n",
      "Metric: validation.head.realistic.hits_at_5 = 0.0\n",
      "Metric: validation.tail.realistic.hits_at_5 = 0.01899441340782123\n",
      "Metric: validation.both.realistic.hits_at_5 = 0.009497206703910615\n",
      "Metric: validation.head.pessimistic.hits_at_5 = 0.0\n",
      "Metric: validation.tail.pessimistic.hits_at_5 = 0.01452513966480447\n",
      "Metric: validation.both.pessimistic.hits_at_5 = 0.007262569832402235\n",
      "Metric: validation.head.optimistic.hits_at_10 = 0.5832402234636872\n",
      "Metric: validation.tail.optimistic.hits_at_10 = 0.02905027932960894\n",
      "Metric: validation.both.optimistic.hits_at_10 = 0.30614525139664805\n",
      "Metric: validation.head.realistic.hits_at_10 = 0.00782122905027933\n",
      "Metric: validation.tail.realistic.hits_at_10 = 0.02905027932960894\n",
      "Metric: validation.both.realistic.hits_at_10 = 0.018435754189944135\n",
      "Metric: validation.head.pessimistic.hits_at_10 = 0.0\n",
      "Metric: validation.tail.pessimistic.hits_at_10 = 0.02905027932960894\n",
      "Metric: validation.both.pessimistic.hits_at_10 = 0.01452513966480447\n"
     ]
    },
    {
     "data": {
      "application/vnd.jupyter.widget-view+json": {
       "model_id": "",
       "version_major": 2,
       "version_minor": 0
      },
      "text/plain": [
       "Training batches on cuda:0:   0%|          | 0/1 [00:00<?, ?batch/s]"
      ]
     },
     "metadata": {},
     "output_type": "display_data"
    },
    {
     "name": "stdout",
     "output_type": "stream",
     "text": [
      "Step: 11\n",
      "Metric: loss = 11.566774368286133\n",
      "Step: 11\n",
      "Metric: validation.head.optimistic.inverse_harmonic_mean_rank = 0.4838449255788369\n",
      "Metric: validation.tail.optimistic.inverse_harmonic_mean_rank = 0.012450856798231722\n",
      "Metric: validation.both.optimistic.inverse_harmonic_mean_rank = 0.24814789118853436\n",
      "Metric: validation.head.realistic.inverse_harmonic_mean_rank = 0.006481528747826814\n",
      "Metric: validation.tail.realistic.inverse_harmonic_mean_rank = 0.011922922916710377\n",
      "Metric: validation.both.realistic.inverse_harmonic_mean_rank = 0.009202225133776665\n",
      "Metric: validation.head.pessimistic.inverse_harmonic_mean_rank = 0.0038093918254588836\n",
      "Metric: validation.tail.pessimistic.inverse_harmonic_mean_rank = 0.011600503068857527\n",
      "Metric: validation.both.pessimistic.inverse_harmonic_mean_rank = 0.007704947447158206\n",
      "Metric: validation.head.optimistic.hits_at_1 = 0.45363128491620114\n",
      "Metric: validation.tail.optimistic.hits_at_1 = 0.0\n",
      "Metric: validation.both.optimistic.hits_at_1 = 0.22681564245810057\n",
      "Metric: validation.head.realistic.hits_at_1 = 0.0\n",
      "Metric: validation.tail.realistic.hits_at_1 = 0.0\n",
      "Metric: validation.both.realistic.hits_at_1 = 0.0\n",
      "Metric: validation.head.pessimistic.hits_at_1 = 0.0\n",
      "Metric: validation.tail.pessimistic.hits_at_1 = 0.0\n",
      "Metric: validation.both.pessimistic.hits_at_1 = 0.0\n",
      "Metric: validation.head.optimistic.hits_at_3 = 0.45363128491620114\n",
      "Metric: validation.tail.optimistic.hits_at_3 = 0.0111731843575419\n",
      "Metric: validation.both.optimistic.hits_at_3 = 0.2324022346368715\n",
      "Metric: validation.head.realistic.hits_at_3 = 0.0\n",
      "Metric: validation.tail.realistic.hits_at_3 = 0.008938547486033519\n",
      "Metric: validation.both.realistic.hits_at_3 = 0.004469273743016759\n",
      "Metric: validation.head.pessimistic.hits_at_3 = 0.0\n",
      "Metric: validation.tail.pessimistic.hits_at_3 = 0.008938547486033519\n",
      "Metric: validation.both.pessimistic.hits_at_3 = 0.004469273743016759\n",
      "Metric: validation.head.optimistic.hits_at_5 = 0.5586592178770949\n",
      "Metric: validation.tail.optimistic.hits_at_5 = 0.02011173184357542\n",
      "Metric: validation.both.optimistic.hits_at_5 = 0.28938547486033517\n",
      "Metric: validation.head.realistic.hits_at_5 = 0.0\n",
      "Metric: validation.tail.realistic.hits_at_5 = 0.01564245810055866\n",
      "Metric: validation.both.realistic.hits_at_5 = 0.00782122905027933\n",
      "Metric: validation.head.pessimistic.hits_at_5 = 0.0\n",
      "Metric: validation.tail.pessimistic.hits_at_5 = 0.01452513966480447\n",
      "Metric: validation.both.pessimistic.hits_at_5 = 0.007262569832402235\n",
      "Metric: validation.head.optimistic.hits_at_10 = 0.5664804469273743\n",
      "Metric: validation.tail.optimistic.hits_at_10 = 0.02905027932960894\n",
      "Metric: validation.both.optimistic.hits_at_10 = 0.2977653631284916\n",
      "Metric: validation.head.realistic.hits_at_10 = 0.00782122905027933\n",
      "Metric: validation.tail.realistic.hits_at_10 = 0.027932960893854747\n",
      "Metric: validation.both.realistic.hits_at_10 = 0.017877094972067038\n",
      "Metric: validation.head.pessimistic.hits_at_10 = 0.0\n",
      "Metric: validation.tail.pessimistic.hits_at_10 = 0.027932960893854747\n",
      "Metric: validation.both.pessimistic.hits_at_10 = 0.013966480446927373\n"
     ]
    },
    {
     "data": {
      "application/vnd.jupyter.widget-view+json": {
       "model_id": "",
       "version_major": 2,
       "version_minor": 0
      },
      "text/plain": [
       "Training batches on cuda:0:   0%|          | 0/1 [00:00<?, ?batch/s]"
      ]
     },
     "metadata": {},
     "output_type": "display_data"
    },
    {
     "name": "stdout",
     "output_type": "stream",
     "text": [
      "Step: 12\n",
      "Metric: loss = 11.433897018432617\n",
      "Step: 12\n",
      "Metric: validation.head.optimistic.inverse_harmonic_mean_rank = 0.46823011981284657\n",
      "Metric: validation.tail.optimistic.inverse_harmonic_mean_rank = 0.013714744245926148\n",
      "Metric: validation.both.optimistic.inverse_harmonic_mean_rank = 0.2409724320293864\n",
      "Metric: validation.head.realistic.inverse_harmonic_mean_rank = 0.006438824348151685\n",
      "Metric: validation.tail.realistic.inverse_harmonic_mean_rank = 0.01302383467555046\n",
      "Metric: validation.both.realistic.inverse_harmonic_mean_rank = 0.009731329046189785\n",
      "Metric: validation.head.pessimistic.inverse_harmonic_mean_rank = 0.003795326397507242\n",
      "Metric: validation.tail.pessimistic.inverse_harmonic_mean_rank = 0.012536449573578475\n",
      "Metric: validation.both.pessimistic.inverse_harmonic_mean_rank = 0.008165887985542856\n",
      "Metric: validation.head.optimistic.hits_at_1 = 0.43798882681564244\n",
      "Metric: validation.tail.optimistic.hits_at_1 = 0.0\n",
      "Metric: validation.both.optimistic.hits_at_1 = 0.21899441340782122\n",
      "Metric: validation.head.realistic.hits_at_1 = 0.0\n",
      "Metric: validation.tail.realistic.hits_at_1 = 0.0\n",
      "Metric: validation.both.realistic.hits_at_1 = 0.0\n",
      "Metric: validation.head.pessimistic.hits_at_1 = 0.0\n",
      "Metric: validation.tail.pessimistic.hits_at_1 = 0.0\n",
      "Metric: validation.both.pessimistic.hits_at_1 = 0.0\n",
      "Metric: validation.head.optimistic.hits_at_3 = 0.43798882681564244\n",
      "Metric: validation.tail.optimistic.hits_at_3 = 0.01564245810055866\n",
      "Metric: validation.both.optimistic.hits_at_3 = 0.22681564245810057\n",
      "Metric: validation.head.realistic.hits_at_3 = 0.0\n",
      "Metric: validation.tail.realistic.hits_at_3 = 0.013407821229050279\n",
      "Metric: validation.both.realistic.hits_at_3 = 0.0067039106145251395\n",
      "Metric: validation.head.pessimistic.hits_at_3 = 0.0\n",
      "Metric: validation.tail.pessimistic.hits_at_3 = 0.013407821229050279\n",
      "Metric: validation.both.pessimistic.hits_at_3 = 0.0067039106145251395\n",
      "Metric: validation.head.optimistic.hits_at_5 = 0.5363128491620112\n",
      "Metric: validation.tail.optimistic.hits_at_5 = 0.01899441340782123\n",
      "Metric: validation.both.optimistic.hits_at_5 = 0.2776536312849162\n",
      "Metric: validation.head.realistic.hits_at_5 = 0.0\n",
      "Metric: validation.tail.realistic.hits_at_5 = 0.017877094972067038\n",
      "Metric: validation.both.realistic.hits_at_5 = 0.008938547486033519\n",
      "Metric: validation.head.pessimistic.hits_at_5 = 0.0\n",
      "Metric: validation.tail.pessimistic.hits_at_5 = 0.017877094972067038\n",
      "Metric: validation.both.pessimistic.hits_at_5 = 0.008938547486033519\n",
      "Metric: validation.head.optimistic.hits_at_10 = 0.547486033519553\n",
      "Metric: validation.tail.optimistic.hits_at_10 = 0.02905027932960894\n",
      "Metric: validation.both.optimistic.hits_at_10 = 0.288268156424581\n",
      "Metric: validation.head.realistic.hits_at_10 = 0.00782122905027933\n",
      "Metric: validation.tail.realistic.hits_at_10 = 0.02905027932960894\n",
      "Metric: validation.both.realistic.hits_at_10 = 0.018435754189944135\n",
      "Metric: validation.head.pessimistic.hits_at_10 = 0.0\n",
      "Metric: validation.tail.pessimistic.hits_at_10 = 0.02905027932960894\n",
      "Metric: validation.both.pessimistic.hits_at_10 = 0.01452513966480447\n"
     ]
    },
    {
     "data": {
      "application/vnd.jupyter.widget-view+json": {
       "model_id": "",
       "version_major": 2,
       "version_minor": 0
      },
      "text/plain": [
       "Training batches on cuda:0:   0%|          | 0/1 [00:00<?, ?batch/s]"
      ]
     },
     "metadata": {},
     "output_type": "display_data"
    },
    {
     "name": "stdout",
     "output_type": "stream",
     "text": [
      "Step: 13\n",
      "Metric: loss = 11.290412902832031\n",
      "Step: 13\n",
      "Metric: validation.head.optimistic.inverse_harmonic_mean_rank = 0.46155598359325456\n",
      "Metric: validation.tail.optimistic.inverse_harmonic_mean_rank = 0.014181175252629259\n",
      "Metric: validation.both.optimistic.inverse_harmonic_mean_rank = 0.2378685794229419\n",
      "Metric: validation.head.realistic.inverse_harmonic_mean_rank = 0.006429302506148815\n",
      "Metric: validation.tail.realistic.inverse_harmonic_mean_rank = 0.01294006872922182\n",
      "Metric: validation.both.realistic.inverse_harmonic_mean_rank = 0.009684685617685318\n",
      "Metric: validation.head.pessimistic.inverse_harmonic_mean_rank = 0.003799458735044807\n",
      "Metric: validation.tail.pessimistic.inverse_harmonic_mean_rank = 0.012199049975826604\n",
      "Metric: validation.both.pessimistic.inverse_harmonic_mean_rank = 0.007999254355435706\n",
      "Metric: validation.head.optimistic.hits_at_1 = 0.4324022346368715\n",
      "Metric: validation.tail.optimistic.hits_at_1 = 0.0\n",
      "Metric: validation.both.optimistic.hits_at_1 = 0.21620111731843575\n",
      "Metric: validation.head.realistic.hits_at_1 = 0.0\n",
      "Metric: validation.tail.realistic.hits_at_1 = 0.0\n",
      "Metric: validation.both.realistic.hits_at_1 = 0.0\n",
      "Metric: validation.head.pessimistic.hits_at_1 = 0.0\n",
      "Metric: validation.tail.pessimistic.hits_at_1 = 0.0\n",
      "Metric: validation.both.pessimistic.hits_at_1 = 0.0\n",
      "Metric: validation.head.optimistic.hits_at_3 = 0.4324022346368715\n",
      "Metric: validation.tail.optimistic.hits_at_3 = 0.01899441340782123\n",
      "Metric: validation.both.optimistic.hits_at_3 = 0.22569832402234638\n",
      "Metric: validation.head.realistic.hits_at_3 = 0.0\n",
      "Metric: validation.tail.realistic.hits_at_3 = 0.0111731843575419\n",
      "Metric: validation.both.realistic.hits_at_3 = 0.00558659217877095\n",
      "Metric: validation.head.pessimistic.hits_at_3 = 0.0\n",
      "Metric: validation.tail.pessimistic.hits_at_3 = 0.0111731843575419\n",
      "Metric: validation.both.pessimistic.hits_at_3 = 0.00558659217877095\n",
      "Metric: validation.head.optimistic.hits_at_5 = 0.5128491620111731\n",
      "Metric: validation.tail.optimistic.hits_at_5 = 0.026815642458100558\n",
      "Metric: validation.both.optimistic.hits_at_5 = 0.2698324022346369\n",
      "Metric: validation.head.realistic.hits_at_5 = 0.0\n",
      "Metric: validation.tail.realistic.hits_at_5 = 0.021229050279329607\n",
      "Metric: validation.both.realistic.hits_at_5 = 0.010614525139664804\n",
      "Metric: validation.head.pessimistic.hits_at_5 = 0.0\n",
      "Metric: validation.tail.pessimistic.hits_at_5 = 0.017877094972067038\n",
      "Metric: validation.both.pessimistic.hits_at_5 = 0.008938547486033519\n",
      "Metric: validation.head.optimistic.hits_at_10 = 0.5407821229050279\n",
      "Metric: validation.tail.optimistic.hits_at_10 = 0.02905027932960894\n",
      "Metric: validation.both.optimistic.hits_at_10 = 0.2849162011173184\n",
      "Metric: validation.head.realistic.hits_at_10 = 0.00782122905027933\n",
      "Metric: validation.tail.realistic.hits_at_10 = 0.027932960893854747\n",
      "Metric: validation.both.realistic.hits_at_10 = 0.017877094972067038\n",
      "Metric: validation.head.pessimistic.hits_at_10 = 0.0\n",
      "Metric: validation.tail.pessimistic.hits_at_10 = 0.027932960893854747\n",
      "Metric: validation.both.pessimistic.hits_at_10 = 0.013966480446927373\n"
     ]
    },
    {
     "data": {
      "application/vnd.jupyter.widget-view+json": {
       "model_id": "",
       "version_major": 2,
       "version_minor": 0
      },
      "text/plain": [
       "Training batches on cuda:0:   0%|          | 0/1 [00:00<?, ?batch/s]"
      ]
     },
     "metadata": {},
     "output_type": "display_data"
    },
    {
     "name": "stdout",
     "output_type": "stream",
     "text": [
      "Step: 14\n",
      "Metric: loss = 11.200305938720703\n",
      "Step: 14\n",
      "Metric: validation.head.optimistic.inverse_harmonic_mean_rank = 0.43977199252421306\n",
      "Metric: validation.tail.optimistic.inverse_harmonic_mean_rank = 0.014600526134782708\n",
      "Metric: validation.both.optimistic.inverse_harmonic_mean_rank = 0.22718625932949785\n",
      "Metric: validation.head.realistic.inverse_harmonic_mean_rank = 0.00637004803866148\n",
      "Metric: validation.tail.realistic.inverse_harmonic_mean_rank = 0.01361122354865074\n",
      "Metric: validation.both.realistic.inverse_harmonic_mean_rank = 0.009990634396672249\n",
      "Metric: validation.head.pessimistic.inverse_harmonic_mean_rank = 0.003790758244097075\n",
      "Metric: validation.tail.pessimistic.inverse_harmonic_mean_rank = 0.01307135543192532\n",
      "Metric: validation.both.pessimistic.inverse_harmonic_mean_rank = 0.008431056838011198\n",
      "Metric: validation.head.optimistic.hits_at_1 = 0.4134078212290503\n",
      "Metric: validation.tail.optimistic.hits_at_1 = 0.0\n",
      "Metric: validation.both.optimistic.hits_at_1 = 0.20670391061452514\n",
      "Metric: validation.head.realistic.hits_at_1 = 0.0\n",
      "Metric: validation.tail.realistic.hits_at_1 = 0.0\n",
      "Metric: validation.both.realistic.hits_at_1 = 0.0\n",
      "Metric: validation.head.pessimistic.hits_at_1 = 0.0\n",
      "Metric: validation.tail.pessimistic.hits_at_1 = 0.0\n",
      "Metric: validation.both.pessimistic.hits_at_1 = 0.0\n",
      "Metric: validation.head.optimistic.hits_at_3 = 0.41899441340782123\n",
      "Metric: validation.tail.optimistic.hits_at_3 = 0.01899441340782123\n",
      "Metric: validation.both.optimistic.hits_at_3 = 0.21899441340782122\n",
      "Metric: validation.head.realistic.hits_at_3 = 0.0\n",
      "Metric: validation.tail.realistic.hits_at_3 = 0.01675977653631285\n",
      "Metric: validation.both.realistic.hits_at_3 = 0.008379888268156424\n",
      "Metric: validation.head.pessimistic.hits_at_3 = 0.0\n",
      "Metric: validation.tail.pessimistic.hits_at_3 = 0.013407821229050279\n",
      "Metric: validation.both.pessimistic.hits_at_3 = 0.0067039106145251395\n",
      "Metric: validation.head.optimistic.hits_at_5 = 0.45363128491620114\n",
      "Metric: validation.tail.optimistic.hits_at_5 = 0.02346368715083799\n",
      "Metric: validation.both.optimistic.hits_at_5 = 0.23854748603351955\n",
      "Metric: validation.head.realistic.hits_at_5 = 0.0\n",
      "Metric: validation.tail.realistic.hits_at_5 = 0.021229050279329607\n",
      "Metric: validation.both.realistic.hits_at_5 = 0.010614525139664804\n",
      "Metric: validation.head.pessimistic.hits_at_5 = 0.0\n",
      "Metric: validation.tail.pessimistic.hits_at_5 = 0.02011173184357542\n",
      "Metric: validation.both.pessimistic.hits_at_5 = 0.01005586592178771\n",
      "Metric: validation.head.optimistic.hits_at_10 = 0.5139664804469274\n",
      "Metric: validation.tail.optimistic.hits_at_10 = 0.027932960893854747\n",
      "Metric: validation.both.optimistic.hits_at_10 = 0.2709497206703911\n",
      "Metric: validation.head.realistic.hits_at_10 = 0.00782122905027933\n",
      "Metric: validation.tail.realistic.hits_at_10 = 0.027932960893854747\n",
      "Metric: validation.both.realistic.hits_at_10 = 0.017877094972067038\n",
      "Metric: validation.head.pessimistic.hits_at_10 = 0.0\n",
      "Metric: validation.tail.pessimistic.hits_at_10 = 0.027932960893854747\n",
      "Metric: validation.both.pessimistic.hits_at_10 = 0.013966480446927373\n"
     ]
    },
    {
     "data": {
      "application/vnd.jupyter.widget-view+json": {
       "model_id": "",
       "version_major": 2,
       "version_minor": 0
      },
      "text/plain": [
       "Training batches on cuda:0:   0%|          | 0/1 [00:00<?, ?batch/s]"
      ]
     },
     "metadata": {},
     "output_type": "display_data"
    },
    {
     "name": "stdout",
     "output_type": "stream",
     "text": [
      "Step: 15\n",
      "Metric: loss = 11.065949440002441\n",
      "Step: 15\n",
      "Metric: validation.head.optimistic.inverse_harmonic_mean_rank = 0.4198131714892308\n",
      "Metric: validation.tail.optimistic.inverse_harmonic_mean_rank = 0.014222494516115196\n",
      "Metric: validation.both.optimistic.inverse_harmonic_mean_rank = 0.21701783300267302\n",
      "Metric: validation.head.realistic.inverse_harmonic_mean_rank = 0.00634099030867219\n",
      "Metric: validation.tail.realistic.inverse_harmonic_mean_rank = 0.013520678505301476\n",
      "Metric: validation.both.realistic.inverse_harmonic_mean_rank = 0.009930835105478764\n",
      "Metric: validation.head.pessimistic.inverse_harmonic_mean_rank = 0.0037884604626945845\n",
      "Metric: validation.tail.pessimistic.inverse_harmonic_mean_rank = 0.01307335557605333\n",
      "Metric: validation.both.pessimistic.inverse_harmonic_mean_rank = 0.008430908019373958\n",
      "Metric: validation.head.optimistic.hits_at_1 = 0.39217877094972065\n",
      "Metric: validation.tail.optimistic.hits_at_1 = 0.0\n",
      "Metric: validation.both.optimistic.hits_at_1 = 0.19608938547486032\n",
      "Metric: validation.head.realistic.hits_at_1 = 0.0\n",
      "Metric: validation.tail.realistic.hits_at_1 = 0.0\n",
      "Metric: validation.both.realistic.hits_at_1 = 0.0\n",
      "Metric: validation.head.pessimistic.hits_at_1 = 0.0\n",
      "Metric: validation.tail.pessimistic.hits_at_1 = 0.0\n",
      "Metric: validation.both.pessimistic.hits_at_1 = 0.0\n",
      "Metric: validation.head.optimistic.hits_at_3 = 0.39217877094972065\n",
      "Metric: validation.tail.optimistic.hits_at_3 = 0.017877094972067038\n",
      "Metric: validation.both.optimistic.hits_at_3 = 0.20502793296089386\n",
      "Metric: validation.head.realistic.hits_at_3 = 0.0\n",
      "Metric: validation.tail.realistic.hits_at_3 = 0.01452513966480447\n",
      "Metric: validation.both.realistic.hits_at_3 = 0.007262569832402235\n",
      "Metric: validation.head.pessimistic.hits_at_3 = 0.0\n",
      "Metric: validation.tail.pessimistic.hits_at_3 = 0.013407821229050279\n",
      "Metric: validation.both.pessimistic.hits_at_3 = 0.0067039106145251395\n",
      "Metric: validation.head.optimistic.hits_at_5 = 0.44581005586592176\n",
      "Metric: validation.tail.optimistic.hits_at_5 = 0.02346368715083799\n",
      "Metric: validation.both.optimistic.hits_at_5 = 0.2346368715083799\n",
      "Metric: validation.head.realistic.hits_at_5 = 0.0\n",
      "Metric: validation.tail.realistic.hits_at_5 = 0.0223463687150838\n",
      "Metric: validation.both.realistic.hits_at_5 = 0.0111731843575419\n",
      "Metric: validation.head.pessimistic.hits_at_5 = 0.0\n",
      "Metric: validation.tail.pessimistic.hits_at_5 = 0.02011173184357542\n",
      "Metric: validation.both.pessimistic.hits_at_5 = 0.01005586592178771\n",
      "Metric: validation.head.optimistic.hits_at_10 = 0.5072625698324023\n",
      "Metric: validation.tail.optimistic.hits_at_10 = 0.02905027932960894\n",
      "Metric: validation.both.optimistic.hits_at_10 = 0.2681564245810056\n",
      "Metric: validation.head.realistic.hits_at_10 = 0.00782122905027933\n",
      "Metric: validation.tail.realistic.hits_at_10 = 0.02905027932960894\n",
      "Metric: validation.both.realistic.hits_at_10 = 0.018435754189944135\n",
      "Metric: validation.head.pessimistic.hits_at_10 = 0.0\n",
      "Metric: validation.tail.pessimistic.hits_at_10 = 0.02905027932960894\n",
      "Metric: validation.both.pessimistic.hits_at_10 = 0.01452513966480447\n"
     ]
    },
    {
     "data": {
      "application/vnd.jupyter.widget-view+json": {
       "model_id": "",
       "version_major": 2,
       "version_minor": 0
      },
      "text/plain": [
       "Training batches on cuda:0:   0%|          | 0/1 [00:00<?, ?batch/s]"
      ]
     },
     "metadata": {},
     "output_type": "display_data"
    },
    {
     "name": "stdout",
     "output_type": "stream",
     "text": [
      "Step: 16\n",
      "Metric: loss = 10.92365837097168\n",
      "Step: 16\n",
      "Metric: validation.head.optimistic.inverse_harmonic_mean_rank = 0.4063511702859462\n",
      "Metric: validation.tail.optimistic.inverse_harmonic_mean_rank = 0.014030874446794399\n",
      "Metric: validation.both.optimistic.inverse_harmonic_mean_rank = 0.2101910223663703\n",
      "Metric: validation.head.realistic.inverse_harmonic_mean_rank = 0.006311353761702776\n",
      "Metric: validation.tail.realistic.inverse_harmonic_mean_rank = 0.013160773552954195\n",
      "Metric: validation.both.realistic.inverse_harmonic_mean_rank = 0.00973606389015913\n",
      "Metric: validation.head.pessimistic.inverse_harmonic_mean_rank = 0.0037830255691050935\n",
      "Metric: validation.tail.pessimistic.inverse_harmonic_mean_rank = 0.012575288740240132\n",
      "Metric: validation.both.pessimistic.inverse_harmonic_mean_rank = 0.008179157154672613\n",
      "Metric: validation.head.optimistic.hits_at_1 = 0.3776536312849162\n",
      "Metric: validation.tail.optimistic.hits_at_1 = 0.0\n",
      "Metric: validation.both.optimistic.hits_at_1 = 0.1888268156424581\n",
      "Metric: validation.head.realistic.hits_at_1 = 0.0\n",
      "Metric: validation.tail.realistic.hits_at_1 = 0.0\n",
      "Metric: validation.both.realistic.hits_at_1 = 0.0\n",
      "Metric: validation.head.pessimistic.hits_at_1 = 0.0\n",
      "Metric: validation.tail.pessimistic.hits_at_1 = 0.0\n",
      "Metric: validation.both.pessimistic.hits_at_1 = 0.0\n",
      "Metric: validation.head.optimistic.hits_at_3 = 0.3776536312849162\n",
      "Metric: validation.tail.optimistic.hits_at_3 = 0.01564245810055866\n",
      "Metric: validation.both.optimistic.hits_at_3 = 0.19664804469273742\n",
      "Metric: validation.head.realistic.hits_at_3 = 0.0\n",
      "Metric: validation.tail.realistic.hits_at_3 = 0.012290502793296089\n",
      "Metric: validation.both.realistic.hits_at_3 = 0.006145251396648044\n",
      "Metric: validation.head.pessimistic.hits_at_3 = 0.0\n",
      "Metric: validation.tail.pessimistic.hits_at_3 = 0.012290502793296089\n",
      "Metric: validation.both.pessimistic.hits_at_3 = 0.006145251396648044\n",
      "Metric: validation.head.optimistic.hits_at_5 = 0.4301675977653631\n",
      "Metric: validation.tail.optimistic.hits_at_5 = 0.024581005586592177\n",
      "Metric: validation.both.optimistic.hits_at_5 = 0.22737430167597766\n",
      "Metric: validation.head.realistic.hits_at_5 = 0.0\n",
      "Metric: validation.tail.realistic.hits_at_5 = 0.021229050279329607\n",
      "Metric: validation.both.realistic.hits_at_5 = 0.010614525139664804\n",
      "Metric: validation.head.pessimistic.hits_at_5 = 0.0\n",
      "Metric: validation.tail.pessimistic.hits_at_5 = 0.021229050279329607\n",
      "Metric: validation.both.pessimistic.hits_at_5 = 0.010614525139664804\n",
      "Metric: validation.head.optimistic.hits_at_10 = 0.5027932960893855\n",
      "Metric: validation.tail.optimistic.hits_at_10 = 0.02905027932960894\n",
      "Metric: validation.both.optimistic.hits_at_10 = 0.2659217877094972\n",
      "Metric: validation.head.realistic.hits_at_10 = 0.00782122905027933\n",
      "Metric: validation.tail.realistic.hits_at_10 = 0.02905027932960894\n",
      "Metric: validation.both.realistic.hits_at_10 = 0.018435754189944135\n",
      "Metric: validation.head.pessimistic.hits_at_10 = 0.0\n",
      "Metric: validation.tail.pessimistic.hits_at_10 = 0.02905027932960894\n",
      "Metric: validation.both.pessimistic.hits_at_10 = 0.01452513966480447\n"
     ]
    },
    {
     "data": {
      "application/vnd.jupyter.widget-view+json": {
       "model_id": "",
       "version_major": 2,
       "version_minor": 0
      },
      "text/plain": [
       "Training batches on cuda:0:   0%|          | 0/1 [00:00<?, ?batch/s]"
      ]
     },
     "metadata": {},
     "output_type": "display_data"
    },
    {
     "name": "stdout",
     "output_type": "stream",
     "text": [
      "Step: 17\n",
      "Metric: loss = 10.819657325744629\n",
      "Step: 17\n",
      "Metric: validation.head.optimistic.inverse_harmonic_mean_rank = 0.40213106514291813\n",
      "Metric: validation.tail.optimistic.inverse_harmonic_mean_rank = 0.015356968371989512\n",
      "Metric: validation.both.optimistic.inverse_harmonic_mean_rank = 0.20874401675745374\n",
      "Metric: validation.head.realistic.inverse_harmonic_mean_rank = 0.00632129656150937\n",
      "Metric: validation.tail.realistic.inverse_harmonic_mean_rank = 0.013900602236390114\n",
      "Metric: validation.both.realistic.inverse_harmonic_mean_rank = 0.010110949166119099\n",
      "Metric: validation.head.pessimistic.inverse_harmonic_mean_rank = 0.0037977391066305365\n",
      "Metric: validation.tail.pessimistic.inverse_harmonic_mean_rank = 0.013002568120903174\n",
      "Metric: validation.both.pessimistic.inverse_harmonic_mean_rank = 0.008400153613766856\n",
      "Metric: validation.head.optimistic.hits_at_1 = 0.37206703910614525\n",
      "Metric: validation.tail.optimistic.hits_at_1 = 0.0\n",
      "Metric: validation.both.optimistic.hits_at_1 = 0.18603351955307262\n",
      "Metric: validation.head.realistic.hits_at_1 = 0.0\n",
      "Metric: validation.tail.realistic.hits_at_1 = 0.0\n",
      "Metric: validation.both.realistic.hits_at_1 = 0.0\n",
      "Metric: validation.head.pessimistic.hits_at_1 = 0.0\n",
      "Metric: validation.tail.pessimistic.hits_at_1 = 0.0\n",
      "Metric: validation.both.pessimistic.hits_at_1 = 0.0\n",
      "Metric: validation.head.optimistic.hits_at_3 = 0.37206703910614525\n",
      "Metric: validation.tail.optimistic.hits_at_3 = 0.0223463687150838\n",
      "Metric: validation.both.optimistic.hits_at_3 = 0.1972067039106145\n",
      "Metric: validation.head.realistic.hits_at_3 = 0.0\n",
      "Metric: validation.tail.realistic.hits_at_3 = 0.01564245810055866\n",
      "Metric: validation.both.realistic.hits_at_3 = 0.00782122905027933\n",
      "Metric: validation.head.pessimistic.hits_at_3 = 0.0\n",
      "Metric: validation.tail.pessimistic.hits_at_3 = 0.013407821229050279\n",
      "Metric: validation.both.pessimistic.hits_at_3 = 0.0067039106145251395\n",
      "Metric: validation.head.optimistic.hits_at_5 = 0.4301675977653631\n",
      "Metric: validation.tail.optimistic.hits_at_5 = 0.02569832402234637\n",
      "Metric: validation.both.optimistic.hits_at_5 = 0.22793296089385476\n",
      "Metric: validation.head.realistic.hits_at_5 = 0.0\n",
      "Metric: validation.tail.realistic.hits_at_5 = 0.024581005586592177\n",
      "Metric: validation.both.realistic.hits_at_5 = 0.012290502793296089\n",
      "Metric: validation.head.pessimistic.hits_at_5 = 0.0\n",
      "Metric: validation.tail.pessimistic.hits_at_5 = 0.024581005586592177\n",
      "Metric: validation.both.pessimistic.hits_at_5 = 0.012290502793296089\n",
      "Metric: validation.head.optimistic.hits_at_10 = 0.5027932960893855\n",
      "Metric: validation.tail.optimistic.hits_at_10 = 0.02905027932960894\n",
      "Metric: validation.both.optimistic.hits_at_10 = 0.2659217877094972\n",
      "Metric: validation.head.realistic.hits_at_10 = 0.00782122905027933\n",
      "Metric: validation.tail.realistic.hits_at_10 = 0.027932960893854747\n",
      "Metric: validation.both.realistic.hits_at_10 = 0.017877094972067038\n",
      "Metric: validation.head.pessimistic.hits_at_10 = 0.0\n",
      "Metric: validation.tail.pessimistic.hits_at_10 = 0.027932960893854747\n",
      "Metric: validation.both.pessimistic.hits_at_10 = 0.013966480446927373\n"
     ]
    },
    {
     "data": {
      "application/vnd.jupyter.widget-view+json": {
       "model_id": "",
       "version_major": 2,
       "version_minor": 0
      },
      "text/plain": [
       "Training batches on cuda:0:   0%|          | 0/1 [00:00<?, ?batch/s]"
      ]
     },
     "metadata": {},
     "output_type": "display_data"
    },
    {
     "name": "stdout",
     "output_type": "stream",
     "text": [
      "Step: 18\n",
      "Metric: loss = 10.689016342163086\n",
      "Step: 18\n",
      "Metric: validation.head.optimistic.inverse_harmonic_mean_rank = 0.39525662418860297\n",
      "Metric: validation.tail.optimistic.inverse_harmonic_mean_rank = 0.014027690638969578\n",
      "Metric: validation.both.optimistic.inverse_harmonic_mean_rank = 0.20464215741378627\n",
      "Metric: validation.head.realistic.inverse_harmonic_mean_rank = 0.00626042066141963\n",
      "Metric: validation.tail.realistic.inverse_harmonic_mean_rank = 0.012813404202461243\n",
      "Metric: validation.both.realistic.inverse_harmonic_mean_rank = 0.009536911733448505\n",
      "Metric: validation.head.pessimistic.inverse_harmonic_mean_rank = 0.003776381600731687\n",
      "Metric: validation.tail.pessimistic.inverse_harmonic_mean_rank = 0.012212782708615135\n",
      "Metric: validation.both.pessimistic.inverse_harmonic_mean_rank = 0.007994582154673411\n",
      "Metric: validation.head.optimistic.hits_at_1 = 0.37094972067039106\n",
      "Metric: validation.tail.optimistic.hits_at_1 = 0.0\n",
      "Metric: validation.both.optimistic.hits_at_1 = 0.18547486033519553\n",
      "Metric: validation.head.realistic.hits_at_1 = 0.0\n",
      "Metric: validation.tail.realistic.hits_at_1 = 0.0\n",
      "Metric: validation.both.realistic.hits_at_1 = 0.0\n",
      "Metric: validation.head.pessimistic.hits_at_1 = 0.0\n",
      "Metric: validation.tail.pessimistic.hits_at_1 = 0.0\n",
      "Metric: validation.both.pessimistic.hits_at_1 = 0.0\n",
      "Metric: validation.head.optimistic.hits_at_3 = 0.37094972067039106\n",
      "Metric: validation.tail.optimistic.hits_at_3 = 0.01675977653631285\n",
      "Metric: validation.both.optimistic.hits_at_3 = 0.19385474860335195\n",
      "Metric: validation.head.realistic.hits_at_3 = 0.0\n",
      "Metric: validation.tail.realistic.hits_at_3 = 0.0111731843575419\n",
      "Metric: validation.both.realistic.hits_at_3 = 0.00558659217877095\n",
      "Metric: validation.head.pessimistic.hits_at_3 = 0.0\n",
      "Metric: validation.tail.pessimistic.hits_at_3 = 0.0111731843575419\n",
      "Metric: validation.both.pessimistic.hits_at_3 = 0.00558659217877095\n",
      "Metric: validation.head.optimistic.hits_at_5 = 0.39217877094972065\n",
      "Metric: validation.tail.optimistic.hits_at_5 = 0.024581005586592177\n",
      "Metric: validation.both.optimistic.hits_at_5 = 0.20837988826815643\n",
      "Metric: validation.head.realistic.hits_at_5 = 0.0\n",
      "Metric: validation.tail.realistic.hits_at_5 = 0.01899441340782123\n",
      "Metric: validation.both.realistic.hits_at_5 = 0.009497206703910615\n",
      "Metric: validation.head.pessimistic.hits_at_5 = 0.0\n",
      "Metric: validation.tail.pessimistic.hits_at_5 = 0.013407821229050279\n",
      "Metric: validation.both.pessimistic.hits_at_5 = 0.0067039106145251395\n",
      "Metric: validation.head.optimistic.hits_at_10 = 0.47039106145251397\n",
      "Metric: validation.tail.optimistic.hits_at_10 = 0.02905027932960894\n",
      "Metric: validation.both.optimistic.hits_at_10 = 0.24972067039106144\n",
      "Metric: validation.head.realistic.hits_at_10 = 0.00782122905027933\n",
      "Metric: validation.tail.realistic.hits_at_10 = 0.027932960893854747\n",
      "Metric: validation.both.realistic.hits_at_10 = 0.017877094972067038\n",
      "Metric: validation.head.pessimistic.hits_at_10 = 0.0\n",
      "Metric: validation.tail.pessimistic.hits_at_10 = 0.027932960893854747\n",
      "Metric: validation.both.pessimistic.hits_at_10 = 0.013966480446927373\n"
     ]
    },
    {
     "data": {
      "application/vnd.jupyter.widget-view+json": {
       "model_id": "",
       "version_major": 2,
       "version_minor": 0
      },
      "text/plain": [
       "Training batches on cuda:0:   0%|          | 0/1 [00:00<?, ?batch/s]"
      ]
     },
     "metadata": {},
     "output_type": "display_data"
    },
    {
     "name": "stdout",
     "output_type": "stream",
     "text": [
      "Step: 19\n",
      "Metric: loss = 10.542724609375\n",
      "Step: 19\n",
      "Metric: validation.head.optimistic.inverse_harmonic_mean_rank = 0.38855289387243047\n",
      "Metric: validation.tail.optimistic.inverse_harmonic_mean_rank = 0.013575497212160734\n",
      "Metric: validation.both.optimistic.inverse_harmonic_mean_rank = 0.2010641955422956\n",
      "Metric: validation.head.realistic.inverse_harmonic_mean_rank = 0.0061659421771764755\n",
      "Metric: validation.tail.realistic.inverse_harmonic_mean_rank = 0.012757289223372938\n",
      "Metric: validation.both.realistic.inverse_harmonic_mean_rank = 0.009461616165935993\n",
      "Metric: validation.head.pessimistic.inverse_harmonic_mean_rank = 0.0037572141715780942\n",
      "Metric: validation.tail.pessimistic.inverse_harmonic_mean_rank = 0.01222757789918865\n",
      "Metric: validation.both.pessimistic.inverse_harmonic_mean_rank = 0.007992396035383374\n",
      "Metric: validation.head.optimistic.hits_at_1 = 0.37094972067039106\n",
      "Metric: validation.tail.optimistic.hits_at_1 = 0.0\n",
      "Metric: validation.both.optimistic.hits_at_1 = 0.18547486033519553\n",
      "Metric: validation.head.realistic.hits_at_1 = 0.0\n",
      "Metric: validation.tail.realistic.hits_at_1 = 0.0\n",
      "Metric: validation.both.realistic.hits_at_1 = 0.0\n",
      "Metric: validation.head.pessimistic.hits_at_1 = 0.0\n",
      "Metric: validation.tail.pessimistic.hits_at_1 = 0.0\n",
      "Metric: validation.both.pessimistic.hits_at_1 = 0.0\n",
      "Metric: validation.head.optimistic.hits_at_3 = 0.37094972067039106\n",
      "Metric: validation.tail.optimistic.hits_at_3 = 0.01564245810055866\n",
      "Metric: validation.both.optimistic.hits_at_3 = 0.19329608938547485\n",
      "Metric: validation.head.realistic.hits_at_3 = 0.0\n",
      "Metric: validation.tail.realistic.hits_at_3 = 0.012290502793296089\n",
      "Metric: validation.both.realistic.hits_at_3 = 0.006145251396648044\n",
      "Metric: validation.head.pessimistic.hits_at_3 = 0.0\n",
      "Metric: validation.tail.pessimistic.hits_at_3 = 0.0111731843575419\n",
      "Metric: validation.both.pessimistic.hits_at_3 = 0.00558659217877095\n",
      "Metric: validation.head.optimistic.hits_at_5 = 0.37206703910614525\n",
      "Metric: validation.tail.optimistic.hits_at_5 = 0.02011173184357542\n",
      "Metric: validation.both.optimistic.hits_at_5 = 0.19608938547486032\n",
      "Metric: validation.head.realistic.hits_at_5 = 0.0\n",
      "Metric: validation.tail.realistic.hits_at_5 = 0.02011173184357542\n",
      "Metric: validation.both.realistic.hits_at_5 = 0.01005586592178771\n",
      "Metric: validation.head.pessimistic.hits_at_5 = 0.0\n",
      "Metric: validation.tail.pessimistic.hits_at_5 = 0.01899441340782123\n",
      "Metric: validation.both.pessimistic.hits_at_5 = 0.009497206703910615\n",
      "Metric: validation.head.optimistic.hits_at_10 = 0.4212290502793296\n",
      "Metric: validation.tail.optimistic.hits_at_10 = 0.027932960893854747\n",
      "Metric: validation.both.optimistic.hits_at_10 = 0.2245810055865922\n",
      "Metric: validation.head.realistic.hits_at_10 = 0.00782122905027933\n",
      "Metric: validation.tail.realistic.hits_at_10 = 0.027932960893854747\n",
      "Metric: validation.both.realistic.hits_at_10 = 0.017877094972067038\n",
      "Metric: validation.head.pessimistic.hits_at_10 = 0.0\n",
      "Metric: validation.tail.pessimistic.hits_at_10 = 0.027932960893854747\n",
      "Metric: validation.both.pessimistic.hits_at_10 = 0.013966480446927373\n"
     ]
    },
    {
     "data": {
      "application/vnd.jupyter.widget-view+json": {
       "model_id": "",
       "version_major": 2,
       "version_minor": 0
      },
      "text/plain": [
       "Training batches on cuda:0:   0%|          | 0/1 [00:00<?, ?batch/s]"
      ]
     },
     "metadata": {},
     "output_type": "display_data"
    },
    {
     "name": "stdout",
     "output_type": "stream",
     "text": [
      "Step: 20\n",
      "Metric: loss = 10.43466567993164\n",
      "Step: 20\n",
      "Metric: validation.head.optimistic.inverse_harmonic_mean_rank = 0.38565977701597903\n",
      "Metric: validation.tail.optimistic.inverse_harmonic_mean_rank = 0.014932490307457134\n",
      "Metric: validation.both.optimistic.inverse_harmonic_mean_rank = 0.20029613366171806\n",
      "Metric: validation.head.realistic.inverse_harmonic_mean_rank = 0.006099728401750327\n",
      "Metric: validation.tail.realistic.inverse_harmonic_mean_rank = 0.014053122140467167\n",
      "Metric: validation.both.realistic.inverse_harmonic_mean_rank = 0.010076425038278103\n",
      "Metric: validation.head.pessimistic.inverse_harmonic_mean_rank = 0.0037420686898587685\n",
      "Metric: validation.tail.pessimistic.inverse_harmonic_mean_rank = 0.013459659608056876\n",
      "Metric: validation.both.pessimistic.inverse_harmonic_mean_rank = 0.008600864148957823\n",
      "Metric: validation.head.optimistic.hits_at_1 = 0.37094972067039106\n",
      "Metric: validation.tail.optimistic.hits_at_1 = 0.0\n",
      "Metric: validation.both.optimistic.hits_at_1 = 0.18547486033519553\n",
      "Metric: validation.head.realistic.hits_at_1 = 0.0\n",
      "Metric: validation.tail.realistic.hits_at_1 = 0.0\n",
      "Metric: validation.both.realistic.hits_at_1 = 0.0\n",
      "Metric: validation.head.pessimistic.hits_at_1 = 0.0\n",
      "Metric: validation.tail.pessimistic.hits_at_1 = 0.0\n",
      "Metric: validation.both.pessimistic.hits_at_1 = 0.0\n",
      "Metric: validation.head.optimistic.hits_at_3 = 0.37094972067039106\n",
      "Metric: validation.tail.optimistic.hits_at_3 = 0.017877094972067038\n",
      "Metric: validation.both.optimistic.hits_at_3 = 0.19441340782122904\n",
      "Metric: validation.head.realistic.hits_at_3 = 0.0\n",
      "Metric: validation.tail.realistic.hits_at_3 = 0.01675977653631285\n",
      "Metric: validation.both.realistic.hits_at_3 = 0.008379888268156424\n",
      "Metric: validation.head.pessimistic.hits_at_3 = 0.0\n",
      "Metric: validation.tail.pessimistic.hits_at_3 = 0.01675977653631285\n",
      "Metric: validation.both.pessimistic.hits_at_3 = 0.008379888268156424\n",
      "Metric: validation.head.optimistic.hits_at_5 = 0.37094972067039106\n",
      "Metric: validation.tail.optimistic.hits_at_5 = 0.02569832402234637\n",
      "Metric: validation.both.optimistic.hits_at_5 = 0.19832402234636873\n",
      "Metric: validation.head.realistic.hits_at_5 = 0.0\n",
      "Metric: validation.tail.realistic.hits_at_5 = 0.024581005586592177\n",
      "Metric: validation.both.realistic.hits_at_5 = 0.012290502793296089\n",
      "Metric: validation.head.pessimistic.hits_at_5 = 0.0\n",
      "Metric: validation.tail.pessimistic.hits_at_5 = 0.02011173184357542\n",
      "Metric: validation.both.pessimistic.hits_at_5 = 0.01005586592178771\n",
      "Metric: validation.head.optimistic.hits_at_10 = 0.4011173184357542\n",
      "Metric: validation.tail.optimistic.hits_at_10 = 0.027932960893854747\n",
      "Metric: validation.both.optimistic.hits_at_10 = 0.21452513966480447\n",
      "Metric: validation.head.realistic.hits_at_10 = 0.00782122905027933\n",
      "Metric: validation.tail.realistic.hits_at_10 = 0.027932960893854747\n",
      "Metric: validation.both.realistic.hits_at_10 = 0.017877094972067038\n",
      "Metric: validation.head.pessimistic.hits_at_10 = 0.0\n",
      "Metric: validation.tail.pessimistic.hits_at_10 = 0.027932960893854747\n",
      "Metric: validation.both.pessimistic.hits_at_10 = 0.013966480446927373\n"
     ]
    },
    {
     "data": {
      "application/vnd.jupyter.widget-view+json": {
       "model_id": "",
       "version_major": 2,
       "version_minor": 0
      },
      "text/plain": [
       "Training batches on cuda:0:   0%|          | 0/1 [00:00<?, ?batch/s]"
      ]
     },
     "metadata": {},
     "output_type": "display_data"
    },
    {
     "name": "stdout",
     "output_type": "stream",
     "text": [
      "Step: 21\n",
      "Metric: loss = 10.313801765441895\n",
      "Step: 21\n",
      "Metric: validation.head.optimistic.inverse_harmonic_mean_rank = 0.3846653832676549\n",
      "Metric: validation.tail.optimistic.inverse_harmonic_mean_rank = 0.015175542539807676\n",
      "Metric: validation.both.optimistic.inverse_harmonic_mean_rank = 0.19992046290373133\n",
      "Metric: validation.head.realistic.inverse_harmonic_mean_rank = 0.006076041609048843\n",
      "Metric: validation.tail.realistic.inverse_harmonic_mean_rank = 0.013636280782520773\n",
      "Metric: validation.both.realistic.inverse_harmonic_mean_rank = 0.00985616073012352\n",
      "Metric: validation.head.pessimistic.inverse_harmonic_mean_rank = 0.0037350114341187673\n",
      "Metric: validation.tail.pessimistic.inverse_harmonic_mean_rank = 0.012754188848894732\n",
      "Metric: validation.both.pessimistic.inverse_harmonic_mean_rank = 0.00824460014150675\n",
      "Metric: validation.head.optimistic.hits_at_1 = 0.37094972067039106\n",
      "Metric: validation.tail.optimistic.hits_at_1 = 0.0\n",
      "Metric: validation.both.optimistic.hits_at_1 = 0.18547486033519553\n",
      "Metric: validation.head.realistic.hits_at_1 = 0.0\n",
      "Metric: validation.tail.realistic.hits_at_1 = 0.0\n",
      "Metric: validation.both.realistic.hits_at_1 = 0.0\n",
      "Metric: validation.head.pessimistic.hits_at_1 = 0.0\n",
      "Metric: validation.tail.pessimistic.hits_at_1 = 0.0\n",
      "Metric: validation.both.pessimistic.hits_at_1 = 0.0\n",
      "Metric: validation.head.optimistic.hits_at_3 = 0.37094972067039106\n",
      "Metric: validation.tail.optimistic.hits_at_3 = 0.021229050279329607\n",
      "Metric: validation.both.optimistic.hits_at_3 = 0.19608938547486032\n",
      "Metric: validation.head.realistic.hits_at_3 = 0.0\n",
      "Metric: validation.tail.realistic.hits_at_3 = 0.01452513966480447\n",
      "Metric: validation.both.realistic.hits_at_3 = 0.007262569832402235\n",
      "Metric: validation.head.pessimistic.hits_at_3 = 0.0\n",
      "Metric: validation.tail.pessimistic.hits_at_3 = 0.01452513966480447\n",
      "Metric: validation.both.pessimistic.hits_at_3 = 0.007262569832402235\n",
      "Metric: validation.head.optimistic.hits_at_5 = 0.37094972067039106\n",
      "Metric: validation.tail.optimistic.hits_at_5 = 0.02569832402234637\n",
      "Metric: validation.both.optimistic.hits_at_5 = 0.19832402234636873\n",
      "Metric: validation.head.realistic.hits_at_5 = 0.0\n",
      "Metric: validation.tail.realistic.hits_at_5 = 0.02346368715083799\n",
      "Metric: validation.both.realistic.hits_at_5 = 0.011731843575418994\n",
      "Metric: validation.head.pessimistic.hits_at_5 = 0.0\n",
      "Metric: validation.tail.pessimistic.hits_at_5 = 0.017877094972067038\n",
      "Metric: validation.both.pessimistic.hits_at_5 = 0.008938547486033519\n",
      "Metric: validation.head.optimistic.hits_at_10 = 0.3888268156424581\n",
      "Metric: validation.tail.optimistic.hits_at_10 = 0.02905027932960894\n",
      "Metric: validation.both.optimistic.hits_at_10 = 0.20893854748603352\n",
      "Metric: validation.head.realistic.hits_at_10 = 0.00782122905027933\n",
      "Metric: validation.tail.realistic.hits_at_10 = 0.027932960893854747\n",
      "Metric: validation.both.realistic.hits_at_10 = 0.017877094972067038\n",
      "Metric: validation.head.pessimistic.hits_at_10 = 0.0\n",
      "Metric: validation.tail.pessimistic.hits_at_10 = 0.027932960893854747\n",
      "Metric: validation.both.pessimistic.hits_at_10 = 0.013966480446927373\n"
     ]
    },
    {
     "data": {
      "application/vnd.jupyter.widget-view+json": {
       "model_id": "",
       "version_major": 2,
       "version_minor": 0
      },
      "text/plain": [
       "Training batches on cuda:0:   0%|          | 0/1 [00:00<?, ?batch/s]"
      ]
     },
     "metadata": {},
     "output_type": "display_data"
    },
    {
     "name": "stdout",
     "output_type": "stream",
     "text": [
      "Step: 22\n",
      "Metric: loss = 10.152822494506836\n",
      "Step: 22\n",
      "Metric: validation.head.optimistic.inverse_harmonic_mean_rank = 0.3831006613481834\n",
      "Metric: validation.tail.optimistic.inverse_harmonic_mean_rank = 0.013487232869306181\n",
      "Metric: validation.both.optimistic.inverse_harmonic_mean_rank = 0.1982939471087448\n",
      "Metric: validation.head.realistic.inverse_harmonic_mean_rank = 0.006031650118529797\n",
      "Metric: validation.tail.realistic.inverse_harmonic_mean_rank = 0.012972809374332428\n",
      "Metric: validation.both.realistic.inverse_harmonic_mean_rank = 0.009502229280769825\n",
      "Metric: validation.head.pessimistic.inverse_harmonic_mean_rank = 0.0037292592687475958\n",
      "Metric: validation.tail.pessimistic.inverse_harmonic_mean_rank = 0.01263812635246381\n",
      "Metric: validation.both.pessimistic.inverse_harmonic_mean_rank = 0.008183692810605702\n",
      "Metric: validation.head.optimistic.hits_at_1 = 0.37094972067039106\n",
      "Metric: validation.tail.optimistic.hits_at_1 = 0.0\n",
      "Metric: validation.both.optimistic.hits_at_1 = 0.18547486033519553\n",
      "Metric: validation.head.realistic.hits_at_1 = 0.0\n",
      "Metric: validation.tail.realistic.hits_at_1 = 0.0\n",
      "Metric: validation.both.realistic.hits_at_1 = 0.0\n",
      "Metric: validation.head.pessimistic.hits_at_1 = 0.0\n",
      "Metric: validation.tail.pessimistic.hits_at_1 = 0.0\n",
      "Metric: validation.both.pessimistic.hits_at_1 = 0.0\n",
      "Metric: validation.head.optimistic.hits_at_3 = 0.37094972067039106\n",
      "Metric: validation.tail.optimistic.hits_at_3 = 0.01564245810055866\n",
      "Metric: validation.both.optimistic.hits_at_3 = 0.19329608938547485\n",
      "Metric: validation.head.realistic.hits_at_3 = 0.0\n",
      "Metric: validation.tail.realistic.hits_at_3 = 0.013407821229050279\n",
      "Metric: validation.both.realistic.hits_at_3 = 0.0067039106145251395\n",
      "Metric: validation.head.pessimistic.hits_at_3 = 0.0\n",
      "Metric: validation.tail.pessimistic.hits_at_3 = 0.012290502793296089\n",
      "Metric: validation.both.pessimistic.hits_at_3 = 0.006145251396648044\n",
      "Metric: validation.head.optimistic.hits_at_5 = 0.37094972067039106\n",
      "Metric: validation.tail.optimistic.hits_at_5 = 0.0223463687150838\n",
      "Metric: validation.both.optimistic.hits_at_5 = 0.19664804469273742\n",
      "Metric: validation.head.realistic.hits_at_5 = 0.0\n",
      "Metric: validation.tail.realistic.hits_at_5 = 0.0223463687150838\n",
      "Metric: validation.both.realistic.hits_at_5 = 0.0111731843575419\n",
      "Metric: validation.head.pessimistic.hits_at_5 = 0.0\n",
      "Metric: validation.tail.pessimistic.hits_at_5 = 0.01899441340782123\n",
      "Metric: validation.both.pessimistic.hits_at_5 = 0.009497206703910615\n",
      "Metric: validation.head.optimistic.hits_at_10 = 0.3776536312849162\n",
      "Metric: validation.tail.optimistic.hits_at_10 = 0.02905027932960894\n",
      "Metric: validation.both.optimistic.hits_at_10 = 0.20335195530726258\n",
      "Metric: validation.head.realistic.hits_at_10 = 0.00782122905027933\n",
      "Metric: validation.tail.realistic.hits_at_10 = 0.02905027932960894\n",
      "Metric: validation.both.realistic.hits_at_10 = 0.018435754189944135\n",
      "Metric: validation.head.pessimistic.hits_at_10 = 0.0\n",
      "Metric: validation.tail.pessimistic.hits_at_10 = 0.02905027932960894\n",
      "Metric: validation.both.pessimistic.hits_at_10 = 0.01452513966480447\n"
     ]
    },
    {
     "data": {
      "application/vnd.jupyter.widget-view+json": {
       "model_id": "",
       "version_major": 2,
       "version_minor": 0
      },
      "text/plain": [
       "Training batches on cuda:0:   0%|          | 0/1 [00:00<?, ?batch/s]"
      ]
     },
     "metadata": {},
     "output_type": "display_data"
    },
    {
     "name": "stdout",
     "output_type": "stream",
     "text": [
      "Step: 23\n",
      "Metric: loss = 10.05725383758545\n",
      "Step: 23\n",
      "Metric: validation.head.optimistic.inverse_harmonic_mean_rank = 0.38259136597141435\n",
      "Metric: validation.tail.optimistic.inverse_harmonic_mean_rank = 0.01315785436578016\n",
      "Metric: validation.both.optimistic.inverse_harmonic_mean_rank = 0.19787461016859723\n",
      "Metric: validation.head.realistic.inverse_harmonic_mean_rank = 0.006072917953133583\n",
      "Metric: validation.tail.realistic.inverse_harmonic_mean_rank = 0.01234837155789137\n",
      "Metric: validation.both.realistic.inverse_harmonic_mean_rank = 0.009210644289851189\n",
      "Metric: validation.head.pessimistic.inverse_harmonic_mean_rank = 0.0037807822523998613\n",
      "Metric: validation.tail.pessimistic.inverse_harmonic_mean_rank = 0.011829872548229396\n",
      "Metric: validation.both.pessimistic.inverse_harmonic_mean_rank = 0.007805327400314627\n",
      "Metric: validation.head.optimistic.hits_at_1 = 0.37094972067039106\n",
      "Metric: validation.tail.optimistic.hits_at_1 = 0.0\n",
      "Metric: validation.both.optimistic.hits_at_1 = 0.18547486033519553\n",
      "Metric: validation.head.realistic.hits_at_1 = 0.0\n",
      "Metric: validation.tail.realistic.hits_at_1 = 0.0\n",
      "Metric: validation.both.realistic.hits_at_1 = 0.0\n",
      "Metric: validation.head.pessimistic.hits_at_1 = 0.0\n",
      "Metric: validation.tail.pessimistic.hits_at_1 = 0.0\n",
      "Metric: validation.both.pessimistic.hits_at_1 = 0.0\n",
      "Metric: validation.head.optimistic.hits_at_3 = 0.37094972067039106\n",
      "Metric: validation.tail.optimistic.hits_at_3 = 0.01452513966480447\n",
      "Metric: validation.both.optimistic.hits_at_3 = 0.19273743016759776\n",
      "Metric: validation.head.realistic.hits_at_3 = 0.0\n",
      "Metric: validation.tail.realistic.hits_at_3 = 0.008938547486033519\n",
      "Metric: validation.both.realistic.hits_at_3 = 0.004469273743016759\n",
      "Metric: validation.head.pessimistic.hits_at_3 = 0.0\n",
      "Metric: validation.tail.pessimistic.hits_at_3 = 0.008938547486033519\n",
      "Metric: validation.both.pessimistic.hits_at_3 = 0.004469273743016759\n",
      "Metric: validation.head.optimistic.hits_at_5 = 0.37094972067039106\n",
      "Metric: validation.tail.optimistic.hits_at_5 = 0.0223463687150838\n",
      "Metric: validation.both.optimistic.hits_at_5 = 0.19664804469273742\n",
      "Metric: validation.head.realistic.hits_at_5 = 0.0\n",
      "Metric: validation.tail.realistic.hits_at_5 = 0.01899441340782123\n",
      "Metric: validation.both.realistic.hits_at_5 = 0.009497206703910615\n",
      "Metric: validation.head.pessimistic.hits_at_5 = 0.0\n",
      "Metric: validation.tail.pessimistic.hits_at_5 = 0.01675977653631285\n",
      "Metric: validation.both.pessimistic.hits_at_5 = 0.008379888268156424\n",
      "Metric: validation.head.optimistic.hits_at_10 = 0.37206703910614525\n",
      "Metric: validation.tail.optimistic.hits_at_10 = 0.02905027932960894\n",
      "Metric: validation.both.optimistic.hits_at_10 = 0.2005586592178771\n",
      "Metric: validation.head.realistic.hits_at_10 = 0.00782122905027933\n",
      "Metric: validation.tail.realistic.hits_at_10 = 0.02905027932960894\n",
      "Metric: validation.both.realistic.hits_at_10 = 0.018435754189944135\n",
      "Metric: validation.head.pessimistic.hits_at_10 = 0.0\n",
      "Metric: validation.tail.pessimistic.hits_at_10 = 0.02905027932960894\n",
      "Metric: validation.both.pessimistic.hits_at_10 = 0.01452513966480447\n"
     ]
    }
   ],
   "source": [
    "training_start = time.time()\n",
    "train_epoch =  training_loop.train(\n",
    "        triples_factory=dataset.transductive_training,\n",
    "        num_epochs=num_epochs,\n",
    "        stopper = stopper\n",
    "        \n",
    "    )\n",
    "training_duration = time.time() - training_start"
   ]
  },
  {
   "cell_type": "code",
   "execution_count": 15,
   "metadata": {},
   "outputs": [],
   "source": [
    "torch.save(model,f\"{model_name}/model.pth\")\n",
    "model = torch.load(f\"{model_name}/model.pth\")"
   ]
  },
  {
   "cell_type": "code",
   "execution_count": 16,
   "metadata": {},
   "outputs": [
    {
     "name": "stdout",
     "output_type": "stream",
     "text": [
      "Train error per epoch:\n",
      "            0\n",
      "0   12.901205\n",
      "1   12.735873\n",
      "2   12.634762\n",
      "3   12.510794\n",
      "4   12.349311\n",
      "5   12.218953\n",
      "6   12.101510\n",
      "7   11.964477\n",
      "8   11.835086\n",
      "9   11.736677\n",
      "10  11.566774\n",
      "11  11.433897\n",
      "12  11.290413\n",
      "13  11.200306\n",
      "14  11.065949\n",
      "15  10.923658\n",
      "16  10.819657\n",
      "17  10.689016\n",
      "18  10.542725\n",
      "19  10.434666\n",
      "20  10.313802\n",
      "21  10.152822\n",
      "22  10.057254\n"
     ]
    }
   ],
   "source": [
    "print(\"Train error per epoch:\")\n",
    "df = pd.DataFrame(train_epoch)\n",
    "print(df)\n",
    "df.to_csv(f\"{model_name}/{model_name}_train_error_per_epoch.csv\")"
   ]
  },
  {
   "cell_type": "code",
   "execution_count": 17,
   "metadata": {},
   "outputs": [
    {
     "name": "stdout",
     "output_type": "stream",
     "text": [
      "Train error\n"
     ]
    },
    {
     "data": {
      "application/vnd.jupyter.widget-view+json": {
       "model_id": "f0ffc7ac079042aaa4f8cf9fde20bc79",
       "version_major": 2,
       "version_minor": 0
      },
      "text/plain": [
       "Evaluating on cuda:0:   0%|          | 0.00/6.72k [00:00<?, ?triple/s]"
      ]
     },
     "metadata": {},
     "output_type": "display_data"
    },
    {
     "name": "stdout",
     "output_type": "stream",
     "text": [
      "head\n",
      "                            optimistic  realistic  pessimistic\n",
      "inverse_harmonic_mean_rank    0.677439   0.002254      0.00126\n",
      "hits_at_1                     0.675893   0.000000      0.00000\n",
      "hits_at_3                     0.676488   0.000000      0.00000\n",
      "hits_at_5                     0.676488   0.000000      0.00000\n",
      "hits_at_10                    0.676488   0.000000      0.00000\n",
      "tail\n",
      "                            optimistic  realistic  pessimistic\n",
      "inverse_harmonic_mean_rank    0.008683   0.008333     0.008102\n",
      "hits_at_1                     0.005208   0.005208     0.005208\n",
      "hits_at_3                     0.006399   0.006101     0.006101\n",
      "hits_at_5                     0.006994   0.006696     0.006101\n",
      "hits_at_10                    0.015030   0.008631     0.006994\n",
      "both\n",
      "                            optimistic  realistic  pessimistic\n",
      "inverse_harmonic_mean_rank    0.343061   0.005294     0.004681\n",
      "hits_at_1                     0.340551   0.002604     0.002604\n",
      "hits_at_3                     0.341443   0.003051     0.003051\n",
      "hits_at_5                     0.341741   0.003348     0.003051\n",
      "hits_at_10                    0.345759   0.004315     0.003497\n"
     ]
    }
   ],
   "source": [
    "training_evaluation_start = time.time()\n",
    "# train\n",
    "print(\"Train error\")\n",
    "show_metrics(train_evaluator.evaluate(\n",
    "        model=model,\n",
    "        mapped_triples=dataset.transductive_training.mapped_triples,\n",
    "        additional_filter_triples=[\n",
    "        dataset.transductive_training.mapped_triples,\n",
    "    ]\n",
    "    ).to_dict(),model_name,'train_metrics')\n",
    "training_evaluation_duration = time.time() - training_evaluation_start"
   ]
  },
  {
   "cell_type": "code",
   "execution_count": 18,
   "metadata": {},
   "outputs": [
    {
     "name": "stdout",
     "output_type": "stream",
     "text": [
      "Validation error\n"
     ]
    },
    {
     "data": {
      "application/vnd.jupyter.widget-view+json": {
       "model_id": "4e72e0dcf01749b8b75fc986761c5dfc",
       "version_major": 2,
       "version_minor": 0
      },
      "text/plain": [
       "Evaluating on cuda:0:   0%|          | 0.00/895 [00:00<?, ?triple/s]"
      ]
     },
     "metadata": {},
     "output_type": "display_data"
    },
    {
     "name": "stdout",
     "output_type": "stream",
     "text": [
      "head\n",
      "                            optimistic  realistic  pessimistic\n",
      "inverse_harmonic_mean_rank    0.588027   0.006420     0.003703\n",
      "hits_at_1                     0.584358   0.000000     0.000000\n",
      "hits_at_3                     0.585475   0.000000     0.000000\n",
      "hits_at_5                     0.585475   0.000000     0.000000\n",
      "hits_at_10                    0.585475   0.007821     0.000000\n",
      "tail\n",
      "                            optimistic  realistic  pessimistic\n",
      "inverse_harmonic_mean_rank    0.013511   0.012583     0.012113\n",
      "hits_at_1                     0.000000   0.000000     0.000000\n",
      "hits_at_3                     0.015642   0.012291     0.012291\n",
      "hits_at_5                     0.027933   0.021229     0.017877\n",
      "hits_at_10                    0.029050   0.029050     0.029050\n",
      "both\n",
      "                            optimistic  realistic  pessimistic\n",
      "inverse_harmonic_mean_rank    0.300769   0.009502     0.007908\n",
      "hits_at_1                     0.292179   0.000000     0.000000\n",
      "hits_at_3                     0.300559   0.006145     0.006145\n",
      "hits_at_5                     0.306704   0.010615     0.008939\n",
      "hits_at_10                    0.307263   0.018436     0.014525\n"
     ]
    }
   ],
   "source": [
    "validation_evaluation_start = time.time()\n",
    "# validation\n",
    "print(\"Validation error\")\n",
    "show_metrics(valid_evaluator.evaluate(\n",
    "        model=model,\n",
    "        mapped_triples=dataset.inductive_validation.mapped_triples,\n",
    "        additional_filter_triples=[\n",
    "            # filtering of other positive triples\n",
    "            dataset.inductive_validation.mapped_triples\n",
    "        ],\n",
    "    ).to_dict(),model_name,'validation_metrics')\n",
    "validation_evaluation_duration = time.time() - validation_evaluation_start"
   ]
  },
  {
   "cell_type": "code",
   "execution_count": 19,
   "metadata": {},
   "outputs": [
    {
     "name": "stdout",
     "output_type": "stream",
     "text": [
      "Test error\n"
     ]
    },
    {
     "data": {
      "application/vnd.jupyter.widget-view+json": {
       "model_id": "931050e85d884f82a8979e5b965836a9",
       "version_major": 2,
       "version_minor": 0
      },
      "text/plain": [
       "Evaluating on cuda:0:   0%|          | 0.00/1.14k [00:00<?, ?triple/s]"
      ]
     },
     "metadata": {},
     "output_type": "display_data"
    },
    {
     "name": "stdout",
     "output_type": "stream",
     "text": [
      "head\n",
      "                            optimistic  realistic  pessimistic\n",
      "inverse_harmonic_mean_rank    0.566521   0.006970     0.004001\n",
      "hits_at_1                     0.562390   0.000000     0.000000\n",
      "hits_at_3                     0.562390   0.000000     0.000000\n",
      "hits_at_5                     0.562390   0.000000     0.000000\n",
      "hits_at_10                    0.562390   0.009666     0.000000\n",
      "tail\n",
      "                            optimistic  realistic  pessimistic\n",
      "inverse_harmonic_mean_rank    0.014507   0.013669     0.013232\n",
      "hits_at_1                     0.004394   0.004394     0.004394\n",
      "hits_at_3                     0.014938   0.009666     0.009666\n",
      "hits_at_5                     0.019332   0.016696     0.012302\n",
      "hits_at_10                    0.023726   0.023726     0.023726\n",
      "both\n",
      "                            optimistic  realistic  pessimistic\n",
      "inverse_harmonic_mean_rank    0.290514   0.010320     0.008617\n",
      "hits_at_1                     0.283392   0.002197     0.002197\n",
      "hits_at_3                     0.288664   0.004833     0.004833\n",
      "hits_at_5                     0.290861   0.008348     0.006151\n",
      "hits_at_10                    0.293058   0.016696     0.011863\n"
     ]
    }
   ],
   "source": [
    "testing_evaluation_start = time.time()\n",
    "# result on the test set\n",
    "print(\"Test error\")\n",
    "show_metrics(test_evaluator.evaluate(\n",
    "        model=model,\n",
    "        mapped_triples=dataset.inductive_testing.mapped_triples,\n",
    "        additional_filter_triples=[\n",
    "            # filtering of other positive triples\n",
    "            dataset.inductive_validation.mapped_triples,\n",
    "        ],\n",
    "    ).to_dict(),model_name,'test_metrics')\n",
    "testing_evaluation_duration = time.time() - testing_evaluation_start"
   ]
  },
  {
   "cell_type": "code",
   "execution_count": 20,
   "metadata": {},
   "outputs": [],
   "source": [
    "infodict = {}\n",
    "infodict['device'] = model.device\n",
    "infodict['parameters bytes'] = model.num_parameter_bytes\n",
    "infodict['number parameters'] = model.num_parameters\n",
    "infodict['training duration'] = training_duration\n",
    "infodict['training evaluation duration'] = training_evaluation_duration\n",
    "infodict['validation evaluation duration'] = validation_evaluation_duration\n",
    "infodict['testing evaluation duration'] = testing_evaluation_duration\n",
    "infodict[\"Operating system name\"] = platform.system()\n",
    "infodict[\"Operating system version\"] = platform.release()\n",
    "infodict[\"Processor architecture\"] = platform.machine()\n",
    "infodict[\"Python version\"] = sys.version\n",
    "infodict[\"Processor model name\"] = cpuinfo.get_cpu_info()['brand_raw']\n",
    "infodict['Number cpu cores'] = os.cpu_count()\n",
    "infodict[\"Total physical memory\"] = psutil.virtual_memory().total"
   ]
  },
  {
   "cell_type": "code",
   "execution_count": 21,
   "metadata": {},
   "outputs": [],
   "source": [
    "\n",
    "output = subprocess.check_output(['nvidia-smi', '--query-gpu=name', '--format=csv'])\n",
    "output = output.decode('utf-8')  # convert byte string to regular string\n",
    "\n",
    "# split output into rows and remove header row\n",
    "rows = output.strip().split('\\n')[1:]\n",
    "\n",
    "# extract GPU names from each row\n",
    "gpu_names = []\n",
    "for row in rows:\n",
    "    name = row.strip()\n",
    "    gpu_names.append(name)\n",
    "\n",
    "infodict['GPU'] = gpu_names[0]\n"
   ]
  },
  {
   "cell_type": "code",
   "execution_count": 22,
   "metadata": {},
   "outputs": [],
   "source": [
    "infodict['loss'] = NSSALoss\n",
    "infodict['num_tokens'] = num_tokens\n",
    "infodict['embedding_dim'] = embedding_dim\n",
    "infodict['learning_rate'] = learning_rate\n",
    "infodict['optimizer'] = Adam\n",
    "infodict['num_epochs'] = num_epochs\n",
    "infodict['patience'] = patience"
   ]
  },
  {
   "cell_type": "code",
   "execution_count": 23,
   "metadata": {},
   "outputs": [
    {
     "name": "stdout",
     "output_type": "stream",
     "text": [
      "                              name  \\\n",
      "0                           device   \n",
      "1                 parameters bytes   \n",
      "2                number parameters   \n",
      "3                training duration   \n",
      "4     training evaluation duration   \n",
      "5   validation evaluation duration   \n",
      "6      testing evaluation duration   \n",
      "7            Operating system name   \n",
      "8         Operating system version   \n",
      "9           Processor architecture   \n",
      "10                  Python version   \n",
      "11            Processor model name   \n",
      "12                Number cpu cores   \n",
      "13           Total physical memory   \n",
      "14                             GPU   \n",
      "15                            loss   \n",
      "16                      num_tokens   \n",
      "17                   embedding_dim   \n",
      "18                   learning_rate   \n",
      "19                       optimizer   \n",
      "20                      num_epochs   \n",
      "21                        patience   \n",
      "\n",
      "                                                value  \n",
      "0                                              cuda:0  \n",
      "1                                               10400  \n",
      "2                                                2600  \n",
      "3                                             6.76461  \n",
      "4                                            3.780871  \n",
      "5                                            0.770135  \n",
      "6                                            1.007446  \n",
      "7                                               Linux  \n",
      "8                         3.10.0-1160.88.1.el7.x86_64  \n",
      "9                                              x86_64  \n",
      "10  3.10.9 (main, Mar  8 2023, 10:47:38) [GCC 11.2.0]  \n",
      "11           Intel(R) Xeon(R) Gold 6130 CPU @ 2.10GHz  \n",
      "12                                                 32  \n",
      "13                                        99980713984  \n",
      "14                                           Tesla T4  \n",
      "15                   <class 'pykeen.losses.NSSALoss'>  \n",
      "16                                                 20  \n",
      "17                                                200  \n",
      "18                                              0.001  \n",
      "19                    <class 'torch.optim.adam.Adam'>  \n",
      "20                                               2000  \n",
      "21                                                 20  \n"
     ]
    }
   ],
   "source": [
    "info_df = pd.DataFrame(columns=['name','value'], data = infodict.items())\n",
    "info_df.to_csv(f\"{model_name}/{model_name}_information.csv\")\n",
    "print(info_df)"
   ]
  },
  {
   "cell_type": "code",
   "execution_count": 24,
   "metadata": {},
   "outputs": [],
   "source": [
    "def zip_folder(folder_path, output_path):\n",
    "    with zipfile.ZipFile(output_path, 'w', zipfile.ZIP_DEFLATED) as zipf:\n",
    "        for root, dirs, files in os.walk(folder_path):\n",
    "            for file in files:\n",
    "                zipf.write(os.path.join(root, file))\n",
    "\n",
    "folder_path = model_name\n",
    "output_path = f'{model_name}.zip'\n",
    "\n",
    "zip_folder(folder_path, output_path)"
   ]
  },
  {
   "cell_type": "code",
   "execution_count": null,
   "metadata": {},
   "outputs": [],
   "source": []
  }
 ],
 "metadata": {
  "kernelspec": {
   "display_name": "thesis",
   "language": "python",
   "name": "thesis"
  },
  "language_info": {
   "codemirror_mode": {
    "name": "ipython",
    "version": 3
   },
   "file_extension": ".py",
   "mimetype": "text/x-python",
   "name": "python",
   "nbconvert_exporter": "python",
   "pygments_lexer": "ipython3",
   "version": "3.10.9"
  }
 },
 "nbformat": 4,
 "nbformat_minor": 5
}
