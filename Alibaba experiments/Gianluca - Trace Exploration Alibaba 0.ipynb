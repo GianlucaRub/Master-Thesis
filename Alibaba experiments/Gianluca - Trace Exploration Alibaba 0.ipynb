{
 "cells": [
  {
   "cell_type": "markdown",
   "id": "7c30e6b9",
   "metadata": {
    "pycharm": {
     "name": "#%% md\n"
    }
   },
   "source": [
    "In this notebook I am exploring the Alibaba dataset at trace level. I am using just one part of the dataset since it required a lot of time (9+ hours). Results are:\n",
    "\n",
    "Mean number of calls per trace:  40.4752271926195  standard deviation:  126.40080685607592\n",
    "\n",
    "Median number of calls per trace:  10.0\n",
    "\n",
    "Mean number of entities per trace:  11.421582149479718  standard deviation:  14.665507421840605\n",
    "\n",
    "Median number of entities per trace:  7.0"
   ]
  },
  {
   "cell_type": "code",
   "execution_count": 1,
   "id": "9208ea19",
   "metadata": {
    "pycharm": {
     "name": "#%%\n"
    }
   },
   "outputs": [],
   "source": [
    "import pandas as pd\n",
    "import numpy as np\n",
    "import os\n",
    "from statistics import mean,median,stdev\n",
    "import matplotlib.pyplot as plt\n",
    "import zipfile\n",
    "from tqdm import tqdm\n"
   ]
  },
  {
   "cell_type": "code",
   "execution_count": 2,
   "id": "bc03829c",
   "metadata": {
    "pycharm": {
     "name": "#%%\n"
    }
   },
   "outputs": [],
   "source": [
    "\n",
    "# Specify the path of the zip archive\n",
    "zip_file_path = 'MSCallGraph_0_traces_exploration.zip'\n",
    "\n",
    "# Create a ZipFile object\n",
    "zip_file = zipfile.ZipFile(zip_file_path)\n",
    "\n",
    "# Extract all the files in the archive to a folder\n",
    "zip_file.extractall('')\n",
    "\n",
    "# Close the ZipFile object\n",
    "zip_file.close()\n"
   ]
  },
  {
   "cell_type": "code",
   "execution_count": 3,
   "id": "4b498c55",
   "metadata": {
    "pycharm": {
     "name": "#%%\n"
    }
   },
   "outputs": [
    {
     "data": {
      "text/html": [
       "<div>\n",
       "<style scoped>\n",
       "    .dataframe tbody tr th:only-of-type {\n",
       "        vertical-align: middle;\n",
       "    }\n",
       "\n",
       "    .dataframe tbody tr th {\n",
       "        vertical-align: top;\n",
       "    }\n",
       "\n",
       "    .dataframe thead th {\n",
       "        text-align: right;\n",
       "    }\n",
       "</style>\n",
       "<table border=\"1\" class=\"dataframe\">\n",
       "  <thead>\n",
       "    <tr style=\"text-align: right;\">\n",
       "      <th></th>\n",
       "      <th>traceid</th>\n",
       "      <th>um</th>\n",
       "      <th>dm</th>\n",
       "    </tr>\n",
       "  </thead>\n",
       "  <tbody>\n",
       "    <tr>\n",
       "      <th>0</th>\n",
       "      <td>0b133c1915919238193454000e5d37</td>\n",
       "      <td>5cca70246befb1f4c9546d2912b9419dee54439218efa5...</td>\n",
       "      <td>b1dbd3a649a3cc790fa12573c9c1aa00988e07a8818a22...</td>\n",
       "    </tr>\n",
       "    <tr>\n",
       "      <th>1</th>\n",
       "      <td>0b133c1915919238193454000e5d37</td>\n",
       "      <td>5cca70246befb1f4c9546d2912b9419dee54439218efa5...</td>\n",
       "      <td>b1dbd3a649a3cc790fa12573c9c1aa00988e07a8818a22...</td>\n",
       "    </tr>\n",
       "    <tr>\n",
       "      <th>2</th>\n",
       "      <td>0b133c1915919238193454000e5d37</td>\n",
       "      <td>5cca70246befb1f4c9546d2912b9419dee54439218efa5...</td>\n",
       "      <td>b1dbd3a649a3cc790fa12573c9c1aa00988e07a8818a22...</td>\n",
       "    </tr>\n",
       "    <tr>\n",
       "      <th>3</th>\n",
       "      <td>0b133c1915919238193454000e5d37</td>\n",
       "      <td>5cca70246befb1f4c9546d2912b9419dee54439218efa5...</td>\n",
       "      <td>b1dbd3a649a3cc790fa12573c9c1aa00988e07a8818a22...</td>\n",
       "    </tr>\n",
       "    <tr>\n",
       "      <th>4</th>\n",
       "      <td>0b133c1915919238193454000e5d37</td>\n",
       "      <td>5cca70246befb1f4c9546d2912b9419dee54439218efa5...</td>\n",
       "      <td>b1dbd3a649a3cc790fa12573c9c1aa00988e07a8818a22...</td>\n",
       "    </tr>\n",
       "    <tr>\n",
       "      <th>...</th>\n",
       "      <td>...</td>\n",
       "      <td>...</td>\n",
       "      <td>...</td>\n",
       "    </tr>\n",
       "    <tr>\n",
       "      <th>5282255</th>\n",
       "      <td>0b52069415919238409694000ea18b</td>\n",
       "      <td>75e56c8fbb9336eb4dd40f5f609d5344203d374d73fd0b...</td>\n",
       "      <td>9a9e8613b6d7d1b573ba38dba19eec9c3cc460ab00cb49...</td>\n",
       "    </tr>\n",
       "    <tr>\n",
       "      <th>5282256</th>\n",
       "      <td>0b52069415919238409694000ea18b</td>\n",
       "      <td>614c66b178d3cfe299b11254ecb4321f85beca4b2ccac8...</td>\n",
       "      <td>9a9e8613b6d7d1b573ba38dba19eec9c3cc460ab00cb49...</td>\n",
       "    </tr>\n",
       "    <tr>\n",
       "      <th>5282257</th>\n",
       "      <td>0b52069415919238409694000ea18b</td>\n",
       "      <td>614c66b178d3cfe299b11254ecb4321f85beca4b2ccac8...</td>\n",
       "      <td>4bba5c2371c3384862e69615979c2aa5b7f1b4fc3ea914...</td>\n",
       "    </tr>\n",
       "    <tr>\n",
       "      <th>5282258</th>\n",
       "      <td>0b52069415919238409694000ea18b</td>\n",
       "      <td>175834ec8169f3bd8afd2382d063d7f4f6815d7c6c8839...</td>\n",
       "      <td>9a9e8613b6d7d1b573ba38dba19eec9c3cc460ab00cb49...</td>\n",
       "    </tr>\n",
       "    <tr>\n",
       "      <th>5282259</th>\n",
       "      <td>0b52069415919237741588000ea044</td>\n",
       "      <td>95a6f7f8345e2eca31ee74ddc19d547e7fc0f5c8e65772...</td>\n",
       "      <td>9653f5baba69c9fb50bfb30a8571eb04dbceaae7c7f379...</td>\n",
       "    </tr>\n",
       "  </tbody>\n",
       "</table>\n",
       "<p>5282260 rows × 3 columns</p>\n",
       "</div>"
      ],
      "text/plain": [
       "                                traceid  \\\n",
       "0        0b133c1915919238193454000e5d37   \n",
       "1        0b133c1915919238193454000e5d37   \n",
       "2        0b133c1915919238193454000e5d37   \n",
       "3        0b133c1915919238193454000e5d37   \n",
       "4        0b133c1915919238193454000e5d37   \n",
       "...                                 ...   \n",
       "5282255  0b52069415919238409694000ea18b   \n",
       "5282256  0b52069415919238409694000ea18b   \n",
       "5282257  0b52069415919238409694000ea18b   \n",
       "5282258  0b52069415919238409694000ea18b   \n",
       "5282259  0b52069415919237741588000ea044   \n",
       "\n",
       "                                                        um  \\\n",
       "0        5cca70246befb1f4c9546d2912b9419dee54439218efa5...   \n",
       "1        5cca70246befb1f4c9546d2912b9419dee54439218efa5...   \n",
       "2        5cca70246befb1f4c9546d2912b9419dee54439218efa5...   \n",
       "3        5cca70246befb1f4c9546d2912b9419dee54439218efa5...   \n",
       "4        5cca70246befb1f4c9546d2912b9419dee54439218efa5...   \n",
       "...                                                    ...   \n",
       "5282255  75e56c8fbb9336eb4dd40f5f609d5344203d374d73fd0b...   \n",
       "5282256  614c66b178d3cfe299b11254ecb4321f85beca4b2ccac8...   \n",
       "5282257  614c66b178d3cfe299b11254ecb4321f85beca4b2ccac8...   \n",
       "5282258  175834ec8169f3bd8afd2382d063d7f4f6815d7c6c8839...   \n",
       "5282259  95a6f7f8345e2eca31ee74ddc19d547e7fc0f5c8e65772...   \n",
       "\n",
       "                                                        dm  \n",
       "0        b1dbd3a649a3cc790fa12573c9c1aa00988e07a8818a22...  \n",
       "1        b1dbd3a649a3cc790fa12573c9c1aa00988e07a8818a22...  \n",
       "2        b1dbd3a649a3cc790fa12573c9c1aa00988e07a8818a22...  \n",
       "3        b1dbd3a649a3cc790fa12573c9c1aa00988e07a8818a22...  \n",
       "4        b1dbd3a649a3cc790fa12573c9c1aa00988e07a8818a22...  \n",
       "...                                                    ...  \n",
       "5282255  9a9e8613b6d7d1b573ba38dba19eec9c3cc460ab00cb49...  \n",
       "5282256  9a9e8613b6d7d1b573ba38dba19eec9c3cc460ab00cb49...  \n",
       "5282257  4bba5c2371c3384862e69615979c2aa5b7f1b4fc3ea914...  \n",
       "5282258  9a9e8613b6d7d1b573ba38dba19eec9c3cc460ab00cb49...  \n",
       "5282259  9653f5baba69c9fb50bfb30a8571eb04dbceaae7c7f379...  \n",
       "\n",
       "[5282260 rows x 3 columns]"
      ]
     },
     "execution_count": 3,
     "metadata": {},
     "output_type": "execute_result"
    }
   ],
   "source": [
    "df = pd.read_csv(f'MSCallGraph_0_traces_exploration.csv')\n",
    "df"
   ]
  },
  {
   "cell_type": "code",
   "execution_count": 4,
   "id": "552f47f4",
   "metadata": {
    "pycharm": {
     "name": "#%%\n"
    }
   },
   "outputs": [
    {
     "data": {
      "text/plain": [
       "traceid    130506\n",
       "um           1474\n",
       "dm           7326\n",
       "dtype: int64"
      ]
     },
     "execution_count": 4,
     "metadata": {},
     "output_type": "execute_result"
    }
   ],
   "source": [
    "df.nunique()"
   ]
  },
  {
   "cell_type": "code",
   "execution_count": 5,
   "id": "0e4ba12d",
   "metadata": {
    "pycharm": {
     "name": "#%%\n"
    }
   },
   "outputs": [
    {
     "name": "stdout",
     "output_type": "stream",
     "text": [
      "Mean number of calls per trace:  40.4752271926195\n"
     ]
    }
   ],
   "source": [
    "mean_calls_per_trace = len(df)/len(set(df['traceid']))\n",
    "print(\"Mean number of calls per trace: \",mean_calls_per_trace)"
   ]
  },
  {
   "cell_type": "code",
   "execution_count": 6,
   "id": "ef0145fe",
   "metadata": {
    "pycharm": {
     "name": "#%%\n"
    }
   },
   "outputs": [],
   "source": [
    "traces = list(set(df['traceid']))\n",
    "import random\n",
    "random.seed(1234)\n",
    "random.shuffle(traces)\n",
    "traces_calls = []\n",
    "traces_entities = []"
   ]
  },
  {
   "cell_type": "code",
   "execution_count": 7,
   "id": "afcd6eb7",
   "metadata": {
    "pycharm": {
     "name": "#%%\n"
    }
   },
   "outputs": [
    {
     "data": {
      "text/plain": [
       "130506"
      ]
     },
     "execution_count": 7,
     "metadata": {},
     "output_type": "execute_result"
    }
   ],
   "source": [
    "traces = traces[:int(len(traces)*1)]\n",
    "len(traces)"
   ]
  },
  {
   "cell_type": "code",
   "execution_count": 8,
   "id": "9aafa5fd",
   "metadata": {
    "pycharm": {
     "name": "#%%\n"
    }
   },
   "outputs": [
    {
     "data": {
      "text/html": [
       "<div>\n",
       "<style scoped>\n",
       "    .dataframe tbody tr th:only-of-type {\n",
       "        vertical-align: middle;\n",
       "    }\n",
       "\n",
       "    .dataframe tbody tr th {\n",
       "        vertical-align: top;\n",
       "    }\n",
       "\n",
       "    .dataframe thead th {\n",
       "        text-align: right;\n",
       "    }\n",
       "</style>\n",
       "<table border=\"1\" class=\"dataframe\">\n",
       "  <thead>\n",
       "    <tr style=\"text-align: right;\">\n",
       "      <th></th>\n",
       "      <th>traceid</th>\n",
       "      <th>um</th>\n",
       "      <th>dm</th>\n",
       "    </tr>\n",
       "  </thead>\n",
       "  <tbody>\n",
       "    <tr>\n",
       "      <th>0</th>\n",
       "      <td>0b133c1915919238193454000e5d37</td>\n",
       "      <td>5cca70246befb1f4c9546d2912b9419dee54439218efa5...</td>\n",
       "      <td>b1dbd3a649a3cc790fa12573c9c1aa00988e07a8818a22...</td>\n",
       "    </tr>\n",
       "    <tr>\n",
       "      <th>1</th>\n",
       "      <td>0b133c1915919238193454000e5d37</td>\n",
       "      <td>5cca70246befb1f4c9546d2912b9419dee54439218efa5...</td>\n",
       "      <td>b1dbd3a649a3cc790fa12573c9c1aa00988e07a8818a22...</td>\n",
       "    </tr>\n",
       "    <tr>\n",
       "      <th>2</th>\n",
       "      <td>0b133c1915919238193454000e5d37</td>\n",
       "      <td>5cca70246befb1f4c9546d2912b9419dee54439218efa5...</td>\n",
       "      <td>b1dbd3a649a3cc790fa12573c9c1aa00988e07a8818a22...</td>\n",
       "    </tr>\n",
       "    <tr>\n",
       "      <th>3</th>\n",
       "      <td>0b133c1915919238193454000e5d37</td>\n",
       "      <td>5cca70246befb1f4c9546d2912b9419dee54439218efa5...</td>\n",
       "      <td>b1dbd3a649a3cc790fa12573c9c1aa00988e07a8818a22...</td>\n",
       "    </tr>\n",
       "    <tr>\n",
       "      <th>4</th>\n",
       "      <td>0b133c1915919238193454000e5d37</td>\n",
       "      <td>5cca70246befb1f4c9546d2912b9419dee54439218efa5...</td>\n",
       "      <td>b1dbd3a649a3cc790fa12573c9c1aa00988e07a8818a22...</td>\n",
       "    </tr>\n",
       "    <tr>\n",
       "      <th>...</th>\n",
       "      <td>...</td>\n",
       "      <td>...</td>\n",
       "      <td>...</td>\n",
       "    </tr>\n",
       "    <tr>\n",
       "      <th>5282255</th>\n",
       "      <td>0b52069415919238409694000ea18b</td>\n",
       "      <td>75e56c8fbb9336eb4dd40f5f609d5344203d374d73fd0b...</td>\n",
       "      <td>9a9e8613b6d7d1b573ba38dba19eec9c3cc460ab00cb49...</td>\n",
       "    </tr>\n",
       "    <tr>\n",
       "      <th>5282256</th>\n",
       "      <td>0b52069415919238409694000ea18b</td>\n",
       "      <td>614c66b178d3cfe299b11254ecb4321f85beca4b2ccac8...</td>\n",
       "      <td>9a9e8613b6d7d1b573ba38dba19eec9c3cc460ab00cb49...</td>\n",
       "    </tr>\n",
       "    <tr>\n",
       "      <th>5282257</th>\n",
       "      <td>0b52069415919238409694000ea18b</td>\n",
       "      <td>614c66b178d3cfe299b11254ecb4321f85beca4b2ccac8...</td>\n",
       "      <td>4bba5c2371c3384862e69615979c2aa5b7f1b4fc3ea914...</td>\n",
       "    </tr>\n",
       "    <tr>\n",
       "      <th>5282258</th>\n",
       "      <td>0b52069415919238409694000ea18b</td>\n",
       "      <td>175834ec8169f3bd8afd2382d063d7f4f6815d7c6c8839...</td>\n",
       "      <td>9a9e8613b6d7d1b573ba38dba19eec9c3cc460ab00cb49...</td>\n",
       "    </tr>\n",
       "    <tr>\n",
       "      <th>5282259</th>\n",
       "      <td>0b52069415919237741588000ea044</td>\n",
       "      <td>95a6f7f8345e2eca31ee74ddc19d547e7fc0f5c8e65772...</td>\n",
       "      <td>9653f5baba69c9fb50bfb30a8571eb04dbceaae7c7f379...</td>\n",
       "    </tr>\n",
       "  </tbody>\n",
       "</table>\n",
       "<p>5282260 rows × 3 columns</p>\n",
       "</div>"
      ],
      "text/plain": [
       "                                traceid  \\\n",
       "0        0b133c1915919238193454000e5d37   \n",
       "1        0b133c1915919238193454000e5d37   \n",
       "2        0b133c1915919238193454000e5d37   \n",
       "3        0b133c1915919238193454000e5d37   \n",
       "4        0b133c1915919238193454000e5d37   \n",
       "...                                 ...   \n",
       "5282255  0b52069415919238409694000ea18b   \n",
       "5282256  0b52069415919238409694000ea18b   \n",
       "5282257  0b52069415919238409694000ea18b   \n",
       "5282258  0b52069415919238409694000ea18b   \n",
       "5282259  0b52069415919237741588000ea044   \n",
       "\n",
       "                                                        um  \\\n",
       "0        5cca70246befb1f4c9546d2912b9419dee54439218efa5...   \n",
       "1        5cca70246befb1f4c9546d2912b9419dee54439218efa5...   \n",
       "2        5cca70246befb1f4c9546d2912b9419dee54439218efa5...   \n",
       "3        5cca70246befb1f4c9546d2912b9419dee54439218efa5...   \n",
       "4        5cca70246befb1f4c9546d2912b9419dee54439218efa5...   \n",
       "...                                                    ...   \n",
       "5282255  75e56c8fbb9336eb4dd40f5f609d5344203d374d73fd0b...   \n",
       "5282256  614c66b178d3cfe299b11254ecb4321f85beca4b2ccac8...   \n",
       "5282257  614c66b178d3cfe299b11254ecb4321f85beca4b2ccac8...   \n",
       "5282258  175834ec8169f3bd8afd2382d063d7f4f6815d7c6c8839...   \n",
       "5282259  95a6f7f8345e2eca31ee74ddc19d547e7fc0f5c8e65772...   \n",
       "\n",
       "                                                        dm  \n",
       "0        b1dbd3a649a3cc790fa12573c9c1aa00988e07a8818a22...  \n",
       "1        b1dbd3a649a3cc790fa12573c9c1aa00988e07a8818a22...  \n",
       "2        b1dbd3a649a3cc790fa12573c9c1aa00988e07a8818a22...  \n",
       "3        b1dbd3a649a3cc790fa12573c9c1aa00988e07a8818a22...  \n",
       "4        b1dbd3a649a3cc790fa12573c9c1aa00988e07a8818a22...  \n",
       "...                                                    ...  \n",
       "5282255  9a9e8613b6d7d1b573ba38dba19eec9c3cc460ab00cb49...  \n",
       "5282256  9a9e8613b6d7d1b573ba38dba19eec9c3cc460ab00cb49...  \n",
       "5282257  4bba5c2371c3384862e69615979c2aa5b7f1b4fc3ea914...  \n",
       "5282258  9a9e8613b6d7d1b573ba38dba19eec9c3cc460ab00cb49...  \n",
       "5282259  9653f5baba69c9fb50bfb30a8571eb04dbceaae7c7f379...  \n",
       "\n",
       "[5282260 rows x 3 columns]"
      ]
     },
     "execution_count": 8,
     "metadata": {},
     "output_type": "execute_result"
    }
   ],
   "source": [
    "df = df[df['traceid'].isin(set(traces))]\n",
    "df"
   ]
  },
  {
   "cell_type": "code",
   "execution_count": 10,
   "id": "d0d6f4ec",
   "metadata": {
    "pycharm": {
     "name": "#%%\n"
    }
   },
   "outputs": [],
   "source": [
    "\n",
    "with tqdm(total=len(traces)) as progress_bar:\n",
    "    for trace in traces:\n",
    "        trace_df = df[df['traceid']==trace]\n",
    "        traces_calls.append(len(trace_df))\n",
    "        traces_entities.append(len(set(trace_df['dm']) | set(trace_df['um'])))\n",
    "        progress_bar.update(1)\n"
   ]
  },
  {
   "cell_type": "code",
   "execution_count": null,
   "id": "a31cfb33",
   "metadata": {
    "pycharm": {
     "name": "#%%\n"
    }
   },
   "outputs": [],
   "source": [
    "calls_df = pd.DataFrame(traces_calls,columns=['Traces Calls'])\n",
    "calls_df"
   ]
  },
  {
   "cell_type": "code",
   "execution_count": null,
   "id": "74b61cbc",
   "metadata": {
    "pycharm": {
     "name": "#%%\n"
    }
   },
   "outputs": [],
   "source": [
    "calls_df.to_csv('MSCallGraph_0_traces_calls.csv',index=False)"
   ]
  },
  {
   "cell_type": "code",
   "execution_count": 2,
   "id": "fb5b4842",
   "metadata": {
    "pycharm": {
     "name": "#%%\n"
    }
   },
   "outputs": [
    {
     "data": {
      "text/html": [
       "<div>\n",
       "<style scoped>\n",
       "    .dataframe tbody tr th:only-of-type {\n",
       "        vertical-align: middle;\n",
       "    }\n",
       "\n",
       "    .dataframe tbody tr th {\n",
       "        vertical-align: top;\n",
       "    }\n",
       "\n",
       "    .dataframe thead th {\n",
       "        text-align: right;\n",
       "    }\n",
       "</style>\n",
       "<table border=\"1\" class=\"dataframe\">\n",
       "  <thead>\n",
       "    <tr style=\"text-align: right;\">\n",
       "      <th></th>\n",
       "      <th>Traces Calls</th>\n",
       "    </tr>\n",
       "  </thead>\n",
       "  <tbody>\n",
       "    <tr>\n",
       "      <th>0</th>\n",
       "      <td>13</td>\n",
       "    </tr>\n",
       "    <tr>\n",
       "      <th>1</th>\n",
       "      <td>367</td>\n",
       "    </tr>\n",
       "    <tr>\n",
       "      <th>2</th>\n",
       "      <td>4</td>\n",
       "    </tr>\n",
       "    <tr>\n",
       "      <th>3</th>\n",
       "      <td>10</td>\n",
       "    </tr>\n",
       "    <tr>\n",
       "      <th>4</th>\n",
       "      <td>14</td>\n",
       "    </tr>\n",
       "    <tr>\n",
       "      <th>...</th>\n",
       "      <td>...</td>\n",
       "    </tr>\n",
       "    <tr>\n",
       "      <th>130501</th>\n",
       "      <td>2</td>\n",
       "    </tr>\n",
       "    <tr>\n",
       "      <th>130502</th>\n",
       "      <td>4</td>\n",
       "    </tr>\n",
       "    <tr>\n",
       "      <th>130503</th>\n",
       "      <td>3</td>\n",
       "    </tr>\n",
       "    <tr>\n",
       "      <th>130504</th>\n",
       "      <td>7</td>\n",
       "    </tr>\n",
       "    <tr>\n",
       "      <th>130505</th>\n",
       "      <td>29</td>\n",
       "    </tr>\n",
       "  </tbody>\n",
       "</table>\n",
       "<p>130506 rows × 1 columns</p>\n",
       "</div>"
      ],
      "text/plain": [
       "        Traces Calls\n",
       "0                 13\n",
       "1                367\n",
       "2                  4\n",
       "3                 10\n",
       "4                 14\n",
       "...              ...\n",
       "130501             2\n",
       "130502             4\n",
       "130503             3\n",
       "130504             7\n",
       "130505            29\n",
       "\n",
       "[130506 rows x 1 columns]"
      ]
     },
     "execution_count": 2,
     "metadata": {},
     "output_type": "execute_result"
    }
   ],
   "source": [
    "calls_df=pd.read_csv('MSCallGraph_0_traces_calls.csv')\n",
    "calls_df"
   ]
  },
  {
   "cell_type": "code",
   "execution_count": null,
   "id": "f20b7c0d",
   "metadata": {
    "pycharm": {
     "name": "#%%\n"
    }
   },
   "outputs": [],
   "source": [
    "entities_df = pd.DataFrame(traces_entities,columns=['Traces Entities'])\n",
    "entities_df"
   ]
  },
  {
   "cell_type": "code",
   "execution_count": null,
   "id": "e925202c",
   "metadata": {
    "pycharm": {
     "name": "#%%\n"
    }
   },
   "outputs": [],
   "source": [
    "entities_df.to_csv('MSCallGraph_0_traces_entities.csv',index=False)"
   ]
  },
  {
   "cell_type": "code",
   "execution_count": 3,
   "id": "038266cc",
   "metadata": {
    "pycharm": {
     "name": "#%%\n"
    }
   },
   "outputs": [
    {
     "data": {
      "text/html": [
       "<div>\n",
       "<style scoped>\n",
       "    .dataframe tbody tr th:only-of-type {\n",
       "        vertical-align: middle;\n",
       "    }\n",
       "\n",
       "    .dataframe tbody tr th {\n",
       "        vertical-align: top;\n",
       "    }\n",
       "\n",
       "    .dataframe thead th {\n",
       "        text-align: right;\n",
       "    }\n",
       "</style>\n",
       "<table border=\"1\" class=\"dataframe\">\n",
       "  <thead>\n",
       "    <tr style=\"text-align: right;\">\n",
       "      <th></th>\n",
       "      <th>Traces Entities</th>\n",
       "    </tr>\n",
       "  </thead>\n",
       "  <tbody>\n",
       "    <tr>\n",
       "      <th>0</th>\n",
       "      <td>8</td>\n",
       "    </tr>\n",
       "    <tr>\n",
       "      <th>1</th>\n",
       "      <td>20</td>\n",
       "    </tr>\n",
       "    <tr>\n",
       "      <th>2</th>\n",
       "      <td>4</td>\n",
       "    </tr>\n",
       "    <tr>\n",
       "      <th>3</th>\n",
       "      <td>7</td>\n",
       "    </tr>\n",
       "    <tr>\n",
       "      <th>4</th>\n",
       "      <td>9</td>\n",
       "    </tr>\n",
       "    <tr>\n",
       "      <th>...</th>\n",
       "      <td>...</td>\n",
       "    </tr>\n",
       "    <tr>\n",
       "      <th>130501</th>\n",
       "      <td>2</td>\n",
       "    </tr>\n",
       "    <tr>\n",
       "      <th>130502</th>\n",
       "      <td>3</td>\n",
       "    </tr>\n",
       "    <tr>\n",
       "      <th>130503</th>\n",
       "      <td>3</td>\n",
       "    </tr>\n",
       "    <tr>\n",
       "      <th>130504</th>\n",
       "      <td>6</td>\n",
       "    </tr>\n",
       "    <tr>\n",
       "      <th>130505</th>\n",
       "      <td>19</td>\n",
       "    </tr>\n",
       "  </tbody>\n",
       "</table>\n",
       "<p>130506 rows × 1 columns</p>\n",
       "</div>"
      ],
      "text/plain": [
       "        Traces Entities\n",
       "0                     8\n",
       "1                    20\n",
       "2                     4\n",
       "3                     7\n",
       "4                     9\n",
       "...                 ...\n",
       "130501                2\n",
       "130502                3\n",
       "130503                3\n",
       "130504                6\n",
       "130505               19\n",
       "\n",
       "[130506 rows x 1 columns]"
      ]
     },
     "execution_count": 3,
     "metadata": {},
     "output_type": "execute_result"
    }
   ],
   "source": [
    "entities_df=pd.read_csv('MSCallGraph_0_traces_entities.csv')\n",
    "entities_df"
   ]
  },
  {
   "cell_type": "code",
   "execution_count": 5,
   "id": "8eadfaa3",
   "metadata": {
    "pycharm": {
     "name": "#%%\n"
    }
   },
   "outputs": [],
   "source": [
    "traces_calls = list(calls_df['Traces Calls'])\n",
    "traces_entities = list(entities_df['Traces Entities'])"
   ]
  },
  {
   "cell_type": "code",
   "execution_count": 6,
   "id": "b6890f79",
   "metadata": {
    "pycharm": {
     "name": "#%%\n"
    }
   },
   "outputs": [
    {
     "name": "stdout",
     "output_type": "stream",
     "text": [
      "Mean number of calls per trace:  40.4752271926195  standard deviation:  126.40080685607592\n",
      "Median number of calls per trace:  10.0\n",
      "Mean number of entities per trace:  11.421582149479718  standard deviation:  14.665507421840605\n",
      "Median number of entities per trace:  7.0\n"
     ]
    }
   ],
   "source": [
    "print(\"Mean number of calls per trace: \", mean(traces_calls), \" standard deviation: \", stdev(traces_calls))\n",
    "print(\"Median number of calls per trace: \", median(traces_calls))\n",
    "print(\"Mean number of entities per trace: \", mean(traces_entities), \" standard deviation: \", stdev(traces_entities))\n",
    "print(\"Median number of entities per trace: \", median(traces_entities))"
   ]
  },
  {
   "cell_type": "code",
   "execution_count": 7,
   "id": "168f3804",
   "metadata": {
    "pycharm": {
     "name": "#%%\n"
    }
   },
   "outputs": [
    {
     "data": {
      "image/png": "[encoded data removed]",
      "text/plain": [
       "<Figure size 640x480 with 1 Axes>"
      ]
     },
     "metadata": {},
     "output_type": "display_data"
    }
   ],
   "source": [
    "plt.hist(traces_calls,bins=100)\n",
    "# Set the labels and title\n",
    "plt.xlabel('Value')\n",
    "plt.ylabel('Frequency')\n",
    "plt.title('Number of calls per trace')\n",
    "\n",
    "# Show the plot\n",
    "plt.show()"
   ]
  },
  {
   "cell_type": "code",
   "execution_count": 8,
   "id": "d7639b29",
   "metadata": {
    "pycharm": {
     "name": "#%%\n"
    }
   },
   "outputs": [
    {
     "data": {
      "image/png": "[encoded data removed]",
      "text/plain": [
       "<Figure size 640x480 with 1 Axes>"
      ]
     },
     "metadata": {},
     "output_type": "display_data"
    }
   ],
   "source": [
    "plt.hist(np.log(traces_calls),bins=20)\n",
    "# Set the labels and title\n",
    "plt.xlabel('Value')\n",
    "plt.ylabel('Frequency')\n",
    "plt.title('Log Number of calls per trace')\n",
    "\n",
    "# Show the plot\n",
    "plt.show()"
   ]
  },
  {
   "cell_type": "code",
   "execution_count": 9,
   "id": "c1db3c68",
   "metadata": {
    "pycharm": {
     "name": "#%%\n"
    }
   },
   "outputs": [
    {
     "data": {
      "image/png": "[encoded data removed]",
      "text/plain": [
       "<Figure size 640x480 with 1 Axes>"
      ]
     },
     "metadata": {},
     "output_type": "display_data"
    }
   ],
   "source": [
    "plt.hist(traces_entities,bins=100)\n",
    "# Set the labels and title\n",
    "plt.xlabel('Value')\n",
    "plt.ylabel('Frequency')\n",
    "plt.title('Number of entities per trace')\n",
    "\n",
    "# Show the plot\n",
    "plt.show()"
   ]
  },
  {
   "cell_type": "code",
   "execution_count": 10,
   "id": "b400f5d3",
   "metadata": {
    "pycharm": {
     "name": "#%%\n"
    }
   },
   "outputs": [
    {
     "data": {
      "image/png": "[encoded data removed]",
      "text/plain": [
       "<Figure size 640x480 with 1 Axes>"
      ]
     },
     "metadata": {},
     "output_type": "display_data"
    }
   ],
   "source": [
    "plt.hist(np.log(traces_entities),bins=20)\n",
    "# Set the labels and title\n",
    "plt.xlabel('Value')\n",
    "plt.ylabel('Frequency')\n",
    "plt.title('Log Number of entities per trace')\n",
    "\n",
    "# Show the plot\n",
    "plt.show()"
   ]
  },
  {
   "cell_type": "code",
   "execution_count": null,
   "id": "61525230",
   "metadata": {
    "pycharm": {
     "name": "#%%\n"
    }
   },
   "outputs": [],
   "source": []
  }
 ],
 "metadata": {
  "kernelspec": {
   "display_name": "Python 3 (ipykernel)",
   "language": "python",
   "name": "python3"
  },
  "language_info": {
   "codemirror_mode": {
    "name": "ipython",
    "version": 3
   },
   "file_extension": ".py",
   "mimetype": "text/x-python",
   "name": "python",
   "nbconvert_exporter": "python",
   "pygments_lexer": "ipython3",
   "version": "3.9.16"
  }
 },
 "nbformat": 4,
 "nbformat_minor": 5
}