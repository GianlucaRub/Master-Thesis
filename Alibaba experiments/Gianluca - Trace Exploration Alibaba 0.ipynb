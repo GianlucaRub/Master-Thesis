{
 "cells": [
  {
   "cell_type": "markdown",
   "id": "7c30e6b9",
   "metadata": {},
   "source": [
    "In this notebook I am exploring the Alibaba dataset at trace level. I am using just one part of the dataset since it required a lot of time (9+ hours). Results are:\n",
    "\n",
    "Mean number of calls per trace:  40.4752271926195  standard deviation:  126.40080685607592\n",
    "\n",
    "Median number of calls per trace:  10.0\n",
    "\n",
    "Mean number of entities per trace:  11.421582149479718  standard deviation:  14.665507421840605\n",
    "\n",
    "Median number of entities per trace:  7.0"
   ]
  },
  {
   "cell_type": "code",
   "execution_count": 1,
   "id": "9208ea19",
   "metadata": {},
   "outputs": [],
   "source": [
    "import pandas as pd\n",
    "import numpy as np\n",
    "import os"
   ]
  },
  {
   "cell_type": "code",
   "execution_count": 2,
   "id": "bc03829c",
   "metadata": {},
   "outputs": [],
   "source": [
    "import zipfile\n",
    "\n",
    "# Specify the path of the zip archive\n",
    "zip_file_path = 'MSCallGraph_0_traces_exploration.zip'\n",
    "\n",
    "# Create a ZipFile object\n",
    "zip_file = zipfile.ZipFile(zip_file_path)\n",
    "\n",
    "# Extract all the files in the archive to a folder\n",
    "zip_file.extractall('')\n",
    "\n",
    "# Close the ZipFile object\n",
    "zip_file.close()\n"
   ]
  },
  {
   "cell_type": "code",
   "execution_count": 3,
   "id": "4b498c55",
   "metadata": {},
   "outputs": [
    {
     "data": {
      "text/html": [
       "<div>\n",
       "<style scoped>\n",
       "    .dataframe tbody tr th:only-of-type {\n",
       "        vertical-align: middle;\n",
       "    }\n",
       "\n",
       "    .dataframe tbody tr th {\n",
       "        vertical-align: top;\n",
       "    }\n",
       "\n",
       "    .dataframe thead th {\n",
       "        text-align: right;\n",
       "    }\n",
       "</style>\n",
       "<table border=\"1\" class=\"dataframe\">\n",
       "  <thead>\n",
       "    <tr style=\"text-align: right;\">\n",
       "      <th></th>\n",
       "      <th>traceid</th>\n",
       "      <th>um</th>\n",
       "      <th>dm</th>\n",
       "    </tr>\n",
       "  </thead>\n",
       "  <tbody>\n",
       "    <tr>\n",
       "      <th>0</th>\n",
       "      <td>0b133c1915919238193454000e5d37</td>\n",
       "      <td>5cca70246befb1f4c9546d2912b9419dee54439218efa5...</td>\n",
       "      <td>b1dbd3a649a3cc790fa12573c9c1aa00988e07a8818a22...</td>\n",
       "    </tr>\n",
       "    <tr>\n",
       "      <th>1</th>\n",
       "      <td>0b133c1915919238193454000e5d37</td>\n",
       "      <td>5cca70246befb1f4c9546d2912b9419dee54439218efa5...</td>\n",
       "      <td>b1dbd3a649a3cc790fa12573c9c1aa00988e07a8818a22...</td>\n",
       "    </tr>\n",
       "    <tr>\n",
       "      <th>2</th>\n",
       "      <td>0b133c1915919238193454000e5d37</td>\n",
       "      <td>5cca70246befb1f4c9546d2912b9419dee54439218efa5...</td>\n",
       "      <td>b1dbd3a649a3cc790fa12573c9c1aa00988e07a8818a22...</td>\n",
       "    </tr>\n",
       "    <tr>\n",
       "      <th>3</th>\n",
       "      <td>0b133c1915919238193454000e5d37</td>\n",
       "      <td>5cca70246befb1f4c9546d2912b9419dee54439218efa5...</td>\n",
       "      <td>b1dbd3a649a3cc790fa12573c9c1aa00988e07a8818a22...</td>\n",
       "    </tr>\n",
       "    <tr>\n",
       "      <th>4</th>\n",
       "      <td>0b133c1915919238193454000e5d37</td>\n",
       "      <td>5cca70246befb1f4c9546d2912b9419dee54439218efa5...</td>\n",
       "      <td>b1dbd3a649a3cc790fa12573c9c1aa00988e07a8818a22...</td>\n",
       "    </tr>\n",
       "    <tr>\n",
       "      <th>...</th>\n",
       "      <td>...</td>\n",
       "      <td>...</td>\n",
       "      <td>...</td>\n",
       "    </tr>\n",
       "    <tr>\n",
       "      <th>5282255</th>\n",
       "      <td>0b52069415919238409694000ea18b</td>\n",
       "      <td>75e56c8fbb9336eb4dd40f5f609d5344203d374d73fd0b...</td>\n",
       "      <td>9a9e8613b6d7d1b573ba38dba19eec9c3cc460ab00cb49...</td>\n",
       "    </tr>\n",
       "    <tr>\n",
       "      <th>5282256</th>\n",
       "      <td>0b52069415919238409694000ea18b</td>\n",
       "      <td>614c66b178d3cfe299b11254ecb4321f85beca4b2ccac8...</td>\n",
       "      <td>9a9e8613b6d7d1b573ba38dba19eec9c3cc460ab00cb49...</td>\n",
       "    </tr>\n",
       "    <tr>\n",
       "      <th>5282257</th>\n",
       "      <td>0b52069415919238409694000ea18b</td>\n",
       "      <td>614c66b178d3cfe299b11254ecb4321f85beca4b2ccac8...</td>\n",
       "      <td>4bba5c2371c3384862e69615979c2aa5b7f1b4fc3ea914...</td>\n",
       "    </tr>\n",
       "    <tr>\n",
       "      <th>5282258</th>\n",
       "      <td>0b52069415919238409694000ea18b</td>\n",
       "      <td>175834ec8169f3bd8afd2382d063d7f4f6815d7c6c8839...</td>\n",
       "      <td>9a9e8613b6d7d1b573ba38dba19eec9c3cc460ab00cb49...</td>\n",
       "    </tr>\n",
       "    <tr>\n",
       "      <th>5282259</th>\n",
       "      <td>0b52069415919237741588000ea044</td>\n",
       "      <td>95a6f7f8345e2eca31ee74ddc19d547e7fc0f5c8e65772...</td>\n",
       "      <td>9653f5baba69c9fb50bfb30a8571eb04dbceaae7c7f379...</td>\n",
       "    </tr>\n",
       "  </tbody>\n",
       "</table>\n",
       "<p>5282260 rows × 3 columns</p>\n",
       "</div>"
      ],
      "text/plain": [
       "                                traceid  \\\n",
       "0        0b133c1915919238193454000e5d37   \n",
       "1        0b133c1915919238193454000e5d37   \n",
       "2        0b133c1915919238193454000e5d37   \n",
       "3        0b133c1915919238193454000e5d37   \n",
       "4        0b133c1915919238193454000e5d37   \n",
       "...                                 ...   \n",
       "5282255  0b52069415919238409694000ea18b   \n",
       "5282256  0b52069415919238409694000ea18b   \n",
       "5282257  0b52069415919238409694000ea18b   \n",
       "5282258  0b52069415919238409694000ea18b   \n",
       "5282259  0b52069415919237741588000ea044   \n",
       "\n",
       "                                                        um  \\\n",
       "0        5cca70246befb1f4c9546d2912b9419dee54439218efa5...   \n",
       "1        5cca70246befb1f4c9546d2912b9419dee54439218efa5...   \n",
       "2        5cca70246befb1f4c9546d2912b9419dee54439218efa5...   \n",
       "3        5cca70246befb1f4c9546d2912b9419dee54439218efa5...   \n",
       "4        5cca70246befb1f4c9546d2912b9419dee54439218efa5...   \n",
       "...                                                    ...   \n",
       "5282255  75e56c8fbb9336eb4dd40f5f609d5344203d374d73fd0b...   \n",
       "5282256  614c66b178d3cfe299b11254ecb4321f85beca4b2ccac8...   \n",
       "5282257  614c66b178d3cfe299b11254ecb4321f85beca4b2ccac8...   \n",
       "5282258  175834ec8169f3bd8afd2382d063d7f4f6815d7c6c8839...   \n",
       "5282259  95a6f7f8345e2eca31ee74ddc19d547e7fc0f5c8e65772...   \n",
       "\n",
       "                                                        dm  \n",
       "0        b1dbd3a649a3cc790fa12573c9c1aa00988e07a8818a22...  \n",
       "1        b1dbd3a649a3cc790fa12573c9c1aa00988e07a8818a22...  \n",
       "2        b1dbd3a649a3cc790fa12573c9c1aa00988e07a8818a22...  \n",
       "3        b1dbd3a649a3cc790fa12573c9c1aa00988e07a8818a22...  \n",
       "4        b1dbd3a649a3cc790fa12573c9c1aa00988e07a8818a22...  \n",
       "...                                                    ...  \n",
       "5282255  9a9e8613b6d7d1b573ba38dba19eec9c3cc460ab00cb49...  \n",
       "5282256  9a9e8613b6d7d1b573ba38dba19eec9c3cc460ab00cb49...  \n",
       "5282257  4bba5c2371c3384862e69615979c2aa5b7f1b4fc3ea914...  \n",
       "5282258  9a9e8613b6d7d1b573ba38dba19eec9c3cc460ab00cb49...  \n",
       "5282259  9653f5baba69c9fb50bfb30a8571eb04dbceaae7c7f379...  \n",
       "\n",
       "[5282260 rows x 3 columns]"
      ]
     },
     "execution_count": 3,
     "metadata": {},
     "output_type": "execute_result"
    }
   ],
   "source": [
    "df = pd.read_csv(f'MSCallGraph_0_traces_exploration.csv')\n",
    "df"
   ]
  },
  {
   "cell_type": "code",
   "execution_count": 4,
   "id": "552f47f4",
   "metadata": {},
   "outputs": [
    {
     "data": {
      "text/plain": [
       "traceid    130506\n",
       "um           1474\n",
       "dm           7326\n",
       "dtype: int64"
      ]
     },
     "execution_count": 4,
     "metadata": {},
     "output_type": "execute_result"
    }
   ],
   "source": [
    "df.nunique()"
   ]
  },
  {
   "cell_type": "code",
   "execution_count": 5,
   "id": "0e4ba12d",
   "metadata": {},
   "outputs": [
    {
     "name": "stdout",
     "output_type": "stream",
     "text": [
      "Mean number of calls per trace:  40.4752271926195\n"
     ]
    }
   ],
   "source": [
    "mean_calls_per_trace = len(df)/len(set(df['traceid']))\n",
    "print(\"Mean number of calls per trace: \",mean_calls_per_trace)"
   ]
  },
  {
   "cell_type": "code",
   "execution_count": 6,
   "id": "ef0145fe",
   "metadata": {},
   "outputs": [],
   "source": [
    "traces = list(set(df['traceid']))\n",
    "import random\n",
    "random.seed(1234)\n",
    "random.shuffle(traces)\n",
    "traces_calls = []\n",
    "traces_entities = []"
   ]
  },
  {
   "cell_type": "code",
   "execution_count": 7,
   "id": "afcd6eb7",
   "metadata": {},
   "outputs": [
    {
     "data": {
      "text/plain": [
       "130506"
      ]
     },
     "execution_count": 7,
     "metadata": {},
     "output_type": "execute_result"
    }
   ],
   "source": [
    "traces = traces[:int(len(traces)*1)]\n",
    "len(traces)"
   ]
  },
  {
   "cell_type": "code",
   "execution_count": 8,
   "id": "9aafa5fd",
   "metadata": {},
   "outputs": [
    {
     "data": {
      "text/html": [
       "<div>\n",
       "<style scoped>\n",
       "    .dataframe tbody tr th:only-of-type {\n",
       "        vertical-align: middle;\n",
       "    }\n",
       "\n",
       "    .dataframe tbody tr th {\n",
       "        vertical-align: top;\n",
       "    }\n",
       "\n",
       "    .dataframe thead th {\n",
       "        text-align: right;\n",
       "    }\n",
       "</style>\n",
       "<table border=\"1\" class=\"dataframe\">\n",
       "  <thead>\n",
       "    <tr style=\"text-align: right;\">\n",
       "      <th></th>\n",
       "      <th>traceid</th>\n",
       "      <th>um</th>\n",
       "      <th>dm</th>\n",
       "    </tr>\n",
       "  </thead>\n",
       "  <tbody>\n",
       "    <tr>\n",
       "      <th>0</th>\n",
       "      <td>0b133c1915919238193454000e5d37</td>\n",
       "      <td>5cca70246befb1f4c9546d2912b9419dee54439218efa5...</td>\n",
       "      <td>b1dbd3a649a3cc790fa12573c9c1aa00988e07a8818a22...</td>\n",
       "    </tr>\n",
       "    <tr>\n",
       "      <th>1</th>\n",
       "      <td>0b133c1915919238193454000e5d37</td>\n",
       "      <td>5cca70246befb1f4c9546d2912b9419dee54439218efa5...</td>\n",
       "      <td>b1dbd3a649a3cc790fa12573c9c1aa00988e07a8818a22...</td>\n",
       "    </tr>\n",
       "    <tr>\n",
       "      <th>2</th>\n",
       "      <td>0b133c1915919238193454000e5d37</td>\n",
       "      <td>5cca70246befb1f4c9546d2912b9419dee54439218efa5...</td>\n",
       "      <td>b1dbd3a649a3cc790fa12573c9c1aa00988e07a8818a22...</td>\n",
       "    </tr>\n",
       "    <tr>\n",
       "      <th>3</th>\n",
       "      <td>0b133c1915919238193454000e5d37</td>\n",
       "      <td>5cca70246befb1f4c9546d2912b9419dee54439218efa5...</td>\n",
       "      <td>b1dbd3a649a3cc790fa12573c9c1aa00988e07a8818a22...</td>\n",
       "    </tr>\n",
       "    <tr>\n",
       "      <th>4</th>\n",
       "      <td>0b133c1915919238193454000e5d37</td>\n",
       "      <td>5cca70246befb1f4c9546d2912b9419dee54439218efa5...</td>\n",
       "      <td>b1dbd3a649a3cc790fa12573c9c1aa00988e07a8818a22...</td>\n",
       "    </tr>\n",
       "    <tr>\n",
       "      <th>...</th>\n",
       "      <td>...</td>\n",
       "      <td>...</td>\n",
       "      <td>...</td>\n",
       "    </tr>\n",
       "    <tr>\n",
       "      <th>5282255</th>\n",
       "      <td>0b52069415919238409694000ea18b</td>\n",
       "      <td>75e56c8fbb9336eb4dd40f5f609d5344203d374d73fd0b...</td>\n",
       "      <td>9a9e8613b6d7d1b573ba38dba19eec9c3cc460ab00cb49...</td>\n",
       "    </tr>\n",
       "    <tr>\n",
       "      <th>5282256</th>\n",
       "      <td>0b52069415919238409694000ea18b</td>\n",
       "      <td>614c66b178d3cfe299b11254ecb4321f85beca4b2ccac8...</td>\n",
       "      <td>9a9e8613b6d7d1b573ba38dba19eec9c3cc460ab00cb49...</td>\n",
       "    </tr>\n",
       "    <tr>\n",
       "      <th>5282257</th>\n",
       "      <td>0b52069415919238409694000ea18b</td>\n",
       "      <td>614c66b178d3cfe299b11254ecb4321f85beca4b2ccac8...</td>\n",
       "      <td>4bba5c2371c3384862e69615979c2aa5b7f1b4fc3ea914...</td>\n",
       "    </tr>\n",
       "    <tr>\n",
       "      <th>5282258</th>\n",
       "      <td>0b52069415919238409694000ea18b</td>\n",
       "      <td>175834ec8169f3bd8afd2382d063d7f4f6815d7c6c8839...</td>\n",
       "      <td>9a9e8613b6d7d1b573ba38dba19eec9c3cc460ab00cb49...</td>\n",
       "    </tr>\n",
       "    <tr>\n",
       "      <th>5282259</th>\n",
       "      <td>0b52069415919237741588000ea044</td>\n",
       "      <td>95a6f7f8345e2eca31ee74ddc19d547e7fc0f5c8e65772...</td>\n",
       "      <td>9653f5baba69c9fb50bfb30a8571eb04dbceaae7c7f379...</td>\n",
       "    </tr>\n",
       "  </tbody>\n",
       "</table>\n",
       "<p>5282260 rows × 3 columns</p>\n",
       "</div>"
      ],
      "text/plain": [
       "                                traceid  \\\n",
       "0        0b133c1915919238193454000e5d37   \n",
       "1        0b133c1915919238193454000e5d37   \n",
       "2        0b133c1915919238193454000e5d37   \n",
       "3        0b133c1915919238193454000e5d37   \n",
       "4        0b133c1915919238193454000e5d37   \n",
       "...                                 ...   \n",
       "5282255  0b52069415919238409694000ea18b   \n",
       "5282256  0b52069415919238409694000ea18b   \n",
       "5282257  0b52069415919238409694000ea18b   \n",
       "5282258  0b52069415919238409694000ea18b   \n",
       "5282259  0b52069415919237741588000ea044   \n",
       "\n",
       "                                                        um  \\\n",
       "0        5cca70246befb1f4c9546d2912b9419dee54439218efa5...   \n",
       "1        5cca70246befb1f4c9546d2912b9419dee54439218efa5...   \n",
       "2        5cca70246befb1f4c9546d2912b9419dee54439218efa5...   \n",
       "3        5cca70246befb1f4c9546d2912b9419dee54439218efa5...   \n",
       "4        5cca70246befb1f4c9546d2912b9419dee54439218efa5...   \n",
       "...                                                    ...   \n",
       "5282255  75e56c8fbb9336eb4dd40f5f609d5344203d374d73fd0b...   \n",
       "5282256  614c66b178d3cfe299b11254ecb4321f85beca4b2ccac8...   \n",
       "5282257  614c66b178d3cfe299b11254ecb4321f85beca4b2ccac8...   \n",
       "5282258  175834ec8169f3bd8afd2382d063d7f4f6815d7c6c8839...   \n",
       "5282259  95a6f7f8345e2eca31ee74ddc19d547e7fc0f5c8e65772...   \n",
       "\n",
       "                                                        dm  \n",
       "0        b1dbd3a649a3cc790fa12573c9c1aa00988e07a8818a22...  \n",
       "1        b1dbd3a649a3cc790fa12573c9c1aa00988e07a8818a22...  \n",
       "2        b1dbd3a649a3cc790fa12573c9c1aa00988e07a8818a22...  \n",
       "3        b1dbd3a649a3cc790fa12573c9c1aa00988e07a8818a22...  \n",
       "4        b1dbd3a649a3cc790fa12573c9c1aa00988e07a8818a22...  \n",
       "...                                                    ...  \n",
       "5282255  9a9e8613b6d7d1b573ba38dba19eec9c3cc460ab00cb49...  \n",
       "5282256  9a9e8613b6d7d1b573ba38dba19eec9c3cc460ab00cb49...  \n",
       "5282257  4bba5c2371c3384862e69615979c2aa5b7f1b4fc3ea914...  \n",
       "5282258  9a9e8613b6d7d1b573ba38dba19eec9c3cc460ab00cb49...  \n",
       "5282259  9653f5baba69c9fb50bfb30a8571eb04dbceaae7c7f379...  \n",
       "\n",
       "[5282260 rows x 3 columns]"
      ]
     },
     "execution_count": 8,
     "metadata": {},
     "output_type": "execute_result"
    }
   ],
   "source": [
    "df = df[df['traceid'].isin(set(traces))]\n",
    "df"
   ]
  },
  {
   "cell_type": "code",
   "execution_count": 9,
   "id": "d0d6f4ec",
   "metadata": {},
   "outputs": [
    {
     "name": "stderr",
     "output_type": "stream",
     "text": [
      "100%|██████████| 130506/130506 [9:22:15<00:00,  3.87it/s]  \n"
     ]
    }
   ],
   "source": [
    "from tqdm import tqdm\n",
    "\n",
    "with tqdm(total=len(traces)) as progress_bar:\n",
    "    for trace in traces:\n",
    "        trace_df = df[df['traceid']==trace]\n",
    "        traces_calls.append(len(trace_df))\n",
    "        traces_entities.append(len(set(trace_df['dm']) | set(trace_df['um'])))\n",
    "        progress_bar.update(1)\n"
   ]
  },
  {
   "cell_type": "code",
   "execution_count": 10,
   "id": "50b719f0",
   "metadata": {},
   "outputs": [],
   "source": [
    "from statistics import mean,median,stdev"
   ]
  },
  {
   "cell_type": "code",
   "execution_count": 14,
   "id": "b6890f79",
   "metadata": {},
   "outputs": [
    {
     "name": "stdout",
     "output_type": "stream",
     "text": [
      "Mean number of calls per trace:  40.4752271926195  standard deviation:  126.40080685607592\n",
      "Median number of calls per trace:  10.0\n",
      "Mean number of entities per trace:  11.421582149479718  standard deviation:  14.665507421840605\n",
      "Median number of entities per trace:  7.0\n"
     ]
    }
   ],
   "source": [
    "print(\"Mean number of calls per trace: \", mean(traces_calls), \" standard deviation: \", stdev(traces_calls))\n",
    "print(\"Median number of calls per trace: \", median(traces_calls))\n",
    "print(\"Mean number of entities per trace: \", mean(traces_entities), \" standard deviation: \", stdev(traces_entities))\n",
    "print(\"Median number of entities per trace: \", median(traces_entities))"
   ]
  },
  {
   "cell_type": "code",
   "execution_count": null,
   "id": "407c88a0",
   "metadata": {},
   "outputs": [],
   "source": []
  }
 ],
 "metadata": {
  "kernelspec": {
   "display_name": "Python 3 (ipykernel)",
   "language": "python",
   "name": "python3"
  },
  "language_info": {
   "codemirror_mode": {
    "name": "ipython",
    "version": 3
   },
   "file_extension": ".py",
   "mimetype": "text/x-python",
   "name": "python",
   "nbconvert_exporter": "python",
   "pygments_lexer": "ipython3",
   "version": "3.9.16"
  }
 },
 "nbformat": 4,
 "nbformat_minor": 5
}
