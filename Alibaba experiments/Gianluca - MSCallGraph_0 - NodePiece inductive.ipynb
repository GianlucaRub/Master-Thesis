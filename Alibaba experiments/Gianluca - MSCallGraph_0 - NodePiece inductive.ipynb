{
 "cells": [
  {
   "cell_type": "code",
   "execution_count": 1,
   "id": "d30eabec",
   "metadata": {},
   "outputs": [],
   "source": [
    "import networkx as nx\n",
    "from pykeen.pipeline import pipeline\n",
    "from pykeen.datasets import Nations, get_dataset\n",
    "import matplotlib.pyplot as plt\n",
    "import matplotlib as mpl\n",
    "import torch\n",
    "from pykeen.models import predict\n",
    "from pykeen.evaluation import evaluate, RankBasedEvaluator\n",
    "from pykeen.metrics.ranking import HitsAtK\n",
    "import pandas as pd\n",
    "\n",
    "\n",
    "import logging\n",
    "from pathlib import Path\n",
    "\n",
    "import click\n",
    "import more_click\n",
    "import torch\n",
    "from pykeen.evaluation import RankBasedEvaluator\n",
    "from pykeen.losses import NSSALoss\n",
    "from pykeen.models.inductive import InductiveNodePiece, InductiveNodePieceGNN\n",
    "from pykeen.trackers import ConsoleResultTracker, WANDBResultTracker\n",
    "from pykeen.training import SLCWATrainingLoop\n",
    "from pykeen.typing import TESTING, TRAINING, VALIDATION\n",
    "from pykeen.utils import resolve_device, set_random_seed\n",
    "from torch.optim import Adam\n",
    "\n",
    "\n",
    "from pykeen.metrics.ranking import HitsAtK\n",
    "\n",
    "from pathlib import Path\n",
    "\n",
    "from pykeen.datasets.inductive.base import DisjointInductivePathDataset\n",
    "from typing_extensions import Literal\n",
    "import os\n",
    "from pykeen.hpo import hpo_pipeline\n",
    "from pykeen.triples import TriplesFactory\n",
    "from pykeen.models import InductiveNodePiece\n",
    "from pykeen.typing import TESTING, TRAINING, VALIDATION\n",
    "\n",
    "seed = 1234"
   ]
  },
  {
   "cell_type": "code",
   "execution_count": 2,
   "id": "59954771",
   "metadata": {},
   "outputs": [],
   "source": [
    "class InductiveLPDataset(DisjointInductivePathDataset):\n",
    "    \"\"\"An inductive link prediction dataset for the ILPC 2022 Challenge.\"\"\"\n",
    "\n",
    "    \n",
    "    \n",
    "    \n",
    "    def __init__(self , **kwargs):\n",
    "        \"\"\"Initialize the inductive link prediction dataset.\n",
    "\n",
    "        :param size: \"small\" or \"large\"\n",
    "        :param kwargs: keyword arguments to forward to the base dataset class, cf. DisjointInductivePathDataset\n",
    "        \"\"\"\n",
    "        DATA_TYPE = \"_fully_inductive.tsv\"\n",
    "        TRAIN_PATH = \"MSCallGraph_0_train\" + DATA_TYPE\n",
    "        TEST_PATH = \"MSCallGraph_0_test\" + DATA_TYPE\n",
    "        VALIDATE_PATH = \"MSCallGraph_0_validation\" + DATA_TYPE\n",
    "        INFERENCE_PATH = \"MSCallGraph_0_inference\" + DATA_TYPE\n",
    "\n",
    "\n",
    "        super().__init__(\n",
    "            transductive_training_path=os.getcwd()+\"/\"+TRAIN_PATH,\n",
    "            inductive_inference_path=os.getcwd()+\"/\"+INFERENCE_PATH,\n",
    "            inductive_validation_path=os.getcwd()+\"/\"+VALIDATE_PATH,\n",
    "            inductive_testing_path=os.getcwd()+\"/\"+TEST_PATH,\n",
    "            create_inverse_triples=True,\n",
    "            eager=True,\n",
    "            **kwargs\n",
    "        )\n"
   ]
  },
  {
   "cell_type": "code",
   "execution_count": 3,
   "id": "fba970fc",
   "metadata": {},
   "outputs": [],
   "source": [
    "def show_metrics(dictionary):\n",
    "    for key in dictionary.keys():\n",
    "        print(key)\n",
    "        display(pd.DataFrame(dictionary[key]))"
   ]
  },
  {
   "cell_type": "code",
   "execution_count": 4,
   "id": "766f31a2",
   "metadata": {},
   "outputs": [],
   "source": [
    "dataset = InductiveLPDataset()\n"
   ]
  },
  {
   "cell_type": "code",
   "execution_count": 5,
   "id": "eee10f05",
   "metadata": {},
   "outputs": [
    {
     "name": "stderr",
     "output_type": "stream",
     "text": [
      "No random seed is specified. This may lead to non-reproducible results.\n"
     ]
    },
    {
     "data": {
      "application/vnd.jupyter.widget-view+json": {
       "model_id": "",
       "version_major": 2,
       "version_minor": 0
      },
      "text/plain": [
       "sampling:   0%|          | 0.00/3.79k [00:00<?, ?it/s]"
      ]
     },
     "metadata": {},
     "output_type": "display_data"
    },
    {
     "name": "stderr",
     "output_type": "stream",
     "text": [
      "No symbolic computation of output shape.\n"
     ]
    },
    {
     "data": {
      "application/vnd.jupyter.widget-view+json": {
       "model_id": "",
       "version_major": 2,
       "version_minor": 0
      },
      "text/plain": [
       "sampling:   0%|          | 0.00/1.49k [00:00<?, ?it/s]"
      ]
     },
     "metadata": {},
     "output_type": "display_data"
    },
    {
     "name": "stderr",
     "output_type": "stream",
     "text": [
      "No symbolic computation of output shape.\n",
      "No cuda devices were available. The model runs on CPU\n"
     ]
    },
    {
     "name": "stdout",
     "output_type": "stream",
     "text": [
      "Number of parameters: 34112\n",
      "Space occupied: 136448 bytes\n"
     ]
    }
   ],
   "source": [
    "model = InductiveNodePieceGNN(\n",
    "        triples_factory=dataset.transductive_training,\n",
    "        inference_factory=dataset.inductive_inference,\n",
    "    ).to(resolve_device())\n",
    "print(f\"Number of parameters: {sum(p.numel() for p in model.parameters())}\")\n",
    "print(f\"Space occupied: {model.num_parameter_bytes} bytes\")"
   ]
  },
  {
   "cell_type": "code",
   "execution_count": 6,
   "id": "ae4971a2",
   "metadata": {},
   "outputs": [],
   "source": [
    "tracker = ConsoleResultTracker()\n",
    "# default training regime is negative sampling (SLCWA)\n",
    "# you can also use the 1-N regime with the LCWATrainingLoop\n",
    "# the LCWA loop does not need negative sampling kwargs, but accepts label_smoothing in the .train() method\n",
    "training_loop = SLCWATrainingLoop(\n",
    "        triples_factory=dataset.transductive_training,\n",
    "        model=model,\n",
    "        mode=TRAINING,  # must be specified for the inductive setup\n",
    "        result_tracker=tracker,\n",
    "\n",
    "    )"
   ]
  },
  {
   "cell_type": "code",
   "execution_count": 7,
   "id": "8fc2a40b",
   "metadata": {},
   "outputs": [],
   "source": [
    "metrics = ['meanreciprocalrank', HitsAtK(1),\n",
    "                 HitsAtK(3), HitsAtK(5), HitsAtK(10)]\n",
    "\n",
    "train_evaluator = RankBasedEvaluator(\n",
    "        mode=TRAINING,\n",
    "        # metrics=[\"hits_at_k\"]*5,\n",
    "        # metrics_kwargs=[dict(k=k) for k in (1, 3, 5, 10, 100)],\n",
    "        metrics=metrics,\n",
    "        add_defaults=False,\n",
    "    )\n",
    "# specifying hits@k values: 1, 3, 5, 10, 100\n",
    "valid_evaluator = RankBasedEvaluator(\n",
    "        mode=VALIDATION,\n",
    "        # metrics=[\"hits_at_k\"]*5,\n",
    "        # metrics_kwargs=[dict(k=k) for k in (1, 3, 5, 10, 100)],\n",
    "        metrics=metrics,\n",
    "        add_defaults=False,\n",
    "    )\n",
    "test_evaluator = RankBasedEvaluator(\n",
    "        mode=TESTING,\n",
    "        # metrics=[\"hits_at_k\"] * 5,\n",
    "        # metrics_kwargs=[dict(k=k) for k in (1, 3, 5, 10, 100)],\n",
    "        metrics = metrics,\n",
    "        add_defaults=False\n",
    "    )"
   ]
  },
  {
   "cell_type": "code",
   "execution_count": 8,
   "id": "fdf15a48",
   "metadata": {},
   "outputs": [
    {
     "data": {
      "application/vnd.jupyter.widget-view+json": {
       "model_id": "a2646b2373da41028b2b4ac5457fddea",
       "version_major": 2,
       "version_minor": 0
      },
      "text/plain": [
       "Training epochs on cpu:   0%|          | 0/2 [00:00<?, ?epoch/s]"
      ]
     },
     "metadata": {},
     "output_type": "display_data"
    },
    {
     "data": {
      "application/vnd.jupyter.widget-view+json": {
       "model_id": "",
       "version_major": 2,
       "version_minor": 0
      },
      "text/plain": [
       "Training batches on cpu:   0%|          | 0/51 [00:00<?, ?batch/s]"
      ]
     },
     "metadata": {},
     "output_type": "display_data"
    },
    {
     "data": {
      "application/vnd.jupyter.widget-view+json": {
       "model_id": "edb4b4e457164c6eabb75a1656d68eb7",
       "version_major": 2,
       "version_minor": 0
      },
      "text/plain": [
       "Evaluating on cpu:   0%|          | 0.00/994 [00:00<?, ?triple/s]"
      ]
     },
     "metadata": {},
     "output_type": "display_data"
    },
    {
     "name": "stdout",
     "output_type": "stream",
     "text": [
      "Step: 1\n",
      "Metric: validation.head.optimistic.inverse_harmonic_mean_rank = 0.05756291548889489\n",
      "Metric: validation.tail.optimistic.inverse_harmonic_mean_rank = 0.09075002048017283\n",
      "Metric: validation.both.optimistic.inverse_harmonic_mean_rank = 0.07415646798453386\n",
      "Metric: validation.head.realistic.inverse_harmonic_mean_rank = 0.054140739142894745\n",
      "Metric: validation.tail.realistic.inverse_harmonic_mean_rank = 0.0907246470451355\n",
      "Metric: validation.both.realistic.inverse_harmonic_mean_rank = 0.07243268936872482\n",
      "Metric: validation.head.pessimistic.inverse_harmonic_mean_rank = 0.05384391134861308\n",
      "Metric: validation.tail.pessimistic.inverse_harmonic_mean_rank = 0.09070417015576884\n",
      "Metric: validation.both.pessimistic.inverse_harmonic_mean_rank = 0.07227404075219097\n",
      "Metric: validation.head.optimistic.hits_at_1 = 0.013078470824949699\n",
      "Metric: validation.tail.optimistic.hits_at_1 = 0.01609657947686117\n",
      "Metric: validation.both.optimistic.hits_at_1 = 0.014587525150905433\n",
      "Metric: validation.head.realistic.hits_at_1 = 0.009054325955734407\n",
      "Metric: validation.tail.realistic.hits_at_1 = 0.01609657947686117\n",
      "Metric: validation.both.realistic.hits_at_1 = 0.012575452716297788\n",
      "Metric: validation.head.pessimistic.hits_at_1 = 0.009054325955734407\n",
      "Metric: validation.tail.pessimistic.hits_at_1 = 0.01609657947686117\n",
      "Metric: validation.both.pessimistic.hits_at_1 = 0.012575452716297788\n",
      "Metric: validation.head.optimistic.hits_at_3 = 0.0482897384305835\n",
      "Metric: validation.tail.optimistic.hits_at_3 = 0.09557344064386318\n",
      "Metric: validation.both.optimistic.hits_at_3 = 0.07193158953722334\n",
      "Metric: validation.head.realistic.hits_at_3 = 0.04426559356136821\n",
      "Metric: validation.tail.realistic.hits_at_3 = 0.09557344064386318\n",
      "Metric: validation.both.realistic.hits_at_3 = 0.0699195171026157\n",
      "Metric: validation.head.pessimistic.hits_at_3 = 0.04426559356136821\n",
      "Metric: validation.tail.pessimistic.hits_at_3 = 0.09557344064386318\n",
      "Metric: validation.both.pessimistic.hits_at_3 = 0.0699195171026157\n",
      "Metric: validation.head.optimistic.hits_at_5 = 0.079476861167002\n",
      "Metric: validation.tail.optimistic.hits_at_5 = 0.15090543259557343\n",
      "Metric: validation.both.optimistic.hits_at_5 = 0.11519114688128773\n",
      "Metric: validation.head.realistic.hits_at_5 = 0.07545271629778671\n",
      "Metric: validation.tail.realistic.hits_at_5 = 0.15090543259557343\n",
      "Metric: validation.both.realistic.hits_at_5 = 0.11317907444668009\n",
      "Metric: validation.head.pessimistic.hits_at_5 = 0.07545271629778671\n",
      "Metric: validation.tail.pessimistic.hits_at_5 = 0.15090543259557343\n",
      "Metric: validation.both.pessimistic.hits_at_5 = 0.11317907444668009\n",
      "Metric: validation.head.optimistic.hits_at_10 = 0.14587525150905434\n",
      "Metric: validation.tail.optimistic.hits_at_10 = 0.23541247484909456\n",
      "Metric: validation.both.optimistic.hits_at_10 = 0.19064386317907445\n",
      "Metric: validation.head.realistic.hits_at_10 = 0.1448692152917505\n",
      "Metric: validation.tail.realistic.hits_at_10 = 0.23440643863179075\n",
      "Metric: validation.both.realistic.hits_at_10 = 0.18963782696177062\n",
      "Metric: validation.head.pessimistic.hits_at_10 = 0.14084507042253522\n",
      "Metric: validation.tail.pessimistic.hits_at_10 = 0.23440643863179075\n",
      "Metric: validation.both.pessimistic.hits_at_10 = 0.18762575452716299\n",
      "Step: 1\n",
      "Metric: loss = 0.6057493330216875\n"
     ]
    },
    {
     "data": {
      "application/vnd.jupyter.widget-view+json": {
       "model_id": "",
       "version_major": 2,
       "version_minor": 0
      },
      "text/plain": [
       "Training batches on cpu:   0%|          | 0/51 [00:00<?, ?batch/s]"
      ]
     },
     "metadata": {},
     "output_type": "display_data"
    },
    {
     "data": {
      "application/vnd.jupyter.widget-view+json": {
       "model_id": "b9292bc348b44de4bc984453f8ddeef2",
       "version_major": 2,
       "version_minor": 0
      },
      "text/plain": [
       "Evaluating on cpu:   0%|          | 0.00/994 [00:00<?, ?triple/s]"
      ]
     },
     "metadata": {},
     "output_type": "display_data"
    },
    {
     "name": "stdout",
     "output_type": "stream",
     "text": [
      "Step: 2\n",
      "Metric: validation.head.optimistic.inverse_harmonic_mean_rank = 0.06005765760611049\n",
      "Metric: validation.tail.optimistic.inverse_harmonic_mean_rank = 0.14612802665727304\n",
      "Metric: validation.both.optimistic.inverse_harmonic_mean_rank = 0.10309284213169176\n",
      "Metric: validation.head.realistic.inverse_harmonic_mean_rank = 0.059953220188617706\n",
      "Metric: validation.tail.realistic.inverse_harmonic_mean_rank = 0.14607557654380798\n",
      "Metric: validation.both.realistic.inverse_harmonic_mean_rank = 0.10301439464092255\n",
      "Metric: validation.head.pessimistic.inverse_harmonic_mean_rank = 0.059890152314389135\n",
      "Metric: validation.tail.pessimistic.inverse_harmonic_mean_rank = 0.14603534305952678\n",
      "Metric: validation.both.pessimistic.inverse_harmonic_mean_rank = 0.10296274768695794\n",
      "Metric: validation.head.optimistic.hits_at_1 = 0.02012072434607646\n",
      "Metric: validation.tail.optimistic.hits_at_1 = 0.05130784708249497\n",
      "Metric: validation.both.optimistic.hits_at_1 = 0.03571428571428571\n",
      "Metric: validation.head.realistic.hits_at_1 = 0.02012072434607646\n",
      "Metric: validation.tail.realistic.hits_at_1 = 0.05130784708249497\n",
      "Metric: validation.both.realistic.hits_at_1 = 0.03571428571428571\n",
      "Metric: validation.head.pessimistic.hits_at_1 = 0.02012072434607646\n",
      "Metric: validation.tail.pessimistic.hits_at_1 = 0.05130784708249497\n",
      "Metric: validation.both.pessimistic.hits_at_1 = 0.03571428571428571\n",
      "Metric: validation.head.optimistic.hits_at_3 = 0.04527162977867203\n",
      "Metric: validation.tail.optimistic.hits_at_3 = 0.1710261569416499\n",
      "Metric: validation.both.optimistic.hits_at_3 = 0.10814889336016097\n",
      "Metric: validation.head.realistic.hits_at_3 = 0.04527162977867203\n",
      "Metric: validation.tail.realistic.hits_at_3 = 0.1710261569416499\n",
      "Metric: validation.both.realistic.hits_at_3 = 0.10814889336016097\n",
      "Metric: validation.head.pessimistic.hits_at_3 = 0.04527162977867203\n",
      "Metric: validation.tail.pessimistic.hits_at_3 = 0.1710261569416499\n",
      "Metric: validation.both.pessimistic.hits_at_3 = 0.10814889336016097\n",
      "Metric: validation.head.optimistic.hits_at_5 = 0.07645875251509054\n",
      "Metric: validation.tail.optimistic.hits_at_5 = 0.21629778672032193\n",
      "Metric: validation.both.optimistic.hits_at_5 = 0.14637826961770622\n",
      "Metric: validation.head.realistic.hits_at_5 = 0.07645875251509054\n",
      "Metric: validation.tail.realistic.hits_at_5 = 0.21629778672032193\n",
      "Metric: validation.both.realistic.hits_at_5 = 0.14637826961770622\n",
      "Metric: validation.head.pessimistic.hits_at_5 = 0.07645875251509054\n",
      "Metric: validation.tail.pessimistic.hits_at_5 = 0.21629778672032193\n",
      "Metric: validation.both.pessimistic.hits_at_5 = 0.14637826961770622\n",
      "Metric: validation.head.optimistic.hits_at_10 = 0.11871227364185111\n",
      "Metric: validation.tail.optimistic.hits_at_10 = 0.32494969818913483\n",
      "Metric: validation.both.optimistic.hits_at_10 = 0.22183098591549297\n",
      "Metric: validation.head.realistic.hits_at_10 = 0.11871227364185111\n",
      "Metric: validation.tail.realistic.hits_at_10 = 0.323943661971831\n",
      "Metric: validation.both.realistic.hits_at_10 = 0.22132796780684105\n",
      "Metric: validation.head.pessimistic.hits_at_10 = 0.11770623742454728\n",
      "Metric: validation.tail.pessimistic.hits_at_10 = 0.323943661971831\n",
      "Metric: validation.both.pessimistic.hits_at_10 = 0.22082494969818914\n",
      "Step: 2\n",
      "Metric: loss = 0.27081094214729234\n"
     ]
    },
    {
     "data": {
      "text/plain": [
       "[0.6057493330216875, 0.27081094214729234]"
      ]
     },
     "execution_count": 8,
     "metadata": {},
     "output_type": "execute_result"
    }
   ],
   "source": [
    "training_loop.train(\n",
    "        triples_factory=dataset.transductive_training,\n",
    "        num_epochs=2,\n",
    "        callbacks=\"evaluation\",\n",
    "        callback_kwargs=dict(\n",
    "            evaluator=valid_evaluator,\n",
    "            evaluation_triples=dataset.inductive_validation.mapped_triples,\n",
    "            prefix=\"validation\",\n",
    "            frequency=1,\n",
    "            additional_filter_triples=dataset.inductive_inference.mapped_triples,\n",
    "        ),\n",
    "        \n",
    "    )"
   ]
  },
  {
   "cell_type": "code",
   "execution_count": 9,
   "id": "a4aabaae",
   "metadata": {},
   "outputs": [
    {
     "data": {
      "application/vnd.jupyter.widget-view+json": {
       "model_id": "ce72444516f24987928d18ef77a71804",
       "version_major": 2,
       "version_minor": 0
      },
      "text/plain": [
       "Evaluating on cpu:   0%|          | 0.00/6.64k [00:00<?, ?triple/s]"
      ]
     },
     "metadata": {},
     "output_type": "display_data"
    },
    {
     "name": "stdout",
     "output_type": "stream",
     "text": [
      "head\n"
     ]
    },
    {
     "data": {
      "text/html": [
       "<div>\n",
       "<style scoped>\n",
       "    .dataframe tbody tr th:only-of-type {\n",
       "        vertical-align: middle;\n",
       "    }\n",
       "\n",
       "    .dataframe tbody tr th {\n",
       "        vertical-align: top;\n",
       "    }\n",
       "\n",
       "    .dataframe thead th {\n",
       "        text-align: right;\n",
       "    }\n",
       "</style>\n",
       "<table border=\"1\" class=\"dataframe\">\n",
       "  <thead>\n",
       "    <tr style=\"text-align: right;\">\n",
       "      <th></th>\n",
       "      <th>optimistic</th>\n",
       "      <th>realistic</th>\n",
       "      <th>pessimistic</th>\n",
       "    </tr>\n",
       "  </thead>\n",
       "  <tbody>\n",
       "    <tr>\n",
       "      <th>inverse_harmonic_mean_rank</th>\n",
       "      <td>0.078300</td>\n",
       "      <td>0.076869</td>\n",
       "      <td>0.076233</td>\n",
       "    </tr>\n",
       "    <tr>\n",
       "      <th>hits_at_1</th>\n",
       "      <td>0.045194</td>\n",
       "      <td>0.041579</td>\n",
       "      <td>0.041579</td>\n",
       "    </tr>\n",
       "    <tr>\n",
       "      <th>hits_at_3</th>\n",
       "      <td>0.074420</td>\n",
       "      <td>0.074420</td>\n",
       "      <td>0.073817</td>\n",
       "    </tr>\n",
       "    <tr>\n",
       "      <th>hits_at_5</th>\n",
       "      <td>0.095661</td>\n",
       "      <td>0.095661</td>\n",
       "      <td>0.095661</td>\n",
       "    </tr>\n",
       "    <tr>\n",
       "      <th>hits_at_10</th>\n",
       "      <td>0.132721</td>\n",
       "      <td>0.132721</td>\n",
       "      <td>0.132721</td>\n",
       "    </tr>\n",
       "  </tbody>\n",
       "</table>\n",
       "</div>"
      ],
      "text/plain": [
       "                            optimistic  realistic  pessimistic\n",
       "inverse_harmonic_mean_rank    0.078300   0.076869     0.076233\n",
       "hits_at_1                     0.045194   0.041579     0.041579\n",
       "hits_at_3                     0.074420   0.074420     0.073817\n",
       "hits_at_5                     0.095661   0.095661     0.095661\n",
       "hits_at_10                    0.132721   0.132721     0.132721"
      ]
     },
     "metadata": {},
     "output_type": "display_data"
    },
    {
     "name": "stdout",
     "output_type": "stream",
     "text": [
      "tail\n"
     ]
    },
    {
     "data": {
      "text/html": [
       "<div>\n",
       "<style scoped>\n",
       "    .dataframe tbody tr th:only-of-type {\n",
       "        vertical-align: middle;\n",
       "    }\n",
       "\n",
       "    .dataframe tbody tr th {\n",
       "        vertical-align: top;\n",
       "    }\n",
       "\n",
       "    .dataframe thead th {\n",
       "        text-align: right;\n",
       "    }\n",
       "</style>\n",
       "<table border=\"1\" class=\"dataframe\">\n",
       "  <thead>\n",
       "    <tr style=\"text-align: right;\">\n",
       "      <th></th>\n",
       "      <th>optimistic</th>\n",
       "      <th>realistic</th>\n",
       "      <th>pessimistic</th>\n",
       "    </tr>\n",
       "  </thead>\n",
       "  <tbody>\n",
       "    <tr>\n",
       "      <th>inverse_harmonic_mean_rank</th>\n",
       "      <td>0.143599</td>\n",
       "      <td>0.142142</td>\n",
       "      <td>0.141490</td>\n",
       "    </tr>\n",
       "    <tr>\n",
       "      <th>hits_at_1</th>\n",
       "      <td>0.059054</td>\n",
       "      <td>0.055438</td>\n",
       "      <td>0.055438</td>\n",
       "    </tr>\n",
       "    <tr>\n",
       "      <th>hits_at_3</th>\n",
       "      <td>0.174902</td>\n",
       "      <td>0.174902</td>\n",
       "      <td>0.174299</td>\n",
       "    </tr>\n",
       "    <tr>\n",
       "      <th>hits_at_5</th>\n",
       "      <td>0.227328</td>\n",
       "      <td>0.227026</td>\n",
       "      <td>0.227026</td>\n",
       "    </tr>\n",
       "    <tr>\n",
       "      <th>hits_at_10</th>\n",
       "      <td>0.297228</td>\n",
       "      <td>0.297228</td>\n",
       "      <td>0.297228</td>\n",
       "    </tr>\n",
       "  </tbody>\n",
       "</table>\n",
       "</div>"
      ],
      "text/plain": [
       "                            optimistic  realistic  pessimistic\n",
       "inverse_harmonic_mean_rank    0.143599   0.142142     0.141490\n",
       "hits_at_1                     0.059054   0.055438     0.055438\n",
       "hits_at_3                     0.174902   0.174902     0.174299\n",
       "hits_at_5                     0.227328   0.227026     0.227026\n",
       "hits_at_10                    0.297228   0.297228     0.297228"
      ]
     },
     "metadata": {},
     "output_type": "display_data"
    },
    {
     "name": "stdout",
     "output_type": "stream",
     "text": [
      "both\n"
     ]
    },
    {
     "data": {
      "text/html": [
       "<div>\n",
       "<style scoped>\n",
       "    .dataframe tbody tr th:only-of-type {\n",
       "        vertical-align: middle;\n",
       "    }\n",
       "\n",
       "    .dataframe tbody tr th {\n",
       "        vertical-align: top;\n",
       "    }\n",
       "\n",
       "    .dataframe thead th {\n",
       "        text-align: right;\n",
       "    }\n",
       "</style>\n",
       "<table border=\"1\" class=\"dataframe\">\n",
       "  <thead>\n",
       "    <tr style=\"text-align: right;\">\n",
       "      <th></th>\n",
       "      <th>optimistic</th>\n",
       "      <th>realistic</th>\n",
       "      <th>pessimistic</th>\n",
       "    </tr>\n",
       "  </thead>\n",
       "  <tbody>\n",
       "    <tr>\n",
       "      <th>inverse_harmonic_mean_rank</th>\n",
       "      <td>0.110950</td>\n",
       "      <td>0.109506</td>\n",
       "      <td>0.108862</td>\n",
       "    </tr>\n",
       "    <tr>\n",
       "      <th>hits_at_1</th>\n",
       "      <td>0.052124</td>\n",
       "      <td>0.048509</td>\n",
       "      <td>0.048509</td>\n",
       "    </tr>\n",
       "    <tr>\n",
       "      <th>hits_at_3</th>\n",
       "      <td>0.124661</td>\n",
       "      <td>0.124661</td>\n",
       "      <td>0.124058</td>\n",
       "    </tr>\n",
       "    <tr>\n",
       "      <th>hits_at_5</th>\n",
       "      <td>0.161494</td>\n",
       "      <td>0.161344</td>\n",
       "      <td>0.161344</td>\n",
       "    </tr>\n",
       "    <tr>\n",
       "      <th>hits_at_10</th>\n",
       "      <td>0.214974</td>\n",
       "      <td>0.214974</td>\n",
       "      <td>0.214974</td>\n",
       "    </tr>\n",
       "  </tbody>\n",
       "</table>\n",
       "</div>"
      ],
      "text/plain": [
       "                            optimistic  realistic  pessimistic\n",
       "inverse_harmonic_mean_rank    0.110950   0.109506     0.108862\n",
       "hits_at_1                     0.052124   0.048509     0.048509\n",
       "hits_at_3                     0.124661   0.124661     0.124058\n",
       "hits_at_5                     0.161494   0.161344     0.161344\n",
       "hits_at_10                    0.214974   0.214974     0.214974"
      ]
     },
     "metadata": {},
     "output_type": "display_data"
    }
   ],
   "source": [
    "# train\n",
    "show_metrics(train_evaluator.evaluate(\n",
    "        model=model,\n",
    "        mapped_triples=dataset.transductive_training.mapped_triples,\n",
    "        additional_filter_triples=[\n",
    "        dataset.transductive_training.mapped_triples,\n",
    "    ]\n",
    "    ).to_dict())"
   ]
  },
  {
   "cell_type": "code",
   "execution_count": 10,
   "id": "c3c7e30e",
   "metadata": {},
   "outputs": [
    {
     "data": {
      "application/vnd.jupyter.widget-view+json": {
       "model_id": "42dfc0058cc2407d915779b433a49d6e",
       "version_major": 2,
       "version_minor": 0
      },
      "text/plain": [
       "Evaluating on cpu:   0%|          | 0.00/994 [00:00<?, ?triple/s]"
      ]
     },
     "metadata": {},
     "output_type": "display_data"
    },
    {
     "name": "stdout",
     "output_type": "stream",
     "text": [
      "head\n"
     ]
    },
    {
     "data": {
      "text/html": [
       "<div>\n",
       "<style scoped>\n",
       "    .dataframe tbody tr th:only-of-type {\n",
       "        vertical-align: middle;\n",
       "    }\n",
       "\n",
       "    .dataframe tbody tr th {\n",
       "        vertical-align: top;\n",
       "    }\n",
       "\n",
       "    .dataframe thead th {\n",
       "        text-align: right;\n",
       "    }\n",
       "</style>\n",
       "<table border=\"1\" class=\"dataframe\">\n",
       "  <thead>\n",
       "    <tr style=\"text-align: right;\">\n",
       "      <th></th>\n",
       "      <th>optimistic</th>\n",
       "      <th>realistic</th>\n",
       "      <th>pessimistic</th>\n",
       "    </tr>\n",
       "  </thead>\n",
       "  <tbody>\n",
       "    <tr>\n",
       "      <th>inverse_harmonic_mean_rank</th>\n",
       "      <td>0.060058</td>\n",
       "      <td>0.059953</td>\n",
       "      <td>0.059890</td>\n",
       "    </tr>\n",
       "    <tr>\n",
       "      <th>hits_at_1</th>\n",
       "      <td>0.020121</td>\n",
       "      <td>0.020121</td>\n",
       "      <td>0.020121</td>\n",
       "    </tr>\n",
       "    <tr>\n",
       "      <th>hits_at_3</th>\n",
       "      <td>0.045272</td>\n",
       "      <td>0.045272</td>\n",
       "      <td>0.045272</td>\n",
       "    </tr>\n",
       "    <tr>\n",
       "      <th>hits_at_5</th>\n",
       "      <td>0.076459</td>\n",
       "      <td>0.076459</td>\n",
       "      <td>0.076459</td>\n",
       "    </tr>\n",
       "    <tr>\n",
       "      <th>hits_at_10</th>\n",
       "      <td>0.118712</td>\n",
       "      <td>0.118712</td>\n",
       "      <td>0.117706</td>\n",
       "    </tr>\n",
       "  </tbody>\n",
       "</table>\n",
       "</div>"
      ],
      "text/plain": [
       "                            optimistic  realistic  pessimistic\n",
       "inverse_harmonic_mean_rank    0.060058   0.059953     0.059890\n",
       "hits_at_1                     0.020121   0.020121     0.020121\n",
       "hits_at_3                     0.045272   0.045272     0.045272\n",
       "hits_at_5                     0.076459   0.076459     0.076459\n",
       "hits_at_10                    0.118712   0.118712     0.117706"
      ]
     },
     "metadata": {},
     "output_type": "display_data"
    },
    {
     "name": "stdout",
     "output_type": "stream",
     "text": [
      "tail\n"
     ]
    },
    {
     "data": {
      "text/html": [
       "<div>\n",
       "<style scoped>\n",
       "    .dataframe tbody tr th:only-of-type {\n",
       "        vertical-align: middle;\n",
       "    }\n",
       "\n",
       "    .dataframe tbody tr th {\n",
       "        vertical-align: top;\n",
       "    }\n",
       "\n",
       "    .dataframe thead th {\n",
       "        text-align: right;\n",
       "    }\n",
       "</style>\n",
       "<table border=\"1\" class=\"dataframe\">\n",
       "  <thead>\n",
       "    <tr style=\"text-align: right;\">\n",
       "      <th></th>\n",
       "      <th>optimistic</th>\n",
       "      <th>realistic</th>\n",
       "      <th>pessimistic</th>\n",
       "    </tr>\n",
       "  </thead>\n",
       "  <tbody>\n",
       "    <tr>\n",
       "      <th>inverse_harmonic_mean_rank</th>\n",
       "      <td>0.146128</td>\n",
       "      <td>0.146076</td>\n",
       "      <td>0.146035</td>\n",
       "    </tr>\n",
       "    <tr>\n",
       "      <th>hits_at_1</th>\n",
       "      <td>0.051308</td>\n",
       "      <td>0.051308</td>\n",
       "      <td>0.051308</td>\n",
       "    </tr>\n",
       "    <tr>\n",
       "      <th>hits_at_3</th>\n",
       "      <td>0.171026</td>\n",
       "      <td>0.171026</td>\n",
       "      <td>0.171026</td>\n",
       "    </tr>\n",
       "    <tr>\n",
       "      <th>hits_at_5</th>\n",
       "      <td>0.216298</td>\n",
       "      <td>0.216298</td>\n",
       "      <td>0.216298</td>\n",
       "    </tr>\n",
       "    <tr>\n",
       "      <th>hits_at_10</th>\n",
       "      <td>0.324950</td>\n",
       "      <td>0.323944</td>\n",
       "      <td>0.323944</td>\n",
       "    </tr>\n",
       "  </tbody>\n",
       "</table>\n",
       "</div>"
      ],
      "text/plain": [
       "                            optimistic  realistic  pessimistic\n",
       "inverse_harmonic_mean_rank    0.146128   0.146076     0.146035\n",
       "hits_at_1                     0.051308   0.051308     0.051308\n",
       "hits_at_3                     0.171026   0.171026     0.171026\n",
       "hits_at_5                     0.216298   0.216298     0.216298\n",
       "hits_at_10                    0.324950   0.323944     0.323944"
      ]
     },
     "metadata": {},
     "output_type": "display_data"
    },
    {
     "name": "stdout",
     "output_type": "stream",
     "text": [
      "both\n"
     ]
    },
    {
     "data": {
      "text/html": [
       "<div>\n",
       "<style scoped>\n",
       "    .dataframe tbody tr th:only-of-type {\n",
       "        vertical-align: middle;\n",
       "    }\n",
       "\n",
       "    .dataframe tbody tr th {\n",
       "        vertical-align: top;\n",
       "    }\n",
       "\n",
       "    .dataframe thead th {\n",
       "        text-align: right;\n",
       "    }\n",
       "</style>\n",
       "<table border=\"1\" class=\"dataframe\">\n",
       "  <thead>\n",
       "    <tr style=\"text-align: right;\">\n",
       "      <th></th>\n",
       "      <th>optimistic</th>\n",
       "      <th>realistic</th>\n",
       "      <th>pessimistic</th>\n",
       "    </tr>\n",
       "  </thead>\n",
       "  <tbody>\n",
       "    <tr>\n",
       "      <th>inverse_harmonic_mean_rank</th>\n",
       "      <td>0.103093</td>\n",
       "      <td>0.103014</td>\n",
       "      <td>0.102963</td>\n",
       "    </tr>\n",
       "    <tr>\n",
       "      <th>hits_at_1</th>\n",
       "      <td>0.035714</td>\n",
       "      <td>0.035714</td>\n",
       "      <td>0.035714</td>\n",
       "    </tr>\n",
       "    <tr>\n",
       "      <th>hits_at_3</th>\n",
       "      <td>0.108149</td>\n",
       "      <td>0.108149</td>\n",
       "      <td>0.108149</td>\n",
       "    </tr>\n",
       "    <tr>\n",
       "      <th>hits_at_5</th>\n",
       "      <td>0.146378</td>\n",
       "      <td>0.146378</td>\n",
       "      <td>0.146378</td>\n",
       "    </tr>\n",
       "    <tr>\n",
       "      <th>hits_at_10</th>\n",
       "      <td>0.221831</td>\n",
       "      <td>0.221328</td>\n",
       "      <td>0.220825</td>\n",
       "    </tr>\n",
       "  </tbody>\n",
       "</table>\n",
       "</div>"
      ],
      "text/plain": [
       "                            optimistic  realistic  pessimistic\n",
       "inverse_harmonic_mean_rank    0.103093   0.103014     0.102963\n",
       "hits_at_1                     0.035714   0.035714     0.035714\n",
       "hits_at_3                     0.108149   0.108149     0.108149\n",
       "hits_at_5                     0.146378   0.146378     0.146378\n",
       "hits_at_10                    0.221831   0.221328     0.220825"
      ]
     },
     "metadata": {},
     "output_type": "display_data"
    }
   ],
   "source": [
    "# validation\n",
    "show_metrics(valid_evaluator.evaluate(\n",
    "        model=model,\n",
    "        mapped_triples=dataset.inductive_validation.mapped_triples,\n",
    "        additional_filter_triples=[\n",
    "            # filtering of other positive triples\n",
    "            dataset.inductive_inference.mapped_triples\n",
    "        ],\n",
    "    ).to_dict())"
   ]
  },
  {
   "cell_type": "code",
   "execution_count": 11,
   "id": "98aaf677",
   "metadata": {},
   "outputs": [
    {
     "data": {
      "application/vnd.jupyter.widget-view+json": {
       "model_id": "8c347b3566fc413cb3d51a5b0725bb2d",
       "version_major": 2,
       "version_minor": 0
      },
      "text/plain": [
       "Evaluating on cpu:   0%|          | 0.00/1.26k [00:00<?, ?triple/s]"
      ]
     },
     "metadata": {},
     "output_type": "display_data"
    },
    {
     "name": "stdout",
     "output_type": "stream",
     "text": [
      "head\n"
     ]
    },
    {
     "data": {
      "text/html": [
       "<div>\n",
       "<style scoped>\n",
       "    .dataframe tbody tr th:only-of-type {\n",
       "        vertical-align: middle;\n",
       "    }\n",
       "\n",
       "    .dataframe tbody tr th {\n",
       "        vertical-align: top;\n",
       "    }\n",
       "\n",
       "    .dataframe thead th {\n",
       "        text-align: right;\n",
       "    }\n",
       "</style>\n",
       "<table border=\"1\" class=\"dataframe\">\n",
       "  <thead>\n",
       "    <tr style=\"text-align: right;\">\n",
       "      <th></th>\n",
       "      <th>optimistic</th>\n",
       "      <th>realistic</th>\n",
       "      <th>pessimistic</th>\n",
       "    </tr>\n",
       "  </thead>\n",
       "  <tbody>\n",
       "    <tr>\n",
       "      <th>inverse_harmonic_mean_rank</th>\n",
       "      <td>0.057384</td>\n",
       "      <td>0.056134</td>\n",
       "      <td>0.055482</td>\n",
       "    </tr>\n",
       "    <tr>\n",
       "      <th>hits_at_1</th>\n",
       "      <td>0.021344</td>\n",
       "      <td>0.018182</td>\n",
       "      <td>0.018182</td>\n",
       "    </tr>\n",
       "    <tr>\n",
       "      <th>hits_at_3</th>\n",
       "      <td>0.043478</td>\n",
       "      <td>0.043478</td>\n",
       "      <td>0.043478</td>\n",
       "    </tr>\n",
       "    <tr>\n",
       "      <th>hits_at_5</th>\n",
       "      <td>0.071937</td>\n",
       "      <td>0.071937</td>\n",
       "      <td>0.071937</td>\n",
       "    </tr>\n",
       "    <tr>\n",
       "      <th>hits_at_10</th>\n",
       "      <td>0.114625</td>\n",
       "      <td>0.114625</td>\n",
       "      <td>0.112253</td>\n",
       "    </tr>\n",
       "  </tbody>\n",
       "</table>\n",
       "</div>"
      ],
      "text/plain": [
       "                            optimistic  realistic  pessimistic\n",
       "inverse_harmonic_mean_rank    0.057384   0.056134     0.055482\n",
       "hits_at_1                     0.021344   0.018182     0.018182\n",
       "hits_at_3                     0.043478   0.043478     0.043478\n",
       "hits_at_5                     0.071937   0.071937     0.071937\n",
       "hits_at_10                    0.114625   0.114625     0.112253"
      ]
     },
     "metadata": {},
     "output_type": "display_data"
    },
    {
     "name": "stdout",
     "output_type": "stream",
     "text": [
      "tail\n"
     ]
    },
    {
     "data": {
      "text/html": [
       "<div>\n",
       "<style scoped>\n",
       "    .dataframe tbody tr th:only-of-type {\n",
       "        vertical-align: middle;\n",
       "    }\n",
       "\n",
       "    .dataframe tbody tr th {\n",
       "        vertical-align: top;\n",
       "    }\n",
       "\n",
       "    .dataframe thead th {\n",
       "        text-align: right;\n",
       "    }\n",
       "</style>\n",
       "<table border=\"1\" class=\"dataframe\">\n",
       "  <thead>\n",
       "    <tr style=\"text-align: right;\">\n",
       "      <th></th>\n",
       "      <th>optimistic</th>\n",
       "      <th>realistic</th>\n",
       "      <th>pessimistic</th>\n",
       "    </tr>\n",
       "  </thead>\n",
       "  <tbody>\n",
       "    <tr>\n",
       "      <th>inverse_harmonic_mean_rank</th>\n",
       "      <td>0.161670</td>\n",
       "      <td>0.161004</td>\n",
       "      <td>0.160633</td>\n",
       "    </tr>\n",
       "    <tr>\n",
       "      <th>hits_at_1</th>\n",
       "      <td>0.056126</td>\n",
       "      <td>0.054545</td>\n",
       "      <td>0.054545</td>\n",
       "    </tr>\n",
       "    <tr>\n",
       "      <th>hits_at_3</th>\n",
       "      <td>0.179447</td>\n",
       "      <td>0.179447</td>\n",
       "      <td>0.179447</td>\n",
       "    </tr>\n",
       "    <tr>\n",
       "      <th>hits_at_5</th>\n",
       "      <td>0.242688</td>\n",
       "      <td>0.242688</td>\n",
       "      <td>0.242688</td>\n",
       "    </tr>\n",
       "    <tr>\n",
       "      <th>hits_at_10</th>\n",
       "      <td>0.369170</td>\n",
       "      <td>0.366798</td>\n",
       "      <td>0.366798</td>\n",
       "    </tr>\n",
       "  </tbody>\n",
       "</table>\n",
       "</div>"
      ],
      "text/plain": [
       "                            optimistic  realistic  pessimistic\n",
       "inverse_harmonic_mean_rank    0.161670   0.161004     0.160633\n",
       "hits_at_1                     0.056126   0.054545     0.054545\n",
       "hits_at_3                     0.179447   0.179447     0.179447\n",
       "hits_at_5                     0.242688   0.242688     0.242688\n",
       "hits_at_10                    0.369170   0.366798     0.366798"
      ]
     },
     "metadata": {},
     "output_type": "display_data"
    },
    {
     "name": "stdout",
     "output_type": "stream",
     "text": [
      "both\n"
     ]
    },
    {
     "data": {
      "text/html": [
       "<div>\n",
       "<style scoped>\n",
       "    .dataframe tbody tr th:only-of-type {\n",
       "        vertical-align: middle;\n",
       "    }\n",
       "\n",
       "    .dataframe tbody tr th {\n",
       "        vertical-align: top;\n",
       "    }\n",
       "\n",
       "    .dataframe thead th {\n",
       "        text-align: right;\n",
       "    }\n",
       "</style>\n",
       "<table border=\"1\" class=\"dataframe\">\n",
       "  <thead>\n",
       "    <tr style=\"text-align: right;\">\n",
       "      <th></th>\n",
       "      <th>optimistic</th>\n",
       "      <th>realistic</th>\n",
       "      <th>pessimistic</th>\n",
       "    </tr>\n",
       "  </thead>\n",
       "  <tbody>\n",
       "    <tr>\n",
       "      <th>inverse_harmonic_mean_rank</th>\n",
       "      <td>0.109527</td>\n",
       "      <td>0.108569</td>\n",
       "      <td>0.108057</td>\n",
       "    </tr>\n",
       "    <tr>\n",
       "      <th>hits_at_1</th>\n",
       "      <td>0.038735</td>\n",
       "      <td>0.036364</td>\n",
       "      <td>0.036364</td>\n",
       "    </tr>\n",
       "    <tr>\n",
       "      <th>hits_at_3</th>\n",
       "      <td>0.111462</td>\n",
       "      <td>0.111462</td>\n",
       "      <td>0.111462</td>\n",
       "    </tr>\n",
       "    <tr>\n",
       "      <th>hits_at_5</th>\n",
       "      <td>0.157312</td>\n",
       "      <td>0.157312</td>\n",
       "      <td>0.157312</td>\n",
       "    </tr>\n",
       "    <tr>\n",
       "      <th>hits_at_10</th>\n",
       "      <td>0.241897</td>\n",
       "      <td>0.240711</td>\n",
       "      <td>0.239526</td>\n",
       "    </tr>\n",
       "  </tbody>\n",
       "</table>\n",
       "</div>"
      ],
      "text/plain": [
       "                            optimistic  realistic  pessimistic\n",
       "inverse_harmonic_mean_rank    0.109527   0.108569     0.108057\n",
       "hits_at_1                     0.038735   0.036364     0.036364\n",
       "hits_at_3                     0.111462   0.111462     0.111462\n",
       "hits_at_5                     0.157312   0.157312     0.157312\n",
       "hits_at_10                    0.241897   0.240711     0.239526"
      ]
     },
     "metadata": {},
     "output_type": "display_data"
    }
   ],
   "source": [
    "# result on the test set\n",
    "show_metrics(test_evaluator.evaluate(\n",
    "        model=model,\n",
    "        mapped_triples=dataset.inductive_testing.mapped_triples,\n",
    "        additional_filter_triples=[\n",
    "            # filtering of other positive triples\n",
    "            dataset.inductive_inference.mapped_triples,\n",
    "            dataset.inductive_validation.mapped_triples,\n",
    "        ],\n",
    "    ).to_dict())"
   ]
  },
  {
   "cell_type": "code",
   "execution_count": null,
   "id": "2cc0af62",
   "metadata": {},
   "outputs": [],
   "source": []
  }
 ],
 "metadata": {
  "kernelspec": {
   "display_name": "Python 3 (ipykernel)",
   "language": "python",
   "name": "python3"
  },
  "language_info": {
   "codemirror_mode": {
    "name": "ipython",
    "version": 3
   },
   "file_extension": ".py",
   "mimetype": "text/x-python",
   "name": "python",
   "nbconvert_exporter": "python",
   "pygments_lexer": "ipython3",
   "version": "3.9.16"
  }
 },
 "nbformat": 4,
 "nbformat_minor": 5
}
