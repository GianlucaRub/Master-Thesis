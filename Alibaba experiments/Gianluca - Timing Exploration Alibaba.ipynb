{
 "cells": [
  {
   "cell_type": "markdown",
   "id": "d0cc94a7",
   "metadata": {
    "pycharm": {
     "name": "#%% md\n"
    }
   },
   "source": [
    "In this notebook I am analyzing the response time of each call. I am considering only response time >0 (from UM sending a request to receiving a reply). This is what I found out:\n",
    "\n",
    "Mean response time per call (ms):  10.598351070199756  standard deviation (ms):  63.343039747865355\n",
    "\n",
    "Median response time per call (ms):  1.0\n",
    "\n",
    "However, it is important to say that response times <0 have been recorded as 0"
   ]
  },
  {
   "cell_type": "code",
   "execution_count": 1,
   "id": "43268d7c",
   "metadata": {
    "pycharm": {
     "name": "#%%\n"
    }
   },
   "outputs": [],
   "source": [
    "import tarfile\n",
    "import pandas as pd\n",
    "import numpy as np\n",
    "import os\n",
    "from statistics import mean,median,stdev\n",
    "import matplotlib.pyplot as plt"
   ]
  },
  {
   "cell_type": "code",
   "execution_count": 4,
   "id": "6ddefe0b",
   "metadata": {
    "pycharm": {
     "name": "#%%\n"
    }
   },
   "outputs": [
    {
     "data": {
      "text/html": [
       "<div>\n",
       "<style scoped>\n",
       "    .dataframe tbody tr th:only-of-type {\n",
       "        vertical-align: middle;\n",
       "    }\n",
       "\n",
       "    .dataframe tbody tr th {\n",
       "        vertical-align: top;\n",
       "    }\n",
       "\n",
       "    .dataframe thead th {\n",
       "        text-align: right;\n",
       "    }\n",
       "</style>\n",
       "<table border=\"1\" class=\"dataframe\">\n",
       "  <thead>\n",
       "    <tr style=\"text-align: right;\">\n",
       "      <th></th>\n",
       "      <th>rt</th>\n",
       "    </tr>\n",
       "  </thead>\n",
       "  <tbody>\n",
       "  </tbody>\n",
       "</table>\n",
       "</div>"
      ],
      "text/plain": [
       "Empty DataFrame\n",
       "Columns: [rt]\n",
       "Index: []"
      ]
     },
     "execution_count": 4,
     "metadata": {},
     "output_type": "execute_result"
    }
   ],
   "source": [
    "rt_df = pd.DataFrame(columns=['rt'])\n",
    "rt_df"
   ]
  },
  {
   "cell_type": "code",
   "execution_count": null,
   "id": "9f9e8d01",
   "metadata": {
    "pycharm": {
     "name": "#%%\n"
    }
   },
   "outputs": [
    {
     "name": "stderr",
     "output_type": "stream",
     "text": [
      "RT Analysis:  82%|████████▏ | 119/145 [18:16<04:54, 11.33s/it]C:\\Users\\gianl\\anaconda3\\envs\\MasterThesis\\lib\\site-packages\\joblib\\externals\\loky\\process_executor.py:700: UserWarning: A worker stopped while some jobs were given to the executor. This can be caused by a too short worker timeout or by a memory leak.\n",
      "  warnings.warn(\n",
      "RT Analysis: 100%|██████████| 145/145 [21:36<00:00,  7.05s/it]"
     ]
    }
   ],
   "source": [
    "from joblib import Parallel, delayed\n",
    "from tqdm import tqdm\n",
    "\n",
    "\n",
    "import contextlib\n",
    "import joblib\n",
    "\n",
    "@contextlib.contextmanager\n",
    "def tqdm_joblib(tqdm_object):\n",
    "    \"\"\"Context manager to patch joblib to report into tqdm progress bar given as argument\"\"\"\n",
    "    class TqdmBatchCompletionCallback(joblib.parallel.BatchCompletionCallBack):\n",
    "        def __call__(self, *args, **kwargs):\n",
    "            tqdm_object.update(n=self.batch_size)\n",
    "            return super().__call__(*args, **kwargs)\n",
    "\n",
    "    old_batch_callback = joblib.parallel.BatchCompletionCallBack\n",
    "    joblib.parallel.BatchCompletionCallBack = TqdmBatchCompletionCallback\n",
    "    try:\n",
    "        yield tqdm_object\n",
    "    finally:\n",
    "        joblib.parallel.BatchCompletionCallBack = old_batch_callback\n",
    "        tqdm_object.close()\n",
    "        \n",
    "def extract_rt(i):\n",
    "    to_skip = tuple([2,57,60,64,66,75,98,101,125,129,130,144]) # corrupted files\n",
    "    if to_skip.count(i) > 0:\n",
    "        return []\n",
    "    # open file\n",
    "    file = tarfile.open(f'MSCallGraph_{i}.tar.gz')\n",
    "\n",
    "    # extracting file\n",
    "    file.extractall('./')\n",
    "\n",
    "    file.close()\n",
    "    df = pd.read_csv(f'MSCallGraph_{i}.csv')\n",
    "    df=df.drop(['Unnamed: 0','timestamp','rpcid','interface','um','dm','rpctype','traceid'],axis=1)\n",
    "    df = df.replace('(?)', np.NaN)\n",
    "    df = df.replace('', np.NaN)\n",
    "    df = df.replace('NAN', np.NaN)\n",
    "    df = df.dropna()\n",
    "    df = df[df['rt']>=0]\n",
    "    \n",
    "    lista = list(df['rt'])\n",
    "    \n",
    "    os.remove(f'MSCallGraph_{i}.csv')\n",
    "    return lista\n",
    "\n",
    "with tqdm_joblib(tqdm(desc=\"RT Analysis\", total=145)) as progress_bar:\n",
    "    results = Parallel(n_jobs=-1)(delayed(extract_rt)(i) for i in range(0, 145))\n",
    "    for rt in results:\n",
    "        temp = pd.DataFrame(rt,columns=['rt'])\n",
    "        rt_df =  pd.concat([rt_df,temp])\n"
   ]
  },
  {
   "cell_type": "code",
   "execution_count": null,
   "id": "832cdd24",
   "metadata": {
    "pycharm": {
     "name": "#%%\n"
    }
   },
   "outputs": [],
   "source": [
    "# rt_df = pd.DataFrame(rt_list,columns=['rt'])\n",
    "rt_df"
   ]
  },
  {
   "cell_type": "code",
   "execution_count": null,
   "id": "9e78240e",
   "metadata": {
    "pycharm": {
     "name": "#%%\n"
    }
   },
   "outputs": [],
   "source": [
    "# rt_df.to_csv('MSCallGraph_rt.csv',index=False)"
   ]
  },
  {
   "cell_type": "code",
   "execution_count": 9,
   "id": "dbc7db63",
   "metadata": {
    "pycharm": {
     "name": "#%%\n"
    }
   },
   "outputs": [
    {
     "data": {
      "text/html": [
       "<div>\n",
       "<style scoped>\n",
       "    .dataframe tbody tr th:only-of-type {\n",
       "        vertical-align: middle;\n",
       "    }\n",
       "\n",
       "    .dataframe tbody tr th {\n",
       "        vertical-align: top;\n",
       "    }\n",
       "\n",
       "    .dataframe thead th {\n",
       "        text-align: right;\n",
       "    }\n",
       "</style>\n",
       "<table border=\"1\" class=\"dataframe\">\n",
       "  <thead>\n",
       "    <tr style=\"text-align: right;\">\n",
       "      <th></th>\n",
       "      <th>rt</th>\n",
       "    </tr>\n",
       "  </thead>\n",
       "  <tbody>\n",
       "    <tr>\n",
       "      <th>0</th>\n",
       "      <td>0</td>\n",
       "    </tr>\n",
       "    <tr>\n",
       "      <th>1</th>\n",
       "      <td>1</td>\n",
       "    </tr>\n",
       "    <tr>\n",
       "      <th>2</th>\n",
       "      <td>1</td>\n",
       "    </tr>\n",
       "    <tr>\n",
       "      <th>3</th>\n",
       "      <td>1</td>\n",
       "    </tr>\n",
       "    <tr>\n",
       "      <th>4</th>\n",
       "      <td>1</td>\n",
       "    </tr>\n",
       "    <tr>\n",
       "      <th>...</th>\n",
       "      <td>...</td>\n",
       "    </tr>\n",
       "    <tr>\n",
       "      <th>742496613</th>\n",
       "      <td>1</td>\n",
       "    </tr>\n",
       "    <tr>\n",
       "      <th>742496614</th>\n",
       "      <td>1</td>\n",
       "    </tr>\n",
       "    <tr>\n",
       "      <th>742496615</th>\n",
       "      <td>1</td>\n",
       "    </tr>\n",
       "    <tr>\n",
       "      <th>742496616</th>\n",
       "      <td>0</td>\n",
       "    </tr>\n",
       "    <tr>\n",
       "      <th>742496617</th>\n",
       "      <td>0</td>\n",
       "    </tr>\n",
       "  </tbody>\n",
       "</table>\n",
       "<p>742496618 rows × 1 columns</p>\n",
       "</div>"
      ],
      "text/plain": [
       "           rt\n",
       "0           0\n",
       "1           1\n",
       "2           1\n",
       "3           1\n",
       "4           1\n",
       "...        ..\n",
       "742496613   1\n",
       "742496614   1\n",
       "742496615   1\n",
       "742496616   0\n",
       "742496617   0\n",
       "\n",
       "[742496618 rows x 1 columns]"
      ]
     },
     "execution_count": 9,
     "metadata": {},
     "output_type": "execute_result"
    }
   ],
   "source": [
    "rt_df = pd.read_csv('MSCallGraph_rt.csv')\n",
    "rt_df"
   ]
  },
  {
   "cell_type": "code",
   "execution_count": 10,
   "id": "bc7b7eb1",
   "metadata": {
    "pycharm": {
     "name": "#%%\n"
    }
   },
   "outputs": [
    {
     "data": {
      "text/plain": [
       "rt    10.598351\n",
       "dtype: float64"
      ]
     },
     "execution_count": 10,
     "metadata": {},
     "output_type": "execute_result"
    }
   ],
   "source": [
    "rt_df.mean()"
   ]
  },
  {
   "cell_type": "code",
   "execution_count": 11,
   "id": "75732649",
   "metadata": {
    "pycharm": {
     "name": "#%%\n"
    }
   },
   "outputs": [],
   "source": [
    "rt_list = list(rt_df['rt'])"
   ]
  },
  {
   "cell_type": "code",
   "execution_count": 12,
   "id": "5e841257",
   "metadata": {
    "pycharm": {
     "name": "#%%\n"
    }
   },
   "outputs": [
    {
     "name": "stdout",
     "output_type": "stream",
     "text": [
      "Mean response time per call (ms):  10.598351070199756  standard deviation (ms):  63.343039747865355\n",
      "Median response time per call (ms):  1.0\n"
     ]
    }
   ],
   "source": [
    "print(\"Mean response time per call (ms): \", mean(rt_list), \" standard deviation (ms): \", stdev(rt_list))\n",
    "print(\"Median response time per call (ms): \", median(rt_list))"
   ]
  },
  {
   "cell_type": "code",
   "execution_count": 13,
   "id": "4500d3eb",
   "metadata": {
    "scrolled": true,
    "pycharm": {
     "name": "#%%\n"
    }
   },
   "outputs": [
    {
     "data": {
      "image/png": "[encoded data removed]",
      "text/plain": [
       "<Figure size 432x288 with 1 Axes>"
      ]
     },
     "metadata": {
      "needs_background": "light"
     },
     "output_type": "display_data"
    }
   ],
   "source": [
    "plt.hist(rt_list,bins=50)\n",
    "# Set the labels and title\n",
    "plt.xlabel('Value')\n",
    "plt.ylabel('Frequency')\n",
    "plt.title('Response time per call (ms)')\n",
    "\n",
    "# Show the plot\n",
    "plt.show()"
   ]
  },
  {
   "cell_type": "code",
   "execution_count": 14,
   "id": "677aba20",
   "metadata": {
    "pycharm": {
     "name": "#%%\n"
    }
   },
   "outputs": [
    {
     "data": {
      "image/png": "[encoded data removed]",
      "text/plain": [
       "<Figure size 432x288 with 1 Axes>"
      ]
     },
     "metadata": {
      "needs_background": "light"
     },
     "output_type": "display_data"
    }
   ],
   "source": [
    "plt.hist(np.log(np.array(rt_list)+1),bins=50)\n",
    "# Set the labels and title\n",
    "plt.xlabel('Value')\n",
    "plt.ylabel('Frequency')\n",
    "plt.title('Log response time per call (ms)')\n",
    "\n",
    "# Show the plot\n",
    "plt.show()"
   ]
  },
  {
   "cell_type": "code",
   "execution_count": 15,
   "id": "f9424f30",
   "metadata": {
    "pycharm": {
     "name": "#%%\n"
    }
   },
   "outputs": [
    {
     "data": {
      "image/png": "[encoded data removed]",
      "text/plain": [
       "<Figure size 432x288 with 1 Axes>"
      ]
     },
     "metadata": {
      "needs_background": "light"
     },
     "output_type": "display_data"
    }
   ],
   "source": [
    "plt.hist(np.log(np.log(np.array(rt_list)+1)+1),bins=50)\n",
    "# Set the labels and title\n",
    "plt.xlabel('Value')\n",
    "plt.ylabel('Frequency')\n",
    "plt.title('Log log response time per call (ms)')\n",
    "\n",
    "# Show the plot\n",
    "plt.show()"
   ]
  }
 ],
 "metadata": {
  "kernelspec": {
   "display_name": "Python 3 (ipykernel)",
   "language": "python",
   "name": "python3"
  },
  "language_info": {
   "codemirror_mode": {
    "name": "ipython",
    "version": 3
   },
   "file_extension": ".py",
   "mimetype": "text/x-python",
   "name": "python",
   "nbconvert_exporter": "python",
   "pygments_lexer": "ipython3",
   "version": "3.9.16"
  }
 },
 "nbformat": 4,
 "nbformat_minor": 5
}